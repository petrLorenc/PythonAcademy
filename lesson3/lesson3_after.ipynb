{
 "nbformat": 4,
 "nbformat_minor": 0,
 "metadata": {
  "kernelspec": {
   "display_name": "Python 3",
   "language": "python",
   "name": "python3"
  },
  "language_info": {
   "codemirror_mode": {
    "name": "ipython",
    "version": 2
   },
   "file_extension": ".py",
   "mimetype": "text/x-python",
   "name": "python",
   "nbconvert_exporter": "python",
   "pygments_lexer": "ipython2",
   "version": "2.7.6"
  },
  "colab": {
   "name": "lesson3.ipynb",
   "provenance": []
  }
 },
 "cells": [
  {
   "cell_type": "markdown",
   "metadata": {
    "collapsed": true,
    "pycharm": {
     "name": "#%% md\n"
    },
    "id": "AvZU35tjDRJY",
    "colab_type": "text"
   },
   "source": [
    "# Lesson 3\n",
    "\n",
    "### Dict\n",
    "\n",
    "Creating dictionary is simple:"
   ]
  },
  {
   "cell_type": "code",
   "metadata": {
    "pycharm": {
     "name": "#%%\n"
    },
    "id": "Z6rZee0RDRJZ",
    "colab_type": "code",
    "colab": {
     "base_uri": "https://localhost:8080/",
     "height": 34
    },
    "outputId": "53996cda-e614-4ca0-c02b-36c43f82fec4"
   },
   "source": [
    "d1 = dict()\n",
    "d1"
   ],
   "execution_count": 1,
   "outputs": [
    {
     "data": {
      "text/plain": "{}"
     },
     "execution_count": 1,
     "metadata": {},
     "output_type": "execute_result"
    }
   ]
  },
  {
   "cell_type": "code",
   "metadata": {
    "pycharm": {
     "name": "#%%\n"
    },
    "id": "PADo29-HDRJe",
    "colab_type": "code",
    "colab": {
     "base_uri": "https://localhost:8080/",
     "height": 34
    },
    "outputId": "fb8aa35c-dc6f-4398-cea9-3bbbfa5decfd"
   },
   "source": [
    "d2 = {}\n",
    "d2"
   ],
   "execution_count": 2,
   "outputs": [
    {
     "data": {
      "text/plain": "{}"
     },
     "execution_count": 2,
     "metadata": {},
     "output_type": "execute_result"
    }
   ]
  },
  {
   "cell_type": "code",
   "metadata": {
    "pycharm": {
     "name": "#%%\n"
    },
    "id": "VQq5pwGADRJh",
    "colab_type": "code",
    "colab": {
     "base_uri": "https://localhost:8080/",
     "height": 34
    },
    "outputId": "3ce0db55-dcac-4405-b233-edd3c59cbc6e"
   },
   "source": [
    "d3 = {'First_Name': 'John','Last_Name': 'Smith','Age':56}\n",
    "d3"
   ],
   "execution_count": 3,
   "outputs": [
    {
     "data": {
      "text/plain": "{'First_Name': 'John', 'Last_Name': 'Smith', 'Age': 56}"
     },
     "execution_count": 3,
     "metadata": {},
     "output_type": "execute_result"
    }
   ]
  },
  {
   "cell_type": "code",
   "metadata": {
    "pycharm": {
     "name": "#%%\n"
    },
    "id": "p--bGKEODRJk",
    "colab_type": "code",
    "colab": {
     "base_uri": "https://localhost:8080/",
     "height": 34
    },
    "outputId": "85b81088-7719-48c7-e0b1-9915ace08742"
   },
   "source": [
    "d4 = dict(First_Name= 'John',Last_Name= 'Smith',Age=56)\n",
    "d4"
   ],
   "execution_count": 4,
   "outputs": [
    {
     "data": {
      "text/plain": "{'First_Name': 'John', 'Last_Name': 'Smith', 'Age': 56}"
     },
     "execution_count": 4,
     "metadata": {},
     "output_type": "execute_result"
    }
   ]
  },
  {
   "cell_type": "markdown",
   "metadata": {
    "collapsed": false,
    "pycharm": {
     "name": "#%% md\n"
    },
    "id": "aihowVnnDRJn",
    "colab_type": "text"
   },
   "source": [
    "But what that dictionary really is and what is his usage?\n",
    "* Tight relationship with JSON which is used almost everywhere:\n",
    "  * API (for example https://swapi.dev/)\n",
    "  * Database\n"
   ]
  },
  {
   "cell_type": "code",
   "metadata": {
    "pycharm": {
     "name": "#%%\n"
    },
    "id": "r17qi--JDRJn",
    "colab_type": "code",
    "colab": {
     "base_uri": "https://localhost:8080/",
     "height": 689
    },
    "outputId": "b09f7dd1-ddad-4e14-e622-ddd4d9a711f4"
   },
   "source": [
    "dir(d4)"
   ],
   "execution_count": 5,
   "outputs": [
    {
     "data": {
      "text/plain": "['__class__',\n '__contains__',\n '__delattr__',\n '__delitem__',\n '__dir__',\n '__doc__',\n '__eq__',\n '__format__',\n '__ge__',\n '__getattribute__',\n '__getitem__',\n '__gt__',\n '__hash__',\n '__init__',\n '__init_subclass__',\n '__iter__',\n '__le__',\n '__len__',\n '__lt__',\n '__ne__',\n '__new__',\n '__reduce__',\n '__reduce_ex__',\n '__repr__',\n '__setattr__',\n '__setitem__',\n '__sizeof__',\n '__str__',\n '__subclasshook__',\n 'clear',\n 'copy',\n 'fromkeys',\n 'get',\n 'items',\n 'keys',\n 'pop',\n 'popitem',\n 'setdefault',\n 'update',\n 'values']"
     },
     "execution_count": 5,
     "metadata": {},
     "output_type": "execute_result"
    }
   ]
  },
  {
   "cell_type": "code",
   "metadata": {
    "pycharm": {
     "name": "#%%\n"
    },
    "id": "U0dpH_s_DRJp",
    "colab_type": "code",
    "colab": {
     "base_uri": "https://localhost:8080/",
     "height": 34
    },
    "outputId": "6d7d5dce-5420-486c-beb9-0112b19669c4"
   },
   "source": [
    "# create view (it is not the same as list - cannot index values)\n",
    "d4.keys()"
   ],
   "execution_count": 6,
   "outputs": [
    {
     "data": {
      "text/plain": "dict_keys(['First_Name', 'Last_Name', 'Age'])"
     },
     "execution_count": 6,
     "metadata": {},
     "output_type": "execute_result"
    }
   ]
  },
  {
   "cell_type": "code",
   "metadata": {
    "pycharm": {
     "name": "#%%\n"
    },
    "id": "aMkubAccDRJs",
    "colab_type": "code",
    "colab": {
     "base_uri": "https://localhost:8080/",
     "height": 162
    },
    "outputId": "29cae37c-27b2-446e-cba2-f539e1fac84f"
   },
   "source": [
    "print \"\"\n",
    "d4.get(d4.keys()[0])"
   ],
   "execution_count": 7,
   "outputs": [
    {
     "ename": "SyntaxError",
     "evalue": "Missing parentheses in call to 'print'. Did you mean print(\"\")? (<ipython-input-7-eb97e0bb4dd7>, line 1)",
     "output_type": "error",
     "traceback": [
      "\u001B[0;36m  File \u001B[0;32m\"<ipython-input-7-eb97e0bb4dd7>\"\u001B[0;36m, line \u001B[0;32m1\u001B[0m\n\u001B[0;31m    print \"\"\u001B[0m\n\u001B[0m           ^\u001B[0m\n\u001B[0;31mSyntaxError\u001B[0m\u001B[0;31m:\u001B[0m Missing parentheses in call to 'print'. Did you mean print(\"\")?\n"
     ]
    }
   ]
  },
  {
   "cell_type": "code",
   "metadata": {
    "id": "c-dtrRPjKqDP",
    "colab_type": "code",
    "colab": {
     "base_uri": "https://localhost:8080/",
     "height": 34
    },
    "outputId": "5b12d4dd-f1f8-47b8-afc4-88e72ec7abd0"
   },
   "source": [
    "d4.keys()"
   ],
   "execution_count": 8,
   "outputs": [
    {
     "data": {
      "text/plain": "dict_keys(['First_Name', 'Last_Name', 'Age'])"
     },
     "execution_count": 8,
     "metadata": {},
     "output_type": "execute_result"
    }
   ]
  },
  {
   "cell_type": "code",
   "metadata": {
    "id": "NnicwPwSK_Qf",
    "colab_type": "code",
    "colab": {
     "base_uri": "https://localhost:8080/",
     "height": 34
    },
    "outputId": "f5a3dd65-bc2f-4cfb-b15c-b7e6dc59afcf"
   },
   "source": [
    "d4.keys()"
   ],
   "execution_count": 9,
   "outputs": [
    {
     "data": {
      "text/plain": "dict_keys(['First_Name', 'Last_Name', 'Age'])"
     },
     "execution_count": 9,
     "metadata": {},
     "output_type": "execute_result"
    }
   ]
  },
  {
   "cell_type": "code",
   "metadata": {
    "pycharm": {
     "name": "#%%\n"
    },
    "id": "gkfgTeNkDRJu",
    "colab_type": "code",
    "colab": {
     "base_uri": "https://localhost:8080/",
     "height": 35
    },
    "outputId": "3716d943-632a-4ff7-9190-279910e984c6"
   },
   "source": [
    "d4.get(list(d4.keys())[0])"
   ],
   "execution_count": 10,
   "outputs": [
    {
     "data": {
      "text/plain": "'John'"
     },
     "execution_count": 10,
     "metadata": {},
     "output_type": "execute_result"
    }
   ]
  },
  {
   "cell_type": "code",
   "metadata": {
    "id": "E3PbPMOSLuEO",
    "colab_type": "code",
    "colab": {
     "base_uri": "https://localhost:8080/",
     "height": 35
    },
    "outputId": "2a6cc64e-9e07-479c-9420-6385a846e763"
   },
   "source": [
    "d4[\"Age\"]"
   ],
   "execution_count": 11,
   "outputs": [
    {
     "data": {
      "text/plain": "56"
     },
     "execution_count": 11,
     "metadata": {},
     "output_type": "execute_result"
    }
   ]
  },
  {
   "cell_type": "markdown",
   "metadata": {
    "collapsed": false,
    "pycharm": {
     "name": "#%% md\n"
    },
    "id": "Eo-vRWHPDRJw",
    "colab_type": "text"
   },
   "source": [
    "\n",
    "\n",
    "\n",
    "\n"
   ]
  },
  {
   "cell_type": "code",
   "metadata": {
    "id": "XXKaCyMsOCuR",
    "colab_type": "code",
    "colab": {
     "base_uri": "https://localhost:8080/",
     "height": 35
    },
    "outputId": "5565de9d-eefa-44dd-819d-6ab01e284aa8"
   },
   "source": [
    "a = [1,2,3]\n",
    "1 in a"
   ],
   "execution_count": 12,
   "outputs": [
    {
     "data": {
      "text/plain": "True"
     },
     "execution_count": 12,
     "metadata": {},
     "output_type": "execute_result"
    }
   ]
  },
  {
   "cell_type": "code",
   "metadata": {
    "pycharm": {
     "name": "#%%\n"
    },
    "id": "bZQRfDlyDRJw",
    "colab_type": "code",
    "colab": {
     "base_uri": "https://localhost:8080/",
     "height": 166
    },
    "outputId": "f3c99981-09d5-4e30-88f1-86e354319301"
   },
   "source": [
    "d5 = {[1,2]: \"a\"}"
   ],
   "execution_count": 13,
   "outputs": [
    {
     "ename": "TypeError",
     "evalue": "unhashable type: 'list'",
     "output_type": "error",
     "traceback": [
      "\u001B[0;31m---------------------------------------------------------------------------\u001B[0m",
      "\u001B[0;31mTypeError\u001B[0m                                 Traceback (most recent call last)",
      "\u001B[0;32m<ipython-input-13-650104553652>\u001B[0m in \u001B[0;36m<module>\u001B[0;34m\u001B[0m\n\u001B[0;32m----> 1\u001B[0;31m \u001B[0md5\u001B[0m \u001B[0;34m=\u001B[0m \u001B[0;34m{\u001B[0m\u001B[0;34m[\u001B[0m\u001B[0;36m1\u001B[0m\u001B[0;34m,\u001B[0m\u001B[0;36m2\u001B[0m\u001B[0;34m]\u001B[0m\u001B[0;34m:\u001B[0m \u001B[0;34m\"a\"\u001B[0m\u001B[0;34m}\u001B[0m\u001B[0;34m\u001B[0m\u001B[0;34m\u001B[0m\u001B[0m\n\u001B[0m\u001B[1;32m      2\u001B[0m \u001B[0;34m\u001B[0m\u001B[0m\n",
      "\u001B[0;31mTypeError\u001B[0m: unhashable type: 'list'"
     ]
    }
   ]
  },
  {
   "cell_type": "code",
   "metadata": {
    "pycharm": {
     "name": "#%%\n"
    },
    "id": "FMd6glrZDRJy",
    "colab_type": "code",
    "colab": {
     "base_uri": "https://localhost:8080/",
     "height": 35
    },
    "outputId": "f41a3900-c7e4-4f5e-8e15-102591ca08c4"
   },
   "source": [
    "d5 = {(1,2): \"a\", \"a\": 3}\n",
    "x = \"a\"\n",
    "d5.get(x, 4)\n",
    "\n",
    "if x in d5:\n",
    "  print(d5.get(x))\n",
    "else:\n",
    "  print(4)\n",
    "\n"
   ],
   "execution_count": 14,
   "outputs": [
    {
     "name": "stdout",
     "output_type": "stream",
     "text": [
      "3\n"
     ]
    }
   ]
  },
  {
   "cell_type": "markdown",
   "metadata": {
    "id": "NctDaoK4Ev3c",
    "colab_type": "text"
   },
   "source": [
    "# ?\n",
    "\n",
    "\n",
    "\n"
   ]
  },
  {
   "cell_type": "markdown",
   "metadata": {
    "id": "LaCYzZnVE-mH",
    "colab_type": "text"
   },
   "source": [
    "Remember that some type of variables are immutable/unhasable and some not?\n"
   ]
  },
  {
   "cell_type": "code",
   "metadata": {
    "pycharm": {
     "name": "#%%\n"
    },
    "id": "T4BPRcqpDRJ0",
    "colab_type": "code",
    "colab": {}
   },
   "source": [
    "d5[(1,2)]"
   ],
   "execution_count": 15,
   "outputs": [
    {
     "data": {
      "text/plain": "'a'"
     },
     "execution_count": 15,
     "metadata": {},
     "output_type": "execute_result"
    }
   ]
  },
  {
   "cell_type": "code",
   "metadata": {
    "pycharm": {
     "name": "#%%\n"
    },
    "id": "meLZrqyQDRJ2",
    "colab_type": "code",
    "colab": {}
   },
   "source": [
    "d6 = dict([1,1])"
   ],
   "execution_count": 16,
   "outputs": [
    {
     "ename": "TypeError",
     "evalue": "cannot convert dictionary update sequence element #0 to a sequence",
     "output_type": "error",
     "traceback": [
      "\u001B[0;31m---------------------------------------------------------------------------\u001B[0m",
      "\u001B[0;31mTypeError\u001B[0m                                 Traceback (most recent call last)",
      "\u001B[0;32m<ipython-input-16-4cffd8616908>\u001B[0m in \u001B[0;36m<module>\u001B[0;34m\u001B[0m\n\u001B[0;32m----> 1\u001B[0;31m \u001B[0md6\u001B[0m \u001B[0;34m=\u001B[0m \u001B[0mdict\u001B[0m\u001B[0;34m(\u001B[0m\u001B[0;34m[\u001B[0m\u001B[0;36m1\u001B[0m\u001B[0;34m,\u001B[0m\u001B[0;36m1\u001B[0m\u001B[0;34m]\u001B[0m\u001B[0;34m)\u001B[0m\u001B[0;34m\u001B[0m\u001B[0;34m\u001B[0m\u001B[0m\n\u001B[0m\u001B[1;32m      2\u001B[0m \u001B[0;34m\u001B[0m\u001B[0m\n",
      "\u001B[0;31mTypeError\u001B[0m: cannot convert dictionary update sequence element #0 to a sequence"
     ]
    }
   ]
  },
  {
   "cell_type": "markdown",
   "metadata": {
    "collapsed": false,
    "pycharm": {
     "name": "#%% md\n"
    },
    "id": "WxBzNyvoDRJ4",
    "colab_type": "text"
   },
   "source": [
    "List ['a','b','c'] is mutable.\n",
    "Tuple ('a','b','c') is not mutable.\n",
    "\n",
    "While reading python documentation, you may encounter a word hashable or unhashable. Hashable is a synonym to immutable and unhashable is a synonym to mutable - object that can be changed."
   ]
  },
  {
   "cell_type": "code",
   "metadata": {
    "pycharm": {
     "name": "#%%\n"
    },
    "id": "X06wBLUXDRJ4",
    "colab_type": "code",
    "colab": {
     "base_uri": "https://localhost:8080/",
     "height": 35
    },
    "outputId": "055ea463-fba3-4a49-da37-df4faf8439f2"
   },
   "source": [
    "#is HASHable ??\n",
    "hash(1)"
   ],
   "execution_count": 17,
   "outputs": [
    {
     "data": {
      "text/plain": "1"
     },
     "execution_count": 17,
     "metadata": {},
     "output_type": "execute_result"
    }
   ]
  },
  {
   "cell_type": "code",
   "metadata": {
    "pycharm": {
     "name": "#%%\n"
    },
    "id": "coGFEE04DRJ6",
    "colab_type": "code",
    "colab": {
     "base_uri": "https://localhost:8080/",
     "height": 35
    },
    "outputId": "f647e7de-e8d7-475b-db6a-8f81135e2a1e"
   },
   "source": [
    "hash((1,))"
   ],
   "execution_count": 18,
   "outputs": [
    {
     "data": {
      "text/plain": "3430019387558"
     },
     "execution_count": 18,
     "metadata": {},
     "output_type": "execute_result"
    }
   ]
  },
  {
   "cell_type": "code",
   "metadata": {
    "pycharm": {
     "name": "#%%\n"
    },
    "id": "0LaoWUcqDRJ8",
    "colab_type": "code",
    "colab": {
     "base_uri": "https://localhost:8080/",
     "height": 166
    },
    "outputId": "7319ca61-1e40-442c-cd34-2a0b36e3a4ed"
   },
   "source": [
    "hash([1])"
   ],
   "execution_count": 19,
   "outputs": [
    {
     "ename": "TypeError",
     "evalue": "unhashable type: 'list'",
     "output_type": "error",
     "traceback": [
      "\u001B[0;31m---------------------------------------------------------------------------\u001B[0m",
      "\u001B[0;31mTypeError\u001B[0m                                 Traceback (most recent call last)",
      "\u001B[0;32m<ipython-input-19-7db463b4075c>\u001B[0m in \u001B[0;36m<module>\u001B[0;34m\u001B[0m\n\u001B[0;32m----> 1\u001B[0;31m \u001B[0mhash\u001B[0m\u001B[0;34m(\u001B[0m\u001B[0;34m[\u001B[0m\u001B[0;36m1\u001B[0m\u001B[0;34m]\u001B[0m\u001B[0;34m)\u001B[0m\u001B[0;34m\u001B[0m\u001B[0;34m\u001B[0m\u001B[0m\n\u001B[0m\u001B[1;32m      2\u001B[0m \u001B[0;34m\u001B[0m\u001B[0m\n",
      "\u001B[0;31mTypeError\u001B[0m: unhashable type: 'list'"
     ]
    }
   ]
  },
  {
   "cell_type": "markdown",
   "metadata": {
    "collapsed": false,
    "pycharm": {
     "name": "#%% md\n"
    },
    "id": "qLn-asVKDRJ-",
    "colab_type": "text"
   },
   "source": [
    "Later we will create a function to test if type is hashable/immutable without raising an error."
   ]
  },
  {
   "cell_type": "code",
   "metadata": {
    "id": "tn568_pIPtWq",
    "colab_type": "code",
    "colab": {
     "base_uri": "https://localhost:8080/",
     "height": 35
    },
    "outputId": "a0409ce1-15aa-4010-8d00-a740bdcabb3e"
   },
   "source": [
    "d4"
   ],
   "execution_count": 20,
   "outputs": [
    {
     "data": {
      "text/plain": "{'First_Name': 'John', 'Last_Name': 'Smith', 'Age': 56}"
     },
     "execution_count": 20,
     "metadata": {},
     "output_type": "execute_result"
    }
   ]
  },
  {
   "cell_type": "code",
   "metadata": {
    "pycharm": {
     "name": "#%%\n"
    },
    "id": "i2KvaiAjDRJ-",
    "colab_type": "code",
    "colab": {
     "base_uri": "https://localhost:8080/",
     "height": 35
    },
    "outputId": "701284af-4717-42d0-c15d-5c6e2fbc5ea7"
   },
   "source": [
    "# same as .keys()\n",
    "d4.values()"
   ],
   "execution_count": 21,
   "outputs": [
    {
     "data": {
      "text/plain": "dict_values(['John', 'Smith', 56])"
     },
     "execution_count": 21,
     "metadata": {},
     "output_type": "execute_result"
    }
   ]
  },
  {
   "cell_type": "code",
   "metadata": {
    "pycharm": {
     "name": "#%%\n"
    },
    "id": "S-9UBt1ODRKB",
    "colab_type": "code",
    "colab": {
     "base_uri": "https://localhost:8080/",
     "height": 166
    },
    "outputId": "53868101-ffaa-4b05-8804-33a3cd207436"
   },
   "source": [
    "d4.values()[0]"
   ],
   "execution_count": 22,
   "outputs": [
    {
     "ename": "TypeError",
     "evalue": "'dict_values' object does not support indexing",
     "output_type": "error",
     "traceback": [
      "\u001B[0;31m---------------------------------------------------------------------------\u001B[0m",
      "\u001B[0;31mTypeError\u001B[0m                                 Traceback (most recent call last)",
      "\u001B[0;32m<ipython-input-22-5683827e7eaf>\u001B[0m in \u001B[0;36m<module>\u001B[0;34m\u001B[0m\n\u001B[0;32m----> 1\u001B[0;31m \u001B[0md4\u001B[0m\u001B[0;34m.\u001B[0m\u001B[0mvalues\u001B[0m\u001B[0;34m(\u001B[0m\u001B[0;34m)\u001B[0m\u001B[0;34m[\u001B[0m\u001B[0;36m0\u001B[0m\u001B[0;34m]\u001B[0m\u001B[0;34m\u001B[0m\u001B[0;34m\u001B[0m\u001B[0m\n\u001B[0m\u001B[1;32m      2\u001B[0m \u001B[0;34m\u001B[0m\u001B[0m\n",
      "\u001B[0;31mTypeError\u001B[0m: 'dict_values' object does not support indexing"
     ]
    }
   ]
  },
  {
   "cell_type": "code",
   "metadata": {
    "pycharm": {
     "name": "#%%\n"
    },
    "id": "xdAGvusEDRKD",
    "colab_type": "code",
    "colab": {
     "base_uri": "https://localhost:8080/",
     "height": 451
    },
    "outputId": "95c8ddea-0843-41e9-f945-9b782049f68f"
   },
   "source": [
    "#does not have __getitem__ but habe __hash__\n",
    "dir(d4.values())"
   ],
   "execution_count": 23,
   "outputs": [
    {
     "data": {
      "text/plain": "['__class__',\n '__delattr__',\n '__dir__',\n '__doc__',\n '__eq__',\n '__format__',\n '__ge__',\n '__getattribute__',\n '__gt__',\n '__hash__',\n '__init__',\n '__init_subclass__',\n '__iter__',\n '__le__',\n '__len__',\n '__lt__',\n '__ne__',\n '__new__',\n '__reduce__',\n '__reduce_ex__',\n '__repr__',\n '__setattr__',\n '__sizeof__',\n '__str__',\n '__subclasshook__']"
     },
     "execution_count": 23,
     "metadata": {},
     "output_type": "execute_result"
    }
   ]
  },
  {
   "cell_type": "code",
   "metadata": {
    "pycharm": {
     "name": "#%%\n"
    },
    "id": "0q_h1rQVDRKF",
    "colab_type": "code",
    "colab": {}
   },
   "source": [
    "d5 = {d4.values(): \"1\"}"
   ],
   "execution_count": 24,
   "outputs": []
  },
  {
   "cell_type": "code",
   "metadata": {
    "pycharm": {
     "name": "#%%\n"
    },
    "id": "gOgOL0CdDRKH",
    "colab_type": "code",
    "colab": {
     "base_uri": "https://localhost:8080/",
     "height": 35
    },
    "outputId": "2da9e3a4-7d57-4675-d80e-148ee15ba727"
   },
   "source": [
    "# For example counter of how many same records are in database\n",
    "d5"
   ],
   "execution_count": 25,
   "outputs": [
    {
     "data": {
      "text/plain": "{dict_values(['John', 'Smith', 56]): '1'}"
     },
     "execution_count": 25,
     "metadata": {},
     "output_type": "execute_result"
    }
   ]
  },
  {
   "cell_type": "code",
   "metadata": {
    "pycharm": {
     "name": "#%%\n"
    },
    "id": "oKsVzz2sDRKJ",
    "colab_type": "code",
    "colab": {
     "base_uri": "https://localhost:8080/",
     "height": 35
    },
    "outputId": "42b0fdaf-24c8-41db-ad81-cb5d6b05a245"
   },
   "source": [
    "my_dict = {'volume' : [3,4,7],'surface': [3,4], 10: [3,4,7]}\n",
    "my_dict[10]"
   ],
   "execution_count": 26,
   "outputs": [
    {
     "data": {
      "text/plain": "[3, 4, 7]"
     },
     "execution_count": 26,
     "metadata": {},
     "output_type": "execute_result"
    }
   ]
  },
  {
   "cell_type": "code",
   "metadata": {
    "pycharm": {
     "name": "#%%\n"
    },
    "id": "0aYGFR7zDRKK",
    "colab_type": "code",
    "colab": {
     "base_uri": "https://localhost:8080/",
     "height": 35
    },
    "outputId": "7c727755-5212-498b-a047-88aa5ba8aa94"
   },
   "source": [
    "d6 = {1:\"first\" , 1: \"one\", 1:3}\n",
    "d6[1]"
   ],
   "execution_count": 27,
   "outputs": [
    {
     "data": {
      "text/plain": "3"
     },
     "execution_count": 27,
     "metadata": {},
     "output_type": "execute_result"
    }
   ]
  },
  {
   "cell_type": "markdown",
   "metadata": {
    "collapsed": false,
    "pycharm": {
     "name": "#%% md\n"
    },
    "id": "fxXvClU8DRKM",
    "colab_type": "text"
   },
   "source": [
    "Some other way how to create dictionaries"
   ]
  },
  {
   "cell_type": "code",
   "metadata": {
    "pycharm": {
     "name": "#%%\n"
    },
    "id": "1b0bJ2DkDRKM",
    "colab_type": "code",
    "colab": {
     "base_uri": "https://localhost:8080/",
     "height": 35
    },
    "outputId": "3be41303-1db5-4fe4-fbbb-1d28ebd366f1"
   },
   "source": [
    "dict(((1,(2,1)),(3,4),(5,6)))"
   ],
   "execution_count": 28,
   "outputs": [
    {
     "data": {
      "text/plain": "{1: (2, 1), 3: 4, 5: 6}"
     },
     "execution_count": 28,
     "metadata": {},
     "output_type": "execute_result"
    }
   ]
  },
  {
   "cell_type": "code",
   "metadata": {
    "pycharm": {
     "name": "#%%\n"
    },
    "id": "SfX9Xvs_DRKO",
    "colab_type": "code",
    "colab": {
     "base_uri": "https://localhost:8080/",
     "height": 35
    },
    "outputId": "924e3ef3-490e-402c-a002-2e96f927abfc"
   },
   "source": [
    "dict([[1,[2]]])"
   ],
   "execution_count": 29,
   "outputs": [
    {
     "data": {
      "text/plain": "{1: [2]}"
     },
     "execution_count": 29,
     "metadata": {},
     "output_type": "execute_result"
    }
   ]
  },
  {
   "cell_type": "code",
   "metadata": {
    "pycharm": {
     "name": "#%%\n"
    },
    "id": "iKrBMKifDRKQ",
    "colab_type": "code",
    "colab": {
     "base_uri": "https://localhost:8080/",
     "height": 166
    },
    "outputId": "29dcc683-5e96-46c8-d8ef-ba52749acc20"
   },
   "source": [
    "dict([1,2,3])\n"
   ],
   "execution_count": 30,
   "outputs": [
    {
     "ename": "TypeError",
     "evalue": "cannot convert dictionary update sequence element #0 to a sequence",
     "output_type": "error",
     "traceback": [
      "\u001B[0;31m---------------------------------------------------------------------------\u001B[0m",
      "\u001B[0;31mTypeError\u001B[0m                                 Traceback (most recent call last)",
      "\u001B[0;32m<ipython-input-30-65f300211a96>\u001B[0m in \u001B[0;36m<module>\u001B[0;34m\u001B[0m\n\u001B[0;32m----> 1\u001B[0;31m \u001B[0mdict\u001B[0m\u001B[0;34m(\u001B[0m\u001B[0;34m[\u001B[0m\u001B[0;36m1\u001B[0m\u001B[0;34m,\u001B[0m\u001B[0;36m2\u001B[0m\u001B[0;34m,\u001B[0m\u001B[0;36m3\u001B[0m\u001B[0;34m]\u001B[0m\u001B[0;34m)\u001B[0m\u001B[0;34m\u001B[0m\u001B[0;34m\u001B[0m\u001B[0m\n\u001B[0m\u001B[1;32m      2\u001B[0m \u001B[0;34m\u001B[0m\u001B[0m\n\u001B[1;32m      3\u001B[0m \u001B[0;34m\u001B[0m\u001B[0m\n",
      "\u001B[0;31mTypeError\u001B[0m: cannot convert dictionary update sequence element #0 to a sequence"
     ]
    }
   ]
  },
  {
   "cell_type": "code",
   "metadata": {
    "pycharm": {
     "name": "#%%\n"
    },
    "id": "iHy8156KDRKR",
    "colab_type": "code",
    "colab": {
     "base_uri": "https://localhost:8080/",
     "height": 35
    },
    "outputId": "0109b948-60c2-4b31-f21c-beaf54599530"
   },
   "source": [
    "dict([[1,[2,3,4]]])"
   ],
   "execution_count": 31,
   "outputs": [
    {
     "data": {
      "text/plain": "{1: [2, 3, 4]}"
     },
     "execution_count": 31,
     "metadata": {},
     "output_type": "execute_result"
    }
   ]
  },
  {
   "cell_type": "code",
   "metadata": {
    "pycharm": {
     "name": "#%%\n"
    },
    "id": "0iY0vc_ZDRKT",
    "colab_type": "code",
    "colab": {
     "base_uri": "https://localhost:8080/",
     "height": 35
    },
    "outputId": "b2892247-ccdd-4a1b-a5ea-216d408e3c83"
   },
   "source": [
    "dict([('1','2'),(1,2)])"
   ],
   "execution_count": 32,
   "outputs": [
    {
     "data": {
      "text/plain": "{'1': '2', 1: 2}"
     },
     "execution_count": 32,
     "metadata": {},
     "output_type": "execute_result"
    }
   ]
  },
  {
   "cell_type": "code",
   "metadata": {
    "pycharm": {
     "name": "#%%\n"
    },
    "id": "znYSTGsXDRKV",
    "colab_type": "code",
    "colab": {
     "base_uri": "https://localhost:8080/",
     "height": 166
    },
    "outputId": "b7d383dc-767e-4b59-f584-1bdcb0d7e44c"
   },
   "source": [
    "dict(('1','2'),(1,2))"
   ],
   "execution_count": 33,
   "outputs": [
    {
     "ename": "TypeError",
     "evalue": "dict expected at most 1 arguments, got 2",
     "output_type": "error",
     "traceback": [
      "\u001B[0;31m---------------------------------------------------------------------------\u001B[0m",
      "\u001B[0;31mTypeError\u001B[0m                                 Traceback (most recent call last)",
      "\u001B[0;32m<ipython-input-33-dddc18d9d9bd>\u001B[0m in \u001B[0;36m<module>\u001B[0;34m\u001B[0m\n\u001B[0;32m----> 1\u001B[0;31m \u001B[0mdict\u001B[0m\u001B[0;34m(\u001B[0m\u001B[0;34m(\u001B[0m\u001B[0;34m'1'\u001B[0m\u001B[0;34m,\u001B[0m\u001B[0;34m'2'\u001B[0m\u001B[0;34m)\u001B[0m\u001B[0;34m,\u001B[0m\u001B[0;34m(\u001B[0m\u001B[0;36m1\u001B[0m\u001B[0;34m,\u001B[0m\u001B[0;36m2\u001B[0m\u001B[0;34m)\u001B[0m\u001B[0;34m)\u001B[0m\u001B[0;34m\u001B[0m\u001B[0;34m\u001B[0m\u001B[0m\n\u001B[0m\u001B[1;32m      2\u001B[0m \u001B[0;34m\u001B[0m\u001B[0m\n",
      "\u001B[0;31mTypeError\u001B[0m: dict expected at most 1 arguments, got 2"
     ]
    }
   ]
  },
  {
   "cell_type": "code",
   "metadata": {
    "pycharm": {
     "name": "#%%\n"
    },
    "id": "9kUcIGimDRKX",
    "colab_type": "code",
    "colab": {
     "base_uri": "https://localhost:8080/",
     "height": 35
    },
    "outputId": "ec73220f-5ab6-44ef-a95f-2f88df762ab5"
   },
   "source": [
    "a = ('1','2')\n",
    "b = (1,2)\n",
    "\n",
    "dict((a, b))"
   ],
   "execution_count": 34,
   "outputs": [
    {
     "data": {
      "text/plain": "{'1': '2', 1: 2}"
     },
     "execution_count": 34,
     "metadata": {},
     "output_type": "execute_result"
    }
   ]
  },
  {
   "cell_type": "code",
   "metadata": {
    "pycharm": {
     "name": "#%%\n"
    },
    "id": "0yQpdJLWDRKZ",
    "colab_type": "code",
    "colab": {
     "base_uri": "https://localhost:8080/",
     "height": 35
    },
    "outputId": "1e6cbf5d-d3dd-4d96-d7ba-3297b609e60c"
   },
   "source": [
    "c = [a, b] # (a, b)\n",
    "\n",
    "dict(c)"
   ],
   "execution_count": 35,
   "outputs": [
    {
     "data": {
      "text/plain": "{'1': '2', 1: 2}"
     },
     "execution_count": 35,
     "metadata": {},
     "output_type": "execute_result"
    }
   ]
  },
  {
   "cell_type": "code",
   "metadata": {
    "id": "Sv5zEISmULoV",
    "colab_type": "code",
    "colab": {
     "base_uri": "https://localhost:8080/",
     "height": 35
    },
    "outputId": "e0911af9-be8f-48ad-ccb0-4994324508ee"
   },
   "source": [
    "d = {}\n",
    "dd = {}\n",
    "database = list()\n",
    "database.append(d)\n",
    "database.append(dd)\n",
    "print(database)"
   ],
   "execution_count": 36,
   "outputs": [
    {
     "name": "stdout",
     "output_type": "stream",
     "text": [
      "[{}, {}]\n"
     ]
    }
   ]
  },
  {
   "cell_type": "code",
   "metadata": {
    "id": "ZzaROga_ULhL",
    "colab_type": "code",
    "colab": {}
   },
   "source": [],
   "execution_count": 36,
   "outputs": []
  },
  {
   "cell_type": "code",
   "metadata": {
    "id": "GAa36I-IW2uc",
    "colab_type": "code",
    "colab": {}
   },
   "source": [
    "d10 = {}"
   ],
   "execution_count": 37,
   "outputs": []
  },
  {
   "cell_type": "code",
   "metadata": {
    "id": "ahT2nrydW6tn",
    "colab_type": "code",
    "colab": {}
   },
   "source": [
    "d10[\"a\"] = 1"
   ],
   "execution_count": 38,
   "outputs": []
  },
  {
   "cell_type": "code",
   "metadata": {
    "id": "eaKne3uiXIdU",
    "colab_type": "code",
    "colab": {
     "base_uri": "https://localhost:8080/",
     "height": 35
    },
    "outputId": "a09a414b-865e-491a-de6f-af81c6b3cc48"
   },
   "source": [
    "d10.setdefault(\"aa\", 3)"
   ],
   "execution_count": 39,
   "outputs": [
    {
     "data": {
      "text/plain": "3"
     },
     "execution_count": 39,
     "metadata": {},
     "output_type": "execute_result"
    }
   ]
  },
  {
   "cell_type": "code",
   "metadata": {
    "id": "9SWMABOXXW1b",
    "colab_type": "code",
    "colab": {
     "base_uri": "https://localhost:8080/",
     "height": 35
    },
    "outputId": "17475fed-6e70-4fa0-8637-def0bf3747df"
   },
   "source": [
    "d10"
   ],
   "execution_count": 40,
   "outputs": [
    {
     "data": {
      "text/plain": "{'a': 1, 'aa': 3}"
     },
     "execution_count": 40,
     "metadata": {},
     "output_type": "execute_result"
    }
   ]
  },
  {
   "cell_type": "code",
   "metadata": {
    "id": "LCTQWea4Xu8E",
    "colab_type": "code",
    "colab": {
     "base_uri": "https://localhost:8080/",
     "height": 35
    },
    "outputId": "ce0ef611-5257-4464-fbb5-e4591f0402f7"
   },
   "source": [
    "d10[\"aa\"]"
   ],
   "execution_count": 41,
   "outputs": [
    {
     "data": {
      "text/plain": "3"
     },
     "execution_count": 41,
     "metadata": {},
     "output_type": "execute_result"
    }
   ]
  },
  {
   "cell_type": "markdown",
   "metadata": {
    "collapsed": false,
    "pycharm": {
     "name": "#%% md\n"
    },
    "id": "Lj6QCmlpDRKb",
    "colab_type": "text"
   },
   "source": [
    "### Create your own dictionary which will be simulation of database of people\n",
    "  * One people record will be created manually in your code\n",
    "  * Ask others to add his information (you can use other people in the room) - one people record\n",
    "    * Through console\n",
    "  * Test if in you database is someone who's name is \"Petr\" or email is in correct format\n",
    "  * Then show all values presented with key \"name\"\n",
    "\n"
   ]
  },
  {
   "cell_type": "code",
   "metadata": {
    "id": "Lfx1qic8a4KB",
    "colab_type": "code",
    "colab": {
     "base_uri": "https://localhost:8080/",
     "height": 139
    },
    "outputId": "d82fb566-e0cd-41fa-d134-5585d8aca064"
   },
   "source": [
    "database = []\n",
    "user1 = {\"name\": \"Petr\", \"surname\":\"Lorenc\", \"email\": \"petr.lorenc.ml@gmail.com\"}\n",
    "user2 = {\"name\": \"Petr\", \"surname\":\"Lorenc\", \"email\": \"petr.lorenc.ml@gmail.com\"}\n",
    "\n",
    "database.append(user1)\n",
    "database.append(user2)\n",
    "\n",
    "print(len(database))\n",
    "\n",
    "name = input(\"Name:\")\n",
    "surname = input(\"Surname:\")\n",
    "email = input(\"Email:\")\n",
    "if \"@\" not in email:\n",
    "  print(\"Error\")\n",
    "  # return\n",
    "else:\n",
    "  user2 = {\"name\": name, \"surname\":surname, \"email\": email}\n",
    "  database.append(user2)\n",
    "\n",
    "print(database[0][\"name\"])\n",
    "if len(database) == 2:\n",
    "  print(database[1][\"name\"])"
   ],
   "execution_count": 42,
   "outputs": [
    {
     "name": "stdout",
     "output_type": "stream",
     "text": [
      "2\n",
      "Petr\n"
     ]
    }
   ]
  },
  {
   "cell_type": "code",
   "metadata": {
    "id": "vw6ijpo_dqRx",
    "colab_type": "code",
    "colab": {
     "base_uri": "https://localhost:8080/",
     "height": 35
    },
    "outputId": "2f5330ae-690b-4df6-89ce-609e7279b7c7"
   },
   "source": [
    "len(user1)\n",
    "\n"
   ],
   "execution_count": 43,
   "outputs": [
    {
     "data": {
      "text/plain": "3"
     },
     "execution_count": 43,
     "metadata": {},
     "output_type": "execute_result"
    }
   ]
  },
  {
   "cell_type": "code",
   "metadata": {
    "pycharm": {
     "name": "#%%\n"
    },
    "id": "7CF9crutDRKb",
    "colab_type": "code",
    "colab": {}
   },
   "source": [
    "my_db = {'Name': 'John Smith',\n",
    "         'Age': 34,\n",
    "         'Address': {'Street': 'Main',\n",
    "                     'Street #': 241,\n",
    "                     'City': 'Boston',\n",
    "                     'Country': 'Venezuela'},\n",
    "         'Job': {'Job Title': 'System Admin',\n",
    "                 'Level' : 3}\n",
    "        }"
   ],
   "execution_count": 44,
   "outputs": []
  },
  {
   "cell_type": "markdown",
   "metadata": {
    "id": "Ar4tIwzmfht0",
    "colab_type": "text"
   },
   "source": []
  },
  {
   "cell_type": "code",
   "metadata": {
    "id": "R2ZAaQ_DfiLd",
    "colab_type": "code",
    "colab": {
     "base_uri": "https://localhost:8080/",
     "height": 35
    },
    "outputId": "6d4965bc-e969-4d7c-d669-6d367bcee705"
   },
   "source": [
    "type(\"\")"
   ],
   "execution_count": 45,
   "outputs": [
    {
     "data": {
      "text/plain": "str"
     },
     "execution_count": 45,
     "metadata": {},
     "output_type": "execute_result"
    }
   ]
  },
  {
   "cell_type": "code",
   "metadata": {
    "id": "rMaBSjyNfRJm",
    "colab_type": "code",
    "colab": {
     "base_uri": "https://localhost:8080/",
     "height": 35
    },
    "outputId": "e2c765b6-e9fd-4b25-b22a-e716f9d9a59c"
   },
   "source": [
    "type(type(my_db[0][\"Address\"]))"
   ],
   "execution_count": 46,
   "outputs": [
    {
     "ename": "KeyError",
     "evalue": "0",
     "output_type": "error",
     "traceback": [
      "\u001B[0;31m---------------------------------------------------------------------------\u001B[0m",
      "\u001B[0;31mKeyError\u001B[0m                                  Traceback (most recent call last)",
      "\u001B[0;32m<ipython-input-46-f36ffae45d6b>\u001B[0m in \u001B[0;36m<module>\u001B[0;34m\u001B[0m\n\u001B[0;32m----> 1\u001B[0;31m \u001B[0mtype\u001B[0m\u001B[0;34m(\u001B[0m\u001B[0mtype\u001B[0m\u001B[0;34m(\u001B[0m\u001B[0mmy_db\u001B[0m\u001B[0;34m[\u001B[0m\u001B[0;36m0\u001B[0m\u001B[0;34m]\u001B[0m\u001B[0;34m[\u001B[0m\u001B[0;34m\"Address\"\u001B[0m\u001B[0;34m]\u001B[0m\u001B[0;34m)\u001B[0m\u001B[0;34m)\u001B[0m\u001B[0;34m\u001B[0m\u001B[0;34m\u001B[0m\u001B[0m\n\u001B[0m\u001B[1;32m      2\u001B[0m \u001B[0;34m\u001B[0m\u001B[0m\n",
      "\u001B[0;31mKeyError\u001B[0m: 0"
     ]
    }
   ]
  },
  {
   "cell_type": "code",
   "metadata": {
    "id": "WHzGY6YnecZb",
    "colab_type": "code",
    "colab": {
     "base_uri": "https://localhost:8080/",
     "height": 35
    },
    "outputId": "909159e3-cf46-4d28-e6e6-513450e4d924"
   },
   "source": [
    "my_db[0][\"Address\"] == dict()"
   ],
   "execution_count": 47,
   "outputs": [
    {
     "ename": "KeyError",
     "evalue": "0",
     "output_type": "error",
     "traceback": [
      "\u001B[0;31m---------------------------------------------------------------------------\u001B[0m",
      "\u001B[0;31mKeyError\u001B[0m                                  Traceback (most recent call last)",
      "\u001B[0;32m<ipython-input-47-ad0df5cda0e4>\u001B[0m in \u001B[0;36m<module>\u001B[0;34m\u001B[0m\n\u001B[0;32m----> 1\u001B[0;31m \u001B[0mmy_db\u001B[0m\u001B[0;34m[\u001B[0m\u001B[0;36m0\u001B[0m\u001B[0;34m]\u001B[0m\u001B[0;34m[\u001B[0m\u001B[0;34m\"Address\"\u001B[0m\u001B[0;34m]\u001B[0m \u001B[0;34m==\u001B[0m \u001B[0mdict\u001B[0m\u001B[0;34m(\u001B[0m\u001B[0;34m)\u001B[0m\u001B[0;34m\u001B[0m\u001B[0;34m\u001B[0m\u001B[0m\n\u001B[0m\u001B[1;32m      2\u001B[0m \u001B[0;34m\u001B[0m\u001B[0m\n",
      "\u001B[0;31mKeyError\u001B[0m: 0"
     ]
    }
   ]
  },
  {
   "cell_type": "markdown",
   "metadata": {
    "collapsed": false,
    "pycharm": {
     "name": "#%% md\n"
    },
    "id": "-8RhB_DwDRKd",
    "colab_type": "text"
   },
   "source": [
    "###\n"
   ]
  },
  {
   "cell_type": "code",
   "metadata": {
    "id": "-g1dJ_qEgftQ",
    "colab_type": "code",
    "colab": {
     "base_uri": "https://localhost:8080/",
     "height": 166
    },
    "outputId": "b79363e1-880f-4793-bba8-62b9cc9c6f83"
   },
   "source": [
    "hash([])"
   ],
   "execution_count": 48,
   "outputs": [
    {
     "ename": "TypeError",
     "evalue": "unhashable type: 'list'",
     "output_type": "error",
     "traceback": [
      "\u001B[0;31m---------------------------------------------------------------------------\u001B[0m",
      "\u001B[0;31mTypeError\u001B[0m                                 Traceback (most recent call last)",
      "\u001B[0;32m<ipython-input-48-84872ceaa147>\u001B[0m in \u001B[0;36m<module>\u001B[0;34m\u001B[0m\n\u001B[0;32m----> 1\u001B[0;31m \u001B[0mhash\u001B[0m\u001B[0;34m(\u001B[0m\u001B[0;34m[\u001B[0m\u001B[0;34m]\u001B[0m\u001B[0;34m)\u001B[0m\u001B[0;34m\u001B[0m\u001B[0;34m\u001B[0m\u001B[0m\n\u001B[0m\u001B[1;32m      2\u001B[0m \u001B[0;34m\u001B[0m\u001B[0m\n",
      "\u001B[0;31mTypeError\u001B[0m: unhashable type: 'list'"
     ]
    }
   ]
  },
  {
   "cell_type": "code",
   "metadata": {
    "pycharm": {
     "name": "#%%\n"
    },
    "id": "bhjexxLLDRKd",
    "colab_type": "code",
    "colab": {
     "base_uri": "https://localhost:8080/",
     "height": 166
    },
    "outputId": "72c32b7a-284d-4540-b056-aa6b2989353a"
   },
   "source": [
    "hash(dict())"
   ],
   "execution_count": 49,
   "outputs": [
    {
     "ename": "TypeError",
     "evalue": "unhashable type: 'dict'",
     "output_type": "error",
     "traceback": [
      "\u001B[0;31m---------------------------------------------------------------------------\u001B[0m",
      "\u001B[0;31mTypeError\u001B[0m                                 Traceback (most recent call last)",
      "\u001B[0;32m<ipython-input-49-32a3fcbdf8ea>\u001B[0m in \u001B[0;36m<module>\u001B[0;34m\u001B[0m\n\u001B[0;32m----> 1\u001B[0;31m \u001B[0mhash\u001B[0m\u001B[0;34m(\u001B[0m\u001B[0mdict\u001B[0m\u001B[0;34m(\u001B[0m\u001B[0;34m)\u001B[0m\u001B[0;34m)\u001B[0m\u001B[0;34m\u001B[0m\u001B[0;34m\u001B[0m\u001B[0m\n\u001B[0m\u001B[1;32m      2\u001B[0m \u001B[0;34m\u001B[0m\u001B[0m\n",
      "\u001B[0;31mTypeError\u001B[0m: unhashable type: 'dict'"
     ]
    }
   ]
  },
  {
   "cell_type": "markdown",
   "metadata": {
    "collapsed": false,
    "pycharm": {
     "name": "#%% md\n"
    },
    "id": "NZEWFvzeDRKf",
    "colab_type": "text"
   },
   "source": [
    "That means that probably we can update our dictionary without creating a copy (in opposite, for example, to numbers)"
   ]
  },
  {
   "cell_type": "code",
   "metadata": {
    "pycharm": {
     "name": "#%%\n"
    },
    "id": "2sB67JDADRKf",
    "colab_type": "code",
    "colab": {}
   },
   "source": [
    "my_db[\"Name\"] = \"Petr\""
   ],
   "execution_count": 50,
   "outputs": []
  },
  {
   "cell_type": "code",
   "metadata": {
    "pycharm": {
     "name": "#%%\n"
    },
    "id": "UTt7rHdODRKh",
    "colab_type": "code",
    "colab": {
     "base_uri": "https://localhost:8080/",
     "height": 139
    },
    "outputId": "0a133dba-4087-4e3b-e88b-32ba5192d654"
   },
   "source": [
    "my_db"
   ],
   "execution_count": 51,
   "outputs": [
    {
     "data": {
      "text/plain": "{'Name': 'Petr',\n 'Age': 34,\n 'Address': {'Street': 'Main',\n  'Street #': 241,\n  'City': 'Boston',\n  'Country': 'Venezuela'},\n 'Job': {'Job Title': 'System Admin', 'Level': 3}}"
     },
     "execution_count": 51,
     "metadata": {},
     "output_type": "execute_result"
    }
   ]
  },
  {
   "cell_type": "code",
   "metadata": {
    "pycharm": {
     "name": "#%%\n"
    },
    "id": "TdQYASjiDRKi",
    "colab_type": "code",
    "colab": {}
   },
   "source": [
    "my_db[\"Address\"][\"Street\"] = \"Wall street\""
   ],
   "execution_count": 52,
   "outputs": []
  },
  {
   "cell_type": "code",
   "metadata": {
    "pycharm": {
     "name": "#%%\n"
    },
    "id": "ea4rTXe5DRKk",
    "colab_type": "code",
    "colab": {
     "base_uri": "https://localhost:8080/",
     "height": 139
    },
    "outputId": "bddb8983-bccf-4a45-d612-dbef08cadff2"
   },
   "source": [
    "my_db"
   ],
   "execution_count": 53,
   "outputs": [
    {
     "data": {
      "text/plain": "{'Name': 'Petr',\n 'Age': 34,\n 'Address': {'Street': 'Wall street',\n  'Street #': 241,\n  'City': 'Boston',\n  'Country': 'Venezuela'},\n 'Job': {'Job Title': 'System Admin', 'Level': 3}}"
     },
     "execution_count": 53,
     "metadata": {},
     "output_type": "execute_result"
    }
   ]
  },
  {
   "cell_type": "code",
   "metadata": {
    "pycharm": {
     "name": "#%%\n"
    },
    "id": "wQKa98uoDRKm",
    "colab_type": "code",
    "colab": {}
   },
   "source": [
    "my_db[\"Number of pets\"] = 0"
   ],
   "execution_count": 54,
   "outputs": []
  },
  {
   "cell_type": "code",
   "metadata": {
    "pycharm": {
     "name": "#%%\n"
    },
    "id": "D6TLugQ-DRKo",
    "colab_type": "code",
    "colab": {
     "base_uri": "https://localhost:8080/",
     "height": 156
    },
    "outputId": "34b5b9d1-6ef4-42f2-8763-18b20185d016"
   },
   "source": [
    "my_db"
   ],
   "execution_count": 55,
   "outputs": [
    {
     "data": {
      "text/plain": "{'Name': 'Petr',\n 'Age': 34,\n 'Address': {'Street': 'Wall street',\n  'Street #': 241,\n  'City': 'Boston',\n  'Country': 'Venezuela'},\n 'Job': {'Job Title': 'System Admin', 'Level': 3},\n 'Number of pets': 0}"
     },
     "execution_count": 55,
     "metadata": {},
     "output_type": "execute_result"
    }
   ]
  },
  {
   "cell_type": "code",
   "metadata": {
    "pycharm": {
     "name": "#%%\n"
    },
    "id": "H8F0T91BDRKp",
    "colab_type": "code",
    "colab": {}
   },
   "source": [
    "my_db[\"Number of cars\"]"
   ],
   "execution_count": 56,
   "outputs": [
    {
     "ename": "KeyError",
     "evalue": "'Number of cars'",
     "output_type": "error",
     "traceback": [
      "\u001B[0;31m---------------------------------------------------------------------------\u001B[0m",
      "\u001B[0;31mKeyError\u001B[0m                                  Traceback (most recent call last)",
      "\u001B[0;32m<ipython-input-56-a9e82a5b867a>\u001B[0m in \u001B[0;36m<module>\u001B[0;34m\u001B[0m\n\u001B[0;32m----> 1\u001B[0;31m \u001B[0mmy_db\u001B[0m\u001B[0;34m[\u001B[0m\u001B[0;34m\"Number of cars\"\u001B[0m\u001B[0;34m]\u001B[0m\u001B[0;34m\u001B[0m\u001B[0;34m\u001B[0m\u001B[0m\n\u001B[0m\u001B[1;32m      2\u001B[0m \u001B[0;34m\u001B[0m\u001B[0m\n",
      "\u001B[0;31mKeyError\u001B[0m: 'Number of cars'"
     ]
    }
   ]
  },
  {
   "cell_type": "code",
   "metadata": {
    "pycharm": {
     "name": "#%%\n"
    },
    "id": "uJOINQX8DRKs",
    "colab_type": "code",
    "colab": {}
   },
   "source": [
    "my_db.get(\"Number of cars\")"
   ],
   "execution_count": 57,
   "outputs": []
  },
  {
   "cell_type": "code",
   "metadata": {
    "pycharm": {
     "name": "#%%\n"
    },
    "id": "P4o5RvqwDRKu",
    "colab_type": "code",
    "colab": {
     "base_uri": "https://localhost:8080/",
     "height": 35
    },
    "outputId": "879b40d5-aacf-4175-c684-4a35eae1fe1a"
   },
   "source": [
    "my_db.get(\"Number of cars\", 1)"
   ],
   "execution_count": 58,
   "outputs": [
    {
     "data": {
      "text/plain": "1"
     },
     "execution_count": 58,
     "metadata": {},
     "output_type": "execute_result"
    }
   ]
  },
  {
   "cell_type": "markdown",
   "metadata": {
    "collapsed": false,
    "pycharm": {
     "name": "#%% md\n"
    },
    "id": "JmSfUACGDRKw",
    "colab_type": "text"
   },
   "source": [
    "### Method .pop()\n",
    "\n",
    "The .pop() method removes the specified key and returns the associated value. If the key does not exist, we can specify the default value that should be returned in such case.\n",
    "\n",
    "The syntax is **my_db.pop(key[,default_value])**\n",
    "\n",
    "### Method .popitem()\n",
    "\n",
    "This method removes some (**arbitrary**) key-value pair from the dictionary and returns the pair as a tuple. The specific pair cannot be specified, therefore this method is used for continual destruction of a dictionary."
   ]
  },
  {
   "cell_type": "code",
   "metadata": {
    "id": "aL0KL43AhixX",
    "colab_type": "code",
    "colab": {}
   },
   "source": [
    "FILMS = {COMEDY: [{}], DRAMA: [{}]}"
   ],
   "execution_count": 59,
   "outputs": [
    {
     "ename": "NameError",
     "evalue": "name 'COMEDY' is not defined",
     "output_type": "error",
     "traceback": [
      "\u001B[0;31m---------------------------------------------------------------------------\u001B[0m",
      "\u001B[0;31mNameError\u001B[0m                                 Traceback (most recent call last)",
      "\u001B[0;32m<ipython-input-59-b10835ac7363>\u001B[0m in \u001B[0;36m<module>\u001B[0;34m\u001B[0m\n\u001B[0;32m----> 1\u001B[0;31m \u001B[0mFILMS\u001B[0m \u001B[0;34m=\u001B[0m \u001B[0;34m{\u001B[0m\u001B[0mCOMEDY\u001B[0m\u001B[0;34m:\u001B[0m \u001B[0;34m[\u001B[0m\u001B[0;34m{\u001B[0m\u001B[0;34m}\u001B[0m\u001B[0;34m]\u001B[0m\u001B[0;34m,\u001B[0m \u001B[0mDRAMA\u001B[0m\u001B[0;34m:\u001B[0m \u001B[0;34m[\u001B[0m\u001B[0;34m{\u001B[0m\u001B[0;34m}\u001B[0m\u001B[0;34m]\u001B[0m\u001B[0;34m}\u001B[0m\u001B[0;34m\u001B[0m\u001B[0;34m\u001B[0m\u001B[0m\n\u001B[0m\u001B[1;32m      2\u001B[0m \u001B[0;34m\u001B[0m\u001B[0m\n",
      "\u001B[0;31mNameError\u001B[0m: name 'COMEDY' is not defined"
     ]
    }
   ]
  },
  {
   "cell_type": "markdown",
   "metadata": {
    "collapsed": false,
    "id": "_v9XxukIDRKw",
    "colab_type": "text"
   },
   "source": [
    "It is important to note that in dictionaries key-value pairs are not ordered at least up to Python 3.5. From Python 3.6 dictionary values are already ordered.\n",
    "-> LILO"
   ]
  },
  {
   "cell_type": "code",
   "metadata": {
    "pycharm": {
     "name": "#%%\n"
    },
    "id": "WNWxsdfBDRKw",
    "colab_type": "code",
    "colab": {
     "base_uri": "https://localhost:8080/",
     "height": 35
    },
    "outputId": "8cf2ba12-8922-44da-afba-e0345a8be994"
   },
   "source": [
    "d8 = {2:1, 3:4, 1: 10}\n",
    "d8.popitem()"
   ],
   "execution_count": 63,
   "outputs": [
    {
     "data": {
      "text/plain": "(1, 10)"
     },
     "execution_count": 63,
     "metadata": {},
     "output_type": "execute_result"
    }
   ]
  },
  {
   "cell_type": "code",
   "metadata": {
    "id": "ag9Bn7MwiW8P",
    "colab_type": "code",
    "colab": {
     "base_uri": "https://localhost:8080/",
     "height": 35
    },
    "outputId": "9f8a8103-4acb-45b1-de40-1d13c4195b61"
   },
   "source": [
    "len(d8) == 2"
   ],
   "execution_count": 64,
   "outputs": [
    {
     "data": {
      "text/plain": "True"
     },
     "execution_count": 64,
     "metadata": {},
     "output_type": "execute_result"
    }
   ]
  },
  {
   "cell_type": "code",
   "metadata": {
    "pycharm": {
     "name": "#%%\n"
    },
    "id": "swjuV7IRDRKz",
    "colab_type": "code",
    "colab": {}
   },
   "source": [
    "a = {1:2}"
   ],
   "execution_count": 65,
   "outputs": []
  },
  {
   "cell_type": "code",
   "metadata": {
    "pycharm": {
     "name": "#%%\n"
    },
    "id": "dXqRj2kHDRK0",
    "colab_type": "code",
    "colab": {
     "base_uri": "https://localhost:8080/",
     "height": 35
    },
    "outputId": "a5f6b5af-9edf-4e34-833d-3907d9c630f5"
   },
   "source": [
    "a.pop(1)"
   ],
   "execution_count": 66,
   "outputs": [
    {
     "data": {
      "text/plain": "2"
     },
     "execution_count": 66,
     "metadata": {},
     "output_type": "execute_result"
    }
   ]
  },
  {
   "cell_type": "code",
   "metadata": {
    "pycharm": {
     "name": "#%%\n"
    },
    "id": "kcLQmZJHDRK3",
    "colab_type": "code",
    "colab": {
     "base_uri": "https://localhost:8080/",
     "height": 166
    },
    "outputId": "73ac6044-e55b-4d64-f2c2-09f7c2818b2e"
   },
   "source": [
    "a.popitem()"
   ],
   "execution_count": 67,
   "outputs": [
    {
     "ename": "KeyError",
     "evalue": "'popitem(): dictionary is empty'",
     "output_type": "error",
     "traceback": [
      "\u001B[0;31m---------------------------------------------------------------------------\u001B[0m",
      "\u001B[0;31mKeyError\u001B[0m                                  Traceback (most recent call last)",
      "\u001B[0;32m<ipython-input-67-1df9d21c74db>\u001B[0m in \u001B[0;36m<module>\u001B[0;34m\u001B[0m\n\u001B[0;32m----> 1\u001B[0;31m \u001B[0ma\u001B[0m\u001B[0;34m.\u001B[0m\u001B[0mpopitem\u001B[0m\u001B[0;34m(\u001B[0m\u001B[0;34m)\u001B[0m\u001B[0;34m\u001B[0m\u001B[0;34m\u001B[0m\u001B[0m\n\u001B[0m\u001B[1;32m      2\u001B[0m \u001B[0;34m\u001B[0m\u001B[0m\n",
      "\u001B[0;31mKeyError\u001B[0m: 'popitem(): dictionary is empty'"
     ]
    }
   ]
  },
  {
   "cell_type": "code",
   "metadata": {
    "pycharm": {
     "name": "#%%\n"
    },
    "id": "OyiCPjaqDRK4",
    "colab_type": "code",
    "colab": {
     "base_uri": "https://localhost:8080/",
     "height": 35
    },
    "outputId": "a5cdff76-58ef-4491-b9b7-a807f23b6ecd"
   },
   "source": [
    "d9 = {2:1, 3:4, \"1\": 10}\n",
    "print(d9)"
   ],
   "execution_count": 68,
   "outputs": [
    {
     "name": "stdout",
     "output_type": "stream",
     "text": [
      "{2: 1, 3: 4, '1': 10}\n"
     ]
    }
   ]
  },
  {
   "cell_type": "code",
   "metadata": {
    "pycharm": {
     "name": "#%%\n"
    },
    "id": "vuH_t00ADRK6",
    "colab_type": "code",
    "colab": {
     "base_uri": "https://localhost:8080/",
     "height": 183
    },
    "outputId": "acb05146-ec85-4b5b-f836-a462ff594dc2"
   },
   "source": [
    "del d9[1]\n",
    "print(d9)"
   ],
   "execution_count": 69,
   "outputs": [
    {
     "ename": "KeyError",
     "evalue": "1",
     "output_type": "error",
     "traceback": [
      "\u001B[0;31m---------------------------------------------------------------------------\u001B[0m",
      "\u001B[0;31mKeyError\u001B[0m                                  Traceback (most recent call last)",
      "\u001B[0;32m<ipython-input-69-d7995a504f86>\u001B[0m in \u001B[0;36m<module>\u001B[0;34m\u001B[0m\n\u001B[0;32m----> 1\u001B[0;31m \u001B[0;32mdel\u001B[0m \u001B[0md9\u001B[0m\u001B[0;34m[\u001B[0m\u001B[0;36m1\u001B[0m\u001B[0;34m]\u001B[0m\u001B[0;34m\u001B[0m\u001B[0;34m\u001B[0m\u001B[0m\n\u001B[0m\u001B[1;32m      2\u001B[0m \u001B[0mprint\u001B[0m\u001B[0;34m(\u001B[0m\u001B[0md9\u001B[0m\u001B[0;34m)\u001B[0m\u001B[0;34m\u001B[0m\u001B[0;34m\u001B[0m\u001B[0m\n\u001B[1;32m      3\u001B[0m \u001B[0;34m\u001B[0m\u001B[0m\n",
      "\u001B[0;31mKeyError\u001B[0m: 1"
     ]
    }
   ]
  },
  {
   "cell_type": "code",
   "metadata": {
    "pycharm": {
     "name": "#%%\n"
    },
    "id": "7EptIDsEDRK7",
    "colab_type": "code",
    "colab": {
     "base_uri": "https://localhost:8080/",
     "height": 52
    },
    "outputId": "c8aebc73-4de7-4f55-ff4b-2dc77c82ce6f"
   },
   "source": [
    "d9.update({10:10})\n",
    "print(d9)\n",
    "d9[10] = 11\n",
    "print(d9)\n",
    "\n",
    "# again?"
   ],
   "execution_count": 70,
   "outputs": [
    {
     "name": "stdout",
     "output_type": "stream",
     "text": [
      "{2: 1, 3: 4, '1': 10, 10: 10}\n",
      "{2: 1, 3: 4, '1': 10, 10: 11}\n"
     ]
    }
   ]
  },
  {
   "cell_type": "markdown",
   "metadata": {
    "collapsed": false,
    "pycharm": {
     "name": "#%% md\n"
    },
    "id": "MfFXZ3-lDRK-",
    "colab_type": "text"
   },
   "source": [
    "# movies1.py"
   ]
  },
  {
   "cell_type": "code",
   "metadata": {
    "pycharm": {
     "name": "#%%\n"
    },
    "id": "MrH4CBdyDRLZ",
    "colab_type": "code",
    "colab": {}
   },
   "source": [
    "dict.fromkeys(('Account1','Account2','Account3'),0)"
   ],
   "execution_count": 71,
   "outputs": [
    {
     "data": {
      "text/plain": "{'Account1': 0, 'Account2': 0, 'Account3': 0}"
     },
     "execution_count": 71,
     "metadata": {},
     "output_type": "execute_result"
    }
   ]
  },
  {
   "cell_type": "code",
   "metadata": {
    "pycharm": {
     "name": "#%%\n"
    },
    "id": "kmLquuPyDRLc",
    "colab_type": "code",
    "colab": {}
   },
   "source": [
    "d7 = {1: 2}"
   ],
   "execution_count": 72,
   "outputs": []
  },
  {
   "cell_type": "code",
   "metadata": {
    "pycharm": {
     "name": "#%%\n"
    },
    "id": "ZOdXpf5KDRLe",
    "colab_type": "code",
    "colab": {}
   },
   "source": [
    "d7.setdefault(2,3)"
   ],
   "execution_count": 73,
   "outputs": [
    {
     "data": {
      "text/plain": "3"
     },
     "execution_count": 73,
     "metadata": {},
     "output_type": "execute_result"
    }
   ]
  },
  {
   "cell_type": "code",
   "metadata": {
    "pycharm": {
     "name": "#%%\n"
    },
    "id": "wgyirC6bDRLf",
    "colab_type": "code",
    "colab": {}
   },
   "source": [
    "d7"
   ],
   "execution_count": 74,
   "outputs": [
    {
     "data": {
      "text/plain": "{1: 2, 2: 3}"
     },
     "execution_count": 74,
     "metadata": {},
     "output_type": "execute_result"
    }
   ]
  },
  {
   "cell_type": "code",
   "metadata": {
    "pycharm": {
     "name": "#%%\n"
    },
    "id": "oaZFtO0zDRLg",
    "colab_type": "code",
    "colab": {}
   },
   "source": [
    "d7.setdefault(2,4)\n"
   ],
   "execution_count": 75,
   "outputs": [
    {
     "data": {
      "text/plain": "3"
     },
     "execution_count": 75,
     "metadata": {},
     "output_type": "execute_result"
    }
   ]
  },
  {
   "cell_type": "markdown",
   "metadata": {
    "collapsed": false,
    "pycharm": {
     "name": "#%% md\n"
    },
    "id": "o8ANrUYXDRLi",
    "colab_type": "text"
   },
   "source": [
    "# SETS\n",
    "\n",
    "Definition of set is **unordered** collections of immutable and unique objects. Important defining feature is the uniqueness of each item in a set. Each object (item) appears only once in a set no matter how many times it has been added.\n",
    "\n",
    " * have a sequence of values - get unique values - list(set(XX))\n",
    " * have a sequence of values - get unique values in the same order - cannot use set directly\n",
    "\n",
    "There are 2 types of set data in Python - set & frozenset. The difference among the two is that set is mutable collection whereas frozenset is immutable. Otherwise the essence of both is the same.\n"
   ]
  },
  {
   "cell_type": "code",
   "metadata": {
    "pycharm": {
     "name": "#%%\n"
    },
    "id": "tDfxaA8gDRLi",
    "colab_type": "code",
    "colab": {
     "base_uri": "https://localhost:8080/",
     "height": 35
    },
    "outputId": "c6b4173a-95fd-487e-bbbb-14e24cc54299"
   },
   "source": [
    "set([1,2,3])"
   ],
   "execution_count": 76,
   "outputs": [
    {
     "data": {
      "text/plain": "{1, 2, 3}"
     },
     "execution_count": 76,
     "metadata": {},
     "output_type": "execute_result"
    }
   ]
  },
  {
   "cell_type": "code",
   "metadata": {
    "pycharm": {
     "name": "#%%\n"
    },
    "id": "9NajLMZGDRLj",
    "colab_type": "code",
    "colab": {
     "base_uri": "https://localhost:8080/",
     "height": 35
    },
    "outputId": "8ba1f048-af11-4850-f3d8-11e2cd9a3596"
   },
   "source": [
    "{1,2,3, \"A\", \"A\"}"
   ],
   "execution_count": 77,
   "outputs": [
    {
     "data": {
      "text/plain": "{1, 2, 3, 'A'}"
     },
     "execution_count": 77,
     "metadata": {},
     "output_type": "execute_result"
    }
   ]
  },
  {
   "cell_type": "code",
   "metadata": {
    "id": "N3KXBYBsmUqI",
    "colab_type": "code",
    "colab": {}
   },
   "source": [
    "a = {\"Petr\", \"Pavel\", \"Petr\"}"
   ],
   "execution_count": 78,
   "outputs": []
  },
  {
   "cell_type": "code",
   "metadata": {
    "id": "2eIGlEy-mdDG",
    "colab_type": "code",
    "colab": {
     "base_uri": "https://localhost:8080/",
     "height": 166
    },
    "outputId": "d7931158-e95d-454a-cda9-21482b220f0c"
   },
   "source": [
    "hash(a)"
   ],
   "execution_count": 79,
   "outputs": [
    {
     "ename": "TypeError",
     "evalue": "unhashable type: 'set'",
     "output_type": "error",
     "traceback": [
      "\u001B[0;31m---------------------------------------------------------------------------\u001B[0m",
      "\u001B[0;31mTypeError\u001B[0m                                 Traceback (most recent call last)",
      "\u001B[0;32m<ipython-input-79-1edfe918b412>\u001B[0m in \u001B[0;36m<module>\u001B[0;34m\u001B[0m\n\u001B[0;32m----> 1\u001B[0;31m \u001B[0mhash\u001B[0m\u001B[0;34m(\u001B[0m\u001B[0ma\u001B[0m\u001B[0;34m)\u001B[0m\u001B[0;34m\u001B[0m\u001B[0;34m\u001B[0m\u001B[0m\n\u001B[0m\u001B[1;32m      2\u001B[0m \u001B[0;34m\u001B[0m\u001B[0m\n",
      "\u001B[0;31mTypeError\u001B[0m: unhashable type: 'set'"
     ]
    }
   ]
  },
  {
   "cell_type": "code",
   "metadata": {
    "pycharm": {
     "name": "#%%\n"
    },
    "id": "DUzihTIGDRLk",
    "colab_type": "code",
    "colab": {
     "base_uri": "https://localhost:8080/",
     "height": 35
    },
    "outputId": "fe37ebb6-2e0d-4415-9f34-7ad97e89a7e7"
   },
   "source": [
    "frozenset([1,2,3])"
   ],
   "execution_count": 80,
   "outputs": [
    {
     "data": {
      "text/plain": "frozenset({1, 2, 3})"
     },
     "execution_count": 80,
     "metadata": {},
     "output_type": "execute_result"
    }
   ]
  },
  {
   "cell_type": "code",
   "metadata": {
    "pycharm": {
     "name": "#%%\n"
    },
    "id": "7HHqvGNZDRLl",
    "colab_type": "code",
    "colab": {
     "base_uri": "https://localhost:8080/",
     "height": 745
    },
    "outputId": "d9c9a8cb-6958-44ea-ba8c-d2b124b2ca1d"
   },
   "source": [
    "dir(frozenset())"
   ],
   "execution_count": 81,
   "outputs": [
    {
     "data": {
      "text/plain": "['__and__',\n '__class__',\n '__contains__',\n '__delattr__',\n '__dir__',\n '__doc__',\n '__eq__',\n '__format__',\n '__ge__',\n '__getattribute__',\n '__gt__',\n '__hash__',\n '__init__',\n '__init_subclass__',\n '__iter__',\n '__le__',\n '__len__',\n '__lt__',\n '__ne__',\n '__new__',\n '__or__',\n '__rand__',\n '__reduce__',\n '__reduce_ex__',\n '__repr__',\n '__ror__',\n '__rsub__',\n '__rxor__',\n '__setattr__',\n '__sizeof__',\n '__str__',\n '__sub__',\n '__subclasshook__',\n '__xor__',\n 'copy',\n 'difference',\n 'intersection',\n 'isdisjoint',\n 'issubset',\n 'issuperset',\n 'symmetric_difference',\n 'union']"
     },
     "execution_count": 81,
     "metadata": {},
     "output_type": "execute_result"
    }
   ]
  },
  {
   "cell_type": "code",
   "metadata": {
    "pycharm": {
     "name": "#%%\n"
    },
    "id": "iXlrelboDRLn",
    "colab_type": "code",
    "colab": {
     "base_uri": "https://localhost:8080/",
     "height": 35
    },
    "outputId": "f66acd94-ce40-4eff-9c5c-4980ffd9df27"
   },
   "source": [
    "hash(frozenset())"
   ],
   "execution_count": 82,
   "outputs": [
    {
     "data": {
      "text/plain": "133146708735736"
     },
     "execution_count": 82,
     "metadata": {},
     "output_type": "execute_result"
    }
   ]
  },
  {
   "cell_type": "code",
   "metadata": {
    "pycharm": {
     "name": "#%%\n"
    },
    "id": "qBZHOiZ2DRLo",
    "colab_type": "code",
    "colab": {
     "base_uri": "https://localhost:8080/",
     "height": 166
    },
    "outputId": "10a36692-8c88-43d0-883b-e3cd48fb1e08"
   },
   "source": [
    "hash(set())"
   ],
   "execution_count": 83,
   "outputs": [
    {
     "ename": "TypeError",
     "evalue": "unhashable type: 'set'",
     "output_type": "error",
     "traceback": [
      "\u001B[0;31m---------------------------------------------------------------------------\u001B[0m",
      "\u001B[0;31mTypeError\u001B[0m                                 Traceback (most recent call last)",
      "\u001B[0;32m<ipython-input-83-f1551a2993d8>\u001B[0m in \u001B[0;36m<module>\u001B[0;34m\u001B[0m\n\u001B[0;32m----> 1\u001B[0;31m \u001B[0mhash\u001B[0m\u001B[0;34m(\u001B[0m\u001B[0mset\u001B[0m\u001B[0;34m(\u001B[0m\u001B[0;34m)\u001B[0m\u001B[0;34m)\u001B[0m\u001B[0;34m\u001B[0m\u001B[0;34m\u001B[0m\u001B[0m\n\u001B[0m\u001B[1;32m      2\u001B[0m \u001B[0;34m\u001B[0m\u001B[0m\n",
      "\u001B[0;31mTypeError\u001B[0m: unhashable type: 'set'"
     ]
    }
   ]
  },
  {
   "cell_type": "code",
   "metadata": {
    "pycharm": {
     "name": "#%%\n"
    },
    "id": "uoxZchPADRLp",
    "colab_type": "code",
    "colab": {
     "base_uri": "https://localhost:8080/",
     "height": 35
    },
    "outputId": "29510309-a22d-404e-c23b-f810d5e03d89"
   },
   "source": [
    "len({1,2,2,3,3,3})"
   ],
   "execution_count": 84,
   "outputs": [
    {
     "data": {
      "text/plain": "3"
     },
     "execution_count": 84,
     "metadata": {},
     "output_type": "execute_result"
    }
   ]
  },
  {
   "cell_type": "code",
   "metadata": {
    "id": "nJCinqyen2hw",
    "colab_type": "code",
    "colab": {
     "base_uri": "https://localhost:8080/",
     "height": 35
    },
    "outputId": "958b4eb5-0d31-4411-e8e8-b385cd5e9800"
   },
   "source": [
    "set([1,1,2,3])"
   ],
   "execution_count": 85,
   "outputs": [
    {
     "data": {
      "text/plain": "{1, 2, 3}"
     },
     "execution_count": 85,
     "metadata": {},
     "output_type": "execute_result"
    }
   ]
  },
  {
   "cell_type": "code",
   "metadata": {
    "id": "L3Rh_eHbn7Nt",
    "colab_type": "code",
    "colab": {
     "base_uri": "https://localhost:8080/",
     "height": 35
    },
    "outputId": "333c9ab3-d001-4fb2-842c-d19f1dfec93b"
   },
   "source": [
    "set(\"aaab\")"
   ],
   "execution_count": 86,
   "outputs": [
    {
     "data": {
      "text/plain": "{'a', 'b'}"
     },
     "execution_count": 86,
     "metadata": {},
     "output_type": "execute_result"
    }
   ]
  },
  {
   "cell_type": "code",
   "metadata": {
    "id": "MD1DxHX9oAEO",
    "colab_type": "code",
    "colab": {
     "base_uri": "https://localhost:8080/",
     "height": 35
    },
    "outputId": "01188f9a-2021-4871-882c-8a15f3dbc7ae"
   },
   "source": [
    "set([\"a\", \"a\", \"a\", \"b\"])"
   ],
   "execution_count": 87,
   "outputs": [
    {
     "data": {
      "text/plain": "{'a', 'b'}"
     },
     "execution_count": 87,
     "metadata": {},
     "output_type": "execute_result"
    }
   ]
  },
  {
   "cell_type": "code",
   "metadata": {
    "pycharm": {
     "name": "#%%\n"
    },
    "id": "CMXj5hgTDRLq",
    "colab_type": "code",
    "colab": {
     "base_uri": "https://localhost:8080/",
     "height": 35
    },
    "outputId": "9c7700a9-1b63-46a5-bbc1-78dfa946c480"
   },
   "source": [
    "# union\n",
    "set('ABC') | set('CDE') | set ('EFG')"
   ],
   "execution_count": 88,
   "outputs": [
    {
     "data": {
      "text/plain": "{'A', 'B', 'C', 'D', 'E', 'F', 'G'}"
     },
     "execution_count": 88,
     "metadata": {},
     "output_type": "execute_result"
    }
   ]
  },
  {
   "cell_type": "code",
   "metadata": {
    "pycharm": {
     "name": "#%%\n"
    },
    "id": "uKgRyom8DRLr",
    "colab_type": "code",
    "colab": {
     "base_uri": "https://localhost:8080/",
     "height": 35
    },
    "outputId": "aa5d5ada-b813-47ef-bb5a-60fbcaa926bb"
   },
   "source": [
    "#intersection\n",
    "set('CDE') & set('CDE') # & set ('EFG')"
   ],
   "execution_count": 89,
   "outputs": [
    {
     "data": {
      "text/plain": "{'C', 'D', 'E'}"
     },
     "execution_count": 89,
     "metadata": {},
     "output_type": "execute_result"
    }
   ]
  },
  {
   "cell_type": "code",
   "metadata": {
    "pycharm": {
     "name": "#%%\n"
    },
    "id": "8t7OY0b7DRLt",
    "colab_type": "code",
    "colab": {
     "base_uri": "https://localhost:8080/",
     "height": 35
    },
    "outputId": "933752e2-8c2c-4e4f-e981-70badefd5a0a"
   },
   "source": [
    "# difference\n",
    "set('ABC') - (set('XXX') - set('EFG'))"
   ],
   "execution_count": 90,
   "outputs": [
    {
     "data": {
      "text/plain": "{'A', 'B', 'C'}"
     },
     "execution_count": 90,
     "metadata": {},
     "output_type": "execute_result"
    }
   ]
  },
  {
   "cell_type": "code",
   "metadata": {
    "pycharm": {
     "name": "#%%\n"
    },
    "id": "0u1QG6apDRLu",
    "colab_type": "code",
    "colab": {
     "base_uri": "https://localhost:8080/",
     "height": 35
    },
    "outputId": "d14435d2-f8be-41c4-87e6-30638efb1fad"
   },
   "source": [
    "# symetric difference\n",
    "set('ABC') | set('CDE') ^ set('EFG')\n",
    "\n"
   ],
   "execution_count": 91,
   "outputs": [
    {
     "data": {
      "text/plain": "{'A', 'B', 'C', 'D', 'F', 'G'}"
     },
     "execution_count": 91,
     "metadata": {},
     "output_type": "execute_result"
    }
   ]
  },
  {
   "cell_type": "code",
   "metadata": {
    "pycharm": {
     "name": "#%%\n"
    },
    "id": "h63mXLyuDRLv",
    "colab_type": "code",
    "colab": {
     "base_uri": "https://localhost:8080/",
     "height": 35
    },
    "outputId": "a4b47086-69c2-426d-f030-4cb554e68e71"
   },
   "source": [
    "len({1,2,3,4} | {6,7,8})"
   ],
   "execution_count": 92,
   "outputs": [
    {
     "data": {
      "text/plain": "7"
     },
     "execution_count": 92,
     "metadata": {},
     "output_type": "execute_result"
    }
   ]
  },
  {
   "cell_type": "code",
   "metadata": {
    "pycharm": {
     "name": "#%%\n"
    },
    "id": "0qAqUGpFDRLw",
    "colab_type": "code",
    "colab": {
     "base_uri": "https://localhost:8080/",
     "height": 35
    },
    "outputId": "c5c45deb-07dc-4360-aa15-6f333f847638"
   },
   "source": [
    "{1,2,3,4}.isdisjoint({1,7,8})"
   ],
   "execution_count": 93,
   "outputs": [
    {
     "data": {
      "text/plain": "False"
     },
     "execution_count": 93,
     "metadata": {},
     "output_type": "execute_result"
    }
   ]
  },
  {
   "cell_type": "code",
   "metadata": {
    "pycharm": {
     "name": "#%%\n"
    },
    "id": "8NcJCXWrDRLx",
    "colab_type": "code",
    "colab": {
     "base_uri": "https://localhost:8080/",
     "height": 35
    },
    "outputId": "fabf6055-d3cf-4745-9a33-2d108e55e167"
   },
   "source": [
    "# common characters\n",
    "str1 = 'New York'\n",
    "str2 = 'Yorkshire'\n",
    "set(str1)\n"
   ],
   "execution_count": 94,
   "outputs": [
    {
     "data": {
      "text/plain": "{' ', 'N', 'Y', 'e', 'k', 'o', 'r', 'w'}"
     },
     "execution_count": 94,
     "metadata": {},
     "output_type": "execute_result"
    }
   ]
  },
  {
   "cell_type": "markdown",
   "metadata": {
    "collapsed": false,
    "id": "9knoje9FDRLy",
    "colab_type": "text"
   },
   "source": [
    "### school_subject_attendance.py\n",
    "\n",
    "We have information about the students inscribed into 5 classes in our school. We would like to find out which students attend all the classes."
   ]
  },
  {
   "cell_type": "markdown",
   "metadata": {
    "collapsed": false,
    "id": "ZWHI4uoFDRLz",
    "colab_type": "text"
   },
   "source": [
    "# Next lesson will be taught 27/08 - so now you have 14 days to prepare\n",
    "## Before next lesson\n",
    "\n",
    " * Go through all quizzes from lesson 1 to 3 (Engeto.com)\n",
    "    * We will discuss it at lesson 4!\n",
    " * Go through all home works from lesson 1 to 3 (Engeto.com)\n",
    "    * We will discuss it at lesson 4!\n",
    " * Take a look at material and prepare questions from lesson 1 to 3 (Engeto.com + repository on github)\n",
    "    * **We will discuss it at lesson 4!**\n",
    " * Quick look at lesson 4 - while loops\n",
    " * Go through course \"Git: Základy pro uživatele\"\n",
    "    * Create account on [Github.com](https://github.com/)\n",
    "    * [Git cheatsheet](https://pyvec.github.io/cheatsheets/basic-git/basic-git-cs.pdf)\n",
    " * **Read assignment for Project 1: Text analyzer** and prepare questions about it\n",
    "    * It is strongly recommended to use git ([Github.com](https://github.com/))\n",
    "    * You can start to work at it\n",
    "      * I recommend to start with skeleton or use a [pseudocode](https://en.wikipedia.org/wiki/Pseudocode)\n",
    "      * Then start writing Python code"
   ]
  }
 ]
}