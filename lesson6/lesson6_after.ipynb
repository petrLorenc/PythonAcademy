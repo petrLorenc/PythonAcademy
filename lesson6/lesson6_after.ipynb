{
  "nbformat": 4,
  "nbformat_minor": 0,
  "metadata": {
    "kernelspec": {
      "display_name": "Python 3",
      "language": "python",
      "name": "python3"
    },
    "language_info": {
      "codemirror_mode": {
        "name": "ipython",
        "version": 2
      },
      "file_extension": ".py",
      "mimetype": "text/x-python",
      "name": "python",
      "nbconvert_exporter": "python",
      "pygments_lexer": "ipython2",
      "version": "2.7.6"
    },
    "colab": {
      "name": "lesson6.ipynb",
      "provenance": []
    }
  },
  "cells": [
    {
      "cell_type": "markdown",
      "metadata": {
        "collapsed": true,
        "pycharm": {
          "name": "#%% md\n"
        },
        "id": "a3Ht_P_VRa59",
        "colab_type": "text"
      },
      "source": [
        "# Lesson 6\n",
        "\n",
        " * Quiz\n",
        " * Questions\n",
        "\n",
        "# Function\n",
        "\n",
        "Functions! Why are they so important?\n",
        "\n",
        " * Functions can repeat any code you type. You just need to know how to type it properly.\n",
        " * By using function, you can save many effort and huge amount of time.\n",
        " * This is very important subject and it serves as a base for next lessons.\n",
        "\n",
        " ### Different type of abstraction"
      ]
    },
    {
      "cell_type": "code",
      "metadata": {
        "pycharm": {
          "name": "#%%\n"
        },
        "id": "z__WEzlTRa5-",
        "colab_type": "code",
        "colab": {
          "base_uri": "https://localhost:8080/",
          "height": 69
        },
        "outputId": "26907b63-ad49-41df-9d79-b3268814b4d8"
      },
      "source": [
        "a = True\n",
        "\n",
        "if a:\n",
        "    # some code\n",
        "    print(\"*\" * 80)\n",
        "    print(\"*\" * 80)\n",
        "    print(\"*\" * 80)\n",
        "else:\n",
        "    # some code\n",
        "    print(\"-\" * 80)\n",
        "    print(\"-\" * 80)\n",
        "    print(\"-\" * 80)"
      ],
      "execution_count": 2,
      "outputs": [
        {
          "output_type": "stream",
          "text": [
            "********************************************************************************\n",
            "********************************************************************************\n",
            "********************************************************************************\n"
          ],
          "name": "stdout"
        }
      ]
    },
    {
      "cell_type": "markdown",
      "metadata": {
        "collapsed": false,
        "pycharm": {
          "name": "#%% md\n"
        },
        "id": "gDswj6WsRa6C",
        "colab_type": "text"
      },
      "source": [
        "Want to change the divider?\n"
      ]
    },
    {
      "cell_type": "code",
      "metadata": {
        "pycharm": {
          "name": "#%%\n"
        },
        "id": "8d3zcRKNRa6C",
        "colab_type": "code",
        "colab": {
          "base_uri": "https://localhost:8080/",
          "height": 69
        },
        "outputId": "0124ac46-97b1-469e-d1dc-06f38e3019d1"
      },
      "source": [
        "a = True\n",
        "divider = \"%\"\n",
        "size_divider = 30\n",
        "\n",
        "if a:\n",
        "    # some code\n",
        "    print(f\"{divider * size_divider}\")\n",
        "    print(f\"{divider * size_divider}\")\n",
        "    print(f\"{divider * size_divider}\")\n",
        "else:\n",
        "    # some code\n",
        "    print(f\"{divider * size_divider}\")\n",
        "    print(f\"{divider * size_divider}\")\n",
        "    print(f\"{divider * size_divider}\")"
      ],
      "execution_count": 4,
      "outputs": [
        {
          "output_type": "stream",
          "text": [
            "%%%%%%%%%%%%%%%%%%%%%%%%%%%%%%\n",
            "%%%%%%%%%%%%%%%%%%%%%%%%%%%%%%\n",
            "%%%%%%%%%%%%%%%%%%%%%%%%%%%%%%\n"
          ],
          "name": "stdout"
        }
      ]
    },
    {
      "cell_type": "code",
      "metadata": {
        "id": "JKp0RMnDocms",
        "colab_type": "code",
        "colab": {
          "base_uri": "https://localhost:8080/",
          "height": 815
        },
        "outputId": "23f8cbab-12a6-49ca-c539-986061800a9e"
      },
      "source": [
        "dir(list())"
      ],
      "execution_count": 5,
      "outputs": [
        {
          "output_type": "execute_result",
          "data": {
            "text/plain": [
              "['__add__',\n",
              " '__class__',\n",
              " '__contains__',\n",
              " '__delattr__',\n",
              " '__delitem__',\n",
              " '__dir__',\n",
              " '__doc__',\n",
              " '__eq__',\n",
              " '__format__',\n",
              " '__ge__',\n",
              " '__getattribute__',\n",
              " '__getitem__',\n",
              " '__gt__',\n",
              " '__hash__',\n",
              " '__iadd__',\n",
              " '__imul__',\n",
              " '__init__',\n",
              " '__init_subclass__',\n",
              " '__iter__',\n",
              " '__le__',\n",
              " '__len__',\n",
              " '__lt__',\n",
              " '__mul__',\n",
              " '__ne__',\n",
              " '__new__',\n",
              " '__reduce__',\n",
              " '__reduce_ex__',\n",
              " '__repr__',\n",
              " '__reversed__',\n",
              " '__rmul__',\n",
              " '__setattr__',\n",
              " '__setitem__',\n",
              " '__sizeof__',\n",
              " '__str__',\n",
              " '__subclasshook__',\n",
              " 'append',\n",
              " 'clear',\n",
              " 'copy',\n",
              " 'count',\n",
              " 'extend',\n",
              " 'index',\n",
              " 'insert',\n",
              " 'pop',\n",
              " 'remove',\n",
              " 'reverse',\n",
              " 'sort']"
            ]
          },
          "metadata": {
            "tags": []
          },
          "execution_count": 5
        }
      ]
    },
    {
      "cell_type": "markdown",
      "metadata": {
        "collapsed": false,
        "pycharm": {
          "name": "#%% md\n"
        },
        "id": "_0TXse_eRa6F",
        "colab_type": "text"
      },
      "source": [
        "Want to have different output?"
      ]
    },
    {
      "cell_type": "code",
      "metadata": {
        "pycharm": {
          "name": "#%%\n"
        },
        "id": "JXIK2gFHRa6F",
        "colab_type": "code",
        "colab": {
          "base_uri": "https://localhost:8080/",
          "height": 69
        },
        "outputId": "5412f368-747c-4386-ab6c-515198ff306b"
      },
      "source": [
        "def show_divider(divider=\"$\", size_divider=30, line_count=3):\n",
        "    for _ in range(line_count):\n",
        "        print(f\"{divider * size_divider}\")\n",
        "    a = 1\n",
        "    return a\n",
        "\n",
        "divider = \"*\"\n",
        "size_divider = 30\n",
        "\n",
        "\n",
        "show_divider(\"*\", size_divider=30)\n"
      ],
      "execution_count": 19,
      "outputs": [
        {
          "output_type": "stream",
          "text": [
            "******************************\n",
            "******************************\n",
            "******************************\n"
          ],
          "name": "stdout"
        }
      ]
    },
    {
      "cell_type": "markdown",
      "metadata": {
        "collapsed": false,
        "pycharm": {
          "name": "#%% md\n"
        },
        "id": "n4SuXs6HRa6I",
        "colab_type": "text"
      },
      "source": [
        "**Bad function** would be one, that for example do all at below at once:\n",
        "\n",
        " * retrieves text from a file\n",
        " * formats the text\n",
        " * prints the text to the screen\n",
        "\n",
        "**Good functions** have a single purpose. So a good function should take care of only one of the above actions.\n",
        "\n",
        "Build-in function - https://docs.python.org/3/library/functions.html"
      ]
    },
    {
      "cell_type": "markdown",
      "metadata": {
        "collapsed": false,
        "id": "CDEXkewiRa6I",
        "colab_type": "text"
      },
      "source": [
        " * function1.py"
      ]
    },
    {
      "cell_type": "markdown",
      "metadata": {
        "collapsed": false,
        "pycharm": {
          "name": "#%% md\n"
        },
        "id": "gW45zeAXRa6J",
        "colab_type": "text"
      },
      "source": [
        "Function does not exist until the program execution reaches the def statement in the code. def statement then creates a function object (**also functions are objects - of type function**) and assigns it to the function name."
      ]
    },
    {
      "cell_type": "code",
      "metadata": {
        "pycharm": {
          "name": "#%%\n"
        },
        "id": "jQFrGMZmRa6J",
        "colab_type": "code",
        "colab": {
          "base_uri": "https://localhost:8080/",
          "height": 35
        },
        "outputId": "6f15c67d-6008-43a6-a843-02c75856377a"
      },
      "source": [
        "def my_new_function():\n",
        "    print(\"my_new_function\")\n",
        "\n",
        "my_new_function()\n"
      ],
      "execution_count": 21,
      "outputs": [
        {
          "output_type": "stream",
          "text": [
            "my_new_function\n"
          ],
          "name": "stdout"
        }
      ]
    },
    {
      "cell_type": "markdown",
      "metadata": {
        "collapsed": false,
        "id": "iIp3JB3yRa6L",
        "colab_type": "text"
      },
      "source": [
        "When our program reaches the definition of function add_two it creates a variable add_two and assigns the function object to it. We can see how the function object representation looks like if we write the function name to the terminal\n"
      ]
    },
    {
      "cell_type": "code",
      "metadata": {
        "pycharm": {
          "name": "#%%\n"
        },
        "id": "_apXb3vbRa6M",
        "colab_type": "code",
        "colab": {}
      },
      "source": [
        "def add_two(a, b):\n",
        "    # print(f\"a:{a}, b:{b}\")\n",
        "    return a + b"
      ],
      "execution_count": 22,
      "outputs": []
    },
    {
      "cell_type": "code",
      "metadata": {
        "id": "j9oBBI-PzltV",
        "colab_type": "code",
        "colab": {
          "base_uri": "https://localhost:8080/",
          "height": 52
        },
        "outputId": "0aa09adf-f176-41b6-d7f5-782a5fb80a54"
      },
      "source": [
        "add_two(1,3)"
      ],
      "execution_count": 27,
      "outputs": [
        {
          "output_type": "stream",
          "text": [
            "a:1, b:3\n"
          ],
          "name": "stdout"
        },
        {
          "output_type": "execute_result",
          "data": {
            "text/plain": [
              "4"
            ]
          },
          "metadata": {
            "tags": []
          },
          "execution_count": 27
        }
      ]
    },
    {
      "cell_type": "code",
      "metadata": {
        "pycharm": {
          "name": "#%%\n"
        },
        "id": "HuByaH1lRa6P",
        "colab_type": "code",
        "colab": {
          "base_uri": "https://localhost:8080/",
          "height": 35
        },
        "outputId": "3918d604-6aa1-4945-ad2a-15cc2fa8ef62"
      },
      "source": [
        "add_two"
      ],
      "execution_count": 28,
      "outputs": [
        {
          "output_type": "execute_result",
          "data": {
            "text/plain": [
              "<function __main__.add_two>"
            ]
          },
          "metadata": {
            "tags": []
          },
          "execution_count": 28
        }
      ]
    },
    {
      "cell_type": "code",
      "metadata": {
        "pycharm": {
          "name": "#%%\n"
        },
        "id": "-Fdj7zc-Ra6S",
        "colab_type": "code",
        "colab": {
          "base_uri": "https://localhost:8080/",
          "height": 35
        },
        "outputId": "99139baf-7aca-4388-d5d1-e159b47a46d3"
      },
      "source": [
        "type(add_two)"
      ],
      "execution_count": 29,
      "outputs": [
        {
          "output_type": "execute_result",
          "data": {
            "text/plain": [
              "function"
            ]
          },
          "metadata": {
            "tags": []
          },
          "execution_count": 29
        }
      ]
    },
    {
      "cell_type": "code",
      "metadata": {
        "pycharm": {
          "name": "#%%\n"
        },
        "id": "xLIhv5WpRa6U",
        "colab_type": "code",
        "colab": {
          "base_uri": "https://localhost:8080/",
          "height": 52
        },
        "outputId": "010b6759-a6b4-48f1-a37c-f1cc98376fb6"
      },
      "source": [
        "type(add_two(1,2))"
      ],
      "execution_count": 30,
      "outputs": [
        {
          "output_type": "stream",
          "text": [
            "a:1, b:2\n"
          ],
          "name": "stdout"
        },
        {
          "output_type": "execute_result",
          "data": {
            "text/plain": [
              "int"
            ]
          },
          "metadata": {
            "tags": []
          },
          "execution_count": 30
        }
      ]
    },
    {
      "cell_type": "code",
      "metadata": {
        "pycharm": {
          "name": "#%%\n"
        },
        "id": "Pi5Xsh3JRa6W",
        "colab_type": "code",
        "colab": {
          "base_uri": "https://localhost:8080/",
          "height": 35
        },
        "outputId": "f33946f2-f5b9-4651-f6e8-a22143f02bcd"
      },
      "source": [
        "id(add_two)"
      ],
      "execution_count": 31,
      "outputs": [
        {
          "output_type": "execute_result",
          "data": {
            "text/plain": [
              "140654202379800"
            ]
          },
          "metadata": {
            "tags": []
          },
          "execution_count": 31
        }
      ]
    },
    {
      "cell_type": "code",
      "metadata": {
        "pycharm": {
          "name": "#%%\n"
        },
        "id": "zL66FgiFRa6Y",
        "colab_type": "code",
        "colab": {
          "base_uri": "https://localhost:8080/",
          "height": 35
        },
        "outputId": "1c95b11a-8942-4d53-d871-e07b57faf14c"
      },
      "source": [
        "print(add_two)"
      ],
      "execution_count": 32,
      "outputs": [
        {
          "output_type": "stream",
          "text": [
            "<function add_two at 0x7fec9bc4de18>\n"
          ],
          "name": "stdout"
        }
      ]
    },
    {
      "cell_type": "markdown",
      "metadata": {
        "collapsed": false,
        "pycharm": {
          "name": "#%% md\n"
        },
        "id": "3op8PRkzRa6a",
        "colab_type": "text"
      },
      "source": [
        "The sequence of numbers and letters following the function add_two at **is the actual address in memory**, where the function object lives. Function name points to that address and so when we write the function name, Python retrieves the object from that address.\n",
        "\n",
        "* titles.py\n",
        "\n",
        "### Break"
      ]
    },
    {
      "cell_type": "markdown",
      "metadata": {
        "collapsed": false,
        "pycharm": {
          "name": "#%% md\n"
        },
        "id": "5jYlWWp9Ra6b",
        "colab_type": "text"
      },
      "source": [
        "\n",
        "\n",
        "Because everything in Python is object, so the functions are. Can be used as parameter of another function. Can be reassign.\n"
      ]
    },
    {
      "cell_type": "code",
      "metadata": {
        "pycharm": {
          "name": "#%%\n"
        },
        "id": "H5GLxUIoRa6b",
        "colab_type": "code",
        "colab": {}
      },
      "source": [
        "def foo():\n",
        "    print(\"hello\")\n",
        "\n",
        "\n",
        "bar = foo"
      ],
      "execution_count": 33,
      "outputs": []
    },
    {
      "cell_type": "code",
      "metadata": {
        "pycharm": {
          "name": "#%%\n"
        },
        "id": "7MwURSGaRa6d",
        "colab_type": "code",
        "colab": {
          "base_uri": "https://localhost:8080/",
          "height": 35
        },
        "outputId": "1a2859de-6045-4197-84d1-cc28b4f29ce5"
      },
      "source": [
        "bar()"
      ],
      "execution_count": 34,
      "outputs": [
        {
          "output_type": "stream",
          "text": [
            "hello\n"
          ],
          "name": "stdout"
        }
      ]
    },
    {
      "cell_type": "code",
      "metadata": {
        "pycharm": {
          "name": "#%%\n"
        },
        "id": "HXpkWGfIRa6f",
        "colab_type": "code",
        "colab": {
          "base_uri": "https://localhost:8080/",
          "height": 35
        },
        "outputId": "5c27733a-3767-491c-8f34-77bfd5e6f1e5"
      },
      "source": [
        "bar = foo()"
      ],
      "execution_count": 35,
      "outputs": [
        {
          "output_type": "stream",
          "text": [
            "hello\n"
          ],
          "name": "stdout"
        }
      ]
    },
    {
      "cell_type": "code",
      "metadata": {
        "pycharm": {
          "name": "#%%\n"
        },
        "id": "-zoqglMFRa6h",
        "colab_type": "code",
        "colab": {
          "base_uri": "https://localhost:8080/",
          "height": 166
        },
        "outputId": "ec2d239a-ddd6-4eab-e664-92418ad09805"
      },
      "source": [
        "bar()"
      ],
      "execution_count": 36,
      "outputs": [
        {
          "output_type": "error",
          "ename": "TypeError",
          "evalue": "ignored",
          "traceback": [
            "\u001b[0;31m---------------------------------------------------------------------------\u001b[0m",
            "\u001b[0;31mTypeError\u001b[0m                                 Traceback (most recent call last)",
            "\u001b[0;32m<ipython-input-36-226d01f48125>\u001b[0m in \u001b[0;36m<module>\u001b[0;34m()\u001b[0m\n\u001b[0;32m----> 1\u001b[0;31m \u001b[0mbar\u001b[0m\u001b[0;34m(\u001b[0m\u001b[0;34m)\u001b[0m\u001b[0;34m\u001b[0m\u001b[0;34m\u001b[0m\u001b[0m\n\u001b[0m",
            "\u001b[0;31mTypeError\u001b[0m: 'NoneType' object is not callable"
          ]
        }
      ]
    },
    {
      "cell_type": "code",
      "metadata": {
        "pycharm": {
          "name": "#%%\n"
        },
        "id": "Yw4bh9K2Ra6j",
        "colab_type": "code",
        "colab": {
          "base_uri": "https://localhost:8080/",
          "height": 35
        },
        "outputId": "aef1e789-837f-4d50-a1d7-e228261c464e"
      },
      "source": [
        "print(bar)"
      ],
      "execution_count": 37,
      "outputs": [
        {
          "output_type": "stream",
          "text": [
            "None\n"
          ],
          "name": "stdout"
        }
      ]
    },
    {
      "cell_type": "code",
      "metadata": {
        "pycharm": {
          "name": "#%%\n"
        },
        "id": "HiH0hYSxRa6l",
        "colab_type": "code",
        "colab": {}
      },
      "source": [
        ""
      ],
      "execution_count": null,
      "outputs": []
    },
    {
      "cell_type": "markdown",
      "metadata": {
        "collapsed": false,
        "id": "aw4pjBMoRa6n",
        "colab_type": "text"
      },
      "source": [
        "#### Function as an parameter"
      ]
    },
    {
      "cell_type": "code",
      "metadata": {
        "pycharm": {
          "name": "#%%\n"
        },
        "id": "cy91QsxeRa6n",
        "colab_type": "code",
        "colab": {
          "base_uri": "https://localhost:8080/",
          "height": 34
        },
        "outputId": "44dcf720-ef6d-4652-d2a5-d5ba3fe3c69d"
      },
      "source": [
        "def add(a, b):\n",
        "    return a + b\n",
        "\n",
        "def subtract(a, b):\n",
        "    return a - b\n",
        "\n",
        "def apply_fn_to_a_b_times(fn, a, b):\n",
        "    result = 0\n",
        "    for _ in range(b):\n",
        "        result = fn(result, a)\n",
        "    return result\n",
        "\n",
        "apply_fn_to_a_b_times(add, 2, 5)"
      ],
      "execution_count": 38,
      "outputs": [
        {
          "output_type": "execute_result",
          "data": {
            "text/plain": [
              "10"
            ]
          },
          "metadata": {
            "tags": []
          },
          "execution_count": 38
        }
      ]
    },
    {
      "cell_type": "code",
      "metadata": {
        "pycharm": {
          "name": "#%%\n"
        },
        "id": "E3ftlAQoRa6p",
        "colab_type": "code",
        "colab": {
          "base_uri": "https://localhost:8080/",
          "height": 34
        },
        "outputId": "cb783c77-eba0-47a0-bb5a-6279feee8550"
      },
      "source": [
        "apply_fn_to_a_b_times(subtract, 5, 2)"
      ],
      "execution_count": 39,
      "outputs": [
        {
          "output_type": "execute_result",
          "data": {
            "text/plain": [
              "-10"
            ]
          },
          "metadata": {
            "tags": []
          },
          "execution_count": 39
        }
      ]
    },
    {
      "cell_type": "markdown",
      "metadata": {
        "collapsed": false,
        "pycharm": {
          "name": "#%% md\n"
        },
        "id": "Y-dmN54kRa6r",
        "colab_type": "text"
      },
      "source": [
        "Support of typing -  https://docs.python.org/3/library/typing.html"
      ]
    },
    {
      "cell_type": "code",
      "metadata": {
        "pycharm": {
          "name": "#%%\n"
        },
        "id": "cqfSywvuRa6r",
        "colab_type": "code",
        "colab": {}
      },
      "source": [
        "from typing import Callable\n",
        "\n",
        "def add(a: int, b: int) -> int:\n",
        "    return a + b\n",
        "\n",
        "def subtract(a: int, b: int) -> int:\n",
        "    return a - b\n",
        "\n",
        "def apply_fn_to_a_b_times(fn: Callable[[int, int], int], a: int, b: int):\n",
        "    result = 0\n",
        "    for _ in range(b):\n",
        "        result = fn(result, a)\n",
        "    return result\n",
        "\n",
        "apply_fn_to_a_b_times(add, 2, 5)\n",
        "apply_fn_to_a_b_times(subtract, 5, 2)"
      ],
      "execution_count": null,
      "outputs": []
    },
    {
      "cell_type": "markdown",
      "metadata": {
        "collapsed": false,
        "pycharm": {
          "name": "#%% md\n"
        },
        "id": "xvmOE7EZRa6t",
        "colab_type": "text"
      },
      "source": [
        "\n",
        "\n",
        "# Modules\n",
        "\n",
        "The same way we can package code into a function and then reuse it later, we can package function definitions and other statements inside a bigger unit - Python file. Python files (with the suffix .py) are also called modules.\n",
        "\n",
        "Modules can contain the scripts that can be run as programs. However, modules do not have to represent programs, but can contain function definitions only (or other Python statements). Those function definitions create functions that can be accessed from other Python scripts thus serving as a kind of functionality reservoir.\n",
        "\n",
        "Module advantages\n",
        "* we don't have to write all the code ourselves\n",
        "* modules make code more readable\n",
        "* we can reuse the code\n"
      ]
    },
    {
      "cell_type": "code",
      "metadata": {
        "pycharm": {
          "name": "#%%\n"
        },
        "id": "1GmjbKFsRa6t",
        "colab_type": "code",
        "colab": {
          "base_uri": "https://localhost:8080/",
          "height": 34
        },
        "outputId": "4e5c2c21-5db9-4ee9-d94f-68f6eb49f57f"
      },
      "source": [
        "import random\n",
        "# import my_module\n",
        "random.randint(1,10)\n",
        "# my_module.randint(1,10)"
      ],
      "execution_count": 42,
      "outputs": [
        {
          "output_type": "execute_result",
          "data": {
            "text/plain": [
              "3"
            ]
          },
          "metadata": {
            "tags": []
          },
          "execution_count": 42
        }
      ]
    },
    {
      "cell_type": "code",
      "metadata": {
        "pycharm": {
          "name": "#%%\n"
        },
        "id": "tTLF__WKRa6v",
        "colab_type": "code",
        "colab": {}
      },
      "source": [
        "# not do this if you don't know exactly what you want to do\n",
        "from random import *\n",
        "random()"
      ],
      "execution_count": null,
      "outputs": []
    },
    {
      "cell_type": "code",
      "metadata": {
        "pycharm": {
          "name": "#%%\n"
        },
        "id": "MCm-V7ReRa6x",
        "colab_type": "code",
        "colab": {}
      },
      "source": [
        "import random"
      ],
      "execution_count": 43,
      "outputs": []
    },
    {
      "cell_type": "code",
      "metadata": {
        "pycharm": {
          "name": "#%%\n"
        },
        "id": "sU_PvdXWRa6y",
        "colab_type": "code",
        "colab": {
          "base_uri": "https://localhost:8080/",
          "height": 35
        },
        "outputId": "0f59851a-9d59-46e4-9cc2-ae02e1ae64f5"
      },
      "source": [
        "words = ['hello', 'new', 'write', 'car', 'notebook']\n",
        "random.choice(words)"
      ],
      "execution_count": 44,
      "outputs": [
        {
          "output_type": "execute_result",
          "data": {
            "application/vnd.google.colaboratory.intrinsic+json": {
              "type": "string"
            },
            "text/plain": [
              "'write'"
            ]
          },
          "metadata": {
            "tags": []
          },
          "execution_count": 44
        }
      ]
    },
    {
      "cell_type": "code",
      "metadata": {
        "pycharm": {
          "name": "#%%\n"
        },
        "id": "Vrg1p2a3Ra61",
        "colab_type": "code",
        "colab": {
          "base_uri": "https://localhost:8080/",
          "height": 34
        },
        "outputId": "2a1e6d14-ae7e-4d21-d835-e9ee731421e0"
      },
      "source": [
        "random.sample(words, 2)"
      ],
      "execution_count": 45,
      "outputs": [
        {
          "output_type": "execute_result",
          "data": {
            "text/plain": [
              "['notebook', 'write']"
            ]
          },
          "metadata": {
            "tags": []
          },
          "execution_count": 45
        }
      ]
    },
    {
      "cell_type": "markdown",
      "metadata": {
        "collapsed": false,
        "pycharm": {
          "name": "#%% md\n"
        },
        "id": "UCstCl_0Ra63",
        "colab_type": "text"
      },
      "source": [
        "* using_module.py\n",
        "    * statistics.py\n",
        "\n",
        "### Break\n",
        "\n",
        "## Collection assignment\n",
        "\n",
        "Collection assignment is kind of a statement, when we have a collection on the right side of the equal sign and multiple variables on the left side. In general we can express the collection assignment syntax as:\n",
        "\n",
        "```var1, var2, var3 ... = collection```\n",
        "\n",
        "Can be used even for functions."
      ]
    },
    {
      "cell_type": "code",
      "metadata": {
        "pycharm": {
          "name": "#%%\n"
        },
        "id": "SyMSIlWARa63",
        "colab_type": "code",
        "colab": {}
      },
      "source": [
        "a,b,c = [1,2,3]"
      ],
      "execution_count": 46,
      "outputs": []
    },
    {
      "cell_type": "code",
      "metadata": {
        "pycharm": {
          "name": "#%%\n"
        },
        "id": "AS7Rrug7Ra65",
        "colab_type": "code",
        "colab": {
          "base_uri": "https://localhost:8080/",
          "height": 34
        },
        "outputId": "d840041e-0564-473e-800c-c3d785b7cec0"
      },
      "source": [
        "a"
      ],
      "execution_count": 47,
      "outputs": [
        {
          "output_type": "execute_result",
          "data": {
            "text/plain": [
              "1"
            ]
          },
          "metadata": {
            "tags": []
          },
          "execution_count": 47
        }
      ]
    },
    {
      "cell_type": "code",
      "metadata": {
        "pycharm": {
          "name": "#%%\n"
        },
        "id": "UNjMw57kRa66",
        "colab_type": "code",
        "colab": {}
      },
      "source": [
        "name, surname = ('John', 'Smith')"
      ],
      "execution_count": 48,
      "outputs": []
    },
    {
      "cell_type": "code",
      "metadata": {
        "pycharm": {
          "name": "#%%\n"
        },
        "id": "4Cs91PWQRa6-",
        "colab_type": "code",
        "colab": {
          "base_uri": "https://localhost:8080/",
          "height": 35
        },
        "outputId": "b02f7178-2a0e-4ce9-e5cb-1b66181e0eee"
      },
      "source": [
        "name"
      ],
      "execution_count": 49,
      "outputs": [
        {
          "output_type": "execute_result",
          "data": {
            "application/vnd.google.colaboratory.intrinsic+json": {
              "type": "string"
            },
            "text/plain": [
              "'John'"
            ]
          },
          "metadata": {
            "tags": []
          },
          "execution_count": 49
        }
      ]
    },
    {
      "cell_type": "code",
      "metadata": {
        "pycharm": {
          "name": "#%%\n"
        },
        "id": "T0wYepM_Ra7A",
        "colab_type": "code",
        "colab": {
          "base_uri": "https://localhost:8080/",
          "height": 163
        },
        "outputId": "7c394468-b7b4-400d-e346-bf4d86c5a9ff"
      },
      "source": [
        "a, b, c, d = 0"
      ],
      "execution_count": 54,
      "outputs": [
        {
          "output_type": "error",
          "ename": "TypeError",
          "evalue": "ignored",
          "traceback": [
            "\u001b[0;31m---------------------------------------------------------------------------\u001b[0m",
            "\u001b[0;31mTypeError\u001b[0m                                 Traceback (most recent call last)",
            "\u001b[0;32m<ipython-input-54-8d5a7befbf99>\u001b[0m in \u001b[0;36m<module>\u001b[0;34m()\u001b[0m\n\u001b[0;32m----> 1\u001b[0;31m \u001b[0ma\u001b[0m\u001b[0;34m,\u001b[0m \u001b[0mb\u001b[0m\u001b[0;34m,\u001b[0m \u001b[0mc\u001b[0m\u001b[0;34m,\u001b[0m \u001b[0md\u001b[0m \u001b[0;34m=\u001b[0m \u001b[0;36m0\u001b[0m\u001b[0;34m\u001b[0m\u001b[0;34m\u001b[0m\u001b[0m\n\u001b[0m",
            "\u001b[0;31mTypeError\u001b[0m: 'int' object is not iterable"
          ]
        }
      ]
    },
    {
      "cell_type": "code",
      "metadata": {
        "pycharm": {
          "name": "#%%\n"
        },
        "id": "lGCq6qprRa7C",
        "colab_type": "code",
        "colab": {
          "base_uri": "https://localhost:8080/",
          "height": 34
        },
        "outputId": "48502612-be35-4384-d524-6c764654a68f"
      },
      "source": [
        "a"
      ],
      "execution_count": 51,
      "outputs": [
        {
          "output_type": "execute_result",
          "data": {
            "text/plain": [
              "0"
            ]
          },
          "metadata": {
            "tags": []
          },
          "execution_count": 51
        }
      ]
    },
    {
      "cell_type": "code",
      "metadata": {
        "pycharm": {
          "name": "#%%\n"
        },
        "id": "p9l5Q19NRa7E",
        "colab_type": "code",
        "colab": {}
      },
      "source": [
        "# not useful but possible\n",
        "a, b = range(2)"
      ],
      "execution_count": 55,
      "outputs": []
    },
    {
      "cell_type": "code",
      "metadata": {
        "pycharm": {
          "name": "#%%\n"
        },
        "id": "Di0OfvuTRa7G",
        "colab_type": "code",
        "colab": {
          "base_uri": "https://localhost:8080/",
          "height": 34
        },
        "outputId": "bc2ae007-cb10-4b8d-ea24-f4c16a0e985c"
      },
      "source": [
        "b"
      ],
      "execution_count": 56,
      "outputs": [
        {
          "output_type": "execute_result",
          "data": {
            "text/plain": [
              "1"
            ]
          },
          "metadata": {
            "tags": []
          },
          "execution_count": 56
        }
      ]
    },
    {
      "cell_type": "code",
      "metadata": {
        "pycharm": {
          "name": "#%%\n"
        },
        "id": "EuheBAPSRa7H",
        "colab_type": "code",
        "colab": {
          "base_uri": "https://localhost:8080/",
          "height": 129
        },
        "outputId": "ed89971b-b8dd-4335-8aad-34caf8d0c8ba"
      },
      "source": [
        "|a,b,c = 10, 20"
      ],
      "execution_count": 57,
      "outputs": [
        {
          "output_type": "error",
          "ename": "SyntaxError",
          "evalue": "ignored",
          "traceback": [
            "\u001b[0;36m  File \u001b[0;32m\"<ipython-input-57-436a526661d2>\"\u001b[0;36m, line \u001b[0;32m1\u001b[0m\n\u001b[0;31m    |a,b,c = 10, 20\u001b[0m\n\u001b[0m    ^\u001b[0m\n\u001b[0;31mSyntaxError\u001b[0m\u001b[0;31m:\u001b[0m invalid syntax\n"
          ]
        }
      ]
    },
    {
      "cell_type": "code",
      "metadata": {
        "pycharm": {
          "name": "#%%\n"
        },
        "id": "cBy4AqWcRa7J",
        "colab_type": "code",
        "colab": {}
      },
      "source": [
        "((a,b),c,) = ('Mo','re')"
      ],
      "execution_count": 58,
      "outputs": []
    },
    {
      "cell_type": "code",
      "metadata": {
        "pycharm": {
          "name": "#%%\n"
        },
        "id": "4mey9uiDRa7M",
        "colab_type": "code",
        "colab": {
          "base_uri": "https://localhost:8080/",
          "height": 35
        },
        "outputId": "5e1050a0-069c-47e4-c090-ec1b5602e963"
      },
      "source": [
        "a"
      ],
      "execution_count": 59,
      "outputs": [
        {
          "output_type": "execute_result",
          "data": {
            "application/vnd.google.colaboratory.intrinsic+json": {
              "type": "string"
            },
            "text/plain": [
              "'M'"
            ]
          },
          "metadata": {
            "tags": []
          },
          "execution_count": 59
        }
      ]
    },
    {
      "cell_type": "code",
      "metadata": {
        "pycharm": {
          "name": "#%%\n"
        },
        "id": "-H7zNjzFRa7N",
        "colab_type": "code",
        "colab": {}
      },
      "source": [
        "first,*mid, last = range(10)"
      ],
      "execution_count": 60,
      "outputs": []
    },
    {
      "cell_type": "code",
      "metadata": {
        "id": "E_MW9bDQ6K05",
        "colab_type": "code",
        "colab": {
          "base_uri": "https://localhost:8080/",
          "height": 34
        },
        "outputId": "da977b3f-57a7-47e0-beaf-d37c67244f48"
      },
      "source": [
        "mid"
      ],
      "execution_count": 63,
      "outputs": [
        {
          "output_type": "execute_result",
          "data": {
            "text/plain": [
              "[1, 2, 3, 4, 5, 6, 7, 8]"
            ]
          },
          "metadata": {
            "tags": []
          },
          "execution_count": 63
        }
      ]
    },
    {
      "cell_type": "code",
      "metadata": {
        "pycharm": {
          "name": "#%%\n"
        },
        "id": "61bkm70-Ra7P",
        "colab_type": "code",
        "colab": {}
      },
      "source": [
        "b, *a = 'abcd'"
      ],
      "execution_count": 66,
      "outputs": []
    },
    {
      "cell_type": "code",
      "metadata": {
        "pycharm": {
          "name": "#%%\n"
        },
        "id": "zllBvg54Ra7R",
        "colab_type": "code",
        "colab": {}
      },
      "source": [
        "*a, = 'abcd'"
      ],
      "execution_count": 67,
      "outputs": []
    },
    {
      "cell_type": "code",
      "metadata": {
        "pycharm": {
          "name": "#%%\n"
        },
        "id": "YOguI363Ra7S",
        "colab_type": "code",
        "colab": {
          "base_uri": "https://localhost:8080/",
          "height": 34
        },
        "outputId": "459697c9-9c8a-4b0b-ae39-9e1b0c4b8435"
      },
      "source": [
        "a"
      ],
      "execution_count": 68,
      "outputs": [
        {
          "output_type": "execute_result",
          "data": {
            "text/plain": [
              "['a', 'b', 'c', 'd']"
            ]
          },
          "metadata": {
            "tags": []
          },
          "execution_count": 68
        }
      ]
    },
    {
      "cell_type": "code",
      "metadata": {
        "pycharm": {
          "name": "#%%\n"
        },
        "id": "2EgI5b-qRa7V",
        "colab_type": "code",
        "colab": {}
      },
      "source": [
        "def foo():\n",
        "    return 1,2,3,4\n",
        "\n",
        "a, b, c, d = foo()"
      ],
      "execution_count": 69,
      "outputs": []
    },
    {
      "cell_type": "code",
      "metadata": {
        "pycharm": {
          "name": "#%%\n"
        },
        "id": "VmFO1Iq5Ra7X",
        "colab_type": "code",
        "colab": {
          "base_uri": "https://localhost:8080/",
          "height": 34
        },
        "outputId": "d485acf3-75e1-42cf-b467-2723de3e863e"
      },
      "source": [
        "b"
      ],
      "execution_count": 70,
      "outputs": [
        {
          "output_type": "execute_result",
          "data": {
            "text/plain": [
              "2"
            ]
          },
          "metadata": {
            "tags": []
          },
          "execution_count": 70
        }
      ]
    },
    {
      "cell_type": "code",
      "metadata": {
        "pycharm": {
          "name": "#%%\n"
        },
        "id": "zAaQW1tURa7Z",
        "colab_type": "code",
        "colab": {}
      },
      "source": [
        ""
      ],
      "execution_count": null,
      "outputs": []
    },
    {
      "cell_type": "markdown",
      "metadata": {
        "collapsed": false,
        "id": "1YqNsXlBRa7a",
        "colab_type": "text"
      },
      "source": [
        "# Bonus\n",
        "\n",
        "### Recursion\n",
        "\n",
        "https://en.wikipedia.org/wiki/Fibonacci_number\n",
        "\n",
        "### Characters\n",
        "\n",
        "\n",
        "Special characters have special meaning for Python. They serve purposes as line termination, returning to the beginning of a line, represent tabulator etc. Here are listed some useful special characters and the way they are written:\n",
        "\n",
        "* \\n ASCII linefeed (LF)\n",
        "* \\r Carriage Return (CR)\n",
        "* \\t Horizontal Tab (TAB)\n",
        "* \\b ASCII backspace (BS)\n",
        "* \\f ASCII formfeed (FF)\n",
        "\n",
        "CR = Carriage Return and LF = Line Feed, two expressions have their roots in the old typewriters and terminals. LF moved the paper up (but kept the horizontal position identical) and CR brought back the \"carriage\" so that the next character typed would be at the leftmost position on the paper (but on the same line). CR+LF was doing both, i.e. preparing to type a new line. As time went by the physical semantics of the codes were not applicable, and as memory and floppy disk space were at a premium, some OS designers decided to only use one of the characters, they just didn't communicate very well with one another.\n"
      ]
    }
  ]
}