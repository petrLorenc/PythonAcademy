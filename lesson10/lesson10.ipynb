{
 "cells": [
  {
   "cell_type": "markdown",
   "metadata": {
    "collapsed": true,
    "pycharm": {
     "name": "#%% md\n"
    }
   },
   "source": [
    "# Lesson 10\n",
    "\n",
    "* Quiz & Questions :)\n",
    "* Homeworks\n",
    "* Tic-tac-toe - shared repository"
   ]
  },
  {
   "cell_type": "code",
   "execution_count": 28,
   "outputs": [
    {
     "name": "stdout",
     "output_type": "stream",
     "text": [
      "False\n",
      "False\n",
      "False\n",
      "False\n",
      "True\n",
      "False\n",
      "   -0---1---2---3---4---5---6---7\n",
      "0 | x |   |   |   |   |   |   |   |\n",
      "   ---------------------------------\n",
      "1 |   | x |   |   |   |   |   |   |\n",
      "   ---------------------------------\n",
      "2 |   |   | x |   |   |   |   |   |\n",
      "   ---------------------------------\n",
      "3 |   |   |   | x |   |   |   |   |\n",
      "   ---------------------------------\n",
      "4 |   |   |   |   | x |   |   |   |\n",
      "   ---------------------------------\n",
      "5 |   |   |   |   |   | x |   |   |\n",
      "   ---------------------------------\n",
      "6 |   |   |   |   |   |   |   |   |\n",
      "   ---------------------------------\n",
      "7 |   |   |   |   |   |   |   |   |\n",
      "   ---------------------------------\n",
      "\n",
      "\n",
      "\n",
      "   -0---1---2---3---4---5---6---7\n",
      "0 |   |   |   |   |   |   |   |   |\n",
      "   ---------------------------------\n",
      "1 |   |   |   |   |   |   |   |   |\n",
      "   ---------------------------------\n",
      "2 |   |   |   |   |   |   |   |   |\n",
      "   ---------------------------------\n",
      "3 | O |   |   |   |   |   |   |   |\n",
      "   ---------------------------------\n",
      "4 |   |   |   |   | x |   |   |   |\n",
      "   ---------------------------------\n",
      "5 |   |   |   |   |   |   |   |   |\n",
      "   ---------------------------------\n",
      "6 |   |   |   |   |   |   |   |   |\n",
      "   ---------------------------------\n",
      "7 |   |   |   |   |   |   |   |   |\n",
      "   ---------------------------------\n",
      "   -0---1---2---3---4---5---6---7\n",
      "0 |   |   |   |   |   |   |   |   |\n",
      "   ---------------------------------\n",
      "1 |   |   | O |   |   |   |   |   |\n",
      "   ---------------------------------\n",
      "2 |   |   |   |   |   |   |   |   |\n",
      "   ---------------------------------\n",
      "3 | O |   |   |   |   |   |   |   |\n",
      "   ---------------------------------\n",
      "4 | x |   |   |   | x |   |   |   |\n",
      "   ---------------------------------\n",
      "5 |   |   |   |   |   |   |   |   |\n",
      "   ---------------------------------\n",
      "6 |   |   |   |   |   |   |   |   |\n",
      "   ---------------------------------\n",
      "7 |   |   |   |   |   |   |   |   |\n",
      "   ---------------------------------\n",
      "   -0---1---2---3---4---5---6---7\n",
      "0 | x |   |   |   |   |   |   |   |\n",
      "   ---------------------------------\n",
      "1 |   |   | O |   |   |   |   |   |\n",
      "   ---------------------------------\n",
      "2 |   |   |   |   |   |   |   |   |\n",
      "   ---------------------------------\n",
      "3 | O |   |   |   |   |   |   |   |\n",
      "   ---------------------------------\n",
      "4 | x |   |   |   | x |   |   |   |\n",
      "   ---------------------------------\n",
      "5 |   |   |   |   |   |   |   |   |\n",
      "   ---------------------------------\n",
      "6 |   |   |   |   |   |   |   |   |\n",
      "   ---------------------------------\n",
      "7 |   |   |   |   | O |   |   |   |\n",
      "   ---------------------------------\n",
      "   -0---1---2---3---4---5---6---7\n",
      "0 | x |   |   |   |   |   |   |   |\n",
      "   ---------------------------------\n",
      "1 |   |   | O |   |   |   |   |   |\n",
      "   ---------------------------------\n",
      "2 |   |   |   |   |   |   |   |   |\n",
      "   ---------------------------------\n",
      "3 | O |   |   |   | x |   |   |   |\n",
      "   ---------------------------------\n",
      "4 | x |   |   |   | x |   |   |   |\n",
      "   ---------------------------------\n",
      "5 |   |   |   |   |   |   |   | O |\n",
      "   ---------------------------------\n",
      "6 |   |   |   |   |   |   |   |   |\n",
      "   ---------------------------------\n",
      "7 |   |   |   |   | O |   |   |   |\n",
      "   ---------------------------------\n",
      "   -0---1---2---3---4---5---6---7\n",
      "0 | x |   | x |   |   |   |   |   |\n",
      "   ---------------------------------\n",
      "1 |   |   | O |   |   |   |   |   |\n",
      "   ---------------------------------\n",
      "2 |   |   |   | O |   |   |   |   |\n",
      "   ---------------------------------\n",
      "3 | O |   |   |   | x |   |   |   |\n",
      "   ---------------------------------\n",
      "4 | x |   |   |   | x |   |   |   |\n",
      "   ---------------------------------\n",
      "5 |   |   |   |   |   |   |   | O |\n",
      "   ---------------------------------\n",
      "6 |   |   |   |   |   |   |   |   |\n",
      "   ---------------------------------\n",
      "7 |   |   |   |   | O |   |   |   |\n",
      "   ---------------------------------\n",
      "Not valid move for x at r:0/c:2\n",
      "Not valid move for O at r:5/c:7\n",
      "   -0---1---2---3---4---5---6---7\n",
      "0 | x |   | x |   |   |   |   |   |\n",
      "   ---------------------------------\n",
      "1 |   |   | O |   |   |   |   |   |\n",
      "   ---------------------------------\n",
      "2 |   |   |   | O |   |   |   |   |\n",
      "   ---------------------------------\n",
      "3 | O |   | x |   | x |   |   |   |\n",
      "   ---------------------------------\n",
      "4 | x |   |   |   | x |   |   |   |\n",
      "   ---------------------------------\n",
      "5 |   |   |   |   |   |   | O | O |\n",
      "   ---------------------------------\n",
      "6 |   |   |   |   |   |   |   |   |\n",
      "   ---------------------------------\n",
      "7 |   |   |   |   | O |   |   |   |\n",
      "   ---------------------------------\n",
      "   -0---1---2---3---4---5---6---7\n",
      "0 | x |   | x |   |   | O |   |   |\n",
      "   ---------------------------------\n",
      "1 |   |   | O |   | x |   |   |   |\n",
      "   ---------------------------------\n",
      "2 |   |   |   | O |   |   |   |   |\n",
      "   ---------------------------------\n",
      "3 | O |   | x |   | x |   |   |   |\n",
      "   ---------------------------------\n",
      "4 | x |   |   |   | x |   |   |   |\n",
      "   ---------------------------------\n",
      "5 |   |   |   |   |   |   | O | O |\n",
      "   ---------------------------------\n",
      "6 |   |   |   |   |   |   |   |   |\n",
      "   ---------------------------------\n",
      "7 |   |   |   |   | O |   |   |   |\n",
      "   ---------------------------------\n",
      "   -0---1---2---3---4---5---6---7\n",
      "0 | x |   | x |   |   | O |   |   |\n",
      "   ---------------------------------\n",
      "1 |   |   | O |   | x |   |   |   |\n",
      "   ---------------------------------\n",
      "2 |   |   | x | O |   |   |   |   |\n",
      "   ---------------------------------\n",
      "3 | O |   | x |   | x |   |   |   |\n",
      "   ---------------------------------\n",
      "4 | x |   |   |   | x |   |   |   |\n",
      "   ---------------------------------\n",
      "5 |   |   |   |   |   | O | O | O |\n",
      "   ---------------------------------\n",
      "6 |   |   |   |   |   |   |   |   |\n",
      "   ---------------------------------\n",
      "7 |   |   |   |   | O |   |   |   |\n",
      "   ---------------------------------\n",
      "   -0---1---2---3---4---5---6---7\n",
      "0 | x |   | x |   |   | O |   |   |\n",
      "   ---------------------------------\n",
      "1 |   |   | O |   | x |   |   | O |\n",
      "   ---------------------------------\n",
      "2 |   |   | x | O |   |   |   |   |\n",
      "   ---------------------------------\n",
      "3 | O |   | x |   | x |   |   |   |\n",
      "   ---------------------------------\n",
      "4 | x |   |   |   | x |   |   |   |\n",
      "   ---------------------------------\n",
      "5 |   |   |   |   |   | O | O | O |\n",
      "   ---------------------------------\n",
      "6 |   |   |   |   |   |   |   |   |\n",
      "   ---------------------------------\n",
      "7 | x |   |   |   | O |   |   |   |\n",
      "   ---------------------------------\n",
      "   -0---1---2---3---4---5---6---7\n",
      "0 | x |   | x |   |   | O |   |   |\n",
      "   ---------------------------------\n",
      "1 |   |   | O |   | x |   |   | O |\n",
      "   ---------------------------------\n",
      "2 |   |   | x | O |   |   |   |   |\n",
      "   ---------------------------------\n",
      "3 | O |   | x |   | x | O |   |   |\n",
      "   ---------------------------------\n",
      "4 | x |   |   |   | x |   |   |   |\n",
      "   ---------------------------------\n",
      "5 |   |   |   |   |   | O | O | O |\n",
      "   ---------------------------------\n",
      "6 |   |   |   |   |   | x |   |   |\n",
      "   ---------------------------------\n",
      "7 | x |   |   |   | O |   |   |   |\n",
      "   ---------------------------------\n",
      "Not valid move for O at r:2/c:3\n",
      "   -0---1---2---3---4---5---6---7\n",
      "0 | x |   | x |   |   | O |   |   |\n",
      "   ---------------------------------\n",
      "1 |   |   | O |   | x |   |   | O |\n",
      "   ---------------------------------\n",
      "2 |   |   | x | O |   |   |   |   |\n",
      "   ---------------------------------\n",
      "3 | O |   | x |   | x | O |   |   |\n",
      "   ---------------------------------\n",
      "4 | x |   |   |   | x |   |   |   |\n",
      "   ---------------------------------\n",
      "5 |   |   |   |   |   | O | O | O |\n",
      "   ---------------------------------\n",
      "6 |   |   |   |   |   | x |   |   |\n",
      "   ---------------------------------\n",
      "7 | x |   | x | O | O |   |   |   |\n",
      "   ---------------------------------\n",
      "Not valid move for x at r:0/c:5\n",
      "   -0---1---2---3---4---5---6---7\n",
      "0 | x |   | x |   |   | O |   |   |\n",
      "   ---------------------------------\n",
      "1 |   | x | O |   | x |   |   | O |\n",
      "   ---------------------------------\n",
      "2 |   |   | x | O |   |   |   |   |\n",
      "   ---------------------------------\n",
      "3 | O |   | x |   | x | O |   |   |\n",
      "   ---------------------------------\n",
      "4 | x |   |   |   | x |   |   |   |\n",
      "   ---------------------------------\n",
      "5 |   |   |   |   |   | O | O | O |\n",
      "   ---------------------------------\n",
      "6 |   |   |   |   |   | x |   |   |\n",
      "   ---------------------------------\n",
      "7 | x |   | x | O | O |   |   | O |\n",
      "   ---------------------------------\n",
      "   -0---1---2---3---4---5---6---7\n",
      "0 | x |   | x |   |   | O |   |   |\n",
      "   ---------------------------------\n",
      "1 |   | x | O |   | x |   |   | O |\n",
      "   ---------------------------------\n",
      "2 |   |   | x | O |   |   |   |   |\n",
      "   ---------------------------------\n",
      "3 | O |   | x |   | x | O |   |   |\n",
      "   ---------------------------------\n",
      "4 | x |   |   |   | x |   |   |   |\n",
      "   ---------------------------------\n",
      "5 |   |   |   |   | O | O | O | O |\n",
      "   ---------------------------------\n",
      "6 |   | x |   |   |   | x |   |   |\n",
      "   ---------------------------------\n",
      "7 | x |   | x | O | O |   |   | O |\n",
      "   ---------------------------------\n",
      "   -0---1---2---3---4---5---6---7\n",
      "0 | x |   | x |   |   | O |   |   |\n",
      "   ---------------------------------\n",
      "1 |   | x | O |   | x |   |   | O |\n",
      "   ---------------------------------\n",
      "2 |   |   | x | O |   |   |   |   |\n",
      "   ---------------------------------\n",
      "3 | O |   | x |   | x | O |   |   |\n",
      "   ---------------------------------\n",
      "4 | x |   |   |   | x |   |   |   |\n",
      "   ---------------------------------\n",
      "5 |   |   |   |   | O | O | O | O |\n",
      "   ---------------------------------\n",
      "6 | O | x |   |   |   | x |   |   |\n",
      "   ---------------------------------\n",
      "7 | x |   | x | O | O |   | x | O |\n",
      "   ---------------------------------\n",
      "Not valid move for O at r:3/c:2\n",
      "Not valid move for O at r:7/c:7\n",
      "   -0---1---2---3---4---5---6---7\n",
      "0 | x |   | x |   |   | O |   |   |\n",
      "   ---------------------------------\n",
      "1 |   | x | O |   | x |   |   | O |\n",
      "   ---------------------------------\n",
      "2 | x |   | x | O |   |   |   |   |\n",
      "   ---------------------------------\n",
      "3 | O |   | x |   | x | O |   |   |\n",
      "   ---------------------------------\n",
      "4 | x |   |   |   | x |   |   |   |\n",
      "   ---------------------------------\n",
      "5 |   |   |   |   | O | O | O | O |\n",
      "   ---------------------------------\n",
      "6 | O | x |   |   |   | x | O |   |\n",
      "   ---------------------------------\n",
      "7 | x |   | x | O | O |   | x | O |\n",
      "   ---------------------------------\n",
      "Not valid move for x at r:7/c:2\n",
      "Not valid move for x at r:0/c:0\n",
      "Not valid move for O at r:0/c:5\n",
      "   -0---1---2---3---4---5---6---7\n",
      "0 | x |   | x |   |   | O |   |   |\n",
      "   ---------------------------------\n",
      "1 |   | x | O |   | x |   |   | O |\n",
      "   ---------------------------------\n",
      "2 | x |   | x | O | O |   |   |   |\n",
      "   ---------------------------------\n",
      "3 | O |   | x |   | x | O |   |   |\n",
      "   ---------------------------------\n",
      "4 | x |   |   |   | x |   |   |   |\n",
      "   ---------------------------------\n",
      "5 |   |   |   |   | O | O | O | O |\n",
      "   ---------------------------------\n",
      "6 | O | x |   |   | x | x | O |   |\n",
      "   ---------------------------------\n",
      "7 | x |   | x | O | O |   | x | O |\n",
      "   ---------------------------------\n",
      "   -0---1---2---3---4---5---6---7\n",
      "0 | x |   | x |   |   | O |   |   |\n",
      "   ---------------------------------\n",
      "1 |   | x | O | x | x |   |   | O |\n",
      "   ---------------------------------\n",
      "2 | x |   | x | O | O |   |   |   |\n",
      "   ---------------------------------\n",
      "3 | O |   | x |   | x | O | O |   |\n",
      "   ---------------------------------\n",
      "4 | x |   |   |   | x |   |   |   |\n",
      "   ---------------------------------\n",
      "5 |   |   |   |   | O | O | O | O |\n",
      "   ---------------------------------\n",
      "6 | O | x |   |   | x | x | O |   |\n",
      "   ---------------------------------\n",
      "7 | x |   | x | O | O |   | x | O |\n",
      "   ---------------------------------\n",
      "Not valid move for x at r:4/c:0\n",
      "Not valid move for x at r:0/c:5\n",
      "   -0---1---2---3---4---5---6---7\n",
      "0 | x |   | x |   |   | O |   |   |\n",
      "   ---------------------------------\n",
      "1 |   | x | O | x | x |   |   | O |\n",
      "   ---------------------------------\n",
      "2 | x |   | x | O | O |   |   |   |\n",
      "   ---------------------------------\n",
      "3 | O |   | x |   | x | O | O |   |\n",
      "   ---------------------------------\n",
      "4 | x |   |   |   | x |   |   |   |\n",
      "   ---------------------------------\n",
      "5 |   |   |   |   | O | O | O | O |\n",
      "   ---------------------------------\n",
      "6 | O | x |   |   | x | x | O | O |\n",
      "   ---------------------------------\n",
      "7 | x |   | x | O | O | x | x | O |\n",
      "   ---------------------------------\n",
      "   -0---1---2---3---4---5---6---7\n",
      "0 | x |   | x |   |   | O |   |   |\n",
      "   ---------------------------------\n",
      "1 |   | x | O | x | x |   | O | O |\n",
      "   ---------------------------------\n",
      "2 | x |   | x | O | O |   |   |   |\n",
      "   ---------------------------------\n",
      "3 | O |   | x |   | x | O | O |   |\n",
      "   ---------------------------------\n",
      "4 | x |   | x |   | x |   |   |   |\n",
      "   ---------------------------------\n",
      "5 |   |   |   |   | O | O | O | O |\n",
      "   ---------------------------------\n",
      "6 | O | x |   |   | x | x | O | O |\n",
      "   ---------------------------------\n",
      "7 | x |   | x | O | O | x | x | O |\n",
      "   ---------------------------------\n",
      "Not valid move for x at r:6/c:6\n",
      "Not valid move for O at r:0/c:2\n",
      "Not valid move for O at r:0/c:2\n",
      "   -0---1---2---3---4---5---6---7\n",
      "0 | x |   | x |   |   | O |   |   |\n",
      "   ---------------------------------\n",
      "1 |   | x | O | x | x |   | O | O |\n",
      "   ---------------------------------\n",
      "2 | x |   | x | O | O |   |   | O |\n",
      "   ---------------------------------\n",
      "3 | O |   | x |   | x | O | O |   |\n",
      "   ---------------------------------\n",
      "4 | x |   | x |   | x |   |   |   |\n",
      "   ---------------------------------\n",
      "5 |   |   |   |   | O | O | O | O |\n",
      "   ---------------------------------\n",
      "6 | O | x | x |   | x | x | O | O |\n",
      "   ---------------------------------\n",
      "7 | x |   | x | O | O | x | x | O |\n",
      "   ---------------------------------\n",
      "Not valid move for x at r:5/c:6\n",
      "Not valid move for x at r:1/c:1\n",
      "Not valid move for x at r:6/c:0\n",
      "Not valid move for x at r:3/c:5\n",
      "Not valid move for x at r:4/c:2\n",
      "x has won\n",
      "   -0---1---2---3---4---5---6---7\n",
      "0 | x |   | x |   |   | O |   |   |\n",
      "   ---------------------------------\n",
      "1 |   | x | O | x | x |   | O | O |\n",
      "   ---------------------------------\n",
      "2 | x |   | x | O | O |   |   | O |\n",
      "   ---------------------------------\n",
      "3 | O |   | x |   | x | O | O |   |\n",
      "   ---------------------------------\n",
      "4 | x |   | x |   | x |   |   |   |\n",
      "   ---------------------------------\n",
      "5 |   |   | x |   | O | O | O | O |\n",
      "   ---------------------------------\n",
      "6 | O | x | x |   | x | x | O | O |\n",
      "   ---------------------------------\n",
      "7 | x |   | x | O | O | x | x | O |\n",
      "   ---------------------------------\n"
     ]
    }
   ],
   "source": [
    "class Tournament:\n",
    "    def __init__(self, size, winning_strike=5):\n",
    "        self.size = size\n",
    "        self.winning_strike = winning_strike\n",
    "        self.board = [[' ' for _ in range(size)] for i in range(size)]\n",
    "\n",
    "    def print_board(self):\n",
    "        template_lst = [''] + ['{:^3}' for _ in range(self.size)] + ['']\n",
    "        template = '|'.join(template_lst)\n",
    "        print('   -' + '---'.join([str(idx) for idx in range(self.size)])) # for one square\n",
    "        for idx, line in enumerate(self.board):\n",
    "            print(f\"{idx} \" +template.format(*line))\n",
    "            print('   -' + '-'*self.size*4)\n",
    "\n",
    "    def move(self, sym, row, column):\n",
    "        if row < 0 or row >= self.size or column < 0 or column >= self.size:\n",
    "            print(\"Out of board\")\n",
    "            return False\n",
    "        if self.board[row][column] != ' ':\n",
    "            return False\n",
    "        self.board[row][column] = sym\n",
    "        return True\n",
    "\n",
    "    def is_over(self):\n",
    "        for row in range(self.size):\n",
    "            for column in range(self.size):\n",
    "                if self.board[row][column] == ' ':\n",
    "                    return False\n",
    "        return True\n",
    "\n",
    "    def has_won(self, sym, row=None, column=None):\n",
    "        # OPTIMIZED BUT NOT FINISHED\n",
    "        # left_boundary = column - self.winning_strike if column - self.winning_strike < 0 else 0\n",
    "        # right_boundary = column + self.winning_strike if column + self.winning_strike < self.size else self.size\n",
    "        # upper_boundary = row - self.winning_strike if column - self.winning_strike < 0 else 0\n",
    "        # lower_boundary = row + self.winning_strike if row + self.winning_strike < self.size else self.size\n",
    "        #\n",
    "        # left_upper_dia_boundary = left_boundary + upper_boundary\n",
    "        # left_lower_dia_boundary = left_boundary + lower_boundary\n",
    "        # right_upper_dia_boundary = left_boundary + upper_boundary\n",
    "        # right_lower_dia_boundary = left_boundary + upper_boundary\n",
    "\n",
    "        def check_row(sym, row, column, board, winning_strike):\n",
    "            if row + winning_strike > len(board):\n",
    "                return False\n",
    "            for r in range(row, row + winning_strike):\n",
    "                if board[r][column] != sym:\n",
    "                    return False\n",
    "            return True\n",
    "\n",
    "        def check_column(sym, row, column, board, winning_strike):\n",
    "            if column + winning_strike > len(board):\n",
    "                return False\n",
    "            for c in range(column, column + winning_strike):\n",
    "                if board[row][c] != sym:\n",
    "                    return False\n",
    "            return True\n",
    "\n",
    "        def check_diagonal(sym, row, column, board, winning_strike):\n",
    "            if column + winning_strike > len(board) or row + winning_strike > len(board):\n",
    "                return False\n",
    "            for c, r in zip(range(column, column + winning_strike), range(row, row + winning_strike)):\n",
    "                if board[r][c] != sym:\n",
    "                    return False\n",
    "            return True\n",
    "\n",
    "\n",
    "        for row in range(0, self.size):\n",
    "            for column in range(0, self.size):\n",
    "                if check_row(sym, row, column, self.board, self.winning_strike) or \\\n",
    "                    check_column(sym, row, column, self.board, self.winning_strike) or \\\n",
    "                    check_diagonal(sym, row, column, self.board, self.winning_strike):\n",
    "                    return True\n",
    "        return False\n",
    "\n",
    "\n",
    "import random\n",
    "\n",
    "class Player:\n",
    "    def __init__(self, sym):\n",
    "        self.sym = sym\n",
    "\n",
    "    def play(self): # return tuple (row, column)\n",
    "        return self.sym, random.randint(0, 7), random.randint(0, 7)\n",
    "\n",
    "def play(tournament: Tournament, player1: Player, player2: Player):\n",
    "    while not tournament.is_over():\n",
    "        for pl in [player1, player2]:\n",
    "            while True:\n",
    "                sym, row, column = pl.play()\n",
    "                if tournament.move(sym, row, column):\n",
    "                    break\n",
    "                else:\n",
    "                    print(f\"Not valid move for {sym} at r:{row}/c:{column}\")\n",
    "\n",
    "            if tournament.has_won(sym, row, column):\n",
    "                print(f\"{sym} has won\")\n",
    "                trn.print_board()\n",
    "                return\n",
    "            if tournament.is_over():\n",
    "                print(\"It is tie!\")\n",
    "                trn.print_board()\n",
    "                return\n",
    "        trn.print_board()\n",
    "\n",
    "\n",
    "trn = Tournament(8)\n",
    "trn.move(\"x\", 0, 0)\n",
    "trn.move(\"x\", 1, 1)\n",
    "trn.move(\"x\", 2, 2)\n",
    "trn.move(\"x\", 3, 3)\n",
    "print(trn.has_won(\"x\"))\n",
    "print(trn.has_won(\"o\"))\n",
    "trn.move(\"x\", 5, 5)\n",
    "print(trn.has_won(\"x\"))\n",
    "print(trn.has_won(\"o\"))\n",
    "trn.move(\"x\", 4, 4)\n",
    "print(trn.has_won(\"x\"))\n",
    "print(trn.has_won(\"o\"))\n",
    "trn.print_board()\n",
    "\n",
    "print()\n",
    "print()\n",
    "print()\n",
    "trn = Tournament(8)\n",
    "player1 = Player(\"x\")\n",
    "player2 = Player(\"O\")\n",
    "play(trn, player1, player2)"
   ],
   "metadata": {
    "collapsed": false,
    "pycharm": {
     "name": "#%%\n"
    }
   }
  },
  {
   "cell_type": "markdown",
   "source": [
    "# Modules\n",
    "\n",
    "How Python Gets the Modules for us\n",
    "\n",
    "* information about the modules, that have already been imported into the program - sys.modules\n",
    "* information about where to look for modules to be imported - sys.path\n",
    "\n",
    "\n",
    "### Do you remember OOP?\n",
    "\n",
    "\n",
    "### Task\n",
    "\n",
    "* Creating directory structure according to TXT structured file\n",
    "    * Names of shows for TV serial\n",
    "    * Save to each folder \"a random generated image\"\n",
    "    * Save to each folder a txt file with \"Title\" (second value on tab separated line)\n"
   ],
   "metadata": {
    "collapsed": false,
    "pycharm": {
     "name": "#%% md\n"
    }
   }
  },
  {
   "cell_type": "code",
   "execution_count": 48,
   "outputs": [],
   "source": [
    "with open(\"data/futurama.episodes\", \"r\", encoding=\"utf8\") as f:\n",
    "    data = f.readlines()"
   ],
   "metadata": {
    "collapsed": false,
    "pycharm": {
     "name": "#%%\n"
    }
   }
  },
  {
   "cell_type": "code",
   "execution_count": 49,
   "outputs": [],
   "source": [
    "import numpy\n",
    "from PIL import Image\n",
    "\n",
    "def generate_random_image(path: str):\n",
    "    imarray = numpy.random.rand(100,100,3) * 255\n",
    "    im = Image.fromarray(imarray.astype('uint8')).convert('RGBA')\n",
    "    im.save(path)"
   ],
   "metadata": {
    "collapsed": false,
    "pycharm": {
     "name": "#%%\n"
    }
   }
  },
  {
   "cell_type": "code",
   "execution_count": 50,
   "outputs": [],
   "source": [
    "parsed_data = {}\n",
    "\n",
    "for line in data:\n",
    "    splitted_line = line.split(\"\\t\")\n",
    "    if len(splitted_line) == 1:\n",
    "        label = splitted_line[0].strip()\n",
    "        parsed_data[label] = []\n",
    "    else:\n",
    "        parsed_data[label].append(tuple(map(lambda x: x.strip(\"\\\"\\n\"), splitted_line)))"
   ],
   "metadata": {
    "collapsed": false,
    "pycharm": {
     "name": "#%%\n"
    }
   }
  },
  {
   "cell_type": "code",
   "execution_count": 51,
   "outputs": [],
   "source": [
    "import os\n",
    "\n",
    "root = \"./data/\"\n",
    "for season, tupled_names in parsed_data.items():\n",
    "    for episode_name, title, image_name in tupled_names:\n",
    "        season_path = os.path.join(root, season)\n",
    "        if not os.path.exists(season_path):\n",
    "            os.mkdir(season_path)\n",
    "        episode_path = os.path.join(season_path, episode_name)\n",
    "        if not os.path.exists(episode_path):\n",
    "            os.mkdir(episode_path)\n",
    "\n",
    "        with open(os.path.join(episode_path, title + \".txt\"), \"w\") as f:\n",
    "            f.write(title)\n",
    "        generate_random_image(os.path.join(episode_path, image_name))\n"
   ],
   "metadata": {
    "collapsed": false,
    "pycharm": {
     "name": "#%%\n"
    }
   }
  },
  {
   "cell_type": "markdown",
   "source": [
    "### Next steps\n",
    "* Going through all TXT files and collect all names of episodes with their title\n",
    "* **Simulate** API call to get subtitles for each episode\n",
    "    * Save random text from your text generator from previous lesson (tuned for episode of futurama)"
   ],
   "metadata": {
    "collapsed": false,
    "pycharm": {
     "name": "#%% md\n"
    }
   }
  },
  {
   "cell_type": "code",
   "source": [
    "# from pythonopensubtitles.opensubtitles import OpenSubtitles\n",
    "# ost = OpenSubtitles()\n",
    "# token = ost.login('engeto', 'lasi4ka-4esk8')\n",
    "# ost.search_subtitles(\"hash of video file\")\n",
    "\n",
    "import os\n",
    "root = \"./data/\"\n",
    "\n",
    "for dirpath, dirnames, filenames in os.walk(root):\n",
    "    for file in filenames:\n",
    "        if \"txt\" in file:\n",
    "            print(\"API call\")"
   ],
   "metadata": {
    "collapsed": false,
    "pycharm": {
     "name": "#%%\n"
    }
   },
   "execution_count": 52,
   "outputs": [
    {
     "name": "stdout",
     "output_type": "stream",
     "text": [
      "API call\n",
      "API call\n",
      "API call\n",
      "API call\n",
      "API call\n",
      "API call\n",
      "API call\n",
      "API call\n",
      "API call\n",
      "API call\n",
      "API call\n",
      "API call\n",
      "API call\n",
      "API call\n",
      "API call\n",
      "API call\n",
      "API call\n",
      "API call\n",
      "API call\n",
      "API call\n",
      "API call\n",
      "API call\n",
      "API call\n",
      "API call\n",
      "API call\n",
      "API call\n",
      "API call\n",
      "API call\n",
      "API call\n",
      "API call\n",
      "API call\n",
      "API call\n",
      "API call\n",
      "API call\n",
      "API call\n",
      "API call\n",
      "API call\n",
      "API call\n",
      "API call\n",
      "API call\n",
      "API call\n",
      "API call\n",
      "API call\n",
      "API call\n",
      "API call\n",
      "API call\n",
      "API call\n",
      "API call\n",
      "API call\n",
      "API call\n",
      "API call\n",
      "API call\n",
      "API call\n",
      "API call\n",
      "API call\n",
      "API call\n",
      "API call\n",
      "API call\n",
      "API call\n",
      "API call\n",
      "API call\n",
      "API call\n",
      "API call\n",
      "API call\n",
      "API call\n",
      "API call\n",
      "API call\n",
      "API call\n",
      "API call\n",
      "API call\n",
      "API call\n",
      "API call\n",
      "API call\n",
      "API call\n",
      "API call\n",
      "API call\n",
      "API call\n",
      "API call\n",
      "API call\n",
      "API call\n",
      "API call\n",
      "API call\n",
      "API call\n",
      "API call\n",
      "API call\n",
      "API call\n",
      "API call\n",
      "API call\n",
      "API call\n",
      "API call\n",
      "API call\n",
      "API call\n",
      "API call\n",
      "API call\n",
      "API call\n",
      "API call\n",
      "API call\n",
      "API call\n",
      "API call\n",
      "API call\n",
      "API call\n",
      "API call\n",
      "API call\n",
      "API call\n",
      "API call\n",
      "API call\n",
      "API call\n",
      "API call\n",
      "API call\n",
      "API call\n",
      "API call\n",
      "API call\n",
      "API call\n",
      "API call\n",
      "API call\n",
      "API call\n",
      "API call\n",
      "API call\n",
      "API call\n",
      "API call\n",
      "API call\n",
      "API call\n",
      "API call\n",
      "API call\n",
      "API call\n",
      "API call\n",
      "API call\n",
      "API call\n",
      "API call\n",
      "API call\n",
      "API call\n",
      "API call\n",
      "API call\n",
      "API call\n",
      "API call\n",
      "API call\n",
      "API call\n",
      "API call\n",
      "API call\n",
      "API call\n",
      "API call\n",
      "API call\n",
      "API call\n",
      "API call\n",
      "API call\n",
      "API call\n",
      "API call\n"
     ]
    }
   ]
  },
  {
   "cell_type": "markdown",
   "source": [
    "### Next steps\n",
    "* rename all png files to **title**.png\n",
    "* copy all images to image folder"
   ],
   "metadata": {
    "collapsed": false
   }
  },
  {
   "cell_type": "code",
   "execution_count": 53,
   "outputs": [
    {
     "ename": "Error",
     "evalue": "Destination path './data/image/The Proud Result of Prison Labor.png' already exists",
     "output_type": "error",
     "traceback": [
      "\u001B[0;31m---------------------------------------------------------------------------\u001B[0m",
      "\u001B[0;31mError\u001B[0m                                     Traceback (most recent call last)",
      "\u001B[0;32m<ipython-input-53-f1f9a0b41f95>\u001B[0m in \u001B[0;36m<module>\u001B[0;34m\u001B[0m\n\u001B[1;32m     17\u001B[0m     \u001B[0;32mif\u001B[0m \u001B[0mtxt_name\u001B[0m \u001B[0;32mand\u001B[0m \u001B[0mimage_name\u001B[0m\u001B[0;34m:\u001B[0m\u001B[0;34m\u001B[0m\u001B[0;34m\u001B[0m\u001B[0m\n\u001B[1;32m     18\u001B[0m         \u001B[0mshutil\u001B[0m\u001B[0;34m.\u001B[0m\u001B[0mcopy\u001B[0m\u001B[0;34m(\u001B[0m\u001B[0mos\u001B[0m\u001B[0;34m.\u001B[0m\u001B[0mpath\u001B[0m\u001B[0;34m.\u001B[0m\u001B[0mjoin\u001B[0m\u001B[0;34m(\u001B[0m\u001B[0mdirpath\u001B[0m\u001B[0;34m,\u001B[0m \u001B[0mimage_name\u001B[0m\u001B[0;34m)\u001B[0m\u001B[0;34m,\u001B[0m \u001B[0mos\u001B[0m\u001B[0;34m.\u001B[0m\u001B[0mpath\u001B[0m\u001B[0;34m.\u001B[0m\u001B[0mjoin\u001B[0m\u001B[0;34m(\u001B[0m\u001B[0mdirpath\u001B[0m\u001B[0;34m,\u001B[0m \u001B[0mtxt_name\u001B[0m\u001B[0;34m.\u001B[0m\u001B[0msplit\u001B[0m\u001B[0;34m(\u001B[0m\u001B[0;34m\".\"\u001B[0m\u001B[0;34m)\u001B[0m\u001B[0;34m[\u001B[0m\u001B[0;36m0\u001B[0m\u001B[0;34m]\u001B[0m \u001B[0;34m+\u001B[0m \u001B[0;34m\".png\"\u001B[0m\u001B[0;34m)\u001B[0m\u001B[0;34m)\u001B[0m\u001B[0;34m\u001B[0m\u001B[0;34m\u001B[0m\u001B[0m\n\u001B[0;32m---> 19\u001B[0;31m         \u001B[0mshutil\u001B[0m\u001B[0;34m.\u001B[0m\u001B[0mmove\u001B[0m\u001B[0;34m(\u001B[0m\u001B[0mos\u001B[0m\u001B[0;34m.\u001B[0m\u001B[0mpath\u001B[0m\u001B[0;34m.\u001B[0m\u001B[0mjoin\u001B[0m\u001B[0;34m(\u001B[0m\u001B[0mdirpath\u001B[0m\u001B[0;34m,\u001B[0m \u001B[0mtxt_name\u001B[0m\u001B[0;34m.\u001B[0m\u001B[0msplit\u001B[0m\u001B[0;34m(\u001B[0m\u001B[0;34m\".\"\u001B[0m\u001B[0;34m)\u001B[0m\u001B[0;34m[\u001B[0m\u001B[0;36m0\u001B[0m\u001B[0;34m]\u001B[0m \u001B[0;34m+\u001B[0m \u001B[0;34m\".png\"\u001B[0m\u001B[0;34m)\u001B[0m\u001B[0;34m,\u001B[0m \u001B[0mimage_folder\u001B[0m\u001B[0;34m)\u001B[0m\u001B[0;34m\u001B[0m\u001B[0;34m\u001B[0m\u001B[0m\n\u001B[0m\u001B[1;32m     20\u001B[0m \u001B[0;34m\u001B[0m\u001B[0m\n\u001B[1;32m     21\u001B[0m \u001B[0;34m\u001B[0m\u001B[0m\n",
      "\u001B[0;32m~/.virtualenvs/engeto/lib/python3.6/shutil.py\u001B[0m in \u001B[0;36mmove\u001B[0;34m(src, dst, copy_function)\u001B[0m\n\u001B[1;32m    546\u001B[0m         \u001B[0mreal_dst\u001B[0m \u001B[0;34m=\u001B[0m \u001B[0mos\u001B[0m\u001B[0;34m.\u001B[0m\u001B[0mpath\u001B[0m\u001B[0;34m.\u001B[0m\u001B[0mjoin\u001B[0m\u001B[0;34m(\u001B[0m\u001B[0mdst\u001B[0m\u001B[0;34m,\u001B[0m \u001B[0m_basename\u001B[0m\u001B[0;34m(\u001B[0m\u001B[0msrc\u001B[0m\u001B[0;34m)\u001B[0m\u001B[0;34m)\u001B[0m\u001B[0;34m\u001B[0m\u001B[0;34m\u001B[0m\u001B[0m\n\u001B[1;32m    547\u001B[0m         \u001B[0;32mif\u001B[0m \u001B[0mos\u001B[0m\u001B[0;34m.\u001B[0m\u001B[0mpath\u001B[0m\u001B[0;34m.\u001B[0m\u001B[0mexists\u001B[0m\u001B[0;34m(\u001B[0m\u001B[0mreal_dst\u001B[0m\u001B[0;34m)\u001B[0m\u001B[0;34m:\u001B[0m\u001B[0;34m\u001B[0m\u001B[0;34m\u001B[0m\u001B[0m\n\u001B[0;32m--> 548\u001B[0;31m             \u001B[0;32mraise\u001B[0m \u001B[0mError\u001B[0m\u001B[0;34m(\u001B[0m\u001B[0;34m\"Destination path '%s' already exists\"\u001B[0m \u001B[0;34m%\u001B[0m \u001B[0mreal_dst\u001B[0m\u001B[0;34m)\u001B[0m\u001B[0;34m\u001B[0m\u001B[0;34m\u001B[0m\u001B[0m\n\u001B[0m\u001B[1;32m    549\u001B[0m     \u001B[0;32mtry\u001B[0m\u001B[0;34m:\u001B[0m\u001B[0;34m\u001B[0m\u001B[0;34m\u001B[0m\u001B[0m\n\u001B[1;32m    550\u001B[0m         \u001B[0mos\u001B[0m\u001B[0;34m.\u001B[0m\u001B[0mrename\u001B[0m\u001B[0;34m(\u001B[0m\u001B[0msrc\u001B[0m\u001B[0;34m,\u001B[0m \u001B[0mreal_dst\u001B[0m\u001B[0;34m)\u001B[0m\u001B[0;34m\u001B[0m\u001B[0;34m\u001B[0m\u001B[0m\n",
      "\u001B[0;31mError\u001B[0m: Destination path './data/image/The Proud Result of Prison Labor.png' already exists"
     ]
    }
   ],
   "source": [
    "import os\n",
    "import shutil\n",
    "\n",
    "root = \"./data/\"\n",
    "image_folder = os.path.join(root, \"image\")\n",
    "if not os.path.exists(image_folder):\n",
    "    os.mkdir(image_folder)\n",
    "\n",
    "for dirpath, dirnames, filenames in os.walk(root):\n",
    "    txt_name = \"\"\n",
    "    image_name = \"\"\n",
    "    for file in filenames:\n",
    "        if \"txt\" in file:\n",
    "            txt_name = file\n",
    "        if \"png\" in file:\n",
    "            image_name = file\n",
    "    if txt_name and image_name:\n",
    "        shutil.copy(os.path.join(dirpath, image_name), os.path.join(dirpath, txt_name.split(\".\")[0] + \".png\"))\n",
    "        shutil.move(os.path.join(dirpath, txt_name.split(\".\")[0] + \".png\"), image_folder)\n"
   ],
   "metadata": {
    "collapsed": false,
    "pycharm": {
     "name": "#%%\n"
    }
   }
  },
  {
   "cell_type": "markdown",
   "source": [
    "### Represent each season as class"
   ],
   "metadata": {
    "collapsed": false,
    "pycharm": {
     "name": "#%% md\n"
    }
   }
  },
  {
   "cell_type": "markdown",
   "source": [
    "We already know\n",
    "```\n",
    "__name__ == '__main__'\n",
    "```\n",
    "\n",
    "Every module has access to its own variable __name__. This variable tells us, whether a given module is executed as a script (from a comand line) or it is imported as a module.\n",
    "\n",
    "\n",
    "### Importing Modules\n",
    "\n",
    "* Create absolute or relative path from given folder and file names\n",
    "* Determine, whether a given path is absolute or relative\n",
    "* Extract file name from a path\n",
    "* Extract file extension from a path\n",
    "* Extract nth item from a path"
   ],
   "metadata": {
    "collapsed": false
   }
  },
  {
   "cell_type": "code",
   "execution_count": 30,
   "outputs": [
    {
     "data": {
      "text/plain": "'lib/lsb/init-functions'"
     },
     "execution_count": 30,
     "metadata": {},
     "output_type": "execute_result"
    }
   ],
   "source": [
    "os.path.join(*['lib', 'lsb', 'init-functions'])"
   ],
   "metadata": {
    "collapsed": false,
    "pycharm": {
     "name": "#%%\n"
    }
   }
  },
  {
   "cell_type": "code",
   "execution_count": null,
   "outputs": [],
   "source": [
    "import sys\n",
    "import os\n",
    "from os.path import dirname\n",
    "\n",
    "sys.path += [dirname(os.getcwd())]\n",
    "print(sys.path)"
   ],
   "metadata": {
    "collapsed": false,
    "pycharm": {
     "name": "#%%\n"
    }
   }
  },
  {
   "cell_type": "markdown",
   "source": [
    "When Python imports module into another module, it performs these two actions:\n",
    "\n",
    "* Search for the imported module\n",
    "* Module compilation into bytecode\n",
    "* Running the code found inside the imported module\n",
    "\n",
    "All this loading steps take place only the first time when import statement is encountered during the execution of a program. If the same import statement is encountered later during the session, Python just fetches module object already available in the memory from sys.modules variable.\n",
    "\n",
    "\n",
    "Once the module is found, it has to be loaded into the importing program. The goal of loading the module into a program is a creation of module object.\n",
    "\n",
    "Every variable declared in the global scope of the imported module is loaded into the importing script. These variables are then accessible as imported object attributes using the dot notation."
   ],
   "metadata": {
    "collapsed": false,
    "pycharm": {
     "name": "#%% md\n"
    }
   }
  },
  {
   "cell_type": "code",
   "execution_count": 31,
   "outputs": [
    {
     "data": {
      "text/plain": "{'__name__': 'random',\n '__doc__': 'Random variable generators.\\n\\n    integers\\n    --------\\n           uniform within range\\n\\n    sequences\\n    ---------\\n           pick random element\\n           pick random sample\\n           pick weighted random sample\\n           generate random permutation\\n\\n    distributions on the real line:\\n    ------------------------------\\n           uniform\\n           triangular\\n           normal (Gaussian)\\n           lognormal\\n           negative exponential\\n           gamma\\n           beta\\n           pareto\\n           Weibull\\n\\n    distributions on the circle (angles 0 to 2pi)\\n    ---------------------------------------------\\n           circular uniform\\n           von Mises\\n\\nGeneral notes on the underlying Mersenne Twister core generator:\\n\\n* The period is 2**19937-1.\\n* It is one of the most extensively tested generators in existence.\\n* The random() method is implemented in C, executes in a single Python step,\\n  and is, therefore, threadsafe.\\n\\n',\n '__package__': '',\n '__loader__': <_frozen_importlib_external.SourceFileLoader at 0x7f23d4cea9e8>,\n '__spec__': ModuleSpec(name='random', loader=<_frozen_importlib_external.SourceFileLoader object at 0x7f23d4cea9e8>, origin='/home/petrlorenc/.virtualenvs/engeto/lib/python3.6/random.py'),\n '__file__': '/home/petrlorenc/.virtualenvs/engeto/lib/python3.6/random.py',\n '__cached__': '/home/petrlorenc/.virtualenvs/engeto/lib/python3.6/__pycache__/random.cpython-36.pyc',\n '__builtins__': {'__name__': 'builtins',\n  '__doc__': \"Built-in functions, exceptions, and other objects.\\n\\nNoteworthy: None is the `nil' object; Ellipsis represents `...' in slices.\",\n  '__package__': '',\n  '__loader__': _frozen_importlib.BuiltinImporter,\n  '__spec__': ModuleSpec(name='builtins', loader=<class '_frozen_importlib.BuiltinImporter'>),\n  '__build_class__': <function __build_class__>,\n  '__import__': <function __import__>,\n  'abs': <function abs(x, /)>,\n  'all': <function all(iterable, /)>,\n  'any': <function any(iterable, /)>,\n  'ascii': <function ascii(obj, /)>,\n  'bin': <function bin(number, /)>,\n  'callable': <function callable(obj, /)>,\n  'chr': <function chr(i, /)>,\n  'compile': <function compile(source, filename, mode, flags=0, dont_inherit=False, optimize=-1)>,\n  'delattr': <function delattr(obj, name, /)>,\n  'dir': <function dir>,\n  'divmod': <function divmod(x, y, /)>,\n  'eval': <function eval(source, globals=None, locals=None, /)>,\n  'exec': <function exec(source, globals=None, locals=None, /)>,\n  'format': <function format(value, format_spec='', /)>,\n  'getattr': <function getattr>,\n  'globals': <function globals()>,\n  'hasattr': <function hasattr(obj, name, /)>,\n  'hash': <function hash(obj, /)>,\n  'hex': <function hex(number, /)>,\n  'id': <function id(obj, /)>,\n  'input': <bound method Kernel.raw_input of <ipykernel.ipkernel.IPythonKernel object at 0x7f23ce9339b0>>,\n  'isinstance': <function isinstance(obj, class_or_tuple, /)>,\n  'issubclass': <function issubclass(cls, class_or_tuple, /)>,\n  'iter': <function iter>,\n  'len': <function len(obj, /)>,\n  'locals': <function locals()>,\n  'max': <function max>,\n  'min': <function min>,\n  'next': <function next>,\n  'oct': <function oct(number, /)>,\n  'ord': <function ord(c, /)>,\n  'pow': <function pow(x, y, z=None, /)>,\n  'print': <function print>,\n  'repr': <function repr(obj, /)>,\n  'round': <function round>,\n  'setattr': <function setattr(obj, name, value, /)>,\n  'sorted': <function sorted(iterable, /, *, key=None, reverse=False)>,\n  'sum': <function sum(iterable, start=0, /)>,\n  'vars': <function vars>,\n  'None': None,\n  'Ellipsis': Ellipsis,\n  'NotImplemented': NotImplemented,\n  'False': False,\n  'True': True,\n  'bool': bool,\n  'memoryview': memoryview,\n  'bytearray': bytearray,\n  'bytes': bytes,\n  'classmethod': classmethod,\n  'complex': complex,\n  'dict': dict,\n  'enumerate': enumerate,\n  'filter': filter,\n  'float': float,\n  'frozenset': frozenset,\n  'property': property,\n  'int': int,\n  'list': list,\n  'map': map,\n  'object': object,\n  'range': range,\n  'reversed': reversed,\n  'set': set,\n  'slice': slice,\n  'staticmethod': staticmethod,\n  'str': str,\n  'super': super,\n  'tuple': tuple,\n  'type': type,\n  'zip': zip,\n  '__debug__': True,\n  'BaseException': BaseException,\n  'Exception': Exception,\n  'TypeError': TypeError,\n  'StopAsyncIteration': StopAsyncIteration,\n  'StopIteration': StopIteration,\n  'GeneratorExit': GeneratorExit,\n  'SystemExit': SystemExit,\n  'KeyboardInterrupt': KeyboardInterrupt,\n  'ImportError': ImportError,\n  'ModuleNotFoundError': ModuleNotFoundError,\n  'OSError': OSError,\n  'EnvironmentError': OSError,\n  'IOError': OSError,\n  'EOFError': EOFError,\n  'RuntimeError': RuntimeError,\n  'RecursionError': RecursionError,\n  'NotImplementedError': NotImplementedError,\n  'NameError': NameError,\n  'UnboundLocalError': UnboundLocalError,\n  'AttributeError': AttributeError,\n  'SyntaxError': SyntaxError,\n  'IndentationError': IndentationError,\n  'TabError': TabError,\n  'LookupError': LookupError,\n  'IndexError': IndexError,\n  'KeyError': KeyError,\n  'ValueError': ValueError,\n  'UnicodeError': UnicodeError,\n  'UnicodeEncodeError': UnicodeEncodeError,\n  'UnicodeDecodeError': UnicodeDecodeError,\n  'UnicodeTranslateError': UnicodeTranslateError,\n  'AssertionError': AssertionError,\n  'ArithmeticError': ArithmeticError,\n  'FloatingPointError': FloatingPointError,\n  'OverflowError': OverflowError,\n  'ZeroDivisionError': ZeroDivisionError,\n  'SystemError': SystemError,\n  'ReferenceError': ReferenceError,\n  'BufferError': BufferError,\n  'MemoryError': MemoryError,\n  'Warning': Warning,\n  'UserWarning': UserWarning,\n  'DeprecationWarning': DeprecationWarning,\n  'PendingDeprecationWarning': PendingDeprecationWarning,\n  'SyntaxWarning': SyntaxWarning,\n  'RuntimeWarning': RuntimeWarning,\n  'FutureWarning': FutureWarning,\n  'ImportWarning': ImportWarning,\n  'UnicodeWarning': UnicodeWarning,\n  'BytesWarning': BytesWarning,\n  'ResourceWarning': ResourceWarning,\n  'ConnectionError': ConnectionError,\n  'BlockingIOError': BlockingIOError,\n  'BrokenPipeError': BrokenPipeError,\n  'ChildProcessError': ChildProcessError,\n  'ConnectionAbortedError': ConnectionAbortedError,\n  'ConnectionRefusedError': ConnectionRefusedError,\n  'ConnectionResetError': ConnectionResetError,\n  'FileExistsError': FileExistsError,\n  'FileNotFoundError': FileNotFoundError,\n  'IsADirectoryError': IsADirectoryError,\n  'NotADirectoryError': NotADirectoryError,\n  'InterruptedError': InterruptedError,\n  'PermissionError': PermissionError,\n  'ProcessLookupError': ProcessLookupError,\n  'TimeoutError': TimeoutError,\n  'open': <function io.open(file, mode='r', buffering=-1, encoding=None, errors=None, newline=None, closefd=True, opener=None)>,\n  'copyright': Copyright (c) 2001-2019 Python Software Foundation.\n  All Rights Reserved.\n  \n  Copyright (c) 2000 BeOpen.com.\n  All Rights Reserved.\n  \n  Copyright (c) 1995-2001 Corporation for National Research Initiatives.\n  All Rights Reserved.\n  \n  Copyright (c) 1991-1995 Stichting Mathematisch Centrum, Amsterdam.\n  All Rights Reserved.,\n  'credits':     Thanks to CWI, CNRI, BeOpen.com, Zope Corporation and a cast of thousands\n      for supporting Python development.  See www.python.org for more information.,\n  'license': Type license() to see the full license text,\n  'help': Type help() for interactive help, or help(object) for help about object.,\n  '__IPYTHON__': True,\n  'display': <function IPython.core.display.display(*objs, include=None, exclude=None, metadata=None, transient=None, display_id=None, **kwargs)>,\n  'get_ipython': <bound method InteractiveShell.get_ipython of <ipykernel.zmqshell.ZMQInteractiveShell object at 0x7f23ce933b00>>},\n '_warn': <function _warnings.warn>,\n '_MethodType': method,\n '_BuiltinMethodType': builtin_function_or_method,\n '_log': <function math.log>,\n '_exp': <function math.exp>,\n '_pi': 3.141592653589793,\n '_e': 2.718281828459045,\n '_ceil': <function math.ceil>,\n '_sqrt': <function math.sqrt>,\n '_acos': <function math.acos>,\n '_cos': <function math.cos>,\n '_sin': <function math.sin>,\n '_urandom': <function posix.urandom(size, /)>,\n '_Set': collections.abc.Set,\n '_Sequence': collections.abc.Sequence,\n '_sha512': <function _hashlib.openssl_sha512>,\n '_itertools': <module 'itertools' (built-in)>,\n '_bisect': <module 'bisect' from '/home/petrlorenc/.virtualenvs/engeto/lib/python3.6/bisect.py'>,\n '__all__': ['Random',\n  'seed',\n  'random',\n  'uniform',\n  'randint',\n  'choice',\n  'sample',\n  'randrange',\n  'shuffle',\n  'normalvariate',\n  'lognormvariate',\n  'expovariate',\n  'vonmisesvariate',\n  'gammavariate',\n  'triangular',\n  'gauss',\n  'betavariate',\n  'paretovariate',\n  'weibullvariate',\n  'getstate',\n  'setstate',\n  'getrandbits',\n  'choices',\n  'SystemRandom'],\n 'NV_MAGICCONST': 1.7155277699214135,\n 'TWOPI': 6.283185307179586,\n 'LOG4': 1.3862943611198906,\n 'SG_MAGICCONST': 2.504077396776274,\n 'BPF': 53,\n 'RECIP_BPF': 1.1102230246251565e-16,\n '_random': <module '_random' (built-in)>,\n 'Random': random.Random,\n 'SystemRandom': random.SystemRandom,\n '_test_generator': <function random._test_generator(n, func, args)>,\n '_test': <function random._test(N=2000)>,\n '_inst': <random.Random at 0x2b1b3c8>,\n 'seed': <bound method Random.seed of <random.Random object at 0x2b1b3c8>>,\n 'random': <function Random.random>,\n 'uniform': <bound method Random.uniform of <random.Random object at 0x2b1b3c8>>,\n 'triangular': <bound method Random.triangular of <random.Random object at 0x2b1b3c8>>,\n 'randint': <bound method Random.randint of <random.Random object at 0x2b1b3c8>>,\n 'choice': <bound method Random.choice of <random.Random object at 0x2b1b3c8>>,\n 'randrange': <bound method Random.randrange of <random.Random object at 0x2b1b3c8>>,\n 'sample': <bound method Random.sample of <random.Random object at 0x2b1b3c8>>,\n 'shuffle': <bound method Random.shuffle of <random.Random object at 0x2b1b3c8>>,\n 'choices': <bound method Random.choices of <random.Random object at 0x2b1b3c8>>,\n 'normalvariate': <bound method Random.normalvariate of <random.Random object at 0x2b1b3c8>>,\n 'lognormvariate': <bound method Random.lognormvariate of <random.Random object at 0x2b1b3c8>>,\n 'expovariate': <bound method Random.expovariate of <random.Random object at 0x2b1b3c8>>,\n 'vonmisesvariate': <bound method Random.vonmisesvariate of <random.Random object at 0x2b1b3c8>>,\n 'gammavariate': <bound method Random.gammavariate of <random.Random object at 0x2b1b3c8>>,\n 'gauss': <bound method Random.gauss of <random.Random object at 0x2b1b3c8>>,\n 'betavariate': <bound method Random.betavariate of <random.Random object at 0x2b1b3c8>>,\n 'paretovariate': <bound method Random.paretovariate of <random.Random object at 0x2b1b3c8>>,\n 'weibullvariate': <bound method Random.weibullvariate of <random.Random object at 0x2b1b3c8>>,\n 'getstate': <bound method Random.getstate of <random.Random object at 0x2b1b3c8>>,\n 'setstate': <bound method Random.setstate of <random.Random object at 0x2b1b3c8>>,\n 'getrandbits': <function Random.getrandbits>}"
     },
     "execution_count": 31,
     "metadata": {},
     "output_type": "execute_result"
    }
   ],
   "source": [
    "import random\n",
    "random.__dict__"
   ],
   "metadata": {
    "collapsed": false,
    "pycharm": {
     "name": "#%%\n"
    }
   }
  },
  {
   "cell_type": "markdown",
   "source": [
    "### Creating modules\n",
    "\n",
    "Python module names must follow the variable naming rules in Python. This is because the file name becomes variable name inside the program that imports it.\n",
    "\n",
    "Thus we cannot give a Python file:\n",
    "\n",
    "* a name of a reserved keyword,\n",
    "* a name that would begin with a number,\n",
    "* or a name that would contain a space character.\n",
    "\n",
    "It is also good to name your Python files differently than the standard library modules or 3rd party modules, in order to avoid name clashes during the import.\n"
   ],
   "metadata": {
    "collapsed": false,
    "pycharm": {
     "name": "#%% md\n"
    }
   }
  },
  {
   "cell_type": "markdown",
   "source": [
    "### Data hiding\n",
    "\n",
    "By data hiding we refer to the fact, that the programmer can specify, what module attributes cannot be imported using\n",
    "\n",
    "```from module import *```\n",
    "\n",
    " syntax. This specification can have 2 forms:\n",
    "\n",
    "* Variable names beginning with a single underscore **will not** be imported\n",
    "* Using \\_\\_all\\_\\_ variable to specify what **will be** imported"
   ],
   "metadata": {
    "collapsed": false,
    "pycharm": {
     "name": "#%% md\n"
    }
   }
  },
  {
   "cell_type": "code",
   "execution_count": 1,
   "outputs": [
    {
     "name": "stdout",
     "output_type": "stream",
     "text": [
      "Print is being executed\n"
     ]
    }
   ],
   "source": [
    "from lesson10.my_module.data_hiding import *"
   ],
   "metadata": {
    "collapsed": false,
    "pycharm": {
     "name": "#%%\n"
    }
   }
  },
  {
   "cell_type": "code",
   "execution_count": 2,
   "outputs": [
    {
     "ename": "NameError",
     "evalue": "name '__secret__' is not defined",
     "output_type": "error",
     "traceback": [
      "\u001B[0;31m---------------------------------------------------------------------------\u001B[0m",
      "\u001B[0;31mNameError\u001B[0m                                 Traceback (most recent call last)",
      "\u001B[0;32m<ipython-input-2-9292950145e8>\u001B[0m in \u001B[0;36m<module>\u001B[0;34m\u001B[0m\n\u001B[0;32m----> 1\u001B[0;31m \u001B[0m__secret__\u001B[0m\u001B[0;34m(\u001B[0m\u001B[0;34m)\u001B[0m\u001B[0;34m\u001B[0m\u001B[0;34m\u001B[0m\u001B[0m\n\u001B[0m",
      "\u001B[0;31mNameError\u001B[0m: name '__secret__' is not defined"
     ]
    }
   ],
   "source": [
    "__secret__()"
   ],
   "metadata": {
    "collapsed": false,
    "pycharm": {
     "name": "#%%\n"
    }
   }
  },
  {
   "cell_type": "code",
   "execution_count": 3,
   "outputs": [
    {
     "data": {
      "text/plain": "52"
     },
     "execution_count": 3,
     "metadata": {},
     "output_type": "execute_result"
    }
   ],
   "source": [
    "var1"
   ],
   "metadata": {
    "collapsed": false,
    "pycharm": {
     "name": "#%%\n"
    }
   }
  },
  {
   "cell_type": "code",
   "execution_count": 4,
   "outputs": [
    {
     "data": {
      "text/plain": "4"
     },
     "execution_count": 4,
     "metadata": {},
     "output_type": "execute_result"
    }
   ],
   "source": [
    "func(1,3)"
   ],
   "metadata": {
    "collapsed": false,
    "pycharm": {
     "name": "#%%\n"
    }
   }
  },
  {
   "cell_type": "code",
   "execution_count": 5,
   "outputs": [
    {
     "ename": "NameError",
     "evalue": "name '_secret' is not defined",
     "output_type": "error",
     "traceback": [
      "\u001B[0;31m---------------------------------------------------------------------------\u001B[0m",
      "\u001B[0;31mNameError\u001B[0m                                 Traceback (most recent call last)",
      "\u001B[0;32m<ipython-input-5-2a30439c6e08>\u001B[0m in \u001B[0;36m<module>\u001B[0;34m\u001B[0m\n\u001B[0;32m----> 1\u001B[0;31m \u001B[0m_secret\u001B[0m\u001B[0;34m\u001B[0m\u001B[0;34m\u001B[0m\u001B[0m\n\u001B[0m",
      "\u001B[0;31mNameError\u001B[0m: name '_secret' is not defined"
     ]
    }
   ],
   "source": [
    "_secret"
   ],
   "metadata": {
    "collapsed": false,
    "pycharm": {
     "name": "#%%\n"
    }
   }
  },
  {
   "cell_type": "code",
   "execution_count": 6,
   "outputs": [],
   "source": [
    "from lesson10.my_module.data_hiding import _secret"
   ],
   "metadata": {
    "collapsed": false,
    "pycharm": {
     "name": "#%%\n"
    }
   }
  },
  {
   "cell_type": "code",
   "execution_count": 7,
   "outputs": [
    {
     "data": {
      "text/plain": "'Password123'"
     },
     "execution_count": 7,
     "metadata": {},
     "output_type": "execute_result"
    }
   ],
   "source": [
    "_secret\n"
   ],
   "metadata": {
    "collapsed": false,
    "pycharm": {
     "name": "#%%\n"
    }
   }
  },
  {
   "cell_type": "code",
   "execution_count": 10,
   "outputs": [],
   "source": [
    "from lesson10.my_module.data_hiding2 import *"
   ],
   "metadata": {
    "collapsed": false,
    "pycharm": {
     "name": "#%%\n"
    }
   }
  },
  {
   "cell_type": "code",
   "execution_count": 11,
   "outputs": [
    {
     "data": {
      "text/plain": "100"
     },
     "execution_count": 11,
     "metadata": {},
     "output_type": "execute_result"
    }
   ],
   "source": [
    "var1"
   ],
   "metadata": {
    "collapsed": false,
    "pycharm": {
     "name": "#%%\n"
    }
   }
  },
  {
   "cell_type": "code",
   "execution_count": 12,
   "outputs": [
    {
     "data": {
      "text/plain": "53"
     },
     "execution_count": 12,
     "metadata": {},
     "output_type": "execute_result"
    }
   ],
   "source": [
    "var2"
   ],
   "metadata": {
    "collapsed": false,
    "pycharm": {
     "name": "#%%\n"
    }
   }
  },
  {
   "cell_type": "code",
   "execution_count": 14,
   "outputs": [
    {
     "data": {
      "text/plain": "<module 'random' from '/home/petrlorenc/.virtualenvs/engeto/lib/python3.6/random.py'>"
     },
     "execution_count": 14,
     "metadata": {},
     "output_type": "execute_result"
    }
   ],
   "source": [
    "import random\n",
    "from importlib import reload\n",
    "reload(random)"
   ],
   "metadata": {
    "collapsed": false,
    "pycharm": {
     "name": "#%%\n"
    }
   }
  },
  {
   "cell_type": "markdown",
   "source": [
    "### Compilation to byte code\n",
    "\n",
    "When Python imports a module, that has never been imported before, it compiles it first into so called bytecode.\n",
    "\n",
    "* Compilation is transformation of a source code into its binary representation - represenation in 0s and 1s that computers understand better.\n",
    "* Bytecode is binary representation of Python script.\n",
    "\n",
    "Compiled files are appended .pyc suffix and stored inside the \\_\\_pycache\\_\\_ directory situated in the same folder as the original .py file.\n",
    "If original file was called hack.py and was imported for example under Python 3.5., then the compiled file will be called hack.cpython-35.pyc. So the logic, how Python creates the .pyc file name is as follows:\n",
    "\n",
    "```\n",
    "original_filename.python_implementation-pythonversion.pyc\n",
    "```\n",
    "\n",
    "Python compiles .py files into byte code .pyc files under two conditions:\n",
    "\n",
    "* the file is imported for the first time - there is no corresponding .pyc file compiled under corresponding Python version, yet.\n",
    "* always, when the original source .py file has been changed. Do determine, whether a file should be recompiled, Python compares timestamps of both - if the .py file has more recent timestamp (was changed recently), the .pyc file is recompiled.\n",
    "\n",
    "When importing, python is actually loading the .pyc file."
   ],
   "metadata": {
    "collapsed": false,
    "pycharm": {
     "name": "#%% md\n"
    }
   }
  },
  {
   "cell_type": "code",
   "execution_count": null,
   "outputs": [],
   "source": [
    "try:\n",
    "    num = [1,2,3,4][4]\n",
    "    print(num*4)\n",
    "except LookupError:\n",
    "    print('Handling except')\n",
    "except IndexError:\n",
    "    print('Handling index error')\n",
    "finally:\n",
    "    print('Good bye')"
   ],
   "metadata": {
    "collapsed": false,
    "pycharm": {
     "name": "#%%\n"
    }
   }
  },
  {
   "cell_type": "markdown",
   "source": [
    "### Important modules\n",
    "\n",
    " * Math\n",
    " * os\n",
    "    * moving\n",
    " * shutil\n",
    "    * mainly copy function\n",
    "    * remove no-empty directory\n",
    "\n",
    "\n",
    "```\n",
    ">>> path = '/usr/PythonBeginner/Lesson8/test.txt'\n",
    "           |___________________________|________|\n",
    "                         |                  |\n",
    "                      dirname            basename/filename\n",
    "```\n",
    "\n",
    "## Task\n",
    "\n",
    "* python program which will get files as argument in console and print information about that files (size, basename, dirname ...)\n"
   ],
   "metadata": {
    "collapsed": false,
    "pycharm": {
     "name": "#%% md\n"
    }
   }
  }
 ],
 "metadata": {
  "kernelspec": {
   "display_name": "Python 3",
   "language": "python",
   "name": "python3"
  },
  "language_info": {
   "codemirror_mode": {
    "name": "ipython",
    "version": 2
   },
   "file_extension": ".py",
   "mimetype": "text/x-python",
   "name": "python",
   "nbconvert_exporter": "python",
   "pygments_lexer": "ipython2",
   "version": "2.7.6"
  }
 },
 "nbformat": 4,
 "nbformat_minor": 0
}