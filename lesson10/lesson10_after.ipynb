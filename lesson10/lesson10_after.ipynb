{
  "nbformat": 4,
  "nbformat_minor": 0,
  "metadata": {
    "kernelspec": {
      "display_name": "Python 3",
      "language": "python",
      "name": "python3"
    },
    "language_info": {
      "codemirror_mode": {
        "name": "ipython",
        "version": 2
      },
      "file_extension": ".py",
      "mimetype": "text/x-python",
      "name": "python",
      "nbconvert_exporter": "python",
      "pygments_lexer": "ipython2",
      "version": "2.7.6"
    },
    "colab": {
      "name": "lesson10.ipynb",
      "provenance": []
    }
  },
  "cells": [
    {
      "cell_type": "code",
      "metadata": {
        "id": "rpp3sMLzjnq1"
      },
      "source": [
        "from typing import List"
      ],
      "execution_count": null,
      "outputs": []
    },
    {
      "cell_type": "code",
      "metadata": {
        "id": "oSOmahrHrbri"
      },
      "source": [
        "for x in [][1:3][:][1:]:\n",
        "  print(x)"
      ],
      "execution_count": 14,
      "outputs": []
    },
    {
      "cell_type": "code",
      "metadata": {
        "id": "i-8ZZ-4JveE8"
      },
      "source": [
        "import random\n",
        "random.seed(10)"
      ],
      "execution_count": 34,
      "outputs": []
    },
    {
      "cell_type": "code",
      "metadata": {
        "id": "AdOnv5EcvtZe",
        "outputId": "be4ee5eb-9a1b-4fb3-8b59-37fdb6741d8e",
        "colab": {
          "base_uri": "https://localhost:8080/",
          "height": 35
        }
      },
      "source": [
        "random.randint(0,10)"
      ],
      "execution_count": 35,
      "outputs": [
        {
          "output_type": "execute_result",
          "data": {
            "text/plain": [
              "9"
            ]
          },
          "metadata": {
            "tags": []
          },
          "execution_count": 35
        }
      ]
    },
    {
      "cell_type": "code",
      "metadata": {
        "id": "G14JHrgmw0MR",
        "outputId": "6408eaaf-f7af-4766-bb05-559085c245df",
        "colab": {
          "base_uri": "https://localhost:8080/",
          "height": 69
        }
      },
      "source": [
        "try:\n",
        "  try:\n",
        "      # print('2' / 2)\n",
        "      [1,2,3,4][4]\n",
        "  except IndexError as e:\n",
        "      print(e)\n",
        "      print('Handling name error')\n",
        "      1/0\n",
        "  except:\n",
        "    print('catch you')\n",
        "  else:\n",
        "      print('No error has been raised')\n",
        "  print('Good bye')\n",
        "except:\n",
        "  print('catch you')"
      ],
      "execution_count": 41,
      "outputs": [
        {
          "output_type": "stream",
          "text": [
            "list index out of range\n",
            "Handling name error\n",
            "catch you\n"
          ],
          "name": "stdout"
        }
      ]
    },
    {
      "cell_type": "code",
      "metadata": {
        "id": "ChNd-dDrym-5",
        "outputId": "a0c89ba1-a51b-414d-87e4-45460dc05478",
        "colab": {
          "base_uri": "https://localhost:8080/",
          "height": 52
        }
      },
      "source": [
        "try:\n",
        "    num = [1,2,3,4][4]\n",
        "    print(num*4)\n",
        "except Exception:\n",
        "    print('Handling except')\n",
        "except IndexError:\n",
        "    print('Handling index error')\n",
        "finally:\n",
        "    print('Good bye')"
      ],
      "execution_count": 43,
      "outputs": [
        {
          "output_type": "stream",
          "text": [
            "Handling except\n",
            "Good bye\n"
          ],
          "name": "stdout"
        }
      ]
    },
    {
      "cell_type": "code",
      "metadata": {
        "id": "YmS7gjWPzR6R",
        "outputId": "f78711d2-8618-4cdd-b53b-e175e4272bde",
        "colab": {
          "base_uri": "https://localhost:8080/",
          "height": 166
        }
      },
      "source": [
        "[][\"2\"]"
      ],
      "execution_count": 44,
      "outputs": [
        {
          "output_type": "error",
          "ename": "TypeError",
          "evalue": "ignored",
          "traceback": [
            "\u001b[0;31m---------------------------------------------------------------------------\u001b[0m",
            "\u001b[0;31mTypeError\u001b[0m                                 Traceback (most recent call last)",
            "\u001b[0;32m<ipython-input-44-f13c6591fd48>\u001b[0m in \u001b[0;36m<module>\u001b[0;34m()\u001b[0m\n\u001b[0;32m----> 1\u001b[0;31m \u001b[0;34m[\u001b[0m\u001b[0;34m]\u001b[0m\u001b[0;34m[\u001b[0m\u001b[0;34m\"2\"\u001b[0m\u001b[0;34m]\u001b[0m\u001b[0;34m\u001b[0m\u001b[0;34m\u001b[0m\u001b[0m\n\u001b[0m",
            "\u001b[0;31mTypeError\u001b[0m: list indices must be integers or slices, not str"
          ]
        }
      ]
    },
    {
      "cell_type": "code",
      "metadata": {
        "id": "MAu-3Zo20Xm1",
        "outputId": "998eb4fb-6420-4398-bfba-57fee33e2c42",
        "colab": {
          "base_uri": "https://localhost:8080/",
          "height": 433
        }
      },
      "source": [
        "import sys \n",
        "\n",
        "class A(Exception):\n",
        "  def __str__(self):\n",
        "    print(sys.last_traceback())\n",
        "\n",
        "a = A(\"Yeah\")\n",
        "raise a"
      ],
      "execution_count": 47,
      "outputs": [
        {
          "output_type": "error",
          "ename": "TypeError",
          "evalue": "ignored",
          "traceback": [
            "\u001b[0;31m---------------------------------------------------------------------------\u001b[0m",
            "\u001b[0;31mA\u001b[0m                                         Traceback (most recent call last)",
            "\u001b[0;32m/usr/local/lib/python3.6/dist-packages/IPython/core/interactiveshell.py\u001b[0m in \u001b[0;36mrun_code\u001b[0;34m(self, code_obj, result)\u001b[0m\n\u001b[1;32m   2881\u001b[0m                 \u001b[0;31m#rprint('Running code', repr(code_obj)) # dbg\u001b[0m\u001b[0;34m\u001b[0m\u001b[0;34m\u001b[0m\u001b[0;34m\u001b[0m\u001b[0m\n\u001b[0;32m-> 2882\u001b[0;31m                 \u001b[0mexec\u001b[0m\u001b[0;34m(\u001b[0m\u001b[0mcode_obj\u001b[0m\u001b[0;34m,\u001b[0m \u001b[0mself\u001b[0m\u001b[0;34m.\u001b[0m\u001b[0muser_global_ns\u001b[0m\u001b[0;34m,\u001b[0m \u001b[0mself\u001b[0m\u001b[0;34m.\u001b[0m\u001b[0muser_ns\u001b[0m\u001b[0;34m)\u001b[0m\u001b[0;34m\u001b[0m\u001b[0;34m\u001b[0m\u001b[0m\n\u001b[0m\u001b[1;32m   2883\u001b[0m             \u001b[0;32mfinally\u001b[0m\u001b[0;34m:\u001b[0m\u001b[0;34m\u001b[0m\u001b[0;34m\u001b[0m\u001b[0m\n",
            "\u001b[0;32m<ipython-input-47-642da24967ae>\u001b[0m in \u001b[0;36m<module>\u001b[0;34m()\u001b[0m\n\u001b[1;32m      7\u001b[0m \u001b[0ma\u001b[0m \u001b[0;34m=\u001b[0m \u001b[0mA\u001b[0m\u001b[0;34m(\u001b[0m\u001b[0;34m\"Yeah\"\u001b[0m\u001b[0;34m)\u001b[0m\u001b[0;34m\u001b[0m\u001b[0;34m\u001b[0m\u001b[0m\n\u001b[0;32m----> 8\u001b[0;31m \u001b[0;32mraise\u001b[0m \u001b[0ma\u001b[0m\u001b[0;34m\u001b[0m\u001b[0;34m\u001b[0m\u001b[0m\n\u001b[0m",
            "\u001b[0;31m<class 'str'>\u001b[0m: (<class 'TypeError'>, TypeError(\"'traceback' object is not callable\",))",
            "\nDuring handling of the above exception, another exception occurred:\n",
            "\u001b[0;31mTypeError\u001b[0m                                 Traceback (most recent call last)",
            "\u001b[0;32m/usr/local/lib/python3.6/dist-packages/IPython/core/interactiveshell.py\u001b[0m in \u001b[0;36mrun_code\u001b[0;34m(self, code_obj, result)\u001b[0m\n\u001b[1;32m   2897\u001b[0m             \u001b[0;32mif\u001b[0m \u001b[0mresult\u001b[0m \u001b[0;32mis\u001b[0m \u001b[0;32mnot\u001b[0m \u001b[0;32mNone\u001b[0m\u001b[0;34m:\u001b[0m\u001b[0;34m\u001b[0m\u001b[0;34m\u001b[0m\u001b[0m\n\u001b[1;32m   2898\u001b[0m                 \u001b[0mresult\u001b[0m\u001b[0;34m.\u001b[0m\u001b[0merror_in_exec\u001b[0m \u001b[0;34m=\u001b[0m \u001b[0msys\u001b[0m\u001b[0;34m.\u001b[0m\u001b[0mexc_info\u001b[0m\u001b[0;34m(\u001b[0m\u001b[0;34m)\u001b[0m\u001b[0;34m[\u001b[0m\u001b[0;36m1\u001b[0m\u001b[0;34m]\u001b[0m\u001b[0;34m\u001b[0m\u001b[0;34m\u001b[0m\u001b[0m\n\u001b[0;32m-> 2899\u001b[0;31m             \u001b[0mself\u001b[0m\u001b[0;34m.\u001b[0m\u001b[0mshowtraceback\u001b[0m\u001b[0;34m(\u001b[0m\u001b[0;34m)\u001b[0m\u001b[0;34m\u001b[0m\u001b[0;34m\u001b[0m\u001b[0m\n\u001b[0m\u001b[1;32m   2900\u001b[0m         \u001b[0;32melse\u001b[0m\u001b[0;34m:\u001b[0m\u001b[0;34m\u001b[0m\u001b[0;34m\u001b[0m\u001b[0m\n\u001b[1;32m   2901\u001b[0m             \u001b[0moutflag\u001b[0m \u001b[0;34m=\u001b[0m \u001b[0;36m0\u001b[0m\u001b[0;34m\u001b[0m\u001b[0;34m\u001b[0m\u001b[0m\n",
            "\u001b[0;32m/usr/local/lib/python3.6/dist-packages/IPython/core/interactiveshell.py\u001b[0m in \u001b[0;36mshowtraceback\u001b[0;34m(self, exc_tuple, filename, tb_offset, exception_only)\u001b[0m\n\u001b[1;32m   1826\u001b[0m                                             value, tb, tb_offset=tb_offset)\n\u001b[1;32m   1827\u001b[0m \u001b[0;34m\u001b[0m\u001b[0m\n\u001b[0;32m-> 1828\u001b[0;31m                     \u001b[0mself\u001b[0m\u001b[0;34m.\u001b[0m\u001b[0m_showtraceback\u001b[0m\u001b[0;34m(\u001b[0m\u001b[0metype\u001b[0m\u001b[0;34m,\u001b[0m \u001b[0mvalue\u001b[0m\u001b[0;34m,\u001b[0m \u001b[0mstb\u001b[0m\u001b[0;34m)\u001b[0m\u001b[0;34m\u001b[0m\u001b[0;34m\u001b[0m\u001b[0m\n\u001b[0m\u001b[1;32m   1829\u001b[0m                     \u001b[0;32mif\u001b[0m \u001b[0mself\u001b[0m\u001b[0;34m.\u001b[0m\u001b[0mcall_pdb\u001b[0m\u001b[0;34m:\u001b[0m\u001b[0;34m\u001b[0m\u001b[0;34m\u001b[0m\u001b[0m\n\u001b[1;32m   1830\u001b[0m                         \u001b[0;31m# drop into debugger\u001b[0m\u001b[0;34m\u001b[0m\u001b[0;34m\u001b[0m\u001b[0;34m\u001b[0m\u001b[0m\n",
            "\u001b[0;32m/usr/local/lib/python3.6/dist-packages/google/colab/_shell.py\u001b[0m in \u001b[0;36m_showtraceback\u001b[0;34m(self, etype, evalue, stb)\u001b[0m\n\u001b[1;32m    131\u001b[0m         \u001b[0;34m'traceback'\u001b[0m\u001b[0;34m:\u001b[0m \u001b[0mstb\u001b[0m\u001b[0;34m,\u001b[0m\u001b[0;34m\u001b[0m\u001b[0;34m\u001b[0m\u001b[0m\n\u001b[1;32m    132\u001b[0m         \u001b[0;34m'ename'\u001b[0m\u001b[0;34m:\u001b[0m \u001b[0mpy3compat\u001b[0m\u001b[0;34m.\u001b[0m\u001b[0municode_type\u001b[0m\u001b[0;34m(\u001b[0m\u001b[0metype\u001b[0m\u001b[0;34m.\u001b[0m\u001b[0m__name__\u001b[0m\u001b[0;34m)\u001b[0m\u001b[0;34m,\u001b[0m\u001b[0;34m\u001b[0m\u001b[0;34m\u001b[0m\u001b[0m\n\u001b[0;32m--> 133\u001b[0;31m         \u001b[0;34m'evalue'\u001b[0m\u001b[0;34m:\u001b[0m \u001b[0mpy3compat\u001b[0m\u001b[0;34m.\u001b[0m\u001b[0msafe_unicode\u001b[0m\u001b[0;34m(\u001b[0m\u001b[0mevalue\u001b[0m\u001b[0;34m)\u001b[0m\u001b[0;34m,\u001b[0m\u001b[0;34m\u001b[0m\u001b[0;34m\u001b[0m\u001b[0m\n\u001b[0m\u001b[1;32m    134\u001b[0m     }\n\u001b[1;32m    135\u001b[0m \u001b[0;34m\u001b[0m\u001b[0m\n",
            "\u001b[0;32m/usr/local/lib/python3.6/dist-packages/ipython_genutils/py3compat.py\u001b[0m in \u001b[0;36msafe_unicode\u001b[0;34m(e)\u001b[0m\n\u001b[1;32m     63\u001b[0m     \"\"\"\n\u001b[1;32m     64\u001b[0m     \u001b[0;32mtry\u001b[0m\u001b[0;34m:\u001b[0m\u001b[0;34m\u001b[0m\u001b[0;34m\u001b[0m\u001b[0m\n\u001b[0;32m---> 65\u001b[0;31m         \u001b[0;32mreturn\u001b[0m \u001b[0municode_type\u001b[0m\u001b[0;34m(\u001b[0m\u001b[0me\u001b[0m\u001b[0;34m)\u001b[0m\u001b[0;34m\u001b[0m\u001b[0;34m\u001b[0m\u001b[0m\n\u001b[0m\u001b[1;32m     66\u001b[0m     \u001b[0;32mexcept\u001b[0m \u001b[0mUnicodeError\u001b[0m\u001b[0;34m:\u001b[0m\u001b[0;34m\u001b[0m\u001b[0;34m\u001b[0m\u001b[0m\n\u001b[1;32m     67\u001b[0m         \u001b[0;32mpass\u001b[0m\u001b[0;34m\u001b[0m\u001b[0;34m\u001b[0m\u001b[0m\n",
            "\u001b[0;32m<ipython-input-47-642da24967ae>\u001b[0m in \u001b[0;36m__str__\u001b[0;34m(self)\u001b[0m\n\u001b[1;32m      3\u001b[0m \u001b[0;32mclass\u001b[0m \u001b[0mA\u001b[0m\u001b[0;34m(\u001b[0m\u001b[0mException\u001b[0m\u001b[0;34m)\u001b[0m\u001b[0;34m:\u001b[0m\u001b[0;34m\u001b[0m\u001b[0;34m\u001b[0m\u001b[0m\n\u001b[1;32m      4\u001b[0m   \u001b[0;32mdef\u001b[0m \u001b[0m__str__\u001b[0m\u001b[0;34m(\u001b[0m\u001b[0mself\u001b[0m\u001b[0;34m)\u001b[0m\u001b[0;34m:\u001b[0m\u001b[0;34m\u001b[0m\u001b[0;34m\u001b[0m\u001b[0m\n\u001b[0;32m----> 5\u001b[0;31m     \u001b[0mprint\u001b[0m\u001b[0;34m(\u001b[0m\u001b[0msys\u001b[0m\u001b[0;34m.\u001b[0m\u001b[0mlast_traceback\u001b[0m\u001b[0;34m(\u001b[0m\u001b[0;34m)\u001b[0m\u001b[0;34m)\u001b[0m\u001b[0;34m\u001b[0m\u001b[0;34m\u001b[0m\u001b[0m\n\u001b[0m\u001b[1;32m      6\u001b[0m \u001b[0;34m\u001b[0m\u001b[0m\n\u001b[1;32m      7\u001b[0m \u001b[0ma\u001b[0m \u001b[0;34m=\u001b[0m \u001b[0mA\u001b[0m\u001b[0;34m(\u001b[0m\u001b[0;34m\"Yeah\"\u001b[0m\u001b[0;34m)\u001b[0m\u001b[0;34m\u001b[0m\u001b[0;34m\u001b[0m\u001b[0m\n",
            "\u001b[0;31mTypeError\u001b[0m: 'traceback' object is not callable"
          ]
        }
      ]
    },
    {
      "cell_type": "code",
      "metadata": {
        "id": "q_tfWywj01Jf"
      },
      "source": [
        "def IncorrectMove(Exception):\n",
        "    pass"
      ],
      "execution_count": 46,
      "outputs": []
    },
    {
      "cell_type": "markdown",
      "metadata": {
        "id": "ikCCvR47zRqf"
      },
      "source": [
        ""
      ]
    },
    {
      "cell_type": "markdown",
      "metadata": {
        "collapsed": true,
        "pycharm": {
          "name": "#%% md\n"
        },
        "id": "6dkjhlQehTyp"
      },
      "source": [
        "# Lesson 10\n",
        "\n",
        "* Quiz & Questions :)\n",
        "* Homeworks\n",
        "* Tic-tac-toe - shared repository"
      ]
    },
    {
      "cell_type": "code",
      "metadata": {
        "pycharm": {
          "name": "#%%\n"
        },
        "id": "xpeCKfC1hTyq",
        "outputId": "d6efac0f-e62b-4513-ca83-612da69888ce",
        "colab": {
          "base_uri": "https://localhost:8080/",
          "height": 1000
        }
      },
      "source": [
        "class Tournament:\n",
        "    def __init__(self, size, winning_strike=5):\n",
        "        self.size = size\n",
        "        self.winning_strike = winning_strike\n",
        "        self.board = [[' ' for _ in range(size)] for i in range(size)]\n",
        "\n",
        "    def print_board(self):\n",
        "        template_lst = [''] + ['{:^3}' for _ in range(self.size)] + ['']\n",
        "        template = '|'.join(template_lst)\n",
        "        print('   -' + '---'.join([str(idx) for idx in range(self.size)])) # for one square\n",
        "        for idx, line in enumerate(self.board):\n",
        "            print(f\"{idx} \" +template.format(*line))\n",
        "            print('   -' + '-'*self.size*4)\n",
        "\n",
        "    def move(self, sym, row, column):\n",
        "        if row < 0 or row >= self.size or column < 0 or column >= self.size:\n",
        "            print(\"Out of board\")\n",
        "            return False\n",
        "        if self.board[row][column] != ' ':\n",
        "            return False\n",
        "        self.board[row][column] = sym\n",
        "        return True\n",
        "\n",
        "    def is_over(self):\n",
        "        for row in range(self.size):\n",
        "            for column in range(self.size):\n",
        "                if self.board[row][column] == ' ':\n",
        "                    return False\n",
        "        return True\n",
        "\n",
        "    def has_won(self, sym, row=None, column=None):\n",
        "        # OPTIMIZED BUT NOT FINISHED\n",
        "        # left_boundary = column - self.winning_strike if column - self.winning_strike < 0 else 0\n",
        "        # right_boundary = column + self.winning_strike if column + self.winning_strike < self.size else self.size\n",
        "        # upper_boundary = row - self.winning_strike if column - self.winning_strike < 0 else 0\n",
        "        # lower_boundary = row + self.winning_strike if row + self.winning_strike < self.size else self.size\n",
        "        #\n",
        "        # left_upper_dia_boundary = left_boundary + upper_boundary\n",
        "        # left_lower_dia_boundary = left_boundary + lower_boundary\n",
        "        # right_upper_dia_boundary = left_boundary + upper_boundary\n",
        "        # right_lower_dia_boundary = left_boundary + upper_boundary\n",
        "\n",
        "        def check_row(sym, row, column, board, winning_strike):\n",
        "            if row + winning_strike > len(board):\n",
        "                return False\n",
        "            for r in range(row, row + winning_strike):\n",
        "                if board[r][column] != sym:\n",
        "                    return False\n",
        "            return True\n",
        "\n",
        "        def check_column(sym, row, column, board, winning_strike):\n",
        "            if column + winning_strike > len(board):\n",
        "                return False\n",
        "            for c in range(column, column + winning_strike):\n",
        "                if board[row][c] != sym:\n",
        "                    return False\n",
        "            return True\n",
        "\n",
        "        def check_diagonal(sym, row, column, board, winning_strike):\n",
        "            if column + winning_strike > len(board) or row + winning_strike > len(board):\n",
        "                return False\n",
        "            for c, r in zip(range(column, column + winning_strike), range(row, row + winning_strike)):\n",
        "                if board[r][c] != sym:\n",
        "                    return False\n",
        "            return True\n",
        "\n",
        "\n",
        "        for row in range(0, self.size):\n",
        "            for column in range(0, self.size):\n",
        "                if check_row(sym, row, column, self.board, self.winning_strike) or \\\n",
        "                    check_column(sym, row, column, self.board, self.winning_strike) or \\\n",
        "                    check_diagonal(sym, row, column, self.board, self.winning_strike):\n",
        "                    return True\n",
        "        return False\n",
        "\n",
        "\n",
        "import random\n",
        "\n",
        "class Player:\n",
        "    def __init__(self, sym):\n",
        "        self.sym = sym\n",
        "\n",
        "    def play(self): # return tuple (sym, row, column)\n",
        "        return self.sym, random.randint(0, 7), random.randint(0, 7)\n",
        "\n",
        "def play(tournament: Tournament, player1: Player, player2: Player):\n",
        "    while not tournament.is_over():\n",
        "        for pl in [player1, player2]:\n",
        "            while True:\n",
        "                sym, row, column = pl.play()\n",
        "                if tournament.move(sym, row, column):\n",
        "                    break\n",
        "                else:\n",
        "                    print(f\"Not valid move for {sym} at r:{row}/c:{column}\")\n",
        "\n",
        "            if tournament.has_won(sym, row, column):\n",
        "                print(f\"{sym} has won\")\n",
        "                trn.print_board()\n",
        "                return\n",
        "            if tournament.is_over():\n",
        "                print(\"It is tie!\")\n",
        "                trn.print_board()\n",
        "                return\n",
        "        trn.print_board()\n",
        "\n",
        "\n",
        "# trn = Tournament(8)\n",
        "# trn.move(\"x\", 0, 0)\n",
        "# trn.move(\"x\", 1, 1)\n",
        "# trn.move(\"x\", 2, 2)\n",
        "# trn.move(\"x\", 3, 3)\n",
        "# print(trn.has_won(\"x\"))\n",
        "# print(trn.has_won(\"o\"))\n",
        "# trn.move(\"x\", 5, 5)\n",
        "# print(trn.has_won(\"x\"))\n",
        "# print(trn.has_won(\"o\"))\n",
        "# trn.move(\"x\", 4, 4)\n",
        "# print(trn.has_won(\"x\"))\n",
        "# print(trn.has_won(\"o\"))\n",
        "# trn.print_board()\n",
        "\n",
        "print()\n",
        "print()\n",
        "print()\n",
        "trn = Tournament(8)\n",
        "player1 = Player(\"x\")\n",
        "player2 = Player(\"o\")\n",
        "play(trn, player1, player2)"
      ],
      "execution_count": 2,
      "outputs": [
        {
          "output_type": "stream",
          "text": [
            "\n",
            "\n",
            "\n",
            "   -0---1---2---3---4---5---6---7\n",
            "0 |   |   |   |   |   |   |   |   |\n",
            "   ---------------------------------\n",
            "1 |   |   |   |   |   |   |   |   |\n",
            "   ---------------------------------\n",
            "2 |   |   |   |   |   |   |   |   |\n",
            "   ---------------------------------\n",
            "3 |   |   |   |   |   |   |   |   |\n",
            "   ---------------------------------\n",
            "4 |   |   |   |   |   |   |   |   |\n",
            "   ---------------------------------\n",
            "5 | o |   |   |   |   |   | x |   |\n",
            "   ---------------------------------\n",
            "6 |   |   |   |   |   |   |   |   |\n",
            "   ---------------------------------\n",
            "7 |   |   |   |   |   |   |   |   |\n",
            "   ---------------------------------\n",
            "   -0---1---2---3---4---5---6---7\n",
            "0 |   |   |   |   |   |   |   |   |\n",
            "   ---------------------------------\n",
            "1 |   |   |   |   |   |   |   |   |\n",
            "   ---------------------------------\n",
            "2 |   |   |   |   | o |   |   |   |\n",
            "   ---------------------------------\n",
            "3 |   |   |   |   |   |   |   |   |\n",
            "   ---------------------------------\n",
            "4 |   |   |   |   |   |   |   |   |\n",
            "   ---------------------------------\n",
            "5 | o |   |   |   |   |   | x |   |\n",
            "   ---------------------------------\n",
            "6 |   |   |   |   |   |   |   |   |\n",
            "   ---------------------------------\n",
            "7 |   |   | x |   |   |   |   |   |\n",
            "   ---------------------------------\n",
            "   -0---1---2---3---4---5---6---7\n",
            "0 |   |   | o |   |   |   |   |   |\n",
            "   ---------------------------------\n",
            "1 |   |   |   | x |   |   |   |   |\n",
            "   ---------------------------------\n",
            "2 |   |   |   |   | o |   |   |   |\n",
            "   ---------------------------------\n",
            "3 |   |   |   |   |   |   |   |   |\n",
            "   ---------------------------------\n",
            "4 |   |   |   |   |   |   |   |   |\n",
            "   ---------------------------------\n",
            "5 | o |   |   |   |   |   | x |   |\n",
            "   ---------------------------------\n",
            "6 |   |   |   |   |   |   |   |   |\n",
            "   ---------------------------------\n",
            "7 |   |   | x |   |   |   |   |   |\n",
            "   ---------------------------------\n",
            "   -0---1---2---3---4---5---6---7\n",
            "0 |   |   | o |   |   |   |   |   |\n",
            "   ---------------------------------\n",
            "1 |   |   |   | x |   |   |   |   |\n",
            "   ---------------------------------\n",
            "2 |   |   |   |   | o |   |   |   |\n",
            "   ---------------------------------\n",
            "3 |   |   |   |   | o |   |   |   |\n",
            "   ---------------------------------\n",
            "4 | x |   |   |   |   |   |   |   |\n",
            "   ---------------------------------\n",
            "5 | o |   |   |   |   |   | x |   |\n",
            "   ---------------------------------\n",
            "6 |   |   |   |   |   |   |   |   |\n",
            "   ---------------------------------\n",
            "7 |   |   | x |   |   |   |   |   |\n",
            "   ---------------------------------\n",
            "   -0---1---2---3---4---5---6---7\n",
            "0 |   |   | o |   |   |   |   |   |\n",
            "   ---------------------------------\n",
            "1 |   |   |   | x |   |   |   |   |\n",
            "   ---------------------------------\n",
            "2 |   |   |   | o | o |   |   |   |\n",
            "   ---------------------------------\n",
            "3 |   |   |   |   | o |   |   |   |\n",
            "   ---------------------------------\n",
            "4 | x |   |   |   |   |   |   |   |\n",
            "   ---------------------------------\n",
            "5 | o |   |   |   |   |   | x |   |\n",
            "   ---------------------------------\n",
            "6 |   |   |   |   |   |   |   |   |\n",
            "   ---------------------------------\n",
            "7 |   |   | x |   |   |   |   | x |\n",
            "   ---------------------------------\n",
            "   -0---1---2---3---4---5---6---7\n",
            "0 |   |   | o |   |   |   |   |   |\n",
            "   ---------------------------------\n",
            "1 |   |   |   | x |   |   |   |   |\n",
            "   ---------------------------------\n",
            "2 |   |   |   | o | o |   |   |   |\n",
            "   ---------------------------------\n",
            "3 |   |   |   |   | o |   |   | o |\n",
            "   ---------------------------------\n",
            "4 | x |   |   |   |   |   |   |   |\n",
            "   ---------------------------------\n",
            "5 | o |   |   |   |   |   | x |   |\n",
            "   ---------------------------------\n",
            "6 | x |   |   |   |   |   |   |   |\n",
            "   ---------------------------------\n",
            "7 |   |   | x |   |   |   |   | x |\n",
            "   ---------------------------------\n",
            "   -0---1---2---3---4---5---6---7\n",
            "0 |   |   | o |   |   |   | o |   |\n",
            "   ---------------------------------\n",
            "1 |   |   |   | x |   |   |   |   |\n",
            "   ---------------------------------\n",
            "2 |   |   |   | o | o |   |   |   |\n",
            "   ---------------------------------\n",
            "3 |   |   |   |   | o | x |   | o |\n",
            "   ---------------------------------\n",
            "4 | x |   |   |   |   |   |   |   |\n",
            "   ---------------------------------\n",
            "5 | o |   |   |   |   |   | x |   |\n",
            "   ---------------------------------\n",
            "6 | x |   |   |   |   |   |   |   |\n",
            "   ---------------------------------\n",
            "7 |   |   | x |   |   |   |   | x |\n",
            "   ---------------------------------\n",
            "Not valid move for o at r:2/c:3\n",
            "Not valid move for o at r:5/c:6\n",
            "Not valid move for o at r:7/c:2\n",
            "   -0---1---2---3---4---5---6---7\n",
            "0 |   |   | o |   |   |   | o |   |\n",
            "   ---------------------------------\n",
            "1 |   |   |   | x |   |   |   |   |\n",
            "   ---------------------------------\n",
            "2 |   |   |   | o | o |   |   |   |\n",
            "   ---------------------------------\n",
            "3 |   |   |   |   | o | x |   | o |\n",
            "   ---------------------------------\n",
            "4 | x |   | o |   |   |   |   | x |\n",
            "   ---------------------------------\n",
            "5 | o |   |   |   |   |   | x |   |\n",
            "   ---------------------------------\n",
            "6 | x |   |   |   |   |   |   |   |\n",
            "   ---------------------------------\n",
            "7 |   |   | x |   |   |   |   | x |\n",
            "   ---------------------------------\n",
            "Not valid move for o at r:3/c:4\n",
            "   -0---1---2---3---4---5---6---7\n",
            "0 |   |   | o |   |   |   | o |   |\n",
            "   ---------------------------------\n",
            "1 |   |   |   | x |   |   |   |   |\n",
            "   ---------------------------------\n",
            "2 | o |   |   | o | o |   |   |   |\n",
            "   ---------------------------------\n",
            "3 |   |   |   |   | o | x | x | o |\n",
            "   ---------------------------------\n",
            "4 | x |   | o |   |   |   |   | x |\n",
            "   ---------------------------------\n",
            "5 | o |   |   |   |   |   | x |   |\n",
            "   ---------------------------------\n",
            "6 | x |   |   |   |   |   |   |   |\n",
            "   ---------------------------------\n",
            "7 |   |   | x |   |   |   |   | x |\n",
            "   ---------------------------------\n",
            "   -0---1---2---3---4---5---6---7\n",
            "0 |   |   | o |   |   |   | o |   |\n",
            "   ---------------------------------\n",
            "1 |   |   |   | x |   |   |   |   |\n",
            "   ---------------------------------\n",
            "2 | o |   |   | o | o |   |   |   |\n",
            "   ---------------------------------\n",
            "3 |   |   |   |   | o | x | x | o |\n",
            "   ---------------------------------\n",
            "4 | x | x | o |   |   |   |   | x |\n",
            "   ---------------------------------\n",
            "5 | o |   |   |   |   |   | x | o |\n",
            "   ---------------------------------\n",
            "6 | x |   |   |   |   |   |   |   |\n",
            "   ---------------------------------\n",
            "7 |   |   | x |   |   |   |   | x |\n",
            "   ---------------------------------\n",
            "   -0---1---2---3---4---5---6---7\n",
            "0 |   |   | o |   |   |   | o |   |\n",
            "   ---------------------------------\n",
            "1 |   |   |   | x |   |   |   |   |\n",
            "   ---------------------------------\n",
            "2 | o |   |   | o | o |   |   |   |\n",
            "   ---------------------------------\n",
            "3 |   |   |   |   | o | x | x | o |\n",
            "   ---------------------------------\n",
            "4 | x | x | o |   |   |   |   | x |\n",
            "   ---------------------------------\n",
            "5 | o |   |   | o |   |   | x | o |\n",
            "   ---------------------------------\n",
            "6 | x |   |   |   | x |   |   |   |\n",
            "   ---------------------------------\n",
            "7 |   |   | x |   |   |   |   | x |\n",
            "   ---------------------------------\n",
            "Not valid move for x at r:5/c:0\n",
            "Not valid move for o at r:3/c:6\n",
            "Not valid move for o at r:3/c:6\n",
            "   -0---1---2---3---4---5---6---7\n",
            "0 |   |   | o |   |   |   | o |   |\n",
            "   ---------------------------------\n",
            "1 |   |   |   | x |   |   |   |   |\n",
            "   ---------------------------------\n",
            "2 | o |   |   | o | o |   |   |   |\n",
            "   ---------------------------------\n",
            "3 |   |   |   |   | o | x | x | o |\n",
            "   ---------------------------------\n",
            "4 | x | x | o |   |   |   | x | x |\n",
            "   ---------------------------------\n",
            "5 | o |   |   | o |   | o | x | o |\n",
            "   ---------------------------------\n",
            "6 | x |   |   |   | x |   |   |   |\n",
            "   ---------------------------------\n",
            "7 |   |   | x |   |   |   |   | x |\n",
            "   ---------------------------------\n",
            "Not valid move for x at r:3/c:6\n",
            "   -0---1---2---3---4---5---6---7\n",
            "0 |   |   | o |   |   |   | o |   |\n",
            "   ---------------------------------\n",
            "1 |   |   |   | x |   |   | x |   |\n",
            "   ---------------------------------\n",
            "2 | o |   |   | o | o |   |   |   |\n",
            "   ---------------------------------\n",
            "3 |   |   |   |   | o | x | x | o |\n",
            "   ---------------------------------\n",
            "4 | x | x | o |   |   |   | x | x |\n",
            "   ---------------------------------\n",
            "5 | o |   | o | o |   | o | x | o |\n",
            "   ---------------------------------\n",
            "6 | x |   |   |   | x |   |   |   |\n",
            "   ---------------------------------\n",
            "7 |   |   | x |   |   |   |   | x |\n",
            "   ---------------------------------\n",
            "Not valid move for x at r:5/c:0\n",
            "   -0---1---2---3---4---5---6---7\n",
            "0 |   |   | o |   |   |   | o |   |\n",
            "   ---------------------------------\n",
            "1 |   |   |   | x |   |   | x |   |\n",
            "   ---------------------------------\n",
            "2 | o |   |   | o | o |   |   |   |\n",
            "   ---------------------------------\n",
            "3 |   |   |   | x | o | x | x | o |\n",
            "   ---------------------------------\n",
            "4 | x | x | o |   |   |   | x | x |\n",
            "   ---------------------------------\n",
            "5 | o |   | o | o |   | o | x | o |\n",
            "   ---------------------------------\n",
            "6 | x |   |   |   | x | o |   |   |\n",
            "   ---------------------------------\n",
            "7 |   |   | x |   |   |   |   | x |\n",
            "   ---------------------------------\n",
            "x has won\n",
            "   -0---1---2---3---4---5---6---7\n",
            "0 |   |   | o |   |   |   | o |   |\n",
            "   ---------------------------------\n",
            "1 |   |   |   | x |   |   | x |   |\n",
            "   ---------------------------------\n",
            "2 | o |   |   | o | o |   | x |   |\n",
            "   ---------------------------------\n",
            "3 |   |   |   | x | o | x | x | o |\n",
            "   ---------------------------------\n",
            "4 | x | x | o |   |   |   | x | x |\n",
            "   ---------------------------------\n",
            "5 | o |   | o | o |   | o | x | o |\n",
            "   ---------------------------------\n",
            "6 | x |   |   |   | x | o |   |   |\n",
            "   ---------------------------------\n",
            "7 |   |   | x |   |   |   |   | x |\n",
            "   ---------------------------------\n"
          ],
          "name": "stdout"
        }
      ]
    },
    {
      "cell_type": "code",
      "metadata": {
        "id": "xDORWuRT-Kdy",
        "outputId": "40048dbe-52d3-42cd-9e19-aeb4e4f9557f",
        "colab": {
          "base_uri": "https://localhost:8080/",
          "height": 35
        }
      },
      "source": [
        "def split(a):\n",
        "  return a.split(\" \")\n",
        "\n",
        "list(map(split, [\"a a\", \"b b\"]))"
      ],
      "execution_count": 52,
      "outputs": [
        {
          "output_type": "execute_result",
          "data": {
            "text/plain": [
              "[['a', 'a'], ['b', 'b']]"
            ]
          },
          "metadata": {
            "tags": []
          },
          "execution_count": 52
        }
      ]
    },
    {
      "cell_type": "code",
      "metadata": {
        "id": "D2nmAbTJ-2QG",
        "outputId": "d4ea9ec0-f4ef-4db4-d8c9-4819f659952d",
        "colab": {
          "base_uri": "https://localhost:8080/",
          "height": 35
        }
      },
      "source": [
        "list(map(lambda a: a.split(\" \"), [\"a a\", \"b b\"]))"
      ],
      "execution_count": 54,
      "outputs": [
        {
          "output_type": "execute_result",
          "data": {
            "text/plain": [
              "[['a', 'a'], ['b', 'b']]"
            ]
          },
          "metadata": {
            "tags": []
          },
          "execution_count": 54
        }
      ]
    },
    {
      "cell_type": "markdown",
      "metadata": {
        "collapsed": false,
        "pycharm": {
          "name": "#%% md\n"
        },
        "id": "AiEDvnlThTyu"
      },
      "source": [
        "# Modules\n",
        "\n",
        "How Python Gets the Modules for us\n",
        "\n",
        "* information about the modules, that have already been imported into the program - sys.modules\n",
        "* information about where to look for modules to be imported - sys.path\n",
        "\n",
        "\n",
        "### Do you remember OOP?\n",
        "\n",
        "\n",
        "### Task\n",
        "\n",
        "* Creating directory structure according to TXT structured file\n",
        "    * Names of shows for TV serial\n",
        "    * Save to each folder \"a random generated image\"\n",
        "    * Save to each folder a txt file with \"Title\" (second value on tab separated line)\n"
      ]
    },
    {
      "cell_type": "code",
      "metadata": {
        "pycharm": {
          "name": "#%%\n"
        },
        "id": "dtkrrLUfhTyu"
      },
      "source": [
        "with open(\"data/futurama.episodes\", \"r\", encoding=\"utf8\") as f:\n",
        "    data = f.readlines()"
      ],
      "execution_count": null,
      "outputs": []
    },
    {
      "cell_type": "code",
      "metadata": {
        "pycharm": {
          "name": "#%%\n"
        },
        "id": "XpRV-wG6hTyx"
      },
      "source": [
        "import numpy\n",
        "from PIL import Image\n",
        "\n",
        "def generate_random_image(path: str):\n",
        "    imarray = numpy.random.rand(100,100,3) * 255\n",
        "    im = Image.fromarray(imarray.astype('uint8')).convert('RGBA')\n",
        "    im.save(path)"
      ],
      "execution_count": null,
      "outputs": []
    },
    {
      "cell_type": "code",
      "metadata": {
        "pycharm": {
          "name": "#%%\n"
        },
        "id": "9NCuFhxLhTyz"
      },
      "source": [
        "parsed_data = {}\n",
        "\n",
        "for line in data:\n",
        "    splitted_line = line.split(\"\\t\")\n",
        "    if len(splitted_line) == 1:\n",
        "        label = splitted_line[0].strip()\n",
        "        parsed_data[label] = []\n",
        "    else:\n",
        "        parsed_data[label].append(tuple(map(lambda x: x.strip(\"\\\"\\n\"), splitted_line)))"
      ],
      "execution_count": null,
      "outputs": []
    },
    {
      "cell_type": "code",
      "metadata": {
        "pycharm": {
          "name": "#%%\n"
        },
        "id": "NoM4aeJzhTy1"
      },
      "source": [
        "import os\n",
        "\n",
        "root = \"./data/\"\n",
        "for season, tupled_names in parsed_data.items():\n",
        "    for episode_name, title, image_name in tupled_names:\n",
        "        season_path = os.path.join(root, season)\n",
        "        if not os.path.exists(season_path):\n",
        "            os.mkdir(season_path)\n",
        "        episode_path = os.path.join(season_path, episode_name)\n",
        "        if not os.path.exists(episode_path):\n",
        "            os.mkdir(episode_path)\n",
        "\n",
        "        with open(os.path.join(episode_path, title + \".txt\"), \"w\") as f:\n",
        "            f.write(title)\n",
        "        generate_random_image(os.path.join(episode_path, image_name))\n"
      ],
      "execution_count": null,
      "outputs": []
    },
    {
      "cell_type": "markdown",
      "metadata": {
        "collapsed": false,
        "pycharm": {
          "name": "#%% md\n"
        },
        "id": "MeuZLKewhTy3"
      },
      "source": [
        "### Next steps\n",
        "* Going through all TXT files and collect all names of episodes with their title\n",
        "* **Simulate** API call to get subtitles for each episode\n",
        "    * Save random text from your text generator from previous lesson (tuned for episode of futurama)"
      ]
    },
    {
      "cell_type": "code",
      "metadata": {
        "pycharm": {
          "name": "#%%\n"
        },
        "id": "lrRoafd4hTy4"
      },
      "source": [
        "# from pythonopensubtitles.opensubtitles import OpenSubtitles\n",
        "# ost = OpenSubtitles()\n",
        "# token = ost.login('engeto', 'lasi4ka-4esk8')\n",
        "# ost.search_subtitles(\"hash of video file\")\n",
        "\n",
        "import os\n",
        "root = \"./data/\"\n",
        "\n",
        "for dirpath, dirnames, filenames in os.walk(root):\n",
        "    for file in filenames:\n",
        "        if \"txt\" in file:\n",
        "            print(\"API call\")"
      ],
      "execution_count": null,
      "outputs": []
    },
    {
      "cell_type": "markdown",
      "metadata": {
        "collapsed": false,
        "id": "_KJ8Zl0ghTy6"
      },
      "source": [
        "### Next steps\n",
        "* rename all png files to **title**.png\n",
        "* copy all images to image folder"
      ]
    },
    {
      "cell_type": "code",
      "metadata": {
        "pycharm": {
          "name": "#%%\n"
        },
        "id": "BFyfF6iKhTy7"
      },
      "source": [
        "import os\n",
        "import shutil\n",
        "\n",
        "root = \"./data/\"\n",
        "image_folder = os.path.join(root, \"image\")\n",
        "if not os.path.exists(image_folder):\n",
        "    os.mkdir(image_folder)\n",
        "\n",
        "for dirpath, dirnames, filenames in os.walk(root):\n",
        "    txt_name = \"\"\n",
        "    image_name = \"\"\n",
        "    for file in filenames:\n",
        "        if \"txt\" in file:\n",
        "            txt_name = file\n",
        "        if \"png\" in file:\n",
        "            image_name = file\n",
        "    if txt_name and image_name:\n",
        "        shutil.copy(os.path.join(dirpath, image_name), os.path.join(dirpath, txt_name.split(\".\")[0] + \".png\"))\n",
        "        shutil.move(os.path.join(dirpath, txt_name.split(\".\")[0] + \".png\"), image_folder)\n"
      ],
      "execution_count": null,
      "outputs": []
    },
    {
      "cell_type": "markdown",
      "metadata": {
        "collapsed": false,
        "pycharm": {
          "name": "#%% md\n"
        },
        "id": "2uH2IzdThTy-"
      },
      "source": [
        "### Represent each season as class"
      ]
    },
    {
      "cell_type": "markdown",
      "metadata": {
        "collapsed": false,
        "id": "MApRBXYbhTy_"
      },
      "source": [
        "We already know\n",
        "```\n",
        "__name__ == '__main__'\n",
        "```\n",
        "\n",
        "Every module has access to its own variable __name__. This variable tells us, whether a given module is executed as a script (from a comand line) or it is imported as a module.\n",
        "\n",
        "\n",
        "### Importing Modules\n",
        "\n",
        "* Create absolute or relative path from given folder and file names\n",
        "* Determine, whether a given path is absolute or relative\n",
        "* Extract file name from a path\n",
        "* Extract file extension from a path\n",
        "* Extract nth item from a path"
      ]
    },
    {
      "cell_type": "code",
      "metadata": {
        "pycharm": {
          "name": "#%%\n"
        },
        "id": "d-GKq0D-hTy_",
        "outputId": "144b5319-918c-4b4f-9728-bcbb2e9ee9db",
        "colab": {
          "base_uri": "https://localhost:8080/",
          "height": 35
        }
      },
      "source": [
        "import os\n",
        "os.path.join(*['lib', 'lsb', 'init-functions'])"
      ],
      "execution_count": 2,
      "outputs": [
        {
          "output_type": "execute_result",
          "data": {
            "application/vnd.google.colaboratory.intrinsic+json": {
              "type": "string"
            },
            "text/plain": [
              "'lib/lsb/init-functions'"
            ]
          },
          "metadata": {
            "tags": []
          },
          "execution_count": 2
        }
      ]
    },
    {
      "cell_type": "code",
      "metadata": {
        "pycharm": {
          "name": "#%%\n"
        },
        "id": "ZMyQq-_GhTzB",
        "outputId": "2c2b4041-801d-456b-fbef-23d2e30fc6d6",
        "colab": {
          "base_uri": "https://localhost:8080/",
          "height": 54
        }
      },
      "source": [
        "import sys\n",
        "import os\n",
        "from os.path import dirname\n",
        "\n",
        "sys.path += [dirname(os.getcwd())]\n",
        "print(sys.path) # pplaces where pyhthon looks for imports - we can add our own path during execution of program"
      ],
      "execution_count": 3,
      "outputs": [
        {
          "output_type": "stream",
          "text": [
            "['', '/env/python', '/usr/lib/python36.zip', '/usr/lib/python3.6', '/usr/lib/python3.6/lib-dynload', '/usr/local/lib/python3.6/dist-packages', '/usr/lib/python3/dist-packages', '/usr/local/lib/python3.6/dist-packages/IPython/extensions', '/root/.ipython', '/']\n"
          ],
          "name": "stdout"
        }
      ]
    },
    {
      "cell_type": "markdown",
      "metadata": {
        "collapsed": false,
        "pycharm": {
          "name": "#%% md\n"
        },
        "id": "4_VNP_zHhTzD"
      },
      "source": [
        "When Python imports module into another module, it performs these two actions:\n",
        "\n",
        "* Search for the imported module\n",
        "* Module compilation into bytecode\n",
        "* Running the code found inside the imported module\n",
        "\n",
        "All this loading steps take place only the first time when import statement is encountered during the execution of a program. If the same import statement is encountered later during the session, Python just fetches module object already available in the memory from sys.modules variable.\n",
        "\n",
        "\n",
        "Once the module is found, it has to be loaded into the importing program. The goal of loading the module into a program is a creation of module object.\n",
        "\n",
        "Every variable declared in the global scope of the imported module is loaded into the importing script. These variables are then accessible as imported object attributes using the dot notation."
      ]
    },
    {
      "cell_type": "code",
      "metadata": {
        "pycharm": {
          "name": "#%%\n"
        },
        "id": "U9iWLSGkhTzD",
        "outputId": "814f8301-4a0c-474f-ae9f-3fb34944fc82",
        "colab": {
          "base_uri": "https://localhost:8080/",
          "height": 1000
        }
      },
      "source": [
        "import random\n",
        "random.__dict__"
      ],
      "execution_count": 4,
      "outputs": [
        {
          "output_type": "execute_result",
          "data": {
            "text/plain": [
              "{'BPF': 53,\n",
              " 'LOG4': 1.3862943611198906,\n",
              " 'NV_MAGICCONST': 1.7155277699214135,\n",
              " 'RECIP_BPF': 1.1102230246251565e-16,\n",
              " 'Random': random.Random,\n",
              " 'SG_MAGICCONST': 2.504077396776274,\n",
              " 'SystemRandom': random.SystemRandom,\n",
              " 'TWOPI': 6.283185307179586,\n",
              " '_BuiltinMethodType': builtin_function_or_method,\n",
              " '_MethodType': method,\n",
              " '_Sequence': collections.abc.Sequence,\n",
              " '_Set': collections.abc.Set,\n",
              " '__all__': ['Random',\n",
              "  'seed',\n",
              "  'random',\n",
              "  'uniform',\n",
              "  'randint',\n",
              "  'choice',\n",
              "  'sample',\n",
              "  'randrange',\n",
              "  'shuffle',\n",
              "  'normalvariate',\n",
              "  'lognormvariate',\n",
              "  'expovariate',\n",
              "  'vonmisesvariate',\n",
              "  'gammavariate',\n",
              "  'triangular',\n",
              "  'gauss',\n",
              "  'betavariate',\n",
              "  'paretovariate',\n",
              "  'weibullvariate',\n",
              "  'getstate',\n",
              "  'setstate',\n",
              "  'getrandbits',\n",
              "  'choices',\n",
              "  'SystemRandom'],\n",
              " '__builtins__': {'ArithmeticError': ArithmeticError,\n",
              "  'AssertionError': AssertionError,\n",
              "  'AttributeError': AttributeError,\n",
              "  'BaseException': BaseException,\n",
              "  'BlockingIOError': BlockingIOError,\n",
              "  'BrokenPipeError': BrokenPipeError,\n",
              "  'BufferError': BufferError,\n",
              "  'BytesWarning': BytesWarning,\n",
              "  'ChildProcessError': ChildProcessError,\n",
              "  'ConnectionAbortedError': ConnectionAbortedError,\n",
              "  'ConnectionError': ConnectionError,\n",
              "  'ConnectionRefusedError': ConnectionRefusedError,\n",
              "  'ConnectionResetError': ConnectionResetError,\n",
              "  'DeprecationWarning': DeprecationWarning,\n",
              "  'EOFError': EOFError,\n",
              "  'Ellipsis': Ellipsis,\n",
              "  'EnvironmentError': OSError,\n",
              "  'Exception': Exception,\n",
              "  'False': False,\n",
              "  'FileExistsError': FileExistsError,\n",
              "  'FileNotFoundError': FileNotFoundError,\n",
              "  'FloatingPointError': FloatingPointError,\n",
              "  'FutureWarning': FutureWarning,\n",
              "  'GeneratorExit': GeneratorExit,\n",
              "  'IOError': OSError,\n",
              "  'ImportError': ImportError,\n",
              "  'ImportWarning': ImportWarning,\n",
              "  'IndentationError': IndentationError,\n",
              "  'IndexError': IndexError,\n",
              "  'InterruptedError': InterruptedError,\n",
              "  'IsADirectoryError': IsADirectoryError,\n",
              "  'KeyError': KeyError,\n",
              "  'KeyboardInterrupt': KeyboardInterrupt,\n",
              "  'LookupError': LookupError,\n",
              "  'MemoryError': MemoryError,\n",
              "  'ModuleNotFoundError': ModuleNotFoundError,\n",
              "  'NameError': NameError,\n",
              "  'None': None,\n",
              "  'NotADirectoryError': NotADirectoryError,\n",
              "  'NotImplemented': NotImplemented,\n",
              "  'NotImplementedError': NotImplementedError,\n",
              "  'OSError': OSError,\n",
              "  'OverflowError': OverflowError,\n",
              "  'PendingDeprecationWarning': PendingDeprecationWarning,\n",
              "  'PermissionError': PermissionError,\n",
              "  'ProcessLookupError': ProcessLookupError,\n",
              "  'RecursionError': RecursionError,\n",
              "  'ReferenceError': ReferenceError,\n",
              "  'ResourceWarning': ResourceWarning,\n",
              "  'RuntimeError': RuntimeError,\n",
              "  'RuntimeWarning': RuntimeWarning,\n",
              "  'StopAsyncIteration': StopAsyncIteration,\n",
              "  'StopIteration': StopIteration,\n",
              "  'SyntaxError': SyntaxError,\n",
              "  'SyntaxWarning': SyntaxWarning,\n",
              "  'SystemError': SystemError,\n",
              "  'SystemExit': SystemExit,\n",
              "  'TabError': TabError,\n",
              "  'TimeoutError': TimeoutError,\n",
              "  'True': True,\n",
              "  'TypeError': TypeError,\n",
              "  'UnboundLocalError': UnboundLocalError,\n",
              "  'UnicodeDecodeError': UnicodeDecodeError,\n",
              "  'UnicodeEncodeError': UnicodeEncodeError,\n",
              "  'UnicodeError': UnicodeError,\n",
              "  'UnicodeTranslateError': UnicodeTranslateError,\n",
              "  'UnicodeWarning': UnicodeWarning,\n",
              "  'UserWarning': UserWarning,\n",
              "  'ValueError': ValueError,\n",
              "  'Warning': Warning,\n",
              "  'ZeroDivisionError': ZeroDivisionError,\n",
              "  '__IPYTHON__': True,\n",
              "  '__build_class__': <function __build_class__>,\n",
              "  '__debug__': True,\n",
              "  '__doc__': \"Built-in functions, exceptions, and other objects.\\n\\nNoteworthy: None is the `nil' object; Ellipsis represents `...' in slices.\",\n",
              "  '__import__': <function __import__>,\n",
              "  '__loader__': _frozen_importlib.BuiltinImporter,\n",
              "  '__name__': 'builtins',\n",
              "  '__package__': '',\n",
              "  '__spec__': ModuleSpec(name='builtins', loader=<class '_frozen_importlib.BuiltinImporter'>),\n",
              "  'abs': <function abs>,\n",
              "  'all': <function all>,\n",
              "  'any': <function any>,\n",
              "  'ascii': <function ascii>,\n",
              "  'bin': <function bin>,\n",
              "  'bool': bool,\n",
              "  'bytearray': bytearray,\n",
              "  'bytes': bytes,\n",
              "  'callable': <function callable>,\n",
              "  'chr': <function chr>,\n",
              "  'classmethod': classmethod,\n",
              "  'compile': <function compile>,\n",
              "  'complex': complex,\n",
              "  'copyright': Copyright (c) 2001-2019 Python Software Foundation.\n",
              "  All Rights Reserved.\n",
              "  \n",
              "  Copyright (c) 2000 BeOpen.com.\n",
              "  All Rights Reserved.\n",
              "  \n",
              "  Copyright (c) 1995-2001 Corporation for National Research Initiatives.\n",
              "  All Rights Reserved.\n",
              "  \n",
              "  Copyright (c) 1991-1995 Stichting Mathematisch Centrum, Amsterdam.\n",
              "  All Rights Reserved.,\n",
              "  'credits':     Thanks to CWI, CNRI, BeOpen.com, Zope Corporation and a cast of thousands\n",
              "      for supporting Python development.  See www.python.org for more information.,\n",
              "  'delattr': <function delattr>,\n",
              "  'dict': dict,\n",
              "  'dir': <function dir>,\n",
              "  'display': <function IPython.core.display.display>,\n",
              "  'divmod': <function divmod>,\n",
              "  'dreload': <function IPython.lib.deepreload._dreload>,\n",
              "  'enumerate': enumerate,\n",
              "  'eval': <function eval>,\n",
              "  'exec': <function exec>,\n",
              "  'filter': filter,\n",
              "  'float': float,\n",
              "  'format': <function format>,\n",
              "  'frozenset': frozenset,\n",
              "  'get_ipython': <bound method InteractiveShell.get_ipython of <google.colab._shell.Shell object at 0x7fbb53ff69e8>>,\n",
              "  'getattr': <function getattr>,\n",
              "  'globals': <function globals>,\n",
              "  'hasattr': <function hasattr>,\n",
              "  'hash': <function hash>,\n",
              "  'help': Type help() for interactive help, or help(object) for help about object.,\n",
              "  'hex': <function hex>,\n",
              "  'id': <function id>,\n",
              "  'input': <bound method Kernel.raw_input of <google.colab._kernel.Kernel object at 0x7fbb53db6048>>,\n",
              "  'int': int,\n",
              "  'isinstance': <function isinstance>,\n",
              "  'issubclass': <function issubclass>,\n",
              "  'iter': <function iter>,\n",
              "  'len': <function len>,\n",
              "  'license': Type license() to see the full license text,\n",
              "  'list': list,\n",
              "  'locals': <function locals>,\n",
              "  'map': map,\n",
              "  'max': <function max>,\n",
              "  'memoryview': memoryview,\n",
              "  'min': <function min>,\n",
              "  'next': <function next>,\n",
              "  'object': object,\n",
              "  'oct': <function oct>,\n",
              "  'open': <function io.open>,\n",
              "  'ord': <function ord>,\n",
              "  'pow': <function pow>,\n",
              "  'print': <function print>,\n",
              "  'property': property,\n",
              "  'range': range,\n",
              "  'repr': <function repr>,\n",
              "  'reversed': reversed,\n",
              "  'round': <function round>,\n",
              "  'set': set,\n",
              "  'setattr': <function setattr>,\n",
              "  'slice': slice,\n",
              "  'sorted': <function sorted>,\n",
              "  'staticmethod': staticmethod,\n",
              "  'str': str,\n",
              "  'sum': <function sum>,\n",
              "  'super': super,\n",
              "  'tuple': tuple,\n",
              "  'type': type,\n",
              "  'vars': <function vars>,\n",
              "  'zip': zip},\n",
              " '__cached__': '/usr/lib/python3.6/__pycache__/random.cpython-36.pyc',\n",
              " '__doc__': 'Random variable generators.\\n\\n    integers\\n    --------\\n           uniform within range\\n\\n    sequences\\n    ---------\\n           pick random element\\n           pick random sample\\n           pick weighted random sample\\n           generate random permutation\\n\\n    distributions on the real line:\\n    ------------------------------\\n           uniform\\n           triangular\\n           normal (Gaussian)\\n           lognormal\\n           negative exponential\\n           gamma\\n           beta\\n           pareto\\n           Weibull\\n\\n    distributions on the circle (angles 0 to 2pi)\\n    ---------------------------------------------\\n           circular uniform\\n           von Mises\\n\\nGeneral notes on the underlying Mersenne Twister core generator:\\n\\n* The period is 2**19937-1.\\n* It is one of the most extensively tested generators in existence.\\n* The random() method is implemented in C, executes in a single Python step,\\n  and is, therefore, threadsafe.\\n\\n',\n",
              " '__file__': '/usr/lib/python3.6/random.py',\n",
              " '__loader__': <_frozen_importlib_external.SourceFileLoader at 0x7fbb681a8208>,\n",
              " '__name__': 'random',\n",
              " '__package__': '',\n",
              " '__spec__': ModuleSpec(name='random', loader=<_frozen_importlib_external.SourceFileLoader object at 0x7fbb681a8208>, origin='/usr/lib/python3.6/random.py'),\n",
              " '_acos': <function math.acos>,\n",
              " '_bisect': <module 'bisect' from '/usr/lib/python3.6/bisect.py'>,\n",
              " '_ceil': <function math.ceil>,\n",
              " '_cos': <function math.cos>,\n",
              " '_e': 2.718281828459045,\n",
              " '_exp': <function math.exp>,\n",
              " '_inst': <random.Random at 0x35bca18>,\n",
              " '_itertools': <module 'itertools' (built-in)>,\n",
              " '_log': <function math.log>,\n",
              " '_pi': 3.141592653589793,\n",
              " '_random': <module '_random' (built-in)>,\n",
              " '_sha512': <function _hashlib.openssl_sha512>,\n",
              " '_sin': <function math.sin>,\n",
              " '_sqrt': <function math.sqrt>,\n",
              " '_test': <function random._test>,\n",
              " '_test_generator': <function random._test_generator>,\n",
              " '_urandom': <function posix.urandom>,\n",
              " '_warn': <function _warnings.warn>,\n",
              " 'betavariate': <bound method Random.betavariate of <random.Random object at 0x35bca18>>,\n",
              " 'choice': <bound method Random.choice of <random.Random object at 0x35bca18>>,\n",
              " 'choices': <bound method Random.choices of <random.Random object at 0x35bca18>>,\n",
              " 'expovariate': <bound method Random.expovariate of <random.Random object at 0x35bca18>>,\n",
              " 'gammavariate': <bound method Random.gammavariate of <random.Random object at 0x35bca18>>,\n",
              " 'gauss': <bound method Random.gauss of <random.Random object at 0x35bca18>>,\n",
              " 'getrandbits': <function Random.getrandbits>,\n",
              " 'getstate': <bound method Random.getstate of <random.Random object at 0x35bca18>>,\n",
              " 'lognormvariate': <bound method Random.lognormvariate of <random.Random object at 0x35bca18>>,\n",
              " 'normalvariate': <bound method Random.normalvariate of <random.Random object at 0x35bca18>>,\n",
              " 'paretovariate': <bound method Random.paretovariate of <random.Random object at 0x35bca18>>,\n",
              " 'randint': <bound method Random.randint of <random.Random object at 0x35bca18>>,\n",
              " 'random': <function Random.random>,\n",
              " 'randrange': <bound method Random.randrange of <random.Random object at 0x35bca18>>,\n",
              " 'sample': <bound method Random.sample of <random.Random object at 0x35bca18>>,\n",
              " 'seed': <bound method Random.seed of <random.Random object at 0x35bca18>>,\n",
              " 'setstate': <bound method Random.setstate of <random.Random object at 0x35bca18>>,\n",
              " 'shuffle': <bound method Random.shuffle of <random.Random object at 0x35bca18>>,\n",
              " 'triangular': <bound method Random.triangular of <random.Random object at 0x35bca18>>,\n",
              " 'uniform': <bound method Random.uniform of <random.Random object at 0x35bca18>>,\n",
              " 'vonmisesvariate': <bound method Random.vonmisesvariate of <random.Random object at 0x35bca18>>,\n",
              " 'weibullvariate': <bound method Random.weibullvariate of <random.Random object at 0x35bca18>>}"
            ]
          },
          "metadata": {
            "tags": []
          },
          "execution_count": 4
        }
      ]
    },
    {
      "cell_type": "markdown",
      "metadata": {
        "collapsed": false,
        "pycharm": {
          "name": "#%% md\n"
        },
        "id": "fSbl5pHjhTzF"
      },
      "source": [
        "### Creating modules\n",
        "\n",
        "Python module names must follow the variable naming rules in Python. This is because the file name becomes variable name inside the program that imports it.\n",
        "\n",
        "Thus we cannot give a Python file:\n",
        "\n",
        "* a name of a reserved keyword,\n",
        "* a name that would begin with a number,\n",
        "* or a name that would contain a space character.\n",
        "\n",
        "It is also good to name your Python files differently than the standard library modules or 3rd party modules, in order to avoid name clashes during the import.\n"
      ]
    },
    {
      "cell_type": "markdown",
      "metadata": {
        "collapsed": false,
        "pycharm": {
          "name": "#%% md\n"
        },
        "id": "w1AHlBcohTzG"
      },
      "source": [
        "### Data hiding\n",
        "\n",
        "By data hiding we refer to the fact, that the programmer can specify, what module attributes cannot be imported using\n",
        "\n",
        "```from module import *```\n",
        "\n",
        " syntax. This specification can have 2 forms:\n",
        "\n",
        "* Variable names beginning with a single underscore **will not** be imported\n",
        "* Using \\_\\_all\\_\\_ variable to specify what **will be** imported"
      ]
    },
    {
      "cell_type": "code",
      "metadata": {
        "id": "-q2gN9YMfjIn"
      },
      "source": [
        "# my_module.data_hiding\n",
        "\"\"\"\n",
        "_secret = 'Password123'\n",
        "print('Print is being executed')\n",
        "var1 = 52\n",
        "var2 = 53\n",
        "\n",
        "\n",
        "def __secret__():\n",
        "    print(\"My password is ***\")\n",
        "\n",
        "def func(v1,v2):\n",
        "    result = v1 + v2\n",
        "    return result\n",
        "\"\"\""
      ],
      "execution_count": null,
      "outputs": []
    },
    {
      "cell_type": "code",
      "metadata": {
        "pycharm": {
          "name": "#%%\n"
        },
        "id": "qtFcE7dkhTzG",
        "outputId": "95df7720-eb08-435a-a53a-54080a75cac7",
        "colab": {
          "base_uri": "https://localhost:8080/",
          "height": 34
        }
      },
      "source": [
        "from my_module.data_hiding import *"
      ],
      "execution_count": 2,
      "outputs": [
        {
          "output_type": "stream",
          "text": [
            "Print is being executed\n"
          ],
          "name": "stdout"
        }
      ]
    },
    {
      "cell_type": "code",
      "metadata": {
        "pycharm": {
          "name": "#%%\n"
        },
        "id": "26NPlvJUhTzI",
        "outputId": "a4563eec-3f59-4599-f008-20ac094244b7",
        "colab": {
          "base_uri": "https://localhost:8080/",
          "height": 163
        }
      },
      "source": [
        "__secret__()"
      ],
      "execution_count": 3,
      "outputs": [
        {
          "output_type": "error",
          "ename": "NameError",
          "evalue": "ignored",
          "traceback": [
            "\u001b[0;31m---------------------------------------------------------------------------\u001b[0m",
            "\u001b[0;31mNameError\u001b[0m                                 Traceback (most recent call last)",
            "\u001b[0;32m<ipython-input-3-9292950145e8>\u001b[0m in \u001b[0;36m<module>\u001b[0;34m()\u001b[0m\n\u001b[0;32m----> 1\u001b[0;31m \u001b[0m__secret__\u001b[0m\u001b[0;34m(\u001b[0m\u001b[0;34m)\u001b[0m\u001b[0;34m\u001b[0m\u001b[0;34m\u001b[0m\u001b[0m\n\u001b[0m",
            "\u001b[0;31mNameError\u001b[0m: name '__secret__' is not defined"
          ]
        }
      ]
    },
    {
      "cell_type": "code",
      "metadata": {
        "pycharm": {
          "name": "#%%\n"
        },
        "id": "jjol_5TvhTzK",
        "outputId": "94d82949-8a0b-4398-a917-3647d617780b",
        "colab": {
          "base_uri": "https://localhost:8080/",
          "height": 34
        }
      },
      "source": [
        "var1"
      ],
      "execution_count": 4,
      "outputs": [
        {
          "output_type": "execute_result",
          "data": {
            "text/plain": [
              "52"
            ]
          },
          "metadata": {
            "tags": []
          },
          "execution_count": 4
        }
      ]
    },
    {
      "cell_type": "code",
      "metadata": {
        "pycharm": {
          "name": "#%%\n"
        },
        "id": "12W0TrfshTzM",
        "outputId": "f9f802f2-4223-44f1-9ef9-1bbeddb43f13",
        "colab": {
          "base_uri": "https://localhost:8080/",
          "height": 34
        }
      },
      "source": [
        "func(1,3)"
      ],
      "execution_count": 5,
      "outputs": [
        {
          "output_type": "execute_result",
          "data": {
            "text/plain": [
              "4"
            ]
          },
          "metadata": {
            "tags": []
          },
          "execution_count": 5
        }
      ]
    },
    {
      "cell_type": "code",
      "metadata": {
        "pycharm": {
          "name": "#%%\n"
        },
        "id": "51ObWjwnhTzO",
        "outputId": "6f057fce-8c57-4f77-fe28-59e41a1d2107",
        "colab": {
          "base_uri": "https://localhost:8080/",
          "height": 163
        }
      },
      "source": [
        "_secret"
      ],
      "execution_count": 6,
      "outputs": [
        {
          "output_type": "error",
          "ename": "NameError",
          "evalue": "ignored",
          "traceback": [
            "\u001b[0;31m---------------------------------------------------------------------------\u001b[0m",
            "\u001b[0;31mNameError\u001b[0m                                 Traceback (most recent call last)",
            "\u001b[0;32m<ipython-input-6-2a30439c6e08>\u001b[0m in \u001b[0;36m<module>\u001b[0;34m()\u001b[0m\n\u001b[0;32m----> 1\u001b[0;31m \u001b[0m_secret\u001b[0m\u001b[0;34m\u001b[0m\u001b[0;34m\u001b[0m\u001b[0m\n\u001b[0m",
            "\u001b[0;31mNameError\u001b[0m: name '_secret' is not defined"
          ]
        }
      ]
    },
    {
      "cell_type": "code",
      "metadata": {
        "pycharm": {
          "name": "#%%\n"
        },
        "id": "3M3JnSjIhTzQ"
      },
      "source": [
        "from my_module.data_hiding import _secret"
      ],
      "execution_count": 8,
      "outputs": []
    },
    {
      "cell_type": "code",
      "metadata": {
        "pycharm": {
          "name": "#%%\n"
        },
        "id": "ltu3uv0YhTzS",
        "outputId": "1228ee43-17a1-463e-a595-b7ff18868e14",
        "colab": {
          "base_uri": "https://localhost:8080/",
          "height": 35
        }
      },
      "source": [
        "_secret\n"
      ],
      "execution_count": 9,
      "outputs": [
        {
          "output_type": "execute_result",
          "data": {
            "application/vnd.google.colaboratory.intrinsic+json": {
              "type": "string"
            },
            "text/plain": [
              "'Password123'"
            ]
          },
          "metadata": {
            "tags": []
          },
          "execution_count": 9
        }
      ]
    },
    {
      "cell_type": "code",
      "metadata": {
        "pycharm": {
          "name": "#%%\n"
        },
        "id": "CgHzlu06hTzU",
        "outputId": "5a2eda76-713a-4e20-f1ba-ffc58b38a360",
        "colab": {
          "base_uri": "https://localhost:8080/",
          "height": 34
        }
      },
      "source": [
        "from my_module.data_hiding2 import *"
      ],
      "execution_count": 10,
      "outputs": [
        {
          "output_type": "stream",
          "text": [
            "Print is being executed\n"
          ],
          "name": "stdout"
        }
      ]
    },
    {
      "cell_type": "code",
      "metadata": {
        "pycharm": {
          "name": "#%%\n"
        },
        "id": "PfFN1wpKhTzW",
        "outputId": "251b51c7-7297-47d1-d553-6eb27f1e8a74",
        "colab": {
          "base_uri": "https://localhost:8080/",
          "height": 34
        }
      },
      "source": [
        "var1"
      ],
      "execution_count": 11,
      "outputs": [
        {
          "output_type": "execute_result",
          "data": {
            "text/plain": [
              "100"
            ]
          },
          "metadata": {
            "tags": []
          },
          "execution_count": 11
        }
      ]
    },
    {
      "cell_type": "code",
      "metadata": {
        "pycharm": {
          "name": "#%%\n"
        },
        "id": "OQqBBYQ9hTzX",
        "outputId": "36fba9f3-70b5-447f-a879-9da89124bf04",
        "colab": {
          "base_uri": "https://localhost:8080/",
          "height": 34
        }
      },
      "source": [
        "var2"
      ],
      "execution_count": 12,
      "outputs": [
        {
          "output_type": "execute_result",
          "data": {
            "text/plain": [
              "53"
            ]
          },
          "metadata": {
            "tags": []
          },
          "execution_count": 12
        }
      ]
    },
    {
      "cell_type": "code",
      "metadata": {
        "pycharm": {
          "name": "#%%\n"
        },
        "id": "X1o9W66HhTzZ",
        "outputId": "2a20bea7-3cdc-4c09-83dc-691482b7c425",
        "colab": {
          "base_uri": "https://localhost:8080/",
          "height": 34
        }
      },
      "source": [
        "import random\n",
        "from importlib import reload\n",
        "reload(random)"
      ],
      "execution_count": 13,
      "outputs": [
        {
          "output_type": "execute_result",
          "data": {
            "text/plain": [
              "<module 'random' from '/usr/lib/python3.6/random.py'>"
            ]
          },
          "metadata": {
            "tags": []
          },
          "execution_count": 13
        }
      ]
    },
    {
      "cell_type": "markdown",
      "metadata": {
        "collapsed": false,
        "pycharm": {
          "name": "#%% md\n"
        },
        "id": "ujOmURVbhTzb"
      },
      "source": [
        "### Compilation to byte code\n",
        "\n",
        "When Python imports a module, that has never been imported before, it compiles it first into so called bytecode.\n",
        "\n",
        "* Compilation is transformation of a source code into its binary representation - represenation in 0s and 1s that computers understand better.\n",
        "* Bytecode is binary representation of Python script.\n",
        "\n",
        "Compiled files are appended .pyc suffix and stored inside the \\_\\_pycache\\_\\_ directory situated in the same folder as the original .py file.\n",
        "If original file was called hack.py and was imported for example under Python 3.5., then the compiled file will be called hack.cpython-35.pyc. So the logic, how Python creates the .pyc file name is as follows:\n",
        "\n",
        "```\n",
        "original_filename.python_implementation-pythonversion.pyc\n",
        "```\n",
        "\n",
        "Python compiles .py files into byte code .pyc files under two conditions:\n",
        "\n",
        "* the file is imported for the first time - there is no corresponding .pyc file compiled under corresponding Python version, yet.\n",
        "* always, when the original source .py file has been changed. Do determine, whether a file should be recompiled, Python compares timestamps of both - if the .py file has more recent timestamp (was changed recently), the .pyc file is recompiled.\n",
        "\n",
        "When importing, python is actually loading the .pyc file.\n"
      ]
    },
    {
      "cell_type": "markdown",
      "metadata": {
        "collapsed": false,
        "pycharm": {
          "name": "#%% md\n"
        },
        "id": "ts_wVOz5hTzb"
      },
      "source": [
        "### Important modules\n",
        "\n",
        " * Math\n",
        " * os\n",
        "    * moving\n",
        " * shutil\n",
        "    * mainly copy function\n",
        "    * remove no-empty directory\n",
        "\n",
        "\n",
        "```\n",
        ">>> path = '/usr/PythonBeginner/Lesson8/test.txt'\n",
        "           |___________________________|________|\n",
        "                         |                  |\n",
        "                      dirname            basename/filename\n",
        "```\n",
        "\n",
        "## Task\n",
        "\n",
        "* python program which will get files as argument in console and print information about that files (size, basename, dirname ...)\n"
      ]
    }
  ]
}