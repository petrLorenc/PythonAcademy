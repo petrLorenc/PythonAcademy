{
 "nbformat": 4,
 "nbformat_minor": 0,
 "metadata": {
  "kernelspec": {
   "display_name": "Python 3",
   "language": "python",
   "name": "python3"
  },
  "language_info": {
   "codemirror_mode": {
    "name": "ipython",
    "version": 2
   },
   "file_extension": ".py",
   "mimetype": "text/x-python",
   "name": "python",
   "nbconvert_exporter": "python",
   "pygments_lexer": "ipython2",
   "version": "2.7.6"
  },
  "colab": {
   "name": "lesson5.ipynb",
   "provenance": []
  }
 },
 "cells": [
  {
   "cell_type": "code",
   "metadata": {
    "id": "gVEq83mBRcel",
    "colab_type": "code",
    "colab": {}
   },
   "source": [
    "idx = 0\n",
    "while True:\n",
    "  idx += 1\n",
    "  print(\"Begin of while\", idx)\n",
    "  if idx == 4:\n",
    "    break\n",
    "  if idx == 2:\n",
    "    continue\n",
    "  print(\"Bingo\", idx)\n",
    "  "
   ],
   "execution_count": null,
   "outputs": []
  },
  {
   "cell_type": "markdown",
   "metadata": {
    "collapsed": true,
    "pycharm": {
     "name": "#%% md\n"
    },
    "id": "CKm_rCVgPL-T",
    "colab_type": "text"
   },
   "source": [
    "# Lesson 5\n",
    "\n",
    " * Question about previous lessons?\n",
    " * Quiz - lesson 4\n",
    " * looping_dict.py\n",
    "\n",
    "## For loop\n",
    "\n",
    "```\n",
    "for x in iterable:\n",
    "    statements\n",
    "```\n",
    "\n",
    "You can do almost same work like with **while** but in some cases the **for** is more clear and more suitable:\n",
    "\n",
    "* For loops are best used on finite collections of data.\n",
    "* While loops are best used in scenarios, when we do not know in advance, when the loop will be terminated."
   ]
  },
  {
   "cell_type": "code",
   "metadata": {
    "pycharm": {
     "name": "#%%\n"
    },
    "id": "4lM-tWFDPL-V",
    "colab_type": "code",
    "colab": {
     "base_uri": "https://localhost:8080/",
     "height": 87
    },
    "outputId": "6e29458f-ecc4-49b5-cbf7-198aa83fce49"
   },
   "source": [
    "# Numbers?\n",
    "for item in [1,2,3,4]:\n",
    "    print(type(item))"
   ],
   "execution_count": 6,
   "outputs": [
    {
     "output_type": "stream",
     "text": [
      "<class 'int'>\n",
      "<class 'int'>\n",
      "<class 'int'>\n",
      "<class 'int'>\n"
     ],
     "name": "stdout"
    }
   ]
  },
  {
   "cell_type": "code",
   "metadata": {
    "pycharm": {
     "name": "#%%\n"
    },
    "id": "ru3FQTPIPL-b",
    "colab_type": "code",
    "colab": {
     "base_uri": "https://localhost:8080/",
     "height": 139
    },
    "outputId": "b88dad4b-96e5-4683-833e-85e997a5562f"
   },
   "source": [
    "# Numbers?\n",
    "for item in \"1234567\":\n",
    "    print(type(item))"
   ],
   "execution_count": 7,
   "outputs": [
    {
     "output_type": "stream",
     "text": [
      "<class 'str'>\n",
      "<class 'str'>\n",
      "<class 'str'>\n",
      "<class 'str'>\n",
      "<class 'str'>\n",
      "<class 'str'>\n",
      "<class 'str'>\n"
     ],
     "name": "stdout"
    }
   ]
  },
  {
   "cell_type": "code",
   "metadata": {
    "pycharm": {
     "name": "#%%\n"
    },
    "id": "-cxuyfXGPL-e",
    "colab_type": "code",
    "colab": {
     "base_uri": "https://localhost:8080/",
     "height": 35
    },
    "outputId": "262ecffe-d752-4fb8-abc4-b8b11aa45493"
   },
   "source": [
    "\"__iter__\" in dir(list())"
   ],
   "execution_count": 8,
   "outputs": [
    {
     "output_type": "execute_result",
     "data": {
      "text/plain": [
       "True"
      ]
     },
     "metadata": {
      "tags": []
     },
     "execution_count": 8
    }
   ]
  },
  {
   "cell_type": "code",
   "metadata": {
    "pycharm": {
     "name": "#%%\n"
    },
    "id": "HzBdiB4GPL-h",
    "colab_type": "code",
    "colab": {
     "base_uri": "https://localhost:8080/",
     "height": 35
    },
    "outputId": "52faaabd-af98-492d-c962-98fd1bf1001a"
   },
   "source": [
    "\"__iter__\" in dir(tuple())\n"
   ],
   "execution_count": 14,
   "outputs": [
    {
     "output_type": "execute_result",
     "data": {
      "text/plain": [
       "True"
      ]
     },
     "metadata": {
      "tags": []
     },
     "execution_count": 14
    }
   ]
  },
  {
   "cell_type": "code",
   "metadata": {
    "pycharm": {
     "name": "#%%\n"
    },
    "id": "27LDpcsgPL-k",
    "colab_type": "code",
    "colab": {
     "base_uri": "https://localhost:8080/",
     "height": 173
    },
    "outputId": "8510d647-876b-45d1-eca0-2a0cc49d7b39"
   },
   "source": [
    "# Strings?\n",
    "for item in 'abcdefghi':\n",
    "    print(item)"
   ],
   "execution_count": 15,
   "outputs": [
    {
     "output_type": "stream",
     "text": [
      "a\n",
      "b\n",
      "c\n",
      "d\n",
      "e\n",
      "f\n",
      "g\n",
      "h\n",
      "i\n"
     ],
     "name": "stdout"
    }
   ]
  },
  {
   "cell_type": "code",
   "metadata": {
    "pycharm": {
     "name": "#%%\n"
    },
    "id": "RJY35YKNPL-n",
    "colab_type": "code",
    "colab": {
     "base_uri": "https://localhost:8080/",
     "height": 104
    },
    "outputId": "b66ab1b9-cdc1-4b66-8b13-c5e4934f9071"
   },
   "source": [
    "# Tuples?\n",
    "for item in (1,2,3,4,5):\n",
    "    print(item)"
   ],
   "execution_count": 16,
   "outputs": [
    {
     "output_type": "stream",
     "text": [
      "1\n",
      "2\n",
      "3\n",
      "4\n",
      "5\n"
     ],
     "name": "stdout"
    }
   ]
  },
  {
   "cell_type": "code",
   "metadata": {
    "pycharm": {
     "name": "#%%\n"
    },
    "id": "Qs0DXZZ0PL-p",
    "colab_type": "code",
    "colab": {
     "base_uri": "https://localhost:8080/",
     "height": 104
    },
    "outputId": "29a21e06-b326-4fa4-94c8-2502afdc9b30"
   },
   "source": [
    "# Sets?\n",
    "for item in {1,2,3,4,5}:\n",
    "    print(item)"
   ],
   "execution_count": 17,
   "outputs": [
    {
     "output_type": "stream",
     "text": [
      "1\n",
      "2\n",
      "3\n",
      "4\n",
      "5\n"
     ],
     "name": "stdout"
    }
   ]
  },
  {
   "cell_type": "code",
   "metadata": {
    "pycharm": {
     "name": "#%%\n"
    },
    "id": "cuYNCP9PPL-s",
    "colab_type": "code",
    "colab": {
     "base_uri": "https://localhost:8080/",
     "height": 201
    },
    "outputId": "79cdf0d3-1d67-4a99-9e6f-ed954eb1b81c"
   },
   "source": [
    "# Dictionaries?\n",
    "for key, value in {'name': 'Bob', 'age': 23, 'job':'plumber'}.values():\n",
    "    print(key, value)"
   ],
   "execution_count": 25,
   "outputs": [
    {
     "output_type": "error",
     "ename": "ValueError",
     "evalue": "ignored",
     "traceback": [
      "\u001B[0;31m---------------------------------------------------------------------------\u001B[0m",
      "\u001B[0;31mValueError\u001B[0m                                Traceback (most recent call last)",
      "\u001B[0;32m<ipython-input-25-9b3344917fbc>\u001B[0m in \u001B[0;36m<module>\u001B[0;34m()\u001B[0m\n\u001B[1;32m      1\u001B[0m \u001B[0;31m# Dictionaries?\u001B[0m\u001B[0;34m\u001B[0m\u001B[0;34m\u001B[0m\u001B[0;34m\u001B[0m\u001B[0m\n\u001B[0;32m----> 2\u001B[0;31m \u001B[0;32mfor\u001B[0m \u001B[0mkey\u001B[0m\u001B[0;34m,\u001B[0m \u001B[0mvalue\u001B[0m \u001B[0;32min\u001B[0m \u001B[0;34m{\u001B[0m\u001B[0;34m'name'\u001B[0m\u001B[0;34m:\u001B[0m \u001B[0;34m'Bob'\u001B[0m\u001B[0;34m,\u001B[0m \u001B[0;34m'age'\u001B[0m\u001B[0;34m:\u001B[0m \u001B[0;36m23\u001B[0m\u001B[0;34m,\u001B[0m \u001B[0;34m'job'\u001B[0m\u001B[0;34m:\u001B[0m\u001B[0;34m'plumber'\u001B[0m\u001B[0;34m}\u001B[0m\u001B[0;34m.\u001B[0m\u001B[0mvalues\u001B[0m\u001B[0;34m(\u001B[0m\u001B[0;34m)\u001B[0m\u001B[0;34m:\u001B[0m\u001B[0;34m\u001B[0m\u001B[0;34m\u001B[0m\u001B[0m\n\u001B[0m\u001B[1;32m      3\u001B[0m     \u001B[0mprint\u001B[0m\u001B[0;34m(\u001B[0m\u001B[0mkey\u001B[0m\u001B[0;34m,\u001B[0m \u001B[0mvalue\u001B[0m\u001B[0;34m)\u001B[0m\u001B[0;34m\u001B[0m\u001B[0;34m\u001B[0m\u001B[0m\n",
      "\u001B[0;31mValueError\u001B[0m: too many values to unpack (expected 2)"
     ]
    }
   ]
  },
  {
   "cell_type": "code",
   "metadata": {
    "pycharm": {
     "name": "#%%\n"
    },
    "id": "cdbjuwOYPL-u",
    "colab_type": "code",
    "colab": {
     "base_uri": "https://localhost:8080/",
     "height": 35
    },
    "outputId": "b333ee89-eb56-48d9-86f2-16e4968ff697"
   },
   "source": [
    "# what will print this?\n",
    "converted_word = ''\n",
    "for char in 'Python':\n",
    "    if char.isupper():\n",
    "        converted_word = converted_word + char.lower()\n",
    "    else:\n",
    "        converted_word = converted_word + char.upper()\n",
    "print(converted_word)"
   ],
   "execution_count": 26,
   "outputs": [
    {
     "output_type": "stream",
     "text": [
      "pYTHON\n"
     ],
     "name": "stdout"
    }
   ]
  },
  {
   "cell_type": "markdown",
   "metadata": {
    "collapsed": false,
    "pycharm": {
     "name": "#%% md\n"
    },
    "id": "its9S9GZPL-w",
    "colab_type": "text"
   },
   "source": [
    "There is no infinite loop if we are using **for** loop\n",
    "\n",
    "##### BREAK\n",
    "\n",
    " * for_math.py\n",
    "\n",
    "### Range\n",
    "\n",
    "We could meet ranges in elementary school's math classes. For example, we were checking whether a number belonged to an interval of numbers. In Python, range:\n",
    "\n",
    "* range is a standalone data type,\n",
    "* it consists of a sequence (ordered collection) of numbers,\n",
    "* the distance between these values is by default 1 (but we can change that),\n",
    "* the direction of ordering can be changed (we can generate ascending or descending sequences of numeric values).\n",
    "\n",
    "Range is immutable data type similarly to string, bytes, tuple. The only way, we can create a range object is by using the range() constructor. Range belong among sequence data types (str, tuple, list).\n"
   ]
  },
  {
   "cell_type": "code",
   "metadata": {
    "id": "UV_rNs1qnV7P",
    "colab_type": "code",
    "colab": {
     "base_uri": "https://localhost:8080/",
     "height": 35
    },
    "outputId": "008f36f2-a925-4baf-bb89-196537dde48a"
   },
   "source": [],
   "execution_count": 29,
   "outputs": [
    {
     "output_type": "execute_result",
     "data": {
      "text/plain": [
       "[0, 1]"
      ]
     },
     "metadata": {
      "tags": []
     },
     "execution_count": 29
    }
   ]
  },
  {
   "cell_type": "code",
   "metadata": {
    "pycharm": {
     "name": "#%%\n"
    },
    "id": "a2gPmOhxPL-x",
    "colab_type": "code",
    "colab": {
     "base_uri": "https://localhost:8080/",
     "height": 69
    },
    "outputId": "6a451056-6eaf-45de-ca80-c5513f193182"
   },
   "source": [
    "# Ranges??\n",
    "for item in range(5, 10, 2):\n",
    "    print(item)\n"
   ],
   "execution_count": 34,
   "outputs": [
    {
     "output_type": "stream",
     "text": [
      "5\n",
      "7\n",
      "9\n"
     ],
     "name": "stdout"
    }
   ]
  },
  {
   "cell_type": "markdown",
   "metadata": {
    "collapsed": false,
    "id": "6pE_ETY7PL-1",
    "colab_type": "text"
   },
   "source": [
    "1. range(stop)\n",
    "2. range(start, stop)\n",
    "3. range(start,stop,step)"
   ]
  },
  {
   "cell_type": "code",
   "metadata": {
    "pycharm": {
     "name": "#%%\n"
    },
    "id": "smALXr9HPL-1",
    "colab_type": "code",
    "colab": {}
   },
   "source": [
    "r = range(3)"
   ],
   "execution_count": 35,
   "outputs": []
  },
  {
   "cell_type": "code",
   "metadata": {
    "pycharm": {
     "name": "#%%\n"
    },
    "id": "V7pzc1HOPL-3",
    "colab_type": "code",
    "colab": {
     "base_uri": "https://localhost:8080/",
     "height": 69
    },
    "outputId": "a81f936a-c234-465d-90ee-f3b5e71ea7af"
   },
   "source": [
    "for i in r:\n",
    "    print(i)"
   ],
   "execution_count": 36,
   "outputs": [
    {
     "output_type": "stream",
     "text": [
      "0\n",
      "1\n",
      "2\n"
     ],
     "name": "stdout"
    }
   ]
  },
  {
   "cell_type": "code",
   "metadata": {
    "id": "A4rcrTcqoZc9",
    "colab_type": "code",
    "colab": {
     "base_uri": "https://localhost:8080/",
     "height": 69
    },
    "outputId": "a72981e0-2c19-46c2-fb27-8b7a49b196d2"
   },
   "source": [
    "for i in r:\n",
    "    print(i)"
   ],
   "execution_count": 37,
   "outputs": [
    {
     "output_type": "stream",
     "text": [
      "0\n",
      "1\n",
      "2\n"
     ],
     "name": "stdout"
    }
   ]
  },
  {
   "cell_type": "code",
   "metadata": {
    "pycharm": {
     "name": "#%%\n"
    },
    "id": "J47bIyXrPL-5",
    "colab_type": "code",
    "colab": {
     "base_uri": "https://localhost:8080/",
     "height": 35
    },
    "outputId": "af890b64-72ba-4395-e99f-f5edd7552c9e"
   },
   "source": [
    "type(r)"
   ],
   "execution_count": 38,
   "outputs": [
    {
     "output_type": "execute_result",
     "data": {
      "text/plain": [
       "range"
      ]
     },
     "metadata": {
      "tags": []
     },
     "execution_count": 38
    }
   ]
  },
  {
   "cell_type": "markdown",
   "metadata": {
    "collapsed": false,
    "pycharm": {
     "name": "#%% md\n"
    },
    "id": "zXj9RxZfPL-7",
    "colab_type": "text"
   },
   "source": [
    "Range generates the numbers \"**on demand**\" and not at once.\n",
    "\n",
    "If we wanted to generate them all at once we can use list() or tuple() constructors.\n",
    "\n",
    "``` list(range(3)) = [0,1,2] ```\n",
    "\n",
    "That is why we will not see the whole sequence if we pass range object to the print() function. Why this is so is discussed in the module covering the concept of Generators.\n",
    "\n",
    "Meanwhile we should be aware of the fact that printing bare range() object will not print the sequence of items it generates."
   ]
  },
  {
   "cell_type": "code",
   "metadata": {
    "pycharm": {
     "name": "#%%\n"
    },
    "id": "ATubr5cCPL-8",
    "colab_type": "code",
    "colab": {
     "base_uri": "https://localhost:8080/",
     "height": 35
    },
    "outputId": "2c75f90b-ceab-44f7-a24e-3154442a16f7"
   },
   "source": [
    "# 1. stop > start\n",
    "print(\"1.\", list(range(1,5)))"
   ],
   "execution_count": 39,
   "outputs": [
    {
     "output_type": "stream",
     "text": [
      "1. [1, 2, 3, 4]\n"
     ],
     "name": "stdout"
    }
   ]
  },
  {
   "cell_type": "code",
   "metadata": {
    "pycharm": {
     "name": "#%%\n"
    },
    "id": "hHLP7jztPL--",
    "colab_type": "code",
    "colab": {
     "base_uri": "https://localhost:8080/",
     "height": 35
    },
    "outputId": "fa3a2125-5d5d-45d6-be88-6398351352b8"
   },
   "source": [
    "# 1. start > stop\n",
    "print(\"1.\", list(range(5,1)))"
   ],
   "execution_count": 43,
   "outputs": [
    {
     "output_type": "stream",
     "text": [
      "1. []\n"
     ],
     "name": "stdout"
    }
   ]
  },
  {
   "cell_type": "code",
   "metadata": {
    "pycharm": {
     "name": "#%%\n"
    },
    "id": "SxUZYZCXPL-_",
    "colab_type": "code",
    "colab": {
     "base_uri": "https://localhost:8080/",
     "height": 35
    },
    "outputId": "0cca036c-eff0-43a6-f761-ab69133b56a0"
   },
   "source": [
    "# 2. stop == 0\n",
    "print(\"2.\", list(range(0)))"
   ],
   "execution_count": 44,
   "outputs": [
    {
     "output_type": "stream",
     "text": [
      "2. []\n"
     ],
     "name": "stdout"
    }
   ]
  },
  {
   "cell_type": "code",
   "metadata": {
    "pycharm": {
     "name": "#%%\n"
    },
    "id": "PKrzEkuBPL_B",
    "colab_type": "code",
    "colab": {
     "base_uri": "https://localhost:8080/",
     "height": 35
    },
    "outputId": "652803ef-6c7e-4f60-de06-a06efea6c7a8"
   },
   "source": [
    "# 3. start < stop and step < 0\n",
    "print(\"3.\", list(range(3,9,-1)))"
   ],
   "execution_count": 45,
   "outputs": [
    {
     "output_type": "stream",
     "text": [
      "3. []\n"
     ],
     "name": "stdout"
    }
   ]
  },
  {
   "cell_type": "code",
   "metadata": {
    "pycharm": {
     "name": "#%%\n"
    },
    "id": "r3U6kdPkPL_E",
    "colab_type": "code",
    "colab": {
     "base_uri": "https://localhost:8080/",
     "height": 35
    },
    "outputId": "f52a18eb-a120-4377-90a9-c2187f7d73d5"
   },
   "source": [
    "# 4. start > stop and step < 0\n",
    "print(\"4.\", list(range(10,0,-1)))"
   ],
   "execution_count": 46,
   "outputs": [
    {
     "output_type": "stream",
     "text": [
      "4. [10, 9, 8, 7, 6, 5, 4, 3, 2, 1]\n"
     ],
     "name": "stdout"
    }
   ]
  },
  {
   "cell_type": "code",
   "metadata": {
    "pycharm": {
     "name": "#%%\n"
    },
    "id": "SMBYg5QdPL_F",
    "colab_type": "code",
    "colab": {
     "base_uri": "https://localhost:8080/",
     "height": 35
    },
    "outputId": "bdce9231-745f-4258-bbeb-be30e335ed20"
   },
   "source": [
    "# 5. step > 2\n",
    "print(\"5.\", list(range(0,10,3)))"
   ],
   "execution_count": 47,
   "outputs": [
    {
     "output_type": "stream",
     "text": [
      "5. [0, 3, 6, 9]\n"
     ],
     "name": "stdout"
    }
   ]
  },
  {
   "cell_type": "code",
   "metadata": {
    "pycharm": {
     "name": "#%%\n"
    },
    "id": "lV9xtBnrPL_H",
    "colab_type": "code",
    "colab": {
     "base_uri": "https://localhost:8080/",
     "height": 35
    },
    "outputId": "fb2cb2d4-97d6-45b3-f6a3-687e0a31f6df"
   },
   "source": [
    "# 6. step < -1\n",
    "print(\"6.\", list(range(10,0,-2)))"
   ],
   "execution_count": 48,
   "outputs": [
    {
     "output_type": "stream",
     "text": [
      "6. [10, 8, 6, 4, 2]\n"
     ],
     "name": "stdout"
    }
   ]
  },
  {
   "cell_type": "code",
   "metadata": {
    "pycharm": {
     "name": "#%%\n"
    },
    "id": "q7aDayhaPL_J",
    "colab_type": "code",
    "colab": {
     "base_uri": "https://localhost:8080/",
     "height": 35
    },
    "outputId": "5b770206-b62d-4fb7-8a4a-bae7a5af79ca"
   },
   "source": [
    "# 7. step == 0\n",
    "print(\"7.\", list(range(1,10,1)))"
   ],
   "execution_count": 53,
   "outputs": [
    {
     "output_type": "stream",
     "text": [
      "7. [1, 2, 3, 4, 5, 6, 7, 8, 9]\n"
     ],
     "name": "stdout"
    }
   ]
  },
  {
   "cell_type": "markdown",
   "metadata": {
    "collapsed": false,
    "pycharm": {
     "name": "#%% md\n"
    },
    "id": "dYY4D20KPL_L",
    "colab_type": "text"
   },
   "source": [
    "##### BREAK\n",
    " * is_prime.py\n",
    "\n",
    "# Practice, Practice, Practice"
   ]
  },
  {
   "cell_type": "code",
   "metadata": {
    "pycharm": {
     "name": "#%%\n"
    },
    "id": "cuDaLClcPL_L",
    "colab_type": "code",
    "colab": {
     "base_uri": "https://localhost:8080/",
     "height": 166
    },
    "outputId": "c41bfa75-99b3-4175-953e-cecc956e1dcb"
   },
   "source": [
    "range(15,20) + range(20,25)"
   ],
   "execution_count": 54,
   "outputs": [
    {
     "output_type": "error",
     "ename": "TypeError",
     "evalue": "ignored",
     "traceback": [
      "\u001B[0;31m---------------------------------------------------------------------------\u001B[0m",
      "\u001B[0;31mTypeError\u001B[0m                                 Traceback (most recent call last)",
      "\u001B[0;32m<ipython-input-54-2d9ee8318254>\u001B[0m in \u001B[0;36m<module>\u001B[0;34m()\u001B[0m\n\u001B[0;32m----> 1\u001B[0;31m \u001B[0mrange\u001B[0m\u001B[0;34m(\u001B[0m\u001B[0;36m15\u001B[0m\u001B[0;34m,\u001B[0m\u001B[0;36m20\u001B[0m\u001B[0;34m)\u001B[0m \u001B[0;34m+\u001B[0m \u001B[0mrange\u001B[0m\u001B[0;34m(\u001B[0m\u001B[0;36m20\u001B[0m\u001B[0;34m,\u001B[0m\u001B[0;36m25\u001B[0m\u001B[0;34m)\u001B[0m\u001B[0;34m\u001B[0m\u001B[0;34m\u001B[0m\u001B[0m\n\u001B[0m",
      "\u001B[0;31mTypeError\u001B[0m: unsupported operand type(s) for +: 'range' and 'range'"
     ]
    }
   ]
  },
  {
   "cell_type": "code",
   "metadata": {
    "pycharm": {
     "name": "#%%\n"
    },
    "id": "ahxrZ8zTPL_N",
    "colab_type": "code",
    "colab": {
     "base_uri": "https://localhost:8080/",
     "height": 35
    },
    "outputId": "cd9750ae-da23-4d98-96ad-7985c72ab134"
   },
   "source": [
    "list(range(15,20)) + list(range(20,25))"
   ],
   "execution_count": 55,
   "outputs": [
    {
     "output_type": "execute_result",
     "data": {
      "text/plain": [
       "[15, 16, 17, 18, 19, 20, 21, 22, 23, 24]"
      ]
     },
     "metadata": {
      "tags": []
     },
     "execution_count": 55
    }
   ]
  },
  {
   "cell_type": "code",
   "metadata": {
    "pycharm": {
     "name": "#%%\n"
    },
    "id": "K5N8qdsPPL_P",
    "colab_type": "code",
    "colab": {
     "base_uri": "https://localhost:8080/",
     "height": 166
    },
    "outputId": "5f33c414-7974-47e3-b4fd-7115c063a088"
   },
   "source": [
    "range(5) * 3"
   ],
   "execution_count": 56,
   "outputs": [
    {
     "output_type": "error",
     "ename": "TypeError",
     "evalue": "ignored",
     "traceback": [
      "\u001B[0;31m---------------------------------------------------------------------------\u001B[0m",
      "\u001B[0;31mTypeError\u001B[0m                                 Traceback (most recent call last)",
      "\u001B[0;32m<ipython-input-56-a07031d40528>\u001B[0m in \u001B[0;36m<module>\u001B[0;34m()\u001B[0m\n\u001B[0;32m----> 1\u001B[0;31m \u001B[0mrange\u001B[0m\u001B[0;34m(\u001B[0m\u001B[0;36m5\u001B[0m\u001B[0;34m)\u001B[0m \u001B[0;34m*\u001B[0m \u001B[0;36m3\u001B[0m\u001B[0;34m\u001B[0m\u001B[0;34m\u001B[0m\u001B[0m\n\u001B[0m",
      "\u001B[0;31mTypeError\u001B[0m: unsupported operand type(s) for *: 'range' and 'int'"
     ]
    }
   ]
  },
  {
   "cell_type": "code",
   "metadata": {
    "id": "j1Elwtcguqd_",
    "colab_type": "code",
    "colab": {
     "base_uri": "https://localhost:8080/",
     "height": 35
    },
    "outputId": "b1384056-6709-4708-c665-0f537118857c"
   },
   "source": [
    "list(range(5)) * 3"
   ],
   "execution_count": 57,
   "outputs": [
    {
     "output_type": "execute_result",
     "data": {
      "text/plain": [
       "[0, 1, 2, 3, 4, 0, 1, 2, 3, 4, 0, 1, 2, 3, 4]"
      ]
     },
     "metadata": {
      "tags": []
     },
     "execution_count": 57
    }
   ]
  },
  {
   "cell_type": "code",
   "metadata": {
    "pycharm": {
     "name": "#%%\n"
    },
    "id": "IdZ0BvPAPL_R",
    "colab_type": "code",
    "colab": {
     "base_uri": "https://localhost:8080/",
     "height": 87
    },
    "outputId": "6b72bf68-f499-4f94-b2c7-7230f826055e"
   },
   "source": [
    "# matrix MxN\n",
    "m = 11111\n",
    "for m in range(3):\n",
    "    for n in range(4):\n",
    "        print(f\"{m},{n}\", end=\"\\t\")\n",
    "    print(f\" {m},{n}\")\n",
    "print(f\"{m},{n}\")"
   ],
   "execution_count": 65,
   "outputs": [
    {
     "output_type": "stream",
     "text": [
      "0,0\t0,1\t0,2\t0,3\t 0,3\n",
      "1,0\t1,1\t1,2\t1,3\t 1,3\n",
      "2,0\t2,1\t2,2\t2,3\t 2,3\n",
      "2,3\n"
     ],
     "name": "stdout"
    }
   ]
  },
  {
   "cell_type": "markdown",
   "metadata": {
    "collapsed": false,
    "pycharm": {
     "name": "#%% md\n"
    },
    "id": "1rTOfxeRPL_T",
    "colab_type": "text"
   },
   "source": [
    "  * print_table.py"
   ]
  },
  {
   "cell_type": "markdown",
   "metadata": {
    "collapsed": false,
    "pycharm": {
     "name": "#%% md\n"
    },
    "id": "hTpxj0svPL_T",
    "colab_type": "text"
   },
   "source": [
    "Loops do not have to run till the end - this can be controlled by the use of **continue** and **break** statements. Both statements are used usually in connection with some conditional statement (if a test returns True, then ...):\n",
    "\n",
    "### Searching for a words\n",
    "\n",
    "Create a program that will ask the user for any word and will then begin to search for the word in the text we have attached bellow. If the word is found, the program should print the number representing word's position (order) in the given string:\n",
    "\n",
    " * for_search.py"
   ]
  },
  {
   "cell_type": "markdown",
   "metadata": {
    "collapsed": false,
    "pycharm": {
     "name": "#%% md\n"
    },
    "id": "KUaomRoZPL_U",
    "colab_type": "text"
   },
   "source": [
    "### For else\n",
    "\n",
    "Else block will be performed only if there was no **break** statement."
   ]
  },
  {
   "cell_type": "code",
   "metadata": {
    "pycharm": {
     "name": "#%%\n"
    },
    "id": "OwLADctSPL_U",
    "colab_type": "code",
    "colab": {
     "base_uri": "https://localhost:8080/",
     "height": 35
    },
    "outputId": "e40170d3-ac91-458b-a3f7-4c72a670ee0c"
   },
   "source": [
    "for i in []:\n",
    "    pass\n",
    "else:\n",
    "    print(\"1. Else\")\n",
    "\n",
    "for i in [1]:\n",
    "    pass\n",
    "else:\n",
    "    print(\"2. Else\")\n",
    "\n",
    "for i in []:\n",
    "    break\n",
    "else:\n",
    "    print(\"3. Else\")\n",
    "\n",
    "for i in [1]:\n",
    "    break\n",
    "else:\n",
    "    print(\"4. Else\")\n",
    "\n",
    "for i in []:\n",
    "    continue\n",
    "else:\n",
    "    print(\"5. Else\")\n",
    "\n",
    "for i in [1]:\n",
    "    continue\n",
    "else:\n",
    "    print(\"6. Else\")"
   ],
   "execution_count": 1,
   "outputs": [
    {
     "name": "stdout",
     "output_type": "stream",
     "text": [
      "1. Else\n",
      "2. Else\n",
      "3. Else\n",
      "5. Else\n",
      "6. Else\n"
     ]
    }
   ]
  },
  {
   "cell_type": "markdown",
   "source": [],
   "metadata": {
    "collapsed": false
   }
  },
  {
   "cell_type": "markdown",
   "metadata": {
    "collapsed": false,
    "pycharm": {
     "name": "#%% md\n"
    },
    "id": "MnuLkVVbPL_W",
    "colab_type": "text"
   },
   "source": [
    "### Dictionaries"
   ]
  },
  {
   "cell_type": "code",
   "metadata": {
    "pycharm": {
     "name": "#%%\n"
    },
    "id": "r__WmRnoPL_X",
    "colab_type": "code",
    "colab": {}
   },
   "source": [
    "employee = {'f_name':'John', '_name':'Smith','age': 23, 'job':'plumber'}\n"
   ],
   "execution_count": 67,
   "outputs": []
  },
  {
   "cell_type": "code",
   "metadata": {
    "pycharm": {
     "name": "#%%\n"
    },
    "id": "I_Bv3Y7MPL_Z",
    "colab_type": "code",
    "colab": {
     "base_uri": "https://localhost:8080/",
     "height": 85
    },
    "outputId": "205f029e-14fc-4c4e-a24a-e75fdc4117c5"
   },
   "source": [
    "for k, v in employee.items():\n",
    "    print (k,v)"
   ],
   "execution_count": 68,
   "outputs": [
    {
     "output_type": "stream",
     "text": [
      "f_name John\n",
      "_name Smith\n",
      "age 23\n",
      "job plumber\n"
     ],
     "name": "stdout"
    }
   ]
  },
  {
   "cell_type": "markdown",
   "metadata": {
    "collapsed": false,
    "pycharm": {
     "name": "#%% md\n"
    },
    "id": "je1baw8vPL_a",
    "colab_type": "text"
   },
   "source": [
    "### Enumerate"
   ]
  },
  {
   "cell_type": "code",
   "metadata": {
    "pycharm": {
     "name": "#%%\n"
    },
    "id": "W51BIr8sPL_b",
    "colab_type": "code",
    "colab": {
     "base_uri": "https://localhost:8080/",
     "height": 629
    },
    "outputId": "e6ad6c82-b0a8-4ecb-b019-393b63bde503"
   },
   "source": [
    "some_string = 'For loops support iteration protocol'\n",
    "for index, char in enumerate(some_string):\n",
    "    print(index, \"->\", char)\n"
   ],
   "execution_count": 69,
   "outputs": [
    {
     "output_type": "stream",
     "text": [
      "0 -> F\n",
      "1 -> o\n",
      "2 -> r\n",
      "3 ->  \n",
      "4 -> l\n",
      "5 -> o\n",
      "6 -> o\n",
      "7 -> p\n",
      "8 -> s\n",
      "9 ->  \n",
      "10 -> s\n",
      "11 -> u\n",
      "12 -> p\n",
      "13 -> p\n",
      "14 -> o\n",
      "15 -> r\n",
      "16 -> t\n",
      "17 ->  \n",
      "18 -> i\n",
      "19 -> t\n",
      "20 -> e\n",
      "21 -> r\n",
      "22 -> a\n",
      "23 -> t\n",
      "24 -> i\n",
      "25 -> o\n",
      "26 -> n\n",
      "27 ->  \n",
      "28 -> p\n",
      "29 -> r\n",
      "30 -> o\n",
      "31 -> t\n",
      "32 -> o\n",
      "33 -> c\n",
      "34 -> o\n",
      "35 -> l\n"
     ],
     "name": "stdout"
    }
   ]
  },
  {
   "cell_type": "code",
   "metadata": {
    "id": "RIjXUnbrxL-W",
    "colab_type": "code",
    "colab": {
     "base_uri": "https://localhost:8080/",
     "height": 35
    },
    "outputId": "048fba8d-459e-4583-af88-609b42ed6c6e"
   },
   "source": [
    "a = [1,2,3]\n",
    "b = [3,4,5]\n",
    "list(zip(range(1, len(b) + 1), b))"
   ],
   "execution_count": 76,
   "outputs": [
    {
     "output_type": "execute_result",
     "data": {
      "text/plain": [
       "[(1, 3), (2, 4), (3, 5)]"
      ]
     },
     "metadata": {
      "tags": []
     },
     "execution_count": 76
    }
   ]
  },
  {
   "cell_type": "code",
   "metadata": {
    "id": "f7wau_2Qx1qM",
    "colab_type": "code",
    "colab": {
     "base_uri": "https://localhost:8080/",
     "height": 35
    },
    "outputId": "209c7081-9bcf-4a29-91d0-13ef40896b0f"
   },
   "source": [
    "a = [1,2]\n",
    "b = [3,4,5]\n",
    "\n",
    "list(zip(a, b))\n",
    "\n",
    "for name, surname in zip(names, surnames):\n",
    "  "
   ],
   "execution_count": 77,
   "outputs": [
    {
     "output_type": "execute_result",
     "data": {
      "text/plain": [
       "[(1, 3), (2, 4)]"
      ]
     },
     "metadata": {
      "tags": []
     },
     "execution_count": 77
    }
   ]
  },
  {
   "cell_type": "markdown",
   "metadata": {
    "collapsed": false,
    "pycharm": {
     "name": "#%% md\n"
    },
    "id": "wpn5uuoHPL_d",
    "colab_type": "text"
   },
   "source": [
    " * max_in_list.py\n",
    "\n"
   ]
  }
 ]
}