{
 "cells": [
  {
   "cell_type": "markdown",
   "metadata": {
    "collapsed": true,
    "pycharm": {
     "name": "#%% md\n"
    }
   },
   "source": [
    "# Lesson 2\n",
    "\n",
    "### Feedback from first lesson\n",
    " * Variables are hard concept for beginners\n",
    " * Have you go through online lesson? Any questions?\n",
    "\n",
    "#### Creating Variables\n",
    "* Variables are containers for storing data values.\n",
    "* Unlike other programming languages, Python has no command for declaring a variable.\n",
    "* A variable is created the moment you first assign a value to it.\n",
    "\n",
    "#### Side-note\n",
    "**Everything that comes to life in Python is an object**. Data types we described are represented also by object - integer object, float object etc. For example integer object is number 5. Float object would then be 5.0 and string object would be '5'. In the data type overview, we mention multiple times word constructor. This word belongs into the concept of objects.\n",
    "\n",
    "### Additional notes from first lesson?\n",
    " * Variables??\n",
    "    * Try to remember to math classes - variables help with generalizing rules and concepts\n",
    "    * Python is very benevolent with using variables\n",
    "    * Surface of a box??\n",
    "    * Python is dynamic language\n",
    " * Exercise List operations 1 - > different type of print\n",
    " * Print list - join\n",
    " * list[::3] a list[1:2:3]\n",
    " * Numbers are immutable (see below) – a = 3 and then you try a = a + 1, number 3 is not changed. New number 4 is created and **a** is pointing to that number in memory.\n",
    " * List\n",
    "    * append/extend - what is difference?\n",
    "    * deleting items - assigning empty value or del (+ remove, pop, clear)\n",
    " * Using helper of your IDE (help you find right name of function)\n",
    "    * useful shortcuts of Pycharm\n",
    "\n",
    "### Notes\n",
    " * Work with errors like with buddies (usually the error statements help to solve the problem)\n",
    " * [Git cheatsheet](https://pyvec.github.io/cheatsheets/basic-git/basic-git-cs.pdf)\n",
    " * [Built-in Functions](https://docs.python.org/3/library/functions.html#id)\n",
    "\n",
    "We will continue with code from first lesson."
   ]
  },
  {
   "cell_type": "code",
   "execution_count": 1,
   "outputs": [
    {
     "name": "stdout",
     "output_type": "stream",
     "text": [
      "Hello!\n"
     ]
    }
   ],
   "source": [
    "print      (   \"Hello!\"     )"
   ],
   "metadata": {
    "collapsed": false,
    "pycharm": {
     "name": "#%%\n"
    }
   }
  },
  {
   "cell_type": "code",
   "execution_count": 2,
   "outputs": [
    {
     "name": "stdout",
     "output_type": "stream",
     "text": [
      "49\n"
     ]
    }
   ],
   "source": [
    "print((1 + (2 * 3)) ** 2)"
   ],
   "metadata": {
    "collapsed": false,
    "pycharm": {
     "name": "#%%\n"
    }
   }
  },
  {
   "cell_type": "code",
   "execution_count": 3,
   "outputs": [
    {
     "name": "stdout",
     "output_type": "stream",
     "text": [
      "[[1, 1], [1, 2]]\n"
     ]
    }
   ],
   "source": [
    "a = [[1,1],[1,2]]\n",
    "print(a)\n",
    "# print(a[1][1])"
   ],
   "metadata": {
    "collapsed": false,
    "pycharm": {
     "name": "#%%\n"
    }
   }
  },
  {
   "cell_type": "code",
   "execution_count": 4,
   "outputs": [
    {
     "name": "stdout",
     "output_type": "stream",
     "text": [
      "10914624\n",
      "10914656\n",
      "10914688\n"
     ]
    }
   ],
   "source": [
    "# demonstration of immutability\n",
    "a = 5\n",
    "print(id(a))\n",
    "a = 6\n",
    "print(id(a))\n",
    "a = a +1\n",
    "print(id(a))"
   ],
   "metadata": {
    "collapsed": false,
    "pycharm": {
     "name": "#%%\n"
    }
   }
  },
  {
   "cell_type": "code",
   "execution_count": 5,
   "outputs": [],
   "source": [
    "a = 123\n",
    "a = 'abc'\n",
    "a = [4,5,6]"
   ],
   "metadata": {
    "collapsed": false,
    "pycharm": {
     "name": "#%%\n"
    }
   }
  },
  {
   "cell_type": "markdown",
   "source": [
    "\n",
    "We will continue with code from first lesson."
   ],
   "metadata": {
    "collapsed": false,
    "pycharm": {
     "name": "#%% md\n"
    }
   }
  },
  {
   "cell_type": "code",
   "execution_count": 6,
   "outputs": [
    {
     "name": "stdout",
     "output_type": "stream",
     "text": [
      "================================================================================\n",
      "Welcome to the DESTINATIO,\n",
      "place where people plan their trips\n",
      "================================================================================\n",
      "We can offer you the following destinations:\n",
      "--------------------------------------------------------------------------------\n",
      "\n",
      "1 - Prague  | 1000\n",
      "2 - Wien    | 1100\n",
      "3 - Brno    | 2000\n",
      "4 - Svitavy | 1500\n",
      "5 - Zlin    | 2300\n",
      "6 - Ostrava | 3400\n",
      "\n",
      "--------------------------------------------------------------------------------\n"
     ]
    }
   ],
   "source": [
    "# Greet the client\n",
    "print('=' * 80)\n",
    "print('''Welcome to the DESTINATIO,\n",
    "place where people plan their trips''')\n",
    "print('=' * 80)\n",
    "\n",
    "# Offer destinations\n",
    "print('We can offer you the following destinations:')\n",
    "print('-' * 80)\n",
    "print('''\n",
    "1 - Prague  | 1000\n",
    "2 - Wien    | 1100\n",
    "3 - Brno    | 2000\n",
    "4 - Svitavy | 1500\n",
    "5 - Zlin    | 2300\n",
    "6 - Ostrava | 3400\n",
    "''')\n",
    "print('-' * 80)\n",
    "\n",
    "# Get input from user about destination\n",
    "selection = int(input('Please enter the destination number to select: '))\n",
    "\n",
    "# Assign variables appropriate data\n",
    "DESTINATIONS = ['Prague', 'Wien','Brno','Svitavy','Zlin','Ostrava']\n",
    "PRICES = [1000, 1100, 2000, 1500, 2300, 3400]\n",
    "DISCOUNT_25 = ['Svitavy', 'Ostrava']"
   ],
   "metadata": {
    "collapsed": false,
    "pycharm": {
     "name": "#%%\n"
    }
   }
  },
  {
   "cell_type": "markdown",
   "source": [
    "## And we add conditions"
   ],
   "metadata": {
    "collapsed": false
   }
  },
  {
   "cell_type": "code",
   "source": [
    "# Check, whether entered valid input\n",
    "if not 0 < selection <= len(DESTINATIONS):\n",
    "\tprint('We are sorry, but we can offer only those ' + str(len(DESTINATIONS)) + ' destinations')\n",
    "else:\n",
    "# Get data from variables based on user's input\n",
    "\tdestination = DESTINATIONS[selection-1]\n",
    "\tprice = PRICES[selection-1]\n",
    "# Calculate the price & check whether discount applicable for the selected destination\n",
    "\tif destination in DISCOUNT_25:\n",
    "\t\tprint('Lucky you! You have just earned 25% discount for your destination - ' + destination)\n",
    "\t\tinput('Press enter to continue')\n",
    "\t\tprice =  price * 0.75\n",
    "\tprint('=' * 80)\n",
    "\n",
    "# Introduce registration\n",
    "print('registration:'.upper())\n",
    "print('-' * 80)\n",
    "print('In order to complete your reservations, please share few details about yourself with us.')\n",
    "print('-' * 80)\n",
    "\n",
    "# Get input from user about personal data\n",
    "name = input('NAME: ')\n",
    "print('=' * 40)\n",
    "surname = input('SURNAME: ')\n",
    "print('=' * 40)\n",
    "birth_year = input('YEAR of BIRTH: ')\n",
    "print('=' * 40)\n",
    "email = input('EMAIL: ')\n",
    "print('=' * 40)\n",
    "password = input('PASSWORD: ')\n",
    "print('=' * 80)"
   ],
   "metadata": {
    "collapsed": false,
    "pycharm": {
     "name": "#%%\n"
    }
   },
   "execution_count": 7,
   "outputs": [
    {
     "name": "stdout",
     "output_type": "stream",
     "text": [
      "================================================================================\n",
      "REGISTRATION:\n",
      "--------------------------------------------------------------------------------\n",
      "In order to complete your reservations, please share few details about yourself with us.\n",
      "--------------------------------------------------------------------------------\n",
      "========================================\n",
      "========================================\n",
      "========================================\n",
      "========================================\n",
      "================================================================================\n"
     ]
    }
   ]
  },
  {
   "cell_type": "markdown",
   "source": [
    "## And we add more conditions"
   ],
   "metadata": {
    "collapsed": false,
    "pycharm": {
     "name": "#%% md\n"
    }
   }
  },
  {
   "cell_type": "code",
   "execution_count": 8,
   "outputs": [
    {
     "name": "stdout",
     "output_type": "stream",
     "text": [
      "\n",
      "\tOur passwords have to:\n",
      "\t* contain numbers and letters\n",
      "\t* be min 8 chars long\n",
      "\t* cannot begin or end with digit\n",
      "\n",
      "\tWe cannot accept your password\n",
      "\t\n"
     ]
    }
   ],
   "source": [
    "# Check if the user is older than 15 years old\n",
    "if 2020 - int(birth_year) < 15:\n",
    "\tprint('Sorry, we cannot offer our services to babies')\n",
    "\n",
    "# Check if email contains @ symbol\n",
    "elif '@' not in email:\n",
    "\tprint('Sorry, you have provided incorrect email')\n",
    "\n",
    "# Check if password\n",
    "# - is at least 8 chars long,\n",
    "# - doesn't begin and end with a number\n",
    "# - and contains both letters and numbers\n",
    "elif (password.isnumeric() or password.isalpha()\n",
    "\t  or password[0].isnumeric() or password[-1].isnumeric()\n",
    "\t  or len(password) < 8):\n",
    "\tprint('''\n",
    "\tOur passwords have to:\n",
    "\t* contain numbers and letters\n",
    "\t* be min 8 chars long\n",
    "\t* cannot begin or end with digit\n",
    "\n",
    "\tWe cannot accept your password\n",
    "\t''')\n",
    "\n",
    "else:\n",
    "# Thank user by the input name and inform him/her about the reservation made\n",
    "\tprint('Thank you ' + name)\n",
    "\tprint('We have made your reservation to ' + destination)\n",
    "\tprint('The total price is ' + str(price))"
   ],
   "metadata": {
    "collapsed": false,
    "pycharm": {
     "name": "#%%\n"
    }
   }
  },
  {
   "cell_type": "markdown",
   "source": [
    "# Wait! What are these conditions\n",
    "\n",
    "# Theory\n",
    "\n",
    "* Header is the place, where conditional keywords are used and the boolean test is performed.\n",
    "\n",
    "* Suite is a set of indented statements performed if tested condition is True or executed if all tests evaluated False (this is the case of statements under the else header).\n",
    "\n",
    "### if\n",
    "\n",
    "```\n",
    "if test_expression:\n",
    "    statements to be executed if test expression boolean value is True```\n",
    "\n",
    "### if else\n",
    "\n",
    "```\n",
    "if test_expression:\n",
    "    statements executed if test expression boolean value is True\n",
    "else:\n",
    "    statements executed if test expression is False```\n",
    "\n",
    "### if elif else\n",
    "\n",
    "```\n",
    "if test_expression1:\n",
    "    statements executed if test expression boolean value is True\n",
    "elif test_expression2:\n",
    "    statements executed if previous test expressions boolean value is False\n",
    "elif test_expression3:\n",
    "    statements executed if previous test expressions boolean value is False\n",
    "else:\n",
    "     statements executed if all test expressions boolean value is Fals```\n"
   ],
   "metadata": {
    "collapsed": false
   }
  },
  {
   "cell_type": "code",
   "execution_count": 9,
   "outputs": [],
   "source": [
    "city = 'Berlin'\n",
    "income = 50000\n",
    "if city == 'Monaco':\n",
    "    net_income = income * 0.9\n",
    "else:\n",
    "    if city == 'Luxembourg':\n",
    "        net_income = income * 0.6\n",
    "    else:\n",
    "        if city == 'Dublin':\n",
    "            net_income = income * 0.85\n",
    "        else:\n",
    "            net_income = income * 0.75"
   ],
   "metadata": {
    "collapsed": false,
    "pycharm": {
     "name": "#%%\n"
    }
   }
  },
  {
   "cell_type": "markdown",
   "source": [
    "But it is hard to read - so we will use elif"
   ],
   "metadata": {
    "collapsed": false,
    "pycharm": {
     "name": "#%% md\n"
    }
   }
  },
  {
   "cell_type": "code",
   "execution_count": 10,
   "outputs": [],
   "source": [
    "city = 'Berlin'\n",
    "income = 50000\n",
    "if city == 'Monaco':\n",
    "    net_income = income * 0.9\n",
    "elif city == 'Luxembourg':\n",
    "    net_income = income * 0.6\n",
    "elif city == 'Dublin':\n",
    "    net_income = income * 0.85\n",
    "else:\n",
    "    net_income = income * 0.75"
   ],
   "metadata": {
    "collapsed": false,
    "pycharm": {
     "name": "#%%\n"
    }
   }
  },
  {
   "cell_type": "code",
   "execution_count": 11,
   "outputs": [
    {
     "name": "stdout",
     "output_type": "stream",
     "text": [
      "p is in praha\n"
     ]
    }
   ],
   "source": [
    "string = \"praha\"\n",
    "character = \"P\"\n",
    "\n",
    "if character in string:\n",
    "    print(f\"{character} is in {string}\")\n",
    "elif character.lower() in string.lower():\n",
    "    print(f\"{character.lower()} is in {string.lower()}\")\n",
    "else:\n",
    "    print(f\"{character} is not in {string} \")"
   ],
   "metadata": {
    "collapsed": false,
    "pycharm": {
     "name": "#%%\n"
    }
   }
  },
  {
   "cell_type": "markdown",
   "source": [
    "## Usage if conditions - try it\n",
    "\n",
    "* Is the name valid?\n",
    "* Is the user atleast 18 years old?\n",
    "* Is the email in a right format?\n",
    "* Is the password strong?\n",
    "    * Longer than 8 symbols\n",
    "    * Contains letter and also the numbers\n",
    "    * Does not contain name or year of birth\n"
   ],
   "metadata": {
    "collapsed": false,
    "pycharm": {
     "name": "#%% md\n"
    }
   }
  },
  {
   "cell_type": "code",
   "execution_count": 12,
   "outputs": [
    {
     "data": {
      "text/plain": "True"
     },
     "execution_count": 12,
     "metadata": {},
     "output_type": "execute_result"
    }
   ],
   "source": [
    "\"Matous\".isalpha()      # True\n",
    "\"M@tous\".isalpha()      # False\n",
    "\"Mat0us\".isalpha()      # False\n",
    "\"7350\".isalpha()        # False\n",
    "\"7350\".isnumeric()      # True\n"
   ],
   "metadata": {
    "collapsed": false,
    "pycharm": {
     "name": "#%%\n"
    }
   }
  },
  {
   "cell_type": "code",
   "execution_count": 13,
   "outputs": [
    {
     "name": "stdout",
     "output_type": "stream",
     "text": [
      "Condition is true\n"
     ]
    }
   ],
   "source": [
    "a = [0]\n",
    "# a = [1]\n",
    "# a = []\n",
    "if a:\n",
    "    print(\"Condition is true\")"
   ],
   "metadata": {
    "collapsed": false,
    "pycharm": {
     "name": "#%%\n"
    }
   }
  },
  {
   "cell_type": "markdown",
   "source": [
    "# Boolean\n",
    "\n",
    "* The True value is equivalent for numerical value of 1\n",
    "* The False values is equivalent for value 0\n",
    "\n"
   ],
   "metadata": {
    "collapsed": false,
    "pycharm": {
     "name": "#%% md\n"
    }
   }
  },
  {
   "cell_type": "code",
   "execution_count": 14,
   "outputs": [
    {
     "data": {
      "text/plain": "True"
     },
     "execution_count": 14,
     "metadata": {},
     "output_type": "execute_result"
    }
   ],
   "source": [
    "True > False"
   ],
   "metadata": {
    "collapsed": false,
    "pycharm": {
     "name": "#%%\n"
    }
   }
  },
  {
   "cell_type": "code",
   "execution_count": 15,
   "outputs": [
    {
     "data": {
      "text/plain": "False"
     },
     "execution_count": 15,
     "metadata": {},
     "output_type": "execute_result"
    }
   ],
   "source": [
    "False > True"
   ],
   "metadata": {
    "collapsed": false,
    "pycharm": {
     "name": "#%%\n"
    }
   }
  },
  {
   "cell_type": "code",
   "execution_count": 16,
   "outputs": [
    {
     "data": {
      "text/plain": "2"
     },
     "execution_count": 16,
     "metadata": {},
     "output_type": "execute_result"
    }
   ],
   "source": [
    "True + True + False"
   ],
   "metadata": {
    "collapsed": false,
    "pycharm": {
     "name": "#%%\n"
    }
   }
  },
  {
   "cell_type": "code",
   "execution_count": 17,
   "outputs": [
    {
     "data": {
      "text/plain": "1"
     },
     "execution_count": 17,
     "metadata": {},
     "output_type": "execute_result"
    }
   ],
   "source": [
    "False + 1"
   ],
   "metadata": {
    "collapsed": false,
    "pycharm": {
     "name": "#%%\n"
    }
   }
  },
  {
   "cell_type": "code",
   "execution_count": 18,
   "outputs": [
    {
     "data": {
      "text/plain": "2"
     },
     "execution_count": 18,
     "metadata": {},
     "output_type": "execute_result"
    }
   ],
   "source": [
    "True + 1"
   ],
   "metadata": {
    "collapsed": false,
    "pycharm": {
     "name": "#%%\n"
    }
   }
  },
  {
   "cell_type": "code",
   "execution_count": 19,
   "outputs": [
    {
     "data": {
      "text/plain": "True"
     },
     "execution_count": 19,
     "metadata": {},
     "output_type": "execute_result"
    }
   ],
   "source": [
    "bool(1)"
   ],
   "metadata": {
    "collapsed": false,
    "pycharm": {
     "name": "#%%\n"
    }
   }
  },
  {
   "cell_type": "code",
   "execution_count": 20,
   "outputs": [
    {
     "data": {
      "text/plain": "True"
     },
     "execution_count": 20,
     "metadata": {},
     "output_type": "execute_result"
    }
   ],
   "source": [
    "bool(\"A\")"
   ],
   "metadata": {
    "collapsed": false,
    "pycharm": {
     "name": "#%%\n"
    }
   }
  },
  {
   "cell_type": "code",
   "execution_count": 21,
   "outputs": [
    {
     "data": {
      "text/plain": "False"
     },
     "execution_count": 21,
     "metadata": {},
     "output_type": "execute_result"
    }
   ],
   "source": [
    "bool(\"\")"
   ],
   "metadata": {
    "collapsed": false,
    "pycharm": {
     "name": "#%%\n"
    }
   }
  },
  {
   "cell_type": "code",
   "execution_count": 22,
   "outputs": [
    {
     "name": "stdout",
     "output_type": "stream",
     "text": [
      "False\n",
      "True\n",
      "False\n",
      "True\n",
      "False\n",
      "True\n",
      "True\n",
      "True\n"
     ]
    }
   ],
   "source": [
    "print(bool(''))\n",
    "print(bool('0'))\n",
    "print(bool([]))\n",
    "print(bool([0]))\n",
    "print(bool({}))\n",
    "print(bool('None'))\n",
    "print(bool(0.00000000000001))\n",
    "print(bool(['']))"
   ],
   "metadata": {
    "collapsed": false,
    "pycharm": {
     "name": "#%%\n"
    }
   }
  },
  {
   "cell_type": "code",
   "execution_count": 23,
   "outputs": [
    {
     "name": "stdout",
     "output_type": "stream",
     "text": [
      "2\n"
     ]
    }
   ],
   "source": [
    "print(bool(1 in [1,2,3]) + bool(\"a\" in \"ahoj\"))"
   ],
   "metadata": {
    "collapsed": false,
    "pycharm": {
     "name": "#%%\n"
    }
   }
  },
  {
   "cell_type": "code",
   "execution_count": 24,
   "outputs": [
    {
     "name": "stdout",
     "output_type": "stream",
     "text": [
      "2\n"
     ]
    }
   ],
   "source": [
    "print((1 in [1,2,3]) + (\"a\" in \"ahoj\"))"
   ],
   "metadata": {
    "collapsed": false,
    "pycharm": {
     "name": "#%%\n"
    }
   }
  },
  {
   "cell_type": "code",
   "execution_count": 25,
   "outputs": [
    {
     "ename": "TypeError",
     "evalue": "can only concatenate list (not \"str\") to list",
     "output_type": "error",
     "traceback": [
      "\u001B[0;31m---------------------------------------------------------------------------\u001B[0m",
      "\u001B[0;31mTypeError\u001B[0m                                 Traceback (most recent call last)",
      "\u001B[0;32m<ipython-input-25-6f7a7074f5e8>\u001B[0m in \u001B[0;36m<module>\u001B[0;34m\u001B[0m\n\u001B[0;32m----> 1\u001B[0;31m \u001B[0mprint\u001B[0m\u001B[0;34m(\u001B[0m\u001B[0;36m1\u001B[0m \u001B[0;32min\u001B[0m \u001B[0;34m[\u001B[0m\u001B[0;36m1\u001B[0m\u001B[0;34m,\u001B[0m\u001B[0;36m2\u001B[0m\u001B[0;34m,\u001B[0m\u001B[0;36m3\u001B[0m\u001B[0;34m]\u001B[0m \u001B[0;34m+\u001B[0m \u001B[0;34m\"a\"\u001B[0m \u001B[0;32min\u001B[0m \u001B[0;34m\"ahoj\"\u001B[0m\u001B[0;34m)\u001B[0m\u001B[0;34m\u001B[0m\u001B[0;34m\u001B[0m\u001B[0m\n\u001B[0m\u001B[1;32m      2\u001B[0m \u001B[0;34m\u001B[0m\u001B[0m\n",
      "\u001B[0;31mTypeError\u001B[0m: can only concatenate list (not \"str\") to list"
     ]
    }
   ],
   "source": [
    "print(1 in [1,2,3] + \"a\" in \"ahoj\")"
   ],
   "metadata": {
    "collapsed": false,
    "pycharm": {
     "name": "#%%\n"
    }
   }
  },
  {
   "cell_type": "markdown",
   "source": [
    "[Operator precedence](https://runestone.academy/runestone/books/published/thinkcspy/Appendices/PrecedenceTable.html)\n",
    "\n",
    "\n",
    "# Logical Operations\n"
   ],
   "metadata": {
    "collapsed": false,
    "pycharm": {
     "name": "#%% md\n"
    }
   }
  },
  {
   "cell_type": "code",
   "execution_count": 26,
   "outputs": [
    {
     "data": {
      "text/plain": "6"
     },
     "execution_count": 26,
     "metadata": {},
     "output_type": "execute_result"
    }
   ],
   "source": [
    "5 and 6"
   ],
   "metadata": {
    "collapsed": false,
    "pycharm": {
     "name": "#%%\n"
    }
   }
  },
  {
   "cell_type": "code",
   "execution_count": 27,
   "outputs": [
    {
     "data": {
      "text/plain": "0"
     },
     "execution_count": 27,
     "metadata": {},
     "output_type": "execute_result"
    }
   ],
   "source": [
    "0 and 5"
   ],
   "metadata": {
    "collapsed": false,
    "pycharm": {
     "name": "#%%\n"
    }
   }
  },
  {
   "cell_type": "code",
   "execution_count": 28,
   "outputs": [
    {
     "data": {
      "text/plain": "6"
     },
     "execution_count": 28,
     "metadata": {},
     "output_type": "execute_result"
    }
   ],
   "source": [
    "0 and 5 or 6"
   ],
   "metadata": {
    "collapsed": false,
    "pycharm": {
     "name": "#%%\n"
    }
   }
  },
  {
   "cell_type": "markdown",
   "source": [
    "As with arithmetic operators, some boolean operators have precedence before the rest - specifically not operator has precedence before and and or operator. and has precedence before or."
   ],
   "metadata": {
    "collapsed": false,
    "pycharm": {
     "name": "#%% md\n"
    }
   }
  },
  {
   "cell_type": "code",
   "execution_count": 29,
   "outputs": [
    {
     "data": {
      "text/plain": "5"
     },
     "execution_count": 29,
     "metadata": {},
     "output_type": "execute_result"
    }
   ],
   "source": [
    "5 or 6"
   ],
   "metadata": {
    "collapsed": false,
    "pycharm": {
     "name": "#%%\n"
    }
   }
  },
  {
   "cell_type": "code",
   "execution_count": 30,
   "outputs": [
    {
     "name": "stdout",
     "output_type": "stream",
     "text": [
      "True\n",
      "True\n"
     ]
    }
   ],
   "source": [
    "my_list = [1,2,3,4]\n",
    "print(any(my_list))\n",
    "print(all(my_list))"
   ],
   "metadata": {
    "collapsed": false,
    "pycharm": {
     "name": "#%%\n"
    }
   }
  },
  {
   "cell_type": "code",
   "execution_count": 31,
   "outputs": [
    {
     "name": "stdout",
     "output_type": "stream",
     "text": [
      "True\n",
      "False\n"
     ]
    }
   ],
   "source": [
    "my_list = [1,'',0, '']\n",
    "print(any(my_list))\n",
    "print(all(my_list))"
   ],
   "metadata": {
    "collapsed": false,
    "pycharm": {
     "name": "#%%\n"
    }
   }
  },
  {
   "cell_type": "code",
   "execution_count": 32,
   "outputs": [
    {
     "name": "stdout",
     "output_type": "stream",
     "text": [
      "False\n",
      "False\n"
     ]
    }
   ],
   "source": [
    "my_list = ['',0, '']\n",
    "print(any(my_list))\n",
    "print(all(my_list))"
   ],
   "metadata": {
    "collapsed": false,
    "pycharm": {
     "name": "#%%\n"
    }
   }
  },
  {
   "cell_type": "code",
   "execution_count": 33,
   "outputs": [
    {
     "name": "stdout",
     "output_type": "stream",
     "text": [
      "False\n",
      "True\n"
     ]
    }
   ],
   "source": [
    "my_list = []\n",
    "print(any(my_list))\n",
    "print(all(my_list))"
   ],
   "metadata": {
    "collapsed": false,
    "pycharm": {
     "name": "#%%\n"
    }
   }
  },
  {
   "cell_type": "markdown",
   "source": [
    "It's true because for every element in the list, all 0 of them, they all are equal to True.\n",
    "\n",
    "https://docs.python.org/2/library/functions.html#all\n",
    "\n",
    "\n"
   ],
   "metadata": {
    "collapsed": false,
    "pycharm": {
     "name": "#%% md\n"
    }
   }
  },
  {
   "cell_type": "markdown",
   "source": [
    "# Ternary conditional operator\n"
   ],
   "metadata": {
    "collapsed": false
   }
  },
  {
   "cell_type": "code",
   "execution_count": 34,
   "outputs": [
    {
     "name": "stdout",
     "output_type": "stream",
     "text": [
      "Good Afternoon\n"
     ]
    }
   ],
   "source": [
    "hour = 15\n",
    "day_time = ''\n",
    "if hour < 12:\n",
    "    day_time = 'Morning'\n",
    "else:\n",
    "    day_time = 'Afternoon'\n",
    "print('Good',day_time )\n"
   ],
   "metadata": {
    "collapsed": false,
    "pycharm": {
     "name": "#%%\n"
    }
   }
  },
  {
   "cell_type": "code",
   "execution_count": 35,
   "outputs": [
    {
     "name": "stdout",
     "output_type": "stream",
     "text": [
      "Good  Afternoon\n"
     ]
    }
   ],
   "source": [
    "hour = 15\n",
    "day_time = 'Morning' if hour < 12 else 'Afternoon'\n",
    "print('Good ',day_time )\n"
   ],
   "metadata": {
    "collapsed": false,
    "pycharm": {
     "name": "#%%\n"
    }
   }
  },
  {
   "cell_type": "markdown",
   "source": [
    "# Before next lesson\n"
   ],
   "metadata": {
    "collapsed": false,
    "pycharm": {
     "name": "#%% md\n"
    }
   }
  },
  {
   "cell_type": "markdown",
   "source": [
    "# BONUS"
   ],
   "metadata": {
    "collapsed": false,
    "pycharm": {
     "name": "#%% md\n"
    }
   }
  },
  {
   "cell_type": "code",
   "execution_count": 36,
   "outputs": [
    {
     "name": "stdout",
     "output_type": "stream",
     "text": [
      "You won!\n"
     ]
    }
   ],
   "source": [
    "move_computer = 'rock'\n",
    "move_human = input('rock, scissors, or paper? ')\n",
    "\n",
    "if move_human == 'rock':\n",
    "    if move_computer == 'rock':\n",
    "        print('Tie.')\n",
    "    elif move_computer == 'scissors':\n",
    "        print('You won!')\n",
    "    elif move_computer == 'paper':\n",
    "        print('Computer won.')\n",
    "elif move_human == 'scissors':\n",
    "    if move_computer == 'rock':\n",
    "        print('Computer won.')\n",
    "    elif move_computer == 'scissors':\n",
    "        print('Tie.')\n",
    "    elif move_computer == 'paper':\n",
    "        print('You won!')\n",
    "elif move_human == 'paper':\n",
    "    if move_computer == 'rock':\n",
    "        print('You won!')\n",
    "    elif move_computer == 'scissors':\n",
    "        print('Computer won.')\n",
    "    elif move_computer == 'paper':\n",
    "        print('Tie.')\n",
    "else:\n",
    "    print('Input was not recognized.')"
   ],
   "metadata": {
    "collapsed": false,
    "pycharm": {
     "name": "#%%\n"
    }
   }
  },
  {
   "cell_type": "code",
   "execution_count": null,
   "outputs": [],
   "source": [],
   "metadata": {
    "collapsed": false,
    "pycharm": {
     "name": "#%%\n"
    }
   }
  }
 ],
 "metadata": {
  "kernelspec": {
   "display_name": "Python 3",
   "language": "python",
   "name": "python3"
  },
  "language_info": {
   "codemirror_mode": {
    "name": "ipython",
    "version": 2
   },
   "file_extension": ".py",
   "mimetype": "text/x-python",
   "name": "python",
   "nbconvert_exporter": "python",
   "pygments_lexer": "ipython2",
   "version": "2.7.6"
  }
 },
 "nbformat": 4,
 "nbformat_minor": 0
}