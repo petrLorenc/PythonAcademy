{
 "nbformat": 4,
 "nbformat_minor": 0,
 "metadata": {
  "kernelspec": {
   "display_name": "Python 3",
   "language": "python",
   "name": "python3"
  },
  "language_info": {
   "codemirror_mode": {
    "name": "ipython",
    "version": 2
   },
   "file_extension": ".py",
   "mimetype": "text/x-python",
   "name": "python",
   "nbconvert_exporter": "python",
   "pygments_lexer": "ipython2",
   "version": "2.7.6"
  },
  "colab": {
   "name": "lesson2.ipynb",
   "provenance": []
  }
 },
 "cells": [
  {
   "cell_type": "markdown",
   "metadata": {
    "collapsed": true,
    "pycharm": {
     "name": "#%% md\n"
    },
    "id": "LTDWMpcpCNR_",
    "colab_type": "text"
   },
   "source": [
    "# Lesson 2\n",
    "\n",
    "### Feedback from first lesson\n",
    " * Variables are hard concept for beginners\n",
    " * Have you go through online lesson? Any questions?\n",
    "\n",
    "#### Creating Variables\n",
    "* Variables are containers for storing data values.\n",
    "* Unlike other programming languages, Python has no command for declaring a variable.\n",
    "* A variable is created the moment you first assign a value to it.\n",
    "\n",
    "#### Side-note\n",
    "**Everything that comes to life in Python is an object**. Data types we described are represented also by object - integer object, float object etc. For example integer object is number 5. Float object would then be 5.0 and string object would be '5'. In the data type overview, we mention multiple times word constructor. This word belongs into the concept of objects.\n",
    "\n",
    "### Additional notes from first lesson?\n",
    " * Variables??\n",
    "    * Try to remember to math classes - variables help with generalizing rules and concepts\n",
    "    * Python is very benevolent with using variables\n",
    "    * Surface of a box??\n",
    "    * Python is dynamic language\n",
    " * Exercise List operations 1 - > different type of print\n",
    " * Print list - join\n",
    " * list[::3] a list[1:2:3]\n",
    " * Numbers are immutable (see below) – a = 3 and then you try a = a + 1, number 3 is not changed. New number 4 is created and **a** is pointing to that number in memory.\n",
    " * List\n",
    "    * append/extend - what is difference?\n",
    "    * deleting items - assigning empty value or del (+ remove, pop, clear)\n",
    " * Using helper of your IDE (help you find right name of function)\n",
    "    * useful shortcuts of Pycharm\n",
    "\n",
    "### Notes\n",
    " * Work with errors like with buddies (usually the error statements help to solve the problem)\n",
    " * [Git cheatsheet](https://pyvec.github.io/cheatsheets/basic-git/basic-git-cs.pdf)\n",
    " * [Built-in Functions](https://docs.python.org/3/library/functions.html#id)\n",
    "\n",
    "We will continue with code from first lesson."
   ]
  },
  {
   "cell_type": "code",
   "metadata": {
    "pycharm": {
     "name": "#%%\n"
    },
    "id": "UrtAiPVbCNSA",
    "colab_type": "code",
    "colab": {
     "base_uri": "https://localhost:8080/",
     "height": 34
    },
    "outputId": "69fbfb92-29ce-4cb8-b76d-d34d11a195f3"
   },
   "source": [
    "print      (                \"Hello!\"     )"
   ],
   "execution_count": 1,
   "outputs": [
    {
     "name": "stdout",
     "output_type": "stream",
     "text": [
      "Hello!\n"
     ]
    }
   ]
  },
  {
   "cell_type": "code",
   "metadata": {
    "pycharm": {
     "name": "#%%\n"
    },
    "id": "77nDKHBxCNSD",
    "colab_type": "code",
    "colab": {
     "base_uri": "https://localhost:8080/",
     "height": 34
    },
    "outputId": "97d2ee59-9ae3-448d-f426-eb859779a1af"
   },
   "source": [
    "print((1 + (2 * 3)) ** 2)"
   ],
   "execution_count": 2,
   "outputs": [
    {
     "name": "stdout",
     "output_type": "stream",
     "text": [
      "49\n"
     ]
    }
   ]
  },
  {
   "cell_type": "code",
   "metadata": {
    "pycharm": {
     "name": "#%%\n"
    },
    "id": "bT1I8HANCNSG",
    "colab_type": "code",
    "colab": {
     "base_uri": "https://localhost:8080/",
     "height": 34
    },
    "outputId": "f849418e-99b4-465f-f54a-88f4cacd09f5"
   },
   "source": [
    "a = [\n",
    "     [[1],[2]],\n",
    "     [[3],[4]]\n",
    "     ]\n",
    "# print(a)\n",
    "print(a[1][1][0])"
   ],
   "execution_count": 3,
   "outputs": [
    {
     "name": "stdout",
     "output_type": "stream",
     "text": [
      "4\n"
     ]
    }
   ]
  },
  {
   "cell_type": "code",
   "execution_count": 4,
   "outputs": [
    {
     "name": "stdout",
     "output_type": "stream",
     "text": [
      "Array: a, b\n"
     ]
    }
   ],
   "source": [
    "a = [\"a\", \"b\"]\n",
    "print(\"Array: \" + \", \".join(a))"
   ],
   "metadata": {
    "collapsed": false,
    "pycharm": {
     "name": "#%%\n"
    }
   }
  },
  {
   "cell_type": "code",
   "metadata": {
    "pycharm": {
     "name": "#%%\n"
    },
    "id": "5nlN7OMHCNSI",
    "colab_type": "code",
    "colab": {}
   },
   "source": [
    "# demonstration of immutability\n",
    "a = 5\n",
    "print(id(a))\n",
    "a = 6\n",
    "print(id(a))\n",
    "a = a + 1\n",
    "print(id(a))"
   ],
   "execution_count": 5,
   "outputs": [
    {
     "name": "stdout",
     "output_type": "stream",
     "text": [
      "10914624\n",
      "10914656\n",
      "10914688\n"
     ]
    }
   ]
  },
  {
   "cell_type": "code",
   "metadata": {
    "pycharm": {
     "name": "#%%\n"
    },
    "id": "pAwO93yTCNSK",
    "colab_type": "code",
    "colab": {
     "base_uri": "https://localhost:8080/",
     "height": 34
    },
    "outputId": "8143dac2-de0c-4c6f-9bf4-84aaa152e3f8"
   },
   "source": [
    "a = 123\n",
    "a = 'abc'\n",
    "a = [4,5,6]\n",
    "a.append(1)\n",
    "print(a)"
   ],
   "execution_count": 6,
   "outputs": [
    {
     "name": "stdout",
     "output_type": "stream",
     "text": [
      "[4, 5, 6, 1]\n"
     ]
    }
   ]
  },
  {
   "cell_type": "markdown",
   "metadata": {
    "collapsed": false,
    "pycharm": {
     "name": "#%% md\n"
    },
    "id": "zhk0K9sFCNSM",
    "colab_type": "text"
   },
   "source": [
    "\n",
    "We will continue with code from first lesson."
   ]
  },
  {
   "cell_type": "code",
   "metadata": {
    "pycharm": {
     "name": "#%%\n"
    },
    "id": "ki-LsUpeCNSN",
    "colab_type": "code",
    "colab": {
     "base_uri": "https://localhost:8080/",
     "height": 289
    },
    "outputId": "17939676-824a-4652-ccb0-a34ebd85839f"
   },
   "source": [
    "# Greet the client\n",
    "print('=' * 80)\n",
    "print('''Welcome to the DESTINATIO,\n",
    "place where people plan their trips''')\n",
    "print('=' * 80)\n",
    "\n",
    "# Offer destinations\n",
    "print('We can offer you the following destinations:')\n",
    "print('-' * 80)\n",
    "print('''\n",
    "1 - Prague  | 1000\n",
    "2 - Wien    | 1100\n",
    "3 - Brno    | 2000\n",
    "4 - Svitavy | 1500\n",
    "5 - Zlin    | 2300\n",
    "6 - Ostrava | 3400\n",
    "''')\n",
    "print('-' * 80)\n",
    "\n",
    "# Get input from user about destination\n",
    "selection = int(input('Please enter the destination number to select: '))\n",
    "\n",
    "# Assign variables appropriate data\n",
    "DESTINATIONS = ['Prague', 'Wien','Brno','Svitavy','Zlin','Ostrava']\n",
    "PRICES = [1000, 1100, 2000, 1500, 2300, 3400]\n",
    "DISCOUNT_25 = ['Svitavy', 'Ostrava']"
   ],
   "execution_count": 7,
   "outputs": [
    {
     "name": "stdout",
     "output_type": "stream",
     "text": [
      "================================================================================\n",
      "Welcome to the DESTINATIO,\n",
      "place where people plan their trips\n",
      "================================================================================\n",
      "We can offer you the following destinations:\n",
      "--------------------------------------------------------------------------------\n",
      "\n",
      "1 - Prague  | 1000\n",
      "2 - Wien    | 1100\n",
      "3 - Brno    | 2000\n",
      "4 - Svitavy | 1500\n",
      "5 - Zlin    | 2300\n",
      "6 - Ostrava | 3400\n",
      "\n",
      "--------------------------------------------------------------------------------\n"
     ]
    }
   ]
  },
  {
   "cell_type": "markdown",
   "metadata": {
    "collapsed": false,
    "id": "1SqipsKTCNSQ",
    "colab_type": "text"
   },
   "source": [
    "## And we add conditions"
   ]
  },
  {
   "cell_type": "code",
   "metadata": {
    "pycharm": {
     "name": "#%%\n"
    },
    "id": "1ixsV64QCNSQ",
    "colab_type": "code",
    "colab": {
     "base_uri": "https://localhost:8080/",
     "height": 272
    },
    "outputId": "300b03ee-5312-4701-8d15-a28e7a4edd65"
   },
   "source": [
    "# Check, whether entered valid input\n",
    "#if selection < 0 or selection >= len(DESTINATIONS):\n",
    "if not 0 < selection <= len(DESTINATIONS):\n",
    "\tprint('We are sorry, but we can offer only those ' + str(len(DESTINATIONS)) + ' destinations')\n",
    "else:\n",
    "# Get data from variables based on user's input\n",
    "\tdestination = DESTINATIONS[selection-1]\n",
    "\tprice = PRICES[selection-1]\n",
    "# Calculate the price & check whether discount applicable for the selected destination\n",
    "\tif destination in DISCOUNT_25:\n",
    "\t\tprint('Lucky you! You have just earned 25% discount for your destination - ' + destination)\n",
    "\t\tinput('Press enter to continue')\n",
    "\t\tprice =  price * 0.75\n",
    "\tprint('=' * 80)\n",
    "\n",
    "# Introduce registration\n",
    "print('registration:'.upper())\n",
    "print('-' * 80)\n",
    "print('In order to complete your reservations, please share few details about yourself with us.')\n",
    "print('-' * 80)\n",
    "\n",
    "# Get input from user about personal data\n",
    "name = input('NAME: ')\n",
    "print('=' * 40)\n",
    "surname = input('SURNAME: ')\n",
    "print('=' * 40)\n",
    "birth_year = input('YEAR of BIRTH: ')\n",
    "print('=' * 40)\n",
    "email = input('EMAIL: ')\n",
    "print('=' * 40)\n",
    "password = input('PASSWORD: ')\n",
    "print('=' * 80)"
   ],
   "execution_count": 8,
   "outputs": [
    {
     "name": "stdout",
     "output_type": "stream",
     "text": [
      "================================================================================\n",
      "REGISTRATION:\n",
      "--------------------------------------------------------------------------------\n",
      "In order to complete your reservations, please share few details about yourself with us.\n",
      "--------------------------------------------------------------------------------\n",
      "========================================\n",
      "========================================\n",
      "========================================\n",
      "========================================\n",
      "================================================================================\n"
     ]
    }
   ]
  },
  {
   "cell_type": "markdown",
   "metadata": {
    "collapsed": false,
    "pycharm": {
     "name": "#%% md\n"
    },
    "id": "Dh2jlHMuCNST",
    "colab_type": "text"
   },
   "source": [
    "## And we add more conditions"
   ]
  },
  {
   "cell_type": "code",
   "metadata": {
    "pycharm": {
     "name": "#%%\n"
    },
    "id": "wVpn1BD0CNST",
    "colab_type": "code",
    "colab": {
     "base_uri": "https://localhost:8080/",
     "height": 187
    },
    "outputId": "d5777c53-ac84-4405-9aec-05906f33b1de"
   },
   "source": [
    "# Check if the user is older than 15 years old\n",
    "if (2020 - int(birth_year)) < 15:\n",
    "\tprint('Sorry, we cannot offer our services to babies')\n",
    "\n",
    "# Check if email contains @ symbol\n",
    "if '@' not in email:\n",
    "\tprint('Sorry, you have provided incorrect email')\n",
    "\n",
    "# Check if password\n",
    "# - is at least 8 chars long,\n",
    "# - doesn't begin and end with a number\n",
    "# - and contains both letters and numbers\n",
    "if (password.isnumeric() or password.isalpha()\n",
    "\t  or password[0].isnumeric() or password[-1].isnumeric()\n",
    "\t  or len(password) < 8):\n",
    "\tprint('''\n",
    "\tOur passwords have to:\n",
    "\t* contain numbers and letters\n",
    "\t* be min 8 chars long\n",
    "\t* cannot begin or end with digit\n",
    "\n",
    "\tWe cannot accept your password\n",
    "\t''')\n",
    "\n",
    "else:\n",
    "# Thank user by the input name and inform him/her about the reservation made\n",
    "\tprint('Thank you ' + name)\n",
    "\tprint('We have made your reservation to ' + destination)\n",
    "\tprint('The total price is ' + str(price))"
   ],
   "execution_count": 9,
   "outputs": [
    {
     "name": "stdout",
     "output_type": "stream",
     "text": [
      "\n",
      "\tOur passwords have to:\n",
      "\t* contain numbers and letters\n",
      "\t* be min 8 chars long\n",
      "\t* cannot begin or end with digit\n",
      "\n",
      "\tWe cannot accept your password\n",
      "\t\n"
     ]
    }
   ]
  },
  {
   "cell_type": "code",
   "metadata": {
    "id": "i-4DxyfJNDQb",
    "colab_type": "code",
    "colab": {
     "base_uri": "https://localhost:8080/",
     "height": 131
    },
    "outputId": "9cecefa1-009b-4fcb-e233-1615a6e836ae"
   },
   "source": [
    "if = 1"
   ],
   "execution_count": 10,
   "outputs": [
    {
     "ename": "SyntaxError",
     "evalue": "invalid syntax (<ipython-input-10-73a99da63c73>, line 1)",
     "output_type": "error",
     "traceback": [
      "\u001B[0;36m  File \u001B[0;32m\"<ipython-input-10-73a99da63c73>\"\u001B[0;36m, line \u001B[0;32m1\u001B[0m\n\u001B[0;31m    if = 1\u001B[0m\n\u001B[0m       ^\u001B[0m\n\u001B[0;31mSyntaxError\u001B[0m\u001B[0;31m:\u001B[0m invalid syntax\n"
     ]
    }
   ]
  },
  {
   "cell_type": "code",
   "metadata": {
    "id": "WydImUJpNq4v",
    "colab_type": "code",
    "colab": {
     "base_uri": "https://localhost:8080/",
     "height": 52
    },
    "outputId": "a3936f35-0429-47ff-e7e1-4b1ad4ba7c58"
   },
   "source": [
    "a = 2\n",
    "if a != 1:\n",
    "  print(\"a is 1\")\n",
    "else:\n",
    "  print(\"A\")\n",
    "print(\"a is 1 again\")"
   ],
   "execution_count": 11,
   "outputs": [
    {
     "name": "stdout",
     "output_type": "stream",
     "text": [
      "a is 1\n",
      "a is 1 again\n"
     ]
    }
   ]
  },
  {
   "cell_type": "markdown",
   "metadata": {
    "collapsed": false,
    "id": "HWEiZ8pqCNSV",
    "colab_type": "text"
   },
   "source": [
    "# Wait! What are these conditions\n",
    "\n",
    "# Theory\n",
    "\n",
    "* Header is the place, where conditional keywords are used and the boolean test is performed.\n",
    "\n",
    "* Suite is a set of indented statements performed if tested condition is True or executed if all tests evaluated False (this is the case of statements under the else header).\n",
    "\n",
    "### if\n",
    "\n",
    "```\n",
    "if test_expression:\n",
    "    statements to be executed if test expression boolean value is True```\n",
    "\n",
    "### if else\n",
    "\n",
    "```\n",
    "if test_expression:\n",
    "    statements executed if test expression boolean value is True\n",
    "else:\n",
    "    statements executed if test expression is False```\n",
    "\n",
    "### if elif else\n",
    "\n",
    "```\n",
    "if test_expression1:\n",
    "    statements executed if test expression boolean value is True\n",
    "elif test_expression2:\n",
    "    statements executed if previous test expressions boolean value is False\n",
    "elif test_expression3:\n",
    "    statements executed if previous test expressions boolean value is False\n",
    "else:\n",
    "     statements executed if all test expressions boolean value is Fals```\n"
   ]
  },
  {
   "cell_type": "code",
   "metadata": {
    "id": "GRDudxf4WdG1",
    "colab_type": "code",
    "colab": {
     "base_uri": "https://localhost:8080/",
     "height": 35
    },
    "outputId": "76baea67-b17b-442b-d2a9-d9b0e6afdb5a"
   },
   "source": [
    "not False"
   ],
   "execution_count": 12,
   "outputs": [
    {
     "data": {
      "text/plain": "True"
     },
     "execution_count": 12,
     "metadata": {},
     "output_type": "execute_result"
    }
   ]
  },
  {
   "cell_type": "code",
   "metadata": {
    "pycharm": {
     "name": "#%%\n"
    },
    "id": "mvklMtIUCNSV",
    "colab_type": "code",
    "colab": {
     "base_uri": "https://localhost:8080/",
     "height": 35
    },
    "outputId": "7559644e-08a3-4a60-8eb5-00e7d3142c19"
   },
   "source": [
    "city = 'Berlin'\n",
    "income = 100\n",
    "net_income = 0\n",
    "if city == 'Monaco':\n",
    "    net_income = income * 0.9\n",
    "else:\n",
    "    if city == 'Luxembourg':\n",
    "        net_income = income * 0.6\n",
    "    else:\n",
    "        if city == 'Dublin':\n",
    "            net_income = income * 0.85\n",
    "        else:\n",
    "            net_income = income * 0.75\n",
    "print(net_income)"
   ],
   "execution_count": 13,
   "outputs": [
    {
     "name": "stdout",
     "output_type": "stream",
     "text": [
      "75.0\n"
     ]
    }
   ]
  },
  {
   "cell_type": "markdown",
   "metadata": {
    "collapsed": false,
    "pycharm": {
     "name": "#%% md\n"
    },
    "id": "SVu6BQTWCNSX",
    "colab_type": "text"
   },
   "source": [
    "But it is hard to read - so we will use elif"
   ]
  },
  {
   "cell_type": "code",
   "metadata": {
    "pycharm": {
     "name": "#%%\n"
    },
    "id": "K8coSNFyCNSY",
    "colab_type": "code",
    "colab": {}
   },
   "source": [
    "city = 'Berlin'\n",
    "income = 50000\n",
    "if city == 'Monaco':\n",
    "    net_income = income * 0.9\n",
    "elif city == 'Luxembourg':\n",
    "    net_income = income * 0.6\n",
    "elif city == 'Dublin':\n",
    "    net_income = income * 0.85\n",
    "else:\n",
    "    net_income = income * 0.75"
   ],
   "execution_count": 14,
   "outputs": []
  },
  {
   "cell_type": "code",
   "metadata": {
    "pycharm": {
     "name": "#%%\n"
    },
    "id": "tt7izGJYCNSa",
    "colab_type": "code",
    "colab": {
     "base_uri": "https://localhost:8080/",
     "height": 35
    },
    "outputId": "18caa54d-53a9-4851-e5f5-aa3c040f4306"
   },
   "source": [
    "string = \"praha\"\n",
    "character = \"P\"\n",
    "\n",
    "if character in string:\n",
    "    print(f\"{character} is in {string}\")\n",
    "elif character.lower() in string.lower():\n",
    "    print(f\"{character.lower()} is in {string.lower()}\")\n",
    "else:\n",
    "    print(f\"{character} is not in {string} \")"
   ],
   "execution_count": 15,
   "outputs": [
    {
     "name": "stdout",
     "output_type": "stream",
     "text": [
      "p is in praha\n"
     ]
    }
   ]
  },
  {
   "cell_type": "markdown",
   "metadata": {
    "collapsed": false,
    "pycharm": {
     "name": "#%% md\n"
    },
    "id": "Trk5FDnpCNSc",
    "colab_type": "text"
   },
   "source": [
    "## Usage if conditions - try it\n",
    "\n",
    "* Is the name valid?\n",
    "* Is the user atleast 18 years old?\n",
    "* Is the email in a right format?\n",
    "* Is the password strong?\n",
    "    * Longer than 8 symbols\n",
    "    * Contains letter and also the numbers\n",
    "    * Does not contain name or year of birth\n"
   ]
  },
  {
   "cell_type": "code",
   "metadata": {
    "id": "lpnFbhohZtVV",
    "colab_type": "code",
    "colab": {
     "base_uri": "https://localhost:8080/",
     "height": 35
    },
    "outputId": "34b82b4b-1a68-403c-dd2a-c7a439e15bdb"
   },
   "source": [
    "name = \"Petr\"\n",
    "year = 1999\n",
    "password = input(\"Password:\")\n",
    "\n",
    "valid = True\n",
    "\n",
    "if len(password) < 8:\n",
    "    print(\"Password has to be 8 character long.\")\n",
    "    valid = False\n",
    "if name in password:\n",
    "    print(\"You cannot use your name.\")\n",
    "    valid = False\n",
    "if str(year) in password:\n",
    "    print(\"You cannot use your year of birth.\")\n",
    "    valid = False\n",
    "if password.isalpha() and not password.isnumeric():\n",
    "    print(\"Password does not contain numbers.\")\n",
    "    valid = False\n",
    "if not password.isalpha() and password.isnumeric():\n",
    "    print(\"Password does not contain letters.\")\n",
    "    valid = False\n",
    "if not password.isalnum():\n",
    "    print(\"Password has to be made only from numbers or letters.\")\n",
    "    valid = False\n",
    "\n",
    "if valid:\n",
    "    print(\"Password is correct.\")"
   ],
   "execution_count": 16,
   "outputs": [
    {
     "name": "stdout",
     "output_type": "stream",
     "text": [
      "Password has to be 8 character long.\n",
      "You cannot use your year of birth.\n",
      "Password does not contain letters.\n"
     ]
    }
   ]
  },
  {
   "cell_type": "code",
   "metadata": {
    "id": "ArzVPp4scmC8",
    "colab_type": "code",
    "colab": {
     "base_uri": "https://localhost:8080/",
     "height": 1000
    },
    "outputId": "60fc378e-cafe-451e-f215-072a990395a5"
   },
   "source": [
    "dir(\"a\")"
   ],
   "execution_count": 17,
   "outputs": [
    {
     "data": {
      "text/plain": "['__add__',\n '__class__',\n '__contains__',\n '__delattr__',\n '__dir__',\n '__doc__',\n '__eq__',\n '__format__',\n '__ge__',\n '__getattribute__',\n '__getitem__',\n '__getnewargs__',\n '__gt__',\n '__hash__',\n '__init__',\n '__init_subclass__',\n '__iter__',\n '__le__',\n '__len__',\n '__lt__',\n '__mod__',\n '__mul__',\n '__ne__',\n '__new__',\n '__reduce__',\n '__reduce_ex__',\n '__repr__',\n '__rmod__',\n '__rmul__',\n '__setattr__',\n '__sizeof__',\n '__str__',\n '__subclasshook__',\n 'capitalize',\n 'casefold',\n 'center',\n 'count',\n 'encode',\n 'endswith',\n 'expandtabs',\n 'find',\n 'format',\n 'format_map',\n 'index',\n 'isalnum',\n 'isalpha',\n 'isdecimal',\n 'isdigit',\n 'isidentifier',\n 'islower',\n 'isnumeric',\n 'isprintable',\n 'isspace',\n 'istitle',\n 'isupper',\n 'join',\n 'ljust',\n 'lower',\n 'lstrip',\n 'maketrans',\n 'partition',\n 'replace',\n 'rfind',\n 'rindex',\n 'rjust',\n 'rpartition',\n 'rsplit',\n 'rstrip',\n 'split',\n 'splitlines',\n 'startswith',\n 'strip',\n 'swapcase',\n 'title',\n 'translate',\n 'upper',\n 'zfill']"
     },
     "execution_count": 17,
     "metadata": {},
     "output_type": "execute_result"
    }
   ]
  },
  {
   "cell_type": "code",
   "metadata": {
    "pycharm": {
     "name": "#%%\n"
    },
    "id": "ZPV4uu7JCNSc",
    "colab_type": "code",
    "colab": {}
   },
   "source": [
    "\"Matous\".isalpha()      # True\n",
    "\"M@tous\".isalpha()      # False\n",
    "\"Mat0us\".isalpha()      # False\n",
    "\"7350\".isalpha()        # False\n",
    "\"7350\".isnumeric()      # True\n"
   ],
   "execution_count": 18,
   "outputs": [
    {
     "data": {
      "text/plain": "True"
     },
     "execution_count": 18,
     "metadata": {},
     "output_type": "execute_result"
    }
   ]
  },
  {
   "cell_type": "code",
   "metadata": {
    "pycharm": {
     "name": "#%%\n"
    },
    "id": "QF676Tr0CNSe",
    "colab_type": "code",
    "colab": {}
   },
   "source": [
    "a = [0]\n",
    "# a = [1]\n",
    "# a = []\n",
    "if a:\n",
    "    print(\"Condition is true\")"
   ],
   "execution_count": 19,
   "outputs": [
    {
     "name": "stdout",
     "output_type": "stream",
     "text": [
      "Condition is true\n"
     ]
    }
   ]
  },
  {
   "cell_type": "markdown",
   "metadata": {
    "collapsed": false,
    "pycharm": {
     "name": "#%% md\n"
    },
    "id": "cox9LtQKCNSg",
    "colab_type": "text"
   },
   "source": [
    "# Boolean\n",
    "\n",
    "* The True value is equivalent for numerical value of 1\n",
    "* The False values is equivalent for value 0\n",
    "\n"
   ]
  },
  {
   "cell_type": "code",
   "metadata": {
    "pycharm": {
     "name": "#%%\n"
    },
    "id": "IJNJFky3CNSg",
    "colab_type": "code",
    "colab": {
     "base_uri": "https://localhost:8080/",
     "height": 35
    },
    "outputId": "bf7cc045-5305-43bb-a4ae-31a99c74a5b6"
   },
   "source": [
    "True > False"
   ],
   "execution_count": 20,
   "outputs": [
    {
     "data": {
      "text/plain": "True"
     },
     "execution_count": 20,
     "metadata": {},
     "output_type": "execute_result"
    }
   ]
  },
  {
   "cell_type": "code",
   "metadata": {
    "pycharm": {
     "name": "#%%\n"
    },
    "id": "fG5IuNGFCNSi",
    "colab_type": "code",
    "colab": {
     "base_uri": "https://localhost:8080/",
     "height": 35
    },
    "outputId": "8dd5f383-203b-4bd9-ca9e-0ca9ba905770"
   },
   "source": [
    "False > True"
   ],
   "execution_count": 21,
   "outputs": [
    {
     "data": {
      "text/plain": "False"
     },
     "execution_count": 21,
     "metadata": {},
     "output_type": "execute_result"
    }
   ]
  },
  {
   "cell_type": "code",
   "metadata": {
    "pycharm": {
     "name": "#%%\n"
    },
    "id": "pmf8hSkZCNSk",
    "colab_type": "code",
    "colab": {
     "base_uri": "https://localhost:8080/",
     "height": 35
    },
    "outputId": "ddfb0a84-5390-4cd7-ba45-97ad112b3492"
   },
   "source": [
    "True + True + False"
   ],
   "execution_count": 22,
   "outputs": [
    {
     "data": {
      "text/plain": "2"
     },
     "execution_count": 22,
     "metadata": {},
     "output_type": "execute_result"
    }
   ]
  },
  {
   "cell_type": "code",
   "metadata": {
    "pycharm": {
     "name": "#%%\n"
    },
    "id": "sKWJfkLdCNSm",
    "colab_type": "code",
    "colab": {
     "base_uri": "https://localhost:8080/",
     "height": 35
    },
    "outputId": "1a43ceb4-96dd-46be-a3ae-c563432b9eea"
   },
   "source": [
    "False + 1"
   ],
   "execution_count": 23,
   "outputs": [
    {
     "data": {
      "text/plain": "1"
     },
     "execution_count": 23,
     "metadata": {},
     "output_type": "execute_result"
    }
   ]
  },
  {
   "cell_type": "code",
   "metadata": {
    "pycharm": {
     "name": "#%%\n"
    },
    "id": "BPzl_AM1CNSo",
    "colab_type": "code",
    "colab": {
     "base_uri": "https://localhost:8080/",
     "height": 35
    },
    "outputId": "836659da-4384-46a5-c5c7-aaba194574b6"
   },
   "source": [
    "True + 1"
   ],
   "execution_count": 24,
   "outputs": [
    {
     "data": {
      "text/plain": "2"
     },
     "execution_count": 24,
     "metadata": {},
     "output_type": "execute_result"
    }
   ]
  },
  {
   "cell_type": "code",
   "metadata": {
    "pycharm": {
     "name": "#%%\n"
    },
    "id": "aRhuF-4RCNSq",
    "colab_type": "code",
    "colab": {
     "base_uri": "https://localhost:8080/",
     "height": 35
    },
    "outputId": "c7af9009-e206-4319-99b4-437f8fd69630"
   },
   "source": [
    "bool(200000)"
   ],
   "execution_count": 25,
   "outputs": [
    {
     "data": {
      "text/plain": "True"
     },
     "execution_count": 25,
     "metadata": {},
     "output_type": "execute_result"
    }
   ]
  },
  {
   "cell_type": "code",
   "metadata": {
    "pycharm": {
     "name": "#%%\n"
    },
    "id": "MfgLfg77CNSs",
    "colab_type": "code",
    "colab": {
     "base_uri": "https://localhost:8080/",
     "height": 35
    },
    "outputId": "2bb2941a-145e-4433-a90f-de4818a8b563"
   },
   "source": [
    "bool(\"Aaaa\")"
   ],
   "execution_count": 26,
   "outputs": [
    {
     "data": {
      "text/plain": "True"
     },
     "execution_count": 26,
     "metadata": {},
     "output_type": "execute_result"
    }
   ]
  },
  {
   "cell_type": "code",
   "metadata": {
    "pycharm": {
     "name": "#%%\n"
    },
    "id": "SjEZrvtmCNSw",
    "colab_type": "code",
    "colab": {
     "base_uri": "https://localhost:8080/",
     "height": 35
    },
    "outputId": "0e25269a-9489-4a27-bf17-a7aa4c59d6f0"
   },
   "source": [
    "bool(len(\"A\"))"
   ],
   "execution_count": 27,
   "outputs": [
    {
     "data": {
      "text/plain": "True"
     },
     "execution_count": 27,
     "metadata": {},
     "output_type": "execute_result"
    }
   ]
  },
  {
   "cell_type": "code",
   "metadata": {
    "pycharm": {
     "name": "#%%\n"
    },
    "id": "emALtY_rCNSx",
    "colab_type": "code",
    "colab": {
     "base_uri": "https://localhost:8080/",
     "height": 156
    },
    "outputId": "29b1f55f-9c23-4e4d-f2fc-7f245308caad"
   },
   "source": [
    "print(bool('')) # False \n",
    "print(bool('0')) # True\n",
    "print(bool([])) # False\n",
    "print(bool([0])) # True/False\n",
    "print(bool({})) # False \n",
    "print(bool('None')) #True\n",
    "print(bool(0.0000000000001)) # True \n",
    "print(bool([''])) # True"
   ],
   "execution_count": 28,
   "outputs": [
    {
     "name": "stdout",
     "output_type": "stream",
     "text": [
      "False\n",
      "True\n",
      "False\n",
      "True\n",
      "False\n",
      "True\n",
      "True\n",
      "True\n"
     ]
    }
   ]
  },
  {
   "cell_type": "code",
   "metadata": {
    "pycharm": {
     "name": "#%%\n"
    },
    "id": "ttzE10dGCNSz",
    "colab_type": "code",
    "colab": {
     "base_uri": "https://localhost:8080/",
     "height": 52
    },
    "outputId": "70f03889-e860-4405-8a21-7dd491904d87"
   },
   "source": [
    "print(True + True)\n",
    "print(bool(1 in [1,2,3]) + bool(\"a\" in \"ahoj\"))"
   ],
   "execution_count": 29,
   "outputs": [
    {
     "name": "stdout",
     "output_type": "stream",
     "text": [
      "2\n",
      "2\n"
     ]
    }
   ]
  },
  {
   "cell_type": "code",
   "metadata": {
    "pycharm": {
     "name": "#%%\n"
    },
    "id": "asKEEtnzCNS1",
    "colab_type": "code",
    "colab": {
     "base_uri": "https://localhost:8080/",
     "height": 35
    },
    "outputId": "972b6bda-0569-4dae-f4da-74497b49b18c"
   },
   "source": [
    "print((1 in [1,2,3]) + (\"a\" in \"ahoj\"))"
   ],
   "execution_count": 30,
   "outputs": [
    {
     "name": "stdout",
     "output_type": "stream",
     "text": [
      "2\n"
     ]
    }
   ]
  },
  {
   "cell_type": "code",
   "metadata": {
    "pycharm": {
     "name": "#%%\n"
    },
    "id": "8sufstg9CNS3",
    "colab_type": "code",
    "colab": {
     "base_uri": "https://localhost:8080/",
     "height": 166
    },
    "outputId": "0420f7cd-905f-479e-ec3d-36a3b9ee3e02"
   },
   "source": [
    "print(1 in [1,2,3] + \"a\" in \"ahoj\")"
   ],
   "execution_count": 31,
   "outputs": [
    {
     "ename": "TypeError",
     "evalue": "can only concatenate list (not \"str\") to list",
     "output_type": "error",
     "traceback": [
      "\u001B[0;31m---------------------------------------------------------------------------\u001B[0m",
      "\u001B[0;31mTypeError\u001B[0m                                 Traceback (most recent call last)",
      "\u001B[0;32m<ipython-input-31-6f7a7074f5e8>\u001B[0m in \u001B[0;36m<module>\u001B[0;34m\u001B[0m\n\u001B[0;32m----> 1\u001B[0;31m \u001B[0mprint\u001B[0m\u001B[0;34m(\u001B[0m\u001B[0;36m1\u001B[0m \u001B[0;32min\u001B[0m \u001B[0;34m[\u001B[0m\u001B[0;36m1\u001B[0m\u001B[0;34m,\u001B[0m\u001B[0;36m2\u001B[0m\u001B[0;34m,\u001B[0m\u001B[0;36m3\u001B[0m\u001B[0;34m]\u001B[0m \u001B[0;34m+\u001B[0m \u001B[0;34m\"a\"\u001B[0m \u001B[0;32min\u001B[0m \u001B[0;34m\"ahoj\"\u001B[0m\u001B[0;34m)\u001B[0m\u001B[0;34m\u001B[0m\u001B[0;34m\u001B[0m\u001B[0m\n\u001B[0m\u001B[1;32m      2\u001B[0m \u001B[0;34m\u001B[0m\u001B[0m\n",
      "\u001B[0;31mTypeError\u001B[0m: can only concatenate list (not \"str\") to list"
     ]
    }
   ]
  },
  {
   "cell_type": "markdown",
   "metadata": {
    "collapsed": false,
    "pycharm": {
     "name": "#%% md\n"
    },
    "id": "qDr_MdheCNS5",
    "colab_type": "text"
   },
   "source": [
    "[Operator precedence](https://runestone.academy/runestone/books/published/thinkcspy/Appendices/PrecedenceTable.html)\n",
    "\n",
    "\n",
    "# Logical Operations\n"
   ]
  },
  {
   "cell_type": "code",
   "metadata": {
    "pycharm": {
     "name": "#%%\n"
    },
    "id": "QM5KLhncCNS6",
    "colab_type": "code",
    "colab": {
     "base_uri": "https://localhost:8080/",
     "height": 35
    },
    "outputId": "98600589-c7b2-4093-c821-ad64c059973d"
   },
   "source": [
    "5 and 6"
   ],
   "execution_count": 32,
   "outputs": [
    {
     "data": {
      "text/plain": "6"
     },
     "execution_count": 32,
     "metadata": {},
     "output_type": "execute_result"
    }
   ]
  },
  {
   "cell_type": "code",
   "metadata": {
    "id": "UO-o6j5GiWfk",
    "colab_type": "code",
    "colab": {
     "base_uri": "https://localhost:8080/",
     "height": 35
    },
    "outputId": "f4869e24-7bb3-44da-ed9e-c4c5bc9af024"
   },
   "source": [
    "0 or 1"
   ],
   "execution_count": 33,
   "outputs": [
    {
     "data": {
      "text/plain": "1"
     },
     "execution_count": 33,
     "metadata": {},
     "output_type": "execute_result"
    }
   ]
  },
  {
   "cell_type": "code",
   "metadata": {
    "id": "qbfV58ZTi1a0",
    "colab_type": "code",
    "colab": {
     "base_uri": "https://localhost:8080/",
     "height": 201
    },
    "outputId": "dd8a6ace-8ac0-4c23-97be-f5128678430b"
   },
   "source": [
    "a = [1,2]\n",
    "if len(a) >= 3 or a[2] == 3:\n",
    "  print(\"a\")"
   ],
   "execution_count": 34,
   "outputs": [
    {
     "ename": "IndexError",
     "evalue": "list index out of range",
     "output_type": "error",
     "traceback": [
      "\u001B[0;31m---------------------------------------------------------------------------\u001B[0m",
      "\u001B[0;31mIndexError\u001B[0m                                Traceback (most recent call last)",
      "\u001B[0;32m<ipython-input-34-54cbf0f2f292>\u001B[0m in \u001B[0;36m<module>\u001B[0;34m\u001B[0m\n\u001B[1;32m      1\u001B[0m \u001B[0ma\u001B[0m \u001B[0;34m=\u001B[0m \u001B[0;34m[\u001B[0m\u001B[0;36m1\u001B[0m\u001B[0;34m,\u001B[0m\u001B[0;36m2\u001B[0m\u001B[0;34m]\u001B[0m\u001B[0;34m\u001B[0m\u001B[0;34m\u001B[0m\u001B[0m\n\u001B[0;32m----> 2\u001B[0;31m \u001B[0;32mif\u001B[0m \u001B[0mlen\u001B[0m\u001B[0;34m(\u001B[0m\u001B[0ma\u001B[0m\u001B[0;34m)\u001B[0m \u001B[0;34m>=\u001B[0m \u001B[0;36m3\u001B[0m \u001B[0;32mor\u001B[0m \u001B[0ma\u001B[0m\u001B[0;34m[\u001B[0m\u001B[0;36m2\u001B[0m\u001B[0;34m]\u001B[0m \u001B[0;34m==\u001B[0m \u001B[0;36m3\u001B[0m\u001B[0;34m:\u001B[0m\u001B[0;34m\u001B[0m\u001B[0;34m\u001B[0m\u001B[0m\n\u001B[0m\u001B[1;32m      3\u001B[0m   \u001B[0mprint\u001B[0m\u001B[0;34m(\u001B[0m\u001B[0;34m\"a\"\u001B[0m\u001B[0;34m)\u001B[0m\u001B[0;34m\u001B[0m\u001B[0;34m\u001B[0m\u001B[0m\n\u001B[1;32m      4\u001B[0m \u001B[0;34m\u001B[0m\u001B[0m\n",
      "\u001B[0;31mIndexError\u001B[0m: list index out of range"
     ]
    }
   ]
  },
  {
   "cell_type": "code",
   "metadata": {
    "pycharm": {
     "name": "#%%\n"
    },
    "id": "M_SY4uFNCNS7",
    "colab_type": "code",
    "colab": {
     "base_uri": "https://localhost:8080/",
     "height": 35
    },
    "outputId": "c2b511d9-80a5-48b7-c870-0e6524f109a4"
   },
   "source": [
    "0 and 5"
   ],
   "execution_count": 35,
   "outputs": [
    {
     "data": {
      "text/plain": "0"
     },
     "execution_count": 35,
     "metadata": {},
     "output_type": "execute_result"
    }
   ]
  },
  {
   "cell_type": "code",
   "metadata": {
    "pycharm": {
     "name": "#%%\n"
    },
    "id": "vCcIESrxCNS9",
    "colab_type": "code",
    "colab": {
     "base_uri": "https://localhost:8080/",
     "height": 35
    },
    "outputId": "e3946fda-98bb-430d-9f49-50f95c33960d"
   },
   "source": [
    "0 and 5 or 6"
   ],
   "execution_count": 36,
   "outputs": [
    {
     "data": {
      "text/plain": "6"
     },
     "execution_count": 36,
     "metadata": {},
     "output_type": "execute_result"
    }
   ]
  },
  {
   "cell_type": "markdown",
   "metadata": {
    "collapsed": false,
    "pycharm": {
     "name": "#%% md\n"
    },
    "id": "J80jCAwYCNS_",
    "colab_type": "text"
   },
   "source": [
    "As with arithmetic operators, some boolean operators have precedence before the rest - specifically not operator has precedence before and and or operator. and has precedence before or."
   ]
  },
  {
   "cell_type": "code",
   "metadata": {
    "pycharm": {
     "name": "#%%\n"
    },
    "id": "kczvRA6bCNS_",
    "colab_type": "code",
    "colab": {}
   },
   "source": [
    "5 or 6"
   ],
   "execution_count": 37,
   "outputs": [
    {
     "data": {
      "text/plain": "5"
     },
     "execution_count": 37,
     "metadata": {},
     "output_type": "execute_result"
    }
   ]
  },
  {
   "cell_type": "code",
   "metadata": {
    "pycharm": {
     "name": "#%%\n"
    },
    "id": "xIzmKRmPCNTB",
    "colab_type": "code",
    "colab": {
     "base_uri": "https://localhost:8080/",
     "height": 52
    },
    "outputId": "8780e9a3-98ab-4702-bca2-2cb43252e1ea"
   },
   "source": [
    "my_list = [1,2,3,4]\n",
    "print(any(my_list))\n",
    "print(all(my_list))"
   ],
   "execution_count": 38,
   "outputs": [
    {
     "name": "stdout",
     "output_type": "stream",
     "text": [
      "True\n",
      "True\n"
     ]
    }
   ]
  },
  {
   "cell_type": "code",
   "metadata": {
    "pycharm": {
     "name": "#%%\n"
    },
    "id": "eeEfxgvaCNTD",
    "colab_type": "code",
    "colab": {
     "base_uri": "https://localhost:8080/",
     "height": 52
    },
    "outputId": "be0b0805-db79-48e7-f06e-03e94c4f1594"
   },
   "source": [
    "my_list = [1,'',0, '']\n",
    "print(any(my_list))\n",
    "print(all(my_list))"
   ],
   "execution_count": 39,
   "outputs": [
    {
     "name": "stdout",
     "output_type": "stream",
     "text": [
      "True\n",
      "False\n"
     ]
    }
   ]
  },
  {
   "cell_type": "code",
   "metadata": {
    "pycharm": {
     "name": "#%%\n"
    },
    "id": "z_w85Ut_CNTF",
    "colab_type": "code",
    "colab": {
     "base_uri": "https://localhost:8080/",
     "height": 52
    },
    "outputId": "af831c32-f46c-4198-94b9-927c54a4e98c"
   },
   "source": [
    "my_list = ['',0, '']\n",
    "print(any(my_list))\n",
    "print(all(my_list))"
   ],
   "execution_count": 40,
   "outputs": [
    {
     "name": "stdout",
     "output_type": "stream",
     "text": [
      "False\n",
      "False\n"
     ]
    }
   ]
  },
  {
   "cell_type": "code",
   "metadata": {
    "pycharm": {
     "name": "#%%\n"
    },
    "id": "j05-hRkPCNTG",
    "colab_type": "code",
    "colab": {
     "base_uri": "https://localhost:8080/",
     "height": 52
    },
    "outputId": "ebda798c-406c-4f5c-f913-700eb8e62f6e"
   },
   "source": [
    "my_list = []\n",
    "print(any(my_list))\n",
    "print(all(my_list))"
   ],
   "execution_count": 41,
   "outputs": [
    {
     "name": "stdout",
     "output_type": "stream",
     "text": [
      "False\n",
      "True\n"
     ]
    }
   ]
  },
  {
   "cell_type": "markdown",
   "metadata": {
    "collapsed": false,
    "pycharm": {
     "name": "#%% md\n"
    },
    "id": "TGvrRok6CNTI",
    "colab_type": "text"
   },
   "source": [
    "It's true because for every element in the list, all 0 of them, they all are equal to True.\n",
    "\n",
    "https://docs.python.org/2/library/functions.html#all\n",
    "\n",
    "\n"
   ]
  },
  {
   "cell_type": "markdown",
   "metadata": {
    "collapsed": false,
    "id": "oSnQydjoCNTI",
    "colab_type": "text"
   },
   "source": [
    "# Ternary conditional operator\n"
   ]
  },
  {
   "cell_type": "code",
   "metadata": {
    "pycharm": {
     "name": "#%%\n"
    },
    "id": "Hjonn6I_CNTJ",
    "colab_type": "code",
    "colab": {}
   },
   "source": [
    "hour = 15\n",
    "day_time = ''\n",
    "if hour < 12:\n",
    "    day_time = 'Morning'\n",
    "else:\n",
    "    day_time = 'Afternoon'\n",
    "print('Good',day_time )\n"
   ],
   "execution_count": 42,
   "outputs": [
    {
     "name": "stdout",
     "output_type": "stream",
     "text": [
      "Good Afternoon\n"
     ]
    }
   ]
  },
  {
   "cell_type": "code",
   "metadata": {
    "pycharm": {
     "name": "#%%\n"
    },
    "id": "TwyuTzuTCNTL",
    "colab_type": "code",
    "colab": {}
   },
   "source": [
    "hour = 15\n",
    "day_time = 'Morning' if hour < 12 else 'Afternoon'\n",
    "print('Good ',day_time )\n"
   ],
   "execution_count": 43,
   "outputs": [
    {
     "name": "stdout",
     "output_type": "stream",
     "text": [
      "Good  Afternoon\n"
     ]
    }
   ]
  },
  {
   "cell_type": "markdown",
   "metadata": {
    "collapsed": false,
    "pycharm": {
     "name": "#%% md\n"
    },
    "id": "A9vEGTgqCNTM",
    "colab_type": "text"
   },
   "source": [
    "# Before next lesson\n",
    "\n",
    " * Homeworks from lesson 1+2\n",
    " * Quick view on lesson 3 (dict + sets)\n",
    " * Git course\n",
    " * Feedback on Slack"
   ]
  },
  {
   "cell_type": "markdown",
   "metadata": {
    "collapsed": false,
    "pycharm": {
     "name": "#%% md\n"
    },
    "id": "6f67L0hpCNTN",
    "colab_type": "text"
   },
   "source": [
    "# BONUS"
   ]
  },
  {
   "cell_type": "code",
   "metadata": {
    "pycharm": {
     "name": "#%%\n"
    },
    "id": "gRQuIzArCNTN",
    "colab_type": "code",
    "colab": {}
   },
   "source": [
    "move_computer = 'rock'\n",
    "move_human = input('rock, scissors, or paper? ')\n",
    "\n",
    "if move_human == 'rock':\n",
    "    if move_computer == 'rock':\n",
    "        print('Tie.')\n",
    "    elif move_computer == 'scissors':\n",
    "        print('You won!')\n",
    "    elif move_computer == 'paper':\n",
    "        print('Computer won.')\n",
    "elif move_human == 'scissors':\n",
    "    if move_computer == 'rock':\n",
    "        print('Computer won.')\n",
    "    elif move_computer == 'scissors':\n",
    "        print('Tie.')\n",
    "    elif move_computer == 'paper':\n",
    "        print('You won!')\n",
    "elif move_human == 'paper':\n",
    "    if move_computer == 'rock':\n",
    "        print('You won!')\n",
    "    elif move_computer == 'scissors':\n",
    "        print('Computer won.')\n",
    "    elif move_computer == 'paper':\n",
    "        print('Tie.')\n",
    "else:\n",
    "    print('Input was not recognized.')"
   ],
   "execution_count": 44,
   "outputs": [
    {
     "name": "stdout",
     "output_type": "stream",
     "text": [
      "Tie.\n"
     ]
    }
   ]
  },
  {
   "cell_type": "markdown",
   "source": [
    "### Can you rewrite the code to not have nested conditioning? (Use logical operator **and**)"
   ],
   "metadata": {
    "collapsed": false
   }
  }
 ]
}