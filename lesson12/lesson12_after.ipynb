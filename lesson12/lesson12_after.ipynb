{
  "nbformat": 4,
  "nbformat_minor": 0,
  "metadata": {
    "kernelspec": {
      "display_name": "Python 3",
      "language": "python",
      "name": "python3"
    },
    "language_info": {
      "codemirror_mode": {
        "name": "ipython",
        "version": 2
      },
      "file_extension": ".py",
      "mimetype": "text/x-python",
      "name": "python",
      "nbconvert_exporter": "python",
      "pygments_lexer": "ipython2",
      "version": "2.7.6"
    },
    "colab": {
      "name": "lesson12.ipynb",
      "provenance": [],
      "toc_visible": true
    }
  },
  "cells": [
    {
      "cell_type": "markdown",
      "metadata": {
        "collapsed": true,
        "pycharm": {
          "name": "#%% md\n"
        },
        "id": "U5iyyaY32-OV"
      },
      "source": [
        "# Lesson 12\n",
        "\n",
        "* Questions\n",
        "* Tic-tac-toe\n",
        "* Quiz"
      ]
    },
    {
      "cell_type": "markdown",
      "metadata": {
        "collapsed": false,
        "pycharm": {
          "name": "#%% md\n"
        },
        "id": "4W4VCyaB2-OW"
      },
      "source": [
        "### HTML\n",
        "\n",
        "HTML is another text file format. It is used to create structure of web pages and stands for Hyper Text Markup Language. It describes the structure of Web pages using so called markup. Markup elements are made of so called tags. Each tag tells us, where a given page element starts and ends. Example of tags can be paragpraphs, headings, tables etc.\n",
        "\n",
        "HTML is composed of elements and elements are composed of:\n",
        "\n",
        "* opening tag\n",
        "* attributes\n",
        "* element content (text) - not always\n",
        "* closing tag\n",
        "\n",
        "### INTERNET COMMUNICATION\n",
        "\n",
        "* **CLIENTS** - machines (f.e. web browser on you computer) that ask for resources (web pages, files, etc.)\n",
        "* **ROUTERS or SWITCHES** - machines that manage the traffic on the internet (moving data to correct destination)\n",
        "* **SERVERS** - machines that answer the requests and provide resources\n",
        "\n",
        "The communication among all these machines is directed by many rules on different levels. These rules make up variouse protocols. Protocols describe, how set of specific tasks should be performed - what has to be done, in what order.\n",
        "\n",
        "As we will be learning to request so called hypertext documents from servers in this section, the protocol of our interest is called HTTP (HyperText Transfer Protocol)\n",
        "\n",
        "#### URL Scheme\n",
        "\n",
        "```protocol://host/path?query#fragment```\n",
        "\n",
        "#### HTTP Status Codes\n",
        "\n",
        "* 1xx: Informational\n",
        "    * Request received, continuing process. We will not see this one very often.\n",
        "\n",
        "* 2xx: Success\n",
        "    * The action was successfully received, understood, and accepted. Code, that everybody, who sends a request wants, is code 200. It tells the client, that request has been successfully processed.\n",
        "\n",
        "* 3xx: Redirection\n",
        "    * Further action must be taken in order to complete the request. In reality, server tells the client, that the required resource can be found at different URL. Examples of codes are 302 and 303.\n",
        "\n",
        "* 4xx: Client Error\n",
        "    * The request contains bad syntax or cannot be fulfilled. The best known is the response 404, telling us that the server could not find the given resource.\n",
        "\n",
        "* 5xx: Server Error\n",
        "    * The server failed to fulfill an apparently valid request. Code 500 tells us, that due to the problem on the server side, the request could not be fulfilled.\n",
        "\n",
        "#### HTTP Methods\n",
        "\n",
        "* GET - requests a given document or a video - in general a resource - this method is used to retrieve data\n",
        "* POST - method used to send data to a server, e.g. for authentication or registration etc.\n",
        "* PUT - similar to POST method in that we send some data to the server, but the server should update a given (existing) record or other resource to a new value, we send it\n",
        "* DELETE - removes a given resource\n",
        "* HEAD - asks for a response identical to that of a GET request, but without the response body\n",
        "* OPTIONS - asks server, what methods are supported by a given resource - given web page etc."
      ]
    },
    {
      "cell_type": "code",
      "metadata": {
        "id": "oV7yIK0qA6LY"
      },
      "source": [
        "import requests\n",
        "requests.get(\"https://www.novinky.cz/\").text"
      ],
      "execution_count": null,
      "outputs": []
    },
    {
      "cell_type": "markdown",
      "metadata": {
        "collapsed": false,
        "id": "eYGUo2YI2-OX"
      },
      "source": [
        "### JSON\n",
        "The format of JSON encoding is almost identical to Python syntax except for a few minor changes:\n",
        "\n",
        "* non-string dictionary keys are converted to strings\n",
        "* True is mapped to 'true' , False is mapped to 'false'\n",
        "* None is mapped to null\n",
        "* single quotes on strings are converted to double quotes\n",
        "\n"
      ]
    },
    {
      "cell_type": "code",
      "metadata": {
        "pycharm": {
          "name": "#%%\n"
        },
        "id": "nbRvRk8q2-Oc"
      },
      "source": [
        "import requests"
      ],
      "execution_count": 9,
      "outputs": []
    },
    {
      "cell_type": "code",
      "metadata": {
        "pycharm": {
          "name": "#%%\n"
        },
        "id": "lv7GtjG92-Of",
        "outputId": "e80a6fa3-36fe-4334-e81d-066730a496cf",
        "colab": {
          "base_uri": "https://localhost:8080/",
          "height": 86
        }
      },
      "source": [
        "requests.get('https://swapi.dev/api/people/1/').text"
      ],
      "execution_count": 15,
      "outputs": [
        {
          "output_type": "execute_result",
          "data": {
            "application/vnd.google.colaboratory.intrinsic+json": {
              "type": "string"
            },
            "text/plain": [
              "'{\"name\":\"Luke Skywalker\",\"height\":\"172\",\"mass\":\"77\",\"hair_color\":\"blond\",\"skin_color\":\"fair\",\"eye_color\":\"blue\",\"birth_year\":\"19BBY\",\"gender\":\"male\",\"homeworld\":\"http://swapi.dev/api/planets/1/\",\"films\":[\"http://swapi.dev/api/films/1/\",\"http://swapi.dev/api/films/2/\",\"http://swapi.dev/api/films/3/\",\"http://swapi.dev/api/films/6/\"],\"species\":[],\"vehicles\":[\"http://swapi.dev/api/vehicles/14/\",\"http://swapi.dev/api/vehicles/30/\"],\"starships\":[\"http://swapi.dev/api/starships/12/\",\"http://swapi.dev/api/starships/22/\"],\"created\":\"2014-12-09T13:50:51.644000Z\",\"edited\":\"2014-12-20T21:17:56.891000Z\",\"url\":\"http://swapi.dev/api/people/1/\"}'"
            ]
          },
          "metadata": {
            "tags": []
          },
          "execution_count": 15
        }
      ]
    },
    {
      "cell_type": "code",
      "metadata": {
        "pycharm": {
          "name": "#%%\n"
        },
        "id": "pbTcsuj52-Oj",
        "outputId": "2c21f45d-6269-4a66-9ed6-64a630caab99",
        "colab": {
          "base_uri": "https://localhost:8080/",
          "height": 374
        }
      },
      "source": [
        "requests.get('https://swapi.dev/api/people/1/').json()"
      ],
      "execution_count": 13,
      "outputs": [
        {
          "output_type": "execute_result",
          "data": {
            "text/plain": [
              "{'birth_year': '19BBY',\n",
              " 'created': '2014-12-09T13:50:51.644000Z',\n",
              " 'edited': '2014-12-20T21:17:56.891000Z',\n",
              " 'eye_color': 'blue',\n",
              " 'films': ['http://swapi.dev/api/films/1/',\n",
              "  'http://swapi.dev/api/films/2/',\n",
              "  'http://swapi.dev/api/films/3/',\n",
              "  'http://swapi.dev/api/films/6/'],\n",
              " 'gender': 'male',\n",
              " 'hair_color': 'blond',\n",
              " 'height': '172',\n",
              " 'homeworld': 'http://swapi.dev/api/planets/1/',\n",
              " 'mass': '77',\n",
              " 'name': 'Luke Skywalker',\n",
              " 'skin_color': 'fair',\n",
              " 'species': [],\n",
              " 'starships': ['http://swapi.dev/api/starships/12/',\n",
              "  'http://swapi.dev/api/starships/22/'],\n",
              " 'url': 'http://swapi.dev/api/people/1/',\n",
              " 'vehicles': ['http://swapi.dev/api/vehicles/14/',\n",
              "  'http://swapi.dev/api/vehicles/30/']}"
            ]
          },
          "metadata": {
            "tags": []
          },
          "execution_count": 13
        }
      ]
    },
    {
      "cell_type": "code",
      "metadata": {
        "id": "z5Nc5vCrDJ6g",
        "outputId": "bca17931-010c-4b03-ed63-d904420ea3b2",
        "colab": {
          "base_uri": "https://localhost:8080/",
          "height": 374
        }
      },
      "source": [
        "import json\n",
        "json.loads(requests.get('https://swapi.dev/api/people/1/').text)"
      ],
      "execution_count": 16,
      "outputs": [
        {
          "output_type": "execute_result",
          "data": {
            "text/plain": [
              "{'birth_year': '19BBY',\n",
              " 'created': '2014-12-09T13:50:51.644000Z',\n",
              " 'edited': '2014-12-20T21:17:56.891000Z',\n",
              " 'eye_color': 'blue',\n",
              " 'films': ['http://swapi.dev/api/films/1/',\n",
              "  'http://swapi.dev/api/films/2/',\n",
              "  'http://swapi.dev/api/films/3/',\n",
              "  'http://swapi.dev/api/films/6/'],\n",
              " 'gender': 'male',\n",
              " 'hair_color': 'blond',\n",
              " 'height': '172',\n",
              " 'homeworld': 'http://swapi.dev/api/planets/1/',\n",
              " 'mass': '77',\n",
              " 'name': 'Luke Skywalker',\n",
              " 'skin_color': 'fair',\n",
              " 'species': [],\n",
              " 'starships': ['http://swapi.dev/api/starships/12/',\n",
              "  'http://swapi.dev/api/starships/22/'],\n",
              " 'url': 'http://swapi.dev/api/people/1/',\n",
              " 'vehicles': ['http://swapi.dev/api/vehicles/14/',\n",
              "  'http://swapi.dev/api/vehicles/30/']}"
            ]
          },
          "metadata": {
            "tags": []
          },
          "execution_count": 16
        }
      ]
    },
    {
      "cell_type": "code",
      "metadata": {
        "pycharm": {
          "name": "#%%\n"
        },
        "id": "DGVZAr-n2-Ol"
      },
      "source": [
        "class JSONClass:\n",
        "    def __init__(self, json):\n",
        "        for k, v in json.items():\n",
        "            setattr(self, k, v)"
      ],
      "execution_count": 17,
      "outputs": []
    },
    {
      "cell_type": "code",
      "metadata": {
        "pycharm": {
          "name": "#%%\n"
        },
        "id": "j6JfTQvb2-Oo"
      },
      "source": [
        "luke = JSONClass(requests.get('https://swapi.dev/api/people/1/').json())"
      ],
      "execution_count": 18,
      "outputs": []
    },
    {
      "cell_type": "code",
      "metadata": {
        "pycharm": {
          "name": "#%%\n"
        },
        "id": "CF4VRFpq2-Oq"
      },
      "source": [
        "luke"
      ],
      "execution_count": null,
      "outputs": []
    },
    {
      "cell_type": "code",
      "metadata": {
        "pycharm": {
          "name": "#%%\n"
        },
        "id": "4sJy_YCu2-Ot"
      },
      "source": [
        "luke.films"
      ],
      "execution_count": null,
      "outputs": []
    },
    {
      "cell_type": "markdown",
      "metadata": {
        "collapsed": false,
        "pycharm": {
          "name": "#%% md\n"
        },
        "id": "UAT9AELj2-Ov"
      },
      "source": [
        "We can use it even when the RESPONSE is not JSON"
      ]
    },
    {
      "cell_type": "code",
      "metadata": {
        "pycharm": {
          "name": "#%%\n"
        },
        "id": "q_rLQ85_2-Ov"
      },
      "source": [
        "import requests"
      ],
      "execution_count": 19,
      "outputs": []
    },
    {
      "cell_type": "code",
      "metadata": {
        "pycharm": {
          "name": "#%%\n"
        },
        "id": "Y1YcPUtJ2-Ox",
        "outputId": "81c86d98-0533-4ca8-be11-f57ed4c270fa",
        "colab": {
          "base_uri": "https://localhost:8080/",
          "height": 153
        }
      },
      "source": [
        "response = requests.get('https://httpbin.org/get')\n",
        "response.json()"
      ],
      "execution_count": 20,
      "outputs": [
        {
          "output_type": "execute_result",
          "data": {
            "text/plain": [
              "{'args': {},\n",
              " 'headers': {'Accept': '*/*',\n",
              "  'Accept-Encoding': 'gzip, deflate',\n",
              "  'Host': 'httpbin.org',\n",
              "  'User-Agent': 'python-requests/2.23.0',\n",
              "  'X-Amzn-Trace-Id': 'Root=1-5f971242-50106c275fbc99711131775e'},\n",
              " 'origin': '34.91.126.241',\n",
              " 'url': 'https://httpbin.org/get'}"
            ]
          },
          "metadata": {
            "tags": []
          },
          "execution_count": 20
        }
      ]
    },
    {
      "cell_type": "code",
      "metadata": {
        "pycharm": {
          "name": "#%%\n"
        },
        "id": "CkmVqEk22-Oz",
        "outputId": "66cc1632-40a7-412a-81ff-d048cd96edf8",
        "colab": {
          "base_uri": "https://localhost:8080/",
          "height": 255
        }
      },
      "source": [
        "response = requests.post('http://httpbin.org/post', data = {'my_message':'Hello'})\n",
        "response.json()"
      ],
      "execution_count": 21,
      "outputs": [
        {
          "output_type": "execute_result",
          "data": {
            "text/plain": [
              "{'args': {},\n",
              " 'data': '',\n",
              " 'files': {},\n",
              " 'form': {'my_message': 'Hello'},\n",
              " 'headers': {'Accept': '*/*',\n",
              "  'Accept-Encoding': 'gzip, deflate',\n",
              "  'Content-Length': '16',\n",
              "  'Content-Type': 'application/x-www-form-urlencoded',\n",
              "  'Host': 'httpbin.org',\n",
              "  'User-Agent': 'python-requests/2.23.0',\n",
              "  'X-Amzn-Trace-Id': 'Root=1-5f971267-3bfa8a0b2635feea05f2c323'},\n",
              " 'json': None,\n",
              " 'origin': '34.91.126.241',\n",
              " 'url': 'http://httpbin.org/post'}"
            ]
          },
          "metadata": {
            "tags": []
          },
          "execution_count": 21
        }
      ]
    },
    {
      "cell_type": "code",
      "metadata": {
        "pycharm": {
          "name": "#%%\n"
        },
        "id": "MmeG_eE72-O1",
        "outputId": "9d780e3b-dc93-4160-8de0-afd74e9eac59",
        "colab": {
          "base_uri": "https://localhost:8080/",
          "height": 34
        }
      },
      "source": [
        "! pip install beautifulsoup4"
      ],
      "execution_count": 26,
      "outputs": [
        {
          "output_type": "stream",
          "text": [
            "Requirement already satisfied: beautifulsoup4 in /usr/local/lib/python3.6/dist-packages (4.6.3)\n"
          ],
          "name": "stdout"
        }
      ]
    },
    {
      "cell_type": "code",
      "metadata": {
        "pycharm": {
          "name": "#%%\n"
        },
        "id": "e_l9NnJO2-O3"
      },
      "source": [
        "response = requests.get(\"https://citaty.net/autori/jan-werich/\")"
      ],
      "execution_count": 27,
      "outputs": []
    },
    {
      "cell_type": "code",
      "metadata": {
        "id": "-JZCpOmEI9Sd"
      },
      "source": [
        "response.text"
      ],
      "execution_count": null,
      "outputs": []
    },
    {
      "cell_type": "code",
      "metadata": {
        "pycharm": {
          "name": "#%%\n"
        },
        "id": "-DKpEIfF2-O5"
      },
      "source": [
        "from bs4 import BeautifulSoup as bs\n",
        "soup = bs(response.text, \"html.parser\")"
      ],
      "execution_count": 30,
      "outputs": []
    },
    {
      "cell_type": "code",
      "metadata": {
        "pycharm": {
          "name": "#%%\n"
        },
        "id": "NCg4sqYI2-O7"
      },
      "source": [
        "soup.find_all(\"h3\")"
      ],
      "execution_count": null,
      "outputs": []
    },
    {
      "cell_type": "code",
      "metadata": {
        "pycharm": {
          "name": "#%%\n"
        },
        "id": "2Ro1CXkT2-O-",
        "outputId": "b922faaf-4c12-45aa-fd82-706b91d7818a",
        "colab": {
          "base_uri": "https://localhost:8080/",
          "height": 394
        }
      },
      "source": [
        "soup.find_all(\"h3\", {'class': 'blockquote-text'})"
      ],
      "execution_count": 32,
      "outputs": [
        {
          "output_type": "execute_result",
          "data": {
            "text/plain": [
              "[<h3 class=\"blockquote-text\"><a data-quote-content=\"\" href=\"/citaty/273163-jan-werich-cim-vic-clovek-znamena-tim-mene-smi-kiksnout/\" title=\"Detail citátu „Čím víc člověk znamená, tím méně smí kiksnout.“ — Jan Werich\">„Čím víc člověk znamená, tím méně smí kiksnout.“</a></h3>,\n",
              " <h3 class=\"blockquote-text\"><a data-quote-content=\"\" href=\"/citaty/24186-jan-werich-pratelstvi-je-soucast-lidskeho-stesti/\" title=\"Detail citátu „Přátelství je součást lidského štěstí.“ — Jan Werich\">„Přátelství je součást lidského štěstí.“</a></h3>,\n",
              " <h3 class=\"blockquote-text\"><a data-quote-content=\"\" href=\"/citaty/20438-jan-werich-kdo-vino-ma-a-nepije-kdo-hrozny-ma-a-neji-je-kdo/\" title=\"Detail citátu „Kdo víno má a nepije, kdo hrozny má a nejí je, kdo ženu má a nelíbá, kdo zábavě se vyhýbá, na toho vemte bič a hůl, to není člověk, to je vůl.“ — Jan Werich\">„Kdo víno má a nepije, kdo hrozny má a nejí je, kdo ženu má a nelíbá, kdo zábavě se vyhýbá, na toho vemte bič a hůl, to není člověk, to je vůl.“</a></h3>,\n",
              " <h3 class=\"blockquote-text\"><a data-quote-content=\"\" href=\"/citaty/2054441-jan-werich-kdyz-nejde-o-zivot-nejde-o-nic/\" title=\"Detail citátu „Když nejde o život, nejde o nic.“ — Jan Werich\">„Když nejde o život, nejde o nic.“</a></h3>,\n",
              " <h3 class=\"blockquote-text\"><a data-quote-content=\"\" href=\"/citaty/269344-jan-werich-on-totiz-kazdej-den-je-dobrej-den-protoze-ona-pod/\" title=\"Detail citátu „On totiž každej den je dobrej den, protože ona podstata světa je v tomdletom světě, on člověk má bejt tím, co je, a ne se drápat po tom - bejt ňákým svým vysněným symbolem.“ — Jan Werich\">„On totiž každej den je dobrej den, protože ona podstata světa je v tomdletom světě, on člověk má bejt tím, co je, a ne se drápat po tom - bejt ňákým svým vysněným symbolem.“</a></h3>,\n",
              " <h3 class=\"blockquote-text\"><a data-quote-content=\"\" href=\"/citaty/283433-jan-werich-strach-to-je-jako-cit-v-prstech-nemas-cit-sahas/\" title=\"Detail citátu „Strach, to je jako cit v prstech. Nemáš cit, šaháš do ohně, a uhoří si ruka.“ — Jan Werich\">„Strach, to je jako cit v prstech. Nemáš cit, šaháš do ohně, a uhoří si ruka.“</a></h3>,\n",
              " <h3 class=\"blockquote-text\"><a data-quote-content=\"\" href=\"/citaty/1543688-jan-werich-jestlize-se-clovek-hada-s-blbcem-vic-jak-pul-minu/\" title=\"Detail citátu „Jestliže se člověk hádá s blbcem víc, jak půl minuty, hádají se už dva blbci.“ — Jan Werich\">„Jestliže se člověk hádá s blbcem víc, jak půl minuty, hádají se už dva blbci.“</a></h3>,\n",
              " <h3 class=\"blockquote-text\"><a data-quote-content=\"\" href=\"/citaty/11561-jan-werich-smich-neni-nikdy-pro-nic-a-za-nic-snad-jen-u-sile/\" title=\"Detail citátu „Smích není nikdy pro nic a za nic, snad jen u šílených lidí. Normální člověk musí mít důvod, směje se něčemu.“ — Jan Werich\">„Smích není nikdy pro nic a za nic, snad jen u šílených lidí. Normální člověk musí mít důvod, směje se něčemu.“</a></h3>,\n",
              " <h3 class=\"blockquote-text\"><a data-quote-content=\"\" href=\"/citaty/283434-jan-werich-cestina-je-krasna-rec-ona-ma-obrovskou-plejadu-sl/\" title=\"Detail citátu „Čeština je krásná řeč. Ona má obrovskou plejádu slov pro obyčejný věci. Třeba kulaťoučké jablíčko. To neřeknete jinou řečí. Angličan musí říct “a litte round apple“, malé kulaté jablko…. Tomu přece chybí barva i vůně.“ — Jan Werich\">„Čeština je krásná řeč. Ona má obrovskou plejádu slov pro obyčejný věci. Třeba kulaťoučké jablíčko. To neřeknete jinou řečí. Angličan musí říct “a litte round apple“, malé kulaté jablko…. Tomu přece chybí barva i vůně.“</a></h3>,\n",
              " <h3 class=\"blockquote-text\"><a data-quote-content=\"\" href=\"/citaty/5316-jan-werich-zenske-nemaji-smysl-pro-nesmysl/\" title=\"Detail citátu „Ženské nemají smysl pro nesmysl.“ — Jan Werich\">„Ženské nemají smysl pro nesmysl.“</a></h3>,\n",
              " <h3 class=\"blockquote-text\"><a data-quote-content=\"\" href=\"/citaty/22162-jan-werich-podarene-manzelstvi-je-div-sveta/\" title=\"Detail citátu „Podařené manželství je div světa.“ — Jan Werich\">„Podařené manželství je div světa.“</a></h3>,\n",
              " <h3 class=\"blockquote-text\"><a data-quote-content=\"\" href=\"/citaty/17064-jan-werich-nekdo-ma-to-stesti-ze-ma-schopnost-byt-pritelem/\" title=\"Detail citátu „Někdo má to štěstí, že má schopnost být přítelem.“ — Jan Werich\">„Někdo má to štěstí, že má schopnost být přítelem.“</a></h3>,\n",
              " <h3 class=\"blockquote-text\"><a data-quote-content=\"\" href=\"/citaty/19215-jan-werich-mejte-dobrou-naladu-dobra-nalada-sice-vase-proble/\" title=\"Detail citátu „Mějte dobrou náladu. Dobrá nálada sice vaše problémy nevyřeší, ale naštve tolik lidí kolem, že stojí za to si ji užít.“ — Jan Werich\">„Mějte dobrou náladu. Dobrá nálada sice vaše problémy nevyřeší, ale naštve tolik lidí kolem, že stojí za to si ji užít.“</a></h3>,\n",
              " <h3 class=\"blockquote-text\"><a data-quote-content=\"\" href=\"/citaty/21864-jan-werich-kde-blb-tam-nebezpecno/\" title=\"Detail citátu „Kde blb, tam nebezpečno.“ — Jan Werich\">„Kde blb, tam nebezpečno.“</a></h3>,\n",
              " <h3 class=\"blockquote-text\"><a data-quote-content=\"\" href=\"/citaty/10962-jan-werich-clovek-ktery-nikdy-neplakal-nezil-opravdovy-zivo/\" title=\"Detail citátu „Člověk, který nikdy neplakal, nežil opravdový život“ — Jan Werich\">„Člověk, který nikdy neplakal, nežil opravdový život“</a></h3>,\n",
              " <h3 class=\"blockquote-text\"><a data-quote-content=\"\" href=\"/citaty/270946-jan-werich-nejhorsi-srazka-v-zivote-je-srazka-s-blbcem-blbc/\" title=\"Detail citátu „Nejhorší srážka v životě, je srážka s blbcem. Blbce nikdy neusvědčíte z blbství. Z takové srážky, vyjdete vždycky jako největší blbec pod sluncem.“ — Jan Werich\">„Nejhorší srážka v životě, je srážka s blbcem. Blbce nikdy neusvědčíte z blbství. Z takové srážky, vyjdete vždycky jako největší blbec pod sluncem.“</a></h3>,\n",
              " <h3 class=\"blockquote-text\"><a data-quote-content=\"\" href=\"/citaty/18414-jan-werich-jedna-zenska-vidi-nekdy-dal-nez-pet-muzskych-s-dal/\" title=\"Detail citátu „Jedna ženská vidí někdy dál než pět mužských s dalekohledem.“ — Jan Werich\">„Jedna ženská vidí někdy dál než pět mužských s dalekohledem.“</a></h3>,\n",
              " <h3 class=\"blockquote-text\"><a data-quote-content=\"\" href=\"/citaty/271700-jan-werich-klauni-nejsou-ale-sasku-je/\" title=\"Detail citátu „Klauni nejsou, ale šašků je…“ — Jan Werich\">„Klauni nejsou, ale šašků je…“</a></h3>,\n",
              " <h3 class=\"blockquote-text\"><a data-quote-content=\"\" href=\"/citaty/5404-jan-werich-paklize-clovek-zvitezi-nad-vlastni-blbosti-je-vit/\" title=\"Detail citátu „Pakliže člověk zvítězí nad vlastní blbostí, je vítězem nebo poraženým? V každém případě je to dobré.“ — Jan Werich\">„Pakliže člověk zvítězí nad vlastní blbostí, je vítězem nebo poraženým? V každém případě je to dobré.“</a></h3>,\n",
              " <h3 class=\"blockquote-text\"><a data-quote-content=\"\" href=\"/citaty/12782-jan-werich-hloupost-se-fackovanim-neda-vylecit/\" title=\"Detail citátu „Hloupost se fackováním nedá vyléčit.“ — Jan Werich\">„Hloupost se fackováním nedá vyléčit.“</a></h3>,\n",
              " <h3 class=\"blockquote-text\"> „Lorem ipsum dolor sit amet, consectetuer adipiscing elit. Etiam egestas wisi a erat. Morbi imperdiet, mauris ac auctor dictum.“ </h3>]"
            ]
          },
          "metadata": {
            "tags": []
          },
          "execution_count": 32
        }
      ]
    },
    {
      "cell_type": "code",
      "metadata": {
        "pycharm": {
          "name": "#%%\n"
        },
        "id": "h-QI3LFy2-PA",
        "outputId": "7fe12f3d-1222-4e40-c056-9bcdcb0c384f",
        "colab": {
          "base_uri": "https://localhost:8080/",
          "height": 377
        }
      },
      "source": [
        "for h3 in soup.find_all(\"h3\", attrs={'class': 'blockquote-text'}):\n",
        "    if (\"href\" in str(h3)):\n",
        "      print(h3.text)"
      ],
      "execution_count": 40,
      "outputs": [
        {
          "output_type": "stream",
          "text": [
            "„Čím víc člověk znamená, tím méně smí kiksnout.“\n",
            "„Přátelství je součást lidského štěstí.“\n",
            "„Kdo víno má a nepije, kdo hrozny má a nejí je, kdo ženu má a nelíbá, kdo zábavě se vyhýbá, na toho vemte bič a hůl, to není člověk, to je vůl.“\n",
            "„Když nejde o život, nejde o nic.“\n",
            "„On totiž každej den je dobrej den, protože ona podstata světa je v tomdletom světě, on člověk má bejt tím, co je, a ne se drápat po tom - bejt ňákým svým vysněným symbolem.“\n",
            "„Strach, to je jako cit v prstech. Nemáš cit, šaháš do ohně, a uhoří si ruka.“\n",
            "„Jestliže se člověk hádá s blbcem víc, jak půl minuty, hádají se už dva blbci.“\n",
            "„Smích není nikdy pro nic a za nic, snad jen u šílených lidí. Normální člověk musí mít důvod, směje se něčemu.“\n",
            "„Čeština je krásná řeč. Ona má obrovskou plejádu slov pro obyčejný věci. Třeba kulaťoučké jablíčko. To neřeknete jinou řečí. Angličan musí říct “a litte round apple“, malé kulaté jablko…. Tomu přece chybí barva i vůně.“\n",
            "„Ženské nemají smysl pro nesmysl.“\n",
            "„Podařené manželství je div světa.“\n",
            "„Někdo má to štěstí, že má schopnost být přítelem.“\n",
            "„Mějte dobrou náladu. Dobrá nálada sice vaše problémy nevyřeší, ale naštve tolik lidí kolem, že stojí za to si ji užít.“\n",
            "„Kde blb, tam nebezpečno.“\n",
            "„Člověk, který nikdy neplakal, nežil opravdový život“\n",
            "„Nejhorší srážka v životě, je srážka s blbcem. Blbce nikdy neusvědčíte z blbství. Z takové srážky, vyjdete vždycky jako největší blbec pod sluncem.“\n",
            "„Jedna ženská vidí někdy dál než pět mužských s dalekohledem.“\n",
            "„Klauni nejsou, ale šašků je…“\n",
            "„Pakliže člověk zvítězí nad vlastní blbostí, je vítězem nebo poraženým? V každém případě je to dobré.“\n",
            "„Hloupost se fackováním nedá vyléčit.“\n"
          ],
          "name": "stdout"
        }
      ]
    },
    {
      "cell_type": "markdown",
      "metadata": {
        "id": "dBzStwjo2bvB"
      },
      "source": [
        "What you will scrape today?"
      ]
    },
    {
      "cell_type": "markdown",
      "metadata": {
        "id": "ol426TBBF7d9"
      },
      "source": [
        "https://selenium-python.readthedocs.io/"
      ]
    },
    {
      "cell_type": "code",
      "metadata": {
        "id": "o72_SNLMN6_8"
      },
      "source": [
        "headers = {'User-Agent': 'Mozilla/5.0 (Macintosh; Intel Mac OS X 10_10_1) AppleWebKit/537.36 (KHTML, like Gecko) Chrome/39.0.2171.95 Safari/537.36'}\n",
        "\n",
        "r = requests.get(\"https://www.alza.cz/sport/bezecke-potreby/18857990.htm\", headers=headers)"
      ],
      "execution_count": 96,
      "outputs": []
    },
    {
      "cell_type": "code",
      "metadata": {
        "id": "XBiansUHN_Tf"
      },
      "source": [
        "#r.text"
      ],
      "execution_count": 97,
      "outputs": []
    },
    {
      "cell_type": "code",
      "metadata": {
        "id": "uZepz7IEODPZ"
      },
      "source": [
        "from bs4 import BeautifulSoup as bs\n",
        "soup = bs(r.text, \"html.parser\")"
      ],
      "execution_count": 98,
      "outputs": []
    },
    {
      "cell_type": "code",
      "metadata": {
        "id": "CUqtN038TbQj",
        "outputId": "c9f063c6-2847-4927-f843-f2aa98bf81c6",
        "colab": {
          "base_uri": "https://localhost:8080/",
          "height": 35
        }
      },
      "source": [
        "soup.find(\"a\", attrs={\"class\": \"name\"})[\"data-impression-name\"]"
      ],
      "execution_count": 99,
      "outputs": [
        {
          "output_type": "execute_result",
          "data": {
            "application/vnd.google.colaboratory.intrinsic+json": {
              "type": "string"
            },
            "text/plain": [
              "'Sinner Bandana Black Moustache'"
            ]
          },
          "metadata": {
            "tags": []
          },
          "execution_count": 99
        }
      ]
    },
    {
      "cell_type": "code",
      "metadata": {
        "id": "QPJqRnA0OOnq",
        "outputId": "e83958c1-3392-4765-c159-e416569167a6",
        "colab": {
          "base_uri": "https://localhost:8080/",
          "height": 425
        }
      },
      "source": [
        "for item, price, price_without_tax in zip(soup.find_all(\"a\", attrs={\"class\": \"name\"}), soup.find_all(\"span\", attrs={\"class\": \"c2\"}), soup.find_all(\"span\", attrs={\"class\": \"c1\"})):\n",
        "  print(f\"{price.text}/{price_without_tax.text}     \\t for {item.text}\")"
      ],
      "execution_count": 100,
      "outputs": [
        {
          "output_type": "stream",
          "text": [
            "199,-/bez DPH  164,-     \t for Sinner Bandana Black Moustache\n",
            "219,-/bez DPH  181,-     \t for Zéfal Arctica 75 červená\n",
            "213,-/bez DPH  176,-     \t for Sherpa Roger neon pink\n",
            "199,-/bez DPH  164,-     \t for Zéfal Arctica 75 bílá\n",
            "199,-/bez DPH  164,-     \t for Zéfal Arctica 75 růžová\n",
            "209,-/bez DPH  173,-     \t for Zéfal Arctica 75 žlutá\n",
            "1 699,-/bez DPH  1 404,-     \t for SKLZ Super Sandbag, vak na posilování\n",
            "239,-/bez DPH  198,-     \t for Lifefit Ankle/Wrist 2 x 1,5 kg\n",
            "od 129,-/bez DPH  107,-     \t for Sulov s flísem modro-zelený\n",
            "99,-/bez DPH  82,-     \t for Romet Bidon 0,7l logo černý\n",
            "189,-/bez DPH  156,-     \t for Sharp Shape Ankle weight 2x1,5 kg\n",
            "129,-/bez DPH  107,-     \t for Sharp Shape Ankle weight 2x0,5 kg\n",
            "99,-/bez DPH  82,-     \t for Force Savior 0,75 l,transparentní černá-šedá\n",
            "79,-/bez DPH  65,-     \t for Force SAVIOR ULTRA 0,75 l, černo-šedo-bílá\n",
            "79,-/bez DPH  65,-     \t for Force SAVIOR 0,5 l, růžovo-bílo-černá\n",
            "179,-/bez DPH  148,-     \t for Nalgene Ultralite HDPE Wide Mouth Green 1000ml\n",
            "419,-/bez DPH  346,-     \t for Lifefit Ankle-wrist weights 2x3 kg\n",
            "89,-/bez DPH  74,-     \t for Force SAVIOR 0,75 l, zeleno-bílo-černá\n",
            "89,-/bez DPH  74,-     \t for Force SAVIOR 0,75 l, bílo-šedo-černá\n",
            "89,-/bez DPH  74,-     \t for Force SAVIOR 0,75 l, červeno-černo-bílá\n",
            "79,-/bez DPH  65,-     \t for Force SAVIOR 0,5 l, modro-bílo-černá\n",
            "99,-/bez DPH  82,-     \t for Force SAVIOR 0,75 l, černo-šedo-bílá\n",
            "79,-/bez DPH  65,-     \t for Force SAVIOR 0,5 l, bílo-šedo-černá\n",
            "79,-/bez DPH  65,-     \t for Force SAVIOR 0,5 l, černo-šedo-bílá\n"
          ],
          "name": "stdout"
        }
      ]
    },
    {
      "cell_type": "code",
      "metadata": {
        "id": "0hlBqKsGQ3f8"
      },
      "source": [
        "price, price_without_tax = soup.find_all(\"span\", attrs={\"class\": \"c2\"}), soup.find_all(\"span\", attrs={\"class\": \"c1\"})"
      ],
      "execution_count": 101,
      "outputs": []
    },
    {
      "cell_type": "code",
      "metadata": {
        "id": "c91Y2zECRDCt"
      },
      "source": [
        "price = list(map(lambda x: int(x.text.replace(\",-\", \"\")[-3:]), price))"
      ],
      "execution_count": 104,
      "outputs": []
    },
    {
      "cell_type": "code",
      "metadata": {
        "id": "frT6lBXhRbDE",
        "outputId": "76ef52ad-6158-4a8f-cd77-96f69eb5e3a5",
        "colab": {
          "base_uri": "https://localhost:8080/",
          "height": 34
        }
      },
      "source": [
        "print(f\"Average price is: {sum(price)/len(price)}\")"
      ],
      "execution_count": 105,
      "outputs": [
        {
          "output_type": "stream",
          "text": [
            "Average price is: 174.16666666666666\n"
          ],
          "name": "stdout"
        }
      ]
    },
    {
      "cell_type": "code",
      "metadata": {
        "id": "pRyx87jrWSme",
        "outputId": "626be3dd-d10e-47e4-bad8-a21f7a0a522a",
        "colab": {
          "base_uri": "https://localhost:8080/",
          "height": 717
        }
      },
      "source": [
        "import json\n",
        "r = requests.get('https://www.notino.cz/kosmetika/dekorativni-kosmetika/?f=1-1-2-3644-169-6947-3652') \n",
        "\n",
        "soup = bs(r.text, 'html.parser') \n",
        "\n",
        "for i in soup.find_all('a', {'class':'spc push-to-dl'}): \n",
        "  x = json.loads(i['data-datalayer'])\n",
        "  print(json.dumps(x, indent=3))\n",
        "  print(x[\"ecommerce\"][\"click\"][\"products\"][0][\"brand\"])\n",
        "  print(x[\"ecommerce\"][\"click\"][\"products\"][0][\"fullPrice\"])\n",
        "  break"
      ],
      "execution_count": 115,
      "outputs": [
        {
          "output_type": "stream",
          "text": [
            "{\n",
            "   \"event\": \"ec.click\",\n",
            "   \"eventAction\": \"Kliknut\\u00ed na produkt\",\n",
            "   \"ecommerce\": {\n",
            "      \"currencyCode\": \"CZK\",\n",
            "      \"click\": {\n",
            "         \"actionField\": {\n",
            "            \"list\": \"Category - standard\"\n",
            "         },\n",
            "         \"products\": [\n",
            "            {\n",
            "               \"id\": \"MAYLSEW_KMSC10\",\n",
            "               \"name\": \"Maybelline Lash Sensational&nbsp;prodlu\\u017euj\\u00edc\\u00ed \\u0159asenka pro pln\\u00e9 \\u0159asy\",\n",
            "               \"price\": 162.81,\n",
            "               \"fullPrice\": 197.0,\n",
            "               \"priceListIsSearchEngine\": false,\n",
            "               \"tax\": 34.19,\n",
            "               \"brand\": \"Maybelline\",\n",
            "               \"variant\": \"Maybelline Lash Sensational&nbsp;prodlu\\u017euj\\u00edc\\u00ed \\u0159asenka pro pln\\u00e9 \\u0159asy prodlu\\u017euj\\u00edc\\u00ed \\u0159asenka pro pln\\u00e9 \\u0159asy\",\n",
            "               \"position\": 1,\n",
            "               \"inAction\": false,\n",
            "               \"inSales\": false,\n",
            "               \"isDermo\": false,\n",
            "               \"isBio\": false,\n",
            "               \"isNiche\": false,\n",
            "               \"type\": [\n",
            "                  \"Kosmetika\"\n",
            "               ],\n",
            "               \"isNew\": false,\n",
            "               \"isMaster\": false,\n",
            "               \"isDetail\": false\n",
            "            }\n",
            "         ]\n",
            "      }\n",
            "   },\n",
            "   \"eventTimeout\": 2000,\n",
            "   \"eventLabel\": \"MAYLSEW_KMSC10\"\n",
            "}\n",
            "Maybelline\n",
            "197.0\n"
          ],
          "name": "stdout"
        }
      ]
    },
    {
      "cell_type": "code",
      "metadata": {
        "id": "TWf_qP30X2GC"
      },
      "source": [
        "import json\n",
        "r = requests.get('https://www.csfd.cz') "
      ],
      "execution_count": 120,
      "outputs": []
    },
    {
      "cell_type": "code",
      "metadata": {
        "id": "n4our9VGX6OZ",
        "outputId": "edbe00ad-55cd-4be3-fdf5-cb554036ae85",
        "colab": {
          "base_uri": "https://localhost:8080/",
          "height": 35
        }
      },
      "source": [
        "r.text"
      ],
      "execution_count": 121,
      "outputs": [
        {
          "output_type": "execute_result",
          "data": {
            "application/vnd.google.colaboratory.intrinsic+json": {
              "type": "string"
            },
            "text/plain": [
              "''"
            ]
          },
          "metadata": {
            "tags": []
          },
          "execution_count": 121
        }
      ]
    },
    {
      "cell_type": "markdown",
      "metadata": {
        "collapsed": false,
        "pycharm": {
          "name": "#%% md\n"
        },
        "id": "M9ZlCk0z2-PC"
      },
      "source": [
        "### Flask"
      ]
    },
    {
      "cell_type": "code",
      "metadata": {
        "pycharm": {
          "name": "#%%\n"
        },
        "id": "4Q7FNvsK2-PC"
      },
      "source": [
        "!pip install flask"
      ],
      "execution_count": null,
      "outputs": []
    },
    {
      "cell_type": "code",
      "metadata": {
        "pycharm": {
          "name": "#%%\n"
        },
        "id": "IQcMAeW12-PF"
      },
      "source": [
        "# export FLASK_APP=server.py; python -m flask run"
      ],
      "execution_count": null,
      "outputs": []
    },
    {
      "cell_type": "markdown",
      "metadata": {
        "collapsed": false,
        "pycharm": {
          "name": "#%% md\n"
        },
        "id": "ot6J5f7P2-PH"
      },
      "source": [
        "### Postman\n",
        "\n",
        "# Where to go next\n",
        "\n",
        " * https://www.edx.org/ (can be free)\n",
        " * https://www.coursera.org/ (can be free)\n",
        " * https://www.udemy.com/ (paid - \"big sales\")\n",
        " * https://www.udacity.com/ (can be free)\n",
        " * Engeto\n",
        " * https://www.kaggle.com/"
      ]
    },
    {
      "cell_type": "markdown",
      "metadata": {
        "collapsed": false,
        "pycharm": {
          "name": "#%% md\n"
        },
        "id": "vQLvR6A52-PH"
      },
      "source": [
        "[Scikit learn](https://scikit-learn.org/stable/auto_examples/classification/plot_digits_classification.html#sphx-glr-auto-examples-classification-plot-digits-classification-py)"
      ]
    },
    {
      "cell_type": "code",
      "metadata": {
        "pycharm": {
          "name": "#%%\n"
        },
        "id": "f2Vn1omk2-PI",
        "outputId": "f5a7a16e-484b-42f4-f0af-8b54b844cd1b",
        "colab": {
          "base_uri": "https://localhost:8080/",
          "height": 221
        }
      },
      "source": [
        "!pip install matplotlib\n",
        "!pip install sklearn"
      ],
      "execution_count": 122,
      "outputs": [
        {
          "output_type": "stream",
          "text": [
            "Requirement already satisfied: matplotlib in /usr/local/lib/python3.6/dist-packages (3.2.2)\n",
            "Requirement already satisfied: numpy>=1.11 in /usr/local/lib/python3.6/dist-packages (from matplotlib) (1.18.5)\n",
            "Requirement already satisfied: python-dateutil>=2.1 in /usr/local/lib/python3.6/dist-packages (from matplotlib) (2.8.1)\n",
            "Requirement already satisfied: pyparsing!=2.0.4,!=2.1.2,!=2.1.6,>=2.0.1 in /usr/local/lib/python3.6/dist-packages (from matplotlib) (2.4.7)\n",
            "Requirement already satisfied: kiwisolver>=1.0.1 in /usr/local/lib/python3.6/dist-packages (from matplotlib) (1.2.0)\n",
            "Requirement already satisfied: cycler>=0.10 in /usr/local/lib/python3.6/dist-packages (from matplotlib) (0.10.0)\n",
            "Requirement already satisfied: six>=1.5 in /usr/local/lib/python3.6/dist-packages (from python-dateutil>=2.1->matplotlib) (1.15.0)\n",
            "Requirement already satisfied: sklearn in /usr/local/lib/python3.6/dist-packages (0.0)\n",
            "Requirement already satisfied: scikit-learn in /usr/local/lib/python3.6/dist-packages (from sklearn) (0.22.2.post1)\n",
            "Requirement already satisfied: numpy>=1.11.0 in /usr/local/lib/python3.6/dist-packages (from scikit-learn->sklearn) (1.18.5)\n",
            "Requirement already satisfied: joblib>=0.11 in /usr/local/lib/python3.6/dist-packages (from scikit-learn->sklearn) (0.16.0)\n",
            "Requirement already satisfied: scipy>=0.17.0 in /usr/local/lib/python3.6/dist-packages (from scikit-learn->sklearn) (1.4.1)\n"
          ],
          "name": "stdout"
        }
      ]
    },
    {
      "cell_type": "code",
      "metadata": {
        "pycharm": {
          "name": "#%%\n"
        },
        "id": "PT3OLkSI2-PK",
        "outputId": "59afe666-de19-4097-de33-ce00ac87d29f",
        "colab": {
          "base_uri": "https://localhost:8080/",
          "height": 1000
        }
      },
      "source": [
        "\n",
        "# Author: Gael Varoquaux <gael dot varoquaux at normalesup dot org>\n",
        "# License: BSD 3 clause\n",
        "\n",
        "# Standard scientific Python imports\n",
        "import matplotlib.pyplot as plt\n",
        "\n",
        "# Import datasets, classifiers and performance metrics\n",
        "from sklearn import datasets, svm, metrics\n",
        "from sklearn.model_selection import train_test_split\n",
        "\n",
        "# The digits dataset\n",
        "digits = datasets.load_digits()\n",
        "\n",
        "# The data that we are interested in is made of 8x8 images of digits, let's\n",
        "# have a look at the first 4 images, stored in the `images` attribute of the\n",
        "# dataset.  If we were working from image files, we could load them using\n",
        "# matplotlib.pyplot.imread.  Note that each image must have the same size. For these\n",
        "# images, we know which digit they represent: it is given in the 'target' of\n",
        "# the dataset.\n",
        "_, axes = plt.subplots(2, 4)\n",
        "images_and_labels = list(zip(digits.images, digits.target))\n",
        "for ax, (image, label) in zip(axes[0, :], images_and_labels[:4]):\n",
        "    ax.set_axis_off()\n",
        "    ax.imshow(image, cmap=plt.cm.gray_r, interpolation='nearest')\n",
        "    ax.set_title('Training: %i' % label)\n",
        "\n",
        "# To apply a classifier on this data, we need to flatten the image, to\n",
        "# turn the data in a (samples, feature) matrix:\n",
        "n_samples = len(digits.images)\n",
        "data = digits.images.reshape((n_samples, -1))\n",
        "\n",
        "# Create a classifier: a support vector classifier\n",
        "classifier = svm.SVC(gamma=0.001)\n",
        "\n",
        "# Split data into train and test subsets\n",
        "X_train, X_test, y_train, y_test = train_test_split(\n",
        "    data, digits.target, test_size=0.5, shuffle=False)\n",
        "\n",
        "# We learn the digits on the first half of the digits\n",
        "classifier.fit(X_train, y_train)\n",
        "\n",
        "# Now predict the value of the digit on the second half:\n",
        "predicted = classifier.predict(X_test)\n",
        "\n",
        "images_and_predictions = list(zip(digits.images[n_samples // 2:], predicted))\n",
        "for ax, (image, prediction) in zip(axes[1, :], images_and_predictions[:4]):\n",
        "    ax.set_axis_off()\n",
        "    ax.imshow(image, cmap=plt.cm.gray_r, interpolation='nearest')\n",
        "    ax.set_title('Prediction: %i' % prediction)\n",
        "\n",
        "print(\"Classification report for classifier %s:\\n%s\\n\"\n",
        "      % (classifier, metrics.classification_report(y_test, predicted)))\n",
        "disp = metrics.plot_confusion_matrix(classifier, X_test, y_test)\n",
        "disp.figure_.suptitle(\"Confusion Matrix\")\n",
        "print(\"Confusion matrix:\\n%s\" % disp.confusion_matrix)\n",
        "\n",
        "plt.show()"
      ],
      "execution_count": 123,
      "outputs": [
        {
          "output_type": "stream",
          "text": [
            "Classification report for classifier SVC(C=1.0, break_ties=False, cache_size=200, class_weight=None, coef0=0.0,\n",
            "    decision_function_shape='ovr', degree=3, gamma=0.001, kernel='rbf',\n",
            "    max_iter=-1, probability=False, random_state=None, shrinking=True,\n",
            "    tol=0.001, verbose=False):\n",
            "              precision    recall  f1-score   support\n",
            "\n",
            "           0       1.00      0.99      0.99        88\n",
            "           1       0.99      0.97      0.98        91\n",
            "           2       0.99      0.99      0.99        86\n",
            "           3       0.98      0.87      0.92        91\n",
            "           4       0.99      0.96      0.97        92\n",
            "           5       0.95      0.97      0.96        91\n",
            "           6       0.99      0.99      0.99        91\n",
            "           7       0.96      0.99      0.97        89\n",
            "           8       0.94      1.00      0.97        88\n",
            "           9       0.93      0.98      0.95        92\n",
            "\n",
            "    accuracy                           0.97       899\n",
            "   macro avg       0.97      0.97      0.97       899\n",
            "weighted avg       0.97      0.97      0.97       899\n",
            "\n",
            "\n",
            "Confusion matrix:\n",
            "[[87  0  0  0  1  0  0  0  0  0]\n",
            " [ 0 88  1  0  0  0  0  0  1  1]\n",
            " [ 0  0 85  1  0  0  0  0  0  0]\n",
            " [ 0  0  0 79  0  3  0  4  5  0]\n",
            " [ 0  0  0  0 88  0  0  0  0  4]\n",
            " [ 0  0  0  0  0 88  1  0  0  2]\n",
            " [ 0  1  0  0  0  0 90  0  0  0]\n",
            " [ 0  0  0  0  0  1  0 88  0  0]\n",
            " [ 0  0  0  0  0  0  0  0 88  0]\n",
            " [ 0  0  0  1  0  1  0  0  0 90]]\n"
          ],
          "name": "stdout"
        },
        {
          "output_type": "display_data",
          "data": {
            "image/png": "[encoded data removed]",
            "text/plain": [
              "<Figure size 432x288 with 8 Axes>"
            ]
          },
          "metadata": {
            "tags": [],
            "needs_background": "light"
          }
        },
        {
          "output_type": "display_data",
          "data": {
            "image/png": "[encoded data removed]",
            "text/plain": [
              "<Figure size 432x288 with 2 Axes>"
            ]
          },
          "metadata": {
            "tags": [],
            "needs_background": "light"
          }
        }
      ]
    },
    {
      "cell_type": "code",
      "metadata": {
        "id": "x04pEYHPdoA7"
      },
      "source": [
        "a = [[3,2,131]]"
      ],
      "execution_count": null,
      "outputs": []
    },
    {
      "cell_type": "code",
      "metadata": {
        "pycharm": {
          "name": "#%%\n"
        },
        "id": "K9qBVFhP2-PM",
        "outputId": "67d95117-900f-4626-db12-27293d16de7a",
        "colab": {
          "base_uri": "https://localhost:8080/",
          "height": 320
        }
      },
      "source": [
        "\n",
        "# Code source: Jaques Grobler\n",
        "# License: BSD 3 clause\n",
        "\n",
        "\n",
        "import matplotlib.pyplot as plt\n",
        "import numpy as np\n",
        "from sklearn import datasets, linear_model\n",
        "from sklearn.metrics import mean_squared_error, r2_score\n",
        "\n",
        "# Load the diabetes dataset\n",
        "diabetes_X, diabetes_y = datasets.load_diabetes(return_X_y=True)\n",
        "\n",
        "# Use only one feature\n",
        "diabetes_X = diabetes_X[:, np.newaxis, 2]\n",
        "\n",
        "# Split the data into training/testing sets\n",
        "diabetes_X_train = diabetes_X[:-20]\n",
        "diabetes_X_test = diabetes_X[-20:]\n",
        "\n",
        "# Split the targets into training/testing sets\n",
        "diabetes_y_train = diabetes_y[:-20]\n",
        "diabetes_y_test = diabetes_y[-20:]\n",
        "\n",
        "# Create linear regression object\n",
        "regr = linear_model.LinearRegression()\n",
        "\n",
        "# Train the model using the training sets\n",
        "regr.fit(diabetes_X_train, diabetes_y_train)\n",
        "\n",
        "# Make predictions using the testing set\n",
        "diabetes_y_pred = regr.predict(diabetes_X_test)\n",
        "\n",
        "# The coefficients\n",
        "print('Coefficients: \\n', regr.coef_)\n",
        "# The mean squared error\n",
        "print('Mean squared error: %.2f'\n",
        "      % mean_squared_error(diabetes_y_test, diabetes_y_pred))\n",
        "# The coefficient of determination: 1 is perfect prediction\n",
        "print('Coefficient of determination: %.2f'\n",
        "      % r2_score(diabetes_y_test, diabetes_y_pred))\n",
        "\n",
        "# Plot outputs\n",
        "plt.scatter(diabetes_X_test, diabetes_y_test,  color='black')\n",
        "plt.plot(diabetes_X_test, diabetes_y_pred, color='blue', linewidth=3)\n",
        "\n",
        "plt.xticks(())\n",
        "plt.yticks(())\n",
        "\n",
        "plt.show()"
      ],
      "execution_count": 124,
      "outputs": [
        {
          "output_type": "stream",
          "text": [
            "Coefficients: \n",
            " [938.23786125]\n",
            "Mean squared error: 2548.07\n",
            "Coefficient of determination: 0.47\n"
          ],
          "name": "stdout"
        },
        {
          "output_type": "display_data",
          "data": {
            "image/png": "[encoded data removed]",
            "text/plain": [
              "<Figure size 432x288 with 1 Axes>"
            ]
          },
          "metadata": {
            "tags": []
          }
        }
      ]
    },
    {
      "cell_type": "code",
      "metadata": {
        "pycharm": {
          "name": "#%%\n"
        },
        "id": "3gZ-PqTb2-PO",
        "outputId": "e6710fe6-71d8-4bae-82a8-b39f1284f611",
        "colab": {
          "base_uri": "https://localhost:8080/",
          "height": 1000
        }
      },
      "source": [
        "import requests\n",
        "from bs4 import BeautifulSoup as BS\n",
        "\n",
        "DATE_FORMAT = '%d.%m.%Y %H:%M'\n",
        "URL = \"https://novinky.cz\"\n",
        "\n",
        "r = requests.get(URL)\n",
        "soup = BS(r.text, \"html.parser\")\n",
        "titles = soup.find_all('h3')\n",
        "\n",
        "list(map(lambda x: x.text, titles))"
      ],
      "execution_count": 125,
      "outputs": [
        {
          "output_type": "execute_result",
          "data": {
            "text/plain": [
              "['Hlavní navigace',\n",
              " 'Čísla z\\xa0Izraele po lockdownu se s\\xa0Českem vůbec nedají srovnat',\n",
              " 'Nouzový stav až do prosince? Vláda rozhodne v\\xa0úterý',\n",
              " 'Brusel zpřísnil omezení, Belgičané kritizují nesoulad úřadů',\n",
              " 'Zpřísní se ještě opatření? Čekáme na tiskovou konferenci vlády',\n",
              " 'Očima Saši Mitrofanova: Zemanova volba',\n",
              " 'ON-LINE: Nejhorší neděle od začátku pandemie. K\\xa0rekordu má nakročeno i\\xa0pondělí',\n",
              " 'Pád člověka pod metro: ',\n",
              " 'Psychiatrička se kvůli druhé vlně přeškolila na ventilátor',\n",
              " 'Zemřel básník Zeno Kaprál',\n",
              " 'Českou penzistku a\\xa0jejího syna na Slovensku stíhají kvůli padělání eur',\n",
              " 'Netolický je potřetí hejtmanem Pardubického kraje, omluvil se zastupitelům ANO',\n",
              " 'Koalice v\\xa0Olomouckém kraji podepsala smlouvu',\n",
              " 'Šlechtová chce konec Faltýnka v\\xa0čele klubu ANO, dalším osloveným nevadí',\n",
              " 'Klub na Přerovsku fungoval pro členy dál, navzdory opatřením',\n",
              " 'Muže při vykládce v\\xa0Praze zavalily skruže',\n",
              " 'Horkou vodou a\\xa0nožem zaútočil na dvojici na ubytovně, dostal 15 let',\n",
              " 'Slovenský blogger varoval před covidem, o\\xa0šest hodin později na něj zemřel',\n",
              " 'Historický zlom? Bidena by do Bílého domu mohl poslat Texas',\n",
              " 'V\\xa0Británii bude v\\xa0prodeji rychlotest na covid-19, výsledek má být do 12 minut',\n",
              " 'Britský student chce žalovat policii. Překazila mu koronapárty',\n",
              " 'Britské soudy mohou nařídit nošení náramků, které sledují, zda pijete alkohol',\n",
              " 'Kropenky v\\xa0kostelech kvůli covidu dokropily. Němečtí kněží pořizují dávkovače',\n",
              " 'Vláda prodloužila Antivirus B\\xa0do konce roku',\n",
              " 'Británie uzavřela první pobrexitovou obchodní dohodu',\n",
              " 'Z\\xa0Ostravy se nově létá pravidelnou linkou do Varšavy',\n",
              " 'Přehledně: Jak stát pomůže lidem a\\xa0firmám',\n",
              " 'Pandemie změnila preference zaměstnanců, chtějí flexibilitu',\n",
              " 'Klienti se přesouvají do onlinu, velké banky zavírají pobočky',\n",
              " 'Rodinný dům Dreslerových svou podobou pobouřil úředníka. Pro mnohé se ale stal inspirací',\n",
              " 'Moderní baterie mohou být nejen velmi hygienické, ale hlavně úsporné',\n",
              " 'Školní budova urazila přes šedesát metrů, aby dosedla na své nové místo',\n",
              " 'Většina muzikantů zatím žije z\\xa0úspor, jiní pracují ve skladu, vyřezávají či malují',\n",
              " 'Kupředu plout, volá Radůza se symfoniky ',\n",
              " 'Točí film o\\xa0Kunderovi. Jenže spisovatel s\\xa0ním nemluví',\n",
              " 'Domácí lékař Hitlerových? Lidumilný Žid z\\xa0jižních Čech',\n",
              " 'Zdrcení Franz Josef a\\xa0Sissi. Korunní princezna Stefanie však manželovu sebevraždu uvítala',\n",
              " 'Ike, klidný expert na tanky. Od narození 34. prezidenta USA uplynulo 130 let',\n",
              " 'Žena udělala ze své alopecie přednost, stala se z\\xa0ní modelka',\n",
              " 'Inovativní móda nemusí být vždy ekologičtější',\n",
              " 'Děti by si měly projít vlastním neúspěchem',\n",
              " 'KOMENTÁŘ: Ztráta důvěry – Jiří Pehe',\n",
              " 'Očima Saši Mitrofanova: Doba seriálová přechází v\\xa0dobu biblickou',\n",
              " 'KOMENTÁŘ: Salámová cesta vlády do háje – Thomas Kulidakis',\n",
              " 'Tělesně postižené děti bez asistentů?',\n",
              " 'Malý asteroid 2018 VP1 by příští týden mohl narazit do Země',\n",
              " 'Roskosmos vyvíjí vesmírný jaderný remorkér',\n",
              " 'Ticho, prázdno a\\xa0nejistota. Muzea optimismem nehýří',\n",
              " 'Zlatý vrch je přírodním skvostem Lužických hor',\n",
              " 'Krizi ze středočeských památek odolaly jen Žebrák a\\xa0Krakovec',\n",
              " 'Šikovná USB flashka má dva konce, rozumí si s\\xa0mobily i\\xa0PC',\n",
              " 'Chytrý reproduktor ukryli do koule. Češi si ho ale nekoupí',\n",
              " 'Počítačové viry se zaměřují na krádeže hesel',\n",
              " 'Francie plánuje zdanit těžká auta kvůli emisím, ale ne všechna',\n",
              " 'Fiat končí spolupráci s\\xa0Renaultem. Připravuje se dodávkový gigant, kterého se EU obává',\n",
              " 'Tři místa, kde nejspíše srazíte srnu nebo divočáka',\n",
              " 'Kancelář, která nemá obdoby. Rušit vás rozhodně nikdo nebude',\n",
              " 'Restauratér jednoduchým trikem obešel vládní nařízení',\n",
              " 'Udělejte z\\xa0lockdownu výhodu. Zábava číhá přímo u\\xa0vás doma',\n",
              " 'Malík je pozitivní, uklízet po Berbrovi bude pomocí videokonference',\n",
              " 'Předseda LFA Svoboda má obavy, že fotbalová liga tento víkend ještě nezačne',\n",
              " 'Rekordman Hamilton: Stovka? To je strašně daleko, ale cítím se skvěle, mohu na špici jezdit do čtyřiceti',\n",
              " 'Čorič i Anderson ve Vídni postupují, Monfils vzdal',\n",
              " 'Výběr článků']"
            ]
          },
          "metadata": {
            "tags": []
          },
          "execution_count": 125
        }
      ]
    },
    {
      "cell_type": "markdown",
      "metadata": {
        "collapsed": false,
        "pycharm": {
          "name": "#%% md\n"
        },
        "id": "cFIELWya2-PQ"
      },
      "source": [
        "#### IDEA what to do next:\n",
        "\n",
        "NER + Sentiment -> Prediction about future behavior\n",
        "\n"
      ]
    },
    {
      "cell_type": "markdown",
      "metadata": {
        "id": "n3zPos_13CpP"
      },
      "source": [
        "## Plotly"
      ]
    },
    {
      "cell_type": "code",
      "metadata": {
        "id": "ZafEW-0c3Dp_",
        "outputId": "89180b36-0f2e-4cc7-bd2b-caa9571025f9",
        "colab": {
          "base_uri": "https://localhost:8080/",
          "height": 68
        }
      },
      "source": [
        "! pip install plotly"
      ],
      "execution_count": 126,
      "outputs": [
        {
          "output_type": "stream",
          "text": [
            "Requirement already satisfied: plotly in /usr/local/lib/python3.6/dist-packages (4.4.1)\n",
            "Requirement already satisfied: retrying>=1.3.3 in /usr/local/lib/python3.6/dist-packages (from plotly) (1.3.3)\n",
            "Requirement already satisfied: six in /usr/local/lib/python3.6/dist-packages (from plotly) (1.15.0)\n"
          ],
          "name": "stdout"
        }
      ]
    },
    {
      "cell_type": "code",
      "metadata": {
        "id": "mlz4odpD3Koe"
      },
      "source": [
        "with open(\"oos.tsv\", \"r\") as f:\n",
        "    data = list(map(lambda x: (*x.strip().split(\"\\t\"),), f.readlines()))\n",
        "\n",
        "\n",
        "y_train = [x[1] for x in data if x[2] == \"train\"]\n",
        "y_valid = [x[1] for x in data if x[2] == \"val\"]\n",
        "y_test = [x[1] for x in data if x[2] == \"test\"]\n",
        "\n",
        "label_train = [x[0] for x in data if x[2] == \"train\"]\n",
        "label_valid = [x[0] for x in data if x[2] == \"val\"]\n",
        "label_test = [x[0] for x in data if x[2] == \"test\"]"
      ],
      "execution_count": 127,
      "outputs": []
    },
    {
      "cell_type": "markdown",
      "metadata": {
        "id": "oGpgZoLlzS9-"
      },
      "source": [
        " https://pandas.pydata.org/pandas-docs/stable/user_guide/dsintro.html"
      ]
    },
    {
      "cell_type": "code",
      "metadata": {
        "id": "FqaMQnM43NEH"
      },
      "source": [
        "import pandas as pd\n",
        "df = pd.DataFrame(data, columns=[\"text\", \"intent\", \"datasets\"])"
      ],
      "execution_count": 128,
      "outputs": []
    },
    {
      "cell_type": "code",
      "metadata": {
        "id": "hQJtxJ1DzRj6",
        "outputId": "49974752-556e-4cd8-af8b-14af8a80fb56",
        "colab": {
          "base_uri": "https://localhost:8080/",
          "height": 419
        }
      },
      "source": [
        "df"
      ],
      "execution_count": 129,
      "outputs": [
        {
          "output_type": "execute_result",
          "data": {
            "text/html": [
              "<div>\n",
              "<style scoped>\n",
              "    .dataframe tbody tr th:only-of-type {\n",
              "        vertical-align: middle;\n",
              "    }\n",
              "\n",
              "    .dataframe tbody tr th {\n",
              "        vertical-align: top;\n",
              "    }\n",
              "\n",
              "    .dataframe thead th {\n",
              "        text-align: right;\n",
              "    }\n",
              "</style>\n",
              "<table border=\"1\" class=\"dataframe\">\n",
              "  <thead>\n",
              "    <tr style=\"text-align: right;\">\n",
              "      <th></th>\n",
              "      <th>text</th>\n",
              "      <th>intent</th>\n",
              "      <th>datasets</th>\n",
              "    </tr>\n",
              "  </thead>\n",
              "  <tbody>\n",
              "    <tr>\n",
              "      <th>0</th>\n",
              "      <td>set a warning for when my bank account starts ...</td>\n",
              "      <td>oos</td>\n",
              "      <td>val</td>\n",
              "    </tr>\n",
              "    <tr>\n",
              "      <th>1</th>\n",
              "      <td>a show on broadway</td>\n",
              "      <td>oos</td>\n",
              "      <td>val</td>\n",
              "    </tr>\n",
              "    <tr>\n",
              "      <th>2</th>\n",
              "      <td>who has the best record in the nfl</td>\n",
              "      <td>oos</td>\n",
              "      <td>val</td>\n",
              "    </tr>\n",
              "    <tr>\n",
              "      <th>3</th>\n",
              "      <td>how do i find the area of a circle</td>\n",
              "      <td>oos</td>\n",
              "      <td>val</td>\n",
              "    </tr>\n",
              "    <tr>\n",
              "      <th>4</th>\n",
              "      <td>how many onions do i have on hand</td>\n",
              "      <td>oos</td>\n",
              "      <td>val</td>\n",
              "    </tr>\n",
              "    <tr>\n",
              "      <th>...</th>\n",
              "      <td>...</td>\n",
              "      <td>...</td>\n",
              "      <td>...</td>\n",
              "    </tr>\n",
              "    <tr>\n",
              "      <th>23695</th>\n",
              "      <td>what percentage of species display cold bloode...</td>\n",
              "      <td>oos</td>\n",
              "      <td>train</td>\n",
              "    </tr>\n",
              "    <tr>\n",
              "      <th>23696</th>\n",
              "      <td>what does it mean to be an alpha male</td>\n",
              "      <td>oos</td>\n",
              "      <td>train</td>\n",
              "    </tr>\n",
              "    <tr>\n",
              "      <th>23697</th>\n",
              "      <td>what animals have alpha males</td>\n",
              "      <td>oos</td>\n",
              "      <td>train</td>\n",
              "    </tr>\n",
              "    <tr>\n",
              "      <th>23698</th>\n",
              "      <td>why do males want to be alpha</td>\n",
              "      <td>oos</td>\n",
              "      <td>train</td>\n",
              "    </tr>\n",
              "    <tr>\n",
              "      <th>23699</th>\n",
              "      <td>what's the average battery life of an android ...</td>\n",
              "      <td>oos</td>\n",
              "      <td>train</td>\n",
              "    </tr>\n",
              "  </tbody>\n",
              "</table>\n",
              "<p>23700 rows × 3 columns</p>\n",
              "</div>"
            ],
            "text/plain": [
              "                                                    text intent datasets\n",
              "0      set a warning for when my bank account starts ...    oos      val\n",
              "1                                     a show on broadway    oos      val\n",
              "2                     who has the best record in the nfl    oos      val\n",
              "3                     how do i find the area of a circle    oos      val\n",
              "4                      how many onions do i have on hand    oos      val\n",
              "...                                                  ...    ...      ...\n",
              "23695  what percentage of species display cold bloode...    oos    train\n",
              "23696              what does it mean to be an alpha male    oos    train\n",
              "23697                      what animals have alpha males    oos    train\n",
              "23698                      why do males want to be alpha    oos    train\n",
              "23699  what's the average battery life of an android ...    oos    train\n",
              "\n",
              "[23700 rows x 3 columns]"
            ]
          },
          "metadata": {
            "tags": []
          },
          "execution_count": 129
        }
      ]
    },
    {
      "cell_type": "code",
      "metadata": {
        "id": "iEWSEZT43PN5",
        "outputId": "c051a52e-5b21-4917-8cf3-d8c1082b54c5",
        "colab": {
          "base_uri": "https://localhost:8080/",
          "height": 542
        }
      },
      "source": [
        "import plotly.express as px\n",
        "\n",
        "df[\"wordCnt\"] = df[\"text\"].apply(lambda x: len(x.split()))\n",
        "fig = px.histogram(df, x=\"wordCnt\")\n",
        "fig.show()"
      ],
      "execution_count": 130,
      "outputs": [
        {
          "output_type": "display_data",
          "data": {
            "text/html": [
              "<html>\n",
              "<head><meta charset=\"utf-8\" /></head>\n",
              "<body>\n",
              "    <div>\n",
              "            <script src=\"https://cdnjs.cloudflare.com/ajax/libs/mathjax/2.7.5/MathJax.js?config=TeX-AMS-MML_SVG\"></script><script type=\"text/javascript\">if (window.MathJax) {MathJax.Hub.Config({SVG: {font: \"STIX-Web\"}});}</script>\n",
              "                <script type=\"text/javascript\">window.PlotlyConfig = {MathJaxConfig: 'local'};</script>\n",
              "        <script src=\"https://cdn.plot.ly/plotly-latest.min.js\"></script>    \n",
              "            <div id=\"eb4c33ad-2247-4f23-9558-6e7d873515b7\" class=\"plotly-graph-div\" style=\"height:525px; width:100%;\"></div>\n",
              "            <script type=\"text/javascript\">\n",
              "                \n",
              "                    window.PLOTLYENV=window.PLOTLYENV || {};\n",
              "                    \n",
              "                if (document.getElementById(\"eb4c33ad-2247-4f23-9558-6e7d873515b7\")) {\n",
              "                    Plotly.newPlot(\n",
              "                        'eb4c33ad-2247-4f23-9558-6e7d873515b7',\n",
              "                        [{\"alignmentgroup\": \"True\", \"bingroup\": \"x\", \"hoverlabel\": {\"namelength\": 0}, \"hovertemplate\": \"wordCnt=%{x}<br>count=%{y}\", \"legendgroup\": \"\", \"marker\": {\"color\": \"#636efa\"}, \"name\": \"\", \"offsetgroup\": \"\", \"orientation\": \"v\", \"showlegend\": false, \"type\": \"histogram\", \"x\": [11, 4, 8, 9, 8, 8, 7, 22, 6, 7, 6, 5, 5, 5, 7, 9, 11, 11, 7, 9, 10, 5, 5, 8, 10, 7, 5, 3, 9, 6, 10, 5, 3, 11, 9, 7, 7, 3, 1, 12, 6, 5, 4, 9, 6, 4, 10, 8, 5, 6, 4, 5, 6, 3, 9, 9, 10, 8, 7, 13, 8, 8, 6, 7, 8, 4, 8, 9, 6, 4, 8, 6, 5, 5, 5, 9, 9, 8, 8, 12, 8, 4, 7, 5, 4, 3, 10, 10, 7, 5, 10, 9, 8, 6, 8, 7, 7, 7, 5, 5, 8, 9, 7, 9, 9, 7, 8, 8, 8, 10, 10, 10, 7, 8, 10, 10, 9, 10, 9, 8, 14, 21, 18, 15, 16, 9, 7, 6, 10, 8, 10, 13, 15, 16, 15, 9, 15, 15, 14, 12, 4, 7, 6, 10, 9, 8, 7, 6, 7, 10, 7, 6, 12, 11, 8, 7, 6, 7, 6, 10, 10, 7, 6, 8, 6, 4, 5, 4, 6, 5, 6, 4, 5, 4, 5, 4, 7, 7, 8, 6, 10, 11, 9, 6, 9, 8, 8, 4, 8, 9, 10, 8, 6, 10, 9, 4, 9, 8, 8, 5, 7, 7, 9, 6, 10, 12, 9, 13, 12, 12, 7, 6, 7, 10, 9, 10, 9, 9, 8, 8, 7, 7, 8, 6, 7, 7, 8, 5, 8, 4, 7, 5, 9, 5, 5, 7, 4, 6, 6, 10, 5, 6, 9, 10, 10, 8, 7, 15, 7, 10, 7, 8, 10, 9, 7, 7, 7, 13, 7, 7, 8, 9, 10, 11, 10, 9, 8, 13, 8, 19, 15, 11, 10, 18, 16, 9, 7, 10, 8, 9, 9, 6, 11, 10, 9, 11, 8, 7, 11, 9, 9, 12, 13, 10, 13, 15, 9, 11, 10, 10, 7, 7, 8, 8, 7, 6, 6, 7, 7, 7, 9, 6, 8, 5, 5, 5, 5, 7, 6, 4, 4, 4, 7, 8, 10, 3, 8, 6, 4, 4, 2, 2, 2, 2, 2, 7, 9, 7, 7, 5, 7, 6, 7, 6, 5, 9, 7, 8, 6, 6, 8, 7, 9, 9, 6, 11, 9, 5, 4, 8, 10, 11, 12, 9, 15, 16, 15, 14, 14, 15, 12, 17, 20, 12, 9, 13, 9, 8, 7, 12, 6, 7, 6, 3, 6, 8, 8, 6, 6, 8, 8, 8, 10, 9, 7, 3, 7, 9, 7, 4, 10, 10, 10, 8, 11, 8, 7, 9, 7, 14, 8, 11, 13, 12, 13, 11, 8, 11, 8, 12, 7, 6, 9, 9, 8, 8, 6, 8, 8, 5, 6, 9, 7, 9, 8, 8, 7, 6, 9, 5, 4, 9, 6, 8, 8, 4, 4, 4, 7, 3, 7, 4, 3, 5, 4, 6, 7, 4, 8, 16, 6, 12, 8, 9, 15, 6, 7, 6, 4, 5, 4, 4, 6, 3, 6, 4, 5, 4, 7, 3, 6, 7, 6, 6, 7, 6, 5, 5, 8, 7, 3, 8, 5, 8, 4, 5, 4, 4, 5, 4, 20, 16, 11, 14, 15, 10, 13, 9, 9, 13, 13, 13, 14, 14, 14, 14, 13, 14, 13, 10, 7, 9, 10, 9, 9, 6, 5, 7, 6, 8, 6, 8, 8, 8, 7, 7, 9, 7, 7, 7, 6, 8, 8, 1, 3, 5, 2, 7, 8, 4, 4, 3, 5, 3, 5, 8, 2, 1, 7, 3, 6, 5, 7, 6, 21, 11, 8, 13, 17, 17, 21, 18, 15, 12, 14, 13, 14, 8, 9, 11, 15, 19, 16, 16, 16, 9, 8, 11, 14, 8, 10, 12, 15, 13, 14, 13, 14, 10, 7, 13, 10, 4, 7, 10, 8, 8, 12, 18, 10, 13, 17, 14, 18, 14, 22, 12, 15, 10, 8, 13, 9, 8, 7, 10, 15, 16, 16, 16, 16, 16, 8, 6, 10, 12, 9, 20, 15, 19, 19, 15, 8, 5, 8, 6, 10, 9, 9, 10, 10, 15, 12, 16, 9, 12, 13, 10, 12, 11, 11, 6, 4, 4, 6, 6, 6, 8, 9, 7, 7, 6, 14, 13, 13, 18, 15, 6, 5, 6, 3, 4, 4, 7, 6, 7, 5, 7, 5, 4, 3, 4, 3, 3, 8, 5, 3, 3, 3, 4, 4, 8, 8, 5, 8, 12, 9, 10, 9, 12, 15, 13, 11, 10, 11, 7, 9, 8, 13, 14, 16, 11, 6, 6, 7, 4, 4, 6, 4, 8, 6, 5, 8, 7, 5, 6, 6, 7, 9, 7, 9, 6, 6, 5, 7, 5, 5, 7, 7, 7, 7, 7, 7, 8, 6, 7, 6, 5, 5, 3, 5, 5, 12, 11, 12, 12, 12, 6, 7, 8, 6, 5, 9, 9, 9, 6, 7, 3, 7, 8, 11, 8, 6, 6, 6, 5, 10, 8, 10, 8, 5, 14, 13, 9, 7, 8, 9, 11, 13, 8, 6, 7, 7, 7, 6, 5, 7, 8, 12, 7, 7, 6, 12, 9, 15, 10, 13, 8, 9, 8, 8, 9, 7, 7, 10, 8, 7, 10, 9, 8, 7, 7, 8, 10, 10, 7, 11, 7, 11, 10, 10, 10, 8, 11, 10, 11, 7, 9, 3, 6, 5, 9, 9, 9, 9, 11, 9, 9, 9, 7, 12, 9, 11, 6, 6, 9, 10, 9, 10, 10, 8, 10, 11, 9, 9, 12, 12, 14, 8, 8, 9, 9, 8, 7, 10, 6, 6, 6, 7, 7, 6, 8, 8, 8, 9, 9, 12, 11, 8, 12, 8, 12, 6, 6, 8, 8, 5, 10, 6, 5, 7, 5, 4, 5, 7, 9, 7, 7, 10, 6, 7, 5, 11, 12, 12, 9, 11, 9, 10, 11, 19, 9, 9, 14, 14, 10, 8, 9, 8, 12, 8, 8, 7, 4, 7, 5, 6, 8, 9, 9, 6, 9, 9, 4, 6, 4, 17, 13, 11, 9, 10, 9, 6, 4, 4, 6, 7, 5, 6, 7, 5, 3, 1, 4, 5, 4, 8, 5, 4, 5, 5, 6, 11, 6, 14, 14, 9, 10, 7, 10, 7, 9, 9, 7, 7, 12, 10, 6, 6, 7, 7, 7, 8, 9, 10, 6, 12, 8, 9, 8, 9, 10, 9, 10, 7, 5, 7, 8, 8, 9, 7, 11, 3, 3, 6, 5, 3, 1, 6, 5, 3, 1, 1, 1, 1, 9, 7, 5, 4, 8, 3, 1, 8, 8, 8, 9, 8, 10, 7, 8, 9, 8, 9, 16, 11, 14, 12, 16, 7, 5, 7, 6, 6, 7, 5, 5, 7, 5, 6, 12, 7, 9, 14, 10, 6, 6, 5, 5, 6, 6, 6, 6, 7, 5, 7, 4, 5, 9, 6, 5, 7, 9, 5, 8, 7, 13, 9, 13, 11, 12, 10, 11, 5, 7, 10, 7, 7, 8, 7, 7, 8, 7, 10, 7, 7, 8, 8, 9, 11, 5, 7, 4, 5, 5, 8, 8, 8, 10, 11, 5, 6, 6, 3, 4, 7, 4, 6, 4, 3, 6, 4, 6, 21, 6, 15, 8, 12, 6, 8, 7, 6, 5, 5, 8, 8, 5, 9, 12, 11, 8, 9, 7, 2, 2, 4, 2, 4, 4, 3, 3, 4, 4, 5, 7, 2, 1, 1, 2, 2, 3, 4, 4, 18, 12, 12, 6, 10, 8, 6, 10, 8, 5, 8, 11, 8, 5, 10, 9, 5, 4, 11, 10, 5, 5, 4, 4, 5, 5, 6, 10, 9, 11, 6, 9, 12, 10, 3, 10, 8, 9, 5, 6, 5, 10, 7, 7, 8, 10, 11, 8, 8, 6, 8, 9, 9, 13, 9, 8, 7, 9, 8, 8, 21, 21, 15, 14, 12, 14, 19, 10, 12, 13, 5, 6, 6, 7, 6, 7, 5, 6, 18, 12, 6, 9, 6, 6, 6, 6, 4, 10, 5, 7, 6, 7, 6, 5, 9, 5, 5, 9, 10, 5, 4, 4, 5, 8, 8, 13, 11, 7, 13, 11, 7, 7, 9, 9, 9, 9, 9, 6, 3, 5, 8, 10, 8, 9, 9, 8, 7, 8, 5, 9, 7, 10, 5, 8, 7, 7, 6, 9, 10, 12, 7, 9, 9, 9, 7, 8, 11, 10, 10, 11, 6, 9, 9, 6, 7, 4, 7, 15, 13, 12, 12, 10, 11, 11, 9, 9, 8, 10, 14, 10, 17, 12, 16, 12, 18, 12, 9, 7, 13, 13, 19, 13, 14, 11, 10, 19, 22, 11, 16, 13, 14, 12, 16, 16, 16, 16, 22, 9, 10, 12, 2, 4, 6, 9, 6, 4, 3, 5, 6, 5, 5, 6, 5, 8, 8, 5, 3, 4, 5, 6, 7, 4, 6, 4, 5, 4, 5, 5, 7, 4, 5, 1, 8, 4, 4, 2, 4, 5, 4, 5, 8, 13, 7, 4, 10, 8, 8, 5, 5, 5, 6, 11, 9, 8, 9, 3, 4, 4, 11, 18, 14, 16, 15, 11, 19, 6, 10, 9, 11, 8, 10, 5, 8, 9, 8, 6, 15, 14, 14, 13, 11, 9, 9, 10, 10, 9, 7, 7, 7, 10, 9, 7, 7, 8, 9, 8, 9, 7, 8, 9, 6, 13, 7, 7, 6, 7, 5, 8, 5, 6, 7, 9, 3, 6, 16, 8, 7, 10, 9, 7, 7, 10, 9, 7, 10, 7, 9, 10, 9, 6, 10, 11, 5, 6, 5, 11, 11, 10, 11, 13, 11, 13, 9, 9, 6, 13, 8, 8, 7, 9, 8, 6, 8, 5, 8, 11, 6, 6, 11, 7, 2, 3, 5, 4, 4, 5, 5, 6, 8, 3, 8, 5, 7, 3, 3, 2, 3, 4, 8, 3, 8, 10, 8, 10, 7, 8, 7, 7, 8, 8, 6, 6, 6, 5, 5, 8, 10, 10, 14, 9, 5, 6, 5, 5, 9, 6, 10, 12, 9, 8, 8, 14, 5, 12, 8, 10, 7, 6, 8, 9, 8, 11, 6, 11, 10, 6, 7, 4, 4, 6, 5, 8, 6, 5, 6, 5, 7, 5, 6, 6, 10, 8, 7, 7, 10, 6, 8, 8, 8, 8, 6, 6, 7, 5, 8, 6, 7, 6, 9, 9, 10, 11, 7, 7, 13, 7, 11, 11, 8, 6, 11, 11, 11, 9, 7, 6, 9, 8, 6, 13, 8, 11, 7, 8, 10, 6, 6, 7, 6, 6, 7, 9, 6, 10, 8, 11, 9, 12, 7, 7, 6, 7, 7, 7, 9, 8, 7, 9, 8, 9, 10, 9, 9, 9, 8, 13, 12, 14, 7, 5, 5, 8, 6, 6, 6, 6, 9, 6, 8, 7, 7, 8, 5, 8, 6, 6, 9, 9, 8, 10, 8, 5, 7, 7, 8, 8, 8, 7, 7, 12, 6, 6, 8, 8, 10, 10, 11, 13, 11, 12, 8, 5, 5, 5, 9, 7, 6, 7, 7, 7, 8, 11, 6, 11, 5, 9, 13, 8, 6, 6, 7, 9, 7, 8, 8, 12, 9, 9, 9, 7, 9, 9, 8, 9, 11, 13, 9, 9, 11, 10, 10, 10, 9, 6, 10, 6, 11, 10, 8, 7, 7, 12, 9, 8, 10, 8, 7, 8, 11, 8, 8, 10, 5, 7, 10, 10, 10, 8, 8, 8, 11, 11, 10, 9, 11, 6, 5, 4, 5, 5, 8, 10, 12, 12, 10, 12, 16, 9, 10, 12, 5, 6, 6, 8, 7, 8, 7, 7, 7, 6, 7, 8, 8, 7, 10, 9, 5, 11, 9, 12, 10, 9, 10, 9, 5, 9, 8, 7, 9, 6, 6, 5, 5, 6, 9, 7, 8, 6, 5, 8, 8, 10, 10, 7, 9, 10, 11, 5, 6, 8, 5, 6, 6, 6, 5, 5, 7, 7, 7, 5, 7, 6, 5, 5, 4, 7, 7, 5, 7, 6, 6, 5, 5, 5, 4, 7, 6, 5, 6, 4, 7, 4, 6, 7, 7, 7, 5, 7, 6, 7, 9, 11, 13, 11, 13, 7, 6, 6, 5, 7, 12, 9, 9, 9, 9, 8, 7, 4, 6, 10, 15, 9, 10, 8, 7, 9, 9, 7, 8, 9, 8, 7, 18, 13, 13, 11, 13, 10, 9, 5, 10, 10, 8, 11, 9, 8, 7, 5, 7, 7, 10, 6, 7, 10, 14, 13, 11, 10, 5, 11, 4, 6, 5, 5, 4, 7, 6, 5, 6, 5, 6, 6, 11, 8, 9, 11, 7, 5, 4, 5, 14, 11, 12, 13, 11, 11, 16, 11, 10, 13, 11, 7, 12, 12, 9, 6, 10, 8, 7, 7, 2, 7, 3, 5, 5, 5, 2, 6, 5, 5, 7, 9, 6, 9, 7, 5, 9, 1, 1, 4, 12, 12, 11, 13, 15, 7, 7, 12, 9, 6, 13, 18, 9, 8, 13, 13, 10, 11, 13, 12, 3, 5, 5, 4, 8, 6, 5, 7, 10, 5, 3, 7, 9, 6, 10, 7, 4, 8, 5, 5, 7, 11, 10, 10, 9, 11, 11, 13, 14, 10, 11, 14, 16, 11, 12, 13, 17, 15, 14, 12, 11, 10, 8, 11, 9, 6, 9, 10, 9, 11, 12, 13, 12, 8, 6, 6, 6, 11, 8, 6, 8, 7, 9, 9, 10, 10, 10, 10, 10, 7, 6, 9, 9, 14, 10, 10, 9, 7, 5, 6, 11, 8, 10, 10, 11, 12, 8, 11, 12, 9, 9, 9, 11, 7, 7, 8, 8, 6, 6, 8, 9, 13, 9, 12, 8, 10, 15, 8, 9, 9, 9, 10, 10, 10, 9, 16, 12, 16, 13, 13, 10, 11, 10, 10, 12, 5, 8, 5, 8, 5, 5, 6, 6, 8, 6, 6, 6, 7, 6, 8, 9, 9, 8, 8, 7, 8, 9, 7, 5, 5, 7, 11, 5, 5, 5, 6, 6, 3, 7, 6, 22, 24, 17, 18, 20, 20, 22, 16, 21, 10, 9, 8, 11, 14, 14, 15, 13, 14, 12, 11, 9, 7, 5, 5, 5, 9, 7, 7, 11, 12, 9, 14, 4, 7, 5, 4, 4, 5, 4, 3, 6, 4, 4, 6, 6, 3, 3, 6, 6, 5, 6, 6, 6, 4, 5, 5, 4, 5, 7, 8, 10, 6, 5, 7, 4, 7, 14, 9, 5, 10, 7, 9, 9, 6, 7, 9, 9, 4, 5, 7, 10, 5, 8, 9, 11, 9, 9, 6, 7, 7, 11, 11, 8, 10, 7, 5, 8, 8, 5, 9, 4, 7, 5, 8, 8, 6, 8, 8, 4, 4, 4, 3, 6, 2, 5, 4, 3, 3, 4, 4, 2, 2, 1, 6, 2, 5, 2, 4, 5, 1, 2, 3, 2, 3, 3, 5, 3, 6, 1, 1, 13, 9, 10, 8, 9, 11, 13, 11, 9, 16, 10, 7, 10, 7, 10, 11, 9, 11, 5, 7, 11, 10, 11, 7, 10, 7, 9, 9, 12, 11, 11, 11, 12, 12, 8, 8, 8, 9, 10, 12, 8, 10, 9, 7, 6, 7, 6, 9, 8, 9, 10, 11, 8, 9, 11, 13, 12, 13, 12, 14, 12, 15, 14, 10, 11, 5, 10, 10, 9, 10, 9, 10, 11, 5, 10, 9, 8, 10, 6, 5, 2, 5, 8, 9, 4, 8, 5, 7, 5, 6, 4, 6, 3, 4, 2, 5, 6, 7, 7, 5, 3, 3, 3, 1, 3, 6, 3, 5, 3, 3, 4, 2, 3, 3, 1, 1, 1, 3, 1, 1, 3, 9, 6, 8, 7, 5, 9, 3, 8, 5, 4, 5, 11, 10, 6, 5, 5, 9, 6, 4, 5, 5, 3, 6, 7, 6, 4, 5, 10, 5, 8, 6, 5, 8, 5, 5, 5, 6, 3, 5, 12, 12, 11, 12, 13, 11, 10, 12, 9, 13, 9, 9, 12, 10, 12, 14, 16, 17, 14, 9, 11, 10, 11, 13, 9, 11, 11, 10, 10, 9, 9, 14, 11, 11, 9, 9, 11, 13, 10, 7, 7, 6, 10, 9, 7, 14, 11, 10, 8, 6, 9, 8, 7, 10, 8, 6, 4, 4, 7, 8, 4, 5, 5, 6, 7, 10, 4, 5, 9, 9, 6, 5, 7, 5, 8, 5, 5, 5, 5, 4, 21, 19, 20, 17, 19, 21, 16, 19, 19, 19, 13, 15, 15, 22, 20, 16, 15, 15, 15, 16, 10, 6, 13, 9, 13, 8, 8, 7, 8, 9, 11, 7, 7, 9, 10, 4, 4, 2, 6, 10, 5, 5, 2, 4, 8, 11, 5, 8, 10, 6, 6, 4, 5, 9, 9, 11, 12, 7, 10, 14, 8, 9, 8, 8, 9, 13, 11, 10, 11, 10, 13, 9, 15, 8, 16, 13, 8, 7, 9, 11, 5, 8, 8, 7, 8, 7, 8, 5, 5, 5, 7, 6, 7, 5, 10, 5, 6, 6, 6, 5, 6, 7, 6, 7, 4, 6, 8, 6, 8, 5, 11, 8, 10, 8, 13, 7, 8, 8, 9, 10, 9, 6, 5, 10, 11, 11, 13, 18, 10, 16, 7, 5, 7, 5, 8, 11, 11, 12, 9, 10, 13, 12, 13, 13, 13, 9, 12, 8, 6, 12, 9, 9, 8, 9, 7, 12, 22, 9, 8, 9, 4, 10, 8, 12, 8, 9, 6, 7, 8, 11, 7, 5, 7, 9, 7, 10, 6, 8, 4, 11, 9, 7, 9, 13, 8, 8, 9, 8, 8, 6, 7, 5, 7, 6, 9, 10, 9, 10, 12, 10, 9, 11, 10, 12, 19, 9, 5, 9, 8, 6, 8, 6, 7, 7, 6, 8, 8, 8, 12, 7, 5, 5, 6, 5, 9, 8, 8, 9, 10, 10, 9, 12, 11, 9, 14, 10, 10, 14, 11, 6, 13, 12, 12, 11, 6, 7, 8, 7, 7, 12, 9, 11, 7, 8, 8, 14, 11, 13, 8, 8, 6, 5, 9, 6, 5, 6, 5, 4, 7, 7, 7, 9, 7, 11, 7, 6, 7, 7, 9, 7, 6, 8, 6, 7, 6, 10, 11, 10, 8, 7, 7, 7, 7, 4, 4, 9, 9, 8, 7, 5, 5, 6, 3, 6, 9, 5, 5, 7, 7, 6, 7, 5, 5, 7, 6, 6, 6, 8, 5, 5, 7, 10, 7, 21, 19, 21, 19, 10, 11, 11, 9, 10, 14, 14, 15, 14, 15, 20, 19, 17, 12, 10, 6, 9, 8, 12, 13, 10, 9, 7, 10, 7, 10, 8, 11, 10, 8, 8, 10, 9, 8, 9, 5, 13, 6, 8, 7, 10, 6, 6, 12, 8, 8, 6, 7, 6, 9, 6, 4, 5, 8, 5, 5, 6, 10, 5, 7, 5, 5, 5, 7, 8, 7, 11, 8, 10, 6, 4, 11, 6, 5, 5, 9, 4, 4, 6, 4, 4, 4, 6, 8, 8, 5, 5, 9, 5, 9, 6, 6, 2, 4, 7, 7, 5, 9, 13, 7, 5, 6, 14, 6, 11, 6, 6, 6, 6, 6, 6, 5, 5, 10, 11, 8, 5, 10, 8, 10, 11, 12, 6, 11, 15, 12, 16, 13, 14, 12, 5, 14, 10, 8, 9, 12, 11, 10, 7, 7, 9, 10, 10, 9, 9, 13, 8, 9, 5, 9, 9, 14, 13, 8, 11, 8, 13, 12, 10, 12, 7, 11, 11, 7, 14, 13, 18, 16, 14, 9, 15, 11, 15, 15, 15, 10, 12, 13, 7, 14, 11, 13, 13, 11, 14, 15, 10, 15, 11, 9, 9, 7, 7, 4, 6, 10, 9, 7, 7, 8, 9, 4, 7, 7, 7, 7, 5, 7, 6, 8, 7, 7, 8, 5, 5, 6, 5, 4, 5, 7, 7, 7, 7, 8, 8, 6, 7, 6, 8, 5, 7, 9, 6, 8, 11, 12, 12, 8, 10, 10, 9, 11, 9, 9, 12, 11, 8, 8, 8, 6, 10, 10, 9, 9, 9, 8, 8, 7, 7, 8, 9, 7, 8, 8, 7, 7, 8, 7, 8, 7, 7, 8, 7, 10, 9, 9, 9, 10, 13, 10, 8, 9, 9, 10, 7, 8, 7, 11, 10, 10, 12, 11, 11, 7, 9, 9, 7, 12, 17, 13, 16, 17, 14, 14, 17, 10, 11, 13, 7, 8, 10, 12, 7, 7, 6, 7, 11, 7, 7, 11, 11, 12, 17, 8, 5, 10, 10, 7, 7, 4, 9, 11, 5, 7, 6, 6, 4, 10, 6, 8, 6, 7, 6, 7, 8, 8, 7, 5, 5, 8, 7, 3, 7, 6, 7, 10, 7, 12, 10, 10, 7, 12, 7, 7, 4, 5, 5, 12, 11, 11, 10, 11, 15, 6, 7, 6, 6, 9, 12, 9, 14, 7, 5, 6, 5, 5, 5, 7, 6, 6, 8, 7, 7, 5, 6, 5, 5, 8, 5, 5, 6, 6, 7, 6, 6, 6, 8, 5, 9, 5, 8, 5, 7, 6, 6, 7, 6, 8, 8, 6, 6, 5, 7, 8, 6, 6, 10, 8, 6, 7, 8, 7, 3, 5, 6, 7, 8, 3, 6, 3, 4, 6, 5, 7, 6, 4, 7, 6, 6, 5, 5, 5, 5, 5, 5, 6, 7, 4, 9, 5, 6, 6, 5, 9, 8, 7, 6, 4, 4, 5, 8, 5, 5, 6, 4, 6, 7, 4, 6, 6, 6, 6, 6, 5, 6, 6, 6, 4, 5, 5, 4, 6, 4, 7, 5, 4, 6, 6, 4, 5, 5, 3, 5, 5, 5, 4, 7, 6, 6, 4, 8, 8, 4, 6, 4, 7, 2, 4, 2, 8, 7, 6, 5, 8, 3, 5, 8, 6, 4, 2, 2, 6, 4, 5, 5, 6, 5, 2, 3, 6, 4, 7, 7, 6, 6, 4, 9, 5, 6, 6, 15, 9, 7, 12, 9, 5, 6, 7, 7, 5, 8, 5, 7, 4, 2, 5, 3, 6, 4, 5, 4, 6, 6, 4, 7, 7, 9, 10, 5, 10, 6, 6, 5, 5, 5, 5, 10, 4, 7, 6, 5, 3, 7, 4, 6, 7, 5, 8, 7, 7, 8, 7, 5, 7, 9, 8, 5, 9, 8, 6, 9, 9, 6, 8, 8, 9, 5, 7, 6, 5, 4, 9, 7, 7, 6, 6, 7, 9, 4, 8, 9, 9, 8, 8, 9, 6, 7, 7, 7, 6, 5, 6, 6, 7, 5, 12, 7, 6, 6, 8, 8, 9, 7, 10, 10, 6, 7, 9, 3, 8, 6, 12, 9, 6, 10, 12, 5, 5, 4, 9, 5, 9, 5, 8, 7, 5, 9, 9, 8, 5, 5, 7, 7, 6, 7, 7, 8, 7, 7, 7, 10, 6, 7, 6, 6, 7, 7, 8, 7, 6, 6, 14, 21, 13, 15, 14, 7, 9, 7, 7, 6, 9, 7, 6, 12, 9, 12, 9, 11, 10, 6, 11, 7, 10, 9, 8, 8, 9, 7, 14, 12, 12, 10, 11, 7, 8, 10, 8, 8, 9, 10, 10, 9, 8, 6, 6, 8, 6, 11, 9, 10, 8, 8, 8, 8, 8, 6, 8, 7, 9, 5, 9, 7, 7, 7, 11, 9, 9, 8, 9, 7, 5, 6, 7, 9, 8, 10, 7, 6, 7, 7, 5, 5, 8, 5, 6, 7, 4, 8, 9, 10, 10, 10, 5, 5, 5, 3, 6, 3, 9, 5, 5, 7, 6, 7, 7, 5, 11, 4, 8, 10, 7, 4, 4, 6, 9, 6, 6, 5, 4, 7, 5, 7, 5, 9, 3, 6, 9, 6, 7, 8, 6, 9, 6, 3, 6, 8, 7, 7, 11, 7, 7, 9, 8, 6, 5, 8, 5, 8, 5, 7, 4, 5, 8, 5, 6, 6, 6, 4, 3, 8, 8, 6, 4, 7, 7, 8, 4, 9, 6, 5, 9, 6, 11, 12, 7, 11, 8, 11, 7, 7, 11, 7, 7, 7, 11, 7, 7, 11, 11, 8, 11, 7, 7, 7, 7, 11, 7, 9, 9, 7, 12, 9, 5, 10, 7, 6, 14, 12, 8, 8, 9, 7, 8, 6, 6, 7, 6, 10, 12, 12, 14, 9, 7, 8, 9, 10, 8, 13, 8, 6, 9, 5, 11, 6, 7, 8, 14, 8, 5, 9, 8, 10, 7, 12, 12, 6, 6, 8, 6, 11, 6, 8, 7, 7, 11, 6, 12, 7, 5, 10, 8, 9, 6, 11, 6, 8, 9, 7, 8, 5, 10, 6, 14, 13, 17, 14, 10, 11, 9, 11, 10, 17, 13, 14, 15, 20, 6, 10, 16, 15, 11, 16, 6, 11, 14, 7, 7, 7, 15, 10, 7, 10, 10, 9, 12, 11, 11, 10, 12, 14, 13, 15, 15, 17, 10, 8, 6, 11, 14, 14, 18, 8, 8, 7, 8, 7, 6, 8, 12, 9, 15, 14, 11, 10, 14, 11, 9, 13, 13, 12, 17, 14, 13, 11, 10, 10, 8, 11, 15, 15, 15, 15, 14, 15, 11, 11, 11, 10, 11, 8, 12, 11, 13, 9, 11, 6, 8, 10, 11, 7, 8, 10, 10, 9, 9, 6, 10, 7, 9, 8, 10, 7, 6, 8, 15, 9, 10, 7, 9, 6, 13, 6, 7, 14, 9, 7, 5, 6, 6, 7, 11, 8, 9, 8, 19, 11, 12, 16, 10, 9, 14, 9, 10, 9, 7, 11, 10, 11, 11, 14, 15, 13, 12, 12, 13, 7, 12, 10, 7, 7, 7, 11, 6, 12, 8, 14, 9, 7, 12, 8, 9, 8, 10, 9, 9, 8, 4, 8, 7, 8, 6, 7, 6, 6, 6, 8, 7, 10, 5, 11, 7, 9, 7, 6, 4, 5, 6, 7, 6, 6, 6, 18, 8, 4, 5, 4, 4, 6, 8, 11, 7, 9, 6, 5, 6, 9, 5, 7, 7, 7, 6, 10, 9, 8, 6, 6, 10, 6, 6, 5, 8, 7, 8, 7, 8, 7, 9, 6, 5, 6, 8, 6, 9, 8, 8, 10, 9, 10, 10, 9, 10, 12, 7, 9, 8, 7, 10, 7, 9, 10, 8, 6, 6, 6, 7, 7, 9, 6, 7, 8, 5, 4, 7, 6, 7, 8, 8, 7, 12, 12, 6, 11, 6, 7, 7, 9, 10, 10, 7, 9, 7, 8, 8, 8, 8, 10, 7, 7, 5, 6, 5, 5, 6, 8, 6, 5, 10, 11, 8, 11, 7, 9, 11, 13, 7, 7, 10, 9, 12, 9, 7, 5, 5, 8, 7, 5, 7, 6, 6, 6, 7, 12, 4, 5, 7, 7, 7, 8, 8, 7, 5, 8, 6, 10, 11, 7, 8, 7, 7, 8, 7, 9, 7, 9, 7, 6, 8, 7, 4, 7, 8, 8, 7, 4, 7, 5, 4, 7, 8, 7, 5, 9, 8, 7, 4, 5, 8, 6, 5, 5, 6, 6, 3, 5, 4, 9, 6, 5, 5, 4, 6, 5, 6, 7, 12, 6, 6, 8, 9, 7, 8, 11, 7, 7, 10, 8, 8, 8, 8, 8, 5, 5, 8, 9, 7, 8, 9, 7, 11, 9, 10, 9, 10, 10, 11, 8, 12, 9, 5, 10, 6, 8, 5, 6, 7, 6, 4, 5, 9, 7, 6, 6, 7, 9, 10, 6, 7, 6, 6, 6, 5, 6, 6, 7, 5, 4, 3, 3, 7, 5, 5, 2, 6, 6, 8, 6, 4, 6, 7, 8, 6, 9, 3, 5, 10, 5, 9, 9, 9, 8, 7, 6, 7, 5, 5, 8, 9, 8, 8, 5, 5, 6, 10, 9, 8, 7, 7, 2, 4, 5, 7, 7, 5, 7, 11, 8, 7, 7, 8, 8, 9, 8, 8, 9, 7, 11, 8, 6, 13, 14, 11, 12, 9, 9, 8, 12, 10, 9, 10, 7, 6, 8, 9, 10, 11, 10, 9, 7, 11, 13, 7, 11, 6, 10, 11, 12, 12, 10, 9, 10, 10, 9, 13, 10, 10, 6, 8, 8, 7, 8, 13, 23, 20, 20, 19, 11, 10, 14, 16, 17, 15, 13, 12, 11, 12, 18, 14, 12, 11, 17, 9, 11, 12, 9, 11, 8, 8, 9, 7, 9, 8, 6, 6, 5, 7, 7, 9, 10, 8, 15, 13, 14, 8, 8, 7, 8, 7, 11, 11, 10, 10, 12, 10, 7, 7, 10, 6, 11, 8, 11, 6, 6, 9, 7, 8, 9, 5, 9, 7, 8, 5, 3, 7, 6, 8, 12, 4, 11, 5, 11, 10, 8, 5, 5, 6, 4, 7, 6, 6, 6, 10, 9, 4, 5, 6, 8, 9, 9, 9, 9, 9, 5, 7, 6, 5, 9, 7, 8, 8, 7, 7, 7, 7, 5, 6, 5, 3, 6, 3, 8, 6, 7, 6, 3, 9, 8, 6, 7, 7, 6, 5, 5, 4, 5, 6, 7, 6, 10, 7, 6, 7, 5, 10, 7, 10, 12, 9, 10, 12, 13, 10, 13, 18, 7, 9, 15, 14, 15, 8, 8, 12, 8, 13, 9, 14, 10, 7, 14, 10, 9, 14, 12, 17, 15, 20, 17, 19, 23, 20, 13, 19, 22, 11, 13, 19, 11, 10, 11, 13, 16, 8, 12, 13, 10, 13, 13, 11, 15, 12, 16, 14, 13, 9, 10, 12, 10, 8, 7, 6, 10, 7, 10, 11, 5, 11, 8, 9, 10, 7, 6, 6, 11, 8, 11, 8, 12, 10, 7, 10, 7, 9, 11, 7, 11, 13, 9, 9, 8, 9, 10, 7, 6, 11, 7, 7, 9, 7, 6, 8, 7, 6, 7, 5, 7, 8, 7, 8, 5, 6, 7, 7, 7, 7, 7, 5, 7, 7, 11, 10, 7, 11, 8, 8, 10, 10, 7, 7, 10, 7, 9, 10, 5, 6, 6, 7, 7, 7, 8, 8, 9, 9, 15, 8, 10, 11, 7, 4, 7, 7, 7, 6, 10, 7, 8, 10, 8, 9, 7, 5, 7, 5, 8, 8, 4, 7, 5, 8, 7, 12, 8, 7, 8, 9, 11, 10, 8, 8, 9, 9, 9, 9, 7, 8, 10, 7, 12, 11, 8, 11, 7, 9, 6, 12, 11, 12, 11, 5, 13, 8, 15, 9, 9, 13, 9, 6, 6, 9, 12, 6, 7, 5, 8, 5, 8, 9, 10, 8, 6, 9, 13, 13, 12, 10, 12, 9, 8, 7, 10, 8, 5, 3, 8, 8, 3, 8, 6, 5, 6, 6, 8, 7, 8, 8, 4, 3, 7, 4, 7, 11, 3, 9, 6, 9, 10, 8, 7, 11, 6, 8, 7, 6, 7, 5, 5, 5, 5, 6, 4, 7, 8, 6, 3, 5, 7, 4, 4, 2, 4, 4, 3, 5, 9, 6, 7, 9, 10, 9, 6, 3, 4, 4, 5, 9, 11, 14, 14, 8, 4, 7, 6, 4, 4, 3, 3, 5, 5, 3, 5, 5, 5, 3, 3, 5, 4, 4, 4, 6, 6, 8, 4, 5, 7, 6, 6, 4, 8, 4, 6, 6, 5, 3, 7, 3, 5, 9, 4, 4, 8, 4, 4, 9, 11, 13, 7, 4, 5, 5, 5, 5, 5, 3, 7, 5, 7, 8, 7, 8, 7, 3, 7, 8, 3, 6, 5, 3, 3, 7, 8, 3, 4, 7, 8, 6, 10, 9, 3, 5, 5, 4, 4, 4, 6, 7, 8, 4, 3, 7, 6, 6, 4, 5, 6, 6, 6, 6, 6, 4, 5, 5, 6, 6, 3, 4, 4, 5, 5, 5, 6, 5, 7, 5, 8, 7, 8, 8, 11, 8, 6, 5, 6, 5, 4, 6, 6, 5, 6, 6, 5, 5, 5, 6, 3, 4, 4, 9, 5, 3, 6, 7, 6, 6, 4, 5, 5, 4, 5, 5, 5, 6, 5, 6, 8, 8, 7, 5, 6, 7, 8, 6, 7, 7, 5, 8, 4, 4, 5, 5, 4, 6, 6, 5, 4, 9, 16, 10, 6, 9, 6, 4, 5, 4, 4, 7, 6, 6, 4, 3, 4, 6, 6, 6, 6, 5, 7, 9, 6, 9, 13, 13, 11, 12, 14, 9, 9, 12, 9, 12, 9, 10, 10, 11, 11, 11, 15, 13, 13, 13, 7, 9, 6, 9, 10, 10, 8, 6, 6, 6, 8, 8, 6, 8, 6, 8, 14, 9, 14, 12, 10, 11, 11, 12, 16, 14, 15, 16, 16, 11, 12, 8, 12, 11, 9, 9, 6, 8, 11, 6, 8, 6, 7, 10, 7, 7, 8, 9, 8, 6, 9, 9, 11, 9, 9, 8, 7, 7, 10, 7, 12, 11, 12, 12, 14, 9, 12, 11, 6, 8, 8, 9, 10, 13, 8, 8, 9, 7, 7, 6, 7, 9, 9, 9, 8, 11, 9, 8, 8, 8, 8, 8, 8, 8, 8, 7, 6, 7, 8, 7, 7, 4, 5, 6, 11, 9, 6, 8, 5, 6, 8, 9, 6, 7, 6, 6, 6, 8, 7, 5, 4, 10, 8, 6, 7, 7, 10, 6, 8, 10, 12, 8, 8, 9, 6, 9, 5, 5, 6, 6, 7, 5, 4, 6, 9, 7, 8, 11, 7, 8, 9, 10, 12, 12, 13, 10, 9, 7, 5, 11, 12, 12, 6, 10, 13, 7, 8, 5, 4, 6, 7, 6, 7, 7, 13, 5, 2, 4, 2, 4, 4, 3, 3, 7, 7, 3, 2, 4, 5, 6, 5, 5, 3, 5, 4, 8, 2, 2, 4, 6, 1, 2, 7, 4, 1, 6, 2, 7, 4, 4, 6, 4, 2, 6, 5, 2, 3, 3, 3, 5, 4, 8, 4, 7, 3, 3, 3, 6, 9, 6, 6, 3, 5, 7, 5, 5, 6, 4, 5, 3, 9, 12, 4, 6, 3, 6, 4, 2, 4, 6, 6, 6, 6, 4, 4, 7, 8, 2, 7, 4, 4, 6, 7, 5, 6, 7, 4, 5, 3, 5, 4, 4, 6, 6, 4, 7, 12, 8, 9, 9, 11, 10, 12, 11, 11, 8, 7, 8, 15, 14, 12, 13, 10, 9, 12, 12, 11, 7, 9, 8, 12, 7, 9, 8, 7, 11, 10, 10, 11, 13, 7, 8, 9, 11, 8, 11, 8, 8, 9, 7, 9, 6, 6, 9, 15, 15, 20, 14, 13, 9, 9, 14, 10, 12, 10, 10, 10, 11, 11, 12, 7, 12, 9, 11, 7, 9, 7, 14, 7, 9, 9, 16, 17, 16, 14, 17, 13, 23, 12, 11, 13, 12, 12, 15, 10, 7, 5, 9, 6, 9, 10, 10, 8, 12, 9, 20, 19, 24, 19, 14, 13, 13, 14, 13, 10, 10, 13, 10, 12, 13, 11, 13, 13, 10, 10, 10, 10, 10, 14, 14, 13, 13, 11, 13, 11, 14, 12, 13, 12, 12, 12, 13, 12, 15, 12, 12, 14, 15, 11, 13, 16, 13, 14, 16, 14, 19, 15, 17, 13, 13, 14, 17, 17, 15, 18, 14, 14, 16, 16, 17, 16, 14, 13, 15, 13, 13, 12, 13, 15, 11, 15, 11, 13, 16, 13, 17, 13, 18, 13, 13, 13, 13, 12, 12, 11, 13, 10, 12, 12, 11, 10, 10, 10, 13, 12, 7, 7, 8, 7, 6, 17, 14, 11, 13, 14, 8, 6, 8, 7, 9, 9, 8, 10, 8, 10, 5, 8, 6, 5, 8, 10, 5, 10, 5, 9, 7, 12, 8, 8, 12, 12, 7, 8, 10, 9, 6, 7, 7, 13, 16, 8, 7, 13, 8, 17, 17, 8, 4, 5, 5, 6, 9, 14, 11, 12, 14, 12, 9, 6, 6, 7, 10, 11, 4, 6, 4, 11, 12, 4, 7, 7, 8, 12, 10, 7, 11, 12, 13, 6, 6, 10, 7, 4, 8, 9, 11, 9, 14, 11, 11, 6, 5, 7, 8, 6, 10, 10, 11, 10, 12, 8, 12, 20, 15, 17, 14, 8, 12, 10, 16, 14, 11, 12, 12, 13, 7, 9, 9, 10, 8, 13, 12, 13, 13, 9, 13, 13, 10, 10, 11, 15, 10, 15, 12, 10, 15, 14, 9, 14, 11, 11, 9, 8, 12, 9, 14, 11, 11, 11, 12, 14, 13, 13, 13, 12, 13, 11, 12, 14, 12, 10, 16, 18, 17, 17, 16, 17, 16, 17, 16, 16, 9, 10, 9, 10, 10, 15, 14, 9, 11, 9, 9, 9, 9, 9, 9, 9, 9, 9, 9, 9, 7, 11, 8, 12, 9, 7, 9, 11, 7, 8, 7, 8, 4, 6, 7, 8, 7, 10, 10, 10, 5, 6, 9, 6, 6, 5, 9, 10, 12, 6, 7, 7, 13, 14, 13, 6, 4, 5, 5, 6, 5, 6, 6, 5, 7, 4, 4, 4, 8, 6, 3, 14, 12, 11, 11, 11, 10, 7, 4, 6, 14, 6, 16, 9, 10, 8, 10, 9, 10, 10, 13, 7, 7, 9, 7, 10, 5, 7, 10, 3, 7, 8, 5, 6, 4, 5, 7, 9, 5, 6, 6, 8, 7, 9, 10, 3, 10, 9, 8, 12, 12, 8, 10, 11, 5, 8, 9, 9, 9, 9, 10, 10, 14, 10, 12, 9, 11, 8, 10, 12, 9, 11, 6, 6, 13, 14, 6, 13, 6, 14, 12, 12, 12, 12, 12, 11, 8, 8, 10, 6, 8, 8, 5, 8, 9, 8, 14, 11, 12, 13, 9, 8, 9, 7, 7, 7, 6, 6, 9, 10, 13, 15, 14, 13, 14, 7, 10, 10, 9, 11, 8, 6, 9, 8, 9, 13, 10, 13, 10, 12, 8, 17, 16, 9, 7, 8, 4, 7, 8, 10, 11, 13, 9, 13, 10, 8, 13, 14, 11, 10, 15, 14, 13, 11, 3, 3, 4, 4, 3, 5, 5, 4, 6, 6, 6, 5, 6, 7, 8, 8, 8, 7, 8, 8, 5, 5, 6, 7, 8, 8, 7, 3, 3, 4, 4, 3, 9, 5, 9, 6, 7, 7, 3, 3, 4, 4, 3, 8, 7, 8, 7, 4, 5, 5, 4, 3, 5, 4, 7, 9, 5, 4, 5, 6, 4, 10, 6, 3, 7, 4, 4, 7, 3, 4, 7, 6, 10, 3, 4, 7, 10, 9, 7, 5, 6, 9, 4, 11, 8, 8, 8, 4, 4, 4, 7, 6, 5, 7, 5, 4, 4, 4, 4, 4, 8, 9, 10, 13, 9, 10, 12, 14, 14, 14, 12, 12, 13, 11, 10, 14, 10, 9, 12, 11, 16, 11, 9, 14, 11, 12, 14, 9, 13, 11, 11, 11, 6, 14, 12, 11, 14, 15, 15, 15, 11, 12, 12, 13, 15, 13, 12, 12, 11, 12, 13, 12, 12, 16, 11, 11, 6, 12, 11, 7, 9, 14, 8, 9, 7, 11, 9, 11, 11, 10, 13, 12, 11, 9, 11, 13, 12, 15, 11, 14, 15, 9, 14, 11, 15, 14, 10, 15, 13, 11, 16, 12, 17, 19, 10, 7, 7, 6, 7, 15, 6, 8, 8, 8, 7, 9, 7, 8, 5, 7, 5, 7, 5, 7, 6, 5, 7, 8, 8, 5, 7, 7, 9, 10, 5, 7, 9, 5, 8, 6, 7, 6, 6, 5, 8, 5, 5, 4, 8, 6, 6, 7, 4, 9, 9, 5, 6, 10, 6, 9, 9, 8, 8, 8, 10, 7, 7, 5, 9, 7, 7, 9, 8, 8, 5, 6, 6, 10, 9, 7, 7, 7, 9, 6, 8, 5, 6, 9, 7, 7, 6, 13, 11, 10, 9, 10, 4, 8, 10, 4, 7, 7, 4, 6, 7, 8, 8, 9, 8, 8, 3, 7, 3, 4, 4, 8, 4, 6, 5, 7, 8, 5, 5, 5, 5, 9, 5, 5, 5, 7, 5, 8, 5, 5, 6, 7, 6, 7, 5, 6, 9, 5, 5, 5, 5, 5, 9, 5, 6, 5, 6, 5, 4, 6, 5, 5, 5, 5, 5, 6, 10, 7, 6, 7, 6, 5, 7, 6, 5, 5, 6, 7, 6, 5, 6, 7, 11, 9, 5, 5, 9, 8, 9, 4, 11, 9, 10, 6, 7, 5, 7, 10, 9, 8, 7, 6, 5, 5, 6, 5, 5, 6, 6, 6, 7, 6, 6, 8, 4, 5, 4, 5, 5, 9, 7, 8, 5, 3, 5, 3, 11, 11, 7, 4, 10, 12, 9, 7, 9, 9, 5, 4, 7, 5, 4, 4, 4, 5, 6, 6, 5, 8, 6, 10, 5, 8, 5, 3, 7, 6, 4, 7, 4, 6, 5, 4, 6, 10, 11, 11, 10, 5, 9, 11, 9, 5, 8, 11, 12, 9, 5, 6, 5, 8, 6, 6, 8, 6, 8, 9, 6, 8, 7, 9, 7, 8, 6, 7, 5, 5, 5, 5, 6, 5, 8, 5, 9, 10, 12, 12, 11, 10, 10, 9, 10, 5, 4, 3, 9, 7, 16, 8, 17, 15, 10, 9, 8, 14, 16, 10, 11, 8, 7, 9, 8, 8, 7, 8, 7, 5, 7, 7, 6, 13, 13, 14, 10, 13, 15, 14, 10, 16, 13, 6, 6, 9, 6, 8, 12, 12, 13, 5, 5, 6, 7, 9, 9, 5, 9, 8, 10, 7, 9, 4, 4, 7, 3, 6, 5, 4, 7, 7, 6, 7, 5, 4, 4, 6, 9, 7, 10, 11, 8, 7, 8, 8, 5, 9, 9, 12, 12, 13, 7, 11, 11, 8, 11, 7, 6, 6, 7, 7, 6, 8, 7, 9, 6, 6, 9, 7, 10, 12, 9, 9, 11, 7, 5, 7, 9, 6, 7, 5, 9, 5, 6, 6, 6, 11, 9, 8, 12, 10, 9, 12, 11, 10, 11, 9, 9, 5, 12, 10, 8, 7, 8, 8, 9, 8, 11, 7, 9, 11, 11, 8, 10, 11, 12, 10, 20, 10, 10, 7, 10, 9, 10, 7, 9, 8, 8, 9, 8, 8, 8, 11, 10, 9, 12, 7, 6, 9, 6, 8, 12, 9, 12, 10, 13, 7, 8, 5, 6, 7, 5, 7, 4, 6, 7, 9, 12, 12, 15, 10, 8, 8, 8, 9, 11, 10, 3, 5, 9, 11, 8, 9, 6, 11, 13, 8, 9, 8, 7, 8, 7, 9, 10, 12, 10, 9, 8, 11, 11, 13, 10, 7, 8, 13, 11, 12, 8, 12, 14, 12, 17, 15, 11, 17, 14, 10, 7, 7, 9, 10, 11, 11, 6, 7, 9, 11, 12, 11, 11, 10, 8, 8, 9, 11, 9, 10, 10, 14, 10, 8, 9, 13, 13, 11, 10, 8, 11, 9, 5, 10, 10, 10, 10, 10, 10, 10, 12, 8, 9, 13, 10, 7, 8, 12, 16, 11, 13, 8, 7, 8, 10, 5, 8, 10, 8, 12, 9, 11, 7, 9, 6, 8, 7, 6, 5, 11, 8, 7, 7, 7, 7, 8, 7, 7, 7, 8, 7, 9, 9, 8, 9, 10, 7, 8, 10, 8, 12, 6, 9, 7, 9, 9, 8, 9, 9, 7, 8, 11, 9, 7, 9, 9, 8, 8, 6, 7, 6, 5, 10, 9, 8, 8, 8, 8, 8, 8, 5, 8, 7, 7, 7, 7, 7, 7, 7, 6, 4, 2, 4, 7, 7, 10, 7, 8, 10, 6, 6, 7, 7, 7, 7, 12, 7, 11, 8, 7, 7, 13, 7, 4, 8, 7, 10, 11, 6, 6, 9, 4, 9, 9, 9, 12, 11, 8, 7, 7, 10, 7, 11, 9, 7, 9, 9, 9, 9, 9, 9, 10, 8, 8, 7, 11, 9, 9, 6, 7, 8, 8, 13, 8, 11, 9, 7, 10, 10, 7, 12, 9, 8, 9, 12, 11, 8, 7, 8, 13, 8, 8, 8, 8, 8, 14, 13, 12, 13, 18, 8, 11, 11, 7, 10, 9, 8, 8, 9, 9, 9, 14, 7, 13, 8, 12, 13, 10, 10, 11, 12, 9, 10, 10, 13, 17, 13, 11, 10, 8, 7, 10, 9, 9, 8, 7, 9, 12, 9, 9, 10, 11, 7, 8, 11, 8, 5, 7, 7, 6, 7, 5, 9, 6, 6, 4, 9, 7, 6, 9, 9, 6, 5, 11, 6, 12, 6, 10, 9, 8, 8, 11, 11, 6, 6, 5, 8, 6, 8, 4, 5, 5, 7, 8, 8, 8, 13, 6, 9, 14, 9, 10, 5, 11, 8, 10, 6, 8, 9, 11, 8, 9, 10, 9, 10, 6, 6, 6, 10, 9, 10, 9, 9, 8, 8, 9, 7, 10, 7, 6, 9, 16, 13, 13, 13, 11, 7, 6, 8, 9, 11, 9, 11, 11, 10, 14, 9, 10, 10, 15, 17, 21, 8, 6, 10, 8, 7, 7, 4, 5, 5, 6, 7, 6, 4, 5, 6, 5, 5, 6, 9, 6, 8, 5, 6, 7, 9, 4, 6, 6, 5, 8, 11, 9, 9, 7, 8, 5, 7, 8, 7, 10, 7, 7, 6, 7, 6, 5, 8, 7, 6, 7, 7, 8, 5, 6, 8, 7, 7, 7, 6, 6, 6, 4, 5, 4, 8, 6, 6, 7, 4, 9, 6, 6, 10, 10, 6, 5, 6, 6, 7, 6, 8, 5, 8, 5, 6, 5, 4, 6, 7, 7, 8, 7, 7, 10, 8, 6, 8, 4, 6, 5, 8, 7, 7, 9, 9, 10, 10, 9, 10, 8, 11, 9, 10, 9, 15, 6, 8, 11, 15, 9, 7, 7, 8, 14, 9, 8, 9, 12, 13, 13, 10, 8, 8, 9, 9, 9, 9, 9, 10, 8, 10, 6, 16, 11, 9, 8, 9, 10, 9, 10, 4, 6, 9, 8, 7, 8, 10, 9, 12, 7, 8, 9, 12, 8, 12, 11, 9, 9, 7, 8, 10, 11, 10, 9, 10, 16, 6, 15, 8, 10, 11, 8, 9, 9, 8, 10, 10, 8, 10, 10, 13, 8, 9, 14, 8, 11, 10, 11, 9, 11, 9, 8, 8, 8, 10, 6, 9, 12, 7, 10, 13, 13, 11, 10, 6, 4, 12, 7, 12, 9, 12, 12, 8, 13, 7, 8, 9, 9, 10, 18, 14, 16, 17, 16, 6, 5, 6, 5, 9, 11, 13, 10, 19, 11, 10, 10, 9, 6, 7, 28, 10, 11, 20, 16, 6, 7, 9, 7, 16, 16, 15, 14, 18, 6, 6, 7, 13, 11, 6, 7, 16, 7, 8, 19, 7, 6, 18, 8, 16, 14, 11, 11, 9, 13, 7, 13, 15, 14, 14, 16, 5, 6, 9, 11, 8, 9, 13, 16, 17, 16, 6, 2, 6, 4, 6, 7, 6, 5, 4, 4, 6, 3, 4, 4, 8, 4, 5, 5, 3, 6, 2, 5, 6, 3, 6, 5, 7, 5, 7, 7, 6, 6, 8, 4, 7, 11, 6, 7, 6, 7, 6, 10, 8, 7, 4, 7, 7, 3, 8, 4, 9, 8, 5, 5, 5, 4, 7, 9, 9, 6, 10, 6, 3, 6, 3, 4, 12, 7, 11, 11, 12, 8, 8, 7, 7, 5, 5, 5, 4, 4, 3, 5, 6, 5, 4, 5, 7, 8, 10, 10, 9, 8, 6, 6, 4, 6, 9, 7, 6, 4, 10, 7, 11, 6, 8, 7, 7, 8, 5, 9, 8, 12, 7, 11, 11, 9, 4, 7, 8, 9, 10, 11, 11, 11, 10, 11, 9, 7, 7, 11, 7, 9, 7, 4, 7, 4, 5, 4, 6, 6, 3, 5, 10, 2, 6, 8, 7, 9, 6, 8, 7, 6, 8, 8, 12, 9, 8, 12, 9, 8, 8, 10, 9, 7, 11, 9, 7, 10, 8, 8, 10, 10, 7, 14, 9, 8, 12, 9, 8, 13, 7, 9, 4, 10, 10, 8, 9, 9, 8, 9, 10, 7, 5, 8, 5, 6, 8, 11, 7, 10, 7, 7, 9, 11, 8, 8, 10, 12, 6, 8, 8, 6, 9, 10, 9, 7, 9, 9, 9, 9, 7, 9, 7, 9, 9, 5, 7, 8, 8, 12, 9, 11, 7, 9, 7, 7, 11, 11, 12, 7, 7, 6, 6, 6, 12, 6, 11, 11, 8, 7, 6, 10, 8, 11, 12, 8, 8, 10, 8, 9, 7, 10, 12, 11, 12, 18, 11, 12, 11, 23, 6, 10, 11, 12, 9, 12, 7, 10, 11, 8, 8, 10, 13, 9, 8, 10, 7, 7, 8, 9, 8, 13, 9, 7, 6, 8, 8, 6, 6, 5, 1, 3, 6, 4, 4, 10, 8, 4, 4, 4, 2, 4, 4, 3, 1, 1, 2, 4, 3, 3, 3, 3, 4, 4, 3, 4, 1, 4, 2, 3, 5, 4, 4, 3, 3, 3, 4, 3, 5, 3, 5, 4, 3, 4, 1, 2, 2, 1, 6, 3, 3, 3, 5, 3, 2, 3, 2, 3, 4, 5, 5, 4, 3, 1, 1, 1, 3, 3, 1, 1, 1, 2, 4, 3, 5, 4, 3, 4, 4, 4, 4, 2, 3, 5, 3, 4, 4, 8, 6, 6, 8, 9, 6, 4, 4, 5, 4, 5, 2, 2, 14, 12, 8, 12, 13, 8, 6, 9, 6, 9, 9, 7, 9, 8, 8, 9, 6, 7, 6, 7, 6, 11, 9, 7, 8, 11, 8, 8, 7, 7, 8, 8, 7, 6, 11, 10, 8, 9, 8, 10, 5, 6, 8, 8, 10, 8, 9, 11, 7, 6, 8, 7, 9, 8, 9, 11, 10, 12, 10, 11, 8, 11, 10, 12, 13, 10, 9, 11, 13, 13, 9, 10, 8, 7, 9, 8, 8, 9, 8, 8, 10, 6, 9, 6, 8, 9, 6, 9, 12, 9, 6, 8, 8, 9, 7, 10, 8, 8, 9, 11, 7, 7, 6, 7, 6, 7, 5, 7, 9, 5, 8, 6, 6, 8, 6, 6, 7, 6, 7, 5, 7, 7, 8, 7, 2, 7, 7, 6, 7, 7, 10, 8, 14, 6, 4, 3, 3, 3, 12, 8, 8, 12, 12, 6, 7, 6, 6, 8, 13, 8, 8, 11, 9, 10, 12, 10, 9, 7, 14, 10, 8, 18, 11, 8, 6, 9, 10, 5, 7, 6, 6, 5, 4, 8, 10, 9, 10, 6, 8, 5, 7, 6, 7, 6, 4, 7, 8, 5, 5, 6, 6, 7, 5, 5, 5, 5, 5, 8, 9, 10, 12, 11, 8, 5, 7, 6, 8, 11, 8, 5, 9, 12, 8, 7, 14, 6, 10, 7, 9, 13, 10, 8, 8, 10, 13, 10, 8, 14, 10, 13, 12, 12, 14, 10, 8, 10, 15, 12, 11, 11, 9, 8, 8, 10, 12, 5, 10, 16, 12, 9, 15, 10, 18, 14, 12, 11, 6, 7, 12, 5, 9, 8, 11, 7, 13, 9, 7, 10, 7, 9, 9, 14, 12, 11, 9, 8, 8, 8, 8, 9, 7, 6, 10, 6, 6, 7, 7, 8, 6, 6, 12, 7, 12, 7, 16, 12, 10, 9, 11, 11, 4, 6, 4, 6, 7, 6, 8, 5, 5, 5, 7, 5, 8, 9, 8, 7, 17, 9, 5, 11, 5, 13, 11, 9, 7, 12, 19, 7, 9, 10, 7, 6, 10, 9, 9, 5, 11, 4, 6, 7, 8, 12, 9, 12, 6, 7, 8, 10, 8, 8, 8, 8, 6, 9, 7, 6, 9, 9, 8, 7, 8, 9, 7, 9, 11, 9, 11, 8, 9, 9, 6, 6, 7, 7, 6, 9, 8, 9, 14, 9, 7, 9, 10, 11, 13, 9, 13, 11, 14, 16, 8, 12, 10, 7, 9, 12, 9, 13, 9, 9, 6, 10, 11, 6, 5, 8, 10, 5, 8, 7, 6, 7, 9, 9, 15, 10, 5, 7, 7, 10, 11, 6, 7, 7, 9, 4, 2, 6, 5, 3, 3, 3, 4, 4, 3, 4, 6, 4, 4, 7, 4, 6, 7, 6, 8, 2, 5, 11, 5, 3, 4, 3, 5, 5, 7, 7, 6, 8, 7, 12, 10, 7, 7, 2, 5, 6, 5, 7, 7, 3, 5, 8, 5, 5, 12, 8, 11, 10, 8, 3, 5, 10, 10, 11, 8, 5, 8, 6, 8, 9, 12, 10, 7, 8, 7, 8, 7, 7, 10, 10, 7, 6, 10, 10, 6, 7, 8, 8, 8, 5, 8, 8, 7, 7, 6, 6, 10, 8, 10, 8, 7, 6, 4, 8, 7, 8, 6, 10, 7, 7, 6, 5, 5, 8, 10, 6, 7, 7, 9, 9, 9, 7, 5, 12, 6, 9, 8, 3, 5, 4, 8, 6, 5, 7, 5, 6, 7, 7, 6, 6, 8, 4, 9, 12, 10, 4, 4, 6, 5, 5, 8, 7, 7, 7, 7, 6, 13, 10, 12, 11, 13, 7, 4, 8, 5, 5, 6, 8, 10, 7, 5, 9, 3, 6, 9, 8, 8, 9, 7, 5, 3, 3, 6, 2, 2, 1, 1, 4, 3, 4, 4, 2, 4, 4, 3, 5, 2, 4, 3, 6, 2, 2, 2, 11, 6, 5, 9, 9, 9, 5, 6, 5, 16, 7, 8, 5, 5, 3, 1, 3, 4, 5, 2, 6, 2, 5, 3, 2, 3, 6, 4, 5, 3, 3, 3, 5, 4, 5, 3, 5, 6, 3, 3, 5, 4, 4, 4, 3, 2, 3, 5, 4, 7, 4, 5, 3, 3, 1, 3, 5, 5, 4, 4, 4, 3, 4, 3, 1, 6, 3, 3, 2, 8, 4, 1, 4, 4, 6, 3, 4, 8, 9, 10, 10, 10, 7, 12, 11, 6, 11, 9, 11, 8, 6, 7, 11, 8, 8, 8, 9, 9, 7, 9, 12, 7, 11, 12, 10, 6, 8, 11, 11, 12, 11, 10, 9, 5, 5, 10, 7, 7, 11, 8, 7, 8, 10, 12, 11, 7, 8, 8, 8, 10, 8, 10, 10, 10, 8, 12, 10, 11, 8, 20, 15, 13, 8, 6, 8, 6, 9, 7, 8, 10, 8, 10, 7, 13, 8, 8, 5, 9, 8, 4, 8, 8, 6, 8, 7, 8, 9, 8, 6, 8, 6, 6, 8, 4, 8, 8, 7, 6, 6, 5, 4, 8, 9, 7, 6, 5, 8, 8, 7, 5, 8, 15, 9, 12, 10, 10, 6, 3, 4, 4, 4, 10, 7, 8, 6, 10, 7, 8, 4, 7, 10, 7, 7, 7, 7, 9, 3, 5, 8, 5, 8, 4, 8, 8, 4, 8, 8, 7, 6, 9, 10, 8, 6, 10, 14, 10, 8, 11, 14, 9, 10, 9, 12, 10, 8, 8, 7, 12, 11, 10, 7, 8, 9, 10, 8, 8, 9, 11, 3, 8, 9, 5, 9, 7, 7, 4, 9, 10, 10, 4, 12, 9, 13, 4, 8, 5, 10, 8, 9, 10, 9, 8, 10, 10, 11, 7, 11, 13, 12, 9, 11, 7, 7, 9, 8, 10, 8, 11, 9, 7, 6, 7, 11, 10, 10, 10, 11, 5, 7, 8, 8, 11, 9, 10, 12, 13, 14, 14, 13, 14, 11, 13, 13, 7, 7, 13, 10, 10, 7, 6, 7, 7, 15, 15, 9, 11, 11, 8, 9, 10, 13, 15, 10, 12, 10, 10, 14, 10, 11, 10, 11, 10, 7, 7, 6, 9, 7, 8, 10, 7, 10, 7, 7, 10, 6, 7, 6, 9, 5, 7, 5, 8, 4, 6, 8, 7, 13, 11, 10, 8, 13, 11, 10, 14, 14, 13, 7, 6, 6, 5, 11, 11, 9, 10, 6, 10, 8, 16, 16, 14, 14, 12, 12, 13, 13, 13, 12, 14, 20, 13, 16, 11, 8, 10, 11, 10, 11, 11, 14, 11, 11, 5, 8, 8, 8, 10, 9, 11, 11, 11, 9, 12, 12, 12, 11, 9, 11, 4, 10, 10, 6, 10, 9, 4, 7, 4, 8, 11, 9, 11, 11, 11, 7, 9, 6, 8, 7, 7, 7, 6, 5, 6, 14, 12, 6, 6, 12, 8, 9, 12, 5, 5, 10, 12, 13, 12, 13, 5, 7, 4, 9, 10, 8, 10, 9, 10, 8, 5, 8, 9, 6, 10, 5, 9, 6, 5, 8, 8, 8, 6, 5, 5, 5, 4, 5, 3, 5, 4, 7, 5, 5, 7, 10, 7, 5, 7, 6, 5, 7, 7, 13, 4, 12, 5, 6, 6, 10, 7, 7, 7, 6, 6, 11, 5, 10, 4, 6, 4, 7, 7, 6, 8, 7, 5, 5, 5, 7, 5, 9, 5, 5, 6, 5, 7, 5, 4, 7, 4, 4, 9, 10, 10, 4, 5, 7, 8, 5, 7, 6, 7, 7, 5, 8, 7, 6, 6, 6, 9, 6, 7, 6, 6, 6, 7, 7, 7, 8, 9, 9, 9, 2, 8, 4, 7, 4, 5, 4, 4, 6, 10, 6, 5, 5, 6, 5, 8, 7, 4, 5, 6, 7, 7, 5, 5, 8, 6, 6, 5, 5, 7, 8, 6, 8, 9, 4, 9, 10, 10, 7, 5, 5, 5, 6, 5, 4, 4, 3, 4, 4, 4, 7, 7, 8, 7, 9, 7, 9, 9, 4, 5, 9, 8, 3, 7, 4, 4, 7, 7, 7, 6, 8, 8, 4, 5, 4, 4, 4, 5, 7, 5, 4, 7, 7, 6, 8, 9, 2, 14, 15, 16, 14, 14, 20, 10, 8, 19, 18, 17, 11, 20, 10, 11, 6, 5, 6, 7, 11, 13, 12, 15, 15, 8, 9, 10, 11, 7, 8, 5, 7, 7, 5, 8, 10, 6, 8, 6, 11, 10, 10, 10, 21, 20, 10, 10, 16, 16, 15, 14, 15, 11, 8, 8, 11, 11, 7, 7, 8, 12, 6, 6, 7, 8, 9, 7, 6, 9, 9, 7, 8, 10, 5, 6, 9, 10, 10, 7, 12, 6, 12, 11, 6, 11, 10, 12, 12, 12, 10, 14, 9, 8, 14, 13, 14, 15, 14, 10, 10, 9, 16, 9, 13, 11, 8, 7, 10, 10, 9, 7, 9, 9, 18, 14, 12, 8, 9, 11, 9, 12, 9, 10, 7, 7, 6, 9, 12, 10, 7, 9, 8, 11, 8, 9, 6, 11, 9, 8, 8, 12, 12, 14, 10, 13, 10, 12, 10, 13, 11, 14, 10, 12, 16, 13, 13, 15, 9, 16, 15, 7, 6, 9, 6, 7, 7, 9, 9, 9, 8, 10, 8, 9, 8, 10, 7, 8, 9, 8, 9, 7, 7, 10, 7, 8, 9, 11, 9, 9, 7, 9, 7, 7, 9, 7, 8, 7, 10, 8, 9, 8, 7, 15, 14, 5, 12, 16, 6, 6, 11, 9, 9, 10, 12, 10, 10, 9, 11, 16, 8, 15, 14, 10, 14, 12, 9, 8, 12, 10, 5, 6, 13, 11, 11, 5, 9, 10, 11, 8, 12, 10, 7, 9, 7, 5, 10, 13, 16, 9, 11, 14, 12, 7, 6, 6, 6, 10, 6, 13, 7, 10, 9, 11, 10, 6, 13, 10, 10, 11, 9, 7, 11, 11, 15, 7, 10, 10, 11, 8, 10, 7, 8, 8, 16, 6, 8, 8, 11, 8, 7, 14, 7, 9, 6, 8, 7, 8, 4, 3, 3, 12, 12, 12, 12, 12, 14, 13, 12, 12, 9, 9, 11, 10, 10, 12, 12, 13, 12, 12, 19, 15, 17, 18, 15, 12, 11, 11, 13, 12, 8, 10, 9, 10, 9, 11, 10, 11, 11, 10, 14, 14, 14, 15, 17, 13, 13, 15, 15, 11, 12, 12, 11, 11, 11, 11, 11, 11, 11, 10, 11, 17, 11, 10, 14, 12, 14, 14, 15, 16, 14, 15, 15, 14, 11, 11, 11, 12, 12, 12, 11, 12, 11, 12, 10, 12, 13, 13, 12, 12, 10, 10, 11, 10, 10, 10, 13, 9, 9, 15, 7, 5, 7, 6, 6, 8, 7, 4, 6, 5, 8, 6, 6, 5, 8, 4, 5, 6, 7, 6, 7, 5, 8, 6, 6, 6, 5, 7, 7, 6, 7, 7, 7, 5, 9, 6, 6, 7, 6, 9, 8, 9, 6, 5, 5, 6, 6, 5, 5, 5, 5, 8, 4, 6, 6, 6, 7, 5, 7, 7, 7, 4, 5, 5, 4, 7, 5, 6, 7, 3, 5, 6, 4, 4, 8, 10, 13, 7, 8, 6, 7, 6, 6, 9, 7, 6, 7, 8, 10, 5, 4, 8, 9, 6, 5, 11, 9, 7, 8, 6, 4, 10, 6, 7, 4, 4, 7, 2, 4, 1, 3, 3, 2, 2, 1, 3, 3, 5, 5, 4, 7, 3, 6, 7, 5, 4, 2, 3, 4, 7, 2, 3, 6, 5, 7, 4, 6, 4, 6, 7, 4, 5, 2, 4, 7, 3, 2, 4, 5, 5, 3, 5, 5, 5, 5, 9, 8, 7, 4, 5, 4, 4, 5, 2, 3, 9, 4, 6, 5, 3, 5, 2, 2, 4, 6, 6, 5, 4, 4, 2, 4, 3, 4, 4, 6, 3, 2, 2, 2, 1, 5, 2, 3, 5, 4, 2, 4, 3, 4, 4, 4, 5, 7, 7, 6, 8, 8, 6, 4, 6, 8, 10, 5, 6, 5, 5, 6, 9, 6, 8, 5, 7, 5, 5, 6, 5, 3, 2, 5, 3, 7, 8, 5, 7, 7, 7, 6, 8, 5, 8, 10, 12, 3, 2, 3, 3, 6, 3, 7, 7, 7, 7, 7, 4, 3, 9, 7, 5, 4, 7, 7, 5, 7, 7, 9, 7, 7, 8, 10, 6, 6, 5, 5, 5, 6, 7, 7, 4, 3, 3, 3, 3, 3, 3, 4, 4, 4, 7, 6, 11, 11, 12, 15, 11, 5, 7, 15, 12, 7, 7, 7, 9, 7, 6, 8, 7, 7, 13, 13, 13, 9, 14, 12, 13, 12, 9, 9, 13, 12, 16, 10, 12, 13, 12, 14, 14, 14, 6, 5, 7, 8, 17, 10, 12, 10, 8, 11, 8, 9, 9, 18, 13, 10, 8, 12, 16, 5, 12, 12, 4, 5, 8, 13, 12, 5, 13, 17, 14, 20, 8, 9, 18, 18, 18, 9, 16, 9, 15, 16, 18, 9, 13, 8, 8, 11, 8, 4, 10, 8, 5, 13, 8, 11, 6, 11, 5, 14, 16, 12, 7, 17, 14, 11, 14, 16, 8, 13, 11, 12, 16, 12, 8, 10, 7, 7, 8, 9, 9, 10, 9, 10, 10, 9, 8, 9, 7, 10, 8, 15, 11, 13, 8, 8, 8, 15, 6, 8, 8, 7, 10, 12, 7, 10, 6, 6, 7, 10, 9, 6, 8, 8, 8, 7, 8, 8, 11, 11, 8, 11, 11, 9, 6, 7, 6, 8, 7, 11, 7, 9, 6, 8, 9, 6, 7, 8, 9, 7, 7, 7, 7, 8, 10, 9, 7, 8, 8, 8, 8, 8, 12, 9, 7, 14, 11, 8, 11, 9, 6, 10, 7, 8, 6, 8, 7, 10, 8, 8, 7, 15, 8, 13, 8, 13, 9, 10, 11, 10, 11, 12, 7, 10, 4, 5, 7, 5, 6, 5, 4, 10, 9, 9, 7, 10, 7, 13, 9, 5, 14, 7, 5, 4, 4, 3, 7, 3, 2, 5, 4, 6, 5, 10, 8, 10, 7, 11, 8, 7, 7, 12, 6, 6, 7, 7, 8, 8, 7, 10, 7, 7, 8, 9, 9, 8, 7, 10, 10, 6, 8, 10, 8, 11, 8, 3, 10, 11, 16, 7, 6, 10, 14, 8, 7, 8, 6, 5, 5, 9, 10, 7, 9, 14, 9, 10, 8, 10, 7, 8, 7, 9, 5, 7, 15, 11, 14, 12, 9, 10, 10, 10, 5, 5, 7, 7, 4, 4, 10, 6, 6, 5, 9, 7, 3, 5, 5, 16, 9, 7, 10, 14, 10, 9, 6, 9, 9, 5, 9, 8, 10, 9, 8, 9, 9, 9, 7, 10, 9, 8, 9, 7, 9, 7, 5, 6, 6, 7, 7, 7, 7, 7, 8, 8, 9, 14, 14, 13, 9, 15, 8, 9, 14, 10, 8, 11, 8, 10, 9, 12, 13, 11, 6, 12, 4, 8, 5, 7, 7, 8, 7, 9, 7, 6, 7, 5, 9, 10, 9, 11, 14, 14, 15, 12, 8, 6, 11, 7, 10, 7, 10, 9, 8, 11, 6, 6, 6, 6, 6, 9, 8, 7, 7, 7, 8, 8, 12, 10, 7, 9, 7, 8, 8, 8, 10, 12, 6, 10, 10, 8, 7, 7, 6, 8, 7, 9, 9, 6, 6, 10, 7, 11, 10, 9, 8, 10, 7, 7, 10, 10, 10, 9, 9, 6, 5, 6, 8, 8, 9, 12, 6, 7, 8, 8, 8, 6, 8, 6, 8, 6, 11, 7, 9, 8, 6, 9, 9, 5, 6, 10, 11, 10, 8, 12, 9, 8, 11, 8, 9, 9, 9, 8, 8, 7, 6, 2, 5, 7, 2, 5, 4, 2, 2, 2, 2, 6, 5, 7, 7, 7, 2, 5, 4, 8, 4, 3, 5, 4, 3, 2, 4, 8, 5, 2, 2, 5, 8, 4, 3, 2, 8, 8, 2, 8, 5, 4, 6, 6, 3, 5, 6, 2, 3, 3, 4, 2, 2, 4, 4, 4, 4, 9, 2, 7, 5, 4, 7, 7, 6, 8, 5, 4, 4, 2, 2, 2, 2, 4, 5, 4, 2, 6, 2, 2, 2, 2, 8, 6, 6, 6, 8, 7, 9, 5, 4, 3, 5, 4, 6, 4, 3, 4, 7, 5, 6, 6, 12, 7, 9, 7, 8, 5, 6, 5, 9, 4, 3, 6, 9, 8, 6, 5, 4, 5, 6, 6, 3, 5, 8, 11, 10, 10, 9, 12, 9, 7, 11, 11, 13, 7, 6, 5, 6, 4, 7, 3, 4, 4, 5, 6, 6, 5, 3, 2, 2, 12, 10, 7, 6, 10, 12, 13, 11, 12, 12, 8, 7, 9, 10, 7, 5, 6, 6, 5, 9, 6, 8, 6, 7, 10, 12, 6, 11, 5, 9, 5, 12, 6, 6, 8, 10, 13, 8, 7, 13, 8, 12, 7, 10, 14, 7, 18, 11, 9, 9, 6, 7, 7, 11, 16, 10, 8, 11, 9, 9, 10, 8, 5, 8, 6, 7, 10, 7, 6, 8, 9, 8, 10, 7, 9, 9, 10, 9, 9, 12, 8, 11, 10, 10, 11, 13, 10, 7, 9, 9, 8, 9, 8, 7, 12, 9, 13, 12, 17, 10, 11, 7, 12, 9, 10, 9, 12, 10, 15, 15, 8, 7, 11, 10, 7, 13, 8, 20, 10, 14, 16, 11, 14, 12, 9, 8, 12, 10, 11, 11, 15, 18, 13, 11, 12, 13, 14, 13, 9, 11, 14, 10, 14, 10, 12, 6, 15, 11, 9, 4, 5, 5, 6, 7, 10, 10, 13, 12, 6, 6, 5, 5, 4, 8, 7, 7, 5, 8, 12, 7, 7, 8, 10, 8, 11, 7, 8, 7, 6, 6, 9, 12, 7, 8, 8, 11, 6, 7, 11, 7, 12, 7, 8, 4, 5, 6, 4, 5, 7, 10, 4, 9, 6, 7, 5, 7, 5, 5, 8, 7, 6, 4, 7, 11, 12, 11, 14, 6, 8, 6, 5, 7, 5, 4, 6, 5, 3, 6, 4, 4, 5, 4, 7, 4, 5, 5, 4, 5, 6, 7, 5, 5, 8, 5, 8, 5, 8, 7, 5, 12, 6, 7, 7, 12, 12, 11, 5, 11, 10, 10, 12, 8, 7, 8, 8, 7, 9, 8, 6, 6, 12, 10, 11, 15, 21, 10, 11, 17, 15, 5, 10, 7, 5, 7, 4, 6, 7, 5, 9, 11, 12, 13, 15, 8, 7, 7, 8, 13, 14, 4, 6, 13, 7, 6, 6, 7, 9, 9, 15, 11, 10, 11, 3, 5, 7, 6, 6, 14, 16, 13, 11, 10, 12, 8, 4, 9, 12, 8, 7, 10, 8, 8, 7, 9, 8, 10, 6, 6, 6, 6, 9, 6, 6, 8, 8, 6, 10, 8, 9, 7, 6, 5, 6, 7, 11, 6, 6, 8, 7, 5, 5, 6, 9, 10, 9, 10, 12, 13, 9, 6, 10, 8, 8, 6, 5, 8, 10, 14, 13, 10, 11, 11, 11, 12, 10, 10, 10, 10, 10, 9, 9, 8, 11, 6, 12, 10, 10, 13, 12, 12, 15, 11, 9, 7, 8, 8, 5, 7, 6, 5, 4, 10, 9, 6, 8, 10, 10, 4, 7, 6, 12, 11, 6, 10, 10, 12, 11, 13, 9, 9, 6, 6, 7, 5, 7, 8, 9, 6, 10, 8, 5, 12, 6, 10, 6, 9, 10, 9, 10, 9, 9, 8, 8, 8, 8, 8, 12, 9, 10, 11, 9, 8, 13, 7, 12, 11, 9, 9, 11, 7, 6, 7, 11, 7, 6, 8, 8, 8, 10, 11, 9, 8, 9, 12, 12, 10, 7, 6, 6, 4, 6, 10, 8, 8, 11, 12, 10, 10, 8, 8, 9, 9, 8, 12, 5, 7, 5, 5, 5, 7, 5, 13, 16, 10, 14, 17, 12, 10, 12, 12, 15, 8, 6, 10, 8, 7, 7, 8, 8, 8, 8, 7, 8, 7, 8, 13, 7, 8, 9, 8, 11, 6, 6, 8, 11, 6, 8, 10, 9, 12, 8, 10, 7, 11, 11, 12, 11, 12, 7, 10, 7, 8, 10, 11, 14, 10, 11, 10, 6, 9, 7, 7, 8, 6, 7, 6, 10, 7, 9, 8, 6, 9, 13, 14, 8, 9, 17, 9, 8, 6, 9, 8, 9, 5, 6, 6, 6, 17, 15, 16, 10, 12, 11, 13, 13, 16, 12, 10, 12, 7, 9, 11, 9, 9, 7, 16, 11, 10, 6, 6, 4, 10, 4, 4, 10, 9, 5, 8, 8, 10, 11, 14, 12, 9, 15, 12, 9, 16, 12, 12, 6, 12, 10, 17, 13, 19, 17, 18, 11, 7, 7, 7, 9, 7, 6, 6, 7, 6, 7, 8, 8, 7, 8, 9, 6, 6, 4, 6, 6, 7, 8, 8, 5, 8, 7, 5, 5, 6, 5, 5, 7, 7, 9, 8, 7, 7, 7, 7, 11, 11, 5, 10, 7, 7, 10, 8, 7, 7, 9, 7, 6, 6, 9, 7, 9, 8, 8, 9, 8, 9, 8, 7, 8, 8, 8, 9, 6, 6, 7, 7, 7, 6, 8, 9, 8, 5, 5, 7, 8, 9, 7, 8, 9, 5, 7, 7, 7, 7, 9, 7, 7, 8, 7, 6, 5, 7, 9, 5, 6, 9, 11, 10, 8, 9, 11, 8, 10, 16, 9, 10, 9, 9, 6, 7, 10, 11, 8, 10, 8, 8, 11, 7, 6, 11, 12, 11, 11, 13, 12, 7, 11, 10, 11, 14, 12, 13, 14, 9, 6, 9, 6, 10, 9, 8, 9, 8, 9, 8, 6, 8, 7, 8, 9, 7, 10, 9, 10, 9, 7, 7, 9, 9, 12, 10, 9, 5, 7, 5, 9, 8, 7, 5, 5, 8, 9, 9, 8, 10, 9, 11, 12, 10, 11, 8, 5, 10, 12, 10, 11, 9, 10, 12, 9, 10, 10, 8, 7, 7, 8, 7, 8, 7, 4, 10, 5, 8, 7, 6, 5, 6, 7, 8, 6, 13, 7, 10, 7, 5, 5, 7, 5, 10, 7, 7, 7, 7, 5, 11, 8, 6, 10, 8, 6, 8, 12, 3, 10, 13, 9, 10, 11, 8, 12, 11, 12, 10, 6, 6, 5, 7, 7, 16, 10, 8, 7, 7, 10, 6, 4, 10, 21, 7, 6, 17, 6, 8, 5, 7, 9, 8, 6, 10, 9, 6, 9, 8, 11, 9, 10, 4, 5, 5, 4, 6, 5, 5, 7, 9, 7, 7, 7, 9, 9, 8, 12, 7, 7, 5, 7, 12, 6, 11, 16, 8, 8, 10, 6, 11, 9, 10, 11, 11, 6, 6, 6, 11, 10, 12, 13, 12, 12, 12, 10, 8, 8, 7, 7, 6, 5, 7, 10, 10, 11, 7, 11, 10, 7, 8, 5, 6, 7, 11, 9, 11, 8, 6, 13, 7, 7, 7, 7, 7, 12, 14, 16, 13, 11, 12, 16, 16, 13, 14, 12, 15, 10, 9, 9, 9, 9, 9, 12, 7, 7, 8, 7, 11, 9, 8, 10, 10, 9, 10, 14, 10, 11, 9, 10, 12, 15, 9, 10, 10, 9, 10, 11, 8, 8, 12, 5, 8, 11, 14, 9, 14, 11, 8, 9, 9, 8, 8, 15, 12, 8, 7, 12, 11, 11, 8, 8, 11, 13, 8, 10, 11, 6, 12, 8, 9, 13, 13, 12, 6, 7, 6, 13, 9, 7, 13, 13, 6, 9, 14, 8, 8, 12, 9, 8, 8, 8, 8, 9, 10, 11, 9, 10, 10, 11, 10, 11, 8, 10, 9, 9, 13, 8, 11, 8, 8, 8, 6, 8, 10, 6, 8, 6, 8, 12, 10, 6, 11, 7, 7, 8, 7, 5, 9, 7, 7, 9, 9, 8, 10, 7, 8, 8, 10, 6, 8, 9, 11, 13, 10, 10, 13, 9, 14, 10, 9, 8, 7, 16, 10, 10, 15, 6, 13, 9, 13, 7, 13, 11, 11, 7, 8, 9, 10, 12, 11, 11, 6, 8, 8, 8, 9, 10, 9, 6, 11, 7, 12, 10, 8, 12, 11, 12, 9, 7, 8, 7, 10, 13, 10, 13, 13, 10, 6, 6, 13, 6, 7, 13, 10, 7, 7, 4, 6, 6, 9, 10, 10, 10, 8, 6, 10, 8, 5, 10, 11, 10, 10, 13, 8, 12, 6, 6, 10, 10, 14, 7, 12, 8, 7, 8, 10, 10, 13, 13, 14, 8, 14, 11, 10, 8, 7, 15, 8, 8, 7, 6, 8, 10, 7, 6, 9, 15, 9, 10, 12, 11, 7, 9, 7, 11, 8, 14, 10, 13, 14, 14, 15, 9, 13, 10, 10, 9, 11, 15, 14, 10, 9, 13, 19, 19, 8, 9, 9, 9, 7, 14, 14, 16, 16, 16, 12, 10, 13, 6, 8, 7, 8, 9, 10, 9, 11, 9, 8, 9, 7, 6, 13, 14, 11, 15, 12, 9, 13, 6, 5, 17, 14, 12, 13, 13, 15, 15, 13, 9, 7, 8, 7, 5, 6, 9, 12, 10, 11, 19, 21, 19, 9, 11, 9, 12, 8, 5, 5, 6, 5, 5, 9, 10, 9, 9, 13, 9, 9, 8, 9, 10, 9, 7, 9, 10, 9, 10, 8, 8, 8, 12, 8, 9, 10, 9, 8, 10, 7, 10, 9, 10, 13, 14, 11, 12, 12, 7, 9, 11, 11, 11, 6, 8, 9, 7, 6, 7, 11, 10, 12, 10, 10, 10, 8, 9, 7, 10, 7, 11, 9, 4, 6, 7, 5, 8, 5, 6, 5, 6, 5, 5, 10, 9, 6, 11, 12, 12, 11, 5, 7, 10, 5, 10, 10, 10, 9, 9, 10, 9, 9, 10, 6, 5, 7, 6, 7, 6, 7, 8, 11, 6, 6, 8, 10, 6, 11, 6, 7, 6, 9, 8, 8, 8, 8, 9, 7, 8, 6, 9, 8, 8, 4, 9, 10, 12, 6, 11, 8, 10, 6, 12, 10, 9, 10, 7, 11, 6, 8, 4, 8, 6, 10, 7, 9, 8, 12, 10, 9, 9, 8, 9, 10, 8, 10, 10, 8, 7, 8, 7, 7, 6, 8, 8, 6, 8, 6, 6, 10, 9, 8, 5, 8, 6, 6, 8, 7, 7, 9, 6, 6, 11, 8, 7, 6, 10, 6, 8, 5, 7, 4, 8, 6, 6, 6, 6, 6, 5, 4, 4, 4, 4, 3, 9, 8, 5, 5, 4, 5, 9, 7, 6, 6, 3, 7, 6, 7, 8, 8, 5, 7, 8, 8, 8, 4, 4, 4, 5, 7, 7, 8, 6, 7, 8, 7, 7, 6, 6, 5, 5, 6, 6, 4, 5, 8, 5, 3, 3, 6, 5, 4, 7, 5, 2, 6, 6, 8, 3, 3, 4, 4, 4, 5, 4, 3, 4, 7, 8, 6, 7, 5, 7, 8, 6, 6, 7, 6, 4, 8, 3, 3, 2, 3, 3, 3, 2, 2, 3, 2, 4, 4, 4, 4, 6, 7, 6, 7, 7, 8, 7, 8, 8, 9, 3, 4, 7, 8, 6, 8, 7, 5, 4, 4, 4, 8, 5, 9, 6, 6, 10, 4, 6, 7, 8, 5, 5, 5, 5, 5, 5, 6, 5, 6, 7, 6, 7, 5, 4, 9, 6, 4, 4, 6, 8, 5, 4, 6, 5, 5, 8, 5, 6, 5, 10, 7, 6, 6, 7, 6, 7, 5, 4, 7, 5, 7, 9, 8, 7, 9, 8, 4, 7, 4, 4, 4, 7, 6, 13, 6, 4, 6, 6, 7, 6, 5, 4, 4, 7, 6, 6, 4, 6, 11, 10, 9, 11, 10, 12, 9, 11, 10, 11, 5, 2, 7, 9, 5, 7, 8, 7, 10, 9, 9, 4, 11, 13, 10, 11, 13, 11, 6, 7, 9, 8, 11, 8, 7, 10, 7, 8, 9, 8, 6, 5, 6, 7, 9, 7, 6, 9, 5, 8, 7, 10, 7, 7, 9, 9, 6, 8, 8, 11, 10, 9, 9, 7, 7, 8, 7, 13, 10, 7, 8, 4, 6, 5, 5, 6, 3, 5, 7, 9, 14, 7, 6, 10, 11, 10, 11, 11, 10, 12, 8, 10, 8, 8, 8, 8, 8, 11, 11, 12, 11, 9, 10, 13, 15, 14, 11, 15, 12, 14, 15, 7, 9, 9, 9, 12, 7, 13, 11, 9, 12, 7, 6, 7, 9, 10, 11, 6, 12, 11, 12, 11, 6, 11, 5, 5, 7, 8, 11, 11, 8, 9, 8, 6, 8, 7, 7, 8, 9, 10, 6, 6, 9, 8, 8, 6, 8, 7, 7, 7, 7, 6, 8, 8, 7, 11, 6, 10, 12, 6, 7, 6, 7, 11, 12, 14, 11, 14, 15, 13, 10, 12, 14, 11, 18, 14, 13, 11, 10, 7, 10, 8, 10, 9, 15, 12, 9, 7, 11, 8, 7, 9, 4, 5, 4, 4, 6, 9, 7, 4, 5, 8, 6, 4, 10, 8, 5, 4, 8, 4, 6, 6, 7, 8, 7, 8, 6, 4, 8, 6, 5, 8, 10, 6, 8, 10, 8, 12, 7, 8, 9, 6, 7, 7, 5, 8, 8, 8, 9, 7, 8, 8, 4, 6, 5, 8, 6, 7, 4, 6, 7, 5, 6, 4, 6, 6, 8, 6, 8, 4, 7, 6, 7, 7, 8, 7, 7, 8, 6, 8, 9, 8, 6, 5, 7, 11, 10, 8, 4, 9, 5, 7, 4, 6, 7, 7, 6, 6, 7, 7, 7, 4, 5, 6, 6, 7, 10, 9, 10, 2, 6, 3, 7, 9, 6, 4, 7, 9, 5, 5, 7, 6, 17, 10, 10, 10, 15, 6, 11, 13, 12, 6, 7, 9, 12, 8, 17, 11, 16, 7, 4, 5, 8, 7, 6, 7, 5, 5, 5, 4, 5, 6, 7, 8, 13, 12, 14, 10, 8, 5, 13, 11, 8, 11, 9, 3, 7, 4, 5, 6, 6, 6, 6, 11, 12, 12, 10, 11, 7, 5, 5, 5, 5, 6, 6, 3, 3, 7, 3, 7, 6, 8, 5, 6, 6, 8, 9, 5, 6, 7, 13, 14, 12, 9, 10, 16, 13, 8, 14, 12, 9, 8, 11, 12, 11, 9, 10, 6, 9, 13, 5, 10, 11, 7, 10, 8, 7, 10, 11, 8, 7, 6, 6, 6, 6, 15, 16, 10, 11, 14, 11, 16, 11, 10, 15, 9, 15, 10, 11, 10, 13, 15, 10, 16, 18, 11, 11, 12, 11, 11, 12, 10, 10, 11, 11, 12, 11, 12, 11, 12, 10, 11, 11, 7, 6, 10, 8, 8, 6, 13, 13, 8, 6, 9, 7, 6, 10, 8, 11, 8, 10, 7, 11, 9, 12, 12, 11, 11, 9, 11, 3, 4, 1, 3, 5, 8, 5, 5, 4, 3, 4, 3, 3, 2, 10, 10, 4, 10, 11, 1, 3, 3, 4, 1, 5, 2, 6, 6, 4, 3, 4, 4, 6, 5, 2, 5, 3, 4, 6, 6, 4, 2, 7, 3, 2, 9, 7, 4, 3, 2, 7, 4, 1, 4, 1, 3, 2, 5, 4, 4, 2, 5, 11, 8, 9, 8, 6, 6, 6, 6, 4, 5, 4, 5, 1, 6, 1, 1, 1, 3, 1, 7, 3, 8, 2, 1, 5, 3, 5, 4, 2, 1, 2, 4, 2, 6, 4, 6, 2, 3, 11, 9, 11, 13, 10, 10, 9, 12, 11, 8, 9, 10, 10, 9, 11, 12, 5, 13, 12, 10, 7, 11, 11, 9, 13, 11, 11, 10, 11, 8, 7, 7, 11, 9, 5, 14, 14, 11, 13, 12, 15, 11, 14, 13, 9, 11, 7, 10, 9, 9, 12, 9, 6, 11, 12, 17, 8, 14, 13, 12, 9, 11, 11, 12, 11, 13, 11, 11, 10, 14, 20, 10, 10, 15, 18, 13, 12, 10, 6, 5, 8, 6, 9, 7, 7, 6, 7, 12, 9, 9, 8, 10, 11, 9, 10, 8, 5, 7, 5, 9, 4, 4, 4, 6, 4, 8, 4, 9, 8, 9, 7, 5, 5, 6, 6, 4, 9, 3, 4, 5, 6, 6, 6, 6, 4, 3, 8, 8, 9, 6, 10, 7, 7, 8, 8, 9, 9, 9, 8, 6, 14, 8, 9, 5, 6, 4, 5, 7, 4, 4, 8, 7, 6, 7, 9, 6, 4, 4, 10, 11, 11, 10, 10, 9, 5, 5, 8, 8, 4, 7, 5, 7, 11, 10, 7, 9, 6, 8, 9, 7, 5, 6, 8, 8, 7, 7, 10, 6, 8, 8, 6, 7, 4, 4, 3, 5, 6, 7, 6, 6, 15, 8, 11, 15, 9, 8, 16, 16, 10, 16, 10, 12, 14, 10, 12, 9, 13, 13, 11, 11, 13, 13, 13, 13, 15, 9, 11, 11, 10, 11, 10, 8, 13, 9, 10, 8, 15, 8, 11, 10, 14, 12, 13, 14, 19, 13, 11, 12, 10, 12, 10, 10, 10, 14, 9, 11, 10, 11, 11, 11, 11, 11, 10, 13, 10, 11, 10, 13, 14, 18, 19, 10, 11, 8, 12, 13, 11, 12, 10, 12, 11, 7, 12, 10, 14, 11, 11, 10, 11, 10, 8, 11, 11, 11, 16, 11, 11, 11, 15, 15, 10, 9, 10, 10, 13, 11, 11, 10, 16, 9, 12, 9, 10, 9, 11, 11, 14, 8, 12, 8, 6, 10, 8, 9, 9, 7, 9, 7, 10, 10, 10, 15, 9, 10, 12, 8, 7, 7, 8, 7, 11, 6, 7, 5, 7, 17, 9, 11, 7, 15, 13, 15, 15, 9, 16, 10, 10, 13, 15, 15, 13, 12, 10, 10, 7, 6, 8, 7, 7, 11, 9, 9, 7, 10, 8, 9, 7, 9, 17, 9, 19, 15, 10, 11, 7, 6, 7, 10, 13, 10, 10, 12, 9, 12, 11, 9, 18, 13, 12, 10, 6, 8, 8, 8, 11, 9, 11, 12, 11, 12, 6, 9, 10, 7, 9, 8, 6, 9, 7, 10, 10, 8, 8, 10, 6, 9, 8, 8, 10, 10, 8, 6, 6, 6, 9, 6, 6, 8, 7, 8, 9, 6, 7, 2, 6, 6, 9, 9, 6, 6, 6, 6, 5, 5, 6, 7, 6, 9, 10, 11, 10, 9, 8, 6, 8, 6, 8, 6, 10, 12, 9, 13, 11, 11, 8, 9, 8, 12, 7, 8, 7, 7, 8, 6, 12, 12, 7, 9, 7, 12, 13, 9, 9, 9, 10, 6, 5, 10, 6, 11, 8, 6, 9, 7, 7, 11, 6, 6, 6, 7, 9, 9, 12, 10, 9, 8, 5, 6, 6, 6, 6, 9, 11, 6, 8, 8, 7, 10, 8, 8, 8, 5, 7, 5, 6, 5, 9, 12, 7, 8, 12, 6, 8, 7, 10, 11, 8, 8, 9, 8, 7, 8, 10, 7, 8, 10, 9, 6, 10, 6, 7, 8, 10, 10, 8, 9, 10, 9, 7, 5, 8, 9, 11, 9, 11, 9, 5, 5, 6, 5, 5, 6, 5, 5, 4, 7, 9, 5, 8, 8, 9, 6, 6, 8, 7, 5, 7, 9, 11, 8, 9, 7, 10, 8, 10, 7, 8, 8, 9, 9, 8, 11, 8, 11, 5, 5, 6, 5, 6, 4, 9, 7, 14, 13, 13, 10, 9, 12, 9, 9, 12, 7, 8, 7, 9, 10, 9, 7, 10, 10, 11, 10, 11, 12, 11, 9, 12, 11, 11, 12, 9, 10, 13, 9, 6, 13, 7, 7, 5, 12, 7, 11, 8, 11, 8, 10, 10, 10, 8, 10, 10, 9, 10, 7, 12, 15, 14, 14, 17, 9, 15, 9, 7, 9, 4, 5, 5, 11, 11, 10, 10, 11, 13, 11, 13, 22, 19, 8, 4, 12, 7, 5, 6, 8, 7, 9, 7, 7, 5, 7, 7, 7, 7, 7, 7, 7, 7, 6, 7, 7, 7, 7, 6, 7, 15, 7, 8, 8, 7, 5, 6, 8, 7, 7, 7, 7, 7, 7, 7, 10, 7, 8, 6, 8, 10, 9, 8, 10, 8, 10, 6, 7, 10, 7, 7, 9, 7, 7, 7, 10, 6, 7, 8, 8, 7, 12, 9, 6, 8, 7, 7, 7, 6, 7, 6, 5, 4, 6, 10, 7, 7, 6, 6, 6, 4, 7, 4, 7, 7, 7, 7, 7, 7, 9, 7, 6, 7, 5, 10, 8, 7, 7, 6, 8, 6, 6, 5, 7, 6, 7, 3, 11, 5, 4, 9, 5, 5, 6, 4, 6, 6, 8, 4, 7, 5, 9, 9, 8, 9, 6, 7, 6, 9, 8, 6, 9, 7, 3, 4, 6, 6, 8, 5, 6, 9, 9, 7, 7, 9, 8, 5, 9, 6, 7, 4, 5, 5, 6, 5, 5, 4, 6, 3, 3, 3, 3, 3, 2, 4, 2, 3, 4, 8, 4, 8, 9, 5, 8, 5, 4, 8, 5, 12, 6, 6, 4, 5, 6, 7, 8, 5, 4, 5, 7, 8, 7, 5, 5, 9, 5, 14, 15, 16, 16, 17, 16, 15, 13, 18, 18, 15, 14, 15, 17, 16, 15, 15, 16, 18, 15, 16, 14, 14, 14, 14, 11, 9, 9, 7, 11, 8, 8, 12, 12, 16, 22, 21, 12, 15, 9, 16, 7, 9, 16, 19, 21, 14, 17, 17, 7, 22, 17, 14, 16, 15, 16, 14, 14, 18, 14, 15, 10, 11, 9, 15, 14, 13, 8, 12, 10, 9, 10, 12, 10, 11, 14, 11, 15, 17, 10, 9, 9, 16, 9, 9, 10, 16, 11, 7, 16, 14, 10, 13, 13, 18, 17, 16, 15, 13, 9, 5, 9, 10, 7, 4, 3, 9, 7, 6, 7, 7, 4, 4, 10, 8, 10, 11, 8, 7, 9, 7, 5, 7, 5, 8, 6, 7, 9, 8, 10, 8, 13, 4, 7, 7, 8, 6, 9, 10, 7, 7, 6, 9, 10, 5, 4, 8, 7, 8, 6, 2, 11, 12, 6, 9, 3, 8, 9, 7, 6, 7, 6, 7, 7, 4, 5, 6, 7, 7, 8, 6, 6, 9, 7, 9, 9, 8, 8, 9, 9, 8, 10, 5, 6, 6, 11, 9, 5, 9, 6, 7, 7, 7, 7, 7, 8, 9, 6, 6, 7, 7, 6, 6, 7, 6, 6, 4, 4, 6, 4, 9, 6, 9, 6, 6, 8, 7, 6, 8, 8, 6, 6, 6, 8, 5, 7, 4, 6, 1, 3, 3, 4, 6, 8, 7, 5, 9, 10, 3, 5, 5, 4, 7, 8, 4, 3, 6, 5, 8, 7, 7, 4, 7, 7, 8, 8, 7, 7, 7, 6, 7, 8, 5, 8, 7, 6, 6, 7, 6, 7, 7, 7, 12, 7, 5, 7, 7, 9, 6, 5, 6, 7, 6, 5, 6, 9, 6, 7, 9, 8, 9, 12, 10, 6, 8, 8, 4, 6, 6, 6, 6, 6, 7, 7, 8, 5, 7, 5, 6, 8, 8, 10, 7, 10, 8, 7, 7, 7, 14, 10, 11, 14, 10, 8, 9, 13, 13, 8, 9, 10, 9, 11, 13, 11, 8, 12, 10, 10, 10, 9, 8, 8, 8, 7, 10, 8, 9, 7, 10, 8, 9, 7, 6, 11, 6, 7, 5, 6, 7, 8, 6, 7, 8, 13, 8, 8, 7, 13, 8, 9, 10, 7, 8, 11, 6, 7, 8, 11, 9, 10, 10, 7, 7, 9, 7, 8, 12, 8, 7, 6, 10, 7, 6, 9, 7, 6, 7, 8, 8, 8, 9, 12, 11, 8, 12, 12, 9, 8, 6, 6, 10, 8, 6, 11, 12, 13, 7, 12, 11, 11, 11, 13, 9, 12, 12, 12, 12, 12, 7, 12, 11, 8, 7, 6, 7, 9, 8, 7, 12, 15, 10, 13, 11, 9, 12, 13, 8, 10, 7, 13, 8, 11, 9, 11, 10, 13, 13, 13, 15, 12, 12, 8, 6, 10, 12, 8, 10, 10, 13, 9, 10, 11, 9, 10, 11, 9, 10, 8, 9, 11, 11, 9, 7, 8, 9, 8, 12, 8, 11, 11, 10, 8, 9, 6, 8, 9, 6, 12, 9, 9, 4, 4, 3, 5, 4, 3, 3, 7, 5, 3, 9, 5, 10, 5, 6, 6, 4, 5, 5, 9, 6, 6, 4, 8, 5, 4, 5, 9, 5, 4, 4, 4, 3, 5, 4, 8, 8, 3, 6, 2, 4, 7, 5, 6, 5, 5, 8, 7, 11, 6, 5, 5, 5, 4, 5, 4, 4, 8, 8, 5, 8, 8, 10, 7, 14, 13, 9, 7, 7, 15, 8, 6, 5, 10, 4, 8, 5, 6, 4, 5, 4, 7, 6, 4, 4, 4, 6, 4, 5, 7, 7, 9, 8, 8, 4, 2, 3, 3, 3, 4, 10, 4, 8, 8, 8, 1, 4, 1, 1, 1, 1, 4, 3, 2, 1, 7, 5, 6, 3, 10, 5, 7, 3, 2, 7, 7, 2, 10, 4, 2, 5, 4, 4, 7, 5, 6, 8, 5, 6, 8, 3, 12, 2, 2, 4, 3, 3, 2, 4, 1, 3, 1, 5, 5, 5, 3, 8, 1, 4, 3, 6, 7, 2, 5, 8, 5, 9, 6, 4, 3, 3, 2, 2, 4, 1, 3, 3, 3, 2, 3, 5, 2, 3, 3, 5, 5, 4, 3, 3, 7, 4, 4, 4, 4, 5, 1, 3, 3, 3, 6, 9, 10, 8, 11, 11, 11, 12, 14, 11, 17, 8, 8, 12, 11, 8, 7, 11, 11, 10, 10, 11, 10, 15, 15, 11, 12, 10, 13, 12, 11, 9, 14, 12, 9, 11, 8, 14, 7, 7, 7, 9, 13, 9, 9, 11, 9, 9, 9, 9, 7, 10, 7, 10, 10, 10, 10, 10, 9, 7, 9, 9, 9, 6, 11, 13, 11, 15, 12, 8, 8, 9, 7, 6, 12, 14, 10, 9, 7, 9, 6, 11, 12, 14, 9, 9, 10, 11, 9, 13, 5, 9, 9, 6, 6, 9, 14, 10, 9, 12, 15, 12, 13, 12, 13, 9, 13, 10, 12, 9, 12, 10, 8, 11, 14, 8, 7, 14, 10, 10, 9, 10, 9, 11, 9, 11, 12, 9, 12, 9, 10, 7, 10, 10, 9, 13, 13, 7, 13, 13, 9, 9, 13, 9, 7, 11, 10, 13, 15, 7, 9, 8, 9, 13, 11, 12, 8, 11, 9, 9, 11, 13, 9, 11, 13, 12, 12, 6, 12, 9, 10, 5, 11, 5, 7, 13, 10, 10, 8, 14, 13, 10, 14, 9, 12, 20, 9, 14, 14, 11, 7, 6, 6, 9, 8, 11, 10, 9, 11, 10, 11, 7, 13, 9, 9, 10, 8, 9, 9, 8, 8, 8, 11, 8, 9, 7, 7, 10, 11, 7, 7, 10, 7, 9, 9, 11, 8, 10, 10, 7, 10, 9, 8, 9, 10, 8, 8, 10, 7, 8, 9, 6, 13, 7, 8, 5, 6, 9, 7, 7, 4, 9, 9, 10, 10, 10, 9, 8, 13, 10, 10, 8, 11, 8, 9, 7, 8, 8, 10, 9, 8, 6, 12, 11, 10, 11, 10, 11, 8, 7, 7, 5, 10, 10, 8, 8, 10, 10, 10, 9, 6, 7, 8, 7, 9, 11, 9, 10, 8, 9, 6, 9, 9, 7, 8, 6, 9, 9, 9, 9, 9, 9, 9, 9, 9, 9, 11, 11, 15, 11, 9, 13, 8, 13, 10, 7, 13, 8, 9, 12, 14, 10, 10, 8, 5, 8, 14, 13, 13, 10, 12, 8, 13, 7, 9, 9, 5, 10, 6, 7, 6, 8, 8, 11, 10, 7, 11, 7, 10, 10, 4, 7, 16, 11, 8, 12, 9, 10, 10, 9, 10, 10, 10, 13, 14, 9, 15, 14, 13, 13, 8, 3, 3, 3, 4, 10, 8, 8, 10, 10, 8, 8, 9, 11, 7, 8, 10, 13, 10, 5, 9, 6, 2, 6, 3, 5, 4, 5, 4, 4, 2, 7, 7, 6, 6, 6, 6, 6, 6, 4, 7, 5, 6, 6, 9, 10, 8, 6, 8, 6, 8, 8, 9, 6, 5, 8, 7, 5, 5, 5, 5, 5, 5, 8, 5, 4, 2, 6, 8, 4, 6, 5, 5, 7, 9, 5, 8, 8, 8, 8, 5, 8, 6, 7, 7, 7, 7, 7, 5, 7, 8, 6, 8, 9, 13, 6, 9, 10, 7, 6, 5, 4, 8, 5, 5, 8, 8, 8, 6, 7, 7, 7, 7, 7, 6, 6, 6, 5, 6, 7, 6, 2, 4, 3, 5, 4, 5, 2, 2, 5, 2, 5, 5, 2, 4, 5, 1, 2, 3, 5, 4, 4, 3, 2, 2, 3, 2, 3, 2, 4, 3, 2, 4, 5, 6, 2, 3, 5, 6, 6, 5, 9, 1, 4, 5, 4, 6, 4, 2, 5, 4, 2, 3, 1, 4, 4, 3, 4, 2, 1, 5, 5, 5, 2, 4, 5, 4, 4, 3, 2, 4, 3, 5, 4, 4, 4, 8, 6, 5, 1, 4, 4, 1, 6, 6, 3, 3, 2, 4, 5, 5, 5, 4, 4, 5, 5, 2, 3, 3, 3, 1, 8, 8, 7, 6, 4, 5, 6, 5, 6, 7, 5, 8, 6, 9, 9, 8, 7, 5, 7, 9, 8, 9, 6, 6, 6, 6, 9, 7, 7, 7, 6, 7, 7, 4, 4, 6, 5, 7, 6, 6, 7, 4, 4, 4, 7, 7, 6, 5, 6, 9, 10, 9, 6, 7, 9, 6, 4, 5, 5, 4, 7, 6, 5, 9, 5, 9, 5, 4, 5, 5, 5, 6, 6, 6, 6, 7, 8, 8, 9, 4, 5, 10, 9, 7, 9, 9, 5, 4, 5, 4, 8, 7, 7, 10, 9, 7, 8, 9, 6, 6, 4, 5, 6, 7, 5, 6, 8, 5, 11, 8, 4, 4, 5, 5, 5, 7, 7, 9, 9, 10, 9, 9, 11, 12, 6, 7, 6, 7, 5, 8, 7, 10, 8, 6, 5, 5, 6, 3, 9, 9, 11, 5, 5, 6, 5, 8, 15, 11, 6, 7, 6, 6, 4, 4, 6, 8, 5, 6, 5, 11, 6, 5, 6, 7, 5, 4, 3, 7, 4, 6, 4, 5, 4, 4, 6, 8, 12, 6, 10, 7, 6, 7, 10, 3, 9, 6, 6, 6, 4, 6, 6, 3, 6, 6, 4, 8, 8, 8, 9, 10, 8, 9, 6, 5, 10, 12, 11, 16, 10, 12, 10, 11, 8, 6, 11, 5, 7, 6, 13, 7, 11, 13, 9, 10, 9, 11, 8, 10, 9, 8, 9, 8, 8, 8, 7, 8, 11, 7, 13, 11, 13, 12, 11, 9, 7, 13, 12, 13, 10, 9, 8, 9, 10, 8, 3, 7, 7, 13, 19, 13, 20, 13, 7, 7, 10, 8, 9, 10, 8, 10, 7, 7, 9, 10, 11, 7, 15, 10, 14, 3, 5, 7, 9, 9, 8, 7, 8, 6, 12, 12, 13, 12, 11, 8, 12, 14, 11, 16, 12, 8, 7, 5, 6, 4, 11, 12, 11, 12, 12, 10, 9, 8, 8, 7, 6, 8, 6, 5, 10, 10, 15, 14, 12, 11, 13, 12, 11, 13, 14, 9, 12, 10, 6, 10, 11, 10, 10, 12, 13, 15, 12, 9, 15, 9, 7, 9, 9, 6, 6, 11, 9, 9, 7, 12, 14, 10, 7, 7, 9, 7, 8, 8, 7, 8, 4, 7, 8, 5, 8, 8, 7, 9, 4, 6, 8, 9, 8, 8, 7, 7, 7, 7, 13, 9, 7, 10, 10, 7, 4, 5, 6, 11, 11, 12, 11, 12, 13, 14, 10, 14, 14, 10, 9, 11, 15, 12, 11, 11, 11, 11, 11, 11, 11, 11, 10, 7, 7, 3, 3, 5, 6, 9, 10, 8, 11, 8, 9, 11, 12, 11, 10, 6, 6, 9, 7, 5, 6, 9, 5, 7, 9, 16, 15, 14, 9, 10, 10, 10, 8, 11, 10, 12, 8, 9, 10, 7, 11, 11, 11, 8, 8, 12, 9, 10, 11, 10, 10, 11, 9, 10, 13, 9, 10, 11, 9, 9, 10, 12, 9, 10, 10, 10, 13, 13, 11, 10, 11, 12, 12, 11, 12, 12, 10, 10, 11, 8, 10, 10, 9, 6, 7, 4, 10, 6, 5, 5, 9, 7, 5, 7, 4, 8, 6, 5, 7, 4, 10, 4, 8, 5, 7, 11, 8, 11, 10, 16, 11, 7, 8, 10, 10, 12, 12, 7, 5, 6, 7, 6, 7, 9, 8, 14, 6, 5, 6, 7, 9, 8, 2, 9, 9, 5, 8, 6, 7, 7, 7, 7, 7, 3, 7, 5, 8, 8, 7, 8, 5, 9, 7, 8, 8, 8, 6, 5, 7, 9, 9, 7, 5, 8, 7, 10, 9, 7, 8, 7, 9, 7, 13, 7, 9, 7, 9, 11, 5, 6, 3, 8, 5, 6, 19, 18, 16, 16, 10, 10, 14, 13, 12, 9, 13, 18, 16, 15, 17, 17, 15, 15, 17, 16, 14, 16, 21, 16, 16, 12, 17, 14, 14, 14, 15, 11, 16, 13, 17, 11, 9, 13, 21, 13, 10, 15, 18, 11, 16, 16, 15, 15, 15, 11, 18, 11, 15, 15, 15, 12, 15, 16, 17, 15, 15, 15, 16, 26, 22, 24, 19, 19, 18, 13, 17, 13, 16, 6, 7, 5, 6, 8, 19, 19, 21, 19, 19, 14, 19, 19, 16, 19, 17, 21, 18, 13, 12, 16, 16, 21, 13, 17, 13, 11, 11, 8, 13, 9, 10, 10, 8, 10, 13, 8, 11, 8, 8, 7, 7, 7, 11, 9, 6, 6, 6, 6, 5, 9, 7, 8, 7, 7, 8, 6, 8, 10, 7, 7, 8, 9, 9, 9, 10, 10, 8, 4, 7, 5, 7, 9, 8, 8, 6, 6, 7, 3, 7, 8, 9, 7, 9, 11, 11, 9, 6, 8, 5, 9, 10, 9, 7, 8, 7, 7, 5, 8, 11, 7, 10, 8, 10, 9, 7, 6, 7, 10, 8, 8, 8, 8, 10, 9, 8, 6, 7, 7, 6, 7, 6, 7, 7, 3, 5, 5, 12, 10, 9, 10, 10, 11, 8, 11, 10, 10, 10, 10, 8, 14, 15, 12, 13, 14, 13, 10, 15, 11, 10, 10, 6, 8, 8, 7, 10, 9, 7, 6, 11, 15, 17, 15, 15, 13, 8, 5, 4, 4, 6, 9, 5, 10, 11, 5, 10, 9, 8, 5, 6, 10, 7, 3, 10, 5, 9, 3, 8, 4, 4, 6, 6, 2, 5, 5, 9, 9, 8, 8, 9, 10, 15, 9, 13, 14, 10, 12, 14, 12, 11, 5, 2, 7, 6, 5, 12, 15, 11, 11, 13, 4, 4, 6, 7, 5, 12, 9, 9, 7, 10, 10, 8, 12, 14, 12, 12, 13, 7, 7, 6, 4, 5, 8, 8, 8, 13, 11, 12, 11, 11, 10, 9, 8, 10, 11, 11, 13, 14, 10, 10, 10, 8, 10, 11, 9, 11, 12, 10, 13, 14, 10, 7, 8, 11, 6, 7, 8, 8, 8, 9, 8, 8, 10, 9, 11, 9, 11, 13, 11, 10, 12, 6, 8, 8, 6, 9, 6, 12, 5, 16, 12, 11, 9, 4, 7, 9, 9, 4, 6, 6, 6, 5, 7, 8, 7, 7, 8, 8, 9, 7, 6, 8, 10, 13, 7, 9, 7, 8, 7, 7, 7, 9, 7, 6, 7, 7, 6, 7, 6, 8, 6, 6, 6, 5, 6, 6, 7, 11, 7, 9, 5, 8, 7, 7, 6, 5, 11, 7, 10, 8, 9, 10, 8, 8, 10, 9, 10, 6, 8, 5, 9, 14, 7, 8, 6, 9, 10, 6, 7, 6, 13, 8, 8, 9, 11, 7, 7, 8, 6, 9, 5, 8, 6, 5, 6, 5, 5, 8, 7, 6, 6, 5, 6, 6, 4, 6, 7, 5, 7, 7, 7, 9, 8, 7, 7, 6, 8, 6, 7, 7, 10, 7, 11, 7, 8, 10, 4, 17, 12, 12, 15, 14, 13, 12, 9, 12, 13, 10, 15, 11, 13, 14, 14, 10, 13, 17, 9, 11, 10, 12, 20, 12, 11, 10, 16, 10, 13, 14, 12, 13, 15, 16, 13, 14, 13, 9, 11, 9, 12, 9, 13, 8, 11, 11, 12, 14, 15, 17, 6, 8, 8, 8, 5, 14, 15, 7, 8, 9, 9, 9, 10, 10, 14, 14, 14, 15, 13, 12, 9, 8, 8, 7, 10, 8, 8, 9, 9, 9, 11, 8, 9, 8, 8, 9, 8, 10, 8, 13, 8, 7, 14, 9, 15, 11, 9, 13, 9, 11, 6, 8, 8, 5, 5, 7, 7, 7, 5, 5, 5, 5, 3, 3, 3, 4, 6, 6, 2, 3, 7, 4, 11, 11, 6, 5, 5, 8, 8, 6, 7, 5, 8, 7, 8, 10, 8, 13, 8, 7, 10, 6, 15, 7, 5, 14, 7, 7, 7, 15, 13, 10, 12, 4, 3, 8, 3, 4, 6, 4, 4, 7, 4, 6, 4, 5, 6, 3, 6, 6, 7, 4, 6, 3, 7, 6, 7, 7, 10, 10, 8, 12, 11, 6, 9, 5, 5, 2, 5, 7, 4, 5, 7, 8, 4, 7, 6, 6, 12, 7, 9, 10, 7, 9, 5, 16, 14, 16, 19, 16, 10, 11, 19, 8, 10, 9, 10, 9, 11, 7, 12, 13, 11, 11, 9, 11, 9, 9, 9, 16, 14, 6, 13, 12, 6, 13, 12, 12, 7, 12, 5, 9, 13, 11, 11, 10, 10, 8, 10, 9, 9, 8, 11, 13, 14, 12, 10, 17, 13, 9, 9, 9, 9, 10, 10, 9, 10, 16, 11, 6, 8, 7, 11, 10, 14, 12, 11, 6, 8, 9, 8, 8, 7, 6, 6, 8, 15, 7, 9, 9, 7, 12, 7, 10, 12, 7, 5, 9, 9, 12, 13, 13, 11, 5, 7, 6, 8, 7, 7, 5, 8, 5, 7, 5, 6, 7, 8, 6, 6, 5, 8, 6, 4, 5, 8, 9, 8, 5, 4, 4, 7, 8, 10, 8, 5, 10, 8, 3, 6, 4, 6, 8, 5, 4, 5, 5, 6, 8, 7, 3, 7, 6, 4, 6, 6, 3, 10, 14, 10, 13, 11, 9, 10, 12, 6, 5, 7, 6, 6, 7, 5, 8, 8, 8, 4, 5, 6, 8, 13, 9, 10, 8, 9, 4, 8, 7, 7, 8, 10, 7, 7, 8, 8, 8, 10, 11, 11, 10, 6, 7, 6, 6, 7, 8, 5, 8, 8, 8, 9, 8, 4, 7, 6, 6, 5, 7, 5, 7, 6, 6, 6, 7, 9, 10, 9, 7, 11, 9, 7, 9, 11, 10, 11, 13, 13, 10, 9, 8, 10, 8, 10, 8, 7, 7, 10, 8, 7, 5, 5, 5, 6, 6, 7, 8, 5, 5, 11, 8, 7, 8, 7, 9, 6, 10, 12, 15, 11, 14, 11, 11, 12, 11, 9, 10, 12, 11, 10, 9, 7, 7, 8, 8, 11, 11, 9, 9, 6, 5, 7, 6, 10, 10, 7, 7, 9, 6, 11, 9, 5, 7, 8, 9, 7, 11, 9, 13, 8, 9, 6, 8, 9, 8, 10, 8, 10, 9, 9, 7, 10, 8, 7, 7, 7, 8, 10, 6, 9, 12, 9, 7, 8, 5, 8, 10, 13, 7, 10, 9, 7, 12, 7, 11, 12, 7, 6, 10, 10, 7, 7, 6, 8, 11, 8, 9, 10, 11, 7, 10, 12, 14, 9, 7, 13, 12, 10, 12, 9, 12, 10, 10, 10, 7, 10, 9, 9, 7, 10, 9, 9, 9, 9, 9, 7, 8, 10, 8, 6, 5, 8, 9, 8, 5, 10, 6, 10, 8, 6, 8, 6, 10, 7, 9, 8, 7, 8, 9, 8, 10, 8, 8, 8, 9, 11, 11, 9, 7, 7, 8, 10, 8, 7, 13, 11, 9, 10, 9, 13, 11, 8, 11, 10, 10, 14, 11, 9, 11, 11, 6, 9, 9, 8, 11, 10, 10, 9, 11, 8, 9, 9, 7, 7, 8, 11, 7, 7, 12, 8, 8, 11, 12, 11, 7, 11, 8, 8, 8, 7, 7, 5, 9, 10, 10, 9, 7, 7, 6, 6, 6, 7, 7, 6, 6, 9, 7, 8, 8, 10, 9, 8, 8, 8, 7, 6, 6, 6, 6, 10, 9, 7, 7, 11, 8, 10, 8, 5, 6, 7, 8, 8, 9, 12, 7, 7, 6, 5, 8, 7, 10, 9, 7, 8, 8, 11, 12, 11, 5, 9, 11, 4, 9, 6, 8, 5, 12, 7, 12, 8, 4, 6, 7, 6, 4, 5, 5, 6, 8, 5, 8, 8, 4, 5, 7, 5, 6, 6, 10, 11, 7, 13, 7, 12, 16, 10, 14, 18, 5, 14, 11, 7, 9, 9, 6, 4, 10, 6, 7, 4, 7, 10, 8, 11, 11, 8, 9, 10, 7, 10, 7, 9, 6, 8, 12, 8, 8, 11, 9, 12, 16, 8, 8, 8, 10, 7, 7, 6, 8, 4, 6, 5, 6, 7, 5, 5, 3, 5, 4, 6, 6, 8, 5, 8, 6, 3, 5, 9, 5, 8, 6, 5, 8, 6, 8, 6, 6, 6, 4, 3, 6, 6, 8, 8, 8, 6, 6, 8, 4, 6, 7, 6, 7, 6, 9, 8, 6, 6, 8, 5, 7, 6, 8, 5, 5, 8, 4, 5, 6, 6, 6, 3, 3, 5, 5, 4, 6, 6, 5, 6, 5, 5, 6, 6, 6, 6, 6, 6, 6, 8, 8, 4, 5, 9, 10, 7, 7, 8, 6, 8, 8, 6, 4, 5, 4, 10, 5, 8, 10, 6, 8, 4, 7, 8, 7, 6, 9, 9, 8, 8, 8, 6, 11, 8, 5, 12, 7, 9, 15, 11, 5, 4, 5, 5, 10, 8, 19, 7, 12, 8, 8, 7, 7, 10, 6, 10, 5, 4, 7, 7, 7, 7, 8, 7, 7, 8, 8, 8, 8, 5, 5, 8, 11, 10, 5, 11, 5, 8, 7, 9, 7, 8, 5, 9, 8, 5, 6, 6, 6, 8, 7, 9, 8, 8, 9, 7, 6, 7, 6, 7, 11, 6, 7, 6, 8, 7, 7, 7, 7, 7, 4, 6, 5, 6, 5, 6, 4, 6, 6, 6, 8, 8, 7, 7, 4, 4, 8, 5, 5, 5, 5, 5, 4, 5, 6, 8, 8, 6, 7, 7, 6, 7, 6, 7, 5, 9, 5, 7, 7, 6, 9, 8, 6, 9, 8, 8, 9, 4, 3, 6, 4, 5, 8, 4, 5, 6, 4, 5, 6, 4, 5, 6, 6, 5, 7, 7, 7, 5, 7, 9, 9, 5, 5, 4, 4, 5, 5, 8, 5, 7, 11, 8, 8, 7, 8, 9, 5, 5, 4, 3, 4, 6, 5, 6, 3, 4, 7, 4, 6, 5, 4, 6, 15, 22, 21, 20, 18, 9, 7, 9, 11, 8, 8, 8, 9, 8, 20, 14, 12, 15, 21, 19, 17, 15, 15, 21, 14, 11, 15, 14, 8, 14, 14, 19, 13, 16, 11, 12, 11, 11, 12, 17, 9, 8, 20, 13, 19, 17, 9, 21, 13, 12, 12, 12, 10, 12, 12, 10, 12, 9, 11, 16, 12, 13, 14, 14, 11, 13, 11, 9, 10, 9, 12, 9, 9, 7, 11, 22, 17, 13, 18, 14, 5, 7, 6, 8, 8, 16, 13, 14, 15, 7, 17, 12, 13, 12, 17, 13, 9, 8, 10, 10, 10, 9, 7, 8, 9, 13, 9, 7, 8, 8, 11, 10, 12, 7, 10, 11, 16, 10, 10, 11, 10, 13, 10, 12, 9, 12, 10, 10, 9, 11, 9, 11, 10, 9, 12, 10, 11, 6, 6, 7, 6, 8, 9, 10, 7, 9, 11, 9, 9, 10, 9, 6, 9, 9, 6, 9, 10, 10, 16, 10, 13, 7, 9, 6, 9, 6, 6, 7, 7, 9, 8, 8, 10, 10, 8, 9, 9, 11, 6, 13, 7, 9, 7, 10, 9, 9, 10, 10, 10, 7, 9, 9, 8, 7, 9, 9, 11, 10, 15, 10, 8, 8, 8, 7, 8, 8, 9, 9, 9, 8, 8, 8, 8, 7, 5, 6, 8, 9, 7, 10, 5, 7, 7, 9, 5, 6, 11, 9, 6, 6, 9, 6, 9, 7, 6, 7, 6, 6, 4, 6, 8, 8, 6, 8, 9, 7, 10, 13, 8, 8, 9, 10, 9, 9, 5, 6, 14, 6, 6, 11, 6, 14, 7, 13, 7, 6, 6, 7, 7, 7, 8, 9, 9, 9, 9, 10, 8, 10, 6, 7, 9, 8, 5, 8, 10, 6, 13, 13, 7, 7, 7, 7, 8, 9, 9, 15, 6, 6, 8, 7, 8, 6, 7, 6, 6, 8, 8, 11, 7, 12, 5, 6, 6, 5, 5, 7, 8, 11, 8, 6, 6, 7, 6, 7, 5, 7, 9, 10, 9, 14, 9, 6, 10, 10, 16, 8, 11, 12, 9, 8, 8, 8, 8, 8, 8, 7, 7, 6, 6, 7, 6, 10, 5, 6, 8, 6, 8, 8, 9, 8, 9, 6, 10, 3, 6, 7, 12, 8, 9, 9, 12, 7, 7, 7, 8, 6, 7, 6, 11, 9, 8, 9, 9, 9, 9, 6, 6, 9, 9, 7, 7, 9, 13, 9, 8, 11, 7, 14, 9, 8, 13, 6, 8, 8, 6, 10, 6, 7, 12, 6, 6, 7, 4, 7, 7, 6, 6, 8, 7, 6, 8, 4, 7, 6, 6, 5, 5, 4, 4, 9, 8, 3, 4, 9, 8, 6, 8, 7, 9, 9, 6, 6, 7, 6, 7, 7, 9, 6, 11, 8, 10, 8, 7, 5, 7, 7, 6, 9, 12, 6, 5, 5, 6, 6, 14, 6, 8, 5, 7, 7, 3, 6, 6, 4, 9, 7, 7, 6, 6, 5, 7, 11, 5, 7, 7, 10, 7, 5, 5, 5, 9, 5, 7, 4, 10, 5, 5, 6, 7, 6, 8, 10, 10, 9, 7, 8, 8, 7, 5, 6, 6, 7, 8, 6, 4, 5, 9, 8, 13, 8, 8, 7, 9, 12, 6, 9, 12, 7, 12, 7, 12, 13, 7, 12, 10, 10, 6, 9, 10, 8, 9, 5, 12, 10, 8, 13, 9, 8, 7, 5, 8, 6, 8, 10, 13, 9, 8, 6, 6, 8, 11, 12, 11, 11, 11, 12, 10, 9, 13, 6, 15, 7, 7, 9, 4, 8, 9, 9, 4, 8, 10, 10, 7, 11, 11, 11, 12, 11, 12, 8, 9, 8, 8, 7, 8, 10, 8, 8, 9, 10, 13, 9, 10, 11, 12, 19, 14, 12, 11, 10, 10, 10, 10, 6, 5, 8, 6, 9, 7, 8, 8, 11, 10, 9, 10, 11, 11, 9, 6, 6, 5, 6, 6, 5, 9, 5, 10, 7, 7, 9, 15, 16, 10, 12, 16, 5, 15, 13, 6, 8, 8, 13, 11, 12, 14, 13, 8, 15, 8, 7, 8, 12, 12, 12, 9, 6, 12, 10, 6, 9, 4, 8, 10, 9, 5, 9, 6, 10, 10, 11, 10, 10, 11, 12, 17, 14, 18, 13, 12, 15, 15, 14, 9, 10, 11, 13, 10, 7, 10, 11, 12, 9, 12, 8, 14, 5, 3, 9, 4, 7, 8, 9, 9, 7, 10, 12, 14, 11, 15, 7, 11, 14, 12, 10, 10, 13, 12, 8, 10, 13, 11, 10, 10, 12, 11, 10, 11, 13, 10, 10, 11, 12, 11, 13, 12, 9, 8, 8, 11, 8, 6, 6, 9, 6, 12, 12, 14, 13, 11, 14, 12, 12, 12, 11, 12, 13, 10, 14, 13, 13, 7, 6, 11, 15, 12, 9, 10, 8, 4, 9, 13, 7, 9, 10, 14, 11, 14, 15, 12, 8, 12, 8, 13, 8, 15, 13, 16, 9, 11, 9, 7, 8, 10, 8, 8, 7, 8, 8, 9, 9, 12, 13, 13, 11, 15, 8, 5, 6, 5, 8, 8, 10, 9, 8, 8, 10, 6, 10, 6, 9, 9, 12, 11, 12, 14, 11, 7, 8, 8, 8, 7, 14, 9, 10, 13, 7, 13, 6, 14, 13, 10, 9, 8, 15, 7, 7, 16, 8, 9, 8, 10, 12, 14, 15, 11, 10, 13, 16, 11, 9, 12, 15, 17, 10, 13, 12, 11, 7, 10, 10, 13, 11, 13, 14, 14, 13, 6, 13, 9, 8, 5, 8, 13, 9, 10, 8, 14, 8, 11, 7, 7, 10, 13, 8, 11, 6, 7, 9, 8, 12, 11, 9, 4, 7, 5, 4, 4, 9, 9, 6, 9, 7, 7, 3, 10, 8, 5, 2, 10, 9, 7, 3, 13, 6, 7, 12, 7, 11, 7, 11, 7, 2, 5, 8, 4, 6, 7, 10, 9, 2, 3, 8, 9, 5, 7, 9, 7, 8, 6, 10, 3, 9, 6, 8, 12, 7, 9, 5, 7, 10, 9, 9, 6, 9, 9, 5, 6, 7, 6, 8, 11, 3, 6, 7, 5, 9, 5, 10, 7, 9, 9, 6, 7, 5, 9, 5, 7, 3, 4, 6, 12, 10, 4, 4, 6, 11, 11, 6, 12, 7, 13, 9, 11, 4, 8, 12, 4, 7, 6, 7, 7, 8, 5, 13, 6, 9, 8, 7, 9, 9, 7, 5, 8, 7, 10, 6, 6, 10, 10, 8, 8, 6, 10, 8, 8, 7, 11, 8, 9, 6, 7, 10, 7, 10, 10, 11, 12, 12, 12, 11, 11, 12, 8, 8, 11, 10, 8, 9, 9, 10, 5, 10, 11, 9, 13, 7, 13, 7, 7, 12, 9, 10, 14, 8, 8, 11, 10, 11, 6, 7, 7, 9, 9, 9, 8, 9, 7, 9, 8, 7, 7, 11, 10, 8, 5, 8, 16, 6, 12, 8, 5, 8, 16, 11, 11, 8, 8, 10, 12, 9, 10, 8, 9, 10, 7, 7, 8, 5, 9, 8, 10, 11, 7, 7, 8, 5, 7, 6, 10, 12, 6, 8, 5, 6, 9, 7, 13, 5, 5, 11, 6, 7, 5, 8, 4, 8, 6, 10, 10, 7, 10, 4, 9, 13, 11, 8, 7, 12, 5, 14, 11, 6, 14, 7, 7, 8, 7, 6, 9, 7, 7, 7, 10, 9, 7, 6, 10, 6, 14, 12, 9, 8, 9, 6, 6, 7, 7, 9, 7, 7, 8, 7, 7, 6, 7, 5, 4, 12, 9, 6, 8, 7, 6, 5, 8, 7, 5, 8, 5, 3, 3, 7, 6, 4, 4, 12, 10, 7, 5, 8, 7, 8, 5, 4, 10, 9, 7, 9, 3, 7, 7, 7, 4, 9, 8, 6, 10, 8, 8, 9, 6, 6, 8, 7, 1, 9, 7, 5, 7, 6, 7, 5, 14, 10, 9, 6, 9, 9, 8, 10, 7, 7, 7, 8, 7, 5, 9, 8, 7, 7, 7, 8, 8, 7, 5, 10, 8, 6, 8, 5, 5, 13, 9, 10, 5, 10, 8, 13, 11, 7, 9, 14, 10, 10, 5, 8, 7, 8, 8, 7, 7, 19, 17, 10, 6, 11, 5, 14, 6, 6, 14, 7, 7, 6, 6, 5, 14, 15, 16, 7, 8, 8, 4, 14, 10, 9, 10, 8, 8, 4, 15, 11, 7, 6, 13, 9, 6, 5, 16, 6, 11, 7, 10, 13, 7, 7, 10, 9, 9, 11, 9, 7, 8, 6, 8, 7, 6, 18, 13, 12, 9, 7, 11, 9, 9, 9, 8, 9, 10, 12, 12, 9, 9, 7, 7, 12, 6, 10, 10, 14, 12, 4, 4, 11, 10, 8, 9, 9, 12, 9, 6, 7, 10, 8, 8, 9, 6, 9, 7, 6, 5, 8, 9, 6, 8, 13, 6, 7, 6, 14, 9, 8, 8, 11, 10, 8, 7, 12, 9, 14, 10, 4, 13, 12, 9, 6, 8, 8, 5, 5, 15, 15, 9, 5, 8, 7, 4, 9, 7, 15, 9, 7, 6, 12, 10, 7, 8, 6, 13, 16, 16, 12, 7, 11, 8, 8, 7, 6, 7, 11, 13, 11, 9, 6, 7, 10, 10, 14, 13, 9, 7, 12, 11, 9, 11, 8, 7, 8, 8, 9, 8, 8, 14, 7, 6, 11, 11, 8, 7, 4, 12, 12, 9, 6, 12, 5, 10, 9, 13, 5, 10, 10, 11, 11, 10, 8, 16, 11, 9, 6, 16, 13, 11, 7, 15, 8, 13, 13, 12, 10, 13, 16, 11, 9, 15, 10, 9, 8, 11, 13, 12, 8, 7, 16, 12, 8, 5, 14, 15, 10, 8, 12, 11, 10, 7, 9, 9, 8, 12, 13, 15, 14, 13, 13, 12, 14, 8, 7, 7, 10, 8, 8, 13, 12, 13, 11, 17, 12, 12, 10, 10, 14, 11, 9, 6, 9, 10, 8, 8, 12, 11, 9, 11, 14, 13, 9, 9, 16, 6, 7, 5, 11, 11, 8, 9, 8, 8, 6, 5, 7, 5, 9, 12, 6, 7, 7, 10, 9, 7, 8, 7, 11, 9, 5, 5, 5, 15, 10, 11, 9, 8, 14, 7, 11, 9, 7, 5, 4, 4, 10, 7, 10, 6, 5, 4, 11, 10, 16, 12, 10, 7, 8, 15, 15, 9, 8, 15, 12, 9, 9, 9, 7, 9, 7, 7, 6, 14, 11, 9, 9, 14, 7, 6, 6, 14, 12, 10, 7, 10, 10, 13, 5, 4, 9, 9, 11, 9, 7, 7, 5, 13, 11, 9, 9, 9, 9, 9, 9, 9, 7, 16, 10, 7, 10, 7, 5, 14, 11, 9, 14, 11, 11, 11, 9, 9, 9, 11, 8, 10, 7, 12, 8, 7, 7, 11, 6, 10, 10, 9, 10, 7, 8, 6, 10, 8, 8, 7, 10, 4, 9, 9, 6, 5, 17, 11, 15, 8, 6, 4, 11, 10, 5, 7, 9, 11, 8, 7, 13, 6, 6, 9, 10, 7, 9, 10, 8, 8, 8, 6, 6, 4, 3, 12, 6, 14, 12, 9, 12, 7, 3, 2, 14, 11, 9, 8, 15, 11, 7, 6, 17, 12, 13, 11, 12, 9, 7, 4, 14, 11, 13, 10, 14, 10, 9, 8, 11, 10, 8, 8, 8, 9, 6, 9, 7, 12, 10, 8, 12, 9, 9, 6, 13, 15, 14, 10, 4, 14, 11, 14, 12, 20, 17, 7, 12, 13, 9, 7, 10, 8, 9, 7, 12, 13, 10, 7, 13, 10, 7, 10, 8, 8, 7, 13, 16, 11, 8, 12, 9, 6, 6, 8, 11, 8, 12, 10, 7, 6, 9, 13, 3, 7, 9, 10, 6, 3, 11, 8, 6, 4, 10, 6, 7, 7, 7, 12, 8, 8, 5, 6, 7, 7, 5, 15, 8, 5, 3, 9, 7, 6, 8, 7, 6, 7, 7, 7, 7, 7, 7, 8, 9, 7, 12, 11, 8, 10, 12, 13, 7, 9, 10, 11, 12, 12, 11, 11, 5, 5, 7, 3, 6, 15, 8, 12, 11, 11, 6, 8, 9, 9, 10, 12, 10, 8, 13, 9, 9, 11, 10, 8, 15, 7, 11, 13, 7, 15, 9, 9, 12, 10, 8, 5, 5, 5, 5, 5, 7, 3, 4, 6, 7, 5, 3, 9, 5, 6, 7, 4, 7, 8, 6, 6, 6, 9, 7, 8, 4, 6, 8, 8, 8, 2, 2, 6, 4, 4, 5, 6, 4, 5, 4, 4, 4, 5, 4, 5, 4, 8, 6, 4, 8, 4, 7, 14, 7, 7, 5, 7, 5, 2, 4, 11, 11, 10, 7, 8, 7, 10, 11, 8, 10, 9, 11, 8, 7, 9, 9, 10, 9, 9, 11, 7, 7, 8, 11, 8, 5, 5, 6, 6, 5, 8, 6, 8, 10, 10, 9, 8, 7, 6, 8, 8, 11, 9, 10, 9, 10, 8, 8, 8, 11, 10, 12, 9, 10, 6, 8, 10, 9, 6, 8, 8, 7, 7, 8, 8, 9, 6, 8, 8, 9, 6, 5, 7, 6, 5, 4, 4, 9, 6, 7, 5, 6, 3, 7, 6, 5, 6, 8, 8, 6, 7, 4, 5, 6, 3, 9, 8, 8, 7, 9, 14, 9, 8, 8, 7, 5, 5, 7, 7, 6, 5, 10, 7, 9, 7, 4, 8, 6, 9, 6, 8, 10, 8, 10, 6, 6, 6, 9, 7, 13, 13, 13, 13, 13, 13, 17, 7, 12, 16, 9, 11, 6, 11, 7, 9, 6, 6, 6, 3, 3, 7, 7, 8, 10, 7, 12, 12, 12, 9, 9, 9, 10, 10, 8, 12, 8, 15, 11, 13, 7, 10, 7, 5, 6, 14, 15, 12, 11, 17, 11, 6, 9, 7, 7, 7, 7, 6, 6, 6, 7, 6, 6, 7, 8, 7, 8, 7, 5, 6, 5, 3, 7, 6, 10, 7, 5, 7, 7, 5, 9, 4, 3, 5, 4, 3, 14, 15, 14, 8, 11, 6, 5, 7, 5, 6, 7, 9, 11, 8, 7, 7, 9, 11, 6, 7, 4, 5, 6, 3, 9, 7, 10, 9, 8, 6, 9, 7, 6, 5, 4, 9, 7, 5, 9, 5, 6, 8, 9, 7, 8, 9, 9, 10, 9, 7, 6, 8, 3, 9, 6, 16, 10, 12, 8, 9, 22, 20, 18, 17, 17, 9, 9, 8, 8, 11, 10, 8, 11, 11, 9, 7, 6, 10, 10, 11, 8, 6, 10, 9, 14, 14, 9, 4, 6, 10, 9, 8, 9, 8, 8, 8, 8, 8, 7, 10, 6, 6, 8, 6, 6, 7, 8, 7, 6, 4, 5, 4, 6, 5, 4, 11, 12, 11, 12, 10, 10, 12, 11, 11, 11, 14, 11, 9, 11, 13, 13, 8, 9, 9, 10, 14, 12, 11, 12, 8, 8, 7, 9, 6, 11, 7, 8, 7, 7, 8, 7, 5, 8, 4, 4, 8, 7, 9, 9, 12, 10, 14, 9, 11, 12, 10, 4, 6, 6, 4, 5, 4, 7, 7, 7, 9, 7, 8, 6, 7, 9, 6, 6, 7, 11, 6, 6, 9, 10, 4, 4, 6, 6, 3, 3, 6, 4, 7, 8, 5, 4, 7, 8, 6, 6, 5, 5, 5, 6, 9, 7, 6, 5, 4, 4, 7, 7, 8, 9, 8, 14, 11, 9, 9, 4, 4, 7, 4, 4, 7, 7, 3, 7, 6, 6, 5, 5, 5, 5, 6, 7, 5, 4, 8, 8, 5, 6, 4, 6, 6, 5, 5, 5, 5, 5, 5, 5, 4, 4, 4, 5, 5, 5, 7, 5, 10, 6, 9, 9, 5, 9, 6, 15, 14, 6, 7, 14, 11, 10, 7, 10, 8, 11, 14, 6, 9, 13, 8, 10, 8, 7, 12, 7, 12, 7, 9, 9, 10, 8, 13, 14, 12, 14, 15, 5, 6, 7, 6, 8, 8, 6, 8, 8, 8, 8, 8, 7, 6, 8, 9, 8, 10, 8, 8, 5, 1, 9, 1, 5, 3, 2, 5, 4, 7, 5, 6, 4, 3, 3, 2, 5, 6, 5, 4, 2, 5, 3, 5, 5, 5, 4, 4, 5, 4, 1, 5, 15, 7, 3, 6, 7, 6, 10, 9, 14, 8, 16, 7, 16, 9, 12, 9, 10, 10, 21, 17, 14, 14, 14, 9, 17, 10, 6, 9, 11, 13, 10, 10, 13, 11, 11, 13, 13, 14, 17, 15, 16, 11, 12, 10, 11, 11, 17, 14, 14, 12, 19, 8, 11, 12, 17, 13, 11, 15, 12, 5, 9, 6, 9, 7, 10, 12, 13, 11, 12, 14, 7, 7, 8, 7, 9, 11, 11, 10, 10, 11, 6, 8, 8, 7, 6, 4, 10, 5, 9, 9, 12, 14, 9, 10, 14, 13, 13, 8, 7, 12, 10, 9, 7, 8, 12, 8, 12, 9, 11, 11, 11, 6, 9, 14, 10, 7, 10, 10, 8, 6, 7, 6, 6, 5, 8, 6, 4, 6, 6, 7, 9, 9, 6, 9, 7, 6, 8, 6, 5, 6, 10, 10, 11, 8, 12, 8, 6, 7, 6, 13, 11, 9, 6, 5, 6, 5, 7, 6, 5, 7, 6, 10, 7, 8, 7, 4, 6, 6, 8, 6, 8, 7, 8, 5, 9, 7, 10, 8, 10, 5, 10, 9, 7, 4, 4, 3, 6, 6, 3, 5, 4, 7, 6, 6, 7, 9, 9, 6, 11, 6, 6, 7, 9, 7, 5, 7, 4, 7, 8, 19, 12, 15, 12, 12, 9, 10, 7, 7, 14, 12, 9, 11, 6, 13, 10, 10, 8, 11, 8, 10, 11, 6, 12, 14, 6, 8, 16, 20, 14, 6, 3, 5, 3, 7, 6, 7, 6, 3, 5, 6, 2, 3, 5, 7, 8, 10, 11, 10, 8, 11, 8, 6, 7, 8, 7, 4, 6, 7, 7, 5, 7, 9, 5, 6, 5, 6, 6, 9, 4, 6, 6, 7, 6, 6, 7, 7, 6, 6, 4, 7, 5, 10, 7, 5, 6, 5, 4, 6, 9, 8, 7, 4, 7, 3, 4, 8, 4, 4, 4, 4, 4, 5, 8, 4, 7, 7, 8, 9, 8, 7, 2, 5, 3, 3, 2, 4, 8, 8, 5, 8, 7, 10, 10, 13, 8, 9, 10, 5, 5, 9, 7, 3, 9, 6, 3, 10, 7, 11, 15, 7, 8, 9, 9, 8, 7, 16, 11, 13, 9, 16, 8, 14, 11, 10, 6, 7, 10, 9, 11, 7, 10, 7, 6, 6, 7, 7, 12, 8, 10, 7, 11, 10, 7, 4, 9, 13, 9, 4, 11, 7, 12, 12, 11, 12, 11, 10, 13, 10, 15, 9, 8, 11, 11, 9, 9, 7, 14, 13, 13, 12, 13, 17, 11, 7, 9, 10, 9, 8, 16, 10, 11, 7, 10, 12, 12, 8, 9, 8, 12, 10, 6, 7, 9, 6, 10, 7, 13, 4, 8, 8, 8, 7, 8, 10, 10, 7, 6, 5, 9, 9, 10, 8, 9, 10, 8, 10, 8, 7, 10, 10, 8, 14, 9, 7, 7, 13, 10, 9, 10, 8, 7, 7, 11, 8, 7, 9, 7, 6, 7, 5, 7, 5, 10, 5, 8, 8, 4, 9, 4, 7, 5, 7, 6, 5, 9, 10, 7, 9, 8, 6, 10, 8, 12, 7, 12, 10, 10, 8, 10, 8, 7, 8, 6, 7, 6, 6, 7, 7, 7, 15, 9, 9, 6, 6, 4, 8, 8, 7, 7, 5, 7, 5, 5, 5, 8, 9, 9, 6, 8, 9, 9, 13, 10, 9, 13, 10, 8, 9, 8, 10, 9, 12, 7, 7, 8, 11, 9, 11, 10, 7, 11, 9, 7, 7, 8, 8, 7, 15, 11, 4, 6, 5, 6, 11, 12, 11, 8, 7, 13, 8, 10, 10, 10, 8, 7, 11, 6, 6, 8, 13, 11, 9, 8, 6, 5, 5, 9, 4, 6, 5, 5, 6, 6, 6, 7, 7, 2, 5, 9, 4, 4, 3, 5, 10, 7, 5, 5, 6, 4, 4, 6, 6, 3, 5, 2, 4, 5, 2, 6, 5, 6, 10, 8, 4, 5, 6, 4, 5, 8, 7, 9, 9, 10, 7, 10, 8, 6, 6, 7, 6, 10, 7, 3, 7, 7, 8, 5, 6, 6, 8, 10, 10, 9, 8, 9, 9, 12, 10, 7, 10, 11, 7, 10, 11, 12, 14, 11, 14, 11, 8, 9, 10, 8, 7, 8, 10, 7, 5, 7, 7, 7, 4, 5, 2, 2, 3, 2, 1, 4, 6, 4, 2, 4, 1, 1, 1, 2, 2, 1, 2, 3, 4, 2, 3, 2, 1, 1, 1, 1, 11, 15, 18, 9, 11, 10, 9, 11, 10, 8, 13, 10, 9, 17, 7, 14, 19, 16, 13, 13, 9, 10, 9, 9, 8, 11, 8, 8, 10, 10, 6, 8, 8, 6, 9, 7, 5, 7, 6, 5, 8, 7, 6, 8, 4, 6, 7, 9, 6, 10, 6, 8, 10, 12, 8, 8, 7, 7, 9, 8, 7, 10, 7, 6, 7, 12, 8, 8, 7, 9, 8, 10, 10, 8, 8, 7, 7, 8, 7, 6, 7, 10, 8, 6, 7, 7, 7, 8, 8, 8, 4, 9, 8, 6, 6, 9, 4, 10, 3, 7, 4, 9, 11, 7, 8, 11, 7, 6, 5, 11, 10, 9, 17, 8, 16, 10, 12, 16, 6, 6, 6, 6, 2, 3, 4, 4, 4, 7, 4, 4, 9, 4, 7, 6, 4, 2, 4, 8, 5, 2, 6, 3, 4, 4, 5, 5, 4, 7, 4, 4, 10, 10, 8, 11, 9, 10, 7, 11, 10, 6, 7, 9, 10, 7, 10, 10, 8, 7, 9, 7, 7, 7, 9, 5, 5, 7, 6, 8, 10, 5, 3, 2, 4, 4, 3, 3, 3, 2, 4, 4, 3, 3, 4, 2, 1, 3, 3, 5, 5, 4, 4, 3, 9, 3, 5, 4, 5, 4, 5, 3, 9, 7, 12, 7, 10, 9, 11, 5, 6, 5, 6, 7, 7, 9, 9, 7, 11, 7, 10, 8, 8, 9, 4, 5, 7, 5, 14, 14, 9, 9, 6, 6, 6, 6, 6, 4, 4, 4, 5, 4, 9, 8, 8, 7, 8, 8, 9, 9, 8, 7, 9, 9, 10, 7, 10, 7, 8, 8, 6, 8, 10, 11, 9, 10, 14, 9, 9, 14, 8, 12, 8, 7, 13, 10, 15, 9, 8, 6, 11, 9, 9, 9, 7, 7, 6, 5, 5, 5, 9, 8, 10, 9, 8, 14, 11, 15, 14, 14, 8, 8, 9, 11, 8, 10, 11, 13, 13, 8, 16, 13, 13, 11, 5, 10, 15, 14, 9, 10, 18, 10, 6, 5, 11, 10, 9, 5, 7, 5, 7, 9, 5, 11, 6, 4, 4, 10, 9, 4, 5, 5, 6, 7, 5, 9, 8, 14, 17, 8, 8, 12, 2, 5, 5, 7, 5, 5, 6, 8, 7, 6, 6, 6, 5, 8, 10, 7, 10, 9, 4, 7, 6, 5, 6, 3, 4, 4, 4, 3, 7, 7, 7, 8, 8, 6, 13, 8, 9, 10, 12, 15, 14, 9, 9, 10, 14, 14, 15, 12, 9, 8, 11, 9, 11, 9, 9, 10, 10, 10, 11, 9, 7, 8, 9, 8, 10, 15, 11, 21, 17, 16, 7, 8, 5, 9, 7, 7, 10, 11, 13, 10, 11, 11, 13, 8, 8, 9, 9, 8, 7, 11, 14, 17, 16, 11, 14, 16, 15, 10, 15, 16, 15, 19, 10, 13, 15, 10, 11, 13, 8, 14, 12, 10, 10, 14, 6, 7, 6, 6, 8, 7, 9, 9, 15, 15, 17, 18, 16, 11, 12, 12, 13, 10, 18, 17, 9, 19, 13, 9, 13, 15, 6, 17, 17, 24, 17, 16, 19, 12, 8, 10, 9, 11, 6, 9, 11, 8, 7, 6, 8, 7, 6, 7, 8, 8, 4, 7, 7, 7, 9, 9, 6, 9, 5, 7, 5, 7, 5, 7, 5, 6, 7, 6, 3, 6, 5, 6, 5, 9, 5, 5, 3, 2, 3, 3, 3, 7, 10, 4, 7, 12, 4, 6, 2, 4, 3, 4, 5, 4, 4, 5, 12, 10, 7, 5, 11, 6, 5, 7, 5, 4, 4, 6, 6, 8, 4, 4, 7, 12, 12, 12, 4, 15, 6, 12, 7, 11, 7, 8, 8, 8, 4, 6, 7, 5, 7, 5, 7, 5, 5, 8, 10, 16, 11, 11, 11, 15, 14, 18, 14, 21, 14, 16, 18, 17, 12, 9, 8, 10, 10, 9, 6, 5, 6, 4, 10, 7, 8, 7, 6, 12, 8, 11, 10, 10, 11, 14, 9, 13, 9, 8, 6, 7, 8, 9, 8, 7, 6, 9, 9, 9, 10, 9, 8, 6, 7, 7, 7, 10, 9, 13, 8, 7, 4, 9, 6, 8, 16, 8, 7, 10, 11, 10, 14, 8, 13, 11, 12, 13, 10, 13, 9, 9, 11, 9, 11, 7, 8, 8, 9, 10, 8, 10, 11, 9, 11, 11, 10, 12, 8, 14, 12, 10, 9, 10, 9, 8, 8, 6, 5, 6, 11, 7, 10, 11, 12, 7, 6, 10, 8, 8, 13, 7, 6, 9, 9, 9, 9, 9, 7, 9, 12, 6, 8, 11, 10, 11, 7, 6, 8, 7, 6, 6, 6, 6, 6, 10, 8, 4, 3, 5, 7, 5, 3, 6, 4, 4, 9, 8, 6, 6, 6, 5, 7, 10, 4, 2, 7, 3, 2, 3, 6, 7, 6, 4, 6, 10, 5, 6, 6, 6, 7, 5, 5, 6, 6, 8, 7, 6, 7, 4, 8, 9, 9, 5, 4, 7, 5, 4, 5, 4, 5, 6, 11, 9, 5, 7, 12, 6, 4, 5, 10, 7, 5, 6, 7, 8, 6, 10, 7, 6, 6, 10, 9, 5, 7, 4, 5, 5, 11, 15, 5, 5, 7, 3, 5, 10, 5, 6, 3, 7, 4, 6, 5, 7, 8, 8, 9, 7, 4, 6, 6, 5, 4, 4, 7, 7, 5, 7, 6, 12, 7, 7, 6, 7, 14, 13, 13, 13, 16, 11, 15, 10, 11, 13, 8, 6, 9, 7, 8, 8, 7, 8, 6, 8, 6, 6, 5, 7, 6, 3, 7, 7, 8, 9, 8, 11, 11, 11, 6, 13, 11, 11, 11, 8, 10, 12, 10, 10, 15, 7, 5, 4, 8, 13, 8, 12, 6, 13, 8, 7, 5, 8, 5, 7, 6, 8, 7, 10, 7, 5, 7, 8, 8, 7, 7, 9, 7, 8, 9, 7, 11, 8, 4, 7, 12, 7, 5, 6, 10, 7, 10, 4, 7, 7, 10, 10, 15, 17, 16, 15, 11, 9, 7, 14, 17, 12, 14, 12, 10, 9, 8, 9, 8, 9, 17, 17, 19, 11, 23, 5, 5, 6, 6, 4, 6, 9, 8, 7, 8, 7, 10, 11, 8, 12, 10, 5, 6, 5, 10, 8, 8, 8, 9, 7, 8, 9, 7, 3, 7, 6, 12, 12, 10, 13, 15, 6, 4, 5, 5, 7, 7, 8, 7, 12, 8, 6, 9, 5, 6, 9, 10, 8, 7, 5, 9, 14, 12, 10, 9, 6, 6, 7, 8, 10, 8, 7, 5, 9, 7, 9, 5, 8, 5, 9, 12, 9, 8, 7, 7, 5, 7, 5, 8, 7, 7, 6, 7, 7, 6, 10, 9, 11, 10, 10, 10, 9, 11, 6, 9, 7, 10, 14, 6, 11, 12, 8, 9, 9, 7, 9, 7, 8, 11, 8, 9, 12, 12, 10, 13, 11, 5, 7, 7, 9, 8, 8, 10, 10, 10, 11, 11, 6, 8, 8, 8, 11, 10, 8, 6, 7, 6, 11, 8, 10, 10, 7, 8, 11, 10, 8, 8, 8, 6, 6, 6, 11, 10, 12, 11, 12, 6, 9, 6, 4, 8, 9, 13, 16, 6, 10, 9, 14, 9, 10, 12, 11, 10, 14, 6, 6, 6, 11, 8, 8, 11, 6, 10, 9, 11, 8, 9, 13, 7, 10, 11, 11, 10, 12, 12, 12, 12, 13, 8, 8, 6, 8, 9, 9, 7, 8, 7, 9, 10, 12, 11, 9, 8, 10, 8, 7, 9, 9, 10, 9, 11, 10, 9, 9, 10, 11, 5, 9, 7, 6, 6, 8, 6, 9, 9, 8, 8, 8, 7, 6, 9, 6, 8, 7, 7, 12, 11, 6, 7, 9, 7, 12, 5, 11, 5, 9, 11, 10, 11, 6, 10, 7, 6, 8, 4, 5, 5, 5, 7, 6, 8, 5, 3, 4, 4, 3, 4, 2, 3, 2, 3, 4, 3, 4, 2, 4, 4, 4, 5, 4, 3, 4, 12, 5, 4, 9, 9, 6, 8, 7, 8, 9, 9, 4, 5, 4, 6, 7, 4, 6, 7, 7, 7, 7, 3, 3, 6, 3, 4, 7, 5, 5, 6, 10, 4, 7, 9, 10, 6, 9, 9, 10, 5, 7, 5, 5, 10, 7, 7, 5, 8, 7, 10, 5, 8, 5, 5, 8, 7, 10, 12, 7, 8, 14, 6, 7, 7, 7, 6, 9, 6, 7, 7, 9, 14, 10, 7, 7, 8, 11, 10, 10, 11, 8, 10, 8, 8, 9, 11, 9, 7, 8, 10, 6, 6, 9, 9, 8, 5, 4, 4, 10, 9, 9, 11, 7, 11, 11, 7, 8, 10, 13, 6, 4, 4, 6, 4, 7, 9, 8, 9, 9, 8, 5, 9, 6, 5, 8, 10, 7, 3, 6, 3, 7, 6, 7, 6, 6, 12, 7, 6, 5, 6, 9, 7, 5, 7, 5, 6, 10, 4, 10, 8, 5, 7, 9, 11, 10, 9, 9, 10, 11, 12, 13, 12, 12, 9, 10, 9, 8, 10, 8, 11, 10, 10, 10, 9, 10, 9, 8, 8, 10, 10, 5, 10, 11, 4, 8, 7, 7, 3, 8, 3, 1, 1, 3, 3, 1, 1, 3, 4, 3, 5, 8, 6, 6, 4, 5, 7, 4, 3, 7, 5, 5, 2, 2, 6, 7, 6, 7, 8, 11, 11, 9, 11, 8, 12, 7, 9, 8, 9, 7, 9, 9, 14, 10, 11, 12, 12, 10, 9, 7, 16, 12, 7, 10, 8, 5, 6, 11, 9, 9, 7, 7, 7, 8, 12, 8, 7, 6, 12, 8, 11, 9, 7, 5, 5, 7, 5, 10, 7, 10, 10, 9, 8, 8, 13, 12, 12, 17, 13, 11, 11, 14, 10, 9, 15, 14, 10, 10, 13, 11, 16, 10, 13, 10, 12, 11, 11, 11, 11, 10, 10, 11, 12, 11, 9, 9, 10, 7, 12, 10, 8, 11, 9, 9, 10, 14, 12, 9, 8, 11, 14, 10, 9, 9, 6, 11, 7, 15, 9, 8, 7, 12, 9, 12, 6, 5, 6, 6, 11, 9, 10, 6, 7, 6, 8, 8, 10, 7, 8, 9, 8, 9, 10, 8, 7, 6, 10, 13, 7, 7, 9, 5, 10, 8, 8, 8, 7, 6, 6, 6, 5, 5, 6, 8, 9, 11, 8, 9, 10, 9, 6, 6, 8, 7, 8, 7, 8, 6, 10, 7, 9, 10, 12, 7, 11, 11, 10, 13, 11, 16, 12, 12, 13, 13, 4, 10, 11, 11, 6, 5, 10, 10, 9, 11, 9, 11, 7, 8, 10, 10, 5, 10, 10, 8, 7, 10, 9, 10, 7, 6, 7, 10, 7, 9, 10, 8, 6, 11, 7, 7, 8, 10, 7, 7, 8, 8, 6, 7, 7, 7, 7, 7, 7, 7, 17, 9, 6, 3, 7, 7, 5, 4, 6, 5, 5, 6, 4, 4, 6, 5, 6, 5, 4, 8, 5, 6, 6, 7, 4, 7, 7, 6, 8, 7, 14, 17, 10, 15, 19, 15, 20, 16, 12, 9, 13, 15, 17, 17, 18, 18, 22, 9, 13, 12, 12, 10, 14, 16, 14, 14, 14, 18, 17, 16, 8, 4, 5, 4, 4, 6, 9, 6, 7, 7, 5, 6, 7, 5, 4, 5, 3, 6, 4, 3, 6, 3, 8, 6, 9, 7, 4, 6, 7, 7, 4, 2, 4, 5, 5, 7, 7, 7, 5, 9, 9, 8, 6, 8, 8, 4, 7, 10, 7, 6, 6, 8, 4, 5, 6, 4, 5, 6, 6, 4, 8, 5, 9, 8, 6, 7, 8, 8, 7, 7, 8, 9, 7, 8, 10, 6, 8, 7, 7, 7, 8, 8, 9, 6, 10, 10, 8, 11, 10, 9, 10, 12, 11, 7, 11, 8, 6, 4, 10, 8, 12, 12, 12, 12, 11, 11, 11, 11, 12, 12, 12, 11, 11, 11, 12, 13, 12, 12, 9, 17, 5, 4, 4, 4, 3, 4, 5, 3, 4, 5, 4, 6, 4, 2, 3, 9, 12, 8, 7, 10, 7, 7, 5, 8, 5, 7, 3, 5, 3, 3, 4, 5, 3, 6, 4, 7, 5, 5, 6, 3, 3, 3, 5, 3, 6, 2, 5, 4, 5, 6, 6, 5, 1, 2, 3, 5, 5, 2, 2, 2, 7, 8, 10, 7, 13, 10, 9, 12, 9, 12, 6, 7, 12, 7, 7, 8, 9, 13, 11, 13, 8, 10, 9, 10, 8, 10, 11, 11, 5, 11, 12, 13, 12, 12, 12, 9, 10, 10, 7, 7, 8, 14, 13, 9, 7, 12, 15, 15, 18, 7, 4, 6, 7, 8, 6, 8, 8, 8, 8, 9, 9, 6, 9, 13, 9, 8, 10, 9, 9, 8, 9, 8, 7, 7, 9, 14, 9, 8, 8, 13, 7, 7, 9, 9, 8, 8, 9, 7, 11, 7, 7, 9, 9, 9, 9, 6, 5, 9, 6, 5, 9, 5, 6, 11, 5, 6, 6, 9, 8, 9, 10, 8, 10, 9, 5, 6, 6, 11, 9, 7, 2, 5, 4, 4, 4, 11, 14, 7, 11, 10, 9, 7, 9, 10, 16, 7, 4, 6, 9, 7, 7, 6, 6, 5, 8, 5, 5, 5, 5, 7, 4, 3, 5, 4, 4, 4, 6, 5, 6, 4, 3, 5, 4, 5, 4, 2, 3, 6, 8, 2, 6, 4, 7, 3, 8, 9, 3, 9, 9, 1, 6, 8, 5, 5, 7, 6, 5, 7, 10, 11, 7, 14, 8, 6, 7, 7, 6, 7, 5, 10, 6, 8, 5, 4, 5, 7, 4, 5, 5, 5, 6, 5, 7, 3, 9, 5, 5, 4, 6, 8, 5, 9, 6, 5, 5, 6, 9, 5, 5, 4, 6, 7, 5, 6, 6, 8, 7, 5, 8, 4, 8, 7, 5, 9, 6, 5, 4, 11, 8, 6, 2, 5, 6, 4, 7, 4, 12, 18, 18, 15, 15, 11, 11, 9, 13, 9, 10, 16, 7, 8, 9, 9, 14, 7, 10, 9, 10, 11, 8, 14, 7, 7, 9, 13, 8, 12, 7, 8, 8, 9, 10, 11, 5, 6, 10, 9, 10, 11, 9, 8, 7, 6, 5, 9, 14, 8, 10, 12, 10, 13, 9, 15, 9, 10, 9, 10, 10, 11, 11, 12, 9, 10, 12, 10, 11, 17, 8, 8, 7, 11, 5, 6, 6, 9, 12, 8, 11, 10, 7, 9, 10, 7, 7, 9, 5, 5, 8, 9, 9, 11, 10, 12, 7, 7, 6, 8, 9, 8, 6, 9, 13, 10, 14, 12, 13, 11, 14, 15, 12, 11, 16, 12, 20, 18, 13, 13, 12, 13, 13, 13, 20, 18, 17, 13, 19, 11, 8, 9, 11, 11, 7, 12, 9, 8, 9, 8, 10, 7, 9, 5, 5, 6, 6, 8, 6, 10, 8, 5, 8, 8, 7, 6, 7, 8, 8, 6, 9, 6, 10, 8, 6, 6, 10, 7, 5, 6, 11, 8, 9, 3, 2, 3, 6, 5, 14, 8, 8, 12, 8, 8, 9, 16, 9, 8, 6, 8, 10, 11, 10, 10, 6, 8, 6, 11, 11, 13, 11, 7, 13, 10, 7, 8, 10, 12, 14, 6, 7, 9, 5, 7, 7, 9, 8, 8, 9, 6, 9, 10, 8, 5, 7, 10, 10, 9, 9, 8, 10, 9, 8, 6, 6, 5, 4, 6, 9, 8, 10, 7, 4, 4, 5, 5, 4, 7, 5, 5, 5, 6, 5, 8, 8, 7, 8, 8, 14, 12, 12, 13, 8, 13, 7, 7, 8, 10, 12, 11, 10, 10, 10, 6, 6, 9, 8, 7, 7, 9, 8, 9, 7, 8, 6, 6, 9, 8, 6, 5, 6, 6, 7, 10, 11, 11, 10, 13, 13, 3, 6, 4, 5, 3, 5, 4, 3, 3, 3, 5, 5, 7, 6, 7, 11, 4, 8, 8, 8, 6, 7, 5, 6, 7, 6, 6, 13, 16, 14, 20, 16, 11, 6, 8, 6, 9, 8, 6, 6, 6, 8, 10, 9, 8, 11, 13, 15, 12, 13, 3, 8, 8, 4, 5, 7, 6, 5, 4, 5, 4, 5, 3, 8, 9, 11, 5, 11, 6, 6, 8, 10, 7, 9, 6, 9, 10, 8, 12, 12, 11, 9, 14, 13, 11, 7, 7, 6, 11, 9, 7, 9, 10, 6, 11, 8, 6, 6, 9, 7, 9, 11, 6, 8, 9, 18, 10, 13, 13, 10, 7, 11, 11, 8, 9, 8, 6, 6, 8, 9, 9, 8, 6, 5, 9, 7, 7, 7, 7, 10, 14, 9, 9, 10, 9, 7, 7, 7, 9, 9, 8, 10, 8, 8, 13, 8, 8, 9, 13, 13, 6, 9, 9, 6, 7, 9, 13, 10, 10, 11, 12, 8, 13, 15, 9, 8, 11, 8, 7, 12, 8, 10, 6, 12, 9, 11, 11, 7, 9, 13, 12, 9, 11, 15, 8, 7, 8, 9, 8, 8, 7, 6, 6, 9, 6, 7, 6, 4, 5, 4, 8, 7, 5, 6, 6, 9, 6, 9, 9, 9, 7, 6, 4, 8, 8, 7, 7, 5, 6, 8, 8, 8, 7, 8, 5, 10, 10, 8, 10, 5, 8, 9, 6, 7, 7, 7, 6, 6, 6, 5, 6, 6, 7, 8, 4, 6, 7, 7, 7, 7, 8, 5, 6, 9, 6, 9, 5, 7, 3, 4, 4, 4, 8, 8, 4, 3, 6, 3, 3, 8, 7, 5, 10, 5, 6, 5, 6, 3, 4, 5, 5, 7, 2, 5, 5, 18, 12, 11, 19, 13, 10, 10, 12, 13, 8, 11, 8, 7, 7, 10, 8, 13, 13, 12, 12, 13, 18, 19, 25, 21, 18, 19, 19, 19, 18, 10, 12, 9, 10, 9, 7, 11, 12, 8, 13, 13, 11, 13, 12, 9, 12, 11, 13, 13, 9, 10, 9, 8, 8, 11, 12, 7, 10, 6, 9, 5, 10, 10, 11, 6, 7, 8, 10, 8, 11, 5, 5, 5, 6, 3, 6, 7, 9, 7, 6, 10, 9, 8, 7, 6, 8, 7, 8, 7, 7, 10, 9, 9, 11, 5, 5, 5, 5, 6, 5, 5, 6, 4, 7, 6, 5, 8, 8, 5, 8, 7, 7, 7, 7, 7, 5, 7, 6, 6, 6, 6, 6, 7, 5, 7, 5, 4, 3, 7, 5, 8, 7, 7, 6, 4, 5, 6, 6, 8, 6, 7, 7, 10, 6, 5, 6, 5, 6, 7, 9, 5, 4, 5, 5, 6, 8, 7, 5, 6, 7, 7, 7, 8, 5, 8, 4, 5, 11, 4, 5, 13, 18, 14, 11, 12, 10, 11, 6, 9, 5, 14, 17, 12, 15, 14, 15, 15, 25, 18, 19, 16, 11, 20, 16, 19, 12, 13, 11, 14, 9, 10, 7, 7, 4, 8, 8, 8, 4, 6, 10, 10, 9, 10, 9, 10, 10, 10, 11, 9, 11, 7, 5, 5, 9, 7, 14, 13, 11, 11, 12, 12, 10, 10, 12, 12, 10, 13, 13, 11, 13, 5, 10, 6, 9, 14, 14, 9, 9, 15, 13, 16, 8, 13, 8, 5, 3, 13, 13, 19, 13, 14, 11, 8, 14, 5, 7, 10, 8, 7, 5, 8, 11, 7, 4, 7, 4, 5, 8, 6, 6, 10, 7, 6, 13, 6, 7, 9, 7, 6, 12, 7, 6, 6, 10, 6, 6, 6, 6, 6, 4, 8, 5, 5, 5, 9, 8, 8, 7, 10, 7, 8, 6, 6, 9, 5, 7, 6, 6, 9, 7, 7, 9, 11, 7, 6, 7, 12, 8, 8, 6, 9, 10, 6, 7, 8, 7, 6, 5, 11, 8, 6, 4, 9, 6, 8, 6, 5, 4, 8, 3, 10, 8, 8, 4, 10, 3, 8, 8, 6, 4, 7, 6, 5, 4, 7, 8, 9, 5, 7, 9], \"xaxis\": \"x\", \"yaxis\": \"y\"}],\n",
              "                        {\"barmode\": \"relative\", \"legend\": {\"tracegroupgap\": 0}, \"margin\": {\"t\": 60}, \"template\": {\"data\": {\"bar\": [{\"error_x\": {\"color\": \"#2a3f5f\"}, \"error_y\": {\"color\": \"#2a3f5f\"}, \"marker\": {\"line\": {\"color\": \"#E5ECF6\", \"width\": 0.5}}, \"type\": \"bar\"}], \"barpolar\": [{\"marker\": {\"line\": {\"color\": \"#E5ECF6\", \"width\": 0.5}}, \"type\": \"barpolar\"}], \"carpet\": [{\"aaxis\": {\"endlinecolor\": \"#2a3f5f\", \"gridcolor\": \"white\", \"linecolor\": \"white\", \"minorgridcolor\": \"white\", \"startlinecolor\": \"#2a3f5f\"}, \"baxis\": {\"endlinecolor\": \"#2a3f5f\", \"gridcolor\": \"white\", \"linecolor\": \"white\", \"minorgridcolor\": \"white\", \"startlinecolor\": \"#2a3f5f\"}, \"type\": \"carpet\"}], \"choropleth\": [{\"colorbar\": {\"outlinewidth\": 0, \"ticks\": \"\"}, \"type\": \"choropleth\"}], \"contour\": [{\"colorbar\": {\"outlinewidth\": 0, \"ticks\": \"\"}, \"colorscale\": [[0.0, \"#0d0887\"], [0.1111111111111111, \"#46039f\"], [0.2222222222222222, \"#7201a8\"], [0.3333333333333333, \"#9c179e\"], [0.4444444444444444, \"#bd3786\"], [0.5555555555555556, \"#d8576b\"], [0.6666666666666666, \"#ed7953\"], [0.7777777777777778, \"#fb9f3a\"], [0.8888888888888888, \"#fdca26\"], [1.0, \"#f0f921\"]], \"type\": \"contour\"}], \"contourcarpet\": [{\"colorbar\": {\"outlinewidth\": 0, \"ticks\": \"\"}, \"type\": \"contourcarpet\"}], \"heatmap\": [{\"colorbar\": {\"outlinewidth\": 0, \"ticks\": \"\"}, \"colorscale\": [[0.0, \"#0d0887\"], [0.1111111111111111, \"#46039f\"], [0.2222222222222222, \"#7201a8\"], [0.3333333333333333, \"#9c179e\"], [0.4444444444444444, \"#bd3786\"], [0.5555555555555556, \"#d8576b\"], [0.6666666666666666, \"#ed7953\"], [0.7777777777777778, \"#fb9f3a\"], [0.8888888888888888, \"#fdca26\"], [1.0, \"#f0f921\"]], \"type\": \"heatmap\"}], \"heatmapgl\": [{\"colorbar\": {\"outlinewidth\": 0, \"ticks\": \"\"}, \"colorscale\": [[0.0, \"#0d0887\"], [0.1111111111111111, \"#46039f\"], [0.2222222222222222, \"#7201a8\"], [0.3333333333333333, \"#9c179e\"], [0.4444444444444444, \"#bd3786\"], [0.5555555555555556, \"#d8576b\"], [0.6666666666666666, \"#ed7953\"], [0.7777777777777778, \"#fb9f3a\"], [0.8888888888888888, \"#fdca26\"], [1.0, \"#f0f921\"]], \"type\": \"heatmapgl\"}], \"histogram\": [{\"marker\": {\"colorbar\": {\"outlinewidth\": 0, \"ticks\": \"\"}}, \"type\": \"histogram\"}], \"histogram2d\": [{\"colorbar\": {\"outlinewidth\": 0, \"ticks\": \"\"}, \"colorscale\": [[0.0, \"#0d0887\"], [0.1111111111111111, \"#46039f\"], [0.2222222222222222, \"#7201a8\"], [0.3333333333333333, \"#9c179e\"], [0.4444444444444444, \"#bd3786\"], [0.5555555555555556, \"#d8576b\"], [0.6666666666666666, \"#ed7953\"], [0.7777777777777778, \"#fb9f3a\"], [0.8888888888888888, \"#fdca26\"], [1.0, \"#f0f921\"]], \"type\": \"histogram2d\"}], \"histogram2dcontour\": [{\"colorbar\": {\"outlinewidth\": 0, \"ticks\": \"\"}, \"colorscale\": [[0.0, \"#0d0887\"], [0.1111111111111111, \"#46039f\"], [0.2222222222222222, \"#7201a8\"], [0.3333333333333333, \"#9c179e\"], [0.4444444444444444, \"#bd3786\"], [0.5555555555555556, \"#d8576b\"], [0.6666666666666666, \"#ed7953\"], [0.7777777777777778, \"#fb9f3a\"], [0.8888888888888888, \"#fdca26\"], [1.0, \"#f0f921\"]], \"type\": \"histogram2dcontour\"}], \"mesh3d\": [{\"colorbar\": {\"outlinewidth\": 0, \"ticks\": \"\"}, \"type\": \"mesh3d\"}], \"parcoords\": [{\"line\": {\"colorbar\": {\"outlinewidth\": 0, \"ticks\": \"\"}}, \"type\": \"parcoords\"}], \"pie\": [{\"automargin\": true, \"type\": \"pie\"}], \"scatter\": [{\"marker\": {\"colorbar\": {\"outlinewidth\": 0, \"ticks\": \"\"}}, \"type\": \"scatter\"}], \"scatter3d\": [{\"line\": {\"colorbar\": {\"outlinewidth\": 0, \"ticks\": \"\"}}, \"marker\": {\"colorbar\": {\"outlinewidth\": 0, \"ticks\": \"\"}}, \"type\": \"scatter3d\"}], \"scattercarpet\": [{\"marker\": {\"colorbar\": {\"outlinewidth\": 0, \"ticks\": \"\"}}, \"type\": \"scattercarpet\"}], \"scattergeo\": [{\"marker\": {\"colorbar\": {\"outlinewidth\": 0, \"ticks\": \"\"}}, \"type\": \"scattergeo\"}], \"scattergl\": [{\"marker\": {\"colorbar\": {\"outlinewidth\": 0, \"ticks\": \"\"}}, \"type\": \"scattergl\"}], \"scattermapbox\": [{\"marker\": {\"colorbar\": {\"outlinewidth\": 0, \"ticks\": \"\"}}, \"type\": \"scattermapbox\"}], \"scatterpolar\": [{\"marker\": {\"colorbar\": {\"outlinewidth\": 0, \"ticks\": \"\"}}, \"type\": \"scatterpolar\"}], \"scatterpolargl\": [{\"marker\": {\"colorbar\": {\"outlinewidth\": 0, \"ticks\": \"\"}}, \"type\": \"scatterpolargl\"}], \"scatterternary\": [{\"marker\": {\"colorbar\": {\"outlinewidth\": 0, \"ticks\": \"\"}}, \"type\": \"scatterternary\"}], \"surface\": [{\"colorbar\": {\"outlinewidth\": 0, \"ticks\": \"\"}, \"colorscale\": [[0.0, \"#0d0887\"], [0.1111111111111111, \"#46039f\"], [0.2222222222222222, \"#7201a8\"], [0.3333333333333333, \"#9c179e\"], [0.4444444444444444, \"#bd3786\"], [0.5555555555555556, \"#d8576b\"], [0.6666666666666666, \"#ed7953\"], [0.7777777777777778, \"#fb9f3a\"], [0.8888888888888888, \"#fdca26\"], [1.0, \"#f0f921\"]], \"type\": \"surface\"}], \"table\": [{\"cells\": {\"fill\": {\"color\": \"#EBF0F8\"}, \"line\": {\"color\": \"white\"}}, \"header\": {\"fill\": {\"color\": \"#C8D4E3\"}, \"line\": {\"color\": \"white\"}}, \"type\": \"table\"}]}, \"layout\": {\"annotationdefaults\": {\"arrowcolor\": \"#2a3f5f\", \"arrowhead\": 0, \"arrowwidth\": 1}, \"coloraxis\": {\"colorbar\": {\"outlinewidth\": 0, \"ticks\": \"\"}}, \"colorscale\": {\"diverging\": [[0, \"#8e0152\"], [0.1, \"#c51b7d\"], [0.2, \"#de77ae\"], [0.3, \"#f1b6da\"], [0.4, \"#fde0ef\"], [0.5, \"#f7f7f7\"], [0.6, \"#e6f5d0\"], [0.7, \"#b8e186\"], [0.8, \"#7fbc41\"], [0.9, \"#4d9221\"], [1, \"#276419\"]], \"sequential\": [[0.0, \"#0d0887\"], [0.1111111111111111, \"#46039f\"], [0.2222222222222222, \"#7201a8\"], [0.3333333333333333, \"#9c179e\"], [0.4444444444444444, \"#bd3786\"], [0.5555555555555556, \"#d8576b\"], [0.6666666666666666, \"#ed7953\"], [0.7777777777777778, \"#fb9f3a\"], [0.8888888888888888, \"#fdca26\"], [1.0, \"#f0f921\"]], \"sequentialminus\": [[0.0, \"#0d0887\"], [0.1111111111111111, \"#46039f\"], [0.2222222222222222, \"#7201a8\"], [0.3333333333333333, \"#9c179e\"], [0.4444444444444444, \"#bd3786\"], [0.5555555555555556, \"#d8576b\"], [0.6666666666666666, \"#ed7953\"], [0.7777777777777778, \"#fb9f3a\"], [0.8888888888888888, \"#fdca26\"], [1.0, \"#f0f921\"]]}, \"colorway\": [\"#636efa\", \"#EF553B\", \"#00cc96\", \"#ab63fa\", \"#FFA15A\", \"#19d3f3\", \"#FF6692\", \"#B6E880\", \"#FF97FF\", \"#FECB52\"], \"font\": {\"color\": \"#2a3f5f\"}, \"geo\": {\"bgcolor\": \"white\", \"lakecolor\": \"white\", \"landcolor\": \"#E5ECF6\", \"showlakes\": true, \"showland\": true, \"subunitcolor\": \"white\"}, \"hoverlabel\": {\"align\": \"left\"}, \"hovermode\": \"closest\", \"mapbox\": {\"style\": \"light\"}, \"paper_bgcolor\": \"white\", \"plot_bgcolor\": \"#E5ECF6\", \"polar\": {\"angularaxis\": {\"gridcolor\": \"white\", \"linecolor\": \"white\", \"ticks\": \"\"}, \"bgcolor\": \"#E5ECF6\", \"radialaxis\": {\"gridcolor\": \"white\", \"linecolor\": \"white\", \"ticks\": \"\"}}, \"scene\": {\"xaxis\": {\"backgroundcolor\": \"#E5ECF6\", \"gridcolor\": \"white\", \"gridwidth\": 2, \"linecolor\": \"white\", \"showbackground\": true, \"ticks\": \"\", \"zerolinecolor\": \"white\"}, \"yaxis\": {\"backgroundcolor\": \"#E5ECF6\", \"gridcolor\": \"white\", \"gridwidth\": 2, \"linecolor\": \"white\", \"showbackground\": true, \"ticks\": \"\", \"zerolinecolor\": \"white\"}, \"zaxis\": {\"backgroundcolor\": \"#E5ECF6\", \"gridcolor\": \"white\", \"gridwidth\": 2, \"linecolor\": \"white\", \"showbackground\": true, \"ticks\": \"\", \"zerolinecolor\": \"white\"}}, \"shapedefaults\": {\"line\": {\"color\": \"#2a3f5f\"}}, \"ternary\": {\"aaxis\": {\"gridcolor\": \"white\", \"linecolor\": \"white\", \"ticks\": \"\"}, \"baxis\": {\"gridcolor\": \"white\", \"linecolor\": \"white\", \"ticks\": \"\"}, \"bgcolor\": \"#E5ECF6\", \"caxis\": {\"gridcolor\": \"white\", \"linecolor\": \"white\", \"ticks\": \"\"}}, \"title\": {\"x\": 0.05}, \"xaxis\": {\"automargin\": true, \"gridcolor\": \"white\", \"linecolor\": \"white\", \"ticks\": \"\", \"title\": {\"standoff\": 15}, \"zerolinecolor\": \"white\", \"zerolinewidth\": 2}, \"yaxis\": {\"automargin\": true, \"gridcolor\": \"white\", \"linecolor\": \"white\", \"ticks\": \"\", \"title\": {\"standoff\": 15}, \"zerolinecolor\": \"white\", \"zerolinewidth\": 2}}}, \"xaxis\": {\"anchor\": \"y\", \"domain\": [0.0, 1.0], \"title\": {\"text\": \"wordCnt\"}}, \"yaxis\": {\"anchor\": \"x\", \"domain\": [0.0, 1.0], \"title\": {\"text\": \"count\"}}},\n",
              "                        {\"responsive\": true}\n",
              "                    ).then(function(){\n",
              "                            \n",
              "var gd = document.getElementById('eb4c33ad-2247-4f23-9558-6e7d873515b7');\n",
              "var x = new MutationObserver(function (mutations, observer) {{\n",
              "        var display = window.getComputedStyle(gd).display;\n",
              "        if (!display || display === 'none') {{\n",
              "            console.log([gd, 'removed!']);\n",
              "            Plotly.purge(gd);\n",
              "            observer.disconnect();\n",
              "        }}\n",
              "}});\n",
              "\n",
              "// Listen for the removal of the full notebook cells\n",
              "var notebookContainer = gd.closest('#notebook-container');\n",
              "if (notebookContainer) {{\n",
              "    x.observe(notebookContainer, {childList: true});\n",
              "}}\n",
              "\n",
              "// Listen for the clearing of the current output cell\n",
              "var outputEl = gd.closest('.output');\n",
              "if (outputEl) {{\n",
              "    x.observe(outputEl, {childList: true});\n",
              "}}\n",
              "\n",
              "                        })\n",
              "                };\n",
              "                \n",
              "            </script>\n",
              "        </div>\n",
              "</body>\n",
              "</html>"
            ]
          },
          "metadata": {
            "tags": []
          }
        }
      ]
    },
    {
      "cell_type": "code",
      "metadata": {
        "id": "ZuZfvTWI3hYZ"
      },
      "source": [
        "bigrams = []\n",
        "for line in df[\"text\"]:\n",
        "  data = line.split(\" \")\n",
        "  bigrams += [f\"{k.strip()}_{v.strip()}\" for k, v in zip(data, data[1:]) if k.strip() and v.strip()]"
      ],
      "execution_count": 131,
      "outputs": []
    },
    {
      "cell_type": "code",
      "metadata": {
        "id": "2B4AEpST4Pns",
        "outputId": "be38a9dd-16c1-49c3-ac00-a4155f13c126",
        "colab": {
          "base_uri": "https://localhost:8080/",
          "height": 34
        }
      },
      "source": [
        "bigrams[:3]"
      ],
      "execution_count": 132,
      "outputs": [
        {
          "output_type": "execute_result",
          "data": {
            "text/plain": [
              "['set_a', 'a_warning', 'warning_for']"
            ]
          },
          "metadata": {
            "tags": []
          },
          "execution_count": 132
        }
      ]
    },
    {
      "cell_type": "code",
      "metadata": {
        "id": "d5KRfE1Y4184"
      },
      "source": [
        "bigrams = pd.DataFrame(bigrams, columns=[\"bigrams\"])"
      ],
      "execution_count": 133,
      "outputs": []
    },
    {
      "cell_type": "code",
      "metadata": {
        "id": "zi1KIuQT5KAr"
      },
      "source": [
        "bigrams_cnt = bigrams.groupby(['bigrams']).size().reset_index(name='counts')"
      ],
      "execution_count": 134,
      "outputs": []
    },
    {
      "cell_type": "code",
      "metadata": {
        "id": "b-zaCMWL5Ph2",
        "outputId": "d206af99-4017-4b6c-8c46-f9517b4d199c",
        "colab": {
          "base_uri": "https://localhost:8080/",
          "height": 419
        }
      },
      "source": [
        "bigrams_cnt.sort_values([\"counts\"], ascending=False)"
      ],
      "execution_count": 135,
      "outputs": [
        {
          "output_type": "execute_result",
          "data": {
            "text/html": [
              "<div>\n",
              "<style scoped>\n",
              "    .dataframe tbody tr th:only-of-type {\n",
              "        vertical-align: middle;\n",
              "    }\n",
              "\n",
              "    .dataframe tbody tr th {\n",
              "        vertical-align: top;\n",
              "    }\n",
              "\n",
              "    .dataframe thead th {\n",
              "        text-align: right;\n",
              "    }\n",
              "</style>\n",
              "<table border=\"1\" class=\"dataframe\">\n",
              "  <thead>\n",
              "    <tr style=\"text-align: right;\">\n",
              "      <th></th>\n",
              "      <th>bigrams</th>\n",
              "      <th>counts</th>\n",
              "    </tr>\n",
              "  </thead>\n",
              "  <tbody>\n",
              "    <tr>\n",
              "      <th>15931</th>\n",
              "      <td>i_need</td>\n",
              "      <td>1692</td>\n",
              "    </tr>\n",
              "    <tr>\n",
              "      <th>6963</th>\n",
              "      <td>can_you</td>\n",
              "      <td>1510</td>\n",
              "    </tr>\n",
              "    <tr>\n",
              "      <th>10154</th>\n",
              "      <td>do_i</td>\n",
              "      <td>1468</td>\n",
              "    </tr>\n",
              "    <tr>\n",
              "      <th>31351</th>\n",
              "      <td>tell_me</td>\n",
              "      <td>1394</td>\n",
              "    </tr>\n",
              "    <tr>\n",
              "      <th>24571</th>\n",
              "      <td>on_my</td>\n",
              "      <td>1308</td>\n",
              "    </tr>\n",
              "    <tr>\n",
              "      <th>...</th>\n",
              "      <td>...</td>\n",
              "      <td>...</td>\n",
              "    </tr>\n",
              "    <tr>\n",
              "      <th>15300</th>\n",
              "      <td>hot_outside</td>\n",
              "      <td>1</td>\n",
              "    </tr>\n",
              "    <tr>\n",
              "      <th>15299</th>\n",
              "      <td>hot_for</td>\n",
              "      <td>1</td>\n",
              "    </tr>\n",
              "    <tr>\n",
              "      <th>15298</th>\n",
              "      <td>hot_dogs</td>\n",
              "      <td>1</td>\n",
              "    </tr>\n",
              "    <tr>\n",
              "      <th>15296</th>\n",
              "      <td>host_5</td>\n",
              "      <td>1</td>\n",
              "    </tr>\n",
              "    <tr>\n",
              "      <th>19631</th>\n",
              "      <td>lost_mastercard</td>\n",
              "      <td>1</td>\n",
              "    </tr>\n",
              "  </tbody>\n",
              "</table>\n",
              "<p>39262 rows × 2 columns</p>\n",
              "</div>"
            ],
            "text/plain": [
              "               bigrams  counts\n",
              "15931           i_need    1692\n",
              "6963           can_you    1510\n",
              "10154             do_i    1468\n",
              "31351          tell_me    1394\n",
              "24571            on_my    1308\n",
              "...                ...     ...\n",
              "15300      hot_outside       1\n",
              "15299          hot_for       1\n",
              "15298         hot_dogs       1\n",
              "15296           host_5       1\n",
              "19631  lost_mastercard       1\n",
              "\n",
              "[39262 rows x 2 columns]"
            ]
          },
          "metadata": {
            "tags": []
          },
          "execution_count": 135
        }
      ]
    },
    {
      "cell_type": "code",
      "metadata": {
        "id": "gcK4vSwd4ROc",
        "outputId": "6b35453c-56c8-4eeb-90c8-81384b2e6e4b",
        "colab": {
          "base_uri": "https://localhost:8080/",
          "height": 542
        }
      },
      "source": [
        "fig = px.bar(bigrams_cnt.sort_values([\"counts\"], ascending=False)[:200], y=\"counts\", x=\"bigrams\")\n",
        "fig.show()"
      ],
      "execution_count": 136,
      "outputs": [
        {
          "output_type": "display_data",
          "data": {
            "text/html": [
              "<html>\n",
              "<head><meta charset=\"utf-8\" /></head>\n",
              "<body>\n",
              "    <div>\n",
              "            <script src=\"https://cdnjs.cloudflare.com/ajax/libs/mathjax/2.7.5/MathJax.js?config=TeX-AMS-MML_SVG\"></script><script type=\"text/javascript\">if (window.MathJax) {MathJax.Hub.Config({SVG: {font: \"STIX-Web\"}});}</script>\n",
              "                <script type=\"text/javascript\">window.PlotlyConfig = {MathJaxConfig: 'local'};</script>\n",
              "        <script src=\"https://cdn.plot.ly/plotly-latest.min.js\"></script>    \n",
              "            <div id=\"c850484b-2194-4069-85d8-c19e5b6119ec\" class=\"plotly-graph-div\" style=\"height:525px; width:100%;\"></div>\n",
              "            <script type=\"text/javascript\">\n",
              "                \n",
              "                    window.PLOTLYENV=window.PLOTLYENV || {};\n",
              "                    \n",
              "                if (document.getElementById(\"c850484b-2194-4069-85d8-c19e5b6119ec\")) {\n",
              "                    Plotly.newPlot(\n",
              "                        'c850484b-2194-4069-85d8-c19e5b6119ec',\n",
              "                        [{\"alignmentgroup\": \"True\", \"hoverlabel\": {\"namelength\": 0}, \"hovertemplate\": \"bigrams=%{x}<br>counts=%{y}\", \"legendgroup\": \"\", \"marker\": {\"color\": \"#636efa\"}, \"name\": \"\", \"offsetgroup\": \"\", \"orientation\": \"v\", \"showlegend\": false, \"textposition\": \"auto\", \"type\": \"bar\", \"x\": [\"i_need\", \"can_you\", \"do_i\", \"tell_me\", \"on_my\", \"what_is\", \"is_the\", \"need_to\", \"can_i\", \"i_have\", \"do_you\", \"i_want\", \"my_credit\", \"to_know\", \"how_many\", \"how_much\", \"how_do\", \"for_my\", \"want_to\", \"what's_the\", \"credit_card\", \"you_tell\", \"my_card\", \"how_long\", \"to_get\", \"to_the\", \"me_the\", \"is_my\", \"to_my\", \"like_to\", \"i_get\", \"for_me\", \"my_bank\", \"of_my\", \"my_car\", \"me_a\", \"how_to\", \"in_the\", \"on_the\", \"to_do\", \"what_are\", \"if_i\", \"i_would\", \"you_to\", \"what_do\", \"is_it\", \"should_i\", \"help_me\", \"would_like\", \"for_a\", \"a_new\", \"me_how\", \"to_be\", \"in_my\", \"shopping_list\", \"my_phone\", \"i_am\", \"are_you\", \"me_what\", \"need_a\", \"give_me\", \"is_there\", \"credit_score\", \"my_shopping\", \"the_next\", \"my_tires\", \"know_the\", \"to_change\", \"you_know\", \"are_the\", \"i'd_like\", \"know_how\", \"for_the\", \"let_me\", \"my_calendar\", \"go_to\", \"i_can\", \"get_a\", \"to_me\", \"reservation_for\", \"could_you\", \"from_my\", \"change_my\", \"credit_limit\", \"how_can\", \"would_you\", \"to_make\", \"of_the\", \"you_have\", \"my_visa\", \"going_to\", \"am_i\", \"me_my\", \"have_i\", \"are_there\", \"did_i\", \"get_my\", \"my_account\", \"me_know\", \"to_go\", \"know_what\", \"what_kind\", \"i_use\", \"have_a\", \"kind_of\", \"get_to\", \"make_a\", \"have_to\", \"me_to\", \"right_now\", \"i_do\", \"bank_account\", \"with_my\", \"will_i\", \"in_a\", \"out_of\", \"my_oil\", \"my_reservation\", \"the_name\", \"routing_number\", \"to_pay\", \"that_i\", \"please_tell\", \"a_car\", \"this_car\", \"find_my\", \"my_401k\", \"at_the\", \"my_chase\", \"when_is\", \"status_of\", \"direct_deposit\", \"visa_card\", \"my_current\", \"does_my\", \"it_take\", \"the_status\", \"show_me\", \"an_uber\", \"have_any\", \"are_in\", \"what's_my\", \"this_song\", \"a_reservation\", \"what_time\", \"there_any\", \"list_of\", \"way_to\", \"need_you\", \"you_please\", \"interest_rate\", \"take_to\", \"do_list\", \"change_the\", \"pay_my\", \"i_go\", \"will_you\", \"there_a\", \"set_up\", \"to_report\", \"number_for\", \"my_luggage\", \"bank_of\", \"will_be\", \"checking_account\", \"my_to\", \"a_meeting\", \"know_my\", \"my_location\", \"a_flight\", \"your_name\", \"set_a\", \"you_help\", \"calendar_for\", \"a_visa\", \"use_my\", \"oil_change\", \"the_date\", \"my_list\", \"a_coin\", \"vacation_days\", \"when_my\", \"my_checking\", \"find_out\", \"when_will\", \"the_current\", \"know_if\", \"call_me\", \"you_are\", \"meaning_of\", \"the_best\", \"when_i\", \"is_on\", \"the_meaning\", \"my_vacation\", \"what_the\", \"i_find\", \"a_reminder\", \"does_it\", \"i_don't\"], \"xaxis\": \"x\", \"y\": [1692, 1510, 1468, 1394, 1308, 1176, 1048, 1031, 890, 795, 723, 705, 660, 599, 585, 562, 556, 547, 520, 499, 490, 468, 451, 449, 435, 429, 429, 427, 421, 412, 399, 388, 388, 378, 362, 359, 358, 348, 343, 328, 322, 316, 314, 310, 308, 307, 297, 287, 282, 282, 278, 276, 275, 274, 271, 271, 270, 258, 253, 252, 250, 234, 233, 231, 229, 223, 220, 220, 220, 218, 216, 214, 214, 209, 205, 202, 202, 194, 194, 192, 190, 190, 188, 188, 188, 187, 185, 184, 182, 182, 181, 179, 178, 174, 174, 172, 171, 169, 168, 167, 167, 165, 164, 164, 162, 161, 161, 159, 159, 157, 157, 157, 156, 155, 149, 149, 148, 148, 147, 146, 143, 142, 139, 137, 136, 136, 136, 135, 135, 135, 135, 132, 132, 131, 131, 131, 130, 128, 127, 127, 126, 125, 125, 124, 124, 124, 123, 123, 123, 123, 122, 122, 121, 121, 121, 120, 120, 119, 119, 118, 117, 117, 117, 115, 113, 113, 110, 109, 108, 108, 107, 106, 106, 105, 105, 104, 104, 103, 102, 101, 101, 101, 101, 101, 101, 100, 99, 98, 98, 98, 98, 97, 97, 96, 96, 96, 96, 95, 94, 94], \"yaxis\": \"y\"}],\n",
              "                        {\"barmode\": \"relative\", \"legend\": {\"tracegroupgap\": 0}, \"margin\": {\"t\": 60}, \"template\": {\"data\": {\"bar\": [{\"error_x\": {\"color\": \"#2a3f5f\"}, \"error_y\": {\"color\": \"#2a3f5f\"}, \"marker\": {\"line\": {\"color\": \"#E5ECF6\", \"width\": 0.5}}, \"type\": \"bar\"}], \"barpolar\": [{\"marker\": {\"line\": {\"color\": \"#E5ECF6\", \"width\": 0.5}}, \"type\": \"barpolar\"}], \"carpet\": [{\"aaxis\": {\"endlinecolor\": \"#2a3f5f\", \"gridcolor\": \"white\", \"linecolor\": \"white\", \"minorgridcolor\": \"white\", \"startlinecolor\": \"#2a3f5f\"}, \"baxis\": {\"endlinecolor\": \"#2a3f5f\", \"gridcolor\": \"white\", \"linecolor\": \"white\", \"minorgridcolor\": \"white\", \"startlinecolor\": \"#2a3f5f\"}, \"type\": \"carpet\"}], \"choropleth\": [{\"colorbar\": {\"outlinewidth\": 0, \"ticks\": \"\"}, \"type\": \"choropleth\"}], \"contour\": [{\"colorbar\": {\"outlinewidth\": 0, \"ticks\": \"\"}, \"colorscale\": [[0.0, \"#0d0887\"], [0.1111111111111111, \"#46039f\"], [0.2222222222222222, \"#7201a8\"], [0.3333333333333333, \"#9c179e\"], [0.4444444444444444, \"#bd3786\"], [0.5555555555555556, \"#d8576b\"], [0.6666666666666666, \"#ed7953\"], [0.7777777777777778, \"#fb9f3a\"], [0.8888888888888888, \"#fdca26\"], [1.0, \"#f0f921\"]], \"type\": \"contour\"}], \"contourcarpet\": [{\"colorbar\": {\"outlinewidth\": 0, \"ticks\": \"\"}, \"type\": \"contourcarpet\"}], \"heatmap\": [{\"colorbar\": {\"outlinewidth\": 0, \"ticks\": \"\"}, \"colorscale\": [[0.0, \"#0d0887\"], [0.1111111111111111, \"#46039f\"], [0.2222222222222222, \"#7201a8\"], [0.3333333333333333, \"#9c179e\"], [0.4444444444444444, \"#bd3786\"], [0.5555555555555556, \"#d8576b\"], [0.6666666666666666, \"#ed7953\"], [0.7777777777777778, \"#fb9f3a\"], [0.8888888888888888, \"#fdca26\"], [1.0, \"#f0f921\"]], \"type\": \"heatmap\"}], \"heatmapgl\": [{\"colorbar\": {\"outlinewidth\": 0, \"ticks\": \"\"}, \"colorscale\": [[0.0, \"#0d0887\"], [0.1111111111111111, \"#46039f\"], [0.2222222222222222, \"#7201a8\"], [0.3333333333333333, \"#9c179e\"], [0.4444444444444444, \"#bd3786\"], [0.5555555555555556, \"#d8576b\"], [0.6666666666666666, \"#ed7953\"], [0.7777777777777778, \"#fb9f3a\"], [0.8888888888888888, \"#fdca26\"], [1.0, \"#f0f921\"]], \"type\": \"heatmapgl\"}], \"histogram\": [{\"marker\": {\"colorbar\": {\"outlinewidth\": 0, \"ticks\": \"\"}}, \"type\": \"histogram\"}], \"histogram2d\": [{\"colorbar\": {\"outlinewidth\": 0, \"ticks\": \"\"}, \"colorscale\": [[0.0, \"#0d0887\"], [0.1111111111111111, \"#46039f\"], [0.2222222222222222, \"#7201a8\"], [0.3333333333333333, \"#9c179e\"], [0.4444444444444444, \"#bd3786\"], [0.5555555555555556, \"#d8576b\"], [0.6666666666666666, \"#ed7953\"], [0.7777777777777778, \"#fb9f3a\"], [0.8888888888888888, \"#fdca26\"], [1.0, \"#f0f921\"]], \"type\": \"histogram2d\"}], \"histogram2dcontour\": [{\"colorbar\": {\"outlinewidth\": 0, \"ticks\": \"\"}, \"colorscale\": [[0.0, \"#0d0887\"], [0.1111111111111111, \"#46039f\"], [0.2222222222222222, \"#7201a8\"], [0.3333333333333333, \"#9c179e\"], [0.4444444444444444, \"#bd3786\"], [0.5555555555555556, \"#d8576b\"], [0.6666666666666666, \"#ed7953\"], [0.7777777777777778, \"#fb9f3a\"], [0.8888888888888888, \"#fdca26\"], [1.0, \"#f0f921\"]], \"type\": \"histogram2dcontour\"}], \"mesh3d\": [{\"colorbar\": {\"outlinewidth\": 0, \"ticks\": \"\"}, \"type\": \"mesh3d\"}], \"parcoords\": [{\"line\": {\"colorbar\": {\"outlinewidth\": 0, \"ticks\": \"\"}}, \"type\": \"parcoords\"}], \"pie\": [{\"automargin\": true, \"type\": \"pie\"}], \"scatter\": [{\"marker\": {\"colorbar\": {\"outlinewidth\": 0, \"ticks\": \"\"}}, \"type\": \"scatter\"}], \"scatter3d\": [{\"line\": {\"colorbar\": {\"outlinewidth\": 0, \"ticks\": \"\"}}, \"marker\": {\"colorbar\": {\"outlinewidth\": 0, \"ticks\": \"\"}}, \"type\": \"scatter3d\"}], \"scattercarpet\": [{\"marker\": {\"colorbar\": {\"outlinewidth\": 0, \"ticks\": \"\"}}, \"type\": \"scattercarpet\"}], \"scattergeo\": [{\"marker\": {\"colorbar\": {\"outlinewidth\": 0, \"ticks\": \"\"}}, \"type\": \"scattergeo\"}], \"scattergl\": [{\"marker\": {\"colorbar\": {\"outlinewidth\": 0, \"ticks\": \"\"}}, \"type\": \"scattergl\"}], \"scattermapbox\": [{\"marker\": {\"colorbar\": {\"outlinewidth\": 0, \"ticks\": \"\"}}, \"type\": \"scattermapbox\"}], \"scatterpolar\": [{\"marker\": {\"colorbar\": {\"outlinewidth\": 0, \"ticks\": \"\"}}, \"type\": \"scatterpolar\"}], \"scatterpolargl\": [{\"marker\": {\"colorbar\": {\"outlinewidth\": 0, \"ticks\": \"\"}}, \"type\": \"scatterpolargl\"}], \"scatterternary\": [{\"marker\": {\"colorbar\": {\"outlinewidth\": 0, \"ticks\": \"\"}}, \"type\": \"scatterternary\"}], \"surface\": [{\"colorbar\": {\"outlinewidth\": 0, \"ticks\": \"\"}, \"colorscale\": [[0.0, \"#0d0887\"], [0.1111111111111111, \"#46039f\"], [0.2222222222222222, \"#7201a8\"], [0.3333333333333333, \"#9c179e\"], [0.4444444444444444, \"#bd3786\"], [0.5555555555555556, \"#d8576b\"], [0.6666666666666666, \"#ed7953\"], [0.7777777777777778, \"#fb9f3a\"], [0.8888888888888888, \"#fdca26\"], [1.0, \"#f0f921\"]], \"type\": \"surface\"}], \"table\": [{\"cells\": {\"fill\": {\"color\": \"#EBF0F8\"}, \"line\": {\"color\": \"white\"}}, \"header\": {\"fill\": {\"color\": \"#C8D4E3\"}, \"line\": {\"color\": \"white\"}}, \"type\": \"table\"}]}, \"layout\": {\"annotationdefaults\": {\"arrowcolor\": \"#2a3f5f\", \"arrowhead\": 0, \"arrowwidth\": 1}, \"coloraxis\": {\"colorbar\": {\"outlinewidth\": 0, \"ticks\": \"\"}}, \"colorscale\": {\"diverging\": [[0, \"#8e0152\"], [0.1, \"#c51b7d\"], [0.2, \"#de77ae\"], [0.3, \"#f1b6da\"], [0.4, \"#fde0ef\"], [0.5, \"#f7f7f7\"], [0.6, \"#e6f5d0\"], [0.7, \"#b8e186\"], [0.8, \"#7fbc41\"], [0.9, \"#4d9221\"], [1, \"#276419\"]], \"sequential\": [[0.0, \"#0d0887\"], [0.1111111111111111, \"#46039f\"], [0.2222222222222222, \"#7201a8\"], [0.3333333333333333, \"#9c179e\"], [0.4444444444444444, \"#bd3786\"], [0.5555555555555556, \"#d8576b\"], [0.6666666666666666, \"#ed7953\"], [0.7777777777777778, \"#fb9f3a\"], [0.8888888888888888, \"#fdca26\"], [1.0, \"#f0f921\"]], \"sequentialminus\": [[0.0, \"#0d0887\"], [0.1111111111111111, \"#46039f\"], [0.2222222222222222, \"#7201a8\"], [0.3333333333333333, \"#9c179e\"], [0.4444444444444444, \"#bd3786\"], [0.5555555555555556, \"#d8576b\"], [0.6666666666666666, \"#ed7953\"], [0.7777777777777778, \"#fb9f3a\"], [0.8888888888888888, \"#fdca26\"], [1.0, \"#f0f921\"]]}, \"colorway\": [\"#636efa\", \"#EF553B\", \"#00cc96\", \"#ab63fa\", \"#FFA15A\", \"#19d3f3\", \"#FF6692\", \"#B6E880\", \"#FF97FF\", \"#FECB52\"], \"font\": {\"color\": \"#2a3f5f\"}, \"geo\": {\"bgcolor\": \"white\", \"lakecolor\": \"white\", \"landcolor\": \"#E5ECF6\", \"showlakes\": true, \"showland\": true, \"subunitcolor\": \"white\"}, \"hoverlabel\": {\"align\": \"left\"}, \"hovermode\": \"closest\", \"mapbox\": {\"style\": \"light\"}, \"paper_bgcolor\": \"white\", \"plot_bgcolor\": \"#E5ECF6\", \"polar\": {\"angularaxis\": {\"gridcolor\": \"white\", \"linecolor\": \"white\", \"ticks\": \"\"}, \"bgcolor\": \"#E5ECF6\", \"radialaxis\": {\"gridcolor\": \"white\", \"linecolor\": \"white\", \"ticks\": \"\"}}, \"scene\": {\"xaxis\": {\"backgroundcolor\": \"#E5ECF6\", \"gridcolor\": \"white\", \"gridwidth\": 2, \"linecolor\": \"white\", \"showbackground\": true, \"ticks\": \"\", \"zerolinecolor\": \"white\"}, \"yaxis\": {\"backgroundcolor\": \"#E5ECF6\", \"gridcolor\": \"white\", \"gridwidth\": 2, \"linecolor\": \"white\", \"showbackground\": true, \"ticks\": \"\", \"zerolinecolor\": \"white\"}, \"zaxis\": {\"backgroundcolor\": \"#E5ECF6\", \"gridcolor\": \"white\", \"gridwidth\": 2, \"linecolor\": \"white\", \"showbackground\": true, \"ticks\": \"\", \"zerolinecolor\": \"white\"}}, \"shapedefaults\": {\"line\": {\"color\": \"#2a3f5f\"}}, \"ternary\": {\"aaxis\": {\"gridcolor\": \"white\", \"linecolor\": \"white\", \"ticks\": \"\"}, \"baxis\": {\"gridcolor\": \"white\", \"linecolor\": \"white\", \"ticks\": \"\"}, \"bgcolor\": \"#E5ECF6\", \"caxis\": {\"gridcolor\": \"white\", \"linecolor\": \"white\", \"ticks\": \"\"}}, \"title\": {\"x\": 0.05}, \"xaxis\": {\"automargin\": true, \"gridcolor\": \"white\", \"linecolor\": \"white\", \"ticks\": \"\", \"title\": {\"standoff\": 15}, \"zerolinecolor\": \"white\", \"zerolinewidth\": 2}, \"yaxis\": {\"automargin\": true, \"gridcolor\": \"white\", \"linecolor\": \"white\", \"ticks\": \"\", \"title\": {\"standoff\": 15}, \"zerolinecolor\": \"white\", \"zerolinewidth\": 2}}}, \"xaxis\": {\"anchor\": \"y\", \"domain\": [0.0, 1.0], \"title\": {\"text\": \"bigrams\"}}, \"yaxis\": {\"anchor\": \"x\", \"domain\": [0.0, 1.0], \"title\": {\"text\": \"counts\"}}},\n",
              "                        {\"responsive\": true}\n",
              "                    ).then(function(){\n",
              "                            \n",
              "var gd = document.getElementById('c850484b-2194-4069-85d8-c19e5b6119ec');\n",
              "var x = new MutationObserver(function (mutations, observer) {{\n",
              "        var display = window.getComputedStyle(gd).display;\n",
              "        if (!display || display === 'none') {{\n",
              "            console.log([gd, 'removed!']);\n",
              "            Plotly.purge(gd);\n",
              "            observer.disconnect();\n",
              "        }}\n",
              "}});\n",
              "\n",
              "// Listen for the removal of the full notebook cells\n",
              "var notebookContainer = gd.closest('#notebook-container');\n",
              "if (notebookContainer) {{\n",
              "    x.observe(notebookContainer, {childList: true});\n",
              "}}\n",
              "\n",
              "// Listen for the clearing of the current output cell\n",
              "var outputEl = gd.closest('.output');\n",
              "if (outputEl) {{\n",
              "    x.observe(outputEl, {childList: true});\n",
              "}}\n",
              "\n",
              "                        })\n",
              "                };\n",
              "                \n",
              "            </script>\n",
              "        </div>\n",
              "</body>\n",
              "</html>"
            ]
          },
          "metadata": {
            "tags": []
          }
        }
      ]
    },
    {
      "cell_type": "code",
      "metadata": {
        "id": "xryFJpwp4bBj"
      },
      "source": [
        "# https://en.wikipedia.org/wiki/Zipf%27s_law\n",
        "# https://en.wikipedia.org/wiki/Long_tail\n",
        "# https://en.wikipedia.org/wiki/Pareto_principle"
      ],
      "execution_count": null,
      "outputs": []
    },
    {
      "cell_type": "markdown",
      "metadata": {
        "id": "KlJNQ0lo1ZbY"
      },
      "source": [
        "*   https://realpython.com/pipenv-guide/#example-usage\n",
        "*   https://virtualenv.pypa.io/en/latest/\n",
        "*   https://pypi.org/project/virtualenvwrapper/\n",
        "\n"
      ]
    },
    {
      "cell_type": "code",
      "metadata": {
        "id": "KUrKqzWZ1Y9v"
      },
      "source": [
        ""
      ],
      "execution_count": null,
      "outputs": []
    }
  ]
}