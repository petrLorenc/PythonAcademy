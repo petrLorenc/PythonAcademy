{
 "cells": [
  {
   "cell_type": "markdown",
   "metadata": {
    "collapsed": true,
    "pycharm": {
     "name": "#%% md\n"
    }
   },
   "source": [
    "# Lesson 12\n",
    "\n",
    "* Questions\n",
    "* Tic-tac-toe\n",
    "* Quiz"
   ]
  },
  {
   "cell_type": "markdown",
   "source": [
    "### HTML\n",
    "\n",
    "HTML is another text file format. It is used to create structure of web pages and stands for Hyper Text Markup Language. It describes the structure of Web pages using so called markup. Markup elements are made of so called tags. Each tag tells us, where a given page element starts and ends. Example of tags can be paragpraphs, headings, tables etc.\n",
    "\n",
    "HTML is composed of elements and elements are composed of:\n",
    "\n",
    "* opening tag\n",
    "* attributes\n",
    "* element content (text) - not always\n",
    "* closing tag\n",
    "\n",
    "### INTERNET COMMUNICATION\n",
    "\n",
    "* **CLIENTS** - machines (f.e. web browser on you computer) that ask for resources (web pages, files, etc.)\n",
    "* **ROUTERS or SWITCHES** - machines that manage the traffic on the internet (moving data to correct destination)\n",
    "* **SERVERS** - machines that answer the requests and provide resources\n",
    "\n",
    "The communication among all these machines is directed by many rules on different levels. These rules make up variouse protocols. Protocols describe, how set of specific tasks should be performed - what has to be done, in what order.\n",
    "\n",
    "As we will be learning to request so called hypertext documents from servers in this section, the protocol of our interest is called HTTP (HyperText Transfer Protocol)\n",
    "\n",
    "#### URL Scheme\n",
    "\n",
    "```protocol://host/path?query#fragment```\n",
    "\n",
    "#### HTTP Status Codes\n",
    "\n",
    "* 1xx: Informational\n",
    "    * Request received, continuing process. We will not see this one very often.\n",
    "\n",
    "* 2xx: Success\n",
    "    * The action was successfully received, understood, and accepted. Code, that everybody, who sends a request wants, is code 200. It tells the client, that request has been successfully processed.\n",
    "\n",
    "* 3xx: Redirection\n",
    "    * Further action must be taken in order to complete the request. In reality, server tells the client, that the required resource can be found at different URL. Examples of codes are 302 and 303.\n",
    "\n",
    "* 4xx: Client Error\n",
    "    * The request contains bad syntax or cannot be fulfilled. The best known is the response 404, telling us that the server could not find the given resource.\n",
    "\n",
    "* 5xx: Server Error\n",
    "    * The server failed to fulfill an apparently valid request. Code 500 tells us, that due to the problem on the server side, the request could not be fulfilled.\n",
    "\n",
    "#### HTTP Methods\n",
    "\n",
    "* GET - requests a given document or a video - in general a resource - this method is used to retrieve data\n",
    "* POST - method used to send data to a server, e.g. for authentication or registration etc.\n",
    "* PUT - similar to POST method in that we send some data to the server, but the server should update a given (existing) record or other resource to a new value, we send it\n",
    "* DELETE - removes a given resource\n",
    "* HEAD - asks for a response identical to that of a GET request, but without the response body\n",
    "* OPTIONS - asks server, what methods are supported by a given resource - given web page etc."
   ],
   "metadata": {
    "collapsed": false,
    "pycharm": {
     "name": "#%% md\n"
    }
   }
  },
  {
   "cell_type": "markdown",
   "source": [
    "### JSON\n",
    "The format of JSON encoding is almost identical to Python syntax except for a few minor changes:\n",
    "\n",
    "* non-string dictionary keys are converted to strings\n",
    "* True is mapped to 'true' , False is mapped to 'false'\n",
    "* None is mapped to null\n",
    "* single quotes on strings are converted to double quotes\n",
    "\n"
   ],
   "metadata": {
    "collapsed": false
   }
  },
  {
   "cell_type": "code",
   "execution_count": null,
   "outputs": [],
   "source": [
    "!pip install requests"
   ],
   "metadata": {
    "collapsed": false,
    "pycharm": {
     "name": "#%%\n"
    }
   }
  },
  {
   "cell_type": "code",
   "execution_count": null,
   "outputs": [],
   "source": [
    "import requests"
   ],
   "metadata": {
    "collapsed": false,
    "pycharm": {
     "name": "#%%\n"
    }
   }
  },
  {
   "cell_type": "code",
   "execution_count": null,
   "outputs": [],
   "source": [
    "requests.get('https://swapi.dev/api/people/1/').text"
   ],
   "metadata": {
    "collapsed": false,
    "pycharm": {
     "name": "#%%\n"
    }
   }
  },
  {
   "cell_type": "code",
   "execution_count": null,
   "outputs": [],
   "source": [
    "requests.get('https://swapi.dev/api/people/1/').json()"
   ],
   "metadata": {
    "collapsed": false,
    "pycharm": {
     "name": "#%%\n"
    }
   }
  },
  {
   "cell_type": "code",
   "execution_count": null,
   "outputs": [],
   "source": [
    "class JSONClass:\n",
    "    def __init__(self, json):\n",
    "        for k, v in json.items():\n",
    "            setattr(self, k, v)"
   ],
   "metadata": {
    "collapsed": false,
    "pycharm": {
     "name": "#%%\n"
    }
   }
  },
  {
   "cell_type": "code",
   "execution_count": null,
   "outputs": [],
   "source": [
    "luke = JSONClass(requests.get('https://swapi.dev/api/people/1/').json())"
   ],
   "metadata": {
    "collapsed": false,
    "pycharm": {
     "name": "#%%\n"
    }
   }
  },
  {
   "cell_type": "code",
   "execution_count": null,
   "outputs": [],
   "source": [
    "luke"
   ],
   "metadata": {
    "collapsed": false,
    "pycharm": {
     "name": "#%%\n"
    }
   }
  },
  {
   "cell_type": "code",
   "execution_count": null,
   "outputs": [],
   "source": [
    "luke.films"
   ],
   "metadata": {
    "collapsed": false,
    "pycharm": {
     "name": "#%%\n"
    }
   }
  },
  {
   "cell_type": "markdown",
   "source": [
    "We can use it even when the RESPONSE is not JSON"
   ],
   "metadata": {
    "collapsed": false,
    "pycharm": {
     "name": "#%% md\n"
    }
   }
  },
  {
   "cell_type": "code",
   "execution_count": 2,
   "outputs": [],
   "source": [
    "import requests"
   ],
   "metadata": {
    "collapsed": false,
    "pycharm": {
     "name": "#%%\n"
    }
   }
  },
  {
   "cell_type": "code",
   "execution_count": 4,
   "outputs": [
    {
     "data": {
      "text/plain": "{'args': {},\n 'headers': {'Accept': '*/*',\n  'Accept-Encoding': 'gzip, deflate',\n  'Host': 'httpbin.org',\n  'User-Agent': 'python-requests/2.24.0',\n  'X-Amzn-Trace-Id': 'Root=1-5f944b62-16cf154e217e4e95126fbdae'},\n 'origin': '94.142.238.52',\n 'url': 'https://httpbin.org/get'}"
     },
     "execution_count": 4,
     "metadata": {},
     "output_type": "execute_result"
    }
   ],
   "source": [
    "response = requests.get('https://httpbin.org/get')\n",
    "response.json()"
   ],
   "metadata": {
    "collapsed": false,
    "pycharm": {
     "name": "#%%\n"
    }
   }
  },
  {
   "cell_type": "code",
   "execution_count": 5,
   "outputs": [
    {
     "data": {
      "text/plain": "{'args': {},\n 'data': '',\n 'files': {},\n 'form': {'my_message': 'Hello'},\n 'headers': {'Accept': '*/*',\n  'Accept-Encoding': 'gzip, deflate',\n  'Content-Length': '16',\n  'Content-Type': 'application/x-www-form-urlencoded',\n  'Host': 'httpbin.org',\n  'User-Agent': 'python-requests/2.24.0',\n  'X-Amzn-Trace-Id': 'Root=1-5f944b76-3399080d1fd2998a69232102'},\n 'json': None,\n 'origin': '94.142.238.52',\n 'url': 'http://httpbin.org/post'}"
     },
     "execution_count": 5,
     "metadata": {},
     "output_type": "execute_result"
    }
   ],
   "source": [
    "response = requests.post('http://httpbin.org/post', data = {'my_message':'Hello'})\n",
    "response.json()"
   ],
   "metadata": {
    "collapsed": false,
    "pycharm": {
     "name": "#%%\n"
    }
   }
  },
  {
   "cell_type": "code",
   "execution_count": 6,
   "outputs": [
    {
     "name": "stdout",
     "output_type": "stream",
     "text": [
      "Collecting beautifulsoup4\r\n",
      "  Downloading beautifulsoup4-4.9.3-py3-none-any.whl (115 kB)\r\n",
      "\u001B[K     |████████████████████████████████| 115 kB 1.6 MB/s eta 0:00:01\r\n",
      "\u001B[?25hCollecting soupsieve>1.2; python_version >= \"3.0\"\r\n",
      "  Using cached soupsieve-2.0.1-py3-none-any.whl (32 kB)\r\n",
      "Installing collected packages: soupsieve, beautifulsoup4\r\n",
      "Successfully installed beautifulsoup4-4.9.3 soupsieve-2.0.1\r\n",
      "\u001B[33mWARNING: You are using pip version 20.1.1; however, version 20.2.4 is available.\r\n",
      "You should consider upgrading via the '/home/petrlorenc/.virtualenvs/engeto/bin/python3 -m pip install --upgrade pip' command.\u001B[0m\r\n"
     ]
    }
   ],
   "source": [
    "! pip install beautifulsoup4"
   ],
   "metadata": {
    "collapsed": false,
    "pycharm": {
     "name": "#%%\n"
    }
   }
  },
  {
   "cell_type": "code",
   "execution_count": 7,
   "outputs": [],
   "source": [
    "response = requests.get(\"https://citaty.net/autori/jan-werich/\")"
   ],
   "metadata": {
    "collapsed": false,
    "pycharm": {
     "name": "#%%\n"
    }
   }
  },
  {
   "cell_type": "code",
   "execution_count": 8,
   "outputs": [],
   "source": [
    "from bs4 import BeautifulSoup as bs\n",
    "soup = bs(response.text, \"html.parser\")"
   ],
   "metadata": {
    "collapsed": false,
    "pycharm": {
     "name": "#%%\n"
    }
   }
  },
  {
   "cell_type": "code",
   "execution_count": 13,
   "outputs": [
    {
     "data": {
      "text/plain": "[<h3>Citáty Jan Werich</h3>,\n <h3 class=\"blockquote-text\"><a data-quote-content=\"\" href=\"/citaty/283433-jan-werich-strach-to-je-jako-cit-v-prstech-nemas-cit-sahas/\" title=\"Detail citátu „Strach, to je jako cit v prstech. Nemáš cit, šaháš do ohně, a uhoří si ruka.“ — Jan Werich\">„Strach, to je jako cit v prstech. Nemáš cit, šaháš do ohně, a uhoří si ruka.“</a></h3>,\n <h3 class=\"blockquote-text\"><a data-quote-content=\"\" href=\"/citaty/20438-jan-werich-kdo-vino-ma-a-nepije-kdo-hrozny-ma-a-neji-je-kdo/\" title=\"Detail citátu „Kdo víno má a nepije, kdo hrozny má a nejí je, kdo ženu má a nelíbá, kdo zábavě se vyhýbá, na toho vemte bič a hůl, to není člověk, to je vůl.“ — Jan Werich\">„Kdo víno má a nepije, kdo hrozny má a nejí je, kdo ženu má a nelíbá, kdo zábavě se vyhýbá, na toho vemte bič a hůl, to není člověk, to je vůl.“</a></h3>,\n <h3 class=\"blockquote-text\"><a data-quote-content=\"\" href=\"/citaty/1543688-jan-werich-jestlize-se-clovek-hada-s-blbcem-vic-jak-pul-minu/\" title=\"Detail citátu „Jestliže se člověk hádá s blbcem víc, jak půl minuty, hádají se už dva blbci.“ — Jan Werich\">„Jestliže se člověk hádá s blbcem víc, jak půl minuty, hádají se už dva blbci.“</a></h3>,\n <h3 class=\"blockquote-text\"><a data-quote-content=\"\" href=\"/citaty/11561-jan-werich-smich-neni-nikdy-pro-nic-a-za-nic-snad-jen-u-sile/\" title=\"Detail citátu „Smích není nikdy pro nic a za nic, snad jen u šílených lidí. Normální člověk musí mít důvod, směje se něčemu.“ — Jan Werich\">„Smích není nikdy pro nic a za nic, snad jen u šílených lidí. Normální člověk musí mít důvod, směje se něčemu.“</a></h3>,\n <h3 class=\"blockquote-text\"><a data-quote-content=\"\" href=\"/citaty/283434-jan-werich-cestina-je-krasna-rec-ona-ma-obrovskou-plejadu-sl/\" title=\"Detail citátu „Čeština je krásná řeč. Ona má obrovskou plejádu slov pro obyčejný věci. Třeba kulaťoučké jablíčko. To neřeknete jinou řečí. Angličan musí říct “a litte round apple“, malé kulaté jablko…. Tomu přece chybí barva i vůně.“ — Jan Werich\">„Čeština je krásná řeč. Ona má obrovskou plejádu slov pro obyčejný věci. Třeba kulaťoučké jablíčko. To neřeknete jinou řečí. Angličan musí říct “a litte round apple“, malé kulaté jablko…. Tomu přece chybí barva i vůně.“</a></h3>,\n <h3 class=\"blockquote-text\"><a data-quote-content=\"\" href=\"/citaty/5316-jan-werich-zenske-nemaji-smysl-pro-nesmysl/\" title=\"Detail citátu „Ženské nemají smysl pro nesmysl.“ — Jan Werich\">„Ženské nemají smysl pro nesmysl.“</a></h3>,\n <h3 class=\"blockquote-text\"><a data-quote-content=\"\" href=\"/citaty/22162-jan-werich-podarene-manzelstvi-je-div-sveta/\" title=\"Detail citátu „Podařené manželství je div světa.“ — Jan Werich\">„Podařené manželství je div světa.“</a></h3>,\n <h3 class=\"blockquote-text\"><a data-quote-content=\"\" href=\"/citaty/17064-jan-werich-nekdo-ma-to-stesti-ze-ma-schopnost-byt-pritelem/\" title=\"Detail citátu „Někdo má to štěstí, že má schopnost být přítelem.“ — Jan Werich\">„Někdo má to štěstí, že má schopnost být přítelem.“</a></h3>,\n <h3 class=\"blockquote-text\"><a data-quote-content=\"\" href=\"/citaty/19215-jan-werich-mejte-dobrou-naladu-dobra-nalada-sice-vase-proble/\" title=\"Detail citátu „Mějte dobrou náladu. Dobrá nálada sice vaše problémy nevyřeší, ale naštve tolik lidí kolem, že stojí za to si ji užít.“ — Jan Werich\">„Mějte dobrou náladu. Dobrá nálada sice vaše problémy nevyřeší, ale naštve tolik lidí kolem, že stojí za to si ji užít.“</a></h3>,\n <h3 class=\"blockquote-text\"><a data-quote-content=\"\" href=\"/citaty/21864-jan-werich-kde-blb-tam-nebezpecno/\" title=\"Detail citátu „Kde blb, tam nebezpečno.“ — Jan Werich\">„Kde blb, tam nebezpečno.“</a></h3>,\n <h3 class=\"blockquote-text\"><a data-quote-content=\"\" href=\"/citaty/10962-jan-werich-clovek-ktery-nikdy-neplakal-nezil-opravdovy-zivo/\" title=\"Detail citátu „Člověk, který nikdy neplakal, nežil opravdový život“ — Jan Werich\">„Člověk, který nikdy neplakal, nežil opravdový život“</a></h3>,\n <h3 class=\"blockquote-text\"><a data-quote-content=\"\" href=\"/citaty/270946-jan-werich-nejhorsi-srazka-v-zivote-je-srazka-s-blbcem-blbc/\" title=\"Detail citátu „Nejhorší srážka v životě, je srážka s blbcem. Blbce nikdy neusvědčíte z blbství. Z takové srážky, vyjdete vždycky jako největší blbec pod sluncem.“ — Jan Werich\">„Nejhorší srážka v životě, je srážka s blbcem. Blbce nikdy neusvědčíte z blbství. Z takové srážky, vyjdete vždycky jako největší blbec pod sluncem.“</a></h3>,\n <h3 class=\"blockquote-text\"><a data-quote-content=\"\" href=\"/citaty/18414-jan-werich-jedna-zenska-vidi-nekdy-dal-nez-pet-muzskych-s-dal/\" title=\"Detail citátu „Jedna ženská vidí někdy dál než pět mužských s dalekohledem.“ — Jan Werich\">„Jedna ženská vidí někdy dál než pět mužských s dalekohledem.“</a></h3>,\n <h3 class=\"blockquote-text\"><a data-quote-content=\"\" href=\"/citaty/271700-jan-werich-klauni-nejsou-ale-sasku-je/\" title=\"Detail citátu „Klauni nejsou, ale šašků je…“ — Jan Werich\">„Klauni nejsou, ale šašků je…“</a></h3>,\n <h3 class=\"blockquote-text\"><a data-quote-content=\"\" href=\"/citaty/5404-jan-werich-paklize-clovek-zvitezi-nad-vlastni-blbosti-je-vit/\" title=\"Detail citátu „Pakliže člověk zvítězí nad vlastní blbostí, je vítězem nebo poraženým? V každém případě je to dobré.“ — Jan Werich\">„Pakliže člověk zvítězí nad vlastní blbostí, je vítězem nebo poraženým? V každém případě je to dobré.“</a></h3>,\n <h3 class=\"blockquote-text\"><a data-quote-content=\"\" href=\"/citaty/12782-jan-werich-hloupost-se-fackovanim-neda-vylecit/\" title=\"Detail citátu „Hloupost se fackováním nedá vyléčit.“ — Jan Werich\">„Hloupost se fackováním nedá vyléčit.“</a></h3>,\n <h3 class=\"blockquote-text\"><a data-quote-content=\"\" href=\"/citaty/11860-jan-werich-nenavidim-pohrby-az-na-ten-svuj-na-kterej-nebudu/\" title=\"Detail citátu „Nenávidím pohřby. Až na ten svůj, na kterej nebudu muset jít.“ — Jan Werich\">„Nenávidím pohřby. Až na ten svůj, na kterej nebudu muset jít.“</a></h3>,\n <h3 class=\"blockquote-text\"><a data-quote-content=\"\" href=\"/citaty/15857-jan-werich-na-svete-je-zavedeno-ze-spousta-hloupych-si-hraje/\" title=\"Detail citátu „Na světě je zavedeno, že spousta hloupých si hraje na chytré. Z chytrých, kterých je na světě nedostatek, si jen ti nejchytřejší hrají na hloupé.“ — Jan Werich\">„Na světě je zavedeno, že spousta hloupých si hraje na chytré. Z chytrých, kterých je na světě nedostatek, si jen ti nejchytřejší hrají na hloupé.“</a></h3>,\n <h3 class=\"blockquote-text\"><a data-quote-content=\"\" href=\"/citaty/1956683-jan-werich-vite-chlap-nesmi-bejt-blbej-ve-trech-pripadech-z/\" title=\"Detail citátu „Víte, chlap nesmí bejt blbej ve třech případech. Za volantem, v posteli, u stolu. Všude jinde se to snese.“ — Jan Werich\">„Víte, chlap nesmí bejt blbej ve třech případech. Za volantem, v posteli, u stolu. Všude jinde se to snese.“</a></h3>,\n <h3 class=\"blockquote-text\"><a data-quote-content=\"\" href=\"/citaty/264562-jan-werich-bernard-shaw-byl-ziv-sto-let-rekneme-byl-to-krat/\" title=\"Detail citátu „Bernard Shaw byl živ sto let, řekněme. Byl to krátký anebo dlouhý život? Krátkej život, protože Bernard Shaw tady moh bejt ještě dvěstěpadesát let, protože pořád měl co říct. … Takhle je to. … Zatím co v této chvíli po celém glóbusu je roztroušeno já nevím kolik třicetiletých, který tady už čtyřistapadesát let nemuseli bejt.“ — Jan Werich\">„Bernard Shaw byl živ sto let, řekněme. Byl to krátký anebo dlouhý život? Krátkej život, protože Bernard Shaw tady moh bejt ještě dvěstěpadesát let, protože pořád měl co říct. … Takhle je to. … Zatím co v této chvíli po celém glóbusu je roztroušeno já nevím kolik třicetiletých, který tady už čtyřistapadesát let nemuseli bejt.“</a></h3>,\n <h3 class=\"blockquote-text\"> „Lorem ipsum dolor sit amet, consectetuer adipiscing elit. Etiam egestas wisi a erat. Morbi imperdiet, mauris ac auctor dictum.“ </h3>,\n <h3>Podobní autoři</h3>]"
     },
     "execution_count": 13,
     "metadata": {},
     "output_type": "execute_result"
    }
   ],
   "source": [
    "soup.find_all(\"h3\")"
   ],
   "metadata": {
    "collapsed": false,
    "pycharm": {
     "name": "#%%\n"
    }
   }
  },
  {
   "cell_type": "code",
   "execution_count": 15,
   "outputs": [
    {
     "data": {
      "text/plain": "[<h3 class=\"blockquote-text\"><a data-quote-content=\"\" href=\"/citaty/283433-jan-werich-strach-to-je-jako-cit-v-prstech-nemas-cit-sahas/\" title=\"Detail citátu „Strach, to je jako cit v prstech. Nemáš cit, šaháš do ohně, a uhoří si ruka.“ — Jan Werich\">„Strach, to je jako cit v prstech. Nemáš cit, šaháš do ohně, a uhoří si ruka.“</a></h3>,\n <h3 class=\"blockquote-text\"><a data-quote-content=\"\" href=\"/citaty/20438-jan-werich-kdo-vino-ma-a-nepije-kdo-hrozny-ma-a-neji-je-kdo/\" title=\"Detail citátu „Kdo víno má a nepije, kdo hrozny má a nejí je, kdo ženu má a nelíbá, kdo zábavě se vyhýbá, na toho vemte bič a hůl, to není člověk, to je vůl.“ — Jan Werich\">„Kdo víno má a nepije, kdo hrozny má a nejí je, kdo ženu má a nelíbá, kdo zábavě se vyhýbá, na toho vemte bič a hůl, to není člověk, to je vůl.“</a></h3>,\n <h3 class=\"blockquote-text\"><a data-quote-content=\"\" href=\"/citaty/1543688-jan-werich-jestlize-se-clovek-hada-s-blbcem-vic-jak-pul-minu/\" title=\"Detail citátu „Jestliže se člověk hádá s blbcem víc, jak půl minuty, hádají se už dva blbci.“ — Jan Werich\">„Jestliže se člověk hádá s blbcem víc, jak půl minuty, hádají se už dva blbci.“</a></h3>,\n <h3 class=\"blockquote-text\"><a data-quote-content=\"\" href=\"/citaty/11561-jan-werich-smich-neni-nikdy-pro-nic-a-za-nic-snad-jen-u-sile/\" title=\"Detail citátu „Smích není nikdy pro nic a za nic, snad jen u šílených lidí. Normální člověk musí mít důvod, směje se něčemu.“ — Jan Werich\">„Smích není nikdy pro nic a za nic, snad jen u šílených lidí. Normální člověk musí mít důvod, směje se něčemu.“</a></h3>,\n <h3 class=\"blockquote-text\"><a data-quote-content=\"\" href=\"/citaty/283434-jan-werich-cestina-je-krasna-rec-ona-ma-obrovskou-plejadu-sl/\" title=\"Detail citátu „Čeština je krásná řeč. Ona má obrovskou plejádu slov pro obyčejný věci. Třeba kulaťoučké jablíčko. To neřeknete jinou řečí. Angličan musí říct “a litte round apple“, malé kulaté jablko…. Tomu přece chybí barva i vůně.“ — Jan Werich\">„Čeština je krásná řeč. Ona má obrovskou plejádu slov pro obyčejný věci. Třeba kulaťoučké jablíčko. To neřeknete jinou řečí. Angličan musí říct “a litte round apple“, malé kulaté jablko…. Tomu přece chybí barva i vůně.“</a></h3>,\n <h3 class=\"blockquote-text\"><a data-quote-content=\"\" href=\"/citaty/5316-jan-werich-zenske-nemaji-smysl-pro-nesmysl/\" title=\"Detail citátu „Ženské nemají smysl pro nesmysl.“ — Jan Werich\">„Ženské nemají smysl pro nesmysl.“</a></h3>,\n <h3 class=\"blockquote-text\"><a data-quote-content=\"\" href=\"/citaty/22162-jan-werich-podarene-manzelstvi-je-div-sveta/\" title=\"Detail citátu „Podařené manželství je div světa.“ — Jan Werich\">„Podařené manželství je div světa.“</a></h3>,\n <h3 class=\"blockquote-text\"><a data-quote-content=\"\" href=\"/citaty/17064-jan-werich-nekdo-ma-to-stesti-ze-ma-schopnost-byt-pritelem/\" title=\"Detail citátu „Někdo má to štěstí, že má schopnost být přítelem.“ — Jan Werich\">„Někdo má to štěstí, že má schopnost být přítelem.“</a></h3>,\n <h3 class=\"blockquote-text\"><a data-quote-content=\"\" href=\"/citaty/19215-jan-werich-mejte-dobrou-naladu-dobra-nalada-sice-vase-proble/\" title=\"Detail citátu „Mějte dobrou náladu. Dobrá nálada sice vaše problémy nevyřeší, ale naštve tolik lidí kolem, že stojí za to si ji užít.“ — Jan Werich\">„Mějte dobrou náladu. Dobrá nálada sice vaše problémy nevyřeší, ale naštve tolik lidí kolem, že stojí za to si ji užít.“</a></h3>,\n <h3 class=\"blockquote-text\"><a data-quote-content=\"\" href=\"/citaty/21864-jan-werich-kde-blb-tam-nebezpecno/\" title=\"Detail citátu „Kde blb, tam nebezpečno.“ — Jan Werich\">„Kde blb, tam nebezpečno.“</a></h3>,\n <h3 class=\"blockquote-text\"><a data-quote-content=\"\" href=\"/citaty/10962-jan-werich-clovek-ktery-nikdy-neplakal-nezil-opravdovy-zivo/\" title=\"Detail citátu „Člověk, který nikdy neplakal, nežil opravdový život“ — Jan Werich\">„Člověk, který nikdy neplakal, nežil opravdový život“</a></h3>,\n <h3 class=\"blockquote-text\"><a data-quote-content=\"\" href=\"/citaty/270946-jan-werich-nejhorsi-srazka-v-zivote-je-srazka-s-blbcem-blbc/\" title=\"Detail citátu „Nejhorší srážka v životě, je srážka s blbcem. Blbce nikdy neusvědčíte z blbství. Z takové srážky, vyjdete vždycky jako největší blbec pod sluncem.“ — Jan Werich\">„Nejhorší srážka v životě, je srážka s blbcem. Blbce nikdy neusvědčíte z blbství. Z takové srážky, vyjdete vždycky jako největší blbec pod sluncem.“</a></h3>,\n <h3 class=\"blockquote-text\"><a data-quote-content=\"\" href=\"/citaty/18414-jan-werich-jedna-zenska-vidi-nekdy-dal-nez-pet-muzskych-s-dal/\" title=\"Detail citátu „Jedna ženská vidí někdy dál než pět mužských s dalekohledem.“ — Jan Werich\">„Jedna ženská vidí někdy dál než pět mužských s dalekohledem.“</a></h3>,\n <h3 class=\"blockquote-text\"><a data-quote-content=\"\" href=\"/citaty/271700-jan-werich-klauni-nejsou-ale-sasku-je/\" title=\"Detail citátu „Klauni nejsou, ale šašků je…“ — Jan Werich\">„Klauni nejsou, ale šašků je…“</a></h3>,\n <h3 class=\"blockquote-text\"><a data-quote-content=\"\" href=\"/citaty/5404-jan-werich-paklize-clovek-zvitezi-nad-vlastni-blbosti-je-vit/\" title=\"Detail citátu „Pakliže člověk zvítězí nad vlastní blbostí, je vítězem nebo poraženým? V každém případě je to dobré.“ — Jan Werich\">„Pakliže člověk zvítězí nad vlastní blbostí, je vítězem nebo poraženým? V každém případě je to dobré.“</a></h3>,\n <h3 class=\"blockquote-text\"><a data-quote-content=\"\" href=\"/citaty/12782-jan-werich-hloupost-se-fackovanim-neda-vylecit/\" title=\"Detail citátu „Hloupost se fackováním nedá vyléčit.“ — Jan Werich\">„Hloupost se fackováním nedá vyléčit.“</a></h3>,\n <h3 class=\"blockquote-text\"><a data-quote-content=\"\" href=\"/citaty/11860-jan-werich-nenavidim-pohrby-az-na-ten-svuj-na-kterej-nebudu/\" title=\"Detail citátu „Nenávidím pohřby. Až na ten svůj, na kterej nebudu muset jít.“ — Jan Werich\">„Nenávidím pohřby. Až na ten svůj, na kterej nebudu muset jít.“</a></h3>,\n <h3 class=\"blockquote-text\"><a data-quote-content=\"\" href=\"/citaty/15857-jan-werich-na-svete-je-zavedeno-ze-spousta-hloupych-si-hraje/\" title=\"Detail citátu „Na světě je zavedeno, že spousta hloupých si hraje na chytré. Z chytrých, kterých je na světě nedostatek, si jen ti nejchytřejší hrají na hloupé.“ — Jan Werich\">„Na světě je zavedeno, že spousta hloupých si hraje na chytré. Z chytrých, kterých je na světě nedostatek, si jen ti nejchytřejší hrají na hloupé.“</a></h3>,\n <h3 class=\"blockquote-text\"><a data-quote-content=\"\" href=\"/citaty/1956683-jan-werich-vite-chlap-nesmi-bejt-blbej-ve-trech-pripadech-z/\" title=\"Detail citátu „Víte, chlap nesmí bejt blbej ve třech případech. Za volantem, v posteli, u stolu. Všude jinde se to snese.“ — Jan Werich\">„Víte, chlap nesmí bejt blbej ve třech případech. Za volantem, v posteli, u stolu. Všude jinde se to snese.“</a></h3>,\n <h3 class=\"blockquote-text\"><a data-quote-content=\"\" href=\"/citaty/264562-jan-werich-bernard-shaw-byl-ziv-sto-let-rekneme-byl-to-krat/\" title=\"Detail citátu „Bernard Shaw byl živ sto let, řekněme. Byl to krátký anebo dlouhý život? Krátkej život, protože Bernard Shaw tady moh bejt ještě dvěstěpadesát let, protože pořád měl co říct. … Takhle je to. … Zatím co v této chvíli po celém glóbusu je roztroušeno já nevím kolik třicetiletých, který tady už čtyřistapadesát let nemuseli bejt.“ — Jan Werich\">„Bernard Shaw byl živ sto let, řekněme. Byl to krátký anebo dlouhý život? Krátkej život, protože Bernard Shaw tady moh bejt ještě dvěstěpadesát let, protože pořád měl co říct. … Takhle je to. … Zatím co v této chvíli po celém glóbusu je roztroušeno já nevím kolik třicetiletých, který tady už čtyřistapadesát let nemuseli bejt.“</a></h3>,\n <h3 class=\"blockquote-text\"> „Lorem ipsum dolor sit amet, consectetuer adipiscing elit. Etiam egestas wisi a erat. Morbi imperdiet, mauris ac auctor dictum.“ </h3>]"
     },
     "execution_count": 15,
     "metadata": {},
     "output_type": "execute_result"
    }
   ],
   "source": [
    "soup.find_all(\"h3\", {'class': 'blockquote-text'})"
   ],
   "metadata": {
    "collapsed": false,
    "pycharm": {
     "name": "#%%\n"
    }
   }
  },
  {
   "cell_type": "code",
   "execution_count": 17,
   "outputs": [
    {
     "name": "stdout",
     "output_type": "stream",
     "text": [
      "„Strach, to je jako cit v prstech. Nemáš cit, šaháš do ohně, a uhoří si ruka.“\n",
      "„Kdo víno má a nepije, kdo hrozny má a nejí je, kdo ženu má a nelíbá, kdo zábavě se vyhýbá, na toho vemte bič a hůl, to není člověk, to je vůl.“\n",
      "„Jestliže se člověk hádá s blbcem víc, jak půl minuty, hádají se už dva blbci.“\n",
      "„Smích není nikdy pro nic a za nic, snad jen u šílených lidí. Normální člověk musí mít důvod, směje se něčemu.“\n",
      "„Čeština je krásná řeč. Ona má obrovskou plejádu slov pro obyčejný věci. Třeba kulaťoučké jablíčko. To neřeknete jinou řečí. Angličan musí říct “a litte round apple“, malé kulaté jablko…. Tomu přece chybí barva i vůně.“\n",
      "„Ženské nemají smysl pro nesmysl.“\n",
      "„Podařené manželství je div světa.“\n",
      "„Někdo má to štěstí, že má schopnost být přítelem.“\n",
      "„Mějte dobrou náladu. Dobrá nálada sice vaše problémy nevyřeší, ale naštve tolik lidí kolem, že stojí za to si ji užít.“\n",
      "„Kde blb, tam nebezpečno.“\n",
      "„Člověk, který nikdy neplakal, nežil opravdový život“\n",
      "„Nejhorší srážka v životě, je srážka s blbcem. Blbce nikdy neusvědčíte z blbství. Z takové srážky, vyjdete vždycky jako největší blbec pod sluncem.“\n",
      "„Jedna ženská vidí někdy dál než pět mužských s dalekohledem.“\n",
      "„Klauni nejsou, ale šašků je…“\n",
      "„Pakliže člověk zvítězí nad vlastní blbostí, je vítězem nebo poraženým? V každém případě je to dobré.“\n",
      "„Hloupost se fackováním nedá vyléčit.“\n",
      "„Nenávidím pohřby. Až na ten svůj, na kterej nebudu muset jít.“\n",
      "„Na světě je zavedeno, že spousta hloupých si hraje na chytré. Z chytrých, kterých je na světě nedostatek, si jen ti nejchytřejší hrají na hloupé.“\n",
      "„Víte, chlap nesmí bejt blbej ve třech případech. Za volantem, v posteli, u stolu. Všude jinde se to snese.“\n",
      "„Bernard Shaw byl živ sto let, řekněme. Byl to krátký anebo dlouhý život? Krátkej život, protože Bernard Shaw tady moh bejt ještě dvěstěpadesát let, protože pořád měl co říct. … Takhle je to. … Zatím co v této chvíli po celém glóbusu je roztroušeno já nevím kolik třicetiletých, který tady už čtyřistapadesát let nemuseli bejt.“\n",
      " „Lorem ipsum dolor sit amet, consectetuer adipiscing elit. Etiam egestas wisi a erat. Morbi imperdiet, mauris ac auctor dictum.“ \n"
     ]
    }
   ],
   "source": [
    "for h3 in soup.find_all(\"h3\", attrs={'class': 'blockquote-text'}):\n",
    "    print(h3.text)"
   ],
   "metadata": {
    "collapsed": false,
    "pycharm": {
     "name": "#%%\n"
    }
   }
  },
  {
   "cell_type": "markdown",
   "source": [
    "### Flask"
   ],
   "metadata": {
    "collapsed": false,
    "pycharm": {
     "name": "#%% md\n"
    }
   }
  },
  {
   "cell_type": "code",
   "execution_count": 18,
   "outputs": [
    {
     "name": "stdout",
     "output_type": "stream",
     "text": [
      "Collecting flask\r\n",
      "  Using cached Flask-1.1.2-py2.py3-none-any.whl (94 kB)\r\n",
      "Collecting itsdangerous>=0.24\r\n",
      "  Using cached itsdangerous-1.1.0-py2.py3-none-any.whl (16 kB)\r\n",
      "Collecting Werkzeug>=0.15\r\n",
      "  Using cached Werkzeug-1.0.1-py2.py3-none-any.whl (298 kB)\r\n",
      "Collecting click>=5.1\r\n",
      "  Using cached click-7.1.2-py2.py3-none-any.whl (82 kB)\r\n",
      "Requirement already satisfied: Jinja2>=2.10.1 in /home/petrlorenc/.virtualenvs/engeto/lib/python3.6/site-packages (from flask) (2.11.2)\r\n",
      "Requirement already satisfied: MarkupSafe>=0.23 in /home/petrlorenc/.virtualenvs/engeto/lib/python3.6/site-packages (from Jinja2>=2.10.1->flask) (1.1.1)\r\n",
      "Installing collected packages: itsdangerous, Werkzeug, click, flask\r\n",
      "Successfully installed Werkzeug-1.0.1 click-7.1.2 flask-1.1.2 itsdangerous-1.1.0\r\n",
      "\u001B[33mWARNING: You are using pip version 20.1.1; however, version 20.2.4 is available.\r\n",
      "You should consider upgrading via the '/home/petrlorenc/.virtualenvs/engeto/bin/python3 -m pip install --upgrade pip' command.\u001B[0m\r\n"
     ]
    }
   ],
   "source": [
    "!pip install flask"
   ],
   "metadata": {
    "collapsed": false,
    "pycharm": {
     "name": "#%%\n"
    }
   }
  },
  {
   "cell_type": "code",
   "execution_count": 19,
   "outputs": [],
   "source": [
    "# export FLASK_APP=server.py; python -m flask run"
   ],
   "metadata": {
    "collapsed": false,
    "pycharm": {
     "name": "#%%\n"
    }
   }
  },
  {
   "cell_type": "markdown",
   "source": [
    "### Postman\n",
    "\n",
    "# Where to go next\n",
    "\n",
    " * https://www.edx.org/ (can be free)\n",
    " * https://www.coursera.org/ (can be free)\n",
    " * https://www.udemy.com/ (paid - \"big sales\")\n",
    " * https://www.udacity.com/ (can be free)\n",
    " * Engeto\n",
    " * https://www.kaggle.com/"
   ],
   "metadata": {
    "collapsed": false,
    "pycharm": {
     "name": "#%% md\n"
    }
   }
  },
  {
   "cell_type": "markdown",
   "source": [
    "[Scikit learn](https://scikit-learn.org/stable/auto_examples/classification/plot_digits_classification.html#sphx-glr-auto-examples-classification-plot-digits-classification-py)"
   ],
   "metadata": {
    "collapsed": false,
    "pycharm": {
     "name": "#%% md\n"
    }
   }
  },
  {
   "cell_type": "code",
   "execution_count": 21,
   "outputs": [
    {
     "name": "stdout",
     "output_type": "stream",
     "text": [
      "Collecting matplotlib\r\n",
      "  Downloading matplotlib-3.3.2-cp36-cp36m-manylinux1_x86_64.whl (11.6 MB)\r\n",
      "\u001B[K     |████████████████████████████████| 11.6 MB 2.6 MB/s eta 0:00:01\r\n",
      "\u001B[?25hRequirement already satisfied: pillow>=6.2.0 in /home/petrlorenc/.virtualenvs/engeto/lib/python3.6/site-packages (from matplotlib) (7.2.0)\r\n",
      "Collecting cycler>=0.10\r\n",
      "  Using cached cycler-0.10.0-py2.py3-none-any.whl (6.5 kB)\r\n",
      "Requirement already satisfied: pyparsing!=2.0.4,!=2.1.2,!=2.1.6,>=2.0.3 in /home/petrlorenc/.virtualenvs/engeto/lib/python3.6/site-packages (from matplotlib) (2.4.7)\r\n",
      "Requirement already satisfied: numpy>=1.15 in /home/petrlorenc/.virtualenvs/engeto/lib/python3.6/site-packages (from matplotlib) (1.19.2)\r\n",
      "Requirement already satisfied: certifi>=2020.06.20 in /home/petrlorenc/.virtualenvs/engeto/lib/python3.6/site-packages (from matplotlib) (2020.6.20)\r\n",
      "Requirement already satisfied: python-dateutil>=2.1 in /home/petrlorenc/.virtualenvs/engeto/lib/python3.6/site-packages (from matplotlib) (2.8.1)\r\n",
      "Collecting kiwisolver>=1.0.1\r\n",
      "  Using cached kiwisolver-1.2.0-cp36-cp36m-manylinux1_x86_64.whl (88 kB)\r\n",
      "Requirement already satisfied: six in /home/petrlorenc/.virtualenvs/engeto/lib/python3.6/site-packages (from cycler>=0.10->matplotlib) (1.15.0)\r\n",
      "Installing collected packages: cycler, kiwisolver, matplotlib\r\n",
      "Successfully installed cycler-0.10.0 kiwisolver-1.2.0 matplotlib-3.3.2\r\n",
      "\u001B[33mWARNING: You are using pip version 20.1.1; however, version 20.2.4 is available.\r\n",
      "You should consider upgrading via the '/home/petrlorenc/.virtualenvs/engeto/bin/python3 -m pip install --upgrade pip' command.\u001B[0m\r\n",
      "Processing /home/petrlorenc/.cache/pip/wheels/23/9d/42/5ec745cbbb17517000a53cecc49d6a865450d1f5cb16dc8a9c/sklearn-0.0-py2.py3-none-any.whl\r\n",
      "Collecting scikit-learn\r\n",
      "  Downloading scikit_learn-0.23.2-cp36-cp36m-manylinux1_x86_64.whl (6.8 MB)\r\n",
      "\u001B[K     |████████████████████████████████| 6.8 MB 1.9 MB/s eta 0:00:01\r\n",
      "\u001B[?25hCollecting scipy>=0.19.1\r\n",
      "  Downloading scipy-1.5.3-cp36-cp36m-manylinux1_x86_64.whl (25.9 MB)\r\n",
      "\u001B[K     |████████████████████████████████| 25.9 MB 3.6 MB/s eta 0:00:011\r\n",
      "\u001B[?25hRequirement already satisfied: numpy>=1.13.3 in /home/petrlorenc/.virtualenvs/engeto/lib/python3.6/site-packages (from scikit-learn->sklearn) (1.19.2)\r\n",
      "Collecting joblib>=0.11\r\n",
      "  Downloading joblib-0.17.0-py3-none-any.whl (301 kB)\r\n",
      "\u001B[K     |████████████████████████████████| 301 kB 4.5 MB/s eta 0:00:01\r\n",
      "\u001B[?25hCollecting threadpoolctl>=2.0.0\r\n",
      "  Using cached threadpoolctl-2.1.0-py3-none-any.whl (12 kB)\r\n",
      "Installing collected packages: scipy, joblib, threadpoolctl, scikit-learn, sklearn\r\n",
      "Successfully installed joblib-0.17.0 scikit-learn-0.23.2 scipy-1.5.3 sklearn-0.0 threadpoolctl-2.1.0\r\n",
      "\u001B[33mWARNING: You are using pip version 20.1.1; however, version 20.2.4 is available.\r\n",
      "You should consider upgrading via the '/home/petrlorenc/.virtualenvs/engeto/bin/python3 -m pip install --upgrade pip' command.\u001B[0m\r\n"
     ]
    }
   ],
   "source": [
    "!pip install matplotlib\n",
    "!pip install sklearn"
   ],
   "metadata": {
    "collapsed": false,
    "pycharm": {
     "name": "#%%\n"
    }
   }
  },
  {
   "cell_type": "code",
   "execution_count": 22,
   "outputs": [
    {
     "name": "stdout",
     "output_type": "stream",
     "text": [
      "Classification report for classifier SVC(gamma=0.001):\n",
      "              precision    recall  f1-score   support\n",
      "\n",
      "           0       1.00      0.99      0.99        88\n",
      "           1       0.99      0.97      0.98        91\n",
      "           2       0.99      0.99      0.99        86\n",
      "           3       0.98      0.87      0.92        91\n",
      "           4       0.99      0.96      0.97        92\n",
      "           5       0.95      0.97      0.96        91\n",
      "           6       0.99      0.99      0.99        91\n",
      "           7       0.96      0.99      0.97        89\n",
      "           8       0.94      1.00      0.97        88\n",
      "           9       0.93      0.98      0.95        92\n",
      "\n",
      "    accuracy                           0.97       899\n",
      "   macro avg       0.97      0.97      0.97       899\n",
      "weighted avg       0.97      0.97      0.97       899\n",
      "\n",
      "\n",
      "Confusion matrix:\n",
      "[[87  0  0  0  1  0  0  0  0  0]\n",
      " [ 0 88  1  0  0  0  0  0  1  1]\n",
      " [ 0  0 85  1  0  0  0  0  0  0]\n",
      " [ 0  0  0 79  0  3  0  4  5  0]\n",
      " [ 0  0  0  0 88  0  0  0  0  4]\n",
      " [ 0  0  0  0  0 88  1  0  0  2]\n",
      " [ 0  1  0  0  0  0 90  0  0  0]\n",
      " [ 0  0  0  0  0  1  0 88  0  0]\n",
      " [ 0  0  0  0  0  0  0  0 88  0]\n",
      " [ 0  0  0  1  0  1  0  0  0 90]]\n"
     ]
    },
    {
     "data": {
      "text/plain": "<Figure size 432x288 with 8 Axes>",
      "image/png": "[encoded data removed]"
     },
     "metadata": {
      "needs_background": "light"
     },
     "output_type": "display_data"
    },
    {
     "data": {
      "text/plain": "<Figure size 432x288 with 2 Axes>",
      "image/png": "[encoded data removed]"
     },
     "metadata": {
      "needs_background": "light"
     },
     "output_type": "display_data"
    }
   ],
   "source": [
    "\n",
    "# Author: Gael Varoquaux <gael dot varoquaux at normalesup dot org>\n",
    "# License: BSD 3 clause\n",
    "\n",
    "# Standard scientific Python imports\n",
    "import matplotlib.pyplot as plt\n",
    "\n",
    "# Import datasets, classifiers and performance metrics\n",
    "from sklearn import datasets, svm, metrics\n",
    "from sklearn.model_selection import train_test_split\n",
    "\n",
    "# The digits dataset\n",
    "digits = datasets.load_digits()\n",
    "\n",
    "# The data that we are interested in is made of 8x8 images of digits, let's\n",
    "# have a look at the first 4 images, stored in the `images` attribute of the\n",
    "# dataset.  If we were working from image files, we could load them using\n",
    "# matplotlib.pyplot.imread.  Note that each image must have the same size. For these\n",
    "# images, we know which digit they represent: it is given in the 'target' of\n",
    "# the dataset.\n",
    "_, axes = plt.subplots(2, 4)\n",
    "images_and_labels = list(zip(digits.images, digits.target))\n",
    "for ax, (image, label) in zip(axes[0, :], images_and_labels[:4]):\n",
    "    ax.set_axis_off()\n",
    "    ax.imshow(image, cmap=plt.cm.gray_r, interpolation='nearest')\n",
    "    ax.set_title('Training: %i' % label)\n",
    "\n",
    "# To apply a classifier on this data, we need to flatten the image, to\n",
    "# turn the data in a (samples, feature) matrix:\n",
    "n_samples = len(digits.images)\n",
    "data = digits.images.reshape((n_samples, -1))\n",
    "\n",
    "# Create a classifier: a support vector classifier\n",
    "classifier = svm.SVC(gamma=0.001)\n",
    "\n",
    "# Split data into train and test subsets\n",
    "X_train, X_test, y_train, y_test = train_test_split(\n",
    "    data, digits.target, test_size=0.5, shuffle=False)\n",
    "\n",
    "# We learn the digits on the first half of the digits\n",
    "classifier.fit(X_train, y_train)\n",
    "\n",
    "# Now predict the value of the digit on the second half:\n",
    "predicted = classifier.predict(X_test)\n",
    "\n",
    "images_and_predictions = list(zip(digits.images[n_samples // 2:], predicted))\n",
    "for ax, (image, prediction) in zip(axes[1, :], images_and_predictions[:4]):\n",
    "    ax.set_axis_off()\n",
    "    ax.imshow(image, cmap=plt.cm.gray_r, interpolation='nearest')\n",
    "    ax.set_title('Prediction: %i' % prediction)\n",
    "\n",
    "print(\"Classification report for classifier %s:\\n%s\\n\"\n",
    "      % (classifier, metrics.classification_report(y_test, predicted)))\n",
    "disp = metrics.plot_confusion_matrix(classifier, X_test, y_test)\n",
    "disp.figure_.suptitle(\"Confusion Matrix\")\n",
    "print(\"Confusion matrix:\\n%s\" % disp.confusion_matrix)\n",
    "\n",
    "plt.show()"
   ],
   "metadata": {
    "collapsed": false,
    "pycharm": {
     "name": "#%%\n"
    }
   }
  },
  {
   "cell_type": "code",
   "execution_count": 23,
   "outputs": [
    {
     "name": "stdout",
     "output_type": "stream",
     "text": [
      "Coefficients: \n",
      " [938.23786125]\n",
      "Mean squared error: 2548.07\n",
      "Coefficient of determination: 0.47\n"
     ]
    },
    {
     "data": {
      "text/plain": "<Figure size 432x288 with 1 Axes>",
      "image/png": "[encoded data removed]"
     },
     "metadata": {},
     "output_type": "display_data"
    }
   ],
   "source": [
    "\n",
    "# Code source: Jaques Grobler\n",
    "# License: BSD 3 clause\n",
    "\n",
    "\n",
    "import matplotlib.pyplot as plt\n",
    "import numpy as np\n",
    "from sklearn import datasets, linear_model\n",
    "from sklearn.metrics import mean_squared_error, r2_score\n",
    "\n",
    "# Load the diabetes dataset\n",
    "diabetes_X, diabetes_y = datasets.load_diabetes(return_X_y=True)\n",
    "\n",
    "# Use only one feature\n",
    "diabetes_X = diabetes_X[:, np.newaxis, 2]\n",
    "\n",
    "# Split the data into training/testing sets\n",
    "diabetes_X_train = diabetes_X[:-20]\n",
    "diabetes_X_test = diabetes_X[-20:]\n",
    "\n",
    "# Split the targets into training/testing sets\n",
    "diabetes_y_train = diabetes_y[:-20]\n",
    "diabetes_y_test = diabetes_y[-20:]\n",
    "\n",
    "# Create linear regression object\n",
    "regr = linear_model.LinearRegression()\n",
    "\n",
    "# Train the model using the training sets\n",
    "regr.fit(diabetes_X_train, diabetes_y_train)\n",
    "\n",
    "# Make predictions using the testing set\n",
    "diabetes_y_pred = regr.predict(diabetes_X_test)\n",
    "\n",
    "# The coefficients\n",
    "print('Coefficients: \\n', regr.coef_)\n",
    "# The mean squared error\n",
    "print('Mean squared error: %.2f'\n",
    "      % mean_squared_error(diabetes_y_test, diabetes_y_pred))\n",
    "# The coefficient of determination: 1 is perfect prediction\n",
    "print('Coefficient of determination: %.2f'\n",
    "      % r2_score(diabetes_y_test, diabetes_y_pred))\n",
    "\n",
    "# Plot outputs\n",
    "plt.scatter(diabetes_X_test, diabetes_y_test,  color='black')\n",
    "plt.plot(diabetes_X_test, diabetes_y_pred, color='blue', linewidth=3)\n",
    "\n",
    "plt.xticks(())\n",
    "plt.yticks(())\n",
    "\n",
    "plt.show()"
   ],
   "metadata": {
    "collapsed": false,
    "pycharm": {
     "name": "#%%\n"
    }
   }
  },
  {
   "cell_type": "code",
   "execution_count": 5,
   "outputs": [
    {
     "data": {
      "text/plain": "['Hlavní navigace',\n 'Prymula: Když bude vybrán můj nástupce, odejdu',\n 'Prymulova fatální chyba a\\xa0rozmáhající se papalášství',\n 'Merkelová zatrhla „bezpečným přístavům” převzetí migrantů',\n 'Auto srazilo v\\xa0husté mlze mladého muže na silnici, na místě zemřel',\n 'ON-LINE: Polní nemocnice v\\xa0Letňanech je hotová, ohlásila armáda',\n 'V\\xa0hořícím autě na Zlínsku zemřely dvě ženy',\n 'Pro vakcínu chtějí vědci infikovat zdravé',\n 'Šéf slovenského parlamentu Kollár měl vážnou nehodu',\n 'Hřbitovy jsou otevřené, nechoďte ale přímo na Dušičky, žádají správci',\n 'Dodržování karantény se nekontroluje. Nejsou síly',\n 'Neděsme lidi, covid zvládáme, řekla primářka infekčního oddělení Bulovky',\n 'Laboratoř stíhá i\\xa0větší počty vzorků',\n 'Řidič nákladního auta smetl při couvání seniora a\\xa0vlekl ho k\\xa0rampě',\n 'Čas hraje pro viníka, tvrdí ekologové v\\xa0kauze vypuštění kyanidů do Bečvy',\n 'Výbuch a\\xa0požár ve výrobní hale na Bruntálsku: Škoda 20 milionů',\n 'Polský ústavní soud prakticky zrušil potraty. Do ulic vyšly tisíce lidí',\n 'Prezident Trump hlasoval na Floridě. Volil chlápka jménem Trump',\n 'Francie vyhostila bosenskou rodinu. Týrala dceru kvůli nevhodnému příteli',\n 'Za fotku rozkroku bude ve Finsku možná brzy hrozit kriminál',\n 'Homosexuální tučňáci ukradli vejce lesbickým samicím',\n 'Zástupce šerifa vymítal ďábla ze syna. Dceři řekl, ať zastřelí kohokoliv, kdo vejde do bytu',\n 'Londýnský Big Ben už odbíjí brexitu: Jak moc bude bolet? A\\xa0koho víc?',\n 'Ochránci ani města nechtějí kanál Dunaj-Odra-Labe. Zničí unikátní biotopy',\n 'I\\xa0rostlinnému burgeru se smí říkat burger, odhlasovali europoslanci',\n 'Klienti bank čelí nové vlně útoků podvodníků',\n 'Platby kartou předstihly oblíbenou dobírku',\n 'I\\xa0na práci z\\xa0domova se vztahuje zákoník',\n 'Zelená dekorace vydrží i\\xa0bez zálivky',\n 'Růžové a\\xa0fialové květy, které bohatě zdobí podzimní záhony',\n 'Halloweenskou atmosféru vykouzlíte i\\xa0díky osvětlení ve tvaru pavučin nebo lebek',\n 'Román Syn bude miniseriálem',\n 'Kristen Bellová v\\xa0černohumorném thrilleru pro Netflix',\n 'Houslista Václav Hudeček: Mám úžasnou ženu a\\xa0jsem šťastný',\n 'Domácí lékař Hitlerových? Lidumilný Žid z\\xa0jižních Čech',\n 'Zdrcení Franz Josef a\\xa0Sissi. Korunní princezna Stefanie však manželovu sebevraždu uvítala',\n 'Ike, klidný expert na tanky. Od narození 34. prezidenta USA uplynulo 130 let',\n 'Jan Cina: Jsme pod diktátem konzumu a\\xa0úspěchu, žijeme v\\xa0pozlátkovém světě',\n 'Padesátníci si sex často víc užívají',\n 'Dagmar Pecková: Člověk se rodí s\\xa0určitým jájismem, což ho při štěstí, talentu a\\xa0píli vynese vzhůru',\n 'KOMENTÁŘ: Ztráta důvěry – Jiří Pehe',\n 'Očima Saši Mitrofanova: Doba seriálová přechází v\\xa0dobu biblickou',\n 'KOMENTÁŘ: Salámová cesta vlády do háje – Thomas Kulidakis',\n 'Malý asteroid 2018 VP1 by příští týden mohl narazit do Země',\n 'Roskosmos vyvíjí vesmírný jaderný remorkér',\n 'Nemocným svitla nová naděje. Vědci mají průlomový krevní test',\n 'V\\xa0Egyptě otevírají první restauraci s\\xa0výhledem na pyramidy',\n 'V\\xa0izolované italské obci žijí jen dva obyvatelé. Nošení roušek přesto nepodceňují',\n 'Lidé hledají útočiště ve skalách',\n 'Nejlepším fotomobilům už nekraluje Xiaomi, do čela žebříčku se vyhoupl Huawei',\n 'Kyberútoků na online výuku přibývá, varovalo ministerstvo školství',\n 'Nové iPhony 12 jsou v\\xa0prodeji. Na nejmenší a\\xa0nejpokročilejší model si lidé počkají',\n 'Za volantem Cupry Formentor: Poprvé na výbornou',\n 'Hybridní ústrojí vytlačilo čistě zážehový pohon z\\xa0nabídky Fordu Mondeo',\n 'První jízda s\\xa0novým Volkswagenem Caddy: Minidodávka prvotřídních schopností',\n 'Restauratér jednoduchým trikem obešel vládní nařízení',\n 'Udělejte z\\xa0lockdownu výhodu. Zábava číhá přímo u\\xa0vás doma',\n 'Výroba pálenky jede naplno, ovoce je dostatek',\n 'Svět vzdává hold odcházející legendě. Je to nejtvrdší člověk na planetě, řekl šéf UFC',\n 'Darida: I přes prohru musíme zůstat pozitivní',\n 'Ani Messi, ani Ronaldo. Kdo je nejlepším fotbalovým útočníkem na světě?',\n 'Český šampion prohání giganty, šanci dostal díky covidu po více jak roce',\n 'Výběr článků']"
     },
     "execution_count": 5,
     "metadata": {},
     "output_type": "execute_result"
    }
   ],
   "source": [
    "import requests\n",
    "from bs4 import BeautifulSoup as BS\n",
    "\n",
    "DATE_FORMAT = '%d.%m.%Y %H:%M'\n",
    "URL = \"https://novinky.cz\"\n",
    "\n",
    "r = requests.get(URL)\n",
    "soup = BS(r.text, \"html.parser\")\n",
    "titles = soup.find_all('h3')\n",
    "\n",
    "list(map(lambda x: x.text, titles))"
   ],
   "metadata": {
    "collapsed": false,
    "pycharm": {
     "name": "#%%\n"
    }
   }
  },
  {
   "cell_type": "markdown",
   "source": [
    "#### IDEA what to do next:\n",
    "\n",
    "NER + Sentiment -> Prediction about future behavior\n",
    "\n"
   ],
   "metadata": {
    "collapsed": false,
    "pycharm": {
     "name": "#%% md\n"
    }
   }
  }
 ],
 "metadata": {
  "kernelspec": {
   "display_name": "Python 3",
   "language": "python",
   "name": "python3"
  },
  "language_info": {
   "codemirror_mode": {
    "name": "ipython",
    "version": 2
   },
   "file_extension": ".py",
   "mimetype": "text/x-python",
   "name": "python",
   "nbconvert_exporter": "python",
   "pygments_lexer": "ipython2",
   "version": "2.7.6"
  }
 },
 "nbformat": 4,
 "nbformat_minor": 0
}