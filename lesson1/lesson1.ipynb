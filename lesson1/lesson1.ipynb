{
 "cells": [
  {
   "cell_type": "markdown",
   "source": [
    "# Lesson 1\n",
    "\n",
    "* Introduction\n",
    "* Data types\n",
    "* Variables\n",
    "* Strings and output\n",
    "\n",
    "Recommended to look at:\n",
    "\n",
    " * For users with more experience - https://virtualenvwrapper.readthedocs.io/en/latest/index.html\n",
    "\n",
    " * Git: Základy pro uživatele - If you wish to work in a team, knowledge of this version system necessary. We also want you to send us your projects via Git. That's why you should get familiar with this course before completing the first project.\n",
    "\n",
    " * Online jupyter notebook - https://colab.research.google.com/\n",
    "    * Can be run locally but to use it in Pycharm the professional edition is needed.\n",
    "    * https://jupyter.org/\n",
    "\n",
    "We will work with PyCharm or in case of emergency with online python compiler [repl.it](repl.it)\n"
   ],
   "metadata": {
    "collapsed": false
   }
  },
  {
   "cell_type": "markdown",
   "metadata": {
    "collapsed": true,
    "pycharm": {
     "name": "#%% md\n"
    }
   },
   "source": [
    "# Today's final code\n",
    "\n",
    "Python library is composed of so called modules what are nothing more than .py files. If there are more modules together, they create packages. This code can be one py file -> one module.\n",
    "\n"
   ]
  },
  {
   "cell_type": "code",
   "execution_count": 5,
   "outputs": [
    {
     "name": "stdout",
     "output_type": "stream",
     "text": [
      "================================================================================\n",
      "Welcome to the DESTINATIO,\n",
      "place where people plan their trips\n",
      "================================================================================\n",
      "We can offer you the following destinations:\n",
      "--------------------------------------------------------------------------------\n",
      "\n",
      "1 - Prague  | 1000\n",
      "2 - Wien    | 1100\n",
      "3 - Brno    | 2000\n",
      "4 - Svitavy | 1500\n",
      "5 - Zlin    | 2300\n",
      "6 - Ostrava | 3400\n",
      "\n",
      "--------------------------------------------------------------------------------\n",
      "================================================================================\n",
      "REGISTRATION:\n",
      "--------------------------------------------------------------------------------\n",
      "In order to complete your reservations, please share few details about yourself with us.\n",
      "--------------------------------------------------------------------------------\n",
      "========================================\n",
      "========================================\n",
      "========================================\n",
      "========================================\n",
      "================================================================================\n",
      "Thank you Petr\n",
      "We have made your reservation to Prague\n"
     ]
    }
   ],
   "source": [
    "# Greet the client\n",
    "print('=' * 80)\n",
    "print('''Welcome to the DESTINATIO,\n",
    "place where people plan their trips''')\n",
    "print('=' * 80)\n",
    "\n",
    "# Offer destinations\n",
    "print('We can offer you the following destinations:')\n",
    "print('-' * 80)\n",
    "print('''\n",
    "1 - Prague  | 1000\n",
    "2 - Wien    | 1100\n",
    "3 - Brno    | 2000\n",
    "4 - Svitavy | 1500\n",
    "5 - Zlin    | 2300\n",
    "6 - Ostrava | 3400\n",
    "''')\n",
    "print('-' * 80)\n",
    "\n",
    "# Get input from user about destination\n",
    "selection = int(input('Please enter the destination number to select: '))\n",
    "\n",
    "# Assign variables appropriate data\n",
    "DESTINATIONS = ['Prague', 'Wien', 'Brno', 'Svitavy', 'Zlin', 'Ostrava']\n",
    "PRICES = [1000, 1100, 2000, 1500, 2300, 3400]\n",
    "\n",
    "# Get data from variables based on user's input\n",
    "destination = DESTINATIONS[selection - 1]\n",
    "price = PRICES[selection - 1]\n",
    "\n",
    "# Introduce registration\n",
    "print('=' * 80)\n",
    "print('REGISTRATION:')\n",
    "print('-' * 80)\n",
    "print('In order to complete your reservations, please share few details about yourself with us.')\n",
    "print('-' * 80)\n",
    "\n",
    "# Get input from user about personal data\n",
    "name = input('NAME: ')\n",
    "print('=' * 40)\n",
    "surname = input('SURNAME: ')\n",
    "print('=' * 40)\n",
    "birth_year = input('YEAR of BIRTH: ')\n",
    "print('=' * 40)\n",
    "email = input('EMAIL: ')\n",
    "print('=' * 40)\n",
    "password = input('PASSWORD: ')\n",
    "print('=' * 80)\n",
    "\n",
    "# Thank user by the input name and inform him/her about the reservation made\n",
    "print('Thank you ' + name)\n",
    "print('We have made your reservation to ' + destination)"
   ],
   "metadata": {
    "collapsed": false,
    "pycharm": {
     "name": "#%%\n"
    }
   }
  },
  {
   "cell_type": "markdown",
   "source": [
    "# Theory\n",
    "\n",
    "A little bit of theory before we progress to final code\n",
    "\n",
    "* We learned, that in order data - in Python objects - can come to exist, it has to be created. Once it is created, we need to store is somewhere, otherwise we cannot reference it.\n",
    "\n",
    "When Python sees assignment operation inside our code, it performs among others these steps:\n",
    "\n",
    " 1. The variable is created in computer's memory\n",
    " 2. The actual assigned value is created in memory\n",
    " 3. The variable reference to the value is created\n",
    "\n",
    "It is not possible to use the variable name before it was assigned a value!!\n",
    "\n",
    "## Variable name\n",
    "\n",
    "What variable names are actually permitted? The name of a variable...\n",
    "\n",
    "can contain only:\n",
    "\n",
    "* letters\n",
    "* numbers\n",
    "* underscores\n",
    "\n",
    "and cannot:\n",
    "* begin with a digit\n",
    "* use so called reserved keywords\n",
    "\n",
    "**conversion** - we can sometimes convert a value of a given type into another data type\n",
    "**precedence** - operation precedence determines, which operation is executed first and which come later"
   ],
   "metadata": {
    "collapsed": false,
    "pycharm": {
     "name": "#%% md\n"
    }
   }
  },
  {
   "cell_type": "code",
   "execution_count": 6,
   "outputs": [
    {
     "data": {
      "text/plain": "int"
     },
     "execution_count": 6,
     "metadata": {},
     "output_type": "execute_result"
    }
   ],
   "source": [
    "type(123)"
   ],
   "metadata": {
    "collapsed": false,
    "pycharm": {
     "name": "#%%\n"
    }
   }
  },
  {
   "cell_type": "code",
   "execution_count": 7,
   "outputs": [
    {
     "data": {
      "text/plain": "int"
     },
     "execution_count": 7,
     "metadata": {},
     "output_type": "execute_result"
    }
   ],
   "source": [
    "type(123,)"
   ],
   "metadata": {
    "collapsed": false,
    "pycharm": {
     "name": "#%%\n"
    }
   }
  },
  {
   "cell_type": "code",
   "execution_count": 8,
   "outputs": [
    {
     "data": {
      "text/plain": "str"
     },
     "execution_count": 8,
     "metadata": {},
     "output_type": "execute_result"
    }
   ],
   "source": [
    "type(\"xxx\")"
   ],
   "metadata": {
    "collapsed": false,
    "pycharm": {
     "name": "#%%\n"
    }
   }
  },
  {
   "cell_type": "code",
   "execution_count": 9,
   "outputs": [
    {
     "data": {
      "text/plain": "2.0"
     },
     "execution_count": 9,
     "metadata": {},
     "output_type": "execute_result"
    }
   ],
   "source": [
    "6 / 3"
   ],
   "metadata": {
    "collapsed": false,
    "pycharm": {
     "name": "#%%\n"
    }
   }
  },
  {
   "cell_type": "code",
   "execution_count": 10,
   "outputs": [
    {
     "data": {
      "text/plain": "2"
     },
     "execution_count": 10,
     "metadata": {},
     "output_type": "execute_result"
    }
   ],
   "source": [
    "6 // 3"
   ],
   "metadata": {
    "collapsed": false,
    "pycharm": {
     "name": "#%%\n"
    }
   }
  },
  {
   "cell_type": "code",
   "execution_count": 11,
   "outputs": [
    {
     "name": "stdout",
     "output_type": "stream",
     "text": [
      "10\n"
     ]
    }
   ],
   "source": [
    "number = 10\n",
    "print(number)"
   ],
   "metadata": {
    "collapsed": false,
    "pycharm": {
     "name": "#%%\n"
    }
   }
  },
  {
   "cell_type": "code",
   "execution_count": 12,
   "outputs": [
    {
     "name": "stdout",
     "output_type": "stream",
     "text": [
      "<class 'list'>\n"
     ]
    }
   ],
   "source": [
    "JMENA = [\"Matous\", \"Marek\", \"Lukas\", \"Jan\"]\n",
    "print(type(JMENA))# seznam s retezci"
   ],
   "metadata": {
    "collapsed": false,
    "pycharm": {
     "name": "#%%\n"
    }
   }
  },
  {
   "cell_type": "markdown",
   "source": [
    "We don't need to use print() if we are in last statement of cell. But in classic programs it is mandatory to use it."
   ],
   "metadata": {
    "collapsed": false
   }
  },
  {
   "cell_type": "code",
   "execution_count": 13,
   "outputs": [
    {
     "data": {
      "text/plain": "tuple"
     },
     "execution_count": 13,
     "metadata": {},
     "output_type": "execute_result"
    }
   ],
   "source": [
    "numbers = (\"Biscuit\", \"in\", \"the\", \"basket\");\n",
    "type(numbers)  # n-tice s retezci"
   ],
   "metadata": {
    "collapsed": false,
    "pycharm": {
     "name": "#%%\n"
    }
   }
  },
  {
   "cell_type": "code",
   "execution_count": 14,
   "outputs": [
    {
     "name": "stdout",
     "output_type": "stream",
     "text": [
      "==========\n"
     ]
    }
   ],
   "source": [
    "print(\"==========\")"
   ],
   "metadata": {
    "collapsed": false,
    "pycharm": {
     "name": "#%%\n"
    }
   }
  },
  {
   "cell_type": "code",
   "execution_count": 15,
   "outputs": [
    {
     "data": {
      "text/plain": "'=========='"
     },
     "execution_count": 15,
     "metadata": {},
     "output_type": "execute_result"
    }
   ],
   "source": [
    "\"=\" * 10"
   ],
   "metadata": {
    "collapsed": false,
    "pycharm": {
     "name": "#%%\n"
    }
   }
  },
  {
   "cell_type": "code",
   "execution_count": 16,
   "outputs": [
    {
     "name": "stdout",
     "output_type": "stream",
     "text": [
      "Jimmy H.\n",
      "James Marshall \"Jimi\" Hendrix\n"
     ]
    }
   ],
   "source": [
    "print(\"Jimmy H.\")\n",
    "JMENO = 'James Marshall \"Jimi\" Hendrix'; print(JMENO)  # kombinace uvozovek!"
   ],
   "metadata": {
    "collapsed": false,
    "pycharm": {
     "name": "#%%\n"
    }
   }
  },
  {
   "cell_type": "markdown",
   "source": [
    "# Sequences\n",
    "\n",
    "Sequences are ordered collections of data (objects). The word 'ordered' is very important, because it is this characteristic that makes them special and appropriate for specific kinds of tasks. Sequences support a specific set of operations - a specific protocol.\n",
    "\n",
    "The first important feature is the fact that sequences are ordered, so we can do:\n",
    "\n",
    "* access individual items inside them by their position number (**indexing**)\n",
    "* or select items in specific interval of positions (**slicing**),\n",
    "* or select items at every n-th position (**striding**),\n",
    "* or sort the items in the sequence (**sorting**)\n",
    "* or we can also multiply the sequences (repetition).\n",
    "\n",
    "Features in common with other collections\n",
    "* sequences can be joined into longer sequences (concatenation)\n",
    "* sequences can contain multiple objects - therefore we can check their lengths\n",
    "* we often want to know if some elements are present in the sequence (membership test)\n",
    "* values in collections can be ordered based on their magnitude (min or max)\n",
    "\n",
    "\n",
    "**dir()** is a powerful inbuilt function in Python3, which returns list of the attributes and methods of any object (say functions , modules, strings, lists, dictionaries etc.)"
   ],
   "metadata": {
    "collapsed": false,
    "pycharm": {
     "name": "#%% md\n"
    }
   }
  },
  {
   "cell_type": "code",
   "execution_count": 17,
   "outputs": [
    {
     "data": {
      "text/plain": "tuple"
     },
     "execution_count": 17,
     "metadata": {},
     "output_type": "execute_result"
    }
   ],
   "source": [
    "MESTA = (\"Praha\", \"Viden\", \"Olomouc\", \"Svitavy\", \"Zlin\", \"Ostrava\")\n",
    "type(MESTA)"
   ],
   "metadata": {
    "collapsed": false,
    "pycharm": {
     "name": "#%%\n"
    }
   }
  },
  {
   "cell_type": "code",
   "execution_count": 18,
   "outputs": [
    {
     "data": {
      "text/plain": "['__add__',\n '__class__',\n '__contains__',\n '__delattr__',\n '__dir__',\n '__doc__',\n '__eq__',\n '__format__',\n '__ge__',\n '__getattribute__',\n '__getitem__',\n '__getnewargs__',\n '__gt__',\n '__hash__',\n '__init__',\n '__init_subclass__',\n '__iter__',\n '__le__',\n '__len__',\n '__lt__',\n '__mul__',\n '__ne__',\n '__new__',\n '__reduce__',\n '__reduce_ex__',\n '__repr__',\n '__rmul__',\n '__setattr__',\n '__sizeof__',\n '__str__',\n '__subclasshook__',\n 'count',\n 'index']"
     },
     "execution_count": 18,
     "metadata": {},
     "output_type": "execute_result"
    }
   ],
   "source": [
    "dir(MESTA)"
   ],
   "metadata": {
    "collapsed": false,
    "pycharm": {
     "name": "#%%\n"
    }
   }
  },
  {
   "cell_type": "code",
   "execution_count": 19,
   "outputs": [
    {
     "data": {
      "text/plain": "list"
     },
     "execution_count": 19,
     "metadata": {},
     "output_type": "execute_result"
    }
   ],
   "source": [
    "MESTA = [\"Praha\", \"Viden\", \"Olomouc\", \"Svitavy\", \"Zlin\", \"Ostrava\"]\n",
    "type(MESTA)"
   ],
   "metadata": {
    "collapsed": false,
    "pycharm": {
     "name": "#%%\n"
    }
   }
  },
  {
   "cell_type": "code",
   "execution_count": 20,
   "outputs": [
    {
     "data": {
      "text/plain": "['__add__',\n '__class__',\n '__contains__',\n '__delattr__',\n '__delitem__',\n '__dir__',\n '__doc__',\n '__eq__',\n '__format__',\n '__ge__',\n '__getattribute__',\n '__getitem__',\n '__gt__',\n '__hash__',\n '__iadd__',\n '__imul__',\n '__init__',\n '__init_subclass__',\n '__iter__',\n '__le__',\n '__len__',\n '__lt__',\n '__mul__',\n '__ne__',\n '__new__',\n '__reduce__',\n '__reduce_ex__',\n '__repr__',\n '__reversed__',\n '__rmul__',\n '__setattr__',\n '__setitem__',\n '__sizeof__',\n '__str__',\n '__subclasshook__',\n 'append',\n 'clear',\n 'copy',\n 'count',\n 'extend',\n 'index',\n 'insert',\n 'pop',\n 'remove',\n 'reverse',\n 'sort']"
     },
     "execution_count": 20,
     "metadata": {},
     "output_type": "execute_result"
    }
   ],
   "source": [
    "dir(MESTA)"
   ],
   "metadata": {
    "collapsed": false,
    "pycharm": {
     "name": "#%%\n"
    }
   }
  },
  {
   "cell_type": "code",
   "execution_count": 21,
   "outputs": [
    {
     "data": {
      "text/plain": "['__add__',\n '__class__',\n '__contains__',\n '__delattr__',\n '__dir__',\n '__doc__',\n '__eq__',\n '__format__',\n '__ge__',\n '__getattribute__',\n '__getitem__',\n '__getnewargs__',\n '__gt__',\n '__hash__',\n '__init__',\n '__init_subclass__',\n '__iter__',\n '__le__',\n '__len__',\n '__lt__',\n '__mod__',\n '__mul__',\n '__ne__',\n '__new__',\n '__reduce__',\n '__reduce_ex__',\n '__repr__',\n '__rmod__',\n '__rmul__',\n '__setattr__',\n '__sizeof__',\n '__str__',\n '__subclasshook__',\n 'capitalize',\n 'casefold',\n 'center',\n 'count',\n 'encode',\n 'endswith',\n 'expandtabs',\n 'find',\n 'format',\n 'format_map',\n 'index',\n 'isalnum',\n 'isalpha',\n 'isdecimal',\n 'isdigit',\n 'isidentifier',\n 'islower',\n 'isnumeric',\n 'isprintable',\n 'isspace',\n 'istitle',\n 'isupper',\n 'join',\n 'ljust',\n 'lower',\n 'lstrip',\n 'maketrans',\n 'partition',\n 'replace',\n 'rfind',\n 'rindex',\n 'rjust',\n 'rpartition',\n 'rsplit',\n 'rstrip',\n 'split',\n 'splitlines',\n 'startswith',\n 'strip',\n 'swapcase',\n 'title',\n 'translate',\n 'upper',\n 'zfill']"
     },
     "execution_count": 21,
     "metadata": {},
     "output_type": "execute_result"
    }
   ],
   "source": [
    "dir(\" \")"
   ],
   "metadata": {
    "collapsed": false,
    "pycharm": {
     "name": "#%%\n"
    }
   }
  },
  {
   "cell_type": "code",
   "execution_count": 22,
   "outputs": [
    {
     "data": {
      "text/plain": "'Praha Viden Olomouc Svitavy Zlin Ostrava'"
     },
     "execution_count": 22,
     "metadata": {},
     "output_type": "execute_result"
    }
   ],
   "source": [
    "\" \".join(MESTA)"
   ],
   "metadata": {
    "collapsed": false,
    "pycharm": {
     "name": "#%%\n"
    }
   }
  },
  {
   "cell_type": "code",
   "execution_count": 23,
   "outputs": [
    {
     "data": {
      "text/plain": "['Zlin', 'Ostrava']"
     },
     "execution_count": 23,
     "metadata": {},
     "output_type": "execute_result"
    }
   ],
   "source": [
    "MESTA[-2:]"
   ],
   "metadata": {
    "collapsed": false,
    "pycharm": {
     "name": "#%%\n"
    }
   }
  },
  {
   "cell_type": "code",
   "execution_count": 24,
   "outputs": [
    {
     "data": {
      "text/plain": "'o'"
     },
     "execution_count": 24,
     "metadata": {},
     "output_type": "execute_result"
    }
   ],
   "source": [
    "max(\"ahoj\")"
   ],
   "metadata": {
    "collapsed": false,
    "pycharm": {
     "name": "#%%\n"
    }
   }
  },
  {
   "cell_type": "code",
   "execution_count": 25,
   "outputs": [
    {
     "name": "stdout",
     "output_type": "stream",
     "text": [
      "False\n"
     ]
    }
   ],
   "source": [
    "print(\"praha\" in MESTA)"
   ],
   "metadata": {
    "collapsed": false,
    "pycharm": {
     "name": "#%%\n"
    }
   }
  },
  {
   "cell_type": "code",
   "execution_count": 26,
   "outputs": [
    {
     "name": "stdout",
     "output_type": "stream",
     "text": [
      "True\n"
     ]
    }
   ],
   "source": [
    "print(\"Praha\" in MESTA)"
   ],
   "metadata": {
    "collapsed": false,
    "pycharm": {
     "name": "#%%\n"
    }
   }
  },
  {
   "cell_type": "code",
   "execution_count": 27,
   "outputs": [
    {
     "name": "stdout",
     "output_type": "stream",
     "text": [
      "False\n"
     ]
    }
   ],
   "source": [
    "print(\"praha\" in MESTA[0])"
   ],
   "metadata": {
    "collapsed": false,
    "pycharm": {
     "name": "#%%\n"
    }
   }
  },
  {
   "cell_type": "code",
   "execution_count": 28,
   "outputs": [
    {
     "name": "stdout",
     "output_type": "stream",
     "text": [
      "True\n"
     ]
    }
   ],
   "source": [
    "print(\"Praha\".__eq__(MESTA[0]))"
   ],
   "metadata": {
    "collapsed": false,
    "pycharm": {
     "name": "#%%\n"
    }
   }
  },
  {
   "cell_type": "code",
   "execution_count": 29,
   "outputs": [
    {
     "name": "stdout",
     "output_type": "stream",
     "text": [
      "True\n"
     ]
    }
   ],
   "source": [
    "print(\"P\" in MESTA[0])"
   ],
   "metadata": {
    "collapsed": false,
    "pycharm": {
     "name": "#%%\n"
    }
   }
  },
  {
   "cell_type": "code",
   "execution_count": 30,
   "outputs": [
    {
     "name": "stdout",
     "output_type": "stream",
     "text": [
      "================================================================================\n",
      "Vitejte u nasi aplikace Destinatio!\n",
      "================================================================================\n",
      "\n",
      "1 - Praha   | 150\n",
      "2 - Viden   | 200\n",
      "3 - Olomouc | 120\n",
      "4 - Svitavy | 120\n",
      "5 - Zlin    | 100\n",
      "6 - Ostrava | 180\n",
      "\n",
      "================================================================================\n"
     ]
    }
   ],
   "source": [
    "MESTA = (\"Praha\", \"Viden\", \"Olomouc\", \"Svitavy\", \"Zlin\", \"Ostrava\")\n",
    "CENY = (150, 200, 120, 120, 100, 180)\n",
    "\n",
    "ODDELOVAC = \"=\" * 80\n",
    "print(ODDELOVAC)\n",
    "print(\"Vitejte u nasi aplikace Destinatio!\")\n",
    "print(ODDELOVAC)\n",
    "print(\n",
    "\"\"\"\n",
    "1 - Praha   | 150\n",
    "2 - Viden   | 200\n",
    "3 - Olomouc | 120\n",
    "4 - Svitavy | 120\n",
    "5 - Zlin    | 100\n",
    "6 - Ostrava | 180\n",
    "\"\"\"\n",
    ")\n",
    "print(ODDELOVAC)"
   ],
   "metadata": {
    "collapsed": false,
    "pycharm": {
     "name": "#%%\n"
    }
   }
  },
  {
   "cell_type": "markdown",
   "source": [
    "Input has different behavior in different environments (console, jupyter, repl.it ...)"
   ],
   "metadata": {
    "collapsed": false,
    "pycharm": {
     "name": "#%% md\n"
    }
   }
  },
  {
   "cell_type": "code",
   "execution_count": 31,
   "outputs": [
    {
     "name": "stdout",
     "output_type": "stream",
     "text": [
      "petr@gmail.com\n"
     ]
    }
   ],
   "source": [
    "email = input(\"Your email address: \")\n",
    "print(email)"
   ],
   "metadata": {
    "collapsed": false,
    "pycharm": {
     "name": "#%%\n"
    }
   }
  },
  {
   "cell_type": "markdown",
   "source": [
    "Is mapping from input integer to city correct?"
   ],
   "metadata": {
    "collapsed": false,
    "pycharm": {
     "name": "#%% md\n"
    }
   }
  },
  {
   "cell_type": "code",
   "execution_count": 32,
   "outputs": [
    {
     "name": "stdout",
     "output_type": "stream",
     "text": [
      "Olomouc\n"
     ]
    }
   ],
   "source": [
    "por_cislo = int(input(\"Vyberte cislo lokality: \"))\n",
    "print(MESTA[por_cislo])\n"
   ],
   "metadata": {
    "collapsed": false,
    "pycharm": {
     "name": "#%%\n"
    }
   }
  },
  {
   "cell_type": "code",
   "execution_count": 33,
   "outputs": [
    {
     "name": "stdout",
     "output_type": "stream",
     "text": [
      "================================================================================\n"
     ]
    }
   ],
   "source": [
    "por_cislo = int(input(\"Vyberte cislo lokality: \"))\n",
    "jmeno = input(\"JMENO: \")\n",
    "prijmeni = input(\"PRIJMENI: \")\n",
    "rok_narozeni = int(input(\"ROK NAROZENI: \"))\n",
    "email = input(\"EMAIL: \")\n",
    "heslo = input(\"HESLO: \")\n",
    "print(ODDELOVAC)"
   ],
   "metadata": {
    "collapsed": false,
    "pycharm": {
     "name": "#%%\n"
    }
   }
  },
  {
   "cell_type": "code",
   "execution_count": 34,
   "outputs": [
    {
     "name": "stdout",
     "output_type": "stream",
     "text": [
      "Hello , how are you?\n"
     ]
    }
   ],
   "source": [
    "hello = \"Hello\"\n",
    "print(hello + \" \" + \", how are you?\")"
   ],
   "metadata": {
    "collapsed": false,
    "pycharm": {
     "name": "#%%\n"
    }
   }
  },
  {
   "cell_type": "markdown",
   "source": [
    "## Formatted output"
   ],
   "metadata": {
    "collapsed": false
   }
  },
  {
   "cell_type": "code",
   "execution_count": 35,
   "outputs": [
    {
     "ename": "TypeError",
     "evalue": "must be str, not int",
     "output_type": "error",
     "traceback": [
      "\u001B[0;31m---------------------------------------------------------------------------\u001B[0m",
      "\u001B[0;31mTypeError\u001B[0m                                 Traceback (most recent call last)",
      "\u001B[0;32m<ipython-input-35-7c89829ff614>\u001B[0m in \u001B[0;36m<module>\u001B[0;34m\u001B[0m\n\u001B[1;32m      1\u001B[0m \u001B[0mDESTINACE\u001B[0m \u001B[0;34m=\u001B[0m \u001B[0;34m\"Brno\"\u001B[0m\u001B[0;34m\u001B[0m\u001B[0;34m\u001B[0m\u001B[0m\n\u001B[1;32m      2\u001B[0m \u001B[0mCENA\u001B[0m \u001B[0;34m=\u001B[0m \u001B[0;36m80\u001B[0m\u001B[0;34m\u001B[0m\u001B[0;34m\u001B[0m\u001B[0m\n\u001B[0;32m----> 3\u001B[0;31m \u001B[0mprint\u001B[0m\u001B[0;34m(\u001B[0m\u001B[0;34m\"Cestuji do\"\u001B[0m \u001B[0;34m+\u001B[0m \u001B[0mDESTINACE\u001B[0m \u001B[0;34m+\u001B[0m \u001B[0;34m\"za pouhych\"\u001B[0m \u001B[0;34m+\u001B[0m \u001B[0mCENA\u001B[0m \u001B[0;34m+\u001B[0m \u001B[0;34m\",- .\"\u001B[0m\u001B[0;34m)\u001B[0m\u001B[0;34m\u001B[0m\u001B[0;34m\u001B[0m\u001B[0m\n\u001B[0m\u001B[1;32m      4\u001B[0m \u001B[0;34m\u001B[0m\u001B[0m\n",
      "\u001B[0;31mTypeError\u001B[0m: must be str, not int"
     ]
    }
   ],
   "source": [
    "DESTINACE = \"Brno\"\n",
    "CENA = 80\n",
    "print(\"Cestuji do\" + DESTINACE + \"za pouhych\" + CENA + \",- .\")"
   ],
   "metadata": {
    "collapsed": false,
    "pycharm": {
     "name": "#%%\n"
    }
   }
  },
  {
   "cell_type": "code",
   "execution_count": 36,
   "outputs": [
    {
     "name": "stdout",
     "output_type": "stream",
     "text": [
      "Cestuji do Brno za pouhych 80 ,- .\n"
     ]
    }
   ],
   "source": [
    "DESTINACE = \"Brno\"\n",
    "CENA = 80\n",
    "print(\"Cestuji do\", DESTINACE, \"za pouhych\", CENA, \",- .\")"
   ],
   "metadata": {
    "collapsed": false,
    "pycharm": {
     "name": "#%%\n"
    }
   }
  },
  {
   "cell_type": "code",
   "execution_count": 37,
   "outputs": [
    {
     "name": "stdout",
     "output_type": "stream",
     "text": [
      "Cestuji do Brno za pouhych 80,- .\n"
     ]
    }
   ],
   "source": [
    "DESTINACE = \"Brno\"\n",
    "CENA = 80\n",
    "print(\"Cestuji do {} za pouhych {},- .\".format(DESTINACE, CENA))"
   ],
   "metadata": {
    "collapsed": false,
    "pycharm": {
     "name": "#%%\n"
    }
   }
  },
  {
   "cell_type": "code",
   "execution_count": 38,
   "outputs": [
    {
     "name": "stdout",
     "output_type": "stream",
     "text": [
      "Cestuji do Brno za pouhych 80,- .\n"
     ]
    }
   ],
   "source": [
    "DESTINACE = \"Brno\"\n",
    "CENA = 80\n",
    "print(f\"Cestuji do {DESTINACE} za pouhych {CENA},- .\")"
   ],
   "metadata": {
    "collapsed": false,
    "pycharm": {
     "name": "#%%\n"
    }
   }
  },
  {
   "cell_type": "markdown",
   "source": [
    "# Final code one more time again"
   ],
   "metadata": {
    "collapsed": false,
    "pycharm": {
     "name": "#%% md\n"
    }
   }
  },
  {
   "cell_type": "code",
   "execution_count": 39,
   "outputs": [
    {
     "name": "stdout",
     "output_type": "stream",
     "text": [
      "================================================================================\n",
      "Welcome to the DESTINATIO,\n",
      "place where people plan their trips\n",
      "================================================================================\n"
     ]
    }
   ],
   "source": [
    "# Greet the client\n",
    "print('=' * 80)\n",
    "print('''Welcome to the DESTINATIO,\n",
    "place where people plan their trips''')\n",
    "print('=' * 80)"
   ],
   "metadata": {
    "collapsed": false,
    "pycharm": {
     "name": "#%%\n"
    }
   }
  },
  {
   "cell_type": "code",
   "execution_count": 40,
   "outputs": [
    {
     "name": "stdout",
     "output_type": "stream",
     "text": [
      "We can offer you the following destinations:\n",
      "--------------------------------------------------------------------------------\n",
      "\n",
      "1 - Prague  | 1000\n",
      "2 - Wien    | 1100\n",
      "3 - Brno    | 2000\n",
      "4 - Svitavy | 1500\n",
      "5 - Zlin    | 2300\n",
      "6 - Ostrava | 3400\n",
      "\n",
      "--------------------------------------------------------------------------------\n"
     ]
    }
   ],
   "source": [
    "# Offer destinations\n",
    "print('We can offer you the following destinations:')\n",
    "print('-' * 80)\n",
    "print('''\n",
    "1 - Prague  | 1000\n",
    "2 - Wien    | 1100\n",
    "3 - Brno    | 2000\n",
    "4 - Svitavy | 1500\n",
    "5 - Zlin    | 2300\n",
    "6 - Ostrava | 3400\n",
    "''')\n",
    "print('-' * 80)"
   ],
   "metadata": {
    "collapsed": false,
    "pycharm": {
     "name": "#%%\n"
    }
   }
  },
  {
   "cell_type": "code",
   "execution_count": 41,
   "outputs": [],
   "source": [
    "# Get input from user about destination\n",
    "selection = int(input('Please enter the destination number to select: '))"
   ],
   "metadata": {
    "collapsed": false,
    "pycharm": {
     "name": "#%%\n"
    }
   }
  },
  {
   "cell_type": "code",
   "execution_count": 42,
   "outputs": [],
   "source": [
    "# Assign variables appropriate data\n",
    "DESTINATIONS = ['Prague', 'Wien', 'Brno', 'Svitavy', 'Zlin', 'Ostrava']\n",
    "PRICES = [1000, 1100, 2000, 1500, 2300, 3400]"
   ],
   "metadata": {
    "collapsed": false,
    "pycharm": {
     "name": "#%%\n"
    }
   }
  },
  {
   "cell_type": "code",
   "execution_count": 43,
   "outputs": [],
   "source": [
    "# Get data from variables based on user's input\n",
    "destination = DESTINATIONS[selection - 1]\n",
    "price = PRICES[selection - 1]"
   ],
   "metadata": {
    "collapsed": false,
    "pycharm": {
     "name": "#%%\n"
    }
   }
  },
  {
   "cell_type": "code",
   "execution_count": 44,
   "outputs": [
    {
     "name": "stdout",
     "output_type": "stream",
     "text": [
      "================================================================================\n",
      "REGISTRATION:\n",
      "--------------------------------------------------------------------------------\n",
      "In order to complete your reservations, please share few details about yourself with us.\n",
      "--------------------------------------------------------------------------------\n"
     ]
    }
   ],
   "source": [
    "# Introduce registration\n",
    "print('=' * 80)\n",
    "print('REGISTRATION:')\n",
    "print('-' * 80)\n",
    "print('In order to complete your reservations, please share few details about yourself with us.')\n",
    "print('-' * 80)"
   ],
   "metadata": {
    "collapsed": false,
    "pycharm": {
     "name": "#%%\n"
    }
   }
  },
  {
   "cell_type": "code",
   "execution_count": 45,
   "outputs": [
    {
     "name": "stdout",
     "output_type": "stream",
     "text": [
      "========================================\n",
      "========================================\n",
      "========================================\n",
      "========================================\n",
      "================================================================================\n"
     ]
    }
   ],
   "source": [
    "# Get input from user about personal data\n",
    "name = input('NAME: ')\n",
    "print('=' * 40)\n",
    "surname = input('SURNAME: ')\n",
    "print('=' * 40)\n",
    "birth_year = input('YEAR of BIRTH: ')\n",
    "print('=' * 40)\n",
    "email = input('EMAIL: ')\n",
    "print('=' * 40)\n",
    "password = input('PASSWORD: ')\n",
    "print('=' * 80)"
   ],
   "metadata": {
    "collapsed": false,
    "pycharm": {
     "name": "#%%\n"
    }
   }
  },
  {
   "cell_type": "code",
   "execution_count": 46,
   "outputs": [
    {
     "name": "stdout",
     "output_type": "stream",
     "text": [
      "Thank you Petr\n",
      "We have made your reservation to Brno\n"
     ]
    }
   ],
   "source": [
    "# Thank user by the input name and inform him/her about the reservation made\n",
    "print('Thank you ' + name)\n",
    "print('We have made your reservation to ' + destination)"
   ],
   "metadata": {
    "collapsed": false,
    "pycharm": {
     "name": "#%%\n"
    }
   }
  },
  {
   "cell_type": "code",
   "execution_count": 48,
   "outputs": [
    {
     "name": "stdout",
     "output_type": "stream",
     "text": [
      "So your name is Petr Lorenc.\n",
      "You were born in 1900.\n",
      "If I want to contact you I will use petr@lorenc.com.\n",
      "And I don't tell anybody that 12345 is your password.\n"
     ]
    }
   ],
   "source": [
    "print(f'''So your name is {name} {surname}.\n",
    "You were born in {birth_year}.\n",
    "If I want to contact you I will use {email}.\n",
    "And I don't tell anybody that {password} is your password.''')"
   ],
   "metadata": {
    "collapsed": false,
    "pycharm": {
     "name": "#%%\n"
    }
   }
  },
  {
   "cell_type": "markdown",
   "source": [
    "# What we learn\n",
    "\n",
    "* Variables and their types\n",
    "* Input and output\n",
    "* Lists, tuples and string\n",
    "    * Membership testing\n",
    "\n",
    "# Before next lesson\n",
    "\n",
    "* Go through https://engeto.com/cs/kurz/python-academy/studium/v4wbCBTlSwWu19CZ1lLT6w/1-intro-to-programming/welcome-to-python-academy\n",
    "* Doing Quiz and Home exercises\n",
    "* Quick look at Lesson 2\n",
    "\n",
    "\n"
   ],
   "metadata": {
    "collapsed": false,
    "pycharm": {
     "name": "#%% md\n"
    }
   }
  }
 ],
 "metadata": {
  "kernelspec": {
   "display_name": "Python 3",
   "language": "python",
   "name": "python3"
  },
  "language_info": {
   "codemirror_mode": {
    "name": "ipython",
    "version": 2
   },
   "file_extension": ".py",
   "mimetype": "text/x-python",
   "name": "python",
   "nbconvert_exporter": "python",
   "pygments_lexer": "ipython2",
   "version": "2.7.6"
  }
 },
 "nbformat": 4,
 "nbformat_minor": 0
}