{
 "cells": [
  {
   "cell_type": "markdown",
   "metadata": {
    "collapsed": true,
    "pycharm": {
     "name": "#%% md\n"
    }
   },
   "source": [
    "# Lesson 9\n",
    "\n",
    "* Questions\n",
    "* Quizzes\n",
    "* Homeworks + Projects (which one did you choose?)\n",
    "* Bigram generator - from previous meeting\n",
    "* Git + GitHub + PyCharm\n",
    "  * https://www.atlassian.com/git/tutorials/comparing-workflows/gitflow-workflow\n",
    "  * Merge requests\n",
    "  * Branches\n",
    "\n",
    "\n",
    "#### Break\n",
    "\n",
    "### Errors"
   ]
  },
  {
   "cell_type": "code",
   "execution_count": 1,
   "outputs": [
    {
     "ename": "IndexError",
     "evalue": "list index out of range",
     "output_type": "error",
     "traceback": [
      "\u001B[0;31m---------------------------------------------------------------------------\u001B[0m",
      "\u001B[0;31mIndexError\u001B[0m                                Traceback (most recent call last)",
      "\u001B[0;32m<ipython-input-1-52c7b74b8e70>\u001B[0m in \u001B[0;36m<module>\u001B[0;34m\u001B[0m\n\u001B[1;32m      1\u001B[0m \u001B[0ma\u001B[0m \u001B[0;34m=\u001B[0m \u001B[0;34m[\u001B[0m\u001B[0;34m]\u001B[0m\u001B[0;34m\u001B[0m\u001B[0;34m\u001B[0m\u001B[0m\n\u001B[0;32m----> 2\u001B[0;31m \u001B[0ma\u001B[0m\u001B[0;34m[\u001B[0m\u001B[0;36m0\u001B[0m\u001B[0;34m]\u001B[0m\u001B[0;34m\u001B[0m\u001B[0;34m\u001B[0m\u001B[0m\n\u001B[0m",
      "\u001B[0;31mIndexError\u001B[0m: list index out of range"
     ]
    }
   ],
   "source": [
    "a = []\n",
    "a[0]"
   ],
   "metadata": {
    "collapsed": false,
    "pycharm": {
     "name": "#%%\n"
    }
   }
  },
  {
   "cell_type": "code",
   "execution_count": 5,
   "outputs": [
    {
     "name": "stdout",
     "output_type": "stream",
     "text": [
      "try\n",
      "Trying to dividing by zero\n",
      "Average is 0\n"
     ]
    }
   ],
   "source": [
    "a = []\n",
    "try:\n",
    "    print(\"Try block\")\n",
    "    avg = sum(a)/len(a)\n",
    "except TypeError as e:\n",
    "    print('Operation not supported for', str(e) )\n",
    "except (KeyError, IndexError) as e:\n",
    "    print('Key not present in array')\n",
    "except ZeroDivisionError:\n",
    "    print(\"Trying to dividing by zero\")\n",
    "else:\n",
    "    print(\"Else block\")\n",
    "finally:\n",
    "    avg = 0\n",
    "\n",
    "print(f\"Average is {avg}\")"
   ],
   "metadata": {
    "collapsed": false,
    "pycharm": {
     "name": "#%%\n"
    }
   }
  },
  {
   "cell_type": "markdown",
   "source": [
    "```\n",
    "try:\n",
    "    surveilled code\n",
    "except Exception1:\n",
    "    handled Exception1\n",
    "except  Exception2:\n",
    "    handled Exception2\n",
    "else:\n",
    "    additional code if all went well\n",
    "finally:\n",
    "    executed always\n",
    "```\n",
    "\n",
    "* errors.py\n",
    "* errors2.py"
   ],
   "metadata": {
    "collapsed": false,
    "pycharm": {
     "name": "#%% md\n"
    }
   }
  },
  {
   "cell_type": "code",
   "execution_count": 10,
   "outputs": [
    {
     "name": "stdout",
     "output_type": "stream",
     "text": [
      "Code harder and implement behavior for this condition\n"
     ]
    }
   ],
   "source": [
    "def work_with_a(array: list) -> float:\n",
    "    if not array:\n",
    "        raise NotImplementedError(\"Functionality for array of size 0 is not implemented\")\n",
    "    return sum(a)/len(a)\n",
    "\n",
    "a = []\n",
    "try:\n",
    "    work_with_a(a)\n",
    "except NotImplementedError:\n",
    "    print(\"Code harder and implement behavior for this condition\")"
   ],
   "metadata": {
    "collapsed": false,
    "pycharm": {
     "name": "#%%\n"
    }
   }
  },
  {
   "cell_type": "code",
   "execution_count": 11,
   "outputs": [
    {
     "name": "stdout",
     "output_type": "stream",
     "text": [
      "Code harder and implement behavior for this condition\n"
     ]
    }
   ],
   "source": [
    "a = []\n",
    "try:\n",
    "    work_with_a(a)\n",
    "except RuntimeError:\n",
    "    print(\"Code harder and implement behavior for this condition\")"
   ],
   "metadata": {
    "collapsed": false,
    "pycharm": {
     "name": "#%%\n"
    }
   }
  },
  {
   "cell_type": "code",
   "execution_count": 12,
   "outputs": [
    {
     "ename": "NotImplementedError",
     "evalue": "Functionality for array of size 0 is not implemented",
     "output_type": "error",
     "traceback": [
      "\u001B[0;31m---------------------------------------------------------------------------\u001B[0m",
      "\u001B[0;31mNotImplementedError\u001B[0m                       Traceback (most recent call last)",
      "\u001B[0;32m<ipython-input-12-9963be93ca86>\u001B[0m in \u001B[0;36m<module>\u001B[0;34m\u001B[0m\n\u001B[1;32m      1\u001B[0m \u001B[0ma\u001B[0m \u001B[0;34m=\u001B[0m \u001B[0;34m[\u001B[0m\u001B[0;34m]\u001B[0m\u001B[0;34m\u001B[0m\u001B[0;34m\u001B[0m\u001B[0m\n\u001B[1;32m      2\u001B[0m \u001B[0;32mtry\u001B[0m\u001B[0;34m:\u001B[0m\u001B[0;34m\u001B[0m\u001B[0;34m\u001B[0m\u001B[0m\n\u001B[0;32m----> 3\u001B[0;31m     \u001B[0mwork_with_a\u001B[0m\u001B[0;34m(\u001B[0m\u001B[0ma\u001B[0m\u001B[0;34m)\u001B[0m\u001B[0;34m\u001B[0m\u001B[0;34m\u001B[0m\u001B[0m\n\u001B[0m\u001B[1;32m      4\u001B[0m \u001B[0;32mexcept\u001B[0m \u001B[0mOverflowError\u001B[0m\u001B[0;34m:\u001B[0m\u001B[0;34m\u001B[0m\u001B[0;34m\u001B[0m\u001B[0m\n\u001B[1;32m      5\u001B[0m     \u001B[0mprint\u001B[0m\u001B[0;34m(\u001B[0m\u001B[0;34m\"Code harder and implement behavior for this condition\"\u001B[0m\u001B[0;34m)\u001B[0m\u001B[0;34m\u001B[0m\u001B[0;34m\u001B[0m\u001B[0m\n",
      "\u001B[0;32m<ipython-input-10-06a923c5fbfe>\u001B[0m in \u001B[0;36mwork_with_a\u001B[0;34m(array)\u001B[0m\n\u001B[1;32m      1\u001B[0m \u001B[0;32mdef\u001B[0m \u001B[0mwork_with_a\u001B[0m\u001B[0;34m(\u001B[0m\u001B[0marray\u001B[0m\u001B[0;34m:\u001B[0m \u001B[0mlist\u001B[0m\u001B[0;34m)\u001B[0m \u001B[0;34m->\u001B[0m \u001B[0mfloat\u001B[0m\u001B[0;34m:\u001B[0m\u001B[0;34m\u001B[0m\u001B[0;34m\u001B[0m\u001B[0m\n\u001B[1;32m      2\u001B[0m     \u001B[0;32mif\u001B[0m \u001B[0;32mnot\u001B[0m \u001B[0marray\u001B[0m\u001B[0;34m:\u001B[0m\u001B[0;34m\u001B[0m\u001B[0;34m\u001B[0m\u001B[0m\n\u001B[0;32m----> 3\u001B[0;31m         \u001B[0;32mraise\u001B[0m \u001B[0mNotImplementedError\u001B[0m\u001B[0;34m(\u001B[0m\u001B[0;34m\"Functionality for array of size 0 is not implemented\"\u001B[0m\u001B[0;34m)\u001B[0m\u001B[0;34m\u001B[0m\u001B[0;34m\u001B[0m\u001B[0m\n\u001B[0m\u001B[1;32m      4\u001B[0m     \u001B[0;32mreturn\u001B[0m \u001B[0msum\u001B[0m\u001B[0;34m(\u001B[0m\u001B[0ma\u001B[0m\u001B[0;34m)\u001B[0m\u001B[0;34m/\u001B[0m\u001B[0mlen\u001B[0m\u001B[0;34m(\u001B[0m\u001B[0ma\u001B[0m\u001B[0;34m)\u001B[0m\u001B[0;34m\u001B[0m\u001B[0;34m\u001B[0m\u001B[0m\n\u001B[1;32m      5\u001B[0m \u001B[0;34m\u001B[0m\u001B[0m\n",
      "\u001B[0;31mNotImplementedError\u001B[0m: Functionality for array of size 0 is not implemented"
     ]
    }
   ],
   "source": [
    "a = []\n",
    "try:\n",
    "    work_with_a(a)\n",
    "except OverflowError:\n",
    "    print(\"Code harder and implement behavior for this condition\")"
   ],
   "metadata": {
    "collapsed": false,
    "pycharm": {
     "name": "#%%\n"
    }
   }
  },
  {
   "cell_type": "code",
   "execution_count": 14,
   "outputs": [
    {
     "name": "stdout",
     "output_type": "stream",
     "text": [
      "Code harder and implement behavior for this condition\n"
     ]
    }
   ],
   "source": [
    "a = []\n",
    "try:\n",
    "    work_with_a(a)\n",
    "except:\n",
    "    print(\"Code harder and implement behavior for this condition\")"
   ],
   "metadata": {
    "collapsed": false,
    "pycharm": {
     "name": "#%%\n"
    }
   }
  },
  {
   "cell_type": "code",
   "execution_count": 29,
   "outputs": [
    {
     "name": "stdout",
     "output_type": "stream",
     "text": [
      "I/O error(2): No such file or directory\n",
      "\n",
      "[Errno 2] No such file or directory: 'myfile.txt'\n",
      "[Errno 2] No such file or directory: 'myfile.txt'\n",
      "New exception\n"
     ]
    }
   ],
   "source": [
    "import sys\n",
    "\n",
    "def open_file():\n",
    "    try:\n",
    "        f = open('myfile.txt')\n",
    "        s = f.readline()\n",
    "        i = int(s.strip())\n",
    "    except IOError as e:\n",
    "        print (\"I/O error({0}): {1}\".format(e.errno, e.strerror))\n",
    "        raise Exception(\"New exception\") from e\n",
    "    except ValueError:\n",
    "        print (\"Could not convert data to an integer.\")\n",
    "        raise\n",
    "    except:\n",
    "        print (\"Unexpected error:\", sys.exc_info()[0])\n",
    "        raise\n",
    "\n",
    "try:\n",
    "    open_file()\n",
    "except Exception as e:\n",
    "    print()\n",
    "    print(e.__context__)\n",
    "    print(e)"
   ],
   "metadata": {
    "collapsed": false,
    "pycharm": {
     "name": "#%%\n"
    }
   }
  },
  {
   "cell_type": "code",
   "execution_count": null,
   "outputs": [],
   "source": [
    "try:\n",
    "    raise 2\n",
    "except Exception as e:\n",
    "    print(e)\n",
    "    print(type(e))"
   ],
   "metadata": {
    "collapsed": false,
    "pycharm": {
     "name": "#%%\n"
    }
   }
  },
  {
   "cell_type": "markdown",
   "source": [
    "### Break\n",
    "\n",
    "## OOP - Object oriented programming\n",
    "\n",
    "* Encapsulation\n",
    "  *  It describes the idea of bundling data and methods that work on that data within one unit, e.g., a class\n",
    "* Inheritance\n",
    "  * The ability for a class to extend or override functionality of another class.\n",
    "* Abstraction\n",
    "* Polymorphism\n",
    "  * The ability to replace an object with its subobjects.\n",
    "\n",
    "* **img/oop.png**"
   ],
   "metadata": {
    "collapsed": false,
    "pycharm": {
     "name": "#%% md\n"
    }
   }
  },
  {
   "cell_type": "code",
   "execution_count": 12,
   "outputs": [
    {
     "name": "stdout",
     "output_type": "stream",
     "text": [
      "I am Alik and my position is 0.0:0.0\n",
      "Animal\n",
      "Moving\n",
      "Moving\n",
      "Alik is making: Haf\n",
      "I am Alik and my position is 0.0:2.0\n",
      "\n",
      "I am Linda and my position is 0.0:0.0\n",
      "Cat\n",
      "Linda is making: Mnau\n",
      "I am Linda and my position is 0.0:1.5\n",
      "\n",
      "I am Tapka and my position is 0.0:0.0\n",
      "Cat\n",
      "Tapka is making: Mnau\n",
      "I am Tapka and my position is 0.0:1.5\n",
      "\n"
     ]
    }
   ],
   "source": [
    "# https://naucse.python.cz/course/pyladies/beginners/class/\n",
    "# https://naucse.python.cz/course/pyladies/beginners/inheritance/\n",
    "\n",
    "class Animal:\n",
    "    encapsulated_variable = \"Animal\"\n",
    "    position_X = 0.\n",
    "    position_Y = 0.\n",
    "\n",
    "    def __init__(self, name):\n",
    "        self.name = name\n",
    "\n",
    "    def make_sound(self):\n",
    "        pass\n",
    "\n",
    "    def go_up(self):\n",
    "        print(\"Moving\")\n",
    "        self.position_Y += 1.\n",
    "\n",
    "    def __str__(self):\n",
    "        return f\"I am {self.name} and my position is {self.position_X}:{self.position_Y}\"\n",
    "\n",
    "class Dog(Animal):\n",
    "    encapsulated_variable = \"Animal\"\n",
    "    \n",
    "    def __init__(self, name=None):\n",
    "        super(Dog, self).__init__(name=name or \"Dog\")\n",
    "    \n",
    "    def make_sound(self):\n",
    "        print(f\"{self.name} is making: Haf\")\n",
    "\n",
    "    def go_up(self):\n",
    "        super(Dog, self).go_up()\n",
    "        super(Dog, self).go_up()\n",
    "\n",
    "class Cat(Animal):\n",
    "    encapsulated_variable = \"Cat\"\n",
    "\n",
    "    def __init__(self, name=\"Cat\"):\n",
    "        super(Cat, self).__init__(name)\n",
    "\n",
    "    def make_sound(self):\n",
    "        print(f\"{self.name} is making: Mnau\")\n",
    "\n",
    "    def go_up(self):\n",
    "        self.position_Y += 1.5\n",
    "\n",
    "pets = [Dog(\"Alik\"), Cat(\"Linda\"), Cat(\"Tapka\")]\n",
    "\n",
    "for pet in pets:\n",
    "    print(pet)\n",
    "    print(pet.encapsulated_variable)\n",
    "    pet.go_up()\n",
    "    pet.make_sound()\n",
    "    print(pet)\n",
    "    print()"
   ],
   "metadata": {
    "collapsed": false,
    "pycharm": {
     "name": "#%%\n"
    }
   }
  },
  {
   "cell_type": "markdown",
   "source": [
    "* oop2.py\n",
    "* oop3.py\n",
    "* oop4.py\n",
    "\n",
    "\n",
    "Break and back to errors"
   ],
   "metadata": {
    "collapsed": false,
    "pycharm": {
     "name": "#%% md\n"
    }
   }
  },
  {
   "cell_type": "code",
   "execution_count": 2,
   "outputs": [
    {
     "ename": "SyntaxError",
     "evalue": "default 'except:' must be last (<ipython-input-2-2431fbacdf63>, line 8)",
     "output_type": "error",
     "traceback": [
      "\u001B[0;36m  File \u001B[0;32m\"<ipython-input-2-2431fbacdf63>\"\u001B[0;36m, line \u001B[0;32m8\u001B[0m\n\u001B[0;31m    except TypeError as e:\u001B[0m\n\u001B[0m               ^\u001B[0m\n\u001B[0;31mSyntaxError\u001B[0m\u001B[0;31m:\u001B[0m default 'except:' must be last\n"
     ]
    }
   ],
   "source": [
    "import traceback\n",
    "a = []\n",
    "try:\n",
    "    print(\"Try block\")\n",
    "    avg = sum(a)/len(a)\n",
    "except:\n",
    "    traceback.format_exc()\n",
    "except TypeError as e:\n",
    "    print('Operation not supported for', str(e) )\n",
    "except (KeyError, IndexError) as e:\n",
    "    print('Key not present in array')\n",
    "except ZeroDivisionError:\n",
    "    print(\"Trying to dividing by zero\")\n",
    "else:\n",
    "    print(\"Else block\")\n",
    "finally:\n",
    "    avg = 0\n",
    "\n",
    "print(f\"Average is {avg}\")"
   ],
   "metadata": {
    "collapsed": false,
    "pycharm": {
     "name": "#%%\n"
    }
   }
  },
  {
   "cell_type": "code",
   "execution_count": 3,
   "outputs": [],
   "source": [
    "class IncorrectMove(Exception):\n",
    "    pass"
   ],
   "metadata": {
    "collapsed": false,
    "pycharm": {
     "name": "#%%\n"
    }
   }
  },
  {
   "cell_type": "code",
   "execution_count": 4,
   "outputs": [
    {
     "ename": "IncorrectMove",
     "evalue": "XX",
     "output_type": "error",
     "traceback": [
      "\u001B[0;31m---------------------------------------------------------------------------\u001B[0m",
      "\u001B[0;31mIncorrectMove\u001B[0m                             Traceback (most recent call last)",
      "\u001B[0;32m<ipython-input-4-83ef303676ab>\u001B[0m in \u001B[0;36m<module>\u001B[0;34m\u001B[0m\n\u001B[0;32m----> 1\u001B[0;31m \u001B[0;32mraise\u001B[0m \u001B[0mIncorrectMove\u001B[0m\u001B[0;34m(\u001B[0m\u001B[0;34m\"XX\"\u001B[0m\u001B[0;34m)\u001B[0m\u001B[0;34m\u001B[0m\u001B[0;34m\u001B[0m\u001B[0m\n\u001B[0m",
      "\u001B[0;31mIncorrectMove\u001B[0m: XX"
     ]
    }
   ],
   "source": [
    "raise IncorrectMove(\"XX\")"
   ],
   "metadata": {
    "collapsed": false,
    "pycharm": {
     "name": "#%%\n"
    }
   }
  },
  {
   "cell_type": "markdown",
   "source": [
    "#### Error Report\n",
    "\n",
    "Where is what?\n",
    "\n",
    "```\n",
    "$ python3 load_db.py\n",
    "Traceback (most recent call last):\n",
    "  File \"load_db.py\", line 1, in <module>\n",
    "    file = open('nonexistent.txt')\n",
    "FileNotFoundError: [Errno 2] No such file or directory: 'nonexistent.txt'\n",
    "```\n",
    "\n",
    "* Traceback\n",
    "* Error Type\n",
    "* Error Value"
   ],
   "metadata": {
    "collapsed": false,
    "pycharm": {
     "name": "#%% md\n"
    }
   }
  },
  {
   "cell_type": "code",
   "execution_count": 7,
   "outputs": [
    {
     "ename": "TypeError",
     "evalue": "unsupported operand type(s) for +=: 'int' and 'str'",
     "output_type": "error",
     "traceback": [
      "\u001B[0;31m---------------------------------------------------------------------------\u001B[0m",
      "\u001B[0;31mTypeError\u001B[0m                                 Traceback (most recent call last)",
      "\u001B[0;32m<ipython-input-7-c7b20c5415e5>\u001B[0m in \u001B[0;36m<module>\u001B[0;34m\u001B[0m\n\u001B[1;32m     17\u001B[0m     \u001B[0;32mreturn\u001B[0m \u001B[0mmy_sum\u001B[0m\u001B[0;34m(\u001B[0m\u001B[0msequence\u001B[0m\u001B[0;34m)\u001B[0m \u001B[0;34m/\u001B[0m \u001B[0mcount\u001B[0m\u001B[0;34m(\u001B[0m\u001B[0msequence\u001B[0m\u001B[0;34m)\u001B[0m\u001B[0;34m\u001B[0m\u001B[0;34m\u001B[0m\u001B[0m\n\u001B[1;32m     18\u001B[0m \u001B[0;34m\u001B[0m\u001B[0m\n\u001B[0;32m---> 19\u001B[0;31m \u001B[0mavg\u001B[0m\u001B[0;34m(\u001B[0m\u001B[0;34m[\u001B[0m\u001B[0;36m1\u001B[0m\u001B[0;34m,\u001B[0m\u001B[0;36m2\u001B[0m\u001B[0;34m,\u001B[0m\u001B[0;36m3\u001B[0m\u001B[0;34m,\u001B[0m\u001B[0;36m4\u001B[0m\u001B[0;34m,\u001B[0m\u001B[0;34m'a'\u001B[0m\u001B[0;34m]\u001B[0m\u001B[0;34m)\u001B[0m\u001B[0;34m\u001B[0m\u001B[0;34m\u001B[0m\u001B[0m\n\u001B[0m",
      "\u001B[0;32m<ipython-input-7-c7b20c5415e5>\u001B[0m in \u001B[0;36mavg\u001B[0;34m(sequence)\u001B[0m\n\u001B[1;32m     15\u001B[0m \u001B[0;34m\u001B[0m\u001B[0m\n\u001B[1;32m     16\u001B[0m \u001B[0;32mdef\u001B[0m \u001B[0mavg\u001B[0m\u001B[0;34m(\u001B[0m\u001B[0msequence\u001B[0m\u001B[0;34m)\u001B[0m\u001B[0;34m:\u001B[0m\u001B[0;34m\u001B[0m\u001B[0;34m\u001B[0m\u001B[0m\n\u001B[0;32m---> 17\u001B[0;31m     \u001B[0;32mreturn\u001B[0m \u001B[0mmy_sum\u001B[0m\u001B[0;34m(\u001B[0m\u001B[0msequence\u001B[0m\u001B[0;34m)\u001B[0m \u001B[0;34m/\u001B[0m \u001B[0mcount\u001B[0m\u001B[0;34m(\u001B[0m\u001B[0msequence\u001B[0m\u001B[0;34m)\u001B[0m\u001B[0;34m\u001B[0m\u001B[0;34m\u001B[0m\u001B[0m\n\u001B[0m\u001B[1;32m     18\u001B[0m \u001B[0;34m\u001B[0m\u001B[0m\n\u001B[1;32m     19\u001B[0m \u001B[0mavg\u001B[0m\u001B[0;34m(\u001B[0m\u001B[0;34m[\u001B[0m\u001B[0;36m1\u001B[0m\u001B[0;34m,\u001B[0m\u001B[0;36m2\u001B[0m\u001B[0;34m,\u001B[0m\u001B[0;36m3\u001B[0m\u001B[0;34m,\u001B[0m\u001B[0;36m4\u001B[0m\u001B[0;34m,\u001B[0m\u001B[0;34m'a'\u001B[0m\u001B[0;34m]\u001B[0m\u001B[0;34m)\u001B[0m\u001B[0;34m\u001B[0m\u001B[0;34m\u001B[0m\u001B[0m\n",
      "\u001B[0;32m<ipython-input-7-c7b20c5415e5>\u001B[0m in \u001B[0;36mmy_sum\u001B[0;34m(sequence)\u001B[0m\n\u001B[1;32m     11\u001B[0m     \u001B[0mresult\u001B[0m \u001B[0;34m=\u001B[0m \u001B[0;36m0\u001B[0m\u001B[0;34m\u001B[0m\u001B[0;34m\u001B[0m\u001B[0m\n\u001B[1;32m     12\u001B[0m     \u001B[0;32mfor\u001B[0m \u001B[0mi\u001B[0m \u001B[0;32min\u001B[0m \u001B[0msequence\u001B[0m\u001B[0;34m:\u001B[0m\u001B[0;34m\u001B[0m\u001B[0;34m\u001B[0m\u001B[0m\n\u001B[0;32m---> 13\u001B[0;31m         \u001B[0mresult\u001B[0m \u001B[0;34m+=\u001B[0m \u001B[0mi\u001B[0m\u001B[0;34m\u001B[0m\u001B[0;34m\u001B[0m\u001B[0m\n\u001B[0m\u001B[1;32m     14\u001B[0m     \u001B[0;32mreturn\u001B[0m \u001B[0mresult\u001B[0m\u001B[0;34m\u001B[0m\u001B[0;34m\u001B[0m\u001B[0m\n\u001B[1;32m     15\u001B[0m \u001B[0;34m\u001B[0m\u001B[0m\n",
      "\u001B[0;31mTypeError\u001B[0m: unsupported operand type(s) for +=: 'int' and 'str'"
     ]
    }
   ],
   "source": [
    "import sys\n",
    "import traceback\n",
    "\n",
    "def avg(sequence):\n",
    "    try:\n",
    "        return my_sum(sequence) / count(sequence)\n",
    "    except Exception:\n",
    "        with open('./log.txt', 'a') as f:\n",
    "            logger(sys.exc_info(),file=f)\n",
    "\n",
    "def logger(exception_info,*, file=sys.stdout):\n",
    "    summary = traceback.extract_tb(exception_info[2])\n",
    "    for s in summary:\n",
    "        print('\\nFILE {} / FUNCTION: {} / LINE {}: \\n\\t{}\\n'\n",
    "                .format(s.filename,s.name,s.lineno,s.line), file=file)\n",
    "    print('{.__name__}: {}'.format(*sys.exc_info()[:2]),file=file)\n",
    "\n",
    "avg([1,2,3,'a'])"
   ],
   "metadata": {
    "collapsed": false,
    "pycharm": {
     "name": "#%%\n"
    }
   }
  },
  {
   "cell_type": "code",
   "execution_count": 5,
   "outputs": [
    {
     "ename": "TypeError",
     "evalue": "unsupported operand type(s) for +=: 'int' and 'str'",
     "output_type": "error",
     "traceback": [
      "\u001B[0;31m---------------------------------------------------------------------------\u001B[0m",
      "\u001B[0;31mTypeError\u001B[0m                                 Traceback (most recent call last)",
      "\u001B[0;32m<ipython-input-5-c7b20c5415e5>\u001B[0m in \u001B[0;36m<module>\u001B[0;34m\u001B[0m\n\u001B[1;32m     17\u001B[0m     \u001B[0;32mreturn\u001B[0m \u001B[0mmy_sum\u001B[0m\u001B[0;34m(\u001B[0m\u001B[0msequence\u001B[0m\u001B[0;34m)\u001B[0m \u001B[0;34m/\u001B[0m \u001B[0mcount\u001B[0m\u001B[0;34m(\u001B[0m\u001B[0msequence\u001B[0m\u001B[0;34m)\u001B[0m\u001B[0;34m\u001B[0m\u001B[0;34m\u001B[0m\u001B[0m\n\u001B[1;32m     18\u001B[0m \u001B[0;34m\u001B[0m\u001B[0m\n\u001B[0;32m---> 19\u001B[0;31m \u001B[0mavg\u001B[0m\u001B[0;34m(\u001B[0m\u001B[0;34m[\u001B[0m\u001B[0;36m1\u001B[0m\u001B[0;34m,\u001B[0m\u001B[0;36m2\u001B[0m\u001B[0;34m,\u001B[0m\u001B[0;36m3\u001B[0m\u001B[0;34m,\u001B[0m\u001B[0;36m4\u001B[0m\u001B[0;34m,\u001B[0m\u001B[0;34m'a'\u001B[0m\u001B[0;34m]\u001B[0m\u001B[0;34m)\u001B[0m\u001B[0;34m\u001B[0m\u001B[0;34m\u001B[0m\u001B[0m\n\u001B[0m",
      "\u001B[0;32m<ipython-input-5-c7b20c5415e5>\u001B[0m in \u001B[0;36mavg\u001B[0;34m(sequence)\u001B[0m\n\u001B[1;32m     15\u001B[0m \u001B[0;34m\u001B[0m\u001B[0m\n\u001B[1;32m     16\u001B[0m \u001B[0;32mdef\u001B[0m \u001B[0mavg\u001B[0m\u001B[0;34m(\u001B[0m\u001B[0msequence\u001B[0m\u001B[0;34m)\u001B[0m\u001B[0;34m:\u001B[0m\u001B[0;34m\u001B[0m\u001B[0;34m\u001B[0m\u001B[0m\n\u001B[0;32m---> 17\u001B[0;31m     \u001B[0;32mreturn\u001B[0m \u001B[0mmy_sum\u001B[0m\u001B[0;34m(\u001B[0m\u001B[0msequence\u001B[0m\u001B[0;34m)\u001B[0m \u001B[0;34m/\u001B[0m \u001B[0mcount\u001B[0m\u001B[0;34m(\u001B[0m\u001B[0msequence\u001B[0m\u001B[0;34m)\u001B[0m\u001B[0;34m\u001B[0m\u001B[0;34m\u001B[0m\u001B[0m\n\u001B[0m\u001B[1;32m     18\u001B[0m \u001B[0;34m\u001B[0m\u001B[0m\n\u001B[1;32m     19\u001B[0m \u001B[0mavg\u001B[0m\u001B[0;34m(\u001B[0m\u001B[0;34m[\u001B[0m\u001B[0;36m1\u001B[0m\u001B[0;34m,\u001B[0m\u001B[0;36m2\u001B[0m\u001B[0;34m,\u001B[0m\u001B[0;36m3\u001B[0m\u001B[0;34m,\u001B[0m\u001B[0;36m4\u001B[0m\u001B[0;34m,\u001B[0m\u001B[0;34m'a'\u001B[0m\u001B[0;34m]\u001B[0m\u001B[0;34m)\u001B[0m\u001B[0;34m\u001B[0m\u001B[0;34m\u001B[0m\u001B[0m\n",
      "\u001B[0;32m<ipython-input-5-c7b20c5415e5>\u001B[0m in \u001B[0;36mmy_sum\u001B[0;34m(sequence)\u001B[0m\n\u001B[1;32m     11\u001B[0m     \u001B[0mresult\u001B[0m \u001B[0;34m=\u001B[0m \u001B[0;36m0\u001B[0m\u001B[0;34m\u001B[0m\u001B[0;34m\u001B[0m\u001B[0m\n\u001B[1;32m     12\u001B[0m     \u001B[0;32mfor\u001B[0m \u001B[0mi\u001B[0m \u001B[0;32min\u001B[0m \u001B[0msequence\u001B[0m\u001B[0;34m:\u001B[0m\u001B[0;34m\u001B[0m\u001B[0;34m\u001B[0m\u001B[0m\n\u001B[0;32m---> 13\u001B[0;31m         \u001B[0mresult\u001B[0m \u001B[0;34m+=\u001B[0m \u001B[0mi\u001B[0m\u001B[0;34m\u001B[0m\u001B[0;34m\u001B[0m\u001B[0m\n\u001B[0m\u001B[1;32m     14\u001B[0m     \u001B[0;32mreturn\u001B[0m \u001B[0mresult\u001B[0m\u001B[0;34m\u001B[0m\u001B[0;34m\u001B[0m\u001B[0m\n\u001B[1;32m     15\u001B[0m \u001B[0;34m\u001B[0m\u001B[0m\n",
      "\u001B[0;31mTypeError\u001B[0m: unsupported operand type(s) for +=: 'int' and 'str'"
     ]
    }
   ],
   "source": [
    "def count(sequence, target=None):\n",
    "    if not target:\n",
    "        return len(sequence)\n",
    "    else:\n",
    "        count = 0\n",
    "        for item in sequence:\n",
    "            count += item==target\n",
    "        return count\n",
    "\n",
    "def my_sum(sequence):\n",
    "    result = 0\n",
    "    for i in sequence:\n",
    "        result += i\n",
    "    return result\n",
    "\n",
    "def avg(sequence):\n",
    "    return my_sum(sequence) / count(sequence)\n",
    "\n",
    "avg([1,2,3,4,'a'])"
   ],
   "metadata": {
    "collapsed": false,
    "pycharm": {
     "name": "#%%\n"
    }
   }
  },
  {
   "cell_type": "code",
   "execution_count": null,
   "outputs": [],
   "source": [
    "# solution?"
   ],
   "metadata": {
    "collapsed": false,
    "pycharm": {
     "name": "#%%\n"
    }
   }
  },
  {
   "cell_type": "markdown",
   "source": [
    "Debugging in PyCharm\n",
    "\n"
   ],
   "metadata": {
    "collapsed": false,
    "pycharm": {
     "name": "#%% md\n"
    }
   }
  }
 ],
 "metadata": {
  "kernelspec": {
   "display_name": "Python 3",
   "language": "python",
   "name": "python3"
  },
  "language_info": {
   "codemirror_mode": {
    "name": "ipython",
    "version": 2
   },
   "file_extension": ".py",
   "mimetype": "text/x-python",
   "name": "python",
   "nbconvert_exporter": "python",
   "pygments_lexer": "ipython2",
   "version": "2.7.6"
  }
 },
 "nbformat": 4,
 "nbformat_minor": 0
}