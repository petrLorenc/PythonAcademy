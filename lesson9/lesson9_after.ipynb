{
  "nbformat": 4,
  "nbformat_minor": 0,
  "metadata": {
    "kernelspec": {
      "display_name": "Python 3",
      "language": "python",
      "name": "python3"
    },
    "language_info": {
      "codemirror_mode": {
        "name": "ipython",
        "version": 2
      },
      "file_extension": ".py",
      "mimetype": "text/x-python",
      "name": "python",
      "nbconvert_exporter": "python",
      "pygments_lexer": "ipython2",
      "version": "2.7.6"
    },
    "colab": {
      "name": "lesson9.ipynb",
      "provenance": [],
      "toc_visible": true
    }
  },
  "cells": [
    {
      "cell_type": "markdown",
      "metadata": {
        "collapsed": true,
        "pycharm": {
          "name": "#%% md\n"
        },
        "id": "xyQ47NVpf-N2"
      },
      "source": [
        "# Lesson 9\n",
        "\n",
        "* Questions\n",
        "* Quizzes\n",
        "* Homeworks + Projects (which one did you choose?)\n",
        "* Bigram generator - from previous meeting\n",
        "* Git + GitHub + PyCharm\n",
        "  * https://www.atlassian.com/git/tutorials/comparing-workflows/gitflow-workflow\n",
        "  * Merge requests\n",
        "  * Branches\n",
        "\n",
        "\n",
        "#### Break\n",
        "\n",
        "### Errors"
      ]
    },
    {
      "cell_type": "code",
      "metadata": {
        "pycharm": {
          "name": "#%%\n"
        },
        "id": "Zll92MWBf-N3",
        "outputId": "d8a93ad7-1759-4718-9a69-8d94b48b27f3",
        "colab": {
          "base_uri": "https://localhost:8080/",
          "height": 299
        }
      },
      "source": [
        "def foo():\n",
        "  a = []\n",
        "  a[0]\n",
        "foo()"
      ],
      "execution_count": 3,
      "outputs": [
        {
          "output_type": "error",
          "ename": "IndexError",
          "evalue": "ignored",
          "traceback": [
            "\u001b[0;31m---------------------------------------------------------------------------\u001b[0m",
            "\u001b[0;31mIndexError\u001b[0m                                Traceback (most recent call last)",
            "\u001b[0;32m<ipython-input-3-fb4615f643de>\u001b[0m in \u001b[0;36m<module>\u001b[0;34m()\u001b[0m\n\u001b[1;32m      2\u001b[0m   \u001b[0ma\u001b[0m \u001b[0;34m=\u001b[0m \u001b[0;34m[\u001b[0m\u001b[0;34m]\u001b[0m\u001b[0;34m\u001b[0m\u001b[0;34m\u001b[0m\u001b[0m\n\u001b[1;32m      3\u001b[0m   \u001b[0ma\u001b[0m\u001b[0;34m[\u001b[0m\u001b[0;36m0\u001b[0m\u001b[0;34m]\u001b[0m\u001b[0;34m\u001b[0m\u001b[0;34m\u001b[0m\u001b[0m\n\u001b[0;32m----> 4\u001b[0;31m \u001b[0mfoo\u001b[0m\u001b[0;34m(\u001b[0m\u001b[0;34m)\u001b[0m\u001b[0;34m\u001b[0m\u001b[0;34m\u001b[0m\u001b[0m\n\u001b[0m",
            "\u001b[0;32m<ipython-input-3-fb4615f643de>\u001b[0m in \u001b[0;36mfoo\u001b[0;34m()\u001b[0m\n\u001b[1;32m      1\u001b[0m \u001b[0;32mdef\u001b[0m \u001b[0mfoo\u001b[0m\u001b[0;34m(\u001b[0m\u001b[0;34m)\u001b[0m\u001b[0;34m:\u001b[0m\u001b[0;34m\u001b[0m\u001b[0;34m\u001b[0m\u001b[0m\n\u001b[1;32m      2\u001b[0m   \u001b[0ma\u001b[0m \u001b[0;34m=\u001b[0m \u001b[0;34m[\u001b[0m\u001b[0;34m]\u001b[0m\u001b[0;34m\u001b[0m\u001b[0;34m\u001b[0m\u001b[0m\n\u001b[0;32m----> 3\u001b[0;31m   \u001b[0ma\u001b[0m\u001b[0;34m[\u001b[0m\u001b[0;36m0\u001b[0m\u001b[0;34m]\u001b[0m\u001b[0;34m\u001b[0m\u001b[0;34m\u001b[0m\u001b[0m\n\u001b[0m\u001b[1;32m      4\u001b[0m \u001b[0mfoo\u001b[0m\u001b[0;34m(\u001b[0m\u001b[0;34m)\u001b[0m\u001b[0;34m\u001b[0m\u001b[0;34m\u001b[0m\u001b[0m\n",
            "\u001b[0;31mIndexError\u001b[0m: list index out of range"
          ]
        }
      ]
    },
    {
      "cell_type": "code",
      "metadata": {
        "pycharm": {
          "name": "#%%\n"
        },
        "id": "MooNCM09f-N8",
        "outputId": "b320cccd-9002-499b-cfef-2bf5d27fc0ca",
        "colab": {
          "base_uri": "https://localhost:8080/",
          "height": 129
        }
      },
      "source": [
        "a = []\n",
        "try:\n",
        "    print(\"Try block\")\n",
        "    avg = sum(a)/len(a)\n",
        "except :\n",
        "    print(\"Exception\")\n",
        "except TypeError as e:\n",
        "    print('Operation not supported for', str(e) )\n",
        "except (KeyError, IndexError) as e:\n",
        "    print('Key not present in array')\n",
        "except ZeroDivisionError:\n",
        "    avg = 0\n",
        "    print(\"Trying to dividing by zero\")\n",
        "else:\n",
        "    print(\"Else block\")\n",
        "finally:\n",
        "    print(f\"Average is {avg}\")\n"
      ],
      "execution_count": 8,
      "outputs": [
        {
          "output_type": "error",
          "ename": "SyntaxError",
          "evalue": "ignored",
          "traceback": [
            "\u001b[0;36m  File \u001b[0;32m\"<ipython-input-8-c5cc83e9c2c3>\"\u001b[0;36m, line \u001b[0;32m4\u001b[0m\n\u001b[0;31m    avg = sum(a)/len(a)\u001b[0m\n\u001b[0m    ^\u001b[0m\n\u001b[0;31mSyntaxError\u001b[0m\u001b[0;31m:\u001b[0m default 'except:' must be last\n"
          ]
        }
      ]
    },
    {
      "cell_type": "markdown",
      "metadata": {
        "collapsed": false,
        "pycharm": {
          "name": "#%% md\n"
        },
        "id": "lHEiYTgQf-N_"
      },
      "source": [
        "```\n",
        "try:\n",
        "    surveilled code\n",
        "except Exception1:\n",
        "    handled Exception1\n",
        "except  Exception2:\n",
        "    handled Exception2\n",
        "else:\n",
        "    additional code if all went well\n",
        "finally:\n",
        "    executed always\n",
        "```\n",
        "\n",
        "* errors.py\n",
        "* errors2.py"
      ]
    },
    {
      "cell_type": "code",
      "metadata": {
        "pycharm": {
          "name": "#%%\n"
        },
        "id": "-ifj7t4of-OA",
        "outputId": "06d769ea-4871-40a7-a55d-319b0be2d1e0",
        "colab": {
          "base_uri": "https://localhost:8080/",
          "height": 34
        }
      },
      "source": [
        "def work_with_a(array: list) -> float:\n",
        "    if not array:\n",
        "        raise NotImplementedError(\"Functionality for array of size 0 is not implemented\")\n",
        "    return sum(a)/len(a)\n",
        "\n",
        "a = []\n",
        "try:\n",
        "    work_with_a(a)\n",
        "except NotImplementedError:\n",
        "    print(\"Code harder and implement behavior for this condition\")"
      ],
      "execution_count": 9,
      "outputs": [
        {
          "output_type": "stream",
          "text": [
            "Code harder and implement behavior for this condition\n"
          ],
          "name": "stdout"
        }
      ]
    },
    {
      "cell_type": "code",
      "metadata": {
        "pycharm": {
          "name": "#%%\n"
        },
        "id": "N1gzOYO0f-OC",
        "outputId": "0ec5d915-65ed-45b4-b0fc-7237666cda1a",
        "colab": {
          "base_uri": "https://localhost:8080/",
          "height": 34
        }
      },
      "source": [
        "a = []\n",
        "try:\n",
        "    work_with_a(a)\n",
        "except RuntimeError:\n",
        "    print(\"Code harder and implement behavior for this condition\")"
      ],
      "execution_count": 10,
      "outputs": [
        {
          "output_type": "stream",
          "text": [
            "Code harder and implement behavior for this condition\n"
          ],
          "name": "stdout"
        }
      ]
    },
    {
      "cell_type": "code",
      "metadata": {
        "pycharm": {
          "name": "#%%\n"
        },
        "id": "T7oAY8fNf-OF",
        "outputId": "69897bf1-146c-4852-8fdf-69cdffdc681c",
        "colab": {
          "base_uri": "https://localhost:8080/",
          "height": 350
        }
      },
      "source": [
        "a = []\n",
        "try:\n",
        "    work_with_a(a)\n",
        "except OverflowError:\n",
        "    print(\"Code harder and implement behavior for this condition\")"
      ],
      "execution_count": 11,
      "outputs": [
        {
          "output_type": "error",
          "ename": "NotImplementedError",
          "evalue": "ignored",
          "traceback": [
            "\u001b[0;31m---------------------------------------------------------------------------\u001b[0m",
            "\u001b[0;31mNotImplementedError\u001b[0m                       Traceback (most recent call last)",
            "\u001b[0;32m<ipython-input-11-06def3d6b624>\u001b[0m in \u001b[0;36m<module>\u001b[0;34m()\u001b[0m\n\u001b[1;32m      1\u001b[0m \u001b[0ma\u001b[0m \u001b[0;34m=\u001b[0m \u001b[0;34m[\u001b[0m\u001b[0;34m]\u001b[0m\u001b[0;34m\u001b[0m\u001b[0;34m\u001b[0m\u001b[0m\n\u001b[1;32m      2\u001b[0m \u001b[0;32mtry\u001b[0m\u001b[0;34m:\u001b[0m\u001b[0;34m\u001b[0m\u001b[0;34m\u001b[0m\u001b[0m\n\u001b[0;32m----> 3\u001b[0;31m     \u001b[0mwork_with_a\u001b[0m\u001b[0;34m(\u001b[0m\u001b[0ma\u001b[0m\u001b[0;34m)\u001b[0m\u001b[0;34m\u001b[0m\u001b[0;34m\u001b[0m\u001b[0m\n\u001b[0m\u001b[1;32m      4\u001b[0m \u001b[0;32mexcept\u001b[0m \u001b[0mOverflowError\u001b[0m\u001b[0;34m:\u001b[0m\u001b[0;34m\u001b[0m\u001b[0;34m\u001b[0m\u001b[0m\n\u001b[1;32m      5\u001b[0m     \u001b[0mprint\u001b[0m\u001b[0;34m(\u001b[0m\u001b[0;34m\"Code harder and implement behavior for this condition\"\u001b[0m\u001b[0;34m)\u001b[0m\u001b[0;34m\u001b[0m\u001b[0;34m\u001b[0m\u001b[0m\n",
            "\u001b[0;32m<ipython-input-9-e018113dc455>\u001b[0m in \u001b[0;36mwork_with_a\u001b[0;34m(array)\u001b[0m\n\u001b[1;32m      1\u001b[0m \u001b[0;32mdef\u001b[0m \u001b[0mwork_with_a\u001b[0m\u001b[0;34m(\u001b[0m\u001b[0marray\u001b[0m\u001b[0;34m:\u001b[0m \u001b[0mlist\u001b[0m\u001b[0;34m)\u001b[0m \u001b[0;34m->\u001b[0m \u001b[0mfloat\u001b[0m\u001b[0;34m:\u001b[0m\u001b[0;34m\u001b[0m\u001b[0;34m\u001b[0m\u001b[0m\n\u001b[1;32m      2\u001b[0m     \u001b[0;32mif\u001b[0m \u001b[0;32mnot\u001b[0m \u001b[0marray\u001b[0m\u001b[0;34m:\u001b[0m\u001b[0;34m\u001b[0m\u001b[0;34m\u001b[0m\u001b[0m\n\u001b[0;32m----> 3\u001b[0;31m         \u001b[0;32mraise\u001b[0m \u001b[0mNotImplementedError\u001b[0m\u001b[0;34m(\u001b[0m\u001b[0;34m\"Functionality for array of size 0 is not implemented\"\u001b[0m\u001b[0;34m)\u001b[0m\u001b[0;34m\u001b[0m\u001b[0;34m\u001b[0m\u001b[0m\n\u001b[0m\u001b[1;32m      4\u001b[0m     \u001b[0;32mreturn\u001b[0m \u001b[0msum\u001b[0m\u001b[0;34m(\u001b[0m\u001b[0ma\u001b[0m\u001b[0;34m)\u001b[0m\u001b[0;34m/\u001b[0m\u001b[0mlen\u001b[0m\u001b[0;34m(\u001b[0m\u001b[0ma\u001b[0m\u001b[0;34m)\u001b[0m\u001b[0;34m\u001b[0m\u001b[0;34m\u001b[0m\u001b[0m\n\u001b[1;32m      5\u001b[0m \u001b[0;34m\u001b[0m\u001b[0m\n",
            "\u001b[0;31mNotImplementedError\u001b[0m: Functionality for array of size 0 is not implemented"
          ]
        }
      ]
    },
    {
      "cell_type": "code",
      "metadata": {
        "pycharm": {
          "name": "#%%\n"
        },
        "id": "Pm8h6zs7f-OH",
        "outputId": "414bbf23-51b7-4777-b342-f5377e705e34",
        "colab": {
          "base_uri": "https://localhost:8080/",
          "height": 34
        }
      },
      "source": [
        "a = []\n",
        "try:\n",
        "    work_with_a(a)\n",
        "except:\n",
        "    print(\"Code harder and implement behavior for this condition\")"
      ],
      "execution_count": 12,
      "outputs": [
        {
          "output_type": "stream",
          "text": [
            "Code harder and implement behavior for this condition\n"
          ],
          "name": "stdout"
        }
      ]
    },
    {
      "cell_type": "code",
      "metadata": {
        "pycharm": {
          "name": "#%%\n"
        },
        "id": "tcHBSILcf-OJ",
        "outputId": "a4ee3c3a-1080-4525-9900-0379574407d5",
        "colab": {
          "base_uri": "https://localhost:8080/",
          "height": 85
        }
      },
      "source": [
        "import sys\n",
        "\n",
        "def open_file():\n",
        "    try:\n",
        "        f = open('myfile.txt')\n",
        "        s = f.readline()\n",
        "        i = int(s.strip())\n",
        "    except IOError as e:\n",
        "        print (\"I/O error({0}): {1}\".format(e.errno, e.strerror))\n",
        "        raise Exception(\"New exception\") from e\n",
        "    except ValueError:\n",
        "        print (\"Could not convert data to an integer.\")\n",
        "        raise\n",
        "    except:\n",
        "        print (\"Unexpected error:\", sys.exc_info()[0])\n",
        "        raise\n",
        "\n",
        "try:\n",
        "    open_file()\n",
        "except Exception as e:\n",
        "    print()\n",
        "    print(e.__context__)\n",
        "    print(e)"
      ],
      "execution_count": 13,
      "outputs": [
        {
          "output_type": "stream",
          "text": [
            "I/O error(2): No such file or directory\n",
            "\n",
            "[Errno 2] No such file or directory: 'myfile.txt'\n",
            "New exception\n"
          ],
          "name": "stdout"
        }
      ]
    },
    {
      "cell_type": "code",
      "metadata": {
        "pycharm": {
          "name": "#%%\n"
        },
        "id": "M02FdoV9f-OM",
        "outputId": "058e7a09-2b6c-4dbd-f891-f5649b8a8df6",
        "colab": {
          "base_uri": "https://localhost:8080/",
          "height": 51
        }
      },
      "source": [
        "try:\n",
        "    raise 2\n",
        "except Exception as e:\n",
        "    print(e)\n",
        "    print(type(e))"
      ],
      "execution_count": 14,
      "outputs": [
        {
          "output_type": "stream",
          "text": [
            "exceptions must derive from BaseException\n",
            "<class 'TypeError'>\n"
          ],
          "name": "stdout"
        }
      ]
    },
    {
      "cell_type": "markdown",
      "metadata": {
        "collapsed": false,
        "pycharm": {
          "name": "#%% md\n"
        },
        "id": "GdEY421jf-OO"
      },
      "source": [
        "### Break\n",
        "\n",
        "## OOP - Object oriented programming\n",
        "\n",
        "* Encapsulation\n",
        "  *  It describes the idea of bundling data and methods that work on that data within one unit, e.g., a class\n",
        "* Inheritance\n",
        "  * The ability for a class to extend or override functionality of another class.\n",
        "* Abstraction\n",
        "* Polymorphism\n",
        "  * The ability to replace an object with its subobjects.\n",
        "\n",
        "* **img/oop.png**"
      ]
    },
    {
      "cell_type": "code",
      "metadata": {
        "pycharm": {
          "name": "#%%\n"
        },
        "id": "3LrsZfg8f-OO"
      },
      "source": [
        "# https://naucse.python.cz/course/pyladies/beginners/class/\n",
        "# https://naucse.python.cz/course/pyladies/beginners/inheritance/\n",
        "\n",
        "class Animal:\n",
        "    encapsulated_variable = \"Animal\"\n",
        "    position_X = 0.\n",
        "    position_Y = 0.\n",
        "\n",
        "    def __init__(self, name):\n",
        "        self.name = name\n",
        "\n",
        "    def make_sound(self):\n",
        "        pass\n",
        "\n",
        "    def go_up(self):\n",
        "        print(\"Moving\")\n",
        "        self.position_Y += 1.\n",
        "\n",
        "    def __str__(self):\n",
        "        return f\"I am {self.name} and my position is {self.position_X}:{self.position_Y}\"\n",
        "\n",
        "class Dog(Animal):\n",
        "    encapsulated_variable = \"Animal\"\n",
        "    \n",
        "    def __init__(self, name=None):\n",
        "        super(Dog, self).__init__(name=name or \"Dog\")\n",
        "    \n",
        "    def make_sound(self):\n",
        "        print(f\"{self.name} is making: Haf\")\n",
        "\n",
        "    def go_up(self):\n",
        "        super(Dog, self).go_up()\n",
        "        super(Dog, self).go_up()\n",
        "\n",
        "class Cat(Animal):\n",
        "    encapsulated_variable = \"Cat\"\n",
        "\n",
        "    def __init__(self, name=\"Cat\"):\n",
        "        super(Cat, self).__init__(name)\n",
        "\n",
        "    def make_sound(self):\n",
        "        print(f\"{self.name} is making: Mnau\")\n",
        "\n",
        "    def go_up(self):\n",
        "        self.position_Y += 1.5\n",
        "\n",
        "pets = [Dog(\"Alik\"), Cat(\"Linda\"), Cat(\"Tapka\")]\n",
        "\n",
        "for pet in pets:\n",
        "    print(pet)\n",
        "    print(pet.encapsulated_variable)\n",
        "    pet.go_up()\n",
        "    pet.make_sound()\n",
        "    print(pet)\n",
        "    print()"
      ],
      "execution_count": null,
      "outputs": []
    },
    {
      "cell_type": "markdown",
      "metadata": {
        "collapsed": false,
        "pycharm": {
          "name": "#%% md\n"
        },
        "id": "iA9LMbL_f-OQ"
      },
      "source": [
        "* oop2.py\n",
        "* oop3.py\n",
        "* oop4.py\n",
        "\n",
        "\n",
        "Break and back to errors"
      ]
    },
    {
      "cell_type": "code",
      "metadata": {
        "pycharm": {
          "name": "#%%\n"
        },
        "id": "H-KrwOzff-OR"
      },
      "source": [
        "import traceback\n",
        "a = []\n",
        "try:\n",
        "    print(\"Try block\")\n",
        "    avg = sum(a)/len(a)\n",
        "except:\n",
        "    traceback.format_exc()\n",
        "except TypeError as e:\n",
        "    print('Operation not supported for', str(e) )\n",
        "except (KeyError, IndexError) as e:\n",
        "    print('Key not present in array')\n",
        "except ZeroDivisionError:\n",
        "    print(\"Trying to dividing by zero\")\n",
        "else:\n",
        "    print(\"Else block\")\n",
        "finally:\n",
        "    avg = 0\n",
        "\n",
        "print(f\"Average is {avg}\")"
      ],
      "execution_count": null,
      "outputs": []
    },
    {
      "cell_type": "code",
      "metadata": {
        "pycharm": {
          "name": "#%%\n"
        },
        "id": "2XOlLDbbf-OT"
      },
      "source": [
        "class IncorrectMove(object):\n",
        "    pass"
      ],
      "execution_count": 17,
      "outputs": []
    },
    {
      "cell_type": "code",
      "metadata": {
        "pycharm": {
          "name": "#%%\n"
        },
        "id": "KOodr1_Df-OV",
        "outputId": "b3d3f002-376b-405d-b05c-5e21ff63b02a",
        "colab": {
          "base_uri": "https://localhost:8080/",
          "height": 163
        }
      },
      "source": [
        "raise IncorrectMove()"
      ],
      "execution_count": 19,
      "outputs": [
        {
          "output_type": "error",
          "ename": "TypeError",
          "evalue": "ignored",
          "traceback": [
            "\u001b[0;31m---------------------------------------------------------------------------\u001b[0m",
            "\u001b[0;31mTypeError\u001b[0m                                 Traceback (most recent call last)",
            "\u001b[0;32m<ipython-input-19-86bc53f0ab79>\u001b[0m in \u001b[0;36m<module>\u001b[0;34m()\u001b[0m\n\u001b[0;32m----> 1\u001b[0;31m \u001b[0;32mraise\u001b[0m \u001b[0mIncorrectMove\u001b[0m\u001b[0;34m(\u001b[0m\u001b[0;34m)\u001b[0m\u001b[0;34m\u001b[0m\u001b[0;34m\u001b[0m\u001b[0m\n\u001b[0m",
            "\u001b[0;31mTypeError\u001b[0m: exceptions must derive from BaseException"
          ]
        }
      ]
    },
    {
      "cell_type": "markdown",
      "metadata": {
        "collapsed": false,
        "pycharm": {
          "name": "#%% md\n"
        },
        "id": "dt3Dn5lRf-OX"
      },
      "source": [
        "#### Error Report\n",
        "\n",
        "Where is what?\n",
        "\n",
        "```\n",
        "$ python3 load_db.py\n",
        "Traceback (most recent call last):\n",
        "  File \"load_db.py\", line 1, in <module>\n",
        "    file = open('nonexistent.txt')\n",
        "FileNotFoundError: [Errno 2] No such file or directory: 'nonexistent.txt'\n",
        "```\n",
        "\n",
        "* Traceback\n",
        "* Error Type\n",
        "* Error Value"
      ]
    },
    {
      "cell_type": "code",
      "metadata": {
        "pycharm": {
          "name": "#%%\n"
        },
        "id": "fvZh6DX2f-OY"
      },
      "source": [
        "import sys\n",
        "import traceback\n",
        "\n",
        "def avg(sequence):\n",
        "    try:\n",
        "        return my_sum(sequence) / count(sequence)\n",
        "    except Exception:\n",
        "        with open('./log.txt', 'a') as f:\n",
        "            logger(sys.exc_info(),file=f)\n",
        "\n",
        "def logger(exception_info,*, file=sys.stdout):\n",
        "    summary = traceback.extract_tb(exception_info[2])\n",
        "    for s in summary:\n",
        "        print('\\nFILE {} / FUNCTION: {} / LINE {}: \\n\\t{}\\n'\n",
        "                .format(s.filename,s.name,s.lineno,s.line), file=file)\n",
        "    print('{.__name__}: {}'.format(*sys.exc_info()[:2]),file=file)\n",
        "\n",
        "avg([1,2,3,'a'])"
      ],
      "execution_count": null,
      "outputs": []
    },
    {
      "cell_type": "code",
      "metadata": {
        "pycharm": {
          "name": "#%%\n"
        },
        "id": "BbERemMQf-Oa"
      },
      "source": [
        "def count(sequence, target=None):\n",
        "    if not target:\n",
        "        return len(sequence)\n",
        "    else:\n",
        "        count = 0\n",
        "        for item in sequence:\n",
        "            count += item==target\n",
        "        return count\n",
        "\n",
        "def my_sum(sequence):\n",
        "    result = 0\n",
        "    for i in sequence:\n",
        "        result += i\n",
        "    return result\n",
        "\n",
        "def avg(sequence):\n",
        "    return my_sum(sequence) / count(sequence)\n",
        "\n",
        "avg([1,2,3,4,'a'])"
      ],
      "execution_count": null,
      "outputs": []
    },
    {
      "cell_type": "code",
      "metadata": {
        "pycharm": {
          "name": "#%%\n"
        },
        "id": "schRP3zMf-Oc"
      },
      "source": [
        "# solution?"
      ],
      "execution_count": null,
      "outputs": []
    },
    {
      "cell_type": "markdown",
      "metadata": {
        "collapsed": false,
        "pycharm": {
          "name": "#%% md\n"
        },
        "id": "jC1rAzYnf-Oe"
      },
      "source": [
        "Debugging in PyCharm\n",
        "\n"
      ]
    }
  ]
}