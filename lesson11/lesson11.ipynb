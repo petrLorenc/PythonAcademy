{
 "cells": [
  {
   "cell_type": "markdown",
   "metadata": {
    "collapsed": true,
    "pycharm": {
     "name": "#%% md\n"
    }
   },
   "source": [
    "# Lesson 11\n",
    "\n",
    " * Quiz + Questions\n",
    " * Tic-tac-toe questions?\n",
    "\n",
    "From previous lecture"
   ]
  },
  {
   "cell_type": "code",
   "execution_count": 60,
   "outputs": [
    {
     "data": {
      "text/plain": "['/home/petrlorenc/Documents/Skola/Engeto',\n '/home/petrlorenc/.virtualenvs/engeto/lib/python36.zip',\n '/home/petrlorenc/.virtualenvs/engeto/lib/python3.6',\n '/home/petrlorenc/.virtualenvs/engeto/lib/python3.6/lib-dynload',\n '/usr/lib/python3.6',\n '',\n '/home/petrlorenc/.virtualenvs/engeto/lib/python3.6/site-packages',\n '/home/petrlorenc/.virtualenvs/engeto/lib/python3.6/site-packages/IPython/extensions',\n '/home/petrlorenc/.ipython',\n '/snap/pycharm-professional/218/plugins/python/helpers/pydev',\n '/snap/pycharm-professional/218/plugins/python/helpers-pro/jupyter_debug',\n '/home/petrlorenc/Documents/Skola/Engeto',\n '/home/petrlorenc/Documents/Skola/Engeto']"
     },
     "execution_count": 60,
     "metadata": {},
     "output_type": "execute_result"
    }
   ],
   "source": [
    "import sys\n",
    "sys.path"
   ],
   "metadata": {
    "collapsed": false,
    "pycharm": {
     "name": "#%%\n"
    }
   }
  },
  {
   "cell_type": "code",
   "execution_count": 61,
   "outputs": [
    {
     "data": {
      "text/plain": "['/home/petrlorenc/Documents/Skola/Engeto',\n '/home/petrlorenc/.virtualenvs/engeto/lib/python36.zip',\n '/home/petrlorenc/.virtualenvs/engeto/lib/python3.6',\n '/home/petrlorenc/.virtualenvs/engeto/lib/python3.6/lib-dynload',\n '/usr/lib/python3.6',\n '',\n '/home/petrlorenc/.virtualenvs/engeto/lib/python3.6/site-packages',\n '/home/petrlorenc/.virtualenvs/engeto/lib/python3.6/site-packages/IPython/extensions',\n '/home/petrlorenc/.ipython',\n '/snap/pycharm-professional/218/plugins/python/helpers/pydev',\n '/snap/pycharm-professional/218/plugins/python/helpers-pro/jupyter_debug',\n '/home/petrlorenc/Documents/Skola/Engeto',\n '/home/petrlorenc/Documents/Skola/Engeto',\n '/home/petrlorenc/Documents/Skola/Engeto']"
     },
     "execution_count": 61,
     "metadata": {},
     "output_type": "execute_result"
    }
   ],
   "source": [
    "import sys\n",
    "import os\n",
    "from os.path import dirname\n",
    "\n",
    "sys.path += [dirname(os.getcwd())]\n",
    "sys.path # places where python looks for imports - we can add our own path during execution of program"
   ],
   "metadata": {
    "collapsed": false,
    "pycharm": {
     "name": "#%%\n"
    }
   }
  },
  {
   "cell_type": "markdown",
   "source": [
    "When Python imports module into another module, it performs these two actions:\n",
    "\n",
    "* Search for the imported module\n",
    "* Module compilation into bytecode\n",
    "* Running the code found inside the imported module\n",
    "\n",
    "All this loading steps take place only the first time when import statement is encountered during the execution of a program.\n",
    "\n",
    "Once the module is found, it has to be loaded into the importing program. The goal of loading the module into a program is a creation of module object.\n",
    "\n",
    "Every variable declared in the global scope of the imported module is loaded into the importing script. These variables are then accessible as imported object attributes using the dot notation."
   ],
   "metadata": {
    "collapsed": false
   }
  },
  {
   "cell_type": "markdown",
   "source": [
    "### Data hiding\n",
    "\n",
    "By data hiding we refer to the fact, that the programmer can specify, what module attributes cannot be imported using\n",
    "\n",
    "```from module import *```\n",
    "\n",
    " syntax. This specification can have 2 forms:\n",
    "\n",
    "* Variable names beginning with a single underscore **will not** be imported\n",
    "* Using \\_\\_all\\_\\_ variable to specify what **will be** imported"
   ],
   "metadata": {
    "collapsed": false
   }
  },
  {
   "cell_type": "code",
   "execution_count": 62,
   "outputs": [],
   "source": [
    "from lesson11.my_module.data_hiding import *"
   ],
   "metadata": {
    "collapsed": false,
    "pycharm": {
     "name": "#%%\n"
    }
   }
  },
  {
   "cell_type": "code",
   "execution_count": 63,
   "outputs": [
    {
     "ename": "NameError",
     "evalue": "name '__secret__' is not defined",
     "output_type": "error",
     "traceback": [
      "\u001B[0;31m---------------------------------------------------------------------------\u001B[0m",
      "\u001B[0;31mNameError\u001B[0m                                 Traceback (most recent call last)",
      "\u001B[0;32m<ipython-input-63-b5c244d1ffdb>\u001B[0m in \u001B[0;36m<module>\u001B[0;34m\u001B[0m\n\u001B[0;32m----> 1\u001B[0;31m \u001B[0m__secret__\u001B[0m\u001B[0;34m(\u001B[0m\u001B[0;34m)\u001B[0m\u001B[0;34m\u001B[0m\u001B[0;34m\u001B[0m\u001B[0m\n\u001B[0m\u001B[1;32m      2\u001B[0m \u001B[0;34m\u001B[0m\u001B[0m\n",
      "\u001B[0;31mNameError\u001B[0m: name '__secret__' is not defined"
     ]
    }
   ],
   "source": [
    "__secret__()"
   ],
   "metadata": {
    "collapsed": false,
    "pycharm": {
     "name": "#%%\n"
    }
   }
  },
  {
   "cell_type": "code",
   "execution_count": 64,
   "outputs": [
    {
     "data": {
      "text/plain": "52"
     },
     "execution_count": 64,
     "metadata": {},
     "output_type": "execute_result"
    }
   ],
   "source": [
    "var1"
   ],
   "metadata": {
    "collapsed": false,
    "pycharm": {
     "name": "#%%\n"
    }
   }
  },
  {
   "cell_type": "code",
   "execution_count": 65,
   "outputs": [
    {
     "data": {
      "text/plain": "4"
     },
     "execution_count": 65,
     "metadata": {},
     "output_type": "execute_result"
    }
   ],
   "source": [
    "func(1,3)"
   ],
   "metadata": {
    "collapsed": false,
    "pycharm": {
     "name": "#%%\n"
    }
   }
  },
  {
   "cell_type": "code",
   "execution_count": 66,
   "outputs": [
    {
     "data": {
      "text/plain": "'Password123'"
     },
     "execution_count": 66,
     "metadata": {},
     "output_type": "execute_result"
    }
   ],
   "source": [
    "_secret"
   ],
   "metadata": {
    "collapsed": false,
    "pycharm": {
     "name": "#%%\n"
    }
   }
  },
  {
   "cell_type": "code",
   "execution_count": 67,
   "outputs": [],
   "source": [
    "from lesson11.my_module.data_hiding import _secret"
   ],
   "metadata": {
    "collapsed": false,
    "pycharm": {
     "name": "#%%\n"
    }
   }
  },
  {
   "cell_type": "code",
   "execution_count": 68,
   "outputs": [
    {
     "data": {
      "text/plain": "'Password123'"
     },
     "execution_count": 68,
     "metadata": {},
     "output_type": "execute_result"
    }
   ],
   "source": [
    "_secret\n"
   ],
   "metadata": {
    "collapsed": false,
    "pycharm": {
     "name": "#%%\n"
    }
   }
  },
  {
   "cell_type": "code",
   "execution_count": 69,
   "outputs": [],
   "source": [
    "from lesson11.my_module.data_hiding2 import *"
   ],
   "metadata": {
    "collapsed": false,
    "pycharm": {
     "name": "#%%\n"
    }
   }
  },
  {
   "cell_type": "code",
   "execution_count": 70,
   "outputs": [
    {
     "data": {
      "text/plain": "100"
     },
     "execution_count": 70,
     "metadata": {},
     "output_type": "execute_result"
    }
   ],
   "source": [
    "var1"
   ],
   "metadata": {
    "collapsed": false,
    "pycharm": {
     "name": "#%%\n"
    }
   }
  },
  {
   "cell_type": "code",
   "execution_count": 71,
   "outputs": [
    {
     "data": {
      "text/plain": "53"
     },
     "execution_count": 71,
     "metadata": {},
     "output_type": "execute_result"
    }
   ],
   "source": [
    "var2"
   ],
   "metadata": {
    "collapsed": false,
    "pycharm": {
     "name": "#%%\n"
    }
   }
  },
  {
   "cell_type": "code",
   "execution_count": 72,
   "outputs": [],
   "source": [
    "import lesson11.my_module.mod"
   ],
   "metadata": {
    "collapsed": false,
    "pycharm": {
     "name": "#%%\n"
    }
   }
  },
  {
   "cell_type": "markdown",
   "source": [
    "What is \\_\\_pycache\\_\\_ directory directory and what is its content?"
   ],
   "metadata": {
    "collapsed": false,
    "pycharm": {
     "name": "#%% md\n"
    }
   }
  },
  {
   "cell_type": "markdown",
   "source": [
    "### STEP 0:\n",
    "\n",
    "no_oop.py\n",
    "\n",
    "### STEP 1:\n",
    "\n",
    "OPP\n",
    " - class FileHandler\n",
    " - class Episode\n",
    "\n",
    "### STEP 2:\n",
    "\n",
    "Module\n",
    " - series/handlers.py\n",
    " - series/data_objects/episode.py\n",
    "\n",
    "### STEP 3:\n",
    "\n",
    "OOP folder\n",
    "\n",
    "### STEP 4:\n",
    "\n",
    "Module\n",
    " - series2/handlers.py\n",
    " - series2/data_objects/episode.py"
   ],
   "metadata": {
    "collapsed": false,
    "pycharm": {
     "name": "#%% md\n"
    }
   }
  },
  {
   "cell_type": "markdown",
   "source": [
    "### Files\n",
    "\n",
    "* Kaggle.com - find your own CSV dataset\n",
    "\n",
    "### CSV\n",
    "\n",
    "CSV is a simple file format used to store tabular data, such as a spreadsheet or database. Files in the CSV format can be imported to and exported from programs that store data in tables, such as Microsoft Excel or OpenOffice Calc. CSV stands for \"comma-separated values\"\n",
    "\n",
    "#### CSV dialects\n",
    "There is no well-defined standard for comma-separated value files. Therefore, different csv files might differ in certain things.\n",
    "\n",
    "Some csv files might:\n",
    "\n",
    "* use different delimiters\n",
    "* may omit headers\n",
    "* escape special characters in different manners"
   ],
   "metadata": {
    "collapsed": false,
    "pycharm": {
     "name": "#%% md\n"
    }
   }
  },
  {
   "cell_type": "code",
   "execution_count": 73,
   "outputs": [
    {
     "name": "stdout",
     "output_type": "stream",
     "text": [
      "['id', 'name', 'host_id', 'host_name', 'neighbourhood_group', 'neighbourhood', 'latitude', 'longitude', 'room_type', 'price', 'minimum_nights', 'number_of_reviews', 'last_review', 'reviews_per_month', 'calculated_host_listings_count', 'availability_365']\n"
     ]
    }
   ],
   "source": [
    "import csv\n",
    "\n",
    "file = \"./data/AirBnB_new_york.csv\"\n",
    "\n",
    "with open(file, \"r\") as f:\n",
    "    reader = csv.reader(f)\n",
    "    for line in reader:\n",
    "        print(line)\n",
    "        break\n"
   ],
   "metadata": {
    "collapsed": false,
    "pycharm": {
     "name": "#%%\n"
    }
   }
  },
  {
   "cell_type": "code",
   "execution_count": 17,
   "outputs": [
    {
     "name": "stdout",
     "output_type": "stream",
     "text": [
      "['id', 'name', 'host_id', 'host_name', 'neighbourhood_group', 'neighbourhood', 'latitude', 'longitude', 'room_type', 'price', 'minimum_nights', 'number_of_reviews', 'last_review', 'reviews_per_month', 'calculated_host_listings_count', 'availability_365']\n"
     ]
    }
   ],
   "source": [
    "with open(file, \"r\") as f:\n",
    "    reader = csv.reader(f, delimiter=\",\")\n",
    "    for line in reader:\n",
    "        print(line)\n",
    "        break"
   ],
   "metadata": {
    "collapsed": false,
    "pycharm": {
     "name": "#%%\n"
    }
   }
  },
  {
   "cell_type": "code",
   "execution_count": 25,
   "outputs": [
    {
     "name": "stdout",
     "output_type": "stream",
     "text": [
      "<class 'csv.DictReader'>\n",
      "{\n",
      "    \"id\": \"2539\",\n",
      "    \"name\": \"Clean & quiet apt home by the park\",\n",
      "    \"host_id\": \"2787\",\n",
      "    \"host_name\": \"John\",\n",
      "    \"neighbourhood_group\": \"Brooklyn\",\n",
      "    \"neighbourhood\": \"Kensington\",\n",
      "    \"latitude\": \"40.64749\",\n",
      "    \"longitude\": \"-73.97237\",\n",
      "    \"room_type\": \"Private room\",\n",
      "    \"price\": \"149\",\n",
      "    \"minimum_nights\": \"1\",\n",
      "    \"number_of_reviews\": \"9\",\n",
      "    \"last_review\": \"2018-10-19\",\n",
      "    \"reviews_per_month\": \"0.21\",\n",
      "    \"calculated_host_listings_count\": \"6\",\n",
      "    \"availability_365\": \"365\"\n",
      "}\n"
     ]
    }
   ],
   "source": [
    "import json\n",
    "with open(file, \"r\") as f:\n",
    "    reader = csv.DictReader(f, delimiter=\",\")\n",
    "    print(type(reader))\n",
    "    for line in reader:\n",
    "        print(json.dumps(dict(line), indent=4))\n",
    "        break\n",
    "# OrderedDict - dict subclass that remembers the order entries were added"
   ],
   "metadata": {
    "collapsed": false,
    "pycharm": {
     "name": "#%%\n"
    }
   }
  },
  {
   "cell_type": "code",
   "execution_count": 23,
   "outputs": [
    {
     "name": "stdout",
     "output_type": "stream",
     "text": [
      "[\n",
      "  [\n",
      "    \"Manhattan\",\n",
      "    21661\n",
      "  ],\n",
      "  [\n",
      "    \"Brooklyn\",\n",
      "    20104\n",
      "  ],\n",
      "  [\n",
      "    \"Queens\",\n",
      "    5666\n",
      "  ],\n",
      "  [\n",
      "    \"Bronx\",\n",
      "    1091\n",
      "  ],\n",
      "  [\n",
      "    \"Staten Island\",\n",
      "    373\n",
      "  ]\n",
      "]\n"
     ]
    }
   ],
   "source": [
    "\n",
    "\n",
    "\n",
    "\n",
    "import json\n",
    "\n",
    "\n",
    "f = open(file, \"r\")\n",
    "\n",
    "reader = csv.DictReader(f, delimiter=\",\")\n",
    "\n",
    "from collections import Counter\n",
    "cnt = Counter([d[\"neighbourhood_group\"] for d in reader])\n",
    "print(json.dumps(cnt.most_common(5), indent=2))\n",
    "\n",
    "f.close()\n"
   ],
   "metadata": {
    "collapsed": false,
    "pycharm": {
     "name": "#%%\n"
    }
   }
  },
  {
   "cell_type": "code",
   "execution_count": 27,
   "outputs": [
    {
     "data": {
      "text/plain": "[(5, 2), (9, 1)]"
     },
     "execution_count": 27,
     "metadata": {},
     "output_type": "execute_result"
    }
   ],
   "source": [
    "Counter([5,9,3,4,5]).most_common(2)\n",
    "\n",
    "\n",
    "\n",
    "\n",
    "\n",
    "\n"
   ],
   "metadata": {
    "collapsed": false,
    "pycharm": {
     "name": "#%%\n"
    }
   }
  },
  {
   "cell_type": "code",
   "execution_count": 39,
   "outputs": [
    {
     "name": "stdout",
     "output_type": "stream",
     "text": [
      "Most common neighbourhood\n",
      "Manhattan -> 21661\n",
      "Brooklyn -> 20104\n",
      "Queens -> 5666\n",
      "Bronx -> 1091\n",
      "Staten Island -> 373\n",
      "\n",
      "Average price ($)\n",
      "152.7206871868289\n",
      "\n",
      "Average price for: Bronx is 87.4967919340055\n",
      "Average price for: Staten Island is 114.81233243967829\n",
      "Average price for: Manhattan is 196.8758136743456\n",
      "Average price for: Brooklyn is 124.38320732192598\n",
      "Average price for: Queens is 99.51764913519237\n"
     ]
    }
   ],
   "source": [
    "with open(file, \"r\") as f:\n",
    "    reader = csv.DictReader(f, delimiter=\",\")\n",
    "    data = [x for x in reader]\n",
    "\n",
    "\n",
    "from collections import Counter\n",
    "cnt = Counter([d[\"neighbourhood_group\"] for d in data])\n",
    "print(\"Most common neighbourhood\")\n",
    "print(\"\\n\".join([f\"{x} -> {y}\" for x, y in cnt.most_common(5)]))\n",
    "\n",
    "print()\n",
    "print(\"Average price ($)\")\n",
    "print(sum([int(x[\"price\"]) for x in data])/len(data))\n",
    "\n",
    "print()\n",
    "neigh = set([x[\"neighbourhood_group\"] for x in data])\n",
    "for n in neigh:\n",
    "    prices = [int(x[\"price\"]) for x in data if x[\"neighbourhood_group\"] == n]\n",
    "    print(f\"Average price for: {n} is {sum(prices)/len(prices)}\")\n",
    "\n"
   ],
   "metadata": {
    "collapsed": false,
    "pycharm": {
     "name": "#%%\n"
    }
   }
  },
  {
   "cell_type": "code",
   "execution_count": 42,
   "outputs": [
    {
     "data": {
      "text/plain": "[('Manhattan', 21661),\n ('Brooklyn', 20104),\n ('Queens', 5666),\n ('Bronx', 1091),\n ('Staten Island', 373)]"
     },
     "execution_count": 42,
     "metadata": {},
     "output_type": "execute_result"
    }
   ],
   "source": [
    "\n",
    "\n",
    "\n",
    "\n",
    "\n",
    "\n",
    "\n",
    "\n",
    "\n",
    "\n",
    "\n",
    "\n",
    "\n",
    "\n",
    "\n",
    "\n",
    "\n",
    "\n",
    "\n",
    "\n",
    "\n",
    "\n",
    "\n",
    "with open(file, \"r\") as f:\n",
    "    reader = csv.DictReader(f, delimiter=\",\")\n",
    "    data = list(reader)\n",
    "\n",
    "from collections import Counter\n",
    "cnt = Counter([d[\"neighbourhood_group\"] for d in data])\n",
    "cnt.most_common(5)\n"
   ],
   "metadata": {
    "collapsed": false,
    "pycharm": {
     "name": "#%%\n"
    }
   }
  },
  {
   "cell_type": "code",
   "execution_count": 46,
   "outputs": [
    {
     "ename": "JSONDecodeError",
     "evalue": "Expecting property name enclosed in double quotes: line 1 column 2 (char 1)",
     "output_type": "error",
     "traceback": [
      "\u001B[0;31m---------------------------------------------------------------------------\u001B[0m",
      "\u001B[0;31mJSONDecodeError\u001B[0m                           Traceback (most recent call last)",
      "\u001B[0;32m<ipython-input-46-e831303dfafe>\u001B[0m in \u001B[0;36m<module>\u001B[0;34m\u001B[0m\n\u001B[1;32m      1\u001B[0m \u001B[0;32mimport\u001B[0m \u001B[0mjson\u001B[0m\u001B[0;34m\u001B[0m\u001B[0;34m\u001B[0m\u001B[0m\n\u001B[1;32m      2\u001B[0m \u001B[0;34m\u001B[0m\u001B[0m\n\u001B[0;32m----> 3\u001B[0;31m \u001B[0mjson\u001B[0m\u001B[0;34m.\u001B[0m\u001B[0mloads\u001B[0m\u001B[0;34m(\u001B[0m\u001B[0;34m\"{'qqq' : None}\"\u001B[0m\u001B[0;34m)\u001B[0m\u001B[0;34m\u001B[0m\u001B[0;34m\u001B[0m\u001B[0m\n\u001B[0m\u001B[1;32m      4\u001B[0m \u001B[0;34m\u001B[0m\u001B[0m\n",
      "\u001B[0;32m/usr/lib/python3.6/json/__init__.py\u001B[0m in \u001B[0;36mloads\u001B[0;34m(s, encoding, cls, object_hook, parse_float, parse_int, parse_constant, object_pairs_hook, **kw)\u001B[0m\n\u001B[1;32m    352\u001B[0m             \u001B[0mparse_int\u001B[0m \u001B[0;32mis\u001B[0m \u001B[0;32mNone\u001B[0m \u001B[0;32mand\u001B[0m \u001B[0mparse_float\u001B[0m \u001B[0;32mis\u001B[0m \u001B[0;32mNone\u001B[0m \u001B[0;32mand\u001B[0m\u001B[0;34m\u001B[0m\u001B[0;34m\u001B[0m\u001B[0m\n\u001B[1;32m    353\u001B[0m             parse_constant is None and object_pairs_hook is None and not kw):\n\u001B[0;32m--> 354\u001B[0;31m         \u001B[0;32mreturn\u001B[0m \u001B[0m_default_decoder\u001B[0m\u001B[0;34m.\u001B[0m\u001B[0mdecode\u001B[0m\u001B[0;34m(\u001B[0m\u001B[0ms\u001B[0m\u001B[0;34m)\u001B[0m\u001B[0;34m\u001B[0m\u001B[0;34m\u001B[0m\u001B[0m\n\u001B[0m\u001B[1;32m    355\u001B[0m     \u001B[0;32mif\u001B[0m \u001B[0mcls\u001B[0m \u001B[0;32mis\u001B[0m \u001B[0;32mNone\u001B[0m\u001B[0;34m:\u001B[0m\u001B[0;34m\u001B[0m\u001B[0;34m\u001B[0m\u001B[0m\n\u001B[1;32m    356\u001B[0m         \u001B[0mcls\u001B[0m \u001B[0;34m=\u001B[0m \u001B[0mJSONDecoder\u001B[0m\u001B[0;34m\u001B[0m\u001B[0;34m\u001B[0m\u001B[0m\n",
      "\u001B[0;32m/usr/lib/python3.6/json/decoder.py\u001B[0m in \u001B[0;36mdecode\u001B[0;34m(self, s, _w)\u001B[0m\n\u001B[1;32m    337\u001B[0m \u001B[0;34m\u001B[0m\u001B[0m\n\u001B[1;32m    338\u001B[0m         \"\"\"\n\u001B[0;32m--> 339\u001B[0;31m         \u001B[0mobj\u001B[0m\u001B[0;34m,\u001B[0m \u001B[0mend\u001B[0m \u001B[0;34m=\u001B[0m \u001B[0mself\u001B[0m\u001B[0;34m.\u001B[0m\u001B[0mraw_decode\u001B[0m\u001B[0;34m(\u001B[0m\u001B[0ms\u001B[0m\u001B[0;34m,\u001B[0m \u001B[0midx\u001B[0m\u001B[0;34m=\u001B[0m\u001B[0m_w\u001B[0m\u001B[0;34m(\u001B[0m\u001B[0ms\u001B[0m\u001B[0;34m,\u001B[0m \u001B[0;36m0\u001B[0m\u001B[0;34m)\u001B[0m\u001B[0;34m.\u001B[0m\u001B[0mend\u001B[0m\u001B[0;34m(\u001B[0m\u001B[0;34m)\u001B[0m\u001B[0;34m)\u001B[0m\u001B[0;34m\u001B[0m\u001B[0;34m\u001B[0m\u001B[0m\n\u001B[0m\u001B[1;32m    340\u001B[0m         \u001B[0mend\u001B[0m \u001B[0;34m=\u001B[0m \u001B[0m_w\u001B[0m\u001B[0;34m(\u001B[0m\u001B[0ms\u001B[0m\u001B[0;34m,\u001B[0m \u001B[0mend\u001B[0m\u001B[0;34m)\u001B[0m\u001B[0;34m.\u001B[0m\u001B[0mend\u001B[0m\u001B[0;34m(\u001B[0m\u001B[0;34m)\u001B[0m\u001B[0;34m\u001B[0m\u001B[0;34m\u001B[0m\u001B[0m\n\u001B[1;32m    341\u001B[0m         \u001B[0;32mif\u001B[0m \u001B[0mend\u001B[0m \u001B[0;34m!=\u001B[0m \u001B[0mlen\u001B[0m\u001B[0;34m(\u001B[0m\u001B[0ms\u001B[0m\u001B[0;34m)\u001B[0m\u001B[0;34m:\u001B[0m\u001B[0;34m\u001B[0m\u001B[0;34m\u001B[0m\u001B[0m\n",
      "\u001B[0;32m/usr/lib/python3.6/json/decoder.py\u001B[0m in \u001B[0;36mraw_decode\u001B[0;34m(self, s, idx)\u001B[0m\n\u001B[1;32m    353\u001B[0m         \"\"\"\n\u001B[1;32m    354\u001B[0m         \u001B[0;32mtry\u001B[0m\u001B[0;34m:\u001B[0m\u001B[0;34m\u001B[0m\u001B[0;34m\u001B[0m\u001B[0m\n\u001B[0;32m--> 355\u001B[0;31m             \u001B[0mobj\u001B[0m\u001B[0;34m,\u001B[0m \u001B[0mend\u001B[0m \u001B[0;34m=\u001B[0m \u001B[0mself\u001B[0m\u001B[0;34m.\u001B[0m\u001B[0mscan_once\u001B[0m\u001B[0;34m(\u001B[0m\u001B[0ms\u001B[0m\u001B[0;34m,\u001B[0m \u001B[0midx\u001B[0m\u001B[0;34m)\u001B[0m\u001B[0;34m\u001B[0m\u001B[0;34m\u001B[0m\u001B[0m\n\u001B[0m\u001B[1;32m    356\u001B[0m         \u001B[0;32mexcept\u001B[0m \u001B[0mStopIteration\u001B[0m \u001B[0;32mas\u001B[0m \u001B[0merr\u001B[0m\u001B[0;34m:\u001B[0m\u001B[0;34m\u001B[0m\u001B[0;34m\u001B[0m\u001B[0m\n\u001B[1;32m    357\u001B[0m             \u001B[0;32mraise\u001B[0m \u001B[0mJSONDecodeError\u001B[0m\u001B[0;34m(\u001B[0m\u001B[0;34m\"Expecting value\"\u001B[0m\u001B[0;34m,\u001B[0m \u001B[0ms\u001B[0m\u001B[0;34m,\u001B[0m \u001B[0merr\u001B[0m\u001B[0;34m.\u001B[0m\u001B[0mvalue\u001B[0m\u001B[0;34m)\u001B[0m \u001B[0;32mfrom\u001B[0m \u001B[0;32mNone\u001B[0m\u001B[0;34m\u001B[0m\u001B[0;34m\u001B[0m\u001B[0m\n",
      "\u001B[0;31mJSONDecodeError\u001B[0m: Expecting property name enclosed in double quotes: line 1 column 2 (char 1)"
     ]
    }
   ],
   "source": [
    "import json\n",
    "\n",
    "json.loads(\"{'qqq' : None}\")"
   ],
   "metadata": {
    "collapsed": false,
    "pycharm": {
     "name": "#%%\n"
    }
   }
  },
  {
   "cell_type": "markdown",
   "source": [
    "### JSON\n",
    "The format of JSON encoding is almost identical to Python syntax except for a few minor changes:\n",
    "\n",
    "* non-string dictionary keys are converted to strings\n",
    "* True is mapped to 'true' , False is mapped to 'false'\n",
    "* None is mapped to null\n",
    "* single quotes on strings are converted to double quotes\n",
    "\n"
   ],
   "metadata": {
    "collapsed": false
   }
  },
  {
   "cell_type": "code",
   "execution_count": 47,
   "outputs": [
    {
     "name": "stdout",
     "output_type": "stream",
     "text": [
      "Requirement already satisfied: requests in /home/petrlorenc/.virtualenvs/engeto/lib/python3.6/site-packages (2.24.0)\r\n",
      "Requirement already satisfied: urllib3!=1.25.0,!=1.25.1,<1.26,>=1.21.1 in /home/petrlorenc/.virtualenvs/engeto/lib/python3.6/site-packages (from requests) (1.25.10)\r\n",
      "Requirement already satisfied: certifi>=2017.4.17 in /home/petrlorenc/.virtualenvs/engeto/lib/python3.6/site-packages (from requests) (2020.6.20)\r\n",
      "Requirement already satisfied: idna<3,>=2.5 in /home/petrlorenc/.virtualenvs/engeto/lib/python3.6/site-packages (from requests) (2.10)\r\n",
      "Requirement already satisfied: chardet<4,>=3.0.2 in /home/petrlorenc/.virtualenvs/engeto/lib/python3.6/site-packages (from requests) (3.0.4)\r\n",
      "\u001B[33mWARNING: You are using pip version 20.1.1; however, version 20.2.3 is available.\r\n",
      "You should consider upgrading via the '/home/petrlorenc/.virtualenvs/engeto/bin/python3 -m pip install --upgrade pip' command.\u001B[0m\r\n"
     ]
    }
   ],
   "source": [
    "!pip install requests"
   ],
   "metadata": {
    "collapsed": false,
    "pycharm": {
     "name": "#%%\n"
    }
   }
  },
  {
   "cell_type": "code",
   "execution_count": 48,
   "outputs": [],
   "source": [
    "import requests"
   ],
   "metadata": {
    "collapsed": false,
    "pycharm": {
     "name": "#%%\n"
    }
   }
  },
  {
   "cell_type": "code",
   "execution_count": 52,
   "outputs": [
    {
     "data": {
      "text/plain": "'{\"name\":\"Luke Skywalker\",\"height\":\"172\",\"mass\":\"77\",\"hair_color\":\"blond\",\"skin_color\":\"fair\",\"eye_color\":\"blue\",\"birth_year\":\"19BBY\",\"gender\":\"male\",\"homeworld\":\"http://swapi.dev/api/planets/1/\",\"films\":[\"http://swapi.dev/api/films/1/\",\"http://swapi.dev/api/films/2/\",\"http://swapi.dev/api/films/3/\",\"http://swapi.dev/api/films/6/\"],\"species\":[],\"vehicles\":[\"http://swapi.dev/api/vehicles/14/\",\"http://swapi.dev/api/vehicles/30/\"],\"starships\":[\"http://swapi.dev/api/starships/12/\",\"http://swapi.dev/api/starships/22/\"],\"created\":\"2014-12-09T13:50:51.644000Z\",\"edited\":\"2014-12-20T21:17:56.891000Z\",\"url\":\"http://swapi.dev/api/people/1/\"}'"
     },
     "execution_count": 52,
     "metadata": {},
     "output_type": "execute_result"
    }
   ],
   "source": [
    "requests.get('https://swapi.dev/api/people/1/').text"
   ],
   "metadata": {
    "collapsed": false,
    "pycharm": {
     "name": "#%%\n"
    }
   }
  },
  {
   "cell_type": "code",
   "execution_count": 55,
   "outputs": [
    {
     "data": {
      "text/plain": "['http://swapi.dev/api/films/1/',\n 'http://swapi.dev/api/films/2/',\n 'http://swapi.dev/api/films/3/',\n 'http://swapi.dev/api/films/6/']"
     },
     "execution_count": 55,
     "metadata": {},
     "output_type": "execute_result"
    }
   ],
   "source": [
    "requests.get('https://swapi.dev/api/people/1/').json()"
   ],
   "metadata": {
    "collapsed": false,
    "pycharm": {
     "name": "#%%\n"
    }
   }
  },
  {
   "cell_type": "code",
   "execution_count": 56,
   "outputs": [],
   "source": [
    "class JSONClass:\n",
    "    def __init__(self, json):\n",
    "        for k, v in json.items():\n",
    "            setattr(self, k, v)"
   ],
   "metadata": {
    "collapsed": false,
    "pycharm": {
     "name": "#%%\n"
    }
   }
  },
  {
   "cell_type": "code",
   "execution_count": 57,
   "outputs": [],
   "source": [
    "luke = JSONClass(requests.get('https://swapi.dev/api/people/1/').json())"
   ],
   "metadata": {
    "collapsed": false,
    "pycharm": {
     "name": "#%%\n"
    }
   }
  },
  {
   "cell_type": "code",
   "execution_count": 58,
   "outputs": [
    {
     "data": {
      "text/plain": "<__main__.JSONClass at 0x7facbbfb55c0>"
     },
     "execution_count": 58,
     "metadata": {},
     "output_type": "execute_result"
    }
   ],
   "source": [
    "luke"
   ],
   "metadata": {
    "collapsed": false,
    "pycharm": {
     "name": "#%%\n"
    }
   }
  },
  {
   "cell_type": "code",
   "execution_count": 59,
   "outputs": [
    {
     "data": {
      "text/plain": "['http://swapi.dev/api/films/1/',\n 'http://swapi.dev/api/films/2/',\n 'http://swapi.dev/api/films/3/',\n 'http://swapi.dev/api/films/6/']"
     },
     "execution_count": 59,
     "metadata": {},
     "output_type": "execute_result"
    }
   ],
   "source": [
    "luke.films"
   ],
   "metadata": {
    "collapsed": false,
    "pycharm": {
     "name": "#%%\n"
    }
   }
  },
  {
   "cell_type": "markdown",
   "source": [
    "### Preparation for scraping and little bit of machine learning\n",
    "\n"
   ],
   "metadata": {
    "collapsed": false,
    "pycharm": {
     "name": "#%% md\n"
    }
   }
  }
 ],
 "metadata": {
  "kernelspec": {
   "display_name": "Python 3",
   "language": "python",
   "name": "python3"
  },
  "language_info": {
   "codemirror_mode": {
    "name": "ipython",
    "version": 2
   },
   "file_extension": ".py",
   "mimetype": "text/x-python",
   "name": "python",
   "nbconvert_exporter": "python",
   "pygments_lexer": "ipython2",
   "version": "2.7.6"
  }
 },
 "nbformat": 4,
 "nbformat_minor": 0
}