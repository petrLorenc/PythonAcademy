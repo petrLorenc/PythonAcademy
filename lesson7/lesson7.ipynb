{
 "cells": [
  {
   "cell_type": "markdown",
   "metadata": {
    "collapsed": true,
    "pycharm": {
     "name": "#%% md\n"
    }
   },
   "source": [
    "## From previous lesson\n",
    "\n",
    " * Usage of modules\n",
    " * Quiz\n",
    " * Questions\n",
    "\n",
    "# Modules\n",
    "\n",
    "The same way we can package code into a function and then reuse it later, we can package function definitions and other statements inside a bigger unit - Python file. Python files (with the suffix .py) are also called modules.\n",
    "\n",
    "Modules can contain the scripts that can be run as programs. However, modules do not have to represent programs, but can contain function definitions only (or other Python statements). Those function definitions create functions that can be accessed from other Python scripts thus serving as a kind of functionality reservoir.\n",
    "\n",
    "Module advantages\n",
    "* we don't have to write all the code ourselves\n",
    "* modules make code more readable\n",
    "* we can reuse the code\n"
   ]
  },
  {
   "cell_type": "code",
   "execution_count": null,
   "outputs": [],
   "source": [
    "# https://github.com/python/cpython/blob/3.8/Lib/random.py\n",
    "\n",
    "from random import randint\n",
    "randint(1,10)"
   ],
   "metadata": {
    "collapsed": false,
    "pycharm": {
     "name": "#%%\n"
    }
   }
  },
  {
   "cell_type": "code",
   "execution_count": null,
   "outputs": [],
   "source": [
    "# not do this if you don't know exactly what you want to do\n",
    "from random import *\n",
    "random()"
   ],
   "metadata": {
    "collapsed": false,
    "pycharm": {
     "name": "#%%\n"
    }
   }
  },
  {
   "cell_type": "code",
   "execution_count": null,
   "outputs": [],
   "source": [
    "import random"
   ],
   "metadata": {
    "collapsed": false,
    "pycharm": {
     "name": "#%%\n"
    }
   }
  },
  {
   "cell_type": "code",
   "execution_count": null,
   "outputs": [],
   "source": [
    "words = ['hello', 'new', 'write', 'car', 'notebook']\n",
    "random.choice(words)"
   ],
   "metadata": {
    "collapsed": false,
    "pycharm": {
     "name": "#%%\n"
    }
   }
  },
  {
   "cell_type": "code",
   "execution_count": null,
   "outputs": [],
   "source": [
    "random.sample(words, 2)"
   ],
   "metadata": {
    "collapsed": false,
    "pycharm": {
     "name": "#%%\n"
    }
   }
  },
  {
   "cell_type": "markdown",
   "source": [
    "* using_module.py\n",
    "    * statistics.py\n",
    "\n",
    "\n",
    "https://pypi.org/ - What most interesting package you can find on PyPI?\n",
    "\n",
    "# Lesson 7\n",
    "\n",
    "### FUNCTION SCOPES\n",
    "\n",
    "Scopes is a general name for separate namespaces, where the content of some of namespaces is better accessible than content of other namespaces. That means there is a kind of a hierarchy between scopes.\n",
    "\n",
    "Better accessible means for example, that a variable that was created outside a function is accessible from inside the function.\n",
    "\n",
    "It is not possible to access variables that were created inside a function by expressions outside the function:"
   ],
   "metadata": {
    "collapsed": false
   }
  },
  {
   "cell_type": "code",
   "execution_count": 1,
   "outputs": [
    {
     "ename": "NameError",
     "evalue": "name 'name' is not defined",
     "output_type": "error",
     "traceback": [
      "\u001B[0;31m---------------------------------------------------------------------------\u001B[0m",
      "\u001B[0;31mNameError\u001B[0m                                 Traceback (most recent call last)",
      "\u001B[0;32m<ipython-input-1-7f08ef887584>\u001B[0m in \u001B[0;36m<module>\u001B[0;34m\u001B[0m\n\u001B[1;32m      2\u001B[0m     \u001B[0mname\u001B[0m \u001B[0;34m=\u001B[0m \u001B[0;34m'John'\u001B[0m\u001B[0;34m\u001B[0m\u001B[0;34m\u001B[0m\u001B[0m\n\u001B[1;32m      3\u001B[0m     \u001B[0mprint\u001B[0m\u001B[0;34m(\u001B[0m\u001B[0mname\u001B[0m\u001B[0;34m)\u001B[0m\u001B[0;34m\u001B[0m\u001B[0;34m\u001B[0m\u001B[0m\n\u001B[0;32m----> 4\u001B[0;31m \u001B[0mfull_name\u001B[0m \u001B[0;34m=\u001B[0m \u001B[0mname\u001B[0m \u001B[0;34m+\u001B[0m \u001B[0;34m'Smith'\u001B[0m\u001B[0;34m\u001B[0m\u001B[0;34m\u001B[0m\u001B[0m\n\u001B[0m",
      "\u001B[0;31mNameError\u001B[0m: name 'name' is not defined"
     ]
    }
   ],
   "source": [
    "def func():\n",
    "    name = 'John'\n",
    "    print(name)\n",
    "full_name = name + 'Smith'"
   ],
   "metadata": {
    "collapsed": false,
    "pycharm": {
     "name": "#%%\n"
    }
   }
  },
  {
   "cell_type": "markdown",
   "source": [
    "There can be up to four different scopes in a Python program:\n",
    "\n",
    "* Local\n",
    "    * in functions\n",
    "* Enclosing\n",
    "* Global\n",
    "* Built-in\n",
    "    * print(), sum(), all() etc.\n",
    "    * ```from pprint import pprint as pp\n",
    "      pp(__builtins__.__dict__)```\n",
    "\n",
    "We will refer to the hierarchy of scopes using the acronym LEGB.\n",
    "\n",
    "We can imagine scopes as spheres, where those inside one sphere have access to items above, but not below:"
   ],
   "metadata": {
    "collapsed": false,
    "pycharm": {
     "name": "#%% md\n"
    }
   }
  },
  {
   "cell_type": "markdown",
   "source": [
    "Once the function finishes its execution, its local scope (all its variables) **is destroyed**. Then the program execution continues in the global scope, from where we cannot access non-existent variables from the order_sequence scope. In global scope, we should not try to use variable names defined only inside functions, because they do not exist in the global scope.\n"
   ],
   "metadata": {
    "collapsed": false,
    "pycharm": {
     "name": "#%% md\n"
    }
   }
  },
  {
   "cell_type": "code",
   "execution_count": 3,
   "outputs": [
    {
     "ename": "NameError",
     "evalue": "name 'a' is not defined",
     "output_type": "error",
     "traceback": [
      "\u001B[0;31m---------------------------------------------------------------------------\u001B[0m",
      "\u001B[0;31mNameError\u001B[0m                                 Traceback (most recent call last)",
      "\u001B[0;32m<ipython-input-3-4a36a91451f5>\u001B[0m in \u001B[0;36m<module>\u001B[0;34m\u001B[0m\n\u001B[1;32m      5\u001B[0m     \u001B[0mprint\u001B[0m\u001B[0;34m(\u001B[0m\u001B[0ma\u001B[0m\u001B[0;34m)\u001B[0m\u001B[0;34m\u001B[0m\u001B[0;34m\u001B[0m\u001B[0m\n\u001B[1;32m      6\u001B[0m \u001B[0;34m\u001B[0m\u001B[0m\n\u001B[0;32m----> 7\u001B[0;31m \u001B[0mbar\u001B[0m\u001B[0;34m(\u001B[0m\u001B[0;34m)\u001B[0m\u001B[0;34m\u001B[0m\u001B[0;34m\u001B[0m\u001B[0m\n\u001B[0m\u001B[1;32m      8\u001B[0m \u001B[0mfoo\u001B[0m\u001B[0;34m(\u001B[0m\u001B[0;34m)\u001B[0m\u001B[0;34m\u001B[0m\u001B[0;34m\u001B[0m\u001B[0m\n",
      "\u001B[0;32m<ipython-input-3-4a36a91451f5>\u001B[0m in \u001B[0;36mbar\u001B[0;34m()\u001B[0m\n\u001B[1;32m      3\u001B[0m \u001B[0;34m\u001B[0m\u001B[0m\n\u001B[1;32m      4\u001B[0m \u001B[0;32mdef\u001B[0m \u001B[0mbar\u001B[0m\u001B[0;34m(\u001B[0m\u001B[0;34m)\u001B[0m\u001B[0;34m:\u001B[0m\u001B[0;34m\u001B[0m\u001B[0;34m\u001B[0m\u001B[0m\n\u001B[0;32m----> 5\u001B[0;31m     \u001B[0mprint\u001B[0m\u001B[0;34m(\u001B[0m\u001B[0ma\u001B[0m\u001B[0;34m)\u001B[0m\u001B[0;34m\u001B[0m\u001B[0;34m\u001B[0m\u001B[0m\n\u001B[0m\u001B[1;32m      6\u001B[0m \u001B[0;34m\u001B[0m\u001B[0m\n\u001B[1;32m      7\u001B[0m \u001B[0mbar\u001B[0m\u001B[0;34m(\u001B[0m\u001B[0;34m)\u001B[0m\u001B[0;34m\u001B[0m\u001B[0;34m\u001B[0m\u001B[0m\n",
      "\u001B[0;31mNameError\u001B[0m: name 'a' is not defined"
     ]
    }
   ],
   "source": [
    "def foo():\n",
    "    a = 1\n",
    "\n",
    "def bar():\n",
    "    print(a)\n",
    "\n",
    "bar()\n",
    "foo()"
   ],
   "metadata": {
    "collapsed": false,
    "pycharm": {
     "name": "#%%\n"
    }
   }
  },
  {
   "cell_type": "code",
   "execution_count": 4,
   "outputs": [
    {
     "ename": "NameError",
     "evalue": "name 'a' is not defined",
     "output_type": "error",
     "traceback": [
      "\u001B[0;31m---------------------------------------------------------------------------\u001B[0m",
      "\u001B[0;31mNameError\u001B[0m                                 Traceback (most recent call last)",
      "\u001B[0;32m<ipython-input-4-730b8825f71c>\u001B[0m in \u001B[0;36m<module>\u001B[0;34m\u001B[0m\n\u001B[0;32m----> 1\u001B[0;31m \u001B[0mbar\u001B[0m\u001B[0;34m(\u001B[0m\u001B[0;34m)\u001B[0m\u001B[0;34m\u001B[0m\u001B[0;34m\u001B[0m\u001B[0m\n\u001B[0m\u001B[1;32m      2\u001B[0m \u001B[0mfoo\u001B[0m\u001B[0;34m(\u001B[0m\u001B[0;34m)\u001B[0m\u001B[0;34m\u001B[0m\u001B[0;34m\u001B[0m\u001B[0m\n",
      "\u001B[0;32m<ipython-input-3-4a36a91451f5>\u001B[0m in \u001B[0;36mbar\u001B[0;34m()\u001B[0m\n\u001B[1;32m      3\u001B[0m \u001B[0;34m\u001B[0m\u001B[0m\n\u001B[1;32m      4\u001B[0m \u001B[0;32mdef\u001B[0m \u001B[0mbar\u001B[0m\u001B[0;34m(\u001B[0m\u001B[0;34m)\u001B[0m\u001B[0;34m:\u001B[0m\u001B[0;34m\u001B[0m\u001B[0;34m\u001B[0m\u001B[0m\n\u001B[0;32m----> 5\u001B[0;31m     \u001B[0mprint\u001B[0m\u001B[0;34m(\u001B[0m\u001B[0ma\u001B[0m\u001B[0;34m)\u001B[0m\u001B[0;34m\u001B[0m\u001B[0;34m\u001B[0m\u001B[0m\n\u001B[0m\u001B[1;32m      6\u001B[0m \u001B[0;34m\u001B[0m\u001B[0m\n\u001B[1;32m      7\u001B[0m \u001B[0mbar\u001B[0m\u001B[0;34m(\u001B[0m\u001B[0;34m)\u001B[0m\u001B[0;34m\u001B[0m\u001B[0;34m\u001B[0m\u001B[0m\n",
      "\u001B[0;31mNameError\u001B[0m: name 'a' is not defined"
     ]
    }
   ],
   "source": [
    "bar()\n",
    "foo()"
   ],
   "metadata": {
    "collapsed": false,
    "pycharm": {
     "name": "#%%\n"
    }
   }
  },
  {
   "cell_type": "code",
   "execution_count": 5,
   "outputs": [
    {
     "name": "stdout",
     "output_type": "stream",
     "text": [
      "0\n"
     ]
    }
   ],
   "source": [
    "a = 0\n",
    "def foo():\n",
    "    a = 11\n",
    "\n",
    "def bar():\n",
    "    print(a)\n",
    "\n",
    "bar()\n",
    "foo()"
   ],
   "metadata": {
    "collapsed": false,
    "pycharm": {
     "name": "#%%\n"
    }
   }
  },
  {
   "cell_type": "code",
   "execution_count": 7,
   "outputs": [
    {
     "name": "stdout",
     "output_type": "stream",
     "text": [
      "0\n"
     ]
    }
   ],
   "source": [
    "foo()\n",
    "bar()"
   ],
   "metadata": {
    "collapsed": false,
    "pycharm": {
     "name": "#%%\n"
    }
   }
  },
  {
   "cell_type": "code",
   "execution_count": 8,
   "outputs": [
    {
     "name": "stdout",
     "output_type": "stream",
     "text": [
      "0\n"
     ]
    }
   ],
   "source": [
    "a = 0\n",
    "def foo(a):\n",
    "    a = 11\n",
    "\n",
    "def bar():\n",
    "    print(a)\n",
    "\n",
    "bar()\n",
    "foo(a)"
   ],
   "metadata": {
    "collapsed": false,
    "pycharm": {
     "name": "#%%\n"
    }
   }
  },
  {
   "cell_type": "code",
   "execution_count": 9,
   "outputs": [
    {
     "name": "stdout",
     "output_type": "stream",
     "text": [
      "0\n"
     ]
    }
   ],
   "source": [
    "foo(a)\n",
    "bar()"
   ],
   "metadata": {
    "collapsed": false,
    "pycharm": {
     "name": "#%%\n"
    }
   }
  },
  {
   "cell_type": "code",
   "execution_count": 11,
   "outputs": [
    {
     "name": "stdout",
     "output_type": "stream",
     "text": [
      "Bob Smith\n",
      "John\n"
     ]
    },
    {
     "ename": "NameError",
     "evalue": "name 'fullname' is not defined",
     "output_type": "error",
     "traceback": [
      "\u001B[0;31m---------------------------------------------------------------------------\u001B[0m",
      "\u001B[0;31mNameError\u001B[0m                                 Traceback (most recent call last)",
      "\u001B[0;32m<ipython-input-11-0611eba24b32>\u001B[0m in \u001B[0;36m<module>\u001B[0;34m\u001B[0m\n\u001B[1;32m     10\u001B[0m \u001B[0mfunc\u001B[0m\u001B[0;34m(\u001B[0m\u001B[0;34m)\u001B[0m\u001B[0;34m\u001B[0m\u001B[0;34m\u001B[0m\u001B[0m\n\u001B[1;32m     11\u001B[0m \u001B[0mprint\u001B[0m\u001B[0;34m(\u001B[0m\u001B[0mname\u001B[0m\u001B[0;34m)\u001B[0m\u001B[0;34m\u001B[0m\u001B[0;34m\u001B[0m\u001B[0m\n\u001B[0;32m---> 12\u001B[0;31m \u001B[0mprint\u001B[0m\u001B[0;34m(\u001B[0m\u001B[0mfullname\u001B[0m\u001B[0;34m)\u001B[0m\u001B[0;34m\u001B[0m\u001B[0;34m\u001B[0m\u001B[0m\n\u001B[0m",
      "\u001B[0;31mNameError\u001B[0m: name 'fullname' is not defined"
     ]
    }
   ],
   "source": [
    "name = 'John'\n",
    "surname = 'Smith'\n",
    "\n",
    "def func():\n",
    "    name = 'Bob'\n",
    "    fullname = ' '.join((name,surname))\n",
    "    print(fullname)\n",
    "    print(age)\n",
    "\n",
    "func()\n",
    "print(name)\n",
    "print(fullname)"
   ],
   "metadata": {
    "collapsed": false,
    "pycharm": {
     "name": "#%%\n"
    }
   }
  },
  {
   "cell_type": "markdown",
   "source": [
    " * fibonacci.py - usage of function\n",
    "\n",
    "### Global\n"
   ],
   "metadata": {
    "collapsed": false,
    "pycharm": {
     "name": "#%% md\n"
    }
   }
  },
  {
   "cell_type": "code",
   "execution_count": 12,
   "outputs": [
    {
     "name": "stdout",
     "output_type": "stream",
     "text": [
      "Bob\n",
      "Bob\n"
     ]
    }
   ],
   "source": [
    "name = 'John'\n",
    "def func():\n",
    "    global name\n",
    "    name = 'Bob'\n",
    "    print(name)\n",
    "func()\n",
    "print(name)\n"
   ],
   "metadata": {
    "collapsed": false,
    "pycharm": {
     "name": "#%%\n"
    }
   }
  },
  {
   "cell_type": "markdown",
   "source": [
    "Changing global variables is not considered a good practice. It can cause confusion (code reader does not have to realize that our goal is to change the variable value) and unexpected results in the program. Reasonable use of global state is recommended rather for advanced programmers for algorithm optimization or reduced complexity.\n"
   ],
   "metadata": {
    "collapsed": false,
    "pycharm": {
     "name": "#%% md\n"
    }
   }
  },
  {
   "cell_type": "code",
   "execution_count": 13,
   "outputs": [
    {
     "data": {
      "text/plain": "6"
     },
     "execution_count": 13,
     "metadata": {},
     "output_type": "execute_result"
    }
   ],
   "source": [
    "sum([1,2,3])"
   ],
   "metadata": {
    "collapsed": false,
    "pycharm": {
     "name": "#%%\n"
    }
   }
  },
  {
   "cell_type": "code",
   "execution_count": 14,
   "outputs": [],
   "source": [
    "sum = sum([1,2,3])"
   ],
   "metadata": {
    "collapsed": false,
    "pycharm": {
     "name": "#%%\n"
    }
   }
  },
  {
   "cell_type": "code",
   "execution_count": 15,
   "outputs": [
    {
     "ename": "TypeError",
     "evalue": "'int' object is not callable",
     "output_type": "error",
     "traceback": [
      "\u001B[0;31m---------------------------------------------------------------------------\u001B[0m",
      "\u001B[0;31mTypeError\u001B[0m                                 Traceback (most recent call last)",
      "\u001B[0;32m<ipython-input-15-7956325a8a43>\u001B[0m in \u001B[0;36m<module>\u001B[0;34m\u001B[0m\n\u001B[0;32m----> 1\u001B[0;31m \u001B[0msum\u001B[0m\u001B[0;34m(\u001B[0m\u001B[0;34m[\u001B[0m\u001B[0;36m1\u001B[0m\u001B[0;34m,\u001B[0m\u001B[0;36m2\u001B[0m\u001B[0;34m,\u001B[0m\u001B[0;36m3\u001B[0m\u001B[0;34m]\u001B[0m\u001B[0;34m)\u001B[0m\u001B[0;34m\u001B[0m\u001B[0;34m\u001B[0m\u001B[0m\n\u001B[0m\u001B[1;32m      2\u001B[0m \u001B[0;34m\u001B[0m\u001B[0m\n",
      "\u001B[0;31mTypeError\u001B[0m: 'int' object is not callable"
     ]
    }
   ],
   "source": [
    "sum([1,2,3])"
   ],
   "metadata": {
    "collapsed": false,
    "pycharm": {
     "name": "#%%\n"
    }
   }
  },
  {
   "cell_type": "code",
   "execution_count": 16,
   "outputs": [],
   "source": [
    "del sum"
   ],
   "metadata": {
    "collapsed": false,
    "pycharm": {
     "name": "#%%\n"
    }
   }
  },
  {
   "cell_type": "code",
   "execution_count": 17,
   "outputs": [
    {
     "data": {
      "text/plain": "6"
     },
     "execution_count": 17,
     "metadata": {},
     "output_type": "execute_result"
    }
   ],
   "source": [
    "sum([1,2,3])"
   ],
   "metadata": {
    "collapsed": false,
    "pycharm": {
     "name": "#%%\n"
    }
   }
  },
  {
   "cell_type": "code",
   "execution_count": 18,
   "outputs": [
    {
     "ename": "NameError",
     "evalue": "name 'sum' is not defined",
     "output_type": "error",
     "traceback": [
      "\u001B[0;31m---------------------------------------------------------------------------\u001B[0m",
      "\u001B[0;31mNameError\u001B[0m                                 Traceback (most recent call last)",
      "\u001B[0;32m<ipython-input-18-9b441b606bb1>\u001B[0m in \u001B[0;36m<module>\u001B[0;34m\u001B[0m\n\u001B[0;32m----> 1\u001B[0;31m \u001B[0;32mdel\u001B[0m \u001B[0msum\u001B[0m\u001B[0;34m\u001B[0m\u001B[0;34m\u001B[0m\u001B[0m\n\u001B[0m",
      "\u001B[0;31mNameError\u001B[0m: name 'sum' is not defined"
     ]
    }
   ],
   "source": [
    "del sum"
   ],
   "metadata": {
    "collapsed": false,
    "pycharm": {
     "name": "#%%\n"
    }
   }
  },
  {
   "cell_type": "code",
   "execution_count": 19,
   "outputs": [
    {
     "data": {
      "text/plain": "6"
     },
     "execution_count": 19,
     "metadata": {},
     "output_type": "execute_result"
    }
   ],
   "source": [
    "sum([1,2,3])"
   ],
   "metadata": {
    "collapsed": false,
    "pycharm": {
     "name": "#%%\n"
    }
   }
  },
  {
   "cell_type": "markdown",
   "source": [
    " * statistics_2.py\n",
    "\n",
    "### Function inside Function\n",
    "To build a function inside a function has sense in the two following scenarios:\n",
    "\n",
    "* We do not want the inner function to be accessible from outside (we want to isolate it)\n",
    "* We want to return the created function"
   ],
   "metadata": {
    "collapsed": false,
    "pycharm": {
     "name": "#%% md\n"
    }
   }
  },
  {
   "cell_type": "code",
   "execution_count": 20,
   "outputs": [],
   "source": [
    "def wrapper(step):\n",
    "    start = 0\n",
    "    end = 3\n",
    "    def inner():\n",
    "        return range(start,end, step)\n",
    "    return inner"
   ],
   "metadata": {
    "collapsed": false,
    "pycharm": {
     "name": "#%%\n"
    }
   }
  },
  {
   "cell_type": "markdown",
   "source": [
    " * universal_range.py\n",
    "\n",
    "If we wanted to modify those variables inside the local scope of inner() function, we would have to declare them as nonlocal:"
   ],
   "metadata": {
    "collapsed": false,
    "pycharm": {
     "name": "#%% md\n"
    }
   }
  },
  {
   "cell_type": "code",
   "execution_count": 21,
   "outputs": [],
   "source": [
    "import random\n",
    "def wrapper():\n",
    "    start = random.randint(1,10)\n",
    "    end = random.randint(10,100)\n",
    "    print('Original variable values: start:',start,'end:',end)\n",
    "    def inner():\n",
    "        nonlocal start, end\n",
    "        start += 5\n",
    "        end += 5\n",
    "        return range(start,end)\n",
    "    print('Before function inner: start:',start,'end:',end)\n",
    "    inner()\n",
    "    print('Function inner has changed my variable values: start:',start,'end:',end)\n",
    "    return inner"
   ],
   "metadata": {
    "collapsed": false,
    "pycharm": {
     "name": "#%%\n"
    }
   }
  },
  {
   "cell_type": "code",
   "execution_count": 22,
   "outputs": [
    {
     "name": "stdout",
     "output_type": "stream",
     "text": [
      "Original variable values: start: 2 end: 41\n",
      "Before function inner: start: 2 end: 41\n",
      "Function inner has changed my variable values: start: 7 end: 46\n"
     ]
    },
    {
     "data": {
      "text/plain": "<function __main__.wrapper.<locals>.inner()>"
     },
     "execution_count": 22,
     "metadata": {},
     "output_type": "execute_result"
    }
   ],
   "source": [
    "wrapper()"
   ],
   "metadata": {
    "collapsed": false,
    "pycharm": {
     "name": "#%%\n"
    }
   }
  },
  {
   "cell_type": "code",
   "execution_count": 23,
   "outputs": [
    {
     "name": "stdout",
     "output_type": "stream",
     "text": [
      "FUNC SCOPE:  {}\n",
      "INNER_FUNC SCOPE:  {}\n",
      "BASEMENT SCOPE:  {}\n"
     ]
    }
   ],
   "source": [
    "glob = 'glob is global variable'\n",
    "def func():\n",
    "    print('FUNC SCOPE: ', locals())\n",
    "    def inner_func():\n",
    "        print('INNER_FUNC SCOPE: ', locals())\n",
    "        def basement():\n",
    "            print('BASEMENT SCOPE: ', locals())\n",
    "        basement()\n",
    "    inner_func()\n",
    "func()"
   ],
   "metadata": {
    "collapsed": false,
    "pycharm": {
     "name": "#%%\n"
    }
   }
  },
  {
   "cell_type": "code",
   "execution_count": 24,
   "outputs": [
    {
     "name": "stdout",
     "output_type": "stream",
     "text": [
      "FUNC SCOPE:  {'func_var': 'hello from func'}\n",
      "INNER_FUNC SCOPE:  {'inner_func_var': 'hello from inner_func'}\n",
      "BASEMENT SCOPE:  {'basement_var': 'Hello from the basement'}\n"
     ]
    }
   ],
   "source": [
    "glob = 'glob is global variable'\n",
    "def func():\n",
    "    func_var = 'hello from func'\n",
    "    print('FUNC SCOPE: ', locals())\n",
    "    def inner_func():\n",
    "        inner_func_var = 'hello from inner_func'\n",
    "        print('INNER_FUNC SCOPE: ', locals())\n",
    "        def basement():\n",
    "            basement_var = 'Hello from the basement'\n",
    "            print('BASEMENT SCOPE: ', locals())\n",
    "        basement()\n",
    "    inner_func()\n",
    "func()"
   ],
   "metadata": {
    "collapsed": false,
    "pycharm": {
     "name": "#%%\n"
    }
   }
  },
  {
   "cell_type": "code",
   "execution_count": 25,
   "outputs": [
    {
     "data": {
      "text/plain": "{'__name__': '__main__',\n '__doc__': 'Automatically created module for IPython interactive environment',\n '__package__': None,\n '__loader__': None,\n '__spec__': None,\n '__builtin__': <module 'builtins' (built-in)>,\n '__builtins__': <module 'builtins' (built-in)>,\n '_ih': ['',\n  \"def func():\\n    name = 'John'\\n    print(name)\\nfull_name = name + 'Smith'\",\n  'def foo():\\n    a = 1\\n    \\ndef bar():\\n    print(a)\\n    \\nfoo()\\nbar()',\n  'def foo():\\n    a = 1\\n\\ndef bar():\\n    print(a)\\n\\nbar()\\nfoo()',\n  'bar()\\nfoo()',\n  'a = 0\\ndef foo():\\n    a = 11\\n\\ndef bar():\\n    print(a)\\n\\nbar()\\nfoo()',\n  'bar()\\nfoo()',\n  'foo()\\nbar()',\n  'a = 0\\ndef foo(a):\\n    a = 11\\n\\ndef bar():\\n    print(a)\\n\\nbar()\\nfoo(a)',\n  'foo(a)\\nbar()',\n  \"name = 'John'\\nsurname = 'Smith'\\n\\ndef func():\\n    name = 'Bob'\\n    fullname = ' '.join((name,surname))\\n    print(fullname)\\n    print(age)\\n\\nfunc()\\nprint(name)\\nprint(fullname)\",\n  \"name = 'John'\\nsurname = 'Smith'\\n\\ndef func():\\n    name = 'Bob'\\n    fullname = ' '.join((name,surname))\\n    print(fullname)\\n    # print(age)\\n\\nfunc()\\nprint(name)\\nprint(fullname)\",\n  \"name = 'John'\\ndef func():\\n    global name\\n    name = 'Bob'\\n    print(name)\\nfunc()\\nprint(name)\",\n  'sum([1,2,3])',\n  'sum = sum([1,2,3])',\n  'sum([1,2,3])',\n  'del sum',\n  'sum([1,2,3])',\n  'del sum',\n  'sum([1,2,3])',\n  'def wrapper(step):\\n    start = 0\\n    end = 3\\n    def inner():\\n        return range(start,end, step)\\n    return inner',\n  \"import random\\ndef wrapper():\\n    start = random.randint(1,10)\\n    end = random.randint(10,100)\\n    print('Original variable values: start:',start,'end:',end)\\n    def inner():\\n        nonlocal start, end\\n        start += 5\\n        end += 5\\n        return range(start,end)\\n    print('Before function inner: start:',start,'end:',end)\\n    inner()\\n    print('Function inner has changed my variable values: start:',start,'end:',end)\\n    return inner\",\n  'wrapper()',\n  \"glob = 'glob is global variable'\\ndef func():\\n    print('FUNC SCOPE: ', locals())\\n    def inner_func():\\n        print('INNER_FUNC SCOPE: ', locals())\\n        def basement():\\n            print('BASEMENT SCOPE: ', locals())\\n        basement()\\n    inner_func()\\nfunc()\",\n  \"glob = 'glob is global variable'\\ndef func():\\n    func_var = 'hello from func'\\n    print('FUNC SCOPE: ', locals())\\n    def inner_func():\\n        inner_func_var = 'hello from inner_func'\\n        print('INNER_FUNC SCOPE: ', locals())\\n        def basement():\\n            basement_var = 'Hello from the basement'\\n            print('BASEMENT SCOPE: ', locals())\\n        basement()\\n    inner_func()\\nfunc()\",\n  'globals()'],\n '_oh': {13: 6,\n  17: 6,\n  19: 6,\n  22: <function __main__.wrapper.<locals>.inner()>},\n '_dh': ['/home/petrlorenc/Documents/Skola/Engeto/lesson7'],\n 'In': ['',\n  \"def func():\\n    name = 'John'\\n    print(name)\\nfull_name = name + 'Smith'\",\n  'def foo():\\n    a = 1\\n    \\ndef bar():\\n    print(a)\\n    \\nfoo()\\nbar()',\n  'def foo():\\n    a = 1\\n\\ndef bar():\\n    print(a)\\n\\nbar()\\nfoo()',\n  'bar()\\nfoo()',\n  'a = 0\\ndef foo():\\n    a = 11\\n\\ndef bar():\\n    print(a)\\n\\nbar()\\nfoo()',\n  'bar()\\nfoo()',\n  'foo()\\nbar()',\n  'a = 0\\ndef foo(a):\\n    a = 11\\n\\ndef bar():\\n    print(a)\\n\\nbar()\\nfoo(a)',\n  'foo(a)\\nbar()',\n  \"name = 'John'\\nsurname = 'Smith'\\n\\ndef func():\\n    name = 'Bob'\\n    fullname = ' '.join((name,surname))\\n    print(fullname)\\n    print(age)\\n\\nfunc()\\nprint(name)\\nprint(fullname)\",\n  \"name = 'John'\\nsurname = 'Smith'\\n\\ndef func():\\n    name = 'Bob'\\n    fullname = ' '.join((name,surname))\\n    print(fullname)\\n    # print(age)\\n\\nfunc()\\nprint(name)\\nprint(fullname)\",\n  \"name = 'John'\\ndef func():\\n    global name\\n    name = 'Bob'\\n    print(name)\\nfunc()\\nprint(name)\",\n  'sum([1,2,3])',\n  'sum = sum([1,2,3])',\n  'sum([1,2,3])',\n  'del sum',\n  'sum([1,2,3])',\n  'del sum',\n  'sum([1,2,3])',\n  'def wrapper(step):\\n    start = 0\\n    end = 3\\n    def inner():\\n        return range(start,end, step)\\n    return inner',\n  \"import random\\ndef wrapper():\\n    start = random.randint(1,10)\\n    end = random.randint(10,100)\\n    print('Original variable values: start:',start,'end:',end)\\n    def inner():\\n        nonlocal start, end\\n        start += 5\\n        end += 5\\n        return range(start,end)\\n    print('Before function inner: start:',start,'end:',end)\\n    inner()\\n    print('Function inner has changed my variable values: start:',start,'end:',end)\\n    return inner\",\n  'wrapper()',\n  \"glob = 'glob is global variable'\\ndef func():\\n    print('FUNC SCOPE: ', locals())\\n    def inner_func():\\n        print('INNER_FUNC SCOPE: ', locals())\\n        def basement():\\n            print('BASEMENT SCOPE: ', locals())\\n        basement()\\n    inner_func()\\nfunc()\",\n  \"glob = 'glob is global variable'\\ndef func():\\n    func_var = 'hello from func'\\n    print('FUNC SCOPE: ', locals())\\n    def inner_func():\\n        inner_func_var = 'hello from inner_func'\\n        print('INNER_FUNC SCOPE: ', locals())\\n        def basement():\\n            basement_var = 'Hello from the basement'\\n            print('BASEMENT SCOPE: ', locals())\\n        basement()\\n    inner_func()\\nfunc()\",\n  'globals()'],\n 'Out': {13: 6,\n  17: 6,\n  19: 6,\n  22: <function __main__.wrapper.<locals>.inner()>},\n 'get_ipython': <bound method InteractiveShell.get_ipython of <ipykernel.zmqshell.ZMQInteractiveShell object at 0x7f573c2529e8>>,\n 'exit': <IPython.core.autocall.ZMQExitAutocall at 0x7f5739227b38>,\n 'quit': <IPython.core.autocall.ZMQExitAutocall at 0x7f5739227b38>,\n '_': <function __main__.wrapper.<locals>.inner()>,\n '__': 6,\n '___': 6,\n '_i': \"\\nglob = 'glob is global variable'\\ndef func():\\n    func_var = 'hello from func'\\n    print('FUNC SCOPE: ', locals())\\n    def inner_func():\\n        inner_func_var = 'hello from inner_func'\\n        print('INNER_FUNC SCOPE: ', locals())\\n        def basement():\\n            basement_var = 'Hello from the basement'\\n            print('BASEMENT SCOPE: ', locals())\\n        basement()\\n    inner_func()\\nfunc()\",\n '_ii': \"\\nglob = 'glob is global variable'\\ndef func():\\n    print('FUNC SCOPE: ', locals())\\n    def inner_func():\\n        print('INNER_FUNC SCOPE: ', locals())\\n        def basement():\\n            print('BASEMENT SCOPE: ', locals())\\n        basement()\\n    inner_func()\\nfunc()\",\n '_iii': '\\nwrapper()',\n '_i1': \"\\ndef func():\\n    name = 'John'\\n    print(name)\\nfull_name = name + 'Smith'\",\n 'func': <function __main__.func()>,\n 'sys': <module 'sys' (built-in)>,\n '_pydevd_bundle': <module '_pydevd_bundle' from '/snap/pycharm-professional/213/plugins/python/helpers/pydev/_pydevd_bundle/__init__.py'>,\n 'pydev_jupyter_vars': <module 'pydev_jupyter_vars' from '/snap/pycharm-professional/213/plugins/python/helpers-pro/jupyter_debug/pydev_jupyter_vars.py'>,\n '_i2': '\\ndef foo():\\n    a = 1\\n    \\ndef bar():\\n    print(a)\\n    \\nfoo()\\nbar()',\n 'foo': <function __main__.foo(a)>,\n 'bar': <function __main__.bar()>,\n '_i3': '\\ndef foo():\\n    a = 1\\n\\ndef bar():\\n    print(a)\\n\\nbar()\\nfoo()',\n '_i4': '\\nbar()\\nfoo()',\n '_i5': 'a = 0\\ndef foo():\\n    a = 11\\n\\ndef bar():\\n    print(a)\\n\\nbar()\\nfoo()',\n 'a': 0,\n '_i6': '\\nbar()\\nfoo()',\n '_i7': '\\nfoo()\\nbar()',\n '_i8': '\\na = 0\\ndef foo(a):\\n    a = 11\\n\\ndef bar():\\n    print(a)\\n\\nbar()\\nfoo(a)',\n '_i9': '\\nfoo(a)\\nbar()',\n '_i10': \"\\nname = 'John'\\nsurname = 'Smith'\\n\\ndef func():\\n    name = 'Bob'\\n    fullname = ' '.join((name,surname))\\n    print(fullname)\\n    print(age)\\n\\nfunc()\\nprint(name)\\nprint(fullname)\",\n 'name': 'Bob',\n 'surname': 'Smith',\n '_i11': \"\\nname = 'John'\\nsurname = 'Smith'\\n\\ndef func():\\n    name = 'Bob'\\n    fullname = ' '.join((name,surname))\\n    print(fullname)\\n    # print(age)\\n\\nfunc()\\nprint(name)\\nprint(fullname)\",\n '_i12': \"\\nname = 'John'\\ndef func():\\n    global name\\n    name = 'Bob'\\n    print(name)\\nfunc()\\nprint(name)\",\n '_i13': '\\nsum([1,2,3])',\n '_13': 6,\n '_i14': '\\nsum = sum([1,2,3])',\n '_i15': '\\nsum([1,2,3])',\n '_i16': '\\ndel sum',\n '_i17': '\\nsum([1,2,3])',\n '_17': 6,\n '_i18': '\\ndel sum',\n '_i19': '\\nsum([1,2,3])',\n '_19': 6,\n '_i20': '\\ndef wrapper(step):\\n    start = 0\\n    end = 3\\n    def inner():\\n        return range(start,end, step)\\n    return inner',\n 'wrapper': <function __main__.wrapper()>,\n '_i21': \"\\nimport random\\ndef wrapper():\\n    start = random.randint(1,10)\\n    end = random.randint(10,100)\\n    print('Original variable values: start:',start,'end:',end)\\n    def inner():\\n        nonlocal start, end\\n        start += 5\\n        end += 5\\n        return range(start,end)\\n    print('Before function inner: start:',start,'end:',end)\\n    inner()\\n    print('Function inner has changed my variable values: start:',start,'end:',end)\\n    return inner\",\n 'random': <module 'random' from '/home/petrlorenc/.virtualenvs/engeto/lib/python3.6/random.py'>,\n '_i22': '\\nwrapper()',\n '_22': <function __main__.wrapper.<locals>.inner()>,\n '_i23': \"\\nglob = 'glob is global variable'\\ndef func():\\n    print('FUNC SCOPE: ', locals())\\n    def inner_func():\\n        print('INNER_FUNC SCOPE: ', locals())\\n        def basement():\\n            print('BASEMENT SCOPE: ', locals())\\n        basement()\\n    inner_func()\\nfunc()\",\n 'glob': 'glob is global variable',\n '_i24': \"\\nglob = 'glob is global variable'\\ndef func():\\n    func_var = 'hello from func'\\n    print('FUNC SCOPE: ', locals())\\n    def inner_func():\\n        inner_func_var = 'hello from inner_func'\\n        print('INNER_FUNC SCOPE: ', locals())\\n        def basement():\\n            basement_var = 'Hello from the basement'\\n            print('BASEMENT SCOPE: ', locals())\\n        basement()\\n    inner_func()\\nfunc()\",\n '_i25': 'globals()'}"
     },
     "execution_count": 25,
     "metadata": {},
     "output_type": "execute_result"
    }
   ],
   "source": [
    "globals()\n"
   ],
   "metadata": {
    "collapsed": false,
    "pycharm": {
     "name": "#%%\n"
    }
   }
  },
  {
   "cell_type": "markdown",
   "source": [
    "## FUNCTION INPUTS\n",
    "\n",
    "1. function, that do not accept any inputs\n",
    "2. functions that accept fixed number of inputs (one and more)\n",
    "3. functions that accept variable number of inputs\n",
    "\n",
    "\n",
    "#### Variable number of arguments"
   ],
   "metadata": {
    "collapsed": false,
    "pycharm": {
     "name": "#%% md\n"
    }
   }
  },
  {
   "cell_type": "code",
   "execution_count": 1,
   "outputs": [
    {
     "name": "stdout",
     "output_type": "stream",
     "text": [
      "(1, 2, 'SS')\n"
     ]
    }
   ],
   "source": [
    "def foo(*args):\n",
    "    print(args)\n",
    "\n",
    "foo(1,2, \"SS\")"
   ],
   "metadata": {
    "collapsed": false,
    "pycharm": {
     "name": "#%%\n"
    }
   }
  },
  {
   "cell_type": "markdown",
   "source": [
    "Such a starred parameter has to be listed as the last one among all the arguments we want to be treated as positional"
   ],
   "metadata": {
    "collapsed": false,
    "pycharm": {
     "name": "#%% md\n"
    }
   }
  },
  {
   "cell_type": "code",
   "execution_count": 2,
   "outputs": [],
   "source": [
    "prefix, suffix, *args = 'in','ly','competent', 'formal', 'credib'"
   ],
   "metadata": {
    "collapsed": false,
    "pycharm": {
     "name": "#%%\n"
    }
   }
  },
  {
   "cell_type": "code",
   "execution_count": 4,
   "outputs": [
    {
     "name": "stdout",
     "output_type": "stream",
     "text": [
      "{'name': 'Bob', 'city': 'London'}\n"
     ]
    }
   ],
   "source": [
    "def bar(**kwargs):\n",
    "    print(kwargs)\n",
    "\n",
    "bar(name='Bob', city='London')"
   ],
   "metadata": {
    "collapsed": false,
    "pycharm": {
     "name": "#%%\n"
    }
   }
  },
  {
   "cell_type": "code",
   "execution_count": 5,
   "outputs": [
    {
     "name": "stdout",
     "output_type": "stream",
     "text": [
      "inCOMPETENTly\n",
      "inFORMALly\n",
      "inCREDIBly\n"
     ]
    }
   ],
   "source": [
    "def func(prefix, suffix, *args, **kwargs):\n",
    "    for arg in args:\n",
    "        if 'capital' in kwargs and kwargs['capital'] == True:\n",
    "            arg = arg.upper()\n",
    "        print(prefix + arg + suffix)\n",
    "\n",
    "func('in','ly','competent', 'formal', 'credib', capital=True)"
   ],
   "metadata": {
    "collapsed": false,
    "pycharm": {
     "name": "#%%\n"
    }
   }
  },
  {
   "cell_type": "markdown",
   "source": [
    "We can force some required parameters to be passed by keyword if we put those parameters after the single star in a function definition. If we did not use keyword=value form to pass the argument to the function, we would get an error.\n",
    "\n",
    "Required keyword parameters are used to improve the readability of function calls."
   ],
   "metadata": {
    "collapsed": false,
    "pycharm": {
     "name": "#%% md\n"
    }
   }
  },
  {
   "cell_type": "code",
   "execution_count": 6,
   "outputs": [
    {
     "name": "stdout",
     "output_type": "stream",
     "text": [
      "inCOMPETENTly\n",
      "inFORMALly\n",
      "inCREDIBly\n"
     ]
    }
   ],
   "source": [
    "def func(prefix, suffix, *args, capital):\n",
    "    for arg in args:\n",
    "        if capital:\n",
    "            arg = arg.upper()\n",
    "        print(prefix + arg + suffix)\n",
    "\n",
    "func('in','ly','competent', 'formal', 'credib', capital=True)"
   ],
   "metadata": {
    "collapsed": false,
    "pycharm": {
     "name": "#%%\n"
    }
   }
  },
  {
   "cell_type": "code",
   "execution_count": 7,
   "outputs": [
    {
     "ename": "TypeError",
     "evalue": "func() takes 2 positional arguments but 3 were given",
     "output_type": "error",
     "traceback": [
      "\u001B[0;31m---------------------------------------------------------------------------\u001B[0m",
      "\u001B[0;31mTypeError\u001B[0m                                 Traceback (most recent call last)",
      "\u001B[0;32m<ipython-input-7-9d3c64cd9917>\u001B[0m in \u001B[0;36m<module>\u001B[0;34m\u001B[0m\n\u001B[1;32m      2\u001B[0m     \u001B[0mprint\u001B[0m\u001B[0;34m(\u001B[0m\u001B[0mprefix\u001B[0m  \u001B[0;34m+\u001B[0m \u001B[0msuffix\u001B[0m\u001B[0;34m)\u001B[0m\u001B[0;34m\u001B[0m\u001B[0;34m\u001B[0m\u001B[0m\n\u001B[1;32m      3\u001B[0m \u001B[0;34m\u001B[0m\u001B[0m\n\u001B[0;32m----> 4\u001B[0;31m \u001B[0mfunc\u001B[0m\u001B[0;34m(\u001B[0m\u001B[0;34m'in'\u001B[0m\u001B[0;34m,\u001B[0m\u001B[0;34m'ly'\u001B[0m\u001B[0;34m,\u001B[0m \u001B[0;32mTrue\u001B[0m\u001B[0;34m)\u001B[0m\u001B[0;34m\u001B[0m\u001B[0;34m\u001B[0m\u001B[0m\n\u001B[0m\u001B[1;32m      5\u001B[0m \u001B[0;34m\u001B[0m\u001B[0m\n",
      "\u001B[0;31mTypeError\u001B[0m: func() takes 2 positional arguments but 3 were given"
     ]
    }
   ],
   "source": [
    "def func(prefix, suffix, *, capital):\n",
    "    print(prefix  + suffix)\n",
    "\n",
    "func('in','ly', True)"
   ],
   "metadata": {
    "collapsed": false,
    "pycharm": {
     "name": "#%%\n"
    }
   }
  },
  {
   "cell_type": "code",
   "execution_count": 8,
   "outputs": [
    {
     "name": "stdout",
     "output_type": "stream",
     "text": [
      "inly\n"
     ]
    }
   ],
   "source": [
    "func('in','ly', capital=True)\n"
   ],
   "metadata": {
    "collapsed": false,
    "pycharm": {
     "name": "#%%\n"
    }
   }
  },
  {
   "cell_type": "markdown",
   "source": [
    "### Unpacking\n",
    "\n",
    "Unpacking is used during function call, not function definition. It also uses single-starred (works only with sequences) or double-starred (unpacks only dictionaries) inputs.\n"
   ],
   "metadata": {
    "collapsed": false,
    "pycharm": {
     "name": "#%% md\n"
    }
   }
  },
  {
   "cell_type": "code",
   "execution_count": 10,
   "outputs": [
    {
     "ename": "TypeError",
     "evalue": "foo() argument after ** must be a mapping, not list",
     "output_type": "error",
     "traceback": [
      "\u001B[0;31m---------------------------------------------------------------------------\u001B[0m",
      "\u001B[0;31mTypeError\u001B[0m                                 Traceback (most recent call last)",
      "\u001B[0;32m<ipython-input-10-4aee74549440>\u001B[0m in \u001B[0;36m<module>\u001B[0;34m\u001B[0m\n\u001B[1;32m      4\u001B[0m \u001B[0;34m\u001B[0m\u001B[0m\n\u001B[1;32m      5\u001B[0m \u001B[0ml\u001B[0m \u001B[0;34m=\u001B[0m \u001B[0;34m[\u001B[0m\u001B[0;36m1\u001B[0m\u001B[0;34m,\u001B[0m\u001B[0;36m2\u001B[0m\u001B[0;34m]\u001B[0m\u001B[0;34m\u001B[0m\u001B[0;34m\u001B[0m\u001B[0m\n\u001B[0;32m----> 6\u001B[0;31m \u001B[0mfoo\u001B[0m\u001B[0;34m(\u001B[0m\u001B[0;34m**\u001B[0m\u001B[0ml\u001B[0m\u001B[0;34m)\u001B[0m\u001B[0;34m\u001B[0m\u001B[0;34m\u001B[0m\u001B[0m\n\u001B[0m",
      "\u001B[0;31mTypeError\u001B[0m: foo() argument after ** must be a mapping, not list"
     ]
    }
   ],
   "source": [
    "def foo(a, b):\n",
    "    print(f\"a:{a}\")\n",
    "    print(f\"b:{b}\")\n",
    "\n",
    "l = [1,2]\n",
    "foo(*l)"
   ],
   "metadata": {
    "collapsed": false,
    "pycharm": {
     "name": "#%%\n"
    }
   }
  },
  {
   "cell_type": "code",
   "execution_count": 11,
   "outputs": [
    {
     "name": "stdout",
     "output_type": "stream",
     "text": [
      "a:1\n",
      "b:2\n"
     ]
    }
   ],
   "source": [
    "foo(*l)\n"
   ],
   "metadata": {
    "collapsed": false,
    "pycharm": {
     "name": "#%%\n"
    }
   }
  },
  {
   "cell_type": "code",
   "execution_count": 15,
   "outputs": [],
   "source": [
    "m = {\"a\":1, \"b\":3}"
   ],
   "metadata": {
    "collapsed": false,
    "pycharm": {
     "name": "#%%\n"
    }
   }
  },
  {
   "cell_type": "code",
   "execution_count": 16,
   "outputs": [
    {
     "name": "stdout",
     "output_type": "stream",
     "text": [
      "a:a\n",
      "b:b\n"
     ]
    }
   ],
   "source": [
    "foo(*m)"
   ],
   "metadata": {
    "collapsed": false,
    "pycharm": {
     "name": "#%%\n"
    }
   }
  },
  {
   "cell_type": "code",
   "execution_count": 17,
   "outputs": [
    {
     "name": "stdout",
     "output_type": "stream",
     "text": [
      "a:1\n",
      "b:3\n"
     ]
    }
   ],
   "source": [
    "foo(**m)"
   ],
   "metadata": {
    "collapsed": false,
    "pycharm": {
     "name": "#%%\n"
    }
   }
  },
  {
   "cell_type": "markdown",
   "source": [
    "* max_in_list.py\n",
    "\n"
   ],
   "metadata": {
    "collapsed": false,
    "pycharm": {
     "name": "#%% md\n"
    }
   }
  }
 ],
 "metadata": {
  "kernelspec": {
   "display_name": "Python 3",
   "language": "python",
   "name": "python3"
  },
  "language_info": {
   "codemirror_mode": {
    "name": "ipython",
    "version": 2
   },
   "file_extension": ".py",
   "mimetype": "text/x-python",
   "name": "python",
   "nbconvert_exporter": "python",
   "pygments_lexer": "ipython2",
   "version": "2.7.6"
  }
 },
 "nbformat": 4,
 "nbformat_minor": 0
}