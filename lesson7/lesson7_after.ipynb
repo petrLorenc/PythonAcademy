{
  "nbformat": 4,
  "nbformat_minor": 0,
  "metadata": {
    "kernelspec": {
      "display_name": "Python 3",
      "language": "python",
      "name": "python3"
    },
    "language_info": {
      "codemirror_mode": {
        "name": "ipython",
        "version": 2
      },
      "file_extension": ".py",
      "mimetype": "text/x-python",
      "name": "python",
      "nbconvert_exporter": "python",
      "pygments_lexer": "ipython2",
      "version": "2.7.6"
    },
    "colab": {
      "name": "lesson7.ipynb",
      "provenance": []
    }
  },
  "cells": [
    {
      "cell_type": "markdown",
      "metadata": {
        "collapsed": true,
        "pycharm": {
          "name": "#%% md\n"
        },
        "id": "NXYrb5QWUJqz",
        "colab_type": "text"
      },
      "source": [
        "## From previous lesson\n",
        "\n",
        " * Usage of modules\n",
        " * Quiz\n",
        " * Questions\n",
        "\n",
        "# Modules\n",
        "\n",
        "The same way we can package code into a function and then reuse it later, we can package function definitions and other statements inside a bigger unit - Python file. Python files (with the suffix .py) are also called modules.\n",
        "\n",
        "Modules can contain the scripts that can be run as programs. However, modules do not have to represent programs, but can contain function definitions only (or other Python statements). Those function definitions create functions that can be accessed from other Python scripts thus serving as a kind of functionality reservoir.\n",
        "\n",
        "Module advantages\n",
        "* we don't have to write all the code ourselves\n",
        "* modules make code more readable\n",
        "* we can reuse the code\n"
      ]
    },
    {
      "cell_type": "code",
      "metadata": {
        "pycharm": {
          "name": "#%%\n"
        },
        "id": "XGf-5Wq9UJq0",
        "colab_type": "code",
        "colab": {}
      },
      "source": [
        "# https://github.com/python/cpython/blob/3.8/Lib/random.py\n",
        "\n",
        "from random import randint as f\n",
        "# from XX import randfloat\n",
        "f(1,10)"
      ],
      "execution_count": null,
      "outputs": []
    },
    {
      "cell_type": "code",
      "metadata": {
        "pycharm": {
          "name": "#%%\n"
        },
        "id": "jcTQurBcUJq4",
        "colab_type": "code",
        "colab": {}
      },
      "source": [
        "# not do this if you don't know exactly what you want to do\n",
        "from random import *\n",
        "randint()\n",
        "from XX import *"
      ],
      "execution_count": null,
      "outputs": []
    },
    {
      "cell_type": "code",
      "metadata": {
        "pycharm": {
          "name": "#%%\n"
        },
        "id": "zeJndB24UJq8",
        "colab_type": "code",
        "colab": {}
      },
      "source": [
        "import random as r\n",
        "r.randint(1,2)"
      ],
      "execution_count": null,
      "outputs": []
    },
    {
      "cell_type": "code",
      "metadata": {
        "pycharm": {
          "name": "#%%\n"
        },
        "id": "biFugX-UUJq_",
        "colab_type": "code",
        "colab": {}
      },
      "source": [
        "words = ['hello', 'new', 'write', 'car', 'notebook']\n",
        "random.choice(words)"
      ],
      "execution_count": null,
      "outputs": []
    },
    {
      "cell_type": "code",
      "metadata": {
        "pycharm": {
          "name": "#%%\n"
        },
        "id": "wx56t-lQUJrB",
        "colab_type": "code",
        "colab": {}
      },
      "source": [
        "random.sample(words, 2)"
      ],
      "execution_count": null,
      "outputs": []
    },
    {
      "cell_type": "markdown",
      "metadata": {
        "collapsed": false,
        "id": "DQepQDw-UJrD",
        "colab_type": "text"
      },
      "source": [
        "* using_module.py\n",
        "    * statistics.py\n",
        "\n",
        "\n",
        "https://pypi.org/ - What most interesting package you can find on PyPI?\n",
        "\n",
        "# Lesson 7\n",
        "\n",
        "### FUNCTION SCOPES\n",
        "\n",
        "Scopes is a general name for separate namespaces, where the content of some of namespaces is better accessible than content of other namespaces. That means there is a kind of a hierarchy between scopes.\n",
        "\n",
        "Better accessible means for example, that a variable that was created outside a function is accessible from inside the function.\n",
        "\n",
        "It is not possible to access variables that were created inside a function by expressions outside the function:"
      ]
    },
    {
      "cell_type": "code",
      "metadata": {
        "pycharm": {
          "name": "#%%\n"
        },
        "id": "bF-aS-7KUJrE",
        "colab_type": "code",
        "colab": {
          "base_uri": "https://localhost:8080/",
          "height": 69
        },
        "outputId": "a3751dc8-8a9b-4cfb-fa0d-fe31c34839fb"
      },
      "source": [
        "name = \"Martin \"\n",
        "\n",
        "def func(name):\n",
        "    name = 'John '\n",
        "    print(name)\n",
        "\n",
        "func(name)\n",
        "full_name = name + 'Smith'\n",
        "print(full_name)\n",
        "func(name)"
      ],
      "execution_count": null,
      "outputs": [
        {
          "output_type": "stream",
          "text": [
            "John \n",
            "Martin Smith\n",
            "John \n"
          ],
          "name": "stdout"
        }
      ]
    },
    {
      "cell_type": "markdown",
      "metadata": {
        "collapsed": false,
        "pycharm": {
          "name": "#%% md\n"
        },
        "id": "_RIbsIAoUJrH",
        "colab_type": "text"
      },
      "source": [
        "There can be up to four different scopes in a Python program:\n",
        "\n",
        "* Local\n",
        "    * in functions\n",
        "* Enclosing\n",
        "* Global\n",
        "* Built-in\n",
        "    * print(), sum(), all() etc.\n",
        "    * ```from pprint import pprint as pp\n",
        "      pp(__builtins__.__dict__)```\n",
        "\n",
        "We will refer to the hierarchy of scopes using the acronym LEGB.\n",
        "\n",
        "We can imagine scopes as spheres, where those inside one sphere have access to items above, but not below:"
      ]
    },
    {
      "cell_type": "markdown",
      "metadata": {
        "collapsed": false,
        "pycharm": {
          "name": "#%% md\n"
        },
        "id": "sRcfWcBBUJrH",
        "colab_type": "text"
      },
      "source": [
        "Once the function finishes its execution, its local scope (all its variables) **is destroyed**. Then the program execution continues in the global scope, from where we cannot access non-existent variables from the order_sequence scope. In global scope, we should not try to use variable names defined only inside functions, because they do not exist in the global scope.\n"
      ]
    },
    {
      "cell_type": "code",
      "metadata": {
        "pycharm": {
          "name": "#%%\n"
        },
        "id": "PRDEobIuUJrI",
        "colab_type": "code",
        "colab": {}
      },
      "source": [
        "class Foo:\n",
        "    a = 1\n",
        "\n",
        "    def bar(self):\n",
        "        print(self.a)\n",
        "    \n"
      ],
      "execution_count": null,
      "outputs": []
    },
    {
      "cell_type": "code",
      "metadata": {
        "pycharm": {
          "name": "#%%\n"
        },
        "id": "-chbJuowUJrM",
        "colab_type": "code",
        "colab": {
          "base_uri": "https://localhost:8080/",
          "height": 35
        },
        "outputId": "3e82bd96-857d-4220-953b-a7e2cb45a7ee"
      },
      "source": [
        "Foo().bar()"
      ],
      "execution_count": null,
      "outputs": [
        {
          "output_type": "stream",
          "text": [
            "1\n"
          ],
          "name": "stdout"
        }
      ]
    },
    {
      "cell_type": "code",
      "metadata": {
        "pycharm": {
          "name": "#%%\n"
        },
        "id": "-HzMVsAbUJrP",
        "colab_type": "code",
        "colab": {
          "base_uri": "https://localhost:8080/",
          "height": 35
        },
        "outputId": "1867ef09-4d30-4e38-dabe-9254025ffa25"
      },
      "source": [
        "a = 0\n",
        "def foo():\n",
        "    a = 11\n",
        "\n",
        "def bar():\n",
        "    print(a)\n",
        "\n",
        "bar()\n",
        "foo()"
      ],
      "execution_count": null,
      "outputs": [
        {
          "output_type": "stream",
          "text": [
            "0\n"
          ],
          "name": "stdout"
        }
      ]
    },
    {
      "cell_type": "code",
      "metadata": {
        "pycharm": {
          "name": "#%%\n"
        },
        "id": "vkr_rB7KUJrR",
        "colab_type": "code",
        "colab": {}
      },
      "source": [
        "foo()\n",
        "bar()"
      ],
      "execution_count": null,
      "outputs": []
    },
    {
      "cell_type": "code",
      "metadata": {
        "pycharm": {
          "name": "#%%\n"
        },
        "id": "_m10Qor2UJrU",
        "colab_type": "code",
        "colab": {
          "base_uri": "https://localhost:8080/",
          "height": 35
        },
        "outputId": "27185a41-f901-4151-f690-828c31ced5f8"
      },
      "source": [
        "a = 0\n",
        "def foo(a):\n",
        "    a = 11\n",
        "\n",
        "def bar():\n",
        "    print(a)\n",
        "\n",
        "bar()\n",
        "foo(a)"
      ],
      "execution_count": null,
      "outputs": [
        {
          "output_type": "stream",
          "text": [
            "0\n"
          ],
          "name": "stdout"
        }
      ]
    },
    {
      "cell_type": "code",
      "metadata": {
        "pycharm": {
          "name": "#%%\n"
        },
        "id": "xYyxdOmuUJrW",
        "colab_type": "code",
        "colab": {
          "base_uri": "https://localhost:8080/",
          "height": 35
        },
        "outputId": "943f5fa9-f595-4604-8486-9623ce563b67"
      },
      "source": [
        "foo(a)\n",
        "bar()"
      ],
      "execution_count": null,
      "outputs": [
        {
          "output_type": "stream",
          "text": [
            "0\n"
          ],
          "name": "stdout"
        }
      ]
    },
    {
      "cell_type": "code",
      "metadata": {
        "pycharm": {
          "name": "#%%\n"
        },
        "id": "rsLqCkzXUJrY",
        "colab_type": "code",
        "colab": {
          "base_uri": "https://localhost:8080/",
          "height": 52
        },
        "outputId": "a2c7526c-cd4f-4cb3-ce2f-ce3c9ee98ad2"
      },
      "source": [
        "name = 'John'\n",
        "surname = 'Smith'\n",
        "\n",
        "def func():\n",
        "    name = 'Bob'\n",
        "    fullname = ' '.join((name,surname))\n",
        "    print(fullname)\n",
        "    # print(age)\n",
        "\n",
        "func()\n",
        "print(name)\n",
        "# print(fullname)"
      ],
      "execution_count": null,
      "outputs": [
        {
          "output_type": "stream",
          "text": [
            "Bob Smith\n",
            "John\n"
          ],
          "name": "stdout"
        }
      ]
    },
    {
      "cell_type": "markdown",
      "metadata": {
        "collapsed": false,
        "pycharm": {
          "name": "#%% md\n"
        },
        "id": "Y9AtGxO2UJra",
        "colab_type": "text"
      },
      "source": [
        " * fibonacci.py - usage of function\n",
        "\n",
        "### Global\n"
      ]
    },
    {
      "cell_type": "code",
      "metadata": {
        "pycharm": {
          "name": "#%%\n"
        },
        "id": "804mmGjqUJrb",
        "colab_type": "code",
        "colab": {
          "base_uri": "https://localhost:8080/",
          "height": 52
        },
        "outputId": "59cfd3e7-49b4-4ba5-bb0f-91ffa5d599e3"
      },
      "source": [
        "name = 'John'\n",
        "def func():\n",
        "    global name\n",
        "    name = 'Bob'\n",
        "    print(name)\n",
        "func()\n",
        "print(name)\n"
      ],
      "execution_count": null,
      "outputs": [
        {
          "output_type": "stream",
          "text": [
            "Bob\n",
            "Bob\n"
          ],
          "name": "stdout"
        }
      ]
    },
    {
      "cell_type": "markdown",
      "metadata": {
        "collapsed": false,
        "pycharm": {
          "name": "#%% md\n"
        },
        "id": "qxTziyMLUJre",
        "colab_type": "text"
      },
      "source": [
        "Changing global variables is not considered a good practice. It can cause confusion (code reader does not have to realize that our goal is to change the variable value) and unexpected results in the program. Reasonable use of global state is recommended rather for advanced programmers for algorithm optimization or reduced complexity.\n"
      ]
    },
    {
      "cell_type": "code",
      "metadata": {
        "pycharm": {
          "name": "#%%\n"
        },
        "id": "tLnCuaVIUJre",
        "colab_type": "code",
        "colab": {
          "base_uri": "https://localhost:8080/",
          "height": 35
        },
        "outputId": "7ffd247b-2260-40d4-a2b5-42c64d617b5c"
      },
      "source": [
        "sum([1,2,3])"
      ],
      "execution_count": null,
      "outputs": [
        {
          "output_type": "execute_result",
          "data": {
            "text/plain": [
              "6"
            ]
          },
          "metadata": {
            "tags": []
          },
          "execution_count": 34
        }
      ]
    },
    {
      "cell_type": "code",
      "metadata": {
        "pycharm": {
          "name": "#%%\n"
        },
        "id": "ODKXxukjUJrh",
        "colab_type": "code",
        "colab": {}
      },
      "source": [
        "sum = sum([1,2,3])"
      ],
      "execution_count": null,
      "outputs": []
    },
    {
      "cell_type": "code",
      "metadata": {
        "pycharm": {
          "name": "#%%\n"
        },
        "id": "qiAm76NSUJrj",
        "colab_type": "code",
        "colab": {
          "base_uri": "https://localhost:8080/",
          "height": 166
        },
        "outputId": "bdda856a-ad1a-4c63-e037-9da6b35f6f87"
      },
      "source": [
        "sum([1,2,3])"
      ],
      "execution_count": null,
      "outputs": [
        {
          "output_type": "error",
          "ename": "TypeError",
          "evalue": "ignored",
          "traceback": [
            "\u001b[0;31m---------------------------------------------------------------------------\u001b[0m",
            "\u001b[0;31mTypeError\u001b[0m                                 Traceback (most recent call last)",
            "\u001b[0;32m<ipython-input-36-56b33b39430a>\u001b[0m in \u001b[0;36m<module>\u001b[0;34m()\u001b[0m\n\u001b[0;32m----> 1\u001b[0;31m \u001b[0msum\u001b[0m\u001b[0;34m(\u001b[0m\u001b[0;34m[\u001b[0m\u001b[0;36m1\u001b[0m\u001b[0;34m,\u001b[0m\u001b[0;36m2\u001b[0m\u001b[0;34m,\u001b[0m\u001b[0;36m3\u001b[0m\u001b[0;34m]\u001b[0m\u001b[0;34m)\u001b[0m\u001b[0;34m\u001b[0m\u001b[0;34m\u001b[0m\u001b[0m\n\u001b[0m",
            "\u001b[0;31mTypeError\u001b[0m: 'int' object is not callable"
          ]
        }
      ]
    },
    {
      "cell_type": "code",
      "metadata": {
        "pycharm": {
          "name": "#%%\n"
        },
        "id": "4kgE2DlmUJrl",
        "colab_type": "code",
        "colab": {}
      },
      "source": [
        "del sum"
      ],
      "execution_count": null,
      "outputs": []
    },
    {
      "cell_type": "code",
      "metadata": {
        "pycharm": {
          "name": "#%%\n"
        },
        "id": "Trtb-shEUJro",
        "colab_type": "code",
        "colab": {
          "base_uri": "https://localhost:8080/",
          "height": 35
        },
        "outputId": "5227ddb6-5dad-4e92-c865-fc469c86db5e"
      },
      "source": [
        "sum([1,2,3])"
      ],
      "execution_count": null,
      "outputs": [
        {
          "output_type": "execute_result",
          "data": {
            "text/plain": [
              "6"
            ]
          },
          "metadata": {
            "tags": []
          },
          "execution_count": 38
        }
      ]
    },
    {
      "cell_type": "code",
      "metadata": {
        "pycharm": {
          "name": "#%%\n"
        },
        "id": "pK2BVv3GUJrr",
        "colab_type": "code",
        "colab": {
          "base_uri": "https://localhost:8080/",
          "height": 166
        },
        "outputId": "07148f02-e0c1-42ce-e836-53197e0d557d"
      },
      "source": [
        "del sum"
      ],
      "execution_count": null,
      "outputs": [
        {
          "output_type": "error",
          "ename": "NameError",
          "evalue": "ignored",
          "traceback": [
            "\u001b[0;31m---------------------------------------------------------------------------\u001b[0m",
            "\u001b[0;31mNameError\u001b[0m                                 Traceback (most recent call last)",
            "\u001b[0;32m<ipython-input-39-9b441b606bb1>\u001b[0m in \u001b[0;36m<module>\u001b[0;34m()\u001b[0m\n\u001b[0;32m----> 1\u001b[0;31m \u001b[0;32mdel\u001b[0m \u001b[0msum\u001b[0m\u001b[0;34m\u001b[0m\u001b[0;34m\u001b[0m\u001b[0m\n\u001b[0m",
            "\u001b[0;31mNameError\u001b[0m: name 'sum' is not defined"
          ]
        }
      ]
    },
    {
      "cell_type": "code",
      "metadata": {
        "pycharm": {
          "name": "#%%\n"
        },
        "id": "Jj1QMg_FUJrt",
        "colab_type": "code",
        "colab": {
          "base_uri": "https://localhost:8080/",
          "height": 35
        },
        "outputId": "e9f4684e-872b-466c-d394-02334efb7aa1"
      },
      "source": [
        "sum([1,2,3])"
      ],
      "execution_count": null,
      "outputs": [
        {
          "output_type": "execute_result",
          "data": {
            "text/plain": [
              "6"
            ]
          },
          "metadata": {
            "tags": []
          },
          "execution_count": 40
        }
      ]
    },
    {
      "cell_type": "code",
      "metadata": {
        "id": "jtAoYDMQ2on3",
        "colab_type": "code",
        "colab": {
          "base_uri": "https://localhost:8080/",
          "height": 218
        },
        "outputId": "3769a308-a630-4246-b645-4899a8d6f03a"
      },
      "source": [
        "def sum():\n",
        "  print(\"XX\")\n",
        "sum()\n",
        "del sum\n",
        "sum()"
      ],
      "execution_count": null,
      "outputs": [
        {
          "output_type": "stream",
          "text": [
            "XX\n"
          ],
          "name": "stdout"
        },
        {
          "output_type": "error",
          "ename": "TypeError",
          "evalue": "ignored",
          "traceback": [
            "\u001b[0;31m---------------------------------------------------------------------------\u001b[0m",
            "\u001b[0;31mTypeError\u001b[0m                                 Traceback (most recent call last)",
            "\u001b[0;32m<ipython-input-42-b01dc19600eb>\u001b[0m in \u001b[0;36m<module>\u001b[0;34m()\u001b[0m\n\u001b[1;32m      3\u001b[0m \u001b[0msum\u001b[0m\u001b[0;34m(\u001b[0m\u001b[0;34m)\u001b[0m\u001b[0;34m\u001b[0m\u001b[0;34m\u001b[0m\u001b[0m\n\u001b[1;32m      4\u001b[0m \u001b[0;32mdel\u001b[0m \u001b[0msum\u001b[0m\u001b[0;34m\u001b[0m\u001b[0;34m\u001b[0m\u001b[0m\n\u001b[0;32m----> 5\u001b[0;31m \u001b[0msum\u001b[0m\u001b[0;34m(\u001b[0m\u001b[0;34m)\u001b[0m\u001b[0;34m\u001b[0m\u001b[0;34m\u001b[0m\u001b[0m\n\u001b[0m",
            "\u001b[0;31mTypeError\u001b[0m: sum expected at least 1 arguments, got 0"
          ]
        }
      ]
    },
    {
      "cell_type": "markdown",
      "metadata": {
        "collapsed": false,
        "pycharm": {
          "name": "#%% md\n"
        },
        "id": "5JMMqlVoUJrw",
        "colab_type": "text"
      },
      "source": [
        " * statistics_2.py\n",
        "\n",
        "### Function inside Function\n",
        "To build a function inside a function has sense in the two following scenarios:\n",
        "\n",
        "* We do not want the inner function to be accessible from outside (we want to isolate it)\n",
        "* We want to return the created function"
      ]
    },
    {
      "cell_type": "code",
      "metadata": {
        "pycharm": {
          "name": "#%%\n"
        },
        "id": "AtL_10-GUJrw",
        "colab_type": "code",
        "colab": {}
      },
      "source": [
        "def wrapper(step):\n",
        "    start = 0\n",
        "    end = 10\n",
        "    def inner():\n",
        "        return range(start,end, step)\n",
        "    return inner"
      ],
      "execution_count": null,
      "outputs": []
    },
    {
      "cell_type": "code",
      "metadata": {
        "id": "AGdnrpz53Mne",
        "colab_type": "code",
        "colab": {}
      },
      "source": [
        "range_2 = wrapper(2)"
      ],
      "execution_count": null,
      "outputs": []
    },
    {
      "cell_type": "code",
      "metadata": {
        "id": "g59dHLYf3W6T",
        "colab_type": "code",
        "colab": {
          "base_uri": "https://localhost:8080/",
          "height": 35
        },
        "outputId": "3b3030cc-7bca-406a-c522-0c58fb11795d"
      },
      "source": [
        "list(range_2())"
      ],
      "execution_count": null,
      "outputs": [
        {
          "output_type": "execute_result",
          "data": {
            "text/plain": [
              "[0, 2, 4, 6, 8]"
            ]
          },
          "metadata": {
            "tags": []
          },
          "execution_count": 46
        }
      ]
    },
    {
      "cell_type": "code",
      "metadata": {
        "id": "f8KLgqDJ3dMR",
        "colab_type": "code",
        "colab": {}
      },
      "source": [
        "range_5 = wrapper(5)"
      ],
      "execution_count": null,
      "outputs": []
    },
    {
      "cell_type": "code",
      "metadata": {
        "id": "viQzISE43lFj",
        "colab_type": "code",
        "colab": {
          "base_uri": "https://localhost:8080/",
          "height": 35
        },
        "outputId": "d9352de2-b446-426c-c84c-93788dbed59e"
      },
      "source": [
        "list(range_5())"
      ],
      "execution_count": null,
      "outputs": [
        {
          "output_type": "execute_result",
          "data": {
            "text/plain": [
              "[0, 5]"
            ]
          },
          "metadata": {
            "tags": []
          },
          "execution_count": 48
        }
      ]
    },
    {
      "cell_type": "markdown",
      "metadata": {
        "collapsed": false,
        "pycharm": {
          "name": "#%% md\n"
        },
        "id": "QK8OKbZ2UJry",
        "colab_type": "text"
      },
      "source": [
        " * universal_range.py\n",
        "\n",
        "If we wanted to modify those variables inside the local scope of inner() function, we would have to declare them as nonlocal:"
      ]
    },
    {
      "cell_type": "code",
      "metadata": {
        "pycharm": {
          "name": "#%%\n"
        },
        "id": "GRcbQ4T_UJry",
        "colab_type": "code",
        "colab": {}
      },
      "source": [
        "import random\n",
        "def wrapper():\n",
        "    start = 10\n",
        "    end = 20\n",
        "    print('Original variable values: start:',start,'end:',end)\n",
        "    def inner():\n",
        "        nonlocal start, end\n",
        "        start += 5\n",
        "        end += 5\n",
        "        return range(start,end)\n",
        "    print('Before function inner: start:',start,'end:',end)\n",
        "    inner()\n",
        "    print('Function inner has changed my variable values: start:',start,'end:',end)\n",
        "    return inner"
      ],
      "execution_count": null,
      "outputs": []
    },
    {
      "cell_type": "code",
      "metadata": {
        "pycharm": {
          "name": "#%%\n"
        },
        "id": "zfEjWPKCUJr0",
        "colab_type": "code",
        "colab": {
          "base_uri": "https://localhost:8080/",
          "height": 87
        },
        "outputId": "2817b59b-0cfb-47be-ef64-e234b1c9af3b"
      },
      "source": [
        "wrapper()()"
      ],
      "execution_count": null,
      "outputs": [
        {
          "output_type": "stream",
          "text": [
            "Original variable values: start: 10 end: 20\n",
            "Before function inner: start: 10 end: 20\n",
            "Function inner has changed my variable values: start: 15 end: 25\n"
          ],
          "name": "stdout"
        },
        {
          "output_type": "execute_result",
          "data": {
            "text/plain": [
              "range(20, 30)"
            ]
          },
          "metadata": {
            "tags": []
          },
          "execution_count": 52
        }
      ]
    },
    {
      "cell_type": "code",
      "metadata": {
        "pycharm": {
          "name": "#%%\n"
        },
        "id": "dp1C3XUlUJr3",
        "colab_type": "code",
        "colab": {
          "base_uri": "https://localhost:8080/",
          "height": 69
        },
        "outputId": "55d554f5-2e21-4b1b-881e-04f1a701c513"
      },
      "source": [
        "glob = 'glob is global variable'\n",
        "def func():\n",
        "    print('FUNC SCOPE: ', locals())\n",
        "    def inner_func():\n",
        "        print('INNER_FUNC SCOPE: ', locals())\n",
        "        def basement():\n",
        "            print('BASEMENT SCOPE: ', locals())\n",
        "        basement()\n",
        "    inner_func()\n",
        "func()"
      ],
      "execution_count": null,
      "outputs": [
        {
          "output_type": "stream",
          "text": [
            "FUNC SCOPE:  {}\n",
            "INNER_FUNC SCOPE:  {}\n",
            "BASEMENT SCOPE:  {}\n"
          ],
          "name": "stdout"
        }
      ]
    },
    {
      "cell_type": "code",
      "metadata": {
        "pycharm": {
          "name": "#%%\n"
        },
        "id": "e4NlH_eaUJr5",
        "colab_type": "code",
        "colab": {
          "base_uri": "https://localhost:8080/",
          "height": 69
        },
        "outputId": "c7f21ad1-aaec-4a6b-880f-01715705d259"
      },
      "source": [
        "glob = 'glob is global variable'\n",
        "def func():\n",
        "    func_var = 'hello from func'\n",
        "    print('FUNC SCOPE: ', locals())\n",
        "    def inner_func():\n",
        "        inner_func_var = 'hello from inner_func'\n",
        "        print('INNER_FUNC SCOPE: ', locals())\n",
        "        def basement():\n",
        "            basement_var = 'Hello from the basement'\n",
        "            print('BASEMENT SCOPE: ', locals())\n",
        "        basement()\n",
        "    inner_func()\n",
        "func()"
      ],
      "execution_count": null,
      "outputs": [
        {
          "output_type": "stream",
          "text": [
            "FUNC SCOPE:  {'func_var': 'hello from func'}\n",
            "INNER_FUNC SCOPE:  {'inner_func_var': 'hello from inner_func'}\n",
            "BASEMENT SCOPE:  {'basement_var': 'Hello from the basement'}\n"
          ],
          "name": "stdout"
        }
      ]
    },
    {
      "cell_type": "code",
      "metadata": {
        "pycharm": {
          "name": "#%%\n"
        },
        "id": "LVndH9XVUJr6",
        "colab_type": "code",
        "colab": {}
      },
      "source": [
        "globals()\n"
      ],
      "execution_count": null,
      "outputs": []
    },
    {
      "cell_type": "markdown",
      "metadata": {
        "collapsed": false,
        "pycharm": {
          "name": "#%% md\n"
        },
        "id": "Z60hN2IlUJr9",
        "colab_type": "text"
      },
      "source": [
        "## FUNCTION INPUTS\n",
        "\n",
        "1. function, that do not accept any inputs\n",
        "2. functions that accept fixed number of inputs (one and more)\n",
        "3. functions that accept variable number of inputs\n",
        "\n",
        "\n",
        "#### Variable number of arguments"
      ]
    },
    {
      "cell_type": "code",
      "metadata": {
        "pycharm": {
          "name": "#%%\n"
        },
        "id": "6bn_StUiUJr-",
        "colab_type": "code",
        "colab": {
          "base_uri": "https://localhost:8080/",
          "height": 35
        },
        "outputId": "bdddb5a3-5fcc-4671-e018-ba7598ad4667"
      },
      "source": [
        "def foo(*args):\n",
        "    print(args)\n",
        "\n",
        "foo(1,2, \"SS\")"
      ],
      "execution_count": null,
      "outputs": [
        {
          "output_type": "stream",
          "text": [
            "(1, 2, 'SS')\n"
          ],
          "name": "stdout"
        }
      ]
    },
    {
      "cell_type": "markdown",
      "metadata": {
        "collapsed": false,
        "pycharm": {
          "name": "#%% md\n"
        },
        "id": "oEJKhmJAUJsA",
        "colab_type": "text"
      },
      "source": [
        "Such a starred parameter has to be listed as the last one among all the arguments we want to be treated as positional"
      ]
    },
    {
      "cell_type": "code",
      "metadata": {
        "pycharm": {
          "name": "#%%\n"
        },
        "id": "CGPnso0KUJsA",
        "colab_type": "code",
        "colab": {}
      },
      "source": [
        "prefix, suffix, *args = 'in','ly','competent', 'formal', 'credib'"
      ],
      "execution_count": null,
      "outputs": []
    },
    {
      "cell_type": "code",
      "metadata": {
        "pycharm": {
          "name": "#%%\n"
        },
        "id": "uCIuba0OUJsD",
        "colab_type": "code",
        "colab": {
          "base_uri": "https://localhost:8080/",
          "height": 35
        },
        "outputId": "65ecd998-6019-477b-e372-049dd96c0778"
      },
      "source": [
        "def bar(**kwargs):\n",
        "    print(kwargs)\n",
        "\n",
        "bar(name='Bob', city='London')"
      ],
      "execution_count": null,
      "outputs": [
        {
          "output_type": "stream",
          "text": [
            "{'name': 'Bob', 'city': 'London'}\n"
          ],
          "name": "stdout"
        }
      ]
    },
    {
      "cell_type": "code",
      "metadata": {
        "pycharm": {
          "name": "#%%\n"
        },
        "id": "vhmnxVBXUJsE",
        "colab_type": "code",
        "colab": {
          "base_uri": "https://localhost:8080/",
          "height": 69
        },
        "outputId": "6833463c-e48f-4746-9484-85209c610217"
      },
      "source": [
        "def func(prefix, suffix, *args, **kwargs):\n",
        "    for arg in args:\n",
        "        if 'capital' in kwargs and kwargs['capital'] == True:\n",
        "            arg = arg.upper()\n",
        "        print(prefix + arg + suffix)\n",
        "\n",
        "func('in','ly','competent', 'formal', 'credib', capital=True)"
      ],
      "execution_count": null,
      "outputs": [
        {
          "output_type": "stream",
          "text": [
            "inCOMPETENTly\n",
            "inFORMALly\n",
            "inCREDIBly\n"
          ],
          "name": "stdout"
        }
      ]
    },
    {
      "cell_type": "markdown",
      "metadata": {
        "collapsed": false,
        "pycharm": {
          "name": "#%% md\n"
        },
        "id": "qqSKIO7-UJsG",
        "colab_type": "text"
      },
      "source": [
        "We can force some required parameters to be passed by keyword if we put those parameters after the single star in a function definition. If we did not use keyword=value form to pass the argument to the function, we would get an error.\n",
        "\n",
        "Required keyword parameters are used to improve the readability of function calls."
      ]
    },
    {
      "cell_type": "code",
      "metadata": {
        "pycharm": {
          "name": "#%%\n"
        },
        "id": "hcavkoicUJsH",
        "colab_type": "code",
        "colab": {}
      },
      "source": [
        "def func(prefix, suffix, *args, capital):\n",
        "    for arg in args:\n",
        "        if capital:\n",
        "            arg = arg.upper()\n",
        "        print(prefix + arg + suffix)\n",
        "\n",
        "func('in','ly','competent', 'formal', 'credib', capital=True)"
      ],
      "execution_count": null,
      "outputs": []
    },
    {
      "cell_type": "code",
      "metadata": {
        "pycharm": {
          "name": "#%%\n"
        },
        "id": "zrW_CN4KUJsI",
        "colab_type": "code",
        "colab": {
          "base_uri": "https://localhost:8080/",
          "height": 201
        },
        "outputId": "d990d366-d453-4808-9e73-e73bfbe5fcbe"
      },
      "source": [
        "def func(prefix, suffix, *args, capital):\n",
        "    print(prefix  + suffix)\n",
        "    print(args)\n",
        "\n",
        "func('in','ly', True)"
      ],
      "execution_count": null,
      "outputs": [
        {
          "output_type": "error",
          "ename": "TypeError",
          "evalue": "ignored",
          "traceback": [
            "\u001b[0;31m---------------------------------------------------------------------------\u001b[0m",
            "\u001b[0;31mTypeError\u001b[0m                                 Traceback (most recent call last)",
            "\u001b[0;32m<ipython-input-61-ca296a941c3c>\u001b[0m in \u001b[0;36m<module>\u001b[0;34m()\u001b[0m\n\u001b[1;32m      3\u001b[0m     \u001b[0mprint\u001b[0m\u001b[0;34m(\u001b[0m\u001b[0margs\u001b[0m\u001b[0;34m)\u001b[0m\u001b[0;34m\u001b[0m\u001b[0;34m\u001b[0m\u001b[0m\n\u001b[1;32m      4\u001b[0m \u001b[0;34m\u001b[0m\u001b[0m\n\u001b[0;32m----> 5\u001b[0;31m \u001b[0mfunc\u001b[0m\u001b[0;34m(\u001b[0m\u001b[0;34m'in'\u001b[0m\u001b[0;34m,\u001b[0m\u001b[0;34m'ly'\u001b[0m\u001b[0;34m,\u001b[0m \u001b[0;32mTrue\u001b[0m\u001b[0;34m)\u001b[0m\u001b[0;34m\u001b[0m\u001b[0;34m\u001b[0m\u001b[0m\n\u001b[0m",
            "\u001b[0;31mTypeError\u001b[0m: func() missing 1 required keyword-only argument: 'capital'"
          ]
        }
      ]
    },
    {
      "cell_type": "code",
      "metadata": {
        "pycharm": {
          "name": "#%%\n"
        },
        "id": "YtEmgdhXUJsK",
        "colab_type": "code",
        "colab": {
          "base_uri": "https://localhost:8080/",
          "height": 52
        },
        "outputId": "580344f3-2f34-477d-f47f-e8abaed60cdf"
      },
      "source": [
        "func('in','ly', capital=True)\n"
      ],
      "execution_count": null,
      "outputs": [
        {
          "output_type": "stream",
          "text": [
            "inly\n",
            "()\n"
          ],
          "name": "stdout"
        }
      ]
    },
    {
      "cell_type": "markdown",
      "metadata": {
        "collapsed": false,
        "pycharm": {
          "name": "#%% md\n"
        },
        "id": "52uaZRqyUJsN",
        "colab_type": "text"
      },
      "source": [
        "### Unpacking\n",
        "\n",
        "Unpacking is used during function call, not function definition. It also uses single-starred (works only with sequences) or double-starred (unpacks only dictionaries) inputs.\n"
      ]
    },
    {
      "cell_type": "code",
      "metadata": {
        "pycharm": {
          "name": "#%%\n"
        },
        "id": "DHYgG4QkUJsN",
        "colab_type": "code",
        "colab": {
          "base_uri": "https://localhost:8080/",
          "height": 201
        },
        "outputId": "1adc5ea6-2956-4ada-d1de-41108dd1cfd5"
      },
      "source": [
        "def foo(a, b):\n",
        "    print(f\"a:{a}\")\n",
        "    print(f\"b:{b}\")\n",
        "\n",
        "l = [1,2,3]\n",
        "foo(*l)"
      ],
      "execution_count": null,
      "outputs": [
        {
          "output_type": "error",
          "ename": "TypeError",
          "evalue": "ignored",
          "traceback": [
            "\u001b[0;31m---------------------------------------------------------------------------\u001b[0m",
            "\u001b[0;31mTypeError\u001b[0m                                 Traceback (most recent call last)",
            "\u001b[0;32m<ipython-input-65-d1c200b29cc2>\u001b[0m in \u001b[0;36m<module>\u001b[0;34m()\u001b[0m\n\u001b[1;32m      4\u001b[0m \u001b[0;34m\u001b[0m\u001b[0m\n\u001b[1;32m      5\u001b[0m \u001b[0ml\u001b[0m \u001b[0;34m=\u001b[0m \u001b[0;34m[\u001b[0m\u001b[0;36m1\u001b[0m\u001b[0;34m,\u001b[0m\u001b[0;36m2\u001b[0m\u001b[0;34m,\u001b[0m\u001b[0;36m3\u001b[0m\u001b[0;34m]\u001b[0m\u001b[0;34m\u001b[0m\u001b[0;34m\u001b[0m\u001b[0m\n\u001b[0;32m----> 6\u001b[0;31m \u001b[0mfoo\u001b[0m\u001b[0;34m(\u001b[0m\u001b[0;34m*\u001b[0m\u001b[0ml\u001b[0m\u001b[0;34m)\u001b[0m\u001b[0;34m\u001b[0m\u001b[0;34m\u001b[0m\u001b[0m\n\u001b[0m",
            "\u001b[0;31mTypeError\u001b[0m: foo() takes 2 positional arguments but 3 were given"
          ]
        }
      ]
    },
    {
      "cell_type": "code",
      "metadata": {
        "pycharm": {
          "name": "#%%\n"
        },
        "id": "e-yl0YzoUJsQ",
        "colab_type": "code",
        "colab": {
          "base_uri": "https://localhost:8080/",
          "height": 52
        },
        "outputId": "fe4540ed-73de-4fb2-daca-2684798296cf"
      },
      "source": [
        "foo(1,2)\n"
      ],
      "execution_count": null,
      "outputs": [
        {
          "output_type": "stream",
          "text": [
            "a:1\n",
            "b:2\n"
          ],
          "name": "stdout"
        }
      ]
    },
    {
      "cell_type": "code",
      "metadata": {
        "pycharm": {
          "name": "#%%\n"
        },
        "id": "k-j07GrSUJsR",
        "colab_type": "code",
        "colab": {}
      },
      "source": [
        "m = {\"a\":1, \"b\":3}"
      ],
      "execution_count": null,
      "outputs": []
    },
    {
      "cell_type": "code",
      "metadata": {
        "pycharm": {
          "name": "#%%\n"
        },
        "id": "zcKRe--WUJsT",
        "colab_type": "code",
        "colab": {
          "base_uri": "https://localhost:8080/",
          "height": 52
        },
        "outputId": "742d7622-11b4-4c16-82da-3823767e3476"
      },
      "source": [
        "foo(*m)"
      ],
      "execution_count": null,
      "outputs": [
        {
          "output_type": "stream",
          "text": [
            "a:a\n",
            "b:b\n"
          ],
          "name": "stdout"
        }
      ]
    },
    {
      "cell_type": "code",
      "metadata": {
        "pycharm": {
          "name": "#%%\n"
        },
        "id": "443m3DqAUJsV",
        "colab_type": "code",
        "colab": {
          "base_uri": "https://localhost:8080/",
          "height": 52
        },
        "outputId": "e9818206-050a-4ff6-bfa2-7a2b54e90dc2"
      },
      "source": [
        "foo(**m)"
      ],
      "execution_count": null,
      "outputs": [
        {
          "output_type": "stream",
          "text": [
            "a:1\n",
            "b:3\n"
          ],
          "name": "stdout"
        }
      ]
    },
    {
      "cell_type": "code",
      "metadata": {
        "id": "3ctV3bpi9ou-",
        "colab_type": "code",
        "colab": {
          "base_uri": "https://localhost:8080/",
          "height": 52
        },
        "outputId": "7f377daa-1de9-4ee9-bdfb-451ba29f6191"
      },
      "source": [
        "foo(a=1, b=3)"
      ],
      "execution_count": null,
      "outputs": [
        {
          "output_type": "stream",
          "text": [
            "a:1\n",
            "b:3\n"
          ],
          "name": "stdout"
        }
      ]
    },
    {
      "cell_type": "markdown",
      "metadata": {
        "collapsed": false,
        "pycharm": {
          "name": "#%% md\n"
        },
        "id": "zAciud0GUJsX",
        "colab_type": "text"
      },
      "source": [
        "* max_in_list.py\n",
        "\n"
      ]
    }
  ]
}