{
 "cells": [
  {
   "cell_type": "markdown",
   "source": [
    "# Lesson 4\n",
    "\n",
    "### Questions from homeworks + Quizzes\n",
    "\n",
    "\n",
    "\n",
    "### Repetition from previous lesson:\n",
    "  * movies2.py\n",
    "  * while_loop_0.py"
   ],
   "metadata": {
    "collapsed": false
   }
  },
  {
   "cell_type": "markdown",
   "source": [
    "# While\n",
    "\n",
    "Computers are good friends when speaking about doing repetitive and boring tasks on our behalf. Repetitions in programming are called loops\n",
    "\n",
    "```\n",
    "while test:\n",
    "    statements\n",
    "    statement manipulating variable used in the header expression\n",
    "```"
   ],
   "metadata": {
    "collapsed": false
   }
  },
  {
   "cell_type": "code",
   "execution_count": 1,
   "outputs": [
    {
     "name": "stdout",
     "output_type": "stream",
     "text": [
      "My number is 5\n",
      "My number is 4\n",
      "My number is 3\n",
      "My number is 2\n",
      "My number is 1\n",
      "The loop has terminated\n"
     ]
    }
   ],
   "source": [
    "num = 5\n",
    "\n",
    "while num > 0:\n",
    "    print('My number is ' + str(num))\n",
    "    num = num - 1\n",
    "print('The loop has terminated')"
   ],
   "metadata": {
    "collapsed": false,
    "pycharm": {
     "name": "#%%\n"
    }
   }
  },
  {
   "cell_type": "markdown",
   "source": [
    "What will print this code?"
   ],
   "metadata": {
    "collapsed": false,
    "pycharm": {
     "name": "#%% md\n"
    }
   }
  },
  {
   "cell_type": "code",
   "execution_count": null,
   "outputs": [],
   "source": [
    "num = 1\n",
    "while num > 0:\n",
    "    print(num)\n",
    "    num += 1"
   ],
   "metadata": {
    "collapsed": false,
    "pycharm": {
     "name": "#%%\n"
    }
   }
  },
  {
   "cell_type": "code",
   "execution_count": 2,
   "outputs": [
    {
     "name": "stdout",
     "output_type": "stream",
     "text": [
      "1\n"
     ]
    }
   ],
   "source": [
    "num = 1\n",
    "while num > 0:\n",
    "    print(num)\n",
    "    num -= 1"
   ],
   "metadata": {
    "collapsed": false,
    "pycharm": {
     "name": "#%%\n"
    }
   }
  },
  {
   "cell_type": "code",
   "execution_count": 3,
   "outputs": [],
   "source": [
    "num = 0\n",
    "while num > 0:\n",
    "    print(num)\n",
    "    num += 1"
   ],
   "metadata": {
    "collapsed": false,
    "pycharm": {
     "name": "#%%\n"
    }
   }
  },
  {
   "cell_type": "code",
   "execution_count": 4,
   "outputs": [],
   "source": [
    "num = 0.0\n",
    "while num > 0:\n",
    "    print(num)\n",
    "    num -= 1"
   ],
   "metadata": {
    "collapsed": false,
    "pycharm": {
     "name": "#%%\n"
    }
   }
  },
  {
   "cell_type": "markdown",
   "source": [
    "* while_loop_1.py\n",
    "\n",
    "\n",
    "### Infinite loop\n",
    "\n",
    "Using while loop brings with itself the danger of getting stuck in an infinite loop. Infinite loop never terminates and is caused by poor code design - when the test in the header can never evaluate to False."
   ],
   "metadata": {
    "collapsed": false
   }
  },
  {
   "cell_type": "markdown",
   "source": [
    "### Do while?\n",
    "\n",
    "Do some block of code at least once and then continue according to the condition."
   ],
   "metadata": {
    "collapsed": false,
    "pycharm": {
     "name": "#%% md\n"
    }
   }
  },
  {
   "cell_type": "code",
   "execution_count": 28,
   "outputs": [
    {
     "name": "stdout",
     "output_type": "stream",
     "text": [
      "1\n",
      "2\n",
      "3\n",
      "4\n",
      "5\n",
      "6\n",
      "7\n",
      "8\n"
     ]
    }
   ],
   "source": [
    "a = 1\n",
    "while True:\n",
    "  print(a)\n",
    "  a += 1\n",
    "  if a == 9:\n",
    "    a += 2\n",
    "\n",
    "  if a >= 10:\n",
    "    break"
   ],
   "metadata": {
    "collapsed": false,
    "pycharm": {
     "name": "#%%\n"
    }
   }
  },
  {
   "cell_type": "code",
   "execution_count": 5,
   "outputs": [
    {
     "name": "stdout",
     "output_type": "stream",
     "text": [
      "{'green': 2, 'red': 3, 'black': 2, 'grey': 1, 'blue': 2, 'yellow': 1}\n"
     ]
    }
   ],
   "source": [
    "# will this end?\n",
    "\n",
    "colors = ['green', 'blue', 'black', 'red', 'red', 'yellow', 'blue', 'grey', 'black' , 'red', 'green']\n",
    "color_counts = {}\n",
    "while colors:\n",
    "    color = colors.pop()\n",
    "    color_counts[color] = color_counts.get(color,0) + 1\n",
    "print(color_counts)"
   ],
   "metadata": {
    "collapsed": false,
    "pycharm": {
     "name": "#%%\n"
    }
   }
  },
  {
   "cell_type": "markdown",
   "source": [
    "Another way to write the same logic without pop function?"
   ],
   "metadata": {
    "collapsed": false,
    "pycharm": {
     "name": "#%% md\n"
    }
   }
  },
  {
   "cell_type": "code",
   "execution_count": 6,
   "outputs": [
    {
     "name": "stdout",
     "output_type": "stream",
     "text": [
      "{'green': 2, 'blue': 2, 'black': 2, 'red': 3, 'yellow': 1, 'grey': 1}\n"
     ]
    }
   ],
   "source": [
    "colors = ['green', 'blue', 'black', 'red', 'red', 'yellow', 'blue', 'grey', 'black' , 'red', 'green']\n",
    "color_counts = {}\n",
    "idx = 0\n",
    "while idx < len(colors):\n",
    "    color = colors[idx]\n",
    "    color_counts[color] = color_counts.get(color,0) + 1\n",
    "    idx += 1\n",
    "print(color_counts)"
   ],
   "metadata": {
    "collapsed": false,
    "pycharm": {
     "name": "#%%\n"
    }
   }
  },
  {
   "cell_type": "code",
   "execution_count": 7,
   "outputs": [
    {
     "name": "stdout",
     "output_type": "stream",
     "text": [
      "3\n",
      "2\n",
      "1\n",
      "After while statement\n"
     ]
    }
   ],
   "source": [
    "from time import sleep\n",
    "num_seconds = int(input('How many seconds to you need?: '))\n",
    "while num_seconds:\n",
    "    sleep(1)\n",
    "    print(num_seconds)\n",
    "    num_seconds = num_seconds - 1\n",
    "print(\"After while statement\")"
   ],
   "metadata": {
    "collapsed": false,
    "pycharm": {
     "name": "#%%\n"
    }
   }
  },
  {
   "cell_type": "markdown",
   "source": [
    "### There is always different way to write same algorithm"
   ],
   "metadata": {
    "collapsed": false,
    "pycharm": {
     "name": "#%% md\n"
    }
   }
  },
  {
   "cell_type": "code",
   "execution_count": 8,
   "outputs": [
    {
     "name": "stdout",
     "output_type": "stream",
     "text": [
      "I have found capital: O\n",
      "I have found capital: O\n",
      "I have found capital: E\n"
     ]
    }
   ],
   "source": [
    "my_str = 'while lOOps are more genEral'\n",
    "while my_str:\n",
    "    if my_str[0].isupper():\n",
    "        print('I have found capital:',my_str[0])\n",
    "    my_str = my_str[1:]"
   ],
   "metadata": {
    "collapsed": false,
    "pycharm": {
     "name": "#%%\n"
    }
   }
  },
  {
   "cell_type": "markdown",
   "source": [
    "### VS"
   ],
   "metadata": {
    "collapsed": false
   }
  },
  {
   "cell_type": "code",
   "execution_count": 9,
   "outputs": [
    {
     "name": "stdout",
     "output_type": "stream",
     "text": [
      "I have found capital: O\n",
      "I have found capital: O\n",
      "I have found capital: E\n"
     ]
    }
   ],
   "source": [
    "my_str = 'while lOOps are more genEral'\n",
    "index = 0\n",
    "while index < len(my_str):\n",
    "    if my_str[index].isupper():\n",
    "        print('I have found capital:',my_str[index])\n",
    "    index += 1"
   ],
   "metadata": {
    "collapsed": false,
    "pycharm": {
     "name": "#%%\n"
    }
   }
  },
  {
   "cell_type": "markdown",
   "source": [
    "* while_loop_2.py\n",
    "* Task 1 + git_comments.py\n",
    "\n",
    "# Bonus\n",
    "\n",
    "## Making a copy of list?\n",
    "* preserving a state of database in some point in time\n",
    "* compare dictionary after some calculation\n",
    "\n",
    "It should be easy, right?"
   ],
   "metadata": {
    "collapsed": false,
    "pycharm": {
     "name": "#%% md\n"
    }
   }
  },
  {
   "cell_type": "code",
   "execution_count": 10,
   "outputs": [],
   "source": [
    "a = {\"a\": [1,2,3], \"b\": 1}"
   ],
   "metadata": {
    "collapsed": false,
    "pycharm": {
     "name": "#%%\n"
    }
   }
  },
  {
   "cell_type": "code",
   "execution_count": 11,
   "outputs": [
    {
     "name": "stdout",
     "output_type": "stream",
     "text": [
      "{'a': [1, 2, 3], 'b': 1}\n",
      "{'a': [1, 2, 3], 'b': 1}\n"
     ]
    }
   ],
   "source": [
    "b = a\n",
    "\n",
    "print(a)\n",
    "print(b)"
   ],
   "metadata": {
    "collapsed": false,
    "pycharm": {
     "name": "#%%\n"
    }
   }
  },
  {
   "cell_type": "code",
   "execution_count": 12,
   "outputs": [],
   "source": [
    "a[\"a\"].append(4)\n",
    "a[\"b\"] = 2"
   ],
   "metadata": {
    "collapsed": false,
    "pycharm": {
     "name": "#%%\n"
    }
   }
  },
  {
   "cell_type": "code",
   "execution_count": 13,
   "outputs": [
    {
     "data": {
      "text/plain": "{'a': [1, 2, 3, 4], 'b': 2}"
     },
     "execution_count": 13,
     "metadata": {},
     "output_type": "execute_result"
    }
   ],
   "source": [
    "a"
   ],
   "metadata": {
    "collapsed": false,
    "pycharm": {
     "name": "#%%\n"
    }
   }
  },
  {
   "cell_type": "code",
   "execution_count": 14,
   "outputs": [
    {
     "data": {
      "text/plain": "{'a': [1, 2, 3, 4], 'b': 2}"
     },
     "execution_count": 14,
     "metadata": {},
     "output_type": "execute_result"
    }
   ],
   "source": [
    "b"
   ],
   "metadata": {
    "collapsed": false,
    "pycharm": {
     "name": "#%%\n"
    }
   }
  },
  {
   "cell_type": "code",
   "execution_count": 15,
   "outputs": [],
   "source": [
    "b = a.copy()"
   ],
   "metadata": {
    "collapsed": false,
    "pycharm": {
     "name": "#%%\n"
    }
   }
  },
  {
   "cell_type": "code",
   "execution_count": 16,
   "outputs": [],
   "source": [
    "a[\"a\"].append(5)\n",
    "a[\"b\"] = 3"
   ],
   "metadata": {
    "collapsed": false,
    "pycharm": {
     "name": "#%%\n"
    }
   }
  },
  {
   "cell_type": "code",
   "execution_count": 17,
   "outputs": [
    {
     "data": {
      "text/plain": "{'a': [1, 2, 3, 4, 5], 'b': 3}"
     },
     "execution_count": 17,
     "metadata": {},
     "output_type": "execute_result"
    }
   ],
   "source": [
    "a"
   ],
   "metadata": {
    "collapsed": false,
    "pycharm": {
     "name": "#%%\n"
    }
   }
  },
  {
   "cell_type": "code",
   "execution_count": 18,
   "outputs": [
    {
     "data": {
      "text/plain": "{'a': [1, 2, 3, 4, 5], 'b': 2}"
     },
     "execution_count": 18,
     "metadata": {},
     "output_type": "execute_result"
    }
   ],
   "source": [
    "b"
   ],
   "metadata": {
    "collapsed": false,
    "pycharm": {
     "name": "#%%\n"
    }
   }
  },
  {
   "cell_type": "code",
   "execution_count": 19,
   "outputs": [],
   "source": [
    "b = a.copy()\n",
    "b[\"a\"] = a[\"a\"]"
   ],
   "metadata": {
    "collapsed": false,
    "pycharm": {
     "name": "#%%\n"
    }
   }
  },
  {
   "cell_type": "code",
   "execution_count": 20,
   "outputs": [],
   "source": [
    "a[\"a\"].append(6)\n",
    "a[\"b\"] = 4"
   ],
   "metadata": {
    "collapsed": false,
    "pycharm": {
     "name": "#%%\n"
    }
   }
  },
  {
   "cell_type": "code",
   "execution_count": 21,
   "outputs": [
    {
     "data": {
      "text/plain": "{'a': [1, 2, 3, 4, 5, 6], 'b': 3}"
     },
     "execution_count": 21,
     "metadata": {},
     "output_type": "execute_result"
    }
   ],
   "source": [
    "b\n"
   ],
   "metadata": {
    "collapsed": false,
    "pycharm": {
     "name": "#%%\n"
    }
   }
  },
  {
   "cell_type": "code",
   "execution_count": 22,
   "outputs": [],
   "source": [
    "a = b\n",
    "b[\"a\"] = a[\"a\"].copy()"
   ],
   "metadata": {
    "collapsed": false,
    "pycharm": {
     "name": "#%%\n"
    }
   }
  },
  {
   "cell_type": "code",
   "execution_count": 23,
   "outputs": [],
   "source": [
    "a[\"a\"].append(7)\n",
    "a[\"b\"] =  5"
   ],
   "metadata": {
    "collapsed": false,
    "pycharm": {
     "name": "#%%\n"
    }
   }
  },
  {
   "cell_type": "code",
   "execution_count": 24,
   "outputs": [
    {
     "data": {
      "text/plain": "{'a': [1, 2, 3, 4, 5, 6, 7], 'b': 5}"
     },
     "execution_count": 24,
     "metadata": {},
     "output_type": "execute_result"
    }
   ],
   "source": [
    "b"
   ],
   "metadata": {
    "collapsed": false,
    "pycharm": {
     "name": "#%%\n"
    }
   }
  },
  {
   "cell_type": "code",
   "execution_count": 25,
   "outputs": [],
   "source": [
    "a = b.copy()\n",
    "b[\"a\"] = a[\"a\"].copy()"
   ],
   "metadata": {
    "collapsed": false,
    "pycharm": {
     "name": "#%%\n"
    }
   }
  },
  {
   "cell_type": "code",
   "execution_count": 26,
   "outputs": [],
   "source": [
    "a[\"a\"].append(8)\n",
    "a[\"b\"] = 6"
   ],
   "metadata": {
    "collapsed": false,
    "pycharm": {
     "name": "#%%\n"
    }
   }
  },
  {
   "cell_type": "code",
   "execution_count": 27,
   "outputs": [
    {
     "name": "stdout",
     "output_type": "stream",
     "text": [
      "{'a': [1, 2, 3, 4, 5, 6, 7, 8], 'b': 6}\n",
      "{'a': [1, 2, 3, 4, 5, 6, 7], 'b': 5}\n"
     ]
    }
   ],
   "source": [
    "print(a)\n",
    "print(b)"
   ],
   "metadata": {
    "collapsed": false,
    "pycharm": {
     "name": "#%%\n"
    }
   }
  },
  {
   "cell_type": "markdown",
   "source": [
    "# Finally!!!\n",
    "\n",
    "### Are you curios why this is happening?\n",
    "\n",
    "* b = a\n",
    "* a = b\n",
    "\n",
    "![](https://i.stack.imgur.com/4AQC6.png)\n",
    "\n",
    "* b = a.copy()\n",
    "* the copy of immutable variables (like numbers) is created\n",
    "\n",
    "![](https://i.stack.imgur.com/Vtk4m.png)\n",
    "\n",
    "\n",
    "* b = copy.deepcopy(a)\n",
    "* b = a.copy(); b[1] = a[1].copy()\n",
    "\n",
    "\n",
    "![](https://i.stack.imgur.com/BO4qO.png)"
   ],
   "metadata": {
    "collapsed": false
   }
  },
  {
   "cell_type": "code",
   "execution_count": 27,
   "outputs": [],
   "source": [],
   "metadata": {
    "collapsed": false,
    "pycharm": {
     "name": "#%%\n"
    }
   }
  },
  {
   "cell_type": "code",
   "execution_count": null,
   "outputs": [],
   "source": [],
   "metadata": {
    "collapsed": false,
    "pycharm": {
     "name": "#%%\n"
    }
   }
  }
 ],
 "metadata": {
  "kernelspec": {
   "display_name": "Python 3",
   "language": "python",
   "name": "python3"
  },
  "language_info": {
   "codemirror_mode": {
    "name": "ipython",
    "version": 2
   },
   "file_extension": ".py",
   "mimetype": "text/x-python",
   "name": "python",
   "nbconvert_exporter": "python",
   "pygments_lexer": "ipython2",
   "version": "2.7.6"
  }
 },
 "nbformat": 4,
 "nbformat_minor": 0
}